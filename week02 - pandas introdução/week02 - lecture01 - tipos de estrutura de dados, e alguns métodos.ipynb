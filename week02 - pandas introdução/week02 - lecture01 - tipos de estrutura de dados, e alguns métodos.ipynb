{
 "cells": [
  {
   "cell_type": "markdown",
   "metadata": {},
   "source": [
    "### Existem diversos objetos python (classes) para manipularem diferentes tipos de dados\n",
    "\n",
    "### Já aprendemos listas e suas operações, vamos rever, aqui"
   ]
  },
  {
   "cell_type": "code",
   "execution_count": 1,
   "metadata": {},
   "outputs": [],
   "source": [
    "import os, sys\n",
    "import pandas as pd # pandas e seu alias pd\n",
    "import numpy as np  # numpy  e seu alias np\n",
    "\n",
    "import matplotlib.pyplot as plt # matplotlib e seu alias plt\n",
    "%matplotlib inline"
   ]
  },
  {
   "cell_type": "markdown",
   "metadata": {},
   "source": [
    "### Lista e arrays apesar de serem muito similares, se comportam de modo diferente\n",
    "\n",
    "  - lista pode contem objetos diferentes\n",
    "  - numpy arrays somente dados de mesmo tipo"
   ]
  },
  {
   "cell_type": "code",
   "execution_count": 2,
   "metadata": {},
   "outputs": [
    {
     "data": {
      "text/plain": [
       "8"
      ]
     },
     "execution_count": 2,
     "metadata": {},
     "output_type": "execute_result"
    }
   ],
   "source": [
    "lista = ['a', 'casa', 1, 3, 8, 2.345, True, False]\n",
    "len(lista)"
   ]
  },
  {
   "cell_type": "markdown",
   "metadata": {},
   "source": [
    "### se você trasnformar uma lista heterogênea qto a tipo de dados o np.array faz uma coerção para \\<string>\n",
    "\n",
    "coerção: mudança \"forçando a barra\" (giria em português == forçar, impor)"
   ]
  },
  {
   "cell_type": "code",
   "execution_count": 3,
   "metadata": {},
   "outputs": [
    {
     "data": {
      "text/plain": [
       "array(['a', 'casa', '1', '3', '8', '2.345', 'True', 'False'], dtype='<U5')"
      ]
     },
     "execution_count": 3,
     "metadata": {},
     "output_type": "execute_result"
    }
   ],
   "source": [
    "np.array(lista)"
   ]
  },
  {
   "cell_type": "code",
   "execution_count": 4,
   "metadata": {},
   "outputs": [
    {
     "data": {
      "text/plain": [
       "array(['aaaa', 'bbbb', 'cccc'], dtype='<U4')"
      ]
     },
     "execution_count": 4,
     "metadata": {},
     "output_type": "execute_result"
    }
   ],
   "source": [
    "### numpy.array de string\n",
    "np.array(['aaaa', 'bbbb', 'cccc'])"
   ]
  },
  {
   "cell_type": "code",
   "execution_count": 5,
   "metadata": {},
   "outputs": [
    {
     "data": {
      "text/plain": [
       "array([   4, 4500,  184])"
      ]
     },
     "execution_count": 5,
     "metadata": {},
     "output_type": "execute_result"
    }
   ],
   "source": [
    "### numpy.array de inteiros\n",
    "np.array([4, 4500, 8*23])"
   ]
  },
  {
   "cell_type": "code",
   "execution_count": 6,
   "metadata": {},
   "outputs": [
    {
     "data": {
      "text/plain": [
       "array([3.5       , 1.33333333, 1.4       ])"
      ]
     },
     "execution_count": 6,
     "metadata": {},
     "output_type": "execute_result"
    }
   ],
   "source": [
    "### numpy.array de floats\n",
    "np.array([3.5, 4/3,  7/5])"
   ]
  },
  {
   "cell_type": "code",
   "execution_count": 7,
   "metadata": {},
   "outputs": [
    {
     "data": {
      "text/plain": [
       "array([ True, False,  True, False])"
      ]
     },
     "execution_count": 7,
     "metadata": {},
     "output_type": "execute_result"
    }
   ],
   "source": [
    "### numpy.array de lógicos \n",
    "np.array([True, False, 3==3, 5==9])"
   ]
  },
  {
   "cell_type": "markdown",
   "metadata": {},
   "source": [
    "### Adição e multiplicação de listas e np.arrays são diferentes"
   ]
  },
  {
   "cell_type": "code",
   "execution_count": 8,
   "metadata": {},
   "outputs": [
    {
     "data": {
      "text/plain": [
       "(list, [1, 2, 3, 4, 5])"
      ]
     },
     "execution_count": 8,
     "metadata": {},
     "output_type": "execute_result"
    }
   ],
   "source": [
    "l1 = [1, 2, 3, 4, 5]\n",
    "type(l1), l1"
   ]
  },
  {
   "cell_type": "code",
   "execution_count": 11,
   "metadata": {},
   "outputs": [
    {
     "data": {
      "text/plain": [
       "([1, 2, 3, 4, 5, 4, 5, 6, 7, 8], 10, list)"
      ]
     },
     "execution_count": 11,
     "metadata": {},
     "output_type": "execute_result"
    }
   ],
   "source": [
    "# lista --> adição == concatenação\n",
    "l2 = [4, 5, 6, 7, 8]\n",
    "l1 + l2, len(l1 + l2), type(l1+l2)"
   ]
  },
  {
   "cell_type": "code",
   "execution_count": 12,
   "metadata": {},
   "outputs": [
    {
     "data": {
      "text/plain": [
       "(array([ 5,  7,  9, 11, 13]), 5, numpy.ndarray)"
      ]
     },
     "execution_count": 12,
     "metadata": {},
     "output_type": "execute_result"
    }
   ],
   "source": [
    "arr1 = np.array(l1)\n",
    "arr2 = np.array(l2)\n",
    "\n",
    "# como o numpy.array sabe que os dados são homogêneo: soma 1 a 1, e a dimensão fica a mesma\n",
    "arr1 + arr2, len(arr1 + arr2), type(arr1 + arr2)"
   ]
  },
  {
   "cell_type": "markdown",
   "metadata": {},
   "source": [
    "### Multiplicação"
   ]
  },
  {
   "cell_type": "code",
   "execution_count": 13,
   "metadata": {},
   "outputs": [
    {
     "data": {
      "text/plain": [
       "[1, 2, 3, 4, 5, 1, 2, 3, 4, 5, 1, 2, 3, 4, 5]"
      ]
     },
     "execution_count": 13,
     "metadata": {},
     "output_type": "execute_result"
    }
   ],
   "source": [
    "# lista: concatena n vezes\n",
    "l1 * 3"
   ]
  },
  {
   "cell_type": "code",
   "execution_count": 14,
   "metadata": {},
   "outputs": [
    {
     "data": {
      "text/plain": [
       "array([ 3,  6,  9, 12, 15])"
      ]
     },
     "execution_count": 14,
     "metadata": {},
     "output_type": "execute_result"
    }
   ],
   "source": [
    "# multipla elemento por elemento\n",
    "arr1 * 3"
   ]
  },
  {
   "cell_type": "markdown",
   "metadata": {},
   "source": [
    "### Como ordenar listas ou arrays?"
   ]
  },
  {
   "cell_type": "code",
   "execution_count": 15,
   "metadata": {},
   "outputs": [
    {
     "name": "stdout",
     "output_type": "stream",
     "text": [
      "<class 'list'> 10\n"
     ]
    }
   ],
   "source": [
    "# lorg = lista organizada, inicialmente desorganizada\n",
    "lorg = [1, 3, 0, 9, -8, 40, 32, 7, 122, 98]\n",
    "print(type(lorg), len(lorg))\n",
    "#-- nada aconteceu?\n",
    "lorg.sort()"
   ]
  },
  {
   "cell_type": "code",
   "execution_count": 16,
   "metadata": {},
   "outputs": [
    {
     "data": {
      "text/plain": [
       "[-8, 0, 1, 3, 7, 9, 32, 40, 98, 122]"
      ]
     },
     "execution_count": 16,
     "metadata": {},
     "output_type": "execute_result"
    }
   ],
   "source": [
    "# aha .... o python organiza a lista sem retornar um objeto\n",
    "lorg"
   ]
  },
  {
   "cell_type": "markdown",
   "metadata": {},
   "source": [
    "### Escreva 'lorg.'' e dê um \\<tab>\n",
    "\n",
    "<objeto instanciado>.method  \n",
    "este ponto separa o objeto (dentro de um classe) do seus possívei métodos (funções)\n",
    "\n",
    "lorg.\\<tab>\n",
    "    "
   ]
  },
  {
   "cell_type": "code",
   "execution_count": null,
   "metadata": {},
   "outputs": [],
   "source": [
    "lorg."
   ]
  },
  {
   "cell_type": "code",
   "execution_count": 17,
   "metadata": {},
   "outputs": [
    {
     "data": {
      "text/plain": [
       "[122, 98, 40, 32, 9, 7, 3, 1, 0, -8]"
      ]
     },
     "execution_count": 17,
     "metadata": {},
     "output_type": "execute_result"
    }
   ],
   "source": [
    "lorg.reverse()\n",
    "lorg"
   ]
  },
  {
   "cell_type": "code",
   "execution_count": 18,
   "metadata": {},
   "outputs": [
    {
     "data": {
      "text/plain": [
       "list"
      ]
     },
     "execution_count": 18,
     "metadata": {},
     "output_type": "execute_result"
    }
   ],
   "source": [
    "type(lorg)"
   ]
  },
  {
   "cell_type": "markdown",
   "metadata": {},
   "source": [
    "### lorg é da classe list e para acessar seus métodos escreve-se \\<objeto>.metodo()"
   ]
  },
  {
   "cell_type": "code",
   "execution_count": 19,
   "metadata": {},
   "outputs": [
    {
     "data": {
      "text/plain": [
       "[122, 98, 40, 32, 9, 7, 1, 0, -8]"
      ]
     },
     "execution_count": 19,
     "metadata": {},
     "output_type": "execute_result"
    }
   ],
   "source": [
    "lorg.remove(3)\n",
    "lorg"
   ]
  },
  {
   "cell_type": "code",
   "execution_count": 22,
   "metadata": {},
   "outputs": [
    {
     "data": {
      "text/plain": [
       "[122, 98, 40, 32, 9, 7, 1, 0, -8]"
      ]
     },
     "execution_count": 22,
     "metadata": {},
     "output_type": "execute_result"
    }
   ],
   "source": [
    "# deu erro??? porque?\n",
    "try:\n",
    "    lorg.remove(3)\n",
    "except:\n",
    "    pass\n",
    "\n",
    "lorg"
   ]
  },
  {
   "cell_type": "markdown",
   "metadata": {},
   "source": [
    "### Ordenando um np.array"
   ]
  },
  {
   "cell_type": "code",
   "execution_count": 23,
   "metadata": {},
   "outputs": [
    {
     "data": {
      "text/plain": [
       "(numpy.ndarray, array([  1,   3,   0,   9,  -8,  40,  32,   7, 122,  98]))"
      ]
     },
     "execution_count": 23,
     "metadata": {},
     "output_type": "execute_result"
    }
   ],
   "source": [
    "arr = np.array([1, 3, 0, 9, -8, 40, 32, 7, 122, 98])\n",
    "type(arr), arr"
   ]
  },
  {
   "cell_type": "code",
   "execution_count": 24,
   "metadata": {},
   "outputs": [],
   "source": [
    "arr.sort()"
   ]
  },
  {
   "cell_type": "code",
   "execution_count": 25,
   "metadata": {},
   "outputs": [
    {
     "data": {
      "text/plain": [
       "array([ -8,   0,   1,   3,   7,   9,  32,  40,  98, 122])"
      ]
     },
     "execution_count": 25,
     "metadata": {},
     "output_type": "execute_result"
    }
   ],
   "source": [
    "arr"
   ]
  },
  {
   "cell_type": "markdown",
   "metadata": {},
   "source": [
    "### Posso ordenar uma lista com um operador Numpy e se transformará em objeto numpy"
   ]
  },
  {
   "cell_type": "code",
   "execution_count": 26,
   "metadata": {},
   "outputs": [
    {
     "name": "stdout",
     "output_type": "stream",
     "text": [
      "<class 'list'>\n"
     ]
    },
    {
     "data": {
      "text/plain": [
       "(numpy.ndarray, array([ -8,   0,   1,   3,   7,   9,  32,  40,  98, 122]))"
      ]
     },
     "execution_count": 26,
     "metadata": {},
     "output_type": "execute_result"
    }
   ],
   "source": [
    "lorg = [1, 3, 0, 9, -8, 40, 32, 7, 122, 98]\n",
    "print(type(lorg))\n",
    "\n",
    "#-- aqui uso o operador (método) numpy.sort()\n",
    "# obj2 = np.sort(obj1)\n",
    "lorg = np.sort(lorg)\n",
    "type(lorg), lorg"
   ]
  },
  {
   "cell_type": "markdown",
   "metadata": {},
   "source": [
    "### Porque usar numpy?"
   ]
  },
  {
   "cell_type": "code",
   "execution_count": 33,
   "metadata": {},
   "outputs": [
    {
     "data": {
      "text/plain": [
       "(5000000,\n",
       " numpy.ndarray,\n",
       " array([0., 1., 2., 3., 4.]),\n",
       " array([4999994., 4999995., 4999996., 4999997., 4999998.]))"
      ]
     },
     "execution_count": 33,
     "metadata": {},
     "output_type": "execute_result"
    }
   ],
   "source": [
    "# arange do numpy ele cria sequências de inteiros\n",
    "a = np.arange(0, 5e6, 1)\n",
    "len(a), type(a), a[:5], a[-6:-1]"
   ]
  },
  {
   "cell_type": "code",
   "execution_count": null,
   "metadata": {},
   "outputs": [],
   "source": [
    "# coerção de a para lista\n",
    "b = list(a)\n",
    "len(b), type(b)"
   ]
  },
  {
   "cell_type": "markdown",
   "metadata": {},
   "source": [
    "### Usando datetime, time .... aqui só time"
   ]
  },
  {
   "cell_type": "code",
   "execution_count": 34,
   "metadata": {},
   "outputs": [
    {
     "name": "stdout",
     "output_type": "stream",
     "text": [
      "Seconds since epoch = 1600466844.360878\n"
     ]
    }
   ],
   "source": [
    "import time\n",
    "\n",
    "seconds = time.time()\n",
    "print(\"Seconds since epoch =\", seconds)"
   ]
  },
  {
   "cell_type": "code",
   "execution_count": 55,
   "metadata": {},
   "outputs": [
    {
     "name": "stdout",
     "output_type": "stream",
     "text": [
      "Seconds for the above loop 0.08011 ms\n"
     ]
    }
   ],
   "source": [
    "tini = time.time()\n",
    "for i in range(1000):\n",
    "    pass\n",
    "\n",
    "tend = time.time()\n",
    "\n",
    "print(\"Seconds for the above loop %.5f ms\"%( (tend-tini)*1000) )"
   ]
  },
  {
   "cell_type": "code",
   "execution_count": 65,
   "metadata": {},
   "outputs": [
    {
     "name": "stdout",
     "output_type": "stream",
     "text": [
      "Seconds for the above loop 0.64754 ms\n"
     ]
    }
   ],
   "source": [
    "tini = time.time()\n",
    "a = 3\n",
    "\n",
    "# fazer uma operação de soma\n",
    "# se não uso o indexador do loop --> '_'\n",
    "for _ in range(1000):\n",
    "    a = a + 3\n",
    "\n",
    "tend = time.time()\n",
    "\n",
    "print(\"Seconds for the above loop %.5f ms\"%( (tend-tini)*1000) )"
   ]
  },
  {
   "cell_type": "code",
   "execution_count": 78,
   "metadata": {},
   "outputs": [
    {
     "name": "stdout",
     "output_type": "stream",
     "text": [
      "Seconds for the above loop 0.13804 ms\n"
     ]
    }
   ],
   "source": [
    "tini = time.time()\n",
    "a = 3\n",
    "\n",
    "for _ in range(1000):\n",
    "    a += 3\n",
    "\n",
    "tend = time.time()\n",
    "\n",
    "print(\"Seconds for the above loop %.5f ms\"%( (tend-tini)*1000) )"
   ]
  },
  {
   "cell_type": "markdown",
   "metadata": {},
   "source": [
    "### Ganhando em complexidade demora mais tempo ..."
   ]
  },
  {
   "cell_type": "code",
   "execution_count": 172,
   "metadata": {},
   "outputs": [
    {
     "name": "stdout",
     "output_type": "stream",
     "text": [
      "2.925068320419852e+79 182.97754018434915\n",
      "1.462534160209926e+80 184.58697809678324\n",
      "7.31267080104963e+80 186.19641600921736\n",
      "3.656335400524815e+81 187.80585392165145\n",
      "1.8281677002624075e+82 189.41529183408554\n",
      "9.140838501312037e+82 191.02472974651965\n",
      "4.5704192506560187e+83 192.63416765895374\n",
      "2.2852096253280095e+84 194.24360557138786\n",
      "1.1426048126640047e+85 195.85304348382195\n",
      "Seconds for the above loop 2.69437 ms\n"
     ]
    }
   ],
   "source": [
    "import math\n",
    "\n",
    "tini = time.time()\n",
    "a = 3\n",
    "\n",
    "for i in range(1000):\n",
    "    if i > 990: print(a, math.log(a))\n",
    "    a = (a*50 + math.log(a)) /10\n",
    "    if a == math.inf: a = 3\n",
    "\n",
    "tend = time.time()\n",
    "\n",
    "print(\"Seconds for the above loop %.5f ms\"%( (tend-tini)*1000) )"
   ]
  },
  {
   "cell_type": "code",
   "execution_count": null,
   "metadata": {},
   "outputs": [],
   "source": []
  },
  {
   "cell_type": "code",
   "execution_count": 89,
   "metadata": {},
   "outputs": [
    {
     "data": {
      "text/plain": [
       "[4.544734954833984,\n",
       " 1.6782283782958984,\n",
       " 0.9789466857910156,\n",
       " 0.9698867797851562,\n",
       " 1.028299331665039,\n",
       " 1.4674663543701172,\n",
       " 0.9710788726806641,\n",
       " 0.9653568267822266,\n",
       " 1.44195556640625,\n",
       " 1.0595321655273438]"
      ]
     },
     "execution_count": 89,
     "metadata": {},
     "output_type": "execute_result"
    }
   ],
   "source": [
    "# estatistica - rodo 10 vezes\n",
    "nLoop = 10\n",
    "# armazenar os tempos ...\n",
    "tempos = []\n",
    "\n",
    "for _ in range(nLoop):\n",
    "    tini = time.time()\n",
    "    a = 3\n",
    "\n",
    "    for _ in range(1000):\n",
    "        a = (a*5 + math.log(a)) /2\n",
    "\n",
    "    tend = time.time()\n",
    "    delta = tend-tini\n",
    "    \n",
    "    tempos.append(delta*1000)\n",
    "\n",
    "tempos"
   ]
  },
  {
   "cell_type": "code",
   "execution_count": 90,
   "metadata": {},
   "outputs": [
    {
     "data": {
      "text/plain": [
       "(1.5105485916137695, 1.0411590687468109, 10)"
      ]
     },
     "execution_count": 90,
     "metadata": {},
     "output_type": "execute_result"
    }
   ],
   "source": [
    "np.mean(tempos), np.std(tempos), len(tempos)"
   ]
  },
  {
   "cell_type": "code",
   "execution_count": 93,
   "metadata": {},
   "outputs": [
    {
     "name": "stdout",
     "output_type": "stream",
     "text": [
      "Media de 10 loops (de 1000 contas complexas) é 1.511 ms (ssd = 1.041)\n"
     ]
    }
   ],
   "source": [
    "# standard deviaton = populacional\n",
    "# sample standard deviation = amostral\n",
    "\n",
    "print(\"Media de %d loops (de 1000 contas complexas) é %.3f ms (ssd = %.3f)\"%( len(tempos), np.mean(tempos), np.std(tempos)) )"
   ]
  },
  {
   "cell_type": "code",
   "execution_count": 94,
   "metadata": {},
   "outputs": [
    {
     "data": {
      "text/plain": [
       "'1.511 (1.041) ms'"
      ]
     },
     "execution_count": 94,
     "metadata": {},
     "output_type": "execute_result"
    }
   ],
   "source": [
    "\"%.3f (%.3f) ms\"%(np.mean(tempos), np.std(tempos))"
   ]
  },
  {
   "cell_type": "code",
   "execution_count": 95,
   "metadata": {},
   "outputs": [
    {
     "data": {
      "text/plain": [
       "'1.51 (1.04) ms'"
      ]
     },
     "execution_count": 95,
     "metadata": {},
     "output_type": "execute_result"
    }
   ],
   "source": [
    "\"%.2f (%.2f) ms\"%(np.mean(tempos), np.std(tempos))"
   ]
  },
  {
   "cell_type": "code",
   "execution_count": 96,
   "metadata": {},
   "outputs": [
    {
     "data": {
      "text/plain": [
       "'1.51055 (1.04116) ms'"
      ]
     },
     "execution_count": 96,
     "metadata": {},
     "output_type": "execute_result"
    }
   ],
   "source": [
    "\"%.5f (%.5f) ms\"%(np.mean(tempos), np.std(tempos))"
   ]
  },
  {
   "cell_type": "markdown",
   "metadata": {},
   "source": [
    "### Vamos embaralhar os dados  / sortear os dados"
   ]
  },
  {
   "cell_type": "code",
   "execution_count": 109,
   "metadata": {},
   "outputs": [
    {
     "data": {
      "text/plain": [
       "array([5, 3, 1, 7, 2, 4, 0, 6])"
      ]
     },
     "execution_count": 109,
     "metadata": {},
     "output_type": "execute_result"
    }
   ],
   "source": [
    "a = np.arange(0, 8, 1)\n",
    "# numpy random --> method shuffle\n",
    "np.random.shuffle(a)\n",
    "a"
   ]
  },
  {
   "cell_type": "markdown",
   "metadata": {},
   "source": [
    "### Vamos medir o tempo do sort de uma lista e do numpy\n",
    "\n",
    "100 milhoẽs de inteiros !!\n",
    "\n",
    "não é muito trivial criar e embaralhar 100 milhões de inteiros, pode tomar alguns segundos\n",
    "\n",
    "reduzindo para 1 milhão "
   ]
  },
  {
   "cell_type": "code",
   "execution_count": 110,
   "metadata": {},
   "outputs": [
    {
     "data": {
      "text/plain": [
       "(1000000, numpy.ndarray)"
      ]
     },
     "execution_count": 110,
     "metadata": {},
     "output_type": "execute_result"
    }
   ],
   "source": [
    "a = np.arange(0, 1e6, 1)\n",
    "len(a), type(a)"
   ]
  },
  {
   "cell_type": "markdown",
   "metadata": {},
   "source": [
    "### Experimento com numpy.array embaralhar + odernar len de 1 Milhão de inteiros"
   ]
  },
  {
   "cell_type": "code",
   "execution_count": 121,
   "metadata": {},
   "outputs": [],
   "source": [
    "tempos = []\n",
    "\n",
    "for i in range(12):\n",
    "    tini = time.time()\n",
    "    # usando o numpy para embaralhar os numeros\n",
    "    np.random.shuffle(a)\n",
    "    # lista --> a função de ordernar (sort)\n",
    "    a.sort()\n",
    "    tend = time.time()\n",
    "\n",
    "    delta = (tend-tini)*1000\n",
    "    # print(\"Loop %d) segundos para organizar  %d números inteiros em %s = %.5f ms\"%(i, len(a), type(a), delta) )\n",
    "    \n",
    "    tempos.append(delta)"
   ]
  },
  {
   "cell_type": "code",
   "execution_count": 122,
   "metadata": {},
   "outputs": [
    {
     "data": {
      "text/plain": [
       "(95.56152423222859, 9.282602899985989)"
      ]
     },
     "execution_count": 122,
     "metadata": {},
     "output_type": "execute_result"
    }
   ],
   "source": [
    "mu_np = np.mean(tempos)\n",
    "ssd_np = np.std(tempos)\n",
    "\n",
    "mu_np, ssd_np"
   ]
  },
  {
   "cell_type": "markdown",
   "metadata": {},
   "source": [
    "### Agora uma lista, vamos fazer uma coerção de array para lista"
   ]
  },
  {
   "cell_type": "code",
   "execution_count": 124,
   "metadata": {},
   "outputs": [],
   "source": [
    "tempos = []\n",
    "\n",
    "for i in range(12):\n",
    "    tini = time.time()\n",
    "    np.random.shuffle(a)\n",
    "    alist = list(a)\n",
    "    # sort de numpy, sort de LISTA !!!\n",
    "    alist.sort()\n",
    "    tend = time.time()\n",
    "\n",
    "    delta = (tend-tini)*1000\n",
    "    # print(\"Loop %d) segundos para organizar  %d números inteiros em %s = %.5f ms\"%(i, len(alist), type(alist), delta) )\n",
    "    \n",
    "    tempos.append(delta)"
   ]
  },
  {
   "cell_type": "code",
   "execution_count": 125,
   "metadata": {},
   "outputs": [
    {
     "data": {
      "text/plain": [
       "(927.8688828150431, 54.56600793729523)"
      ]
     },
     "execution_count": 125,
     "metadata": {},
     "output_type": "execute_result"
    }
   ],
   "source": [
    "mu_lista = np.mean(tempos)\n",
    "ssd_lista = np.std(tempos)\n",
    "\n",
    "mu_lista, ssd_lista"
   ]
  },
  {
   "cell_type": "markdown",
   "metadata": {},
   "source": [
    "### O numpy está otimizado em linguagem C e é muito mais rápido\n",
    "### Sempre trabalhe com o numpy, vermos nas próximas aulas ..."
   ]
  },
  {
   "cell_type": "code",
   "execution_count": 126,
   "metadata": {},
   "outputs": [
    {
     "data": {
      "text/plain": [
       "array([-3,  0,  1,  2,  3,  4, 19])"
      ]
     },
     "execution_count": 126,
     "metadata": {},
     "output_type": "execute_result"
    }
   ],
   "source": [
    "x = [1,2,3,4, 19, -3, 0]\n",
    "np.sort(x)"
   ]
  },
  {
   "cell_type": "markdown",
   "metadata": {},
   "source": [
    "## Outros tipos de estrutura de dados\n",
    "\n",
    "### Tuples\n",
    "\n",
    "são listas fixas, repare que o próprio eco do Notebook é uma tuple"
   ]
  },
  {
   "cell_type": "code",
   "execution_count": 127,
   "metadata": {},
   "outputs": [
    {
     "data": {
      "text/plain": [
       "(tuple, 3, (2, 3, 5))"
      ]
     },
     "execution_count": 127,
     "metadata": {},
     "output_type": "execute_result"
    }
   ],
   "source": [
    "tup = (2, 3, 5)\n",
    "type(tup), len(tup), tup"
   ]
  },
  {
   "cell_type": "code",
   "execution_count": 128,
   "metadata": {},
   "outputs": [
    {
     "data": {
      "text/plain": [
       "(927.8688828150431, 54.56600793729523)"
      ]
     },
     "execution_count": 128,
     "metadata": {},
     "output_type": "execute_result"
    }
   ],
   "source": [
    "mu_lista, ssd_lista"
   ]
  },
  {
   "cell_type": "markdown",
   "metadata": {},
   "source": [
    "### Sets\n",
    "\n",
    "são listas com dados que nunca sem repetem"
   ]
  },
  {
   "cell_type": "code",
   "execution_count": 130,
   "metadata": {},
   "outputs": [
    {
     "data": {
      "text/plain": [
       "([1, 2, 3, 4, 5], [4, 5, 6, 7, 8], [1, 2, 3, 4, 5, 4, 5, 6, 7, 8])"
      ]
     },
     "execution_count": 130,
     "metadata": {},
     "output_type": "execute_result"
    }
   ],
   "source": [
    "l1, l2, l1+l2"
   ]
  },
  {
   "cell_type": "code",
   "execution_count": 131,
   "metadata": {},
   "outputs": [
    {
     "data": {
      "text/plain": [
       "(set, {1, 2, 3, 4, 5, 6, 7, 8})"
      ]
     },
     "execution_count": 131,
     "metadata": {},
     "output_type": "execute_result"
    }
   ],
   "source": [
    "lset = set(l1 + l2)\n",
    "type(lset), lset"
   ]
  },
  {
   "cell_type": "markdown",
   "metadata": {},
   "source": [
    "### Diferença, União e Intersecção\n",
    "\n",
    "Operações utilizadas para se construir um diagrama de Venn"
   ]
  },
  {
   "cell_type": "code",
   "execution_count": 132,
   "metadata": {},
   "outputs": [],
   "source": [
    "a = set([\"a\", \"b\", \"c\", \"a\"])\n",
    "b = set([\"a\", \"b\", \"c\", \"d\", \"e\"])"
   ]
  },
  {
   "cell_type": "code",
   "execution_count": 134,
   "metadata": {},
   "outputs": [
    {
     "data": {
      "text/plain": [
       "set()"
      ]
     },
     "execution_count": 134,
     "metadata": {},
     "output_type": "execute_result"
    }
   ],
   "source": [
    "# todos os elemento de a estão em b\n",
    "a.difference(b)"
   ]
  },
  {
   "cell_type": "code",
   "execution_count": 135,
   "metadata": {},
   "outputs": [
    {
     "data": {
      "text/plain": [
       "{'d', 'e'}"
      ]
     },
     "execution_count": 135,
     "metadata": {},
     "output_type": "execute_result"
    }
   ],
   "source": [
    "b.difference(a)"
   ]
  },
  {
   "cell_type": "code",
   "execution_count": 137,
   "metadata": {},
   "outputs": [
    {
     "data": {
      "text/plain": [
       "{'a', 'b', 'c', 'd', 'e'}"
      ]
     },
     "execution_count": 137,
     "metadata": {},
     "output_type": "execute_result"
    }
   ],
   "source": [
    "# juntar as listas (set) a união b = b\n",
    "b.union(a)"
   ]
  },
  {
   "cell_type": "code",
   "execution_count": 139,
   "metadata": {},
   "outputs": [
    {
     "data": {
      "text/plain": [
       "True"
      ]
     },
     "execution_count": 139,
     "metadata": {},
     "output_type": "execute_result"
    }
   ],
   "source": [
    "b.union(a)  == b"
   ]
  },
  {
   "cell_type": "code",
   "execution_count": 140,
   "metadata": {},
   "outputs": [
    {
     "data": {
      "text/plain": [
       "False"
      ]
     },
     "execution_count": 140,
     "metadata": {},
     "output_type": "execute_result"
    }
   ],
   "source": [
    "b.union(a) == a"
   ]
  },
  {
   "cell_type": "code",
   "execution_count": 141,
   "metadata": {},
   "outputs": [
    {
     "data": {
      "text/plain": [
       "{'a', 'b', 'c'}"
      ]
     },
     "execution_count": 141,
     "metadata": {},
     "output_type": "execute_result"
    }
   ],
   "source": [
    "b.intersection(a)"
   ]
  },
  {
   "cell_type": "code",
   "execution_count": 142,
   "metadata": {},
   "outputs": [
    {
     "data": {
      "text/plain": [
       "{'a', 'b', 'c'}"
      ]
     },
     "execution_count": 142,
     "metadata": {},
     "output_type": "execute_result"
    }
   ],
   "source": [
    "a.intersection(b)"
   ]
  },
  {
   "cell_type": "code",
   "execution_count": null,
   "metadata": {},
   "outputs": [],
   "source": []
  },
  {
   "cell_type": "markdown",
   "metadata": {},
   "source": [
    "### Dicionário (dictionary)\n",
    "### dict() == {}\n",
    "\n",
    "Este é quem sabe o objeto mais usado no Python  \n",
    "neste curso não entraremos a fundo do porquê  \n",
    "mas, veremos aqui o como ele é útil  \n",
    "ele é importante para gerarmos dados e transformarmos em tabelas Pandas"
   ]
  },
  {
   "cell_type": "code",
   "execution_count": 143,
   "metadata": {},
   "outputs": [
    {
     "data": {
      "text/plain": [
       "dict"
      ]
     },
     "execution_count": 143,
     "metadata": {},
     "output_type": "execute_result"
    }
   ],
   "source": [
    "dic = {}\n",
    "dic['carro'] = 1000\n",
    "dic['bicicleta'] = 20\n",
    "dic['saco de arroz'] = 10\n",
    "dic['caneta'] = 0.01\n",
    "\n",
    "type(dic)"
   ]
  },
  {
   "cell_type": "code",
   "execution_count": 144,
   "metadata": {},
   "outputs": [
    {
     "data": {
      "text/plain": [
       "{'carro': 1000, 'bicicleta': 20, 'saco de arroz': 10, 'caneta': 0.01}"
      ]
     },
     "execution_count": 144,
     "metadata": {},
     "output_type": "execute_result"
    }
   ],
   "source": [
    "dic"
   ]
  },
  {
   "cell_type": "markdown",
   "metadata": {},
   "source": [
    "### o método keys() --> gera uma lista de chaves"
   ]
  },
  {
   "cell_type": "code",
   "execution_count": 145,
   "metadata": {},
   "outputs": [
    {
     "data": {
      "text/plain": [
       "dict_keys(['carro', 'bicicleta', 'saco de arroz', 'caneta'])"
      ]
     },
     "execution_count": 145,
     "metadata": {},
     "output_type": "execute_result"
    }
   ],
   "source": [
    "dic.keys()"
   ]
  },
  {
   "cell_type": "markdown",
   "metadata": {},
   "source": [
    "### o método values() --> gera uma lista de valores"
   ]
  },
  {
   "cell_type": "code",
   "execution_count": 146,
   "metadata": {},
   "outputs": [
    {
     "data": {
      "text/plain": [
       "dict_values([1000, 20, 10, 0.01])"
      ]
     },
     "execution_count": 146,
     "metadata": {},
     "output_type": "execute_result"
    }
   ],
   "source": [
    "dic.values()"
   ]
  },
  {
   "cell_type": "markdown",
   "metadata": {},
   "source": [
    "#### poderia correr cada elmento key"
   ]
  },
  {
   "cell_type": "code",
   "execution_count": 147,
   "metadata": {},
   "outputs": [
    {
     "name": "stdout",
     "output_type": "stream",
     "text": [
      "\t carro \t 1000\n",
      "\t bicicleta \t 20\n",
      "\t saco de arroz \t 10\n",
      "\t caneta \t 0.01\n"
     ]
    }
   ],
   "source": [
    "for k in dic.keys():\n",
    "    # o valor = dic[k]\n",
    "    print('\\t', k, '\\t',dic[k])"
   ]
  },
  {
   "cell_type": "markdown",
   "metadata": {},
   "source": [
    "### Iterador items()"
   ]
  },
  {
   "cell_type": "code",
   "execution_count": 148,
   "metadata": {},
   "outputs": [
    {
     "name": "stdout",
     "output_type": "stream",
     "text": [
      "\t carro \t 1000\n",
      "\t bicicleta \t 20\n",
      "\t saco de arroz \t 10\n",
      "\t caneta \t 0.01\n"
     ]
    }
   ],
   "source": [
    "# regra muito usada: par chave + valor\n",
    "for k, val in dic.items():\n",
    "    print('\\t',k, '\\t',val)"
   ]
  },
  {
   "cell_type": "markdown",
   "metadata": {},
   "source": [
    "### Ao invés de um valor, uma lista de valores"
   ]
  },
  {
   "cell_type": "code",
   "execution_count": 149,
   "metadata": {},
   "outputs": [
    {
     "data": {
      "text/plain": [
       "4"
      ]
     },
     "execution_count": 149,
     "metadata": {},
     "output_type": "execute_result"
    }
   ],
   "source": [
    "dic = {}\n",
    "dic['carro'] = [1000, 'kg']\n",
    "dic['bicicleta'] = [20, 'kg']\n",
    "dic['saco de arroz'] = [10, 'kg']\n",
    "dic['caneta'] = [10, 'g']\n",
    "\n",
    "len(dic.keys())"
   ]
  },
  {
   "cell_type": "code",
   "execution_count": 150,
   "metadata": {},
   "outputs": [
    {
     "name": "stdout",
     "output_type": "stream",
     "text": [
      "\t carro \t [1000, 'kg']\n",
      "\t bicicleta \t [20, 'kg']\n",
      "\t saco de arroz \t [10, 'kg']\n",
      "\t caneta \t [10, 'g']\n"
     ]
    }
   ],
   "source": [
    "for k, val in dic.items():\n",
    "    # os valores de cada dic[k] é uma lista!\n",
    "    print('\\t',k, '\\t',val)"
   ]
  },
  {
   "cell_type": "code",
   "execution_count": 151,
   "metadata": {},
   "outputs": [
    {
     "name": "stdout",
     "output_type": "stream",
     "text": [
      "\t carro \t peso =  1000 kg\n",
      "\t bicicleta \t peso =  20 kg\n",
      "\t saco de arroz \t peso =  10 kg\n",
      "\t caneta \t peso =  10 g\n"
     ]
    }
   ],
   "source": [
    "for k, val in dic.items():\n",
    "    print('\\t',k, '\\t peso = ',val[0], val[1])"
   ]
  },
  {
   "cell_type": "code",
   "execution_count": 153,
   "metadata": {},
   "outputs": [
    {
     "name": "stdout",
     "output_type": "stream",
     "text": [
      "Objeto carro tem peso 1000 kg\n",
      "Objeto bicicleta tem peso 20 kg\n",
      "Objeto saco de arroz tem peso 10 kg\n",
      "Objeto caneta tem peso 10 g\n"
     ]
    }
   ],
   "source": [
    "for k, val in dic.items():\n",
    "    print(\"Objeto %s tem peso %d %s\" %(k, val[0], val[1]) )"
   ]
  },
  {
   "cell_type": "markdown",
   "metadata": {},
   "source": [
    "### Usando math.log (logaritmo natural)"
   ]
  },
  {
   "cell_type": "code",
   "execution_count": 154,
   "metadata": {},
   "outputs": [],
   "source": [
    "import math"
   ]
  },
  {
   "cell_type": "code",
   "execution_count": 155,
   "metadata": {},
   "outputs": [
    {
     "data": {
      "text/plain": [
       "0.6931471805599453"
      ]
     },
     "execution_count": 155,
     "metadata": {},
     "output_type": "execute_result"
    }
   ],
   "source": [
    "math.log(2)"
   ]
  },
  {
   "cell_type": "code",
   "execution_count": 157,
   "metadata": {},
   "outputs": [
    {
     "data": {
      "text/plain": [
       "1.0"
      ]
     },
     "execution_count": 157,
     "metadata": {},
     "output_type": "execute_result"
    }
   ],
   "source": [
    "# logaritmo de 2 na base 2\n",
    "math.log(2,2)"
   ]
  },
  {
   "cell_type": "code",
   "execution_count": 159,
   "metadata": {},
   "outputs": [
    {
     "ename": "ValueError",
     "evalue": "math domain error",
     "output_type": "error",
     "traceback": [
      "\u001b[0;31m---------------------------------------------------------------------------\u001b[0m",
      "\u001b[0;31mValueError\u001b[0m                                Traceback (most recent call last)",
      "\u001b[0;32m<ipython-input-159-f7278b7c2ed1>\u001b[0m in \u001b[0;36m<module>\u001b[0;34m\u001b[0m\n\u001b[0;32m----> 1\u001b[0;31m \u001b[0mmath\u001b[0m\u001b[0;34m.\u001b[0m\u001b[0mlog\u001b[0m\u001b[0;34m(\u001b[0m\u001b[0;36m0\u001b[0m\u001b[0;34m)\u001b[0m\u001b[0;34m\u001b[0m\u001b[0;34m\u001b[0m\u001b[0m\n\u001b[0m",
      "\u001b[0;31mValueError\u001b[0m: math domain error"
     ]
    }
   ],
   "source": [
    "math.log(0)"
   ]
  },
  {
   "cell_type": "code",
   "execution_count": 160,
   "metadata": {},
   "outputs": [
    {
     "ename": "ValueError",
     "evalue": "math domain error",
     "output_type": "error",
     "traceback": [
      "\u001b[0;31m---------------------------------------------------------------------------\u001b[0m",
      "\u001b[0;31mValueError\u001b[0m                                Traceback (most recent call last)",
      "\u001b[0;32m<ipython-input-160-8f964a7914e2>\u001b[0m in \u001b[0;36m<module>\u001b[0;34m\u001b[0m\n\u001b[0;32m----> 1\u001b[0;31m \u001b[0mmath\u001b[0m\u001b[0;34m.\u001b[0m\u001b[0mlog\u001b[0m\u001b[0;34m(\u001b[0m\u001b[0;34m-\u001b[0m\u001b[0;36m1\u001b[0m\u001b[0;34m)\u001b[0m\u001b[0;34m\u001b[0m\u001b[0;34m\u001b[0m\u001b[0m\n\u001b[0m",
      "\u001b[0;31mValueError\u001b[0m: math domain error"
     ]
    }
   ],
   "source": [
    "math.log(-1)"
   ]
  },
  {
   "cell_type": "markdown",
   "metadata": {},
   "source": [
    "### Distriuição Normal (Gaussiana)"
   ]
  },
  {
   "cell_type": "code",
   "execution_count": 176,
   "metadata": {},
   "outputs": [
    {
     "data": {
      "text/plain": [
       "array([8.23253178, 7.15858892, 2.98429846, 4.8371179 , 6.6041312 ,\n",
       "       4.05504981, 6.63328425, 3.81064242, 4.73967892, 4.5108335 ,\n",
       "       5.73506301, 5.19499619, 3.10725824, 3.57346455, 3.15481158,\n",
       "       5.23181746, 7.41109518, 8.66620273, 1.15294069, 5.74573739])"
      ]
     },
     "execution_count": 176,
     "metadata": {},
     "output_type": "execute_result"
    }
   ],
   "source": [
    "vals = np.random.normal(5, 2, 20)\n",
    "vals"
   ]
  },
  {
   "cell_type": "code",
   "execution_count": 178,
   "metadata": {},
   "outputs": [
    {
     "data": {
      "image/png": "[encoded data removed]",
      "text/plain": [
       "<Figure size 432x288 with 1 Axes>"
      ]
     },
     "metadata": {
      "needs_background": "light"
     },
     "output_type": "display_data"
    }
   ],
   "source": [
    "plt.hist(vals);"
   ]
  },
  {
   "cell_type": "markdown",
   "metadata": {},
   "source": [
    "## falar em valores populacionais\n",
    "\n",
    "## poderia falar (media +- S)\n",
    "\n",
    "## no caso de amostral --> IC = intervalo de confiança (confidence interval)\n",
    "## qual a confiança: 90%, 95%, 99%\n",
    "## distribuição - normal, t-student\n",
    "## monto IC --> erro para mais e para menos -->este erro você pode e deve colocar sinal "
   ]
  },
  {
   "cell_type": "markdown",
   "metadata": {},
   "source": [
    "## populational SD \n",
    "## sample       SD\n",
    "## SEM - standard error of the mean"
   ]
  }
 ],
 "metadata": {
  "kernelspec": {
   "display_name": "Python 3",
   "language": "python",
   "name": "python3"
  },
  "language_info": {
   "codemirror_mode": {
    "name": "ipython",
    "version": 3
   },
   "file_extension": ".py",
   "mimetype": "text/x-python",
   "name": "python",
   "nbconvert_exporter": "python",
   "pygments_lexer": "ipython3",
   "version": "3.7.7"
  }
 },
 "nbformat": 4,
 "nbformat_minor": 4
}
