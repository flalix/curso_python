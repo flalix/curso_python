{
 "cells": [
  {
   "cell_type": "markdown",
   "metadata": {},
   "source": [
    "### Semana 06 - lec02 - flow cytomery\n",
    "\n",
    "  - FlowRepository\n",
    "    - https://flowrepository.org/\n",
    "  - Reading Flow cytometry:\n",
    "    - https://taborlab.github.io/FlowCal/python_tutorial/read.html\n"
   ]
  },
  {
   "cell_type": "markdown",
   "metadata": {},
   "source": [
    "### Distribuição normal centrada em 2.5 com SSD = .5"
   ]
  },
  {
   "cell_type": "code",
   "execution_count": null,
   "metadata": {},
   "outputs": [],
   "source": [
    "import os, sys, math\n",
    "import numpy as np\n",
    "import pandas as pd\n",
    "import seaborn as sns\n",
    "from scipy import stats\n",
    "\n",
    "import matplotlib.pyplot as plt # matplotlib e seu alias plt\n",
    "%matplotlib inline"
   ]
  },
  {
   "cell_type": "code",
   "execution_count": null,
   "metadata": {},
   "outputs": [],
   "source": [
    "# os.system(\"pip install FlowCal\")\n",
    "import FlowCal"
   ]
  },
  {
   "cell_type": "code",
   "execution_count": null,
   "metadata": {},
   "outputs": [],
   "source": [
    "data = FlowCal.io.FCSData('../data/PBMC_NTC Stim 5hr no Blocker_004.fcs')\n",
    "data.shape"
   ]
  },
  {
   "cell_type": "code",
   "execution_count": null,
   "metadata": {},
   "outputs": [],
   "source": [
    "data.channels, len(data.channels)"
   ]
  },
  {
   "cell_type": "code",
   "execution_count": null,
   "metadata": {},
   "outputs": [],
   "source": [
    "data[0,:]"
   ]
  },
  {
   "cell_type": "code",
   "execution_count": null,
   "metadata": {},
   "outputs": [],
   "source": [
    "fcs = data[:, 1]\n",
    "fcs[:20]"
   ]
  },
  {
   "cell_type": "code",
   "execution_count": null,
   "metadata": {},
   "outputs": [],
   "source": [
    "ssc = data[:, 4]\n",
    "ssc[:20]"
   ]
  },
  {
   "cell_type": "code",
   "execution_count": null,
   "metadata": {},
   "outputs": [],
   "source": [
    "import plotly\n",
    "import plotly.graph_objects as go\n",
    "import plotly.express as px\n",
    "template='plotly_white'\n",
    "\n",
    "import matplotlib as mpl\n",
    "import pylab as plt\n",
    "%matplotlib inline"
   ]
  },
  {
   "cell_type": "code",
   "execution_count": null,
   "metadata": {},
   "outputs": [],
   "source": []
  },
  {
   "cell_type": "code",
   "execution_count": null,
   "metadata": {},
   "outputs": [],
   "source": [
    "# ret = plt.hist(fcs, bins=100)\n",
    "fig = plt.figure(figsize=(10,6))\n",
    "ax = sns.distplot(fcs, hist=True, kde=True, color='blue', hist_kws=dict(alpha=.4))"
   ]
  },
  {
   "cell_type": "markdown",
   "metadata": {},
   "source": [
    "### Normality Hypothesis Test\n",
    "\n",
    "https://machinelearningmastery.com/statistical-hypothesis-tests-in-python-cheat-sheet/\n",
    "\n",
    "Jason Brownlee on August 15, 2018 in Statistics"
   ]
  },
  {
   "cell_type": "code",
   "execution_count": null,
   "metadata": {},
   "outputs": [],
   "source": [
    "# Example of the Shapiro-Wilk Normality Test\n",
    "from scipy.stats import shapiro\n",
    "\n",
    "xrandom = stats.norm.rvs(loc=1, scale=2, size=1200)\n",
    "xrandom = np.random.normal(1, 2, 1200)\n",
    "\n",
    "stat, p = shapiro(xrandom)\n",
    "\n",
    "print('stat=%.3f, p=%.3f' % (stat, p))\n",
    "if p > 0.05:\n",
    "    print('Probably Gaussian')\n",
    "else:\n",
    "    print('Probably not Gaussian')\n",
    "    \n",
    "mu  = np.mean(xrandom)\n",
    "med = np.median(xrandom)\n",
    "ssd = np.std(xrandom)\n",
    "vc  = ssd/mu\n",
    "\n",
    "'Mean = %.2f median  = %.2f SSD = %.2f, n = %d, and VC = %.2f'%(mu, med, ssd, len(xrandom), vc)"
   ]
  },
  {
   "cell_type": "markdown",
   "metadata": {},
   "source": [
    "### FCS statistics"
   ]
  },
  {
   "cell_type": "code",
   "execution_count": null,
   "metadata": {},
   "outputs": [],
   "source": [
    "stat, p = shapiro(fcs)\n",
    "\n",
    "print('stat=%.3f, p=%.3f' % (stat, p))\n",
    "if p > 0.05:\n",
    "    print('Probably Gaussian')\n",
    "else:\n",
    "    print('Probably not Gaussian')\n",
    "    \n",
    "mu  = np.mean(fcs)\n",
    "med = np.median(fcs)\n",
    "ssd = np.std(fcs)\n",
    "vc  = ssd/mu\n",
    "\n",
    "'Mean = %.2f median  = %.2f SSD = %.2f, n = %d, and VC = %.2f'%(mu, med, ssd, len(fcs), vc)"
   ]
  },
  {
   "cell_type": "markdown",
   "metadata": {},
   "source": [
    "### Matplotlib"
   ]
  },
  {
   "cell_type": "code",
   "execution_count": null,
   "metadata": {},
   "outputs": [],
   "source": [
    "fig = plt.figure(figsize=(10,6))\n",
    "ret = plt.hist(ssc, bins=100)"
   ]
  },
  {
   "cell_type": "markdown",
   "metadata": {},
   "source": [
    "### Seaborn"
   ]
  },
  {
   "cell_type": "code",
   "execution_count": null,
   "metadata": {},
   "outputs": [],
   "source": [
    "fig = plt.figure(figsize=(10,6))\n",
    "sns.distplot(fcs, hist=True, kde=True, color='blue', hist_kws=dict(alpha=.4));"
   ]
  },
  {
   "cell_type": "markdown",
   "metadata": {},
   "source": [
    "### Plotly"
   ]
  },
  {
   "cell_type": "code",
   "execution_count": null,
   "metadata": {},
   "outputs": [],
   "source": [
    "stat, p = shapiro(fcs)\n",
    "\n",
    "title = 'FCS >>type plot<br>stat=%.3f, p=%.3f'%(stat, p)\n",
    "if p > 0.05:\n",
    "    title += ' - Probably Gaussian'\n",
    "else:\n",
    "    title += ' - Probably not Gaussian'\n",
    "    \n",
    "mu  = np.mean(fcs)\n",
    "med = np.median(fcs)\n",
    "ssd = np.std(fcs)\n",
    "vc  = ssd/mu\n",
    "\n",
    "title += '<br>Mean = %.2f median  = %.2f SSD = %.2f, n = %d, and VC = %.2f'%(mu, med, ssd, len(fcs), vc)\n",
    "in_percent = False\n",
    "\n",
    "fig = go.Figure()\n",
    "\n",
    "if in_percent:\n",
    "    title = title.replace(\">>type\", \"distribution\")\n",
    "    fig.add_trace(go.Histogram(x=fcs, histnorm='probability', marker_color='blue', opacity=0.4))\n",
    "    yaxis_title=\"probaility (%)\"\n",
    "else:\n",
    "    title = title.replace(\">>type\", \"fequency\")\n",
    "    fig.add_trace(go.Histogram(x=fcs, marker_color='blue', opacity=0.4))\n",
    "    yaxis_title=\"frequency\"\n",
    "        # text=textList_one,\n",
    "        # hovertemplate = \"pos: %{x}<br>count: %{y}</br>%{text}\",\n",
    "        # name=name, marker_line_width=1,\n",
    "\n",
    "fig.update_layout(\n",
    "    # barmode = 'group',\n",
    "    autosize=True,\n",
    "    title=title,\n",
    "    # width=width,\n",
    "    # height=height,\n",
    "    # template=template,\n",
    "    margin=dict( l=40, r=40, b=40, t=100, pad=4),\n",
    "    font=dict(\n",
    "        family=\"Arial, bold, monospace\",\n",
    "        size=14,\n",
    "        color='black'\n",
    "    ),\n",
    "    xaxis_title=\"FCS\",\n",
    "    yaxis_title=yaxis_title,\n",
    "    paper_bgcolor=\"whitesmoke\",\n",
    "    plot_bgcolor= \"whitesmoke\", # lightgrey ivory gainsboro whitesmoke lightsteelblue 'lightcyan' 'azure', white, lightgrey, snow ivory beige powderblue\n",
    "    showlegend=False\n",
    ")\n",
    "fig.show()"
   ]
  },
  {
   "cell_type": "code",
   "execution_count": null,
   "metadata": {},
   "outputs": [],
   "source": []
  },
  {
   "cell_type": "markdown",
   "metadata": {},
   "source": [
    "### Lognormal"
   ]
  },
  {
   "cell_type": "code",
   "execution_count": null,
   "metadata": {},
   "outputs": [],
   "source": [
    "fcsLog = [np.log2(x) for x in fcs]\n",
    "sscLog = [np.log2(x) for x in ssc]"
   ]
  },
  {
   "cell_type": "code",
   "execution_count": null,
   "metadata": {},
   "outputs": [],
   "source": [
    "stat, p = shapiro(fcsLog)\n",
    "\n",
    "print('stat=%.3f, p=%.3f' % (stat, p))\n",
    "if p > 0.05:\n",
    "    print('Probably Gaussian')\n",
    "else:\n",
    "    print('Probably not Gaussian')\n",
    "    \n",
    "mu  = np.mean(fcsLog)\n",
    "med = np.median(fcsLog)\n",
    "ssd = np.std(fcsLog)\n",
    "vc  = ssd/mu\n",
    "\n",
    "'Mean = %.2f median  = %.2f SSD = %.2f, n = %d, and VC = %.2f'%(mu, med, ssd, len(fcsLog), vc)"
   ]
  },
  {
   "cell_type": "code",
   "execution_count": null,
   "metadata": {},
   "outputs": [],
   "source": [
    "stat, p = shapiro(sscLog)\n",
    "\n",
    "print('stat=%.3f, p=%.3f' % (stat, p))\n",
    "if p > 0.05:\n",
    "    print('Probably Gaussian')\n",
    "else:\n",
    "    print('Probably not Gaussian')\n",
    "    \n",
    "mu  = np.mean(sscLog)\n",
    "med = np.median(sscLog)\n",
    "ssd = np.std(sscLog)\n",
    "vc  = ssd/mu\n",
    "\n",
    "'Mean = %.2f median  = %.2f SSD = %.2f, n = %d, and VC = %.2f'%(mu, med, ssd, len(sscLog), vc)"
   ]
  },
  {
   "cell_type": "markdown",
   "metadata": {},
   "source": [
    "### Seaborn"
   ]
  },
  {
   "cell_type": "code",
   "execution_count": null,
   "metadata": {},
   "outputs": [],
   "source": [
    "fig = plt.figure(figsize=(12,6))\n",
    "ax = sns.distplot(fcsLog, hist=True, kde=True, color='blue', hist_kws=dict(alpha=.2), label='fcs')\n",
    "ax = sns.distplot(sscLog, hist=True, kde=True, color='red',  hist_kws=dict(alpha=.2), label='ssc')\n",
    "\n",
    "plt.title(\"FCS and SSC distributions\")\n",
    "plt.legend();"
   ]
  },
  {
   "cell_type": "markdown",
   "metadata": {},
   "source": [
    "### Plotly"
   ]
  },
  {
   "cell_type": "code",
   "execution_count": null,
   "metadata": {},
   "outputs": [],
   "source": [
    "stat, p = shapiro(fcsLog)\n",
    "\n",
    "title = 'FCS >>type plot<br>stat=%.3f, p=%.3f'%(stat, p)\n",
    "if p > 0.05:\n",
    "    title += ' - Probably Gaussian'\n",
    "else:\n",
    "    title += ' - Probably not Gaussian'\n",
    "    \n",
    "mu  = np.mean(fcsLog)\n",
    "med = np.median(fcsLog)\n",
    "ssd = np.std(fcsLog)\n",
    "vc  = ssd/mu\n",
    "\n",
    "title += '<br>Mean = %.2f median  = %.2f SSD = %.2f, n = %d, and VC = %.2f'%(mu, med, ssd, len(fcsLog), vc)\n",
    "in_percent = True\n",
    "\n",
    "fig = go.Figure()\n",
    "\n",
    "if in_percent:\n",
    "    title = title.replace(\">>type\", \"lognormal distribution\")\n",
    "    fig.add_trace(go.Histogram(x=fcs, histnorm='probability', marker_color='blue', opacity=0.4))\n",
    "    yaxis_title=\"percent (%)\"\n",
    "else:\n",
    "    title = title.replace(\">>type\", \"lognormal fequency\")\n",
    "    fig.add_trace(go.Histogram(x=fcs, histnorm='probability', marker_color='blue', opacity=0.4))\n",
    "    yaxis_title=\"frequency\"\n",
    "        # text=textList_one,\n",
    "        # hovertemplate = \"pos: %{x}<br>count: %{y}</br>%{text}\",\n",
    "        # name=name, marker_line_width=1,\n",
    "\n",
    "fig.update_layout(\n",
    "    # barmode = 'group',\n",
    "    autosize=True,\n",
    "    title=title,\n",
    "    # width=width,\n",
    "    # height=height,\n",
    "    # template=template,\n",
    "    margin=dict( l=40, r=40, b=40, t=100, pad=4),\n",
    "    font=dict(\n",
    "        family=\"Arial, bold, monospace\",\n",
    "        size=14,\n",
    "        color='black'\n",
    "    ),\n",
    "    xaxis_title=\"FCS\",\n",
    "    yaxis_title=yaxis_title,\n",
    "    paper_bgcolor=\"whitesmoke\",\n",
    "    plot_bgcolor= \"whitesmoke\", # lightgrey ivory gainsboro whitesmoke lightsteelblue 'lightcyan' 'azure', white, lightgrey, snow ivory beige powderblue\n",
    "    showlegend=False\n",
    ")\n",
    "fig.show()"
   ]
  },
  {
   "cell_type": "code",
   "execution_count": null,
   "metadata": {},
   "outputs": [],
   "source": []
  },
  {
   "cell_type": "code",
   "execution_count": null,
   "metadata": {},
   "outputs": [],
   "source": []
  },
  {
   "cell_type": "code",
   "execution_count": null,
   "metadata": {},
   "outputs": [],
   "source": [
    "title = 'cytometry example'\n",
    "fontsize=14; fontcolor='black';\n",
    "width=2000; height=600;\n",
    "\n",
    "fig = go.Figure()\n",
    "\n",
    "fig.add_trace(go.Scatter(x=fcsLog, y=sscLog, \n",
    "                 # text=textList_one,\n",
    "                 # hovertemplate = \"pos: %{x}<br>count: %{y}</br>%{text}\",\n",
    "                 mode='markers', marker_color='blue') ) # name=name, marker_line_width=1,\n",
    "\n",
    "\n",
    "fig.update_layout(\n",
    "    # barmode = 'group',\n",
    "    autosize=True,\n",
    "    title=title,\n",
    "    # width=width,\n",
    "    # height=height,\n",
    "    # template=template,\n",
    "    margin=dict( l=40, r=40, b=40, t=100, pad=4),\n",
    "    font=dict(\n",
    "        family=\"Arial, bold, monospace\",\n",
    "        size=fontsize,\n",
    "        color=fontcolor\n",
    "    ),\n",
    "    xaxis_title=\"FSC - forward scatter\",\n",
    "    yaxis_title=\"SSC = side scatter\",\n",
    "    paper_bgcolor=\"whitesmoke\",\n",
    "    plot_bgcolor= \"whitesmoke\", # lightgrey ivory gainsboro whitesmoke lightsteelblue 'lightcyan' 'azure', white, lightgrey, snow ivory beige powderblue\n",
    "    showlegend=False\n",
    ")\n",
    "fig.show()"
   ]
  },
  {
   "cell_type": "code",
   "execution_count": null,
   "metadata": {},
   "outputs": [],
   "source": [
    "df = pd.DataFrame([fcsLog, sscLog]).T\n",
    "df.columns = ['fscLog', 'sscLog']\n",
    "df"
   ]
  },
  {
   "cell_type": "code",
   "execution_count": null,
   "metadata": {},
   "outputs": [],
   "source": []
  },
  {
   "cell_type": "markdown",
   "metadata": {},
   "source": [
    "### Seaborn\n",
    "\n",
    "see: http://seaborn.pydata.org/generated/seaborn.jointplot.html"
   ]
  },
  {
   "cell_type": "code",
   "execution_count": null,
   "metadata": {},
   "outputs": [],
   "source": [
    "import matplotlib.pyplot as plt\n",
    "import seaborn as sns\n",
    "\n",
    "sns.set(style=\"white\", color_codes=True)\n",
    "\n",
    "ax = sns.jointplot(x=\"fscLog\", y=\"sscLog\", data=df);\n",
    "\n",
    "#-- draw a circle\n",
    "ax.ax_joint.plot([16.5],[17],'o',ms=100,mec='red',mfc='none')"
   ]
  }
 ],
 "metadata": {
  "kernelspec": {
   "display_name": "Python 3",
   "language": "python",
   "name": "python3"
  },
  "language_info": {
   "codemirror_mode": {
    "name": "ipython",
    "version": 3
   },
   "file_extension": ".py",
   "mimetype": "text/x-python",
   "name": "python",
   "nbconvert_exporter": "python",
   "pygments_lexer": "ipython3",
   "version": "3.7.7"
  }
 },
 "nbformat": 4,
 "nbformat_minor": 4
}
