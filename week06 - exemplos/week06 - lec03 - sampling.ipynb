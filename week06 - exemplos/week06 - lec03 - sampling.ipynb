{
 "cells": [
  {
   "cell_type": "markdown",
   "metadata": {},
   "source": [
    "### Semana 06 - lec03 - amostragem e teste de hipóteses\n",
    "\n",
    "  - distribuições e amostragens\n",
    "  - distância entre distribuições - tamanho do efeito\n",
    "  - distribuição chi-quadrado, t-student e normal (gaussiana)\n",
    "  - teste de hipótese:\n",
    "      - chi-quadrado\n",
    "      - t-student\n",
    "      - revisitando: p-value, intervalo de confiança, tamanho de efeito\n",
    "      - comentário rápido de outros testes incluso não paramétricos.\n",
    "  - casos e exercícios\n"
   ]
  },
  {
   "cell_type": "markdown",
   "metadata": {},
   "source": [
    "### Distribuição normal centrada em 2.5 com SSD = .5"
   ]
  },
  {
   "cell_type": "code",
   "execution_count": null,
   "metadata": {},
   "outputs": [],
   "source": [
    "import os, sys, math\n",
    "import numpy as np\n",
    "import pandas as pd\n",
    "import seaborn as sns\n",
    "from scipy import stats\n",
    "\n",
    "import matplotlib.pyplot as plt # matplotlib e seu alias plt\n",
    "%matplotlib inline"
   ]
  },
  {
   "cell_type": "code",
   "execution_count": null,
   "metadata": {},
   "outputs": [],
   "source": [
    "N = 1000\n",
    "MU = 2.5; SD = 0.5\n",
    "x = np.random.normal(MU, SD, N)\n",
    "\n",
    "mu  = np.mean(x)\n",
    "med = np.median(x)\n",
    "ssd = np.std(x)\n",
    "vc  = ssd/mu\n",
    "\n",
    "mu, med, ssd, vc"
   ]
  },
  {
   "cell_type": "code",
   "execution_count": null,
   "metadata": {},
   "outputs": [],
   "source": [
    "title = \"Uma distribuição Normal (ou Gaussiana)\\nmédia = %.2f (%.2f) e CV = %.2f%%\"%(mu, ssd, vc*100)\n",
    "title += \"\\nO centro da distribuição: media = mediana = %.2f\"%(med)\n",
    "\n",
    "fig = plt.figure(figsize=(10,6))\n",
    "ax = sns.distplot(x, hist=True, kde=True)\n",
    "ax.axvline(mu, color='red')\n",
    "ax.axvline(med, color='blue')\n",
    "ax.axvline(mu+1*ssd, color='black')\n",
    "ax.axvline(mu-1*ssd, color='black')\n",
    "ax.axvline(mu+2*ssd, color='orange')\n",
    "ax.axvline(mu-2*ssd, color='orange')\n",
    "ax.set_title(title)\n",
    "ax.set_xlim(mu-4*ssd, mu+4*ssd)"
   ]
  },
  {
   "cell_type": "markdown",
   "metadata": {},
   "source": [
    "### Amostragem\n",
    "\n",
    "#### agora vamos simular um experimento no lab com somente 3 amostras!"
   ]
  },
  {
   "cell_type": "code",
   "execution_count": null,
   "metadata": {},
   "outputs": [],
   "source": [
    "Nlab = 3\n",
    "x = np.random.normal(MU, SD, Nlab)\n",
    "\n",
    "muLab  = np.mean(x)\n",
    "medLab = np.median(x)\n",
    "ssdLab = np.std(x)\n",
    "vcLab  = ssdLab/muLab\n",
    "\n",
    "muLab, medLab, ssdLab, vcLab\n"
   ]
  },
  {
   "cell_type": "code",
   "execution_count": null,
   "metadata": {},
   "outputs": [],
   "source": [
    "(muLab-mu), (medLab - med), (ssdLab - ssd), (vcLab - vc)"
   ]
  },
  {
   "cell_type": "code",
   "execution_count": null,
   "metadata": {},
   "outputs": [],
   "source": [
    "\"Erro de media = %.1f%%, mediana = %.1f%%, SSD = %.1f%%, VC = %.1f%%\"%(100*(muLab-mu)/mu, 100*(medLab - med)/med, 100*(ssdLab - ssd)/ssd, 100*(vcLab - vc)/vc)"
   ]
  },
  {
   "cell_type": "markdown",
   "metadata": {},
   "source": [
    "### Agora vamos analisar o erro e desvio padrão amostral médio"
   ]
  },
  {
   "cell_type": "code",
   "execution_count": null,
   "metadata": {},
   "outputs": [],
   "source": [
    "iloop = 50\n",
    "muLabs=[]; medLabs=[]; ssdLabs=[]; vcLabs=[]; xs=[]\n",
    "print(Nlab)\n",
    "\n",
    "for i in range(iloop):\n",
    "    x = np.random.normal(MU, SD, Nlab)\n",
    "\n",
    "    muLab  = np.mean(x)\n",
    "    medLab = np.median(x)\n",
    "    ssdLab = np.std(x)\n",
    "    vcLab  = ssdLab/muLab\n",
    "\n",
    "    muLabs.append(muLab)\n",
    "    medLabs.append(medLab)\n",
    "    ssdLabs.append(ssdLab)\n",
    "    vcLabs.append(vcLab)\n",
    "    xs.append(x)\n",
    "    "
   ]
  },
  {
   "cell_type": "code",
   "execution_count": null,
   "metadata": {},
   "outputs": [],
   "source": [
    "\"Erro de media = %.1f%%, mediana = %.1f%%, SSD = %.1f%%, VC = %.1f%%\"%(\n",
    "    100*(np.mean(muLabs)  - mu) /mu,  100*(np.mean(medLabs) - med)/med, \n",
    "    100*(np.mean(ssdLabs) - ssd)/ssd, 100*(np.mean(vcLabs)  - vc)/vc)"
   ]
  },
  {
   "cell_type": "markdown",
   "metadata": {},
   "source": [
    "### Qual o problema??"
   ]
  },
  {
   "cell_type": "code",
   "execution_count": null,
   "metadata": {},
   "outputs": [],
   "source": []
  },
  {
   "cell_type": "code",
   "execution_count": null,
   "metadata": {},
   "outputs": [],
   "source": [
    "from pylab import subplot\n",
    "\n",
    "N = 1000\n",
    "MU = 2.5; SD = 0.5\n",
    "x = np.random.normal(MU, SD, N)\n",
    "\n",
    "mu  = np.mean(x)\n",
    "med = np.median(x)\n",
    "ssd = np.std(x)\n",
    "vc  = ssd/mu\n",
    "\n",
    "# https://matplotlib.org/3.1.0/gallery/color/named_colors.html\n",
    "colors2 = ['yellow', 'red', 'brown', 'blue', 'darkviolet', 'lime']\n",
    "colors = ['lime']*6\n",
    "\n",
    "sns.set(rc={\"figure.figsize\": (14,22)})\n",
    "\n",
    "title = \"Uma distribuição Normal e as 5 primeiras amostras\"\n",
    "\n",
    "nfig = 0\n",
    "for i in range(6):\n",
    "    nfig += 1\n",
    "    subplot(3,2,nfig)\n",
    "        \n",
    "    ax = sns.distplot(x, hist=True, kde=True, color='blue', hist_kws=dict(alpha=.2))\n",
    "    ax.axvline(mu, color='navy')\n",
    "    ax.axvline(mu+1*ssd, color='navy', linestyle='--')\n",
    "    ax.axvline(mu-1*ssd, color='navy', linestyle='--')\n",
    "\n",
    "    mu2  = muLabs[i]\n",
    "    ssd2 = ssdLabs[i]\n",
    "    \n",
    "    ax.axvline(mu2, color=colors[i])\n",
    "    ax.axvline(mu2+1*ssd2, color=colors[i], linestyle='--')\n",
    "    ax.axvline(mu2-1*ssd2, color=colors[i], linestyle='--')\n",
    "        \n",
    "    ax.set_xlim(mu-4*ssd, mu+4*ssd)\n",
    "    \n",
    "    #--- eache point in a circle\n",
    "    xcircle = xs[i]\n",
    "    \n",
    "    for j in range(len(xcircle)):\n",
    "        ax.plot(xcircle[j], 0.2, 'o', ms=10, mec='red',mfc='none')\n",
    "\n",
    "        \n",
    "    emu = mu2 - mu\n",
    "    essd = ssd2 - ssd\n",
    "    \n",
    "    p_emu  = 100*(mu2 - mu)/mu\n",
    "    p_essd = 100*(ssd2 - ssd)/ssd\n",
    "\n",
    "    title2 = title + \"\\nerro na media: %.2f (%.1f%%), erro no SSD: : %.2f (%.1f%%)\"%(emu, p_emu, essd, p_essd)\n",
    "    \n",
    "    plt.title(title2)\n",
    "    \n",
    "plt.subplots_adjust(left=0.12, bottom=0.1, right=0.9, top=0.9, wspace=0.2, hspace=0.3)  "
   ]
  },
  {
   "cell_type": "markdown",
   "metadata": {},
   "source": [
    "### Qual o problema??"
   ]
  },
  {
   "cell_type": "code",
   "execution_count": null,
   "metadata": {},
   "outputs": [],
   "source": []
  }
 ],
 "metadata": {
  "kernelspec": {
   "display_name": "Python 3",
   "language": "python",
   "name": "python3"
  },
  "language_info": {
   "codemirror_mode": {
    "name": "ipython",
    "version": 3
   },
   "file_extension": ".py",
   "mimetype": "text/x-python",
   "name": "python",
   "nbconvert_exporter": "python",
   "pygments_lexer": "ipython3",
   "version": "3.7.7"
  }
 },
 "nbformat": 4,
 "nbformat_minor": 4
}
