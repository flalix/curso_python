{
 "cells": [
  {
   "cell_type": "markdown",
   "metadata": {},
   "source": [
    "### Distribuições\n",
    "  \n",
    "Distribuições discretas:  https://en.wikipedia.org/wiki/List_of_probability_distributions\n",
    "  - Uniform\n",
    "  - Binomial\n",
    "  - Multinomial\n",
    "  - Poisson\n",
    "  - Geométrica\n",
    "  - Hipergeométrica\n",
    "  - Binomial negativa\n",
    "  \n",
    "Distribuições contínuas: https://en.wikipedia.org/wiki/Probability_distribution#Continuous_probability_distribution\n",
    "  - Uniform\n",
    "  - Normal (gaussian)\n",
    "  - Gamma (Exponential)\n",
    "  - Beta\n",
    "  - Logistic\n",
    "\n",
    "and others"
   ]
  },
  {
   "cell_type": "markdown",
   "metadata": {},
   "source": [
    "### Dica - um excelente site da Duke University\n",
    "\n",
    "https://people.duke.edu/~ccc14/sta-663/UsingNumpySolutions.html"
   ]
  },
  {
   "cell_type": "code",
   "execution_count": null,
   "metadata": {},
   "outputs": [],
   "source": [
    "import os, sys, math\n",
    "import numpy as np\n",
    "import pandas as pd\n",
    "import seaborn as sns\n",
    "from scipy import stats\n",
    "\n",
    "import matplotlib.pyplot as plt # matplotlib e seu alias plt\n",
    "%matplotlib inline"
   ]
  },
  {
   "cell_type": "markdown",
   "metadata": {},
   "source": [
    "### Uniform discrete distribution\n",
    "\n",
    "- simétrica (e uniforme)"
   ]
  },
  {
   "cell_type": "code",
   "execution_count": null,
   "metadata": {},
   "outputs": [],
   "source": [
    "N = 10000\n",
    "limSup = 10\n",
    "nums = np.random.randint(0, limSup, N)\n",
    "\n",
    "fig = plt.figure(figsize=(10,6))\n",
    "ax = sns.distplot(nums, hist=True, kde=False)\n",
    "ax.set_title(\"Distribuição Uniforme Discreta\")\n",
    "ax.set_xticks(np.arange(0, limSup));"
   ]
  },
  {
   "cell_type": "markdown",
   "metadata": {},
   "source": [
    "### Distribuição uniforme de 0 a 1"
   ]
  },
  {
   "cell_type": "code",
   "execution_count": null,
   "metadata": {},
   "outputs": [],
   "source": [
    "N = 10000000\n",
    "limSup = 101\n",
    "nums = [x/100 for x in np.random.randint(0, limSup, N)]\n",
    "print(len(nums)/1000000)\n",
    "\n",
    "xs = [x/100 for x in np.arange(0, limSup, 10)]\n",
    "\n",
    "fig = plt.figure(figsize=(10,6))\n",
    "ax = sns.distplot(nums, hist=True, bins=25, kde=False)\n",
    "ax.set_title(\"Gráfico de Frequência - Uniforme Discreta\")\n",
    "ax.set_xticks(xs);"
   ]
  },
  {
   "cell_type": "markdown",
   "metadata": {},
   "source": [
    "### Entendem a simetria analisando os números a seguir?"
   ]
  },
  {
   "cell_type": "code",
   "execution_count": null,
   "metadata": {},
   "outputs": [],
   "source": [
    "np.min(nums), np.median(nums), np.mean(nums), np.max(nums)"
   ]
  },
  {
   "cell_type": "code",
   "execution_count": null,
   "metadata": {},
   "outputs": [],
   "source": [
    "nums = np.array(nums)\n",
    "type(nums)"
   ]
  },
  {
   "cell_type": "markdown",
   "metadata": {},
   "source": [
    "### Quantos números simulados (random) estão abaixo de 0.025 (2.5%)"
   ]
  },
  {
   "cell_type": "code",
   "execution_count": null,
   "metadata": {},
   "outputs": [],
   "source": [
    "0.025*100"
   ]
  },
  {
   "cell_type": "code",
   "execution_count": null,
   "metadata": {},
   "outputs": [],
   "source": [
    "np.sum(nums < 0.025), 0.025*N"
   ]
  },
  {
   "cell_type": "code",
   "execution_count": null,
   "metadata": {},
   "outputs": [],
   "source": [
    "np.sum(nums < 0.025) / N"
   ]
  },
  {
   "cell_type": "code",
   "execution_count": null,
   "metadata": {},
   "outputs": [],
   "source": [
    "N = 1000000\n",
    "nums = [x/limSup for x in np.random.randint(0, limSup, N)]\n",
    "np.sum(np.array(nums) < 0.025) / N"
   ]
  },
  {
   "cell_type": "code",
   "execution_count": null,
   "metadata": {},
   "outputs": [],
   "source": [
    "nums = [x/limSup for x in np.random.randint(0, limSup, N)]\n",
    "np.sum(np.array(nums) < 0.1) / N"
   ]
  },
  {
   "cell_type": "code",
   "execution_count": null,
   "metadata": {},
   "outputs": [],
   "source": [
    "nums = [x/limSup for x in np.random.randint(0, limSup, N)]\n",
    "np.sum(np.array(nums) < 0.5) / N"
   ]
  },
  {
   "cell_type": "code",
   "execution_count": null,
   "metadata": {},
   "outputs": [],
   "source": [
    "nums = [x/limSup for x in np.random.randint(0, limSup, N)]\n",
    "np.sum(np.array(nums) < 0.9) / N"
   ]
  },
  {
   "cell_type": "code",
   "execution_count": null,
   "metadata": {},
   "outputs": [],
   "source": [
    "np.sum(np.array(nums) > 0.975) / N"
   ]
  },
  {
   "cell_type": "markdown",
   "metadata": {},
   "source": [
    "### Boxplot de uma distribuição uniforme\n",
    "\n",
    "### Distribuição Uniforme: media == mediana  e o gráfico é simétrico"
   ]
  },
  {
   "cell_type": "code",
   "execution_count": null,
   "metadata": {},
   "outputs": [],
   "source": [
    "sns.set_palette(\"Blues\")\n",
    "ax = sns.boxplot(x=nums)\n",
    "ret = plt.title(\"Boxplot da distribuição uniforme\");"
   ]
  },
  {
   "cell_type": "markdown",
   "metadata": {},
   "source": [
    "### Quero 2 gráficos com eixo x compartilhado ('alinhados')"
   ]
  },
  {
   "cell_type": "code",
   "execution_count": null,
   "metadata": {},
   "outputs": [],
   "source": [
    "sns.set(style=\"white\", palette=\"muted\", color_codes=True)\n",
    "\n",
    "# plt.subplots(2, 1 ...\n",
    "#     subplots(2 linhas, 1 coluna)\n",
    "f, axes = plt.subplots(2, 1, figsize=(10,6), sharex=True)\n",
    "sns.despine(left=True)"
   ]
  },
  {
   "cell_type": "markdown",
   "metadata": {},
   "source": [
    "um ao lado do outro  \n",
    "seria 2 linhas e 1 coluna  \n",
    "\n",
    "plt.subplots(1, 2 ....sharey=True)\n"
   ]
  },
  {
   "cell_type": "code",
   "execution_count": null,
   "metadata": {},
   "outputs": [],
   "source": [
    "sns.set(style=\"white\", palette=\"muted\", color_codes=True)\n",
    "\n",
    "# Set up the matplotlib figure\n",
    "f, axes = plt.subplots(2, 1, figsize=(10,6), sharex=True)\n",
    "sns.despine(left=True)\n",
    "\n",
    "ax = sns.distplot(nums, hist=True, bins=25, kde=False, ax=axes[0])\n",
    "ax.set_title(\"Distribuição uniforme\")\n",
    "\n",
    "ax = sns.boxplot(x=nums, ax=axes[1], color='orange')\n",
    "ax.set_title(\"Boxplot da distribuição uniforme\");\n",
    "\n",
    "# plt.tight_layout()"
   ]
  },
  {
   "cell_type": "markdown",
   "metadata": {},
   "source": [
    "## Distribuição binomial\n",
    "  - binomial: sim / não, cara / coroa, mutou / não mutou\n",
    "        \n",
    "![binomial distribution](../figure/binomial_distribution.jpg)        "
   ]
  },
  {
   "cell_type": "markdown",
   "metadata": {},
   "source": [
    "acertar 5 caras é muito difícil\n",
    "\n",
    "0.5 * 0.5 * 0.5 * 0.5 * 0.5\n",
    "\n",
    "0.5 ** 5"
   ]
  },
  {
   "cell_type": "code",
   "execution_count": null,
   "metadata": {},
   "outputs": [],
   "source": [
    "0.5 * 0.5 * 0.5 * 0.5 * 0.5, 0.5 ** 5, np.round( (0.5 ** 5)*100, 2)"
   ]
  },
  {
   "cell_type": "markdown",
   "metadata": {},
   "source": [
    "### Se você jogar 2x seguindas e acertar 5 Caras"
   ]
  },
  {
   "cell_type": "code",
   "execution_count": null,
   "metadata": {},
   "outputs": [],
   "source": [
    "# muito raro: ~  1 / 1000\n",
    "praro = 0.5 ** 5\n",
    "0.5 * 0.5 * 0.5 * 0.5 * 0.5 * 0.5 * 0.5 * 0.5 * 0.5 * 0.5, praro*praro"
   ]
  },
  {
   "cell_type": "code",
   "execution_count": null,
   "metadata": {},
   "outputs": [],
   "source": [
    "from scipy.stats import norm\n",
    "\n",
    "n = 5    # moedas = [5C, 4C, .... 0C]\n",
    "p = 0.5  # moedas não são viciadas p(cara) = p(coroa) = .5\n",
    "N = 1000\n",
    "jogo = np.random.binomial(n, p, N)\n",
    "\n",
    "print(\"média deve ir para p*n = %.2f\"%(p*N))\n",
    "\n",
    "muj  = np.mean(jogo)\n",
    "ssdj = np.std(jogo)\n",
    "# coeficiente de variação = SD/media\n",
    "vc = ssdj/muj\n",
    "\n",
    "fig = plt.figure(figsize=(10,6))\n",
    "# ax = sns.distplot(jogo, hist=True, kde=False, fit=norm)\n",
    "ax = sns.distplot(jogo, hist=True, kde=False)\n",
    "ax.axvline(n*p, color='red')\n",
    "ax.set_title(\"Uma distribuição binomial discreta\\nmédia = %.2f (%.2f) e CV = %.2f%%\"%(muj, ssdj, vc*100));"
   ]
  },
  {
   "cell_type": "code",
   "execution_count": null,
   "metadata": {},
   "outputs": [],
   "source": [
    "sns.set(style=\"white\", palette=\"muted\", color_codes=True)\n",
    "\n",
    "# Set up the matplotlib figure\n",
    "f, axes = plt.subplots(2, 1, figsize=(10,6), sharex=True)\n",
    "sns.despine(left=True)\n",
    "\n",
    "ax = sns.distplot(jogo, hist=True, kde=False, ax=axes[0])\n",
    "ax.set_title(\"Uma distribuição binomial discreta\\nmédia = %.2f (%.2f) e CV = %.2f%%\"%(muj, ssdj, vc*100));\n",
    "\n",
    "ax = sns.boxplot(x=jogo, ax=axes[1], color='red')\n",
    "ax.set_title(\"Boxplot da distribuição binomial\");\n"
   ]
  },
  {
   "cell_type": "markdown",
   "metadata": {},
   "source": [
    "### Distribuição binomial, jogando moedas várias vezes"
   ]
  },
  {
   "cell_type": "code",
   "execution_count": null,
   "metadata": {},
   "outputs": [],
   "source": [
    "from scipy.stats import norm\n",
    "\n",
    "n = 50   # 50 genes / alelos\n",
    "p = 0.5  # moeda/alelo não viciado p(cara) = p(coroa) = .5\n",
    "N = 1000\n",
    "jogo = np.random.binomial(n, p, N)\n",
    "\n",
    "title = \"Uma distribuição discreta vai se aproximando à uma distr. contínua\\nmédia = %.2f (%.2f) e CV = %.2f%%\"%(muj, ssdj, vc*100)\n",
    "title += \"\\nn=%d moedas, gera uma média=%.1f\"%(n, n/2.)\n",
    "\n",
    "muj  = np.mean(jogo)\n",
    "medj = np.median(jogo)\n",
    "ssdj = np.std(jogo)\n",
    "vc = ssdj/muj\n",
    "\n",
    "fig = plt.figure(figsize=(10,6))\n",
    "ax = sns.distplot(jogo, hist=True, kde=True, fit=norm)\n",
    "ax.axvline(n/2, color='red')\n",
    "ax.set_title(title)\n",
    "ax.set_xlim(0,50);"
   ]
  },
  {
   "cell_type": "code",
   "execution_count": null,
   "metadata": {},
   "outputs": [],
   "source": [
    "title = \"Uma distribuição discreta vai se aproximando à uma distr. contínua\\ndistribuição simétrica p(cara) = p(coroa) = 0.5\"\n",
    "title += \"\\nmédia = %.2f (%.2f), mediana = %.2f e CV = %.2f%%\"%(muj, ssdj, medj, vc*100)\n",
    "title += \"\\nn=%d moedas, gera uma média=%.1f\"%(n, n/2.)\n",
    "\n",
    "sns.set(style=\"white\", palette=\"muted\", color_codes=True)\n",
    "\n",
    "# Set up the matplotlib figure\n",
    "f, axes = plt.subplots(2, 1, figsize=(10,6), sharex=True)\n",
    "sns.despine(left=True)\n",
    "\n",
    "ax = sns.distplot(jogo, hist=True, kde=False, fit=norm, ax=axes[0])\n",
    "ax.axvline(muj, color='red')\n",
    "ax.axvline(25, color='pink')\n",
    "ax.set_title(title)\n",
    "\n",
    "ax = sns.boxplot(x=jogo, ax=axes[1], color='red')\n",
    "ax.set_title(\"Boxplot - jogando %d moedas honestas\"%(n));\n",
    "# definir os limites do eixo x com set_xlim\n",
    "ax.set_xlim(0,50);"
   ]
  },
  {
   "cell_type": "markdown",
   "metadata": {},
   "source": [
    "### Moedas desonestas, distribuição assimétrica"
   ]
  },
  {
   "cell_type": "code",
   "execution_count": null,
   "metadata": {},
   "outputs": [],
   "source": [
    "n = 50   # 50 genes / alelos\n",
    "p = 0.3  # moeda/alelo viciado p(cara) != p(coroa)  (0.3, 0.7)\n",
    "N = 1000\n",
    "jogo = np.random.binomial(n, p, N)\n",
    "\n",
    "muj  = np.mean(jogo)\n",
    "medj = np.median(jogo)\n",
    "ssdj = np.std(jogo)\n",
    "vc = ssdj/muj\n",
    "\n",
    "\n",
    "title = \"Uma distribuição discreta vai se aproximando à uma distr. contínua\\ndistribuição assimétrica p(cara) != p(coroa) = (%.1f, %.1f)\"%(p, 1-p)\n",
    "title += \"\\nmédia = %.2f (%.2f), mediana = %.2f e CV = %.2f%%\"%(muj, ssdj, medj, vc*100)\n",
    "title += \"\\ncom p=%.1f o centro da distr. fica deslocado para a esquerda = media = p*n =%.1f\"%(p, p*n)\n",
    "\n",
    "sns.set(style=\"white\", palette=\"muted\", color_codes=True)\n",
    "\n",
    "# Set up the matplotlib figure\n",
    "f, axes = plt.subplots(2, 1, figsize=(10,6), sharex=True)\n",
    "sns.despine(left=True)\n",
    "\n",
    "ax = sns.distplot(jogo, hist=True, kde=False, fit=norm, ax=axes[0])\n",
    "ax.axvline(n/2, color='pink')\n",
    "ax.axvline(p*n, color='red')\n",
    "ax.set_title(title)\n",
    "\n",
    "ax = sns.boxplot(x=jogo, ax=axes[1], color='red')\n",
    "ax.set_title(\"Boxplot - jogando %d moedas honestas\"%(n));\n",
    "ax.set_xlim(0,50)"
   ]
  },
  {
   "cell_type": "markdown",
   "metadata": {},
   "source": [
    "### Distribuição Normal (Gaussiana)"
   ]
  },
  {
   "cell_type": "code",
   "execution_count": null,
   "metadata": {},
   "outputs": [],
   "source": [
    "N = 100000\n",
    "MU = 20; SD = 2\n",
    "x = np.random.normal(MU, SD, N)\n",
    "\n",
    "mu  = np.mean(x)\n",
    "med = np.median(x)\n",
    "ssd = np.std(x)\n",
    "vc  = ssdj/muj\n",
    "\n",
    "mu, med, ssd, vc"
   ]
  },
  {
   "cell_type": "code",
   "execution_count": null,
   "metadata": {},
   "outputs": [],
   "source": [
    "title = \"Uma distribuição Normal (ou Gaussiana)\\nmédia = %.2f (%.2f) e CV = %.2f%%\"%(mu, ssd, vc*100)\n",
    "title += \"\\nO centro da distribuição: media = mediana = %.2f\"%(med)\n",
    "\n",
    "fig = plt.figure(figsize=(10,6))\n",
    "ax = sns.distplot(x, hist=True, kde=True)\n",
    "ax.axvline(mu, color='red')\n",
    "ax.axvline(med, color='blue')\n",
    "ax.axvline(mu+1*ssd, color='black')\n",
    "ax.axvline(mu-1*ssd, color='black')\n",
    "ax.axvline(mu+2*ssd, color='orange')\n",
    "ax.axvline(mu-2*ssd, color='orange')\n",
    "ax.set_title(title)\n",
    "ax.set_xlim(mu-4*ssd, mu+4*ssd)\n",
    "# ax.set_xlim(19.5, 20.5)\n"
   ]
  },
  {
   "cell_type": "code",
   "execution_count": null,
   "metadata": {},
   "outputs": [],
   "source": []
  },
  {
   "cell_type": "markdown",
   "metadata": {},
   "source": [
    "### Quartis e Percentis"
   ]
  },
  {
   "cell_type": "code",
   "execution_count": null,
   "metadata": {},
   "outputs": [],
   "source": [
    "len(x), x"
   ]
  },
  {
   "cell_type": "markdown",
   "metadata": {},
   "source": [
    "### O que significa quartil? (quantile)\n",
    "  - pegar 100% dividir por 4 (quartil)\n",
    "  - se dividir por 100 - percentil\n",
    "  \n",
    "  - um quartil:\n",
    "    - 1o quartil: 25% da população\n",
    "    - 2o quartil: 50% da população (mediana)\n",
    "    - 3o quartil: 75% da população\n",
    "    \n",
    "### Para calcular quartis preciso ordenar a série"
   ]
  },
  {
   "cell_type": "code",
   "execution_count": null,
   "metadata": {},
   "outputs": [],
   "source": [
    "x.sort() # ordenação\n",
    "len(x), x, x[-10:-1]"
   ]
  },
  {
   "cell_type": "code",
   "execution_count": null,
   "metadata": {},
   "outputs": [],
   "source": [
    "np.min(x), np.median(x), np.max(x)"
   ]
  },
  {
   "cell_type": "code",
   "execution_count": null,
   "metadata": {},
   "outputs": [],
   "source": [
    "N, int(N/2)"
   ]
  },
  {
   "cell_type": "code",
   "execution_count": null,
   "metadata": {},
   "outputs": [],
   "source": [
    "x[int(N/2)], x[int(N/2)-1], np.median(x)"
   ]
  },
  {
   "cell_type": "markdown",
   "metadata": {},
   "source": [
    "### Primeiro quartil"
   ]
  },
  {
   "cell_type": "code",
   "execution_count": null,
   "metadata": {},
   "outputs": [],
   "source": [
    "x[int(N/4)]"
   ]
  },
  {
   "cell_type": "markdown",
   "metadata": {},
   "source": [
    "### Segundo quartil = mediana"
   ]
  },
  {
   "cell_type": "code",
   "execution_count": null,
   "metadata": {},
   "outputs": [],
   "source": [
    "x[int(N/2)], np.median(x)"
   ]
  },
  {
   "cell_type": "markdown",
   "metadata": {},
   "source": [
    "### Terceiro quartil"
   ]
  },
  {
   "cell_type": "code",
   "execution_count": null,
   "metadata": {},
   "outputs": [],
   "source": [
    "x[int(3*N/4)]"
   ]
  },
  {
   "cell_type": "markdown",
   "metadata": {},
   "source": [
    "### Função de quantiles no numpy"
   ]
  },
  {
   "cell_type": "code",
   "execution_count": null,
   "metadata": {},
   "outputs": [],
   "source": [
    "quartis = [0.25, 0.5, 0.75]\n",
    "np.quantile(x, quartis)"
   ]
  },
  {
   "cell_type": "code",
   "execution_count": null,
   "metadata": {},
   "outputs": [],
   "source": [
    "quartis = [0.025, 0.05, 0.25, 0.5, 0.75, 0.95, 0.975]\n",
    "[np.round(x,2) for x in np.quantile(x, quartis)]"
   ]
  },
  {
   "cell_type": "code",
   "execution_count": null,
   "metadata": {},
   "outputs": [],
   "source": []
  },
  {
   "cell_type": "markdown",
   "metadata": {},
   "source": [
    "### Refazendo o boxplot e conferindo os quartis"
   ]
  },
  {
   "cell_type": "code",
   "execution_count": null,
   "metadata": {},
   "outputs": [],
   "source": [
    "fig = plt.figure(figsize=(10,6))\n",
    "\n",
    "sns.set_palette(\"Blues\")\n",
    "ax = sns.boxplot(x)"
   ]
  },
  {
   "cell_type": "code",
   "execution_count": null,
   "metadata": {},
   "outputs": [],
   "source": [
    "fig = plt.figure(figsize=(10,6))\n",
    "\n",
    "sns.set_palette(\"Blues\")\n",
    "\n",
    "q1 = x[int(  N/4)]\n",
    "q2 = x[int(  N/2)]\n",
    "q3 = x[int(3*N/4)]\n",
    "\n",
    "ax = sns.boxplot(x)\n",
    "ax.axvline(q1, color='navy')\n",
    "ax.axvline(q2, color='red')\n",
    "ax.axvline(q3, color='brown')"
   ]
  },
  {
   "cell_type": "markdown",
   "metadata": {},
   "source": [
    "### Como calcular o valor máximo e mínimo??\n",
    "\n",
    "#### Primeiro defina distância IQ (iterquartil)\n",
    "\n",
    "iq = q3 - q1\n",
    "\n",
    "### Logo max e min são 1.5*IQ do 1o e do 3o quartil\n",
    "  \n",
    "min = q1 - 1.5 * iq  \n",
    "max = q3 + 1.5 * iq  \n"
   ]
  },
  {
   "cell_type": "code",
   "execution_count": null,
   "metadata": {},
   "outputs": [],
   "source": [
    "iq = q3 - q1\n",
    "_min = q1 - 1.5 * iq\n",
    "_max = q3 + 1.5 * iq\n",
    "\n",
    "_min, q1, q2, q3, _max"
   ]
  },
  {
   "cell_type": "code",
   "execution_count": null,
   "metadata": {},
   "outputs": [],
   "source": [
    "fig = plt.figure(figsize=(10,6))\n",
    "\n",
    "sns.set_palette(\"Blues\")\n",
    "\n",
    "ax = sns.boxplot(x)\n",
    "ax.axvline(q1, color='navy')\n",
    "ax.axvline(q2, color='red')\n",
    "ax.axvline(q3, color='navy')\n",
    "\n",
    "ax.axvline(_min, color='green')\n",
    "ax.axvline(_max, color='green');\n"
   ]
  },
  {
   "cell_type": "markdown",
   "metadata": {},
   "source": [
    "### O que é um OUTLIER?\n",
    "\n",
    "  - outlier é qualquer ponto acima do Máximo ou abaixo do Mínimo"
   ]
  },
  {
   "cell_type": "code",
   "execution_count": null,
   "metadata": {},
   "outputs": [],
   "source": [
    "type(x)"
   ]
  },
  {
   "cell_type": "code",
   "execution_count": null,
   "metadata": {},
   "outputs": [],
   "source": [
    "len(x[x > _max]), \"de\", len(x)"
   ]
  },
  {
   "cell_type": "code",
   "execution_count": null,
   "metadata": {},
   "outputs": [],
   "source": [
    "len(x[x < _min])"
   ]
  },
  {
   "cell_type": "markdown",
   "metadata": {},
   "source": [
    "### Como remover outliers?"
   ]
  },
  {
   "cell_type": "code",
   "execution_count": null,
   "metadata": {},
   "outputs": [],
   "source": [
    "# quais os elementos, e não True/False, o valor\n",
    "# np.where(condição) = 0, 1, 2, 3, 4, 5 ...\n",
    "np.where(x < _min)[0][:20]"
   ]
  },
  {
   "cell_type": "code",
   "execution_count": null,
   "metadata": {},
   "outputs": [],
   "source": [
    "np.where(x > _max)[0][:20]"
   ]
  },
  {
   "cell_type": "code",
   "execution_count": null,
   "metadata": {},
   "outputs": [],
   "source": [
    "# eliminando os outliers superiores\n",
    "xnew = np.delete(x,np.where(x > _max)[0])\n",
    "np.sum(x >_max), np.sum(xnew >_max)"
   ]
  },
  {
   "cell_type": "markdown",
   "metadata": {},
   "source": [
    "### No pandas\n",
    "\n",
    "pd.drop()"
   ]
  },
  {
   "cell_type": "markdown",
   "metadata": {},
   "source": [
    "### Em muitas áreas prefere-se usar percentis"
   ]
  },
  {
   "cell_type": "markdown",
   "metadata": {},
   "source": [
    "![curva de percentil de creiscimento](../figure/comprimento_x_idade_peso.gif)"
   ]
  },
  {
   "cell_type": "markdown",
   "metadata": {},
   "source": [
    "### Ver\n",
    "https://matplotlib.org/3.2.1/gallery/userdemo/annotate_text_arrow.html"
   ]
  },
  {
   "cell_type": "markdown",
   "metadata": {},
   "source": [
    "### Distribuição Normal e seu boxplot"
   ]
  },
  {
   "cell_type": "code",
   "execution_count": null,
   "metadata": {},
   "outputs": [],
   "source": [
    "N = 100000\n",
    "mu = 20; sd = 2\n",
    "x = np.random.normal(mu, sd, N)\n",
    "\n",
    "mu  = np.mean(x)\n",
    "med = np.median(x)\n",
    "ssd = np.std(x)\n",
    "vc  = ssdj/muj\n",
    "\n",
    "bbox_props = dict(boxstyle=\"round\", fc=\"w\", ec=\"0.5\", alpha=0.9)\n",
    "\n",
    "title = \"Uma distribuição Normal (ou Gaussiana)\\nmédia = %.2f (%.2f) e CV = %.2f%%\"%(mu, ssd, vc*100)\n",
    "title += \"\\nO centro da distribuição: media = mediana = %.2f\"%(med)\n",
    "title += \"\\numa distribuição normal é sempre simétrica\"\n",
    "\n",
    "sns.set(style=\"white\", palette=\"muted\", color_codes=True)\n",
    "\n",
    "# Set up the matplotlib figure\n",
    "f, axes = plt.subplots(2, 1, figsize=(12,8), sharex=True)\n",
    "sns.despine(left=True)\n",
    "\n",
    "ax = sns.distplot(x, hist=True, kde=True, ax=axes[0])\n",
    "ax.axvline(mu, color='red')\n",
    "ax.axvline(med, color='blue')\n",
    "ax.axvline(mu+1*ssd, color='black')\n",
    "ax.axvline(mu-1*ssd, color='black')\n",
    "ax.axvline(mu+2*ssd, color='orange')\n",
    "ax.axvline(mu-2*ssd, color='orange')\n",
    "ax.axvline(mu+3*ssd, color='yellow')\n",
    "ax.axvline(mu-3*ssd, color='yellow')\n",
    "ax.set_title(title)\n",
    "ax.set_xlim(mu-4*ssd, mu+4*ssd)\n",
    "\n",
    "ax.text(mu+1*ssd, .15, \"+1 SSD\", ha=\"center\", va=\"center\", size=8, bbox=bbox_props)\n",
    "ax.text(mu-1*ssd, .15, \"-1 SSD\", ha=\"center\", va=\"center\", size=8, bbox=bbox_props)\n",
    "\n",
    "ax.text(mu+2*ssd, .08, \"+2 SSD\", ha=\"center\", va=\"center\", size=8, bbox=bbox_props)\n",
    "ax.text(mu-2*ssd, .08, \"-2 SSD\", ha=\"center\", va=\"center\", size=8, bbox=bbox_props)\n",
    "\n",
    "\n",
    "ax = sns.boxplot(x, ax=axes[1], color='red')\n",
    "ax.axvline(q1, color='navy')\n",
    "ax.axvline(q2, color='red')\n",
    "ax.axvline(q3, color='navy')\n",
    "\n",
    "ax.text(q1,  .2, \"Q1\",            ha=\"center\", va=\"center\", size=8, bbox=bbox_props)\n",
    "ax.text(q2,   0, \"Q2 = mediana\", ha=\"center\", va=\"center\", size=8, bbox=bbox_props)\n",
    "ax.text(q3, -.2, \"Q3\",            ha=\"center\", va=\"center\", size=8, bbox=bbox_props)\n",
    "\n",
    "ax.text(_max, 0.2, \"máximo\", ha=\"center\", va=\"center\", size=8, bbox=bbox_props)\n",
    "ax.text(_min, 0.2, \"mínimo\", ha=\"center\", va=\"center\", size=8, bbox=bbox_props)\n",
    "\n",
    "ax.axvline(_min, color='green')\n",
    "ax.axvline(_max, color='green');\n",
    "ax.set_title(\"Boxplot - repare que o Q1 e Q1 nada tem a haver com mu-SSD ou mu+SSD\");\n",
    "# ax.set_xlim(0,50)"
   ]
  },
  {
   "cell_type": "markdown",
   "metadata": {},
   "source": [
    "### O que é um evento raro?\n",
    "  - Vamos supor uma distribuição de Altura, com média em 170 cm e SD = 20 cm\n",
    "  - os 2.5% primeiros indivíduos devem ser bem baixos\n",
    "  - os 2.5% últimos indivíduos devem ser bem altos\n",
    "  - alpha = 5% - por ser bicaudal é 2.5% à esquerda, e 2.5% à direita\n",
    "  - se fosse monocauldal, p.ex. para direita, pegaríamos os 5% últimos indivíduos\n",
    "  \n",
    "### Primeiro vamos montar a distribuição\n",
    "### Depois vamos localizar indivíduos raros com valores próximos ao mínimo e máximo"
   ]
  },
  {
   "cell_type": "code",
   "execution_count": null,
   "metadata": {},
   "outputs": [],
   "source": [
    "#-- montando a distribuição com média de 170 cm e SD de 20 cm\n",
    "\n",
    "N = 10000\n",
    "MU = 170; SD = 20\n",
    "\n",
    "### função norm em stats\n",
    "dist = stats.norm(MU, SD)\n",
    "print(type(dist))\n",
    "x = dist.rvs(N)  ## N random elements of dist\n",
    "print(type(x), len(x))\n",
    "\n",
    "mu  = np.mean(x)\n",
    "med = np.median(x)\n",
    "ssd = np.std(x)\n",
    "vc  = ssdj/muj\n",
    "\n",
    "title = \"Uma distribuição de Alturas de homens\\nmédia = %.2f (%.2f) e CV = %.2f%%\"%(mu, ssd, vc*100)\n",
    "title += \"\\nO centro da distribuição: media = mediana = %.2f\"%(med)\n",
    "title += \"\\numa distribuição normal é sempre simétrica\"\n",
    "\n",
    "sns.set(style=\"white\", palette=\"muted\", color_codes=True)\n",
    "\n",
    "# Set up the matplotlib figure\n",
    "fig = plt.figure(figsize=(12,8))\n",
    "\n",
    "ax = sns.distplot(x, hist=True, kde=True)\n",
    "\n",
    "ax.axvline(mu, color='red')\n",
    "ax.axvline(med, color='blue')\n",
    "ax.axvline(mu+1*ssd, color='black')\n",
    "ax.axvline(mu-1*ssd, color='black')\n",
    "ax.axvline(mu+2*ssd, color='orange')\n",
    "ax.axvline(mu-2*ssd, color='orange')\n",
    "ax.set_title(title)\n",
    "ax.set_xlim(mu-4*ssd, mu+4*ssd);"
   ]
  },
  {
   "cell_type": "markdown",
   "metadata": {},
   "source": [
    "### dada uma percentagem da área [0, 100]% stats devolve a altura limite\n",
    "\n",
    "  - função: Percent point function\n",
    "  - stats.norm.ppf( porc, media, SD)"
   ]
  },
  {
   "cell_type": "code",
   "execution_count": null,
   "metadata": {},
   "outputs": [],
   "source": [
    "## qual é a altura para a media/mediana?\n",
    "x05   = stats.norm.ppf(0.5, loc=MU, scale=SD)  # Percent point function\n",
    "x05"
   ]
  },
  {
   "cell_type": "markdown",
   "metadata": {},
   "source": [
    "### Extremos para alpha=0.05 (lembra p-value ~ 5%)\n",
    "  - Pessoas menores que 130.8 cm são raras\n",
    "  - Pessoas acima   de  209.2 cm são raras"
   ]
  },
  {
   "cell_type": "code",
   "execution_count": null,
   "metadata": {},
   "outputs": [],
   "source": [
    "## qual é a altura para uma pessoa até 2.5% da área de distribuição\n",
    "x0025 = stats.norm.ppf(0.025, loc=MU, scale=SD)\n",
    "\n",
    "## qual é a altura para uma pessoa até 97.5% da área da distribuição\n",
    "x0975 = stats.norm.ppf(0.975, loc=MU, scale=SD)\n",
    "\n",
    "np.round(x0025,2), np.round(x0975, 2)"
   ]
  },
  {
   "cell_type": "markdown",
   "metadata": {},
   "source": [
    "### A função inversa é a Cumulativa\n",
    "\n",
    "  - dada a distribuição dist\n",
    "  - calcula-se a cumulativa:  dist.cdf(medida da altura)\n",
    "  - obtém-se a probalidade de se achar uma pessoa até aquela altura"
   ]
  },
  {
   "cell_type": "code",
   "execution_count": null,
   "metadata": {},
   "outputs": [],
   "source": [
    "np.round(dist.cdf(130.8)*100, 2)"
   ]
  },
  {
   "cell_type": "markdown",
   "metadata": {},
   "source": [
    "### Qual a probabilidade de se ter menos que 2.0 metros?"
   ]
  },
  {
   "cell_type": "code",
   "execution_count": null,
   "metadata": {},
   "outputs": [],
   "source": [
    "np.round(dist.cdf(200)*100, 2)"
   ]
  },
  {
   "cell_type": "markdown",
   "metadata": {},
   "source": [
    "### Um complemento -->vou usar 1 - p\n",
    "\n",
    "p(morrer) = 10%  \n",
    "p(não morrer) = 1 - p(morrer) = 1 - 0.1 = 0.9  \n",
    "\n",
    "porque?\n",
    "\n",
    "p(morrer) + p(não morrer) = 1"
   ]
  },
  {
   "cell_type": "markdown",
   "metadata": {},
   "source": [
    "### Qual a probabilidade de se ter mais que 2 metros de altura?"
   ]
  },
  {
   "cell_type": "code",
   "execution_count": null,
   "metadata": {},
   "outputs": [],
   "source": [
    "np.round((1 - dist.cdf(200))*100, 2)"
   ]
  },
  {
   "cell_type": "markdown",
   "metadata": {},
   "source": [
    "### Valor limite inferior:  p(cumulativa < 2.5%)"
   ]
  },
  {
   "cell_type": "code",
   "execution_count": null,
   "metadata": {},
   "outputs": [],
   "source": [
    "x0025"
   ]
  },
  {
   "cell_type": "code",
   "execution_count": null,
   "metadata": {
    "scrolled": false
   },
   "outputs": [],
   "source": [
    "title = \"Uma distribuição de Alturas de homens\\nmédia = %.2f (%.2f) e CV = %.2f%%\"%(mu, ssd, vc*100)\n",
    "title += \"\\nO centro da distribuição: media = mediana = %.2f\"%(med)\n",
    "title += \"\\numa distribuição normal é sempre simétrica\"\n",
    "\n",
    "sns.set(style=\"white\", palette=\"muted\", color_codes=True)\n",
    "\n",
    "# Set up the matplotlib figure\n",
    "fig = plt.figure(figsize=(12,8))\n",
    "\n",
    "ax = sns.distplot(x, hist=True, kde=True)\n",
    "ax.axvline(mu, color='red')\n",
    "ax.axvline(med, color='blue')\n",
    "ax.axvline(mu+1*ssd, color='black')\n",
    "ax.axvline(mu-1*ssd, color='black')\n",
    "ax.axvline(mu+2*ssd, color='orange')\n",
    "ax.axvline(mu-2*ssd, color='orange')\n",
    "ax.set_title(title)\n",
    "ax.set_xlim(mu-4*ssd, mu+4*ssd)\n",
    "\n",
    "bbox_props = dict(boxstyle=\"rarrow\", fc=(0.8, 0.9, 0.9), ec=\"b\", lw=2)\n",
    "#   ax.text(x    , y  ,    'mensagem')\n",
    "t = ax.text(x0025-3, 0.0025, \"valor min raro\\n130 cm\", ha=\"right\", va=\"center\", rotation=30,\n",
    "            size=15,\n",
    "            bbox=bbox_props)\n"
   ]
  },
  {
   "cell_type": "code",
   "execution_count": null,
   "metadata": {},
   "outputs": [],
   "source": []
  },
  {
   "cell_type": "markdown",
   "metadata": {},
   "source": [
    "### Exercício: fazer o mesmo gráfico para o limite superior: > 97.5%"
   ]
  },
  {
   "cell_type": "code",
   "execution_count": null,
   "metadata": {},
   "outputs": [],
   "source": []
  },
  {
   "cell_type": "markdown",
   "metadata": {},
   "source": [
    "### As densidades de probabilidades para cada altura [100, 110, ... 240]\n",
    "### Probability density distribution"
   ]
  },
  {
   "cell_type": "code",
   "execution_count": null,
   "metadata": {},
   "outputs": [],
   "source": [
    "np.linspace(100, 240, 15)"
   ]
  },
  {
   "cell_type": "code",
   "execution_count": null,
   "metadata": {},
   "outputs": [],
   "source": [
    "np.arange(100, 241, 10)"
   ]
  },
  {
   "cell_type": "code",
   "execution_count": null,
   "metadata": {},
   "outputs": [],
   "source": [
    "seqx = np.arange(100, 241, 10)"
   ]
  },
  {
   "cell_type": "code",
   "execution_count": null,
   "metadata": {},
   "outputs": [],
   "source": [
    "# funçaõ de densidade probalistica\n",
    "dist.pdf(seqx)"
   ]
  },
  {
   "cell_type": "code",
   "execution_count": null,
   "metadata": {},
   "outputs": [],
   "source": [
    "seqx"
   ]
  },
  {
   "cell_type": "markdown",
   "metadata": {},
   "source": [
    "### Cumulativa da distribuição normal"
   ]
  },
  {
   "cell_type": "code",
   "execution_count": null,
   "metadata": {},
   "outputs": [],
   "source": [
    "## esta função vai acumulando a área de acordo que vamos de 100 cm até mais de 200 cm de altura\n",
    "dist.cdf(seqx)"
   ]
  },
  {
   "cell_type": "code",
   "execution_count": null,
   "metadata": {},
   "outputs": [],
   "source": [
    "# prob de ser menor que 1.8 m\n",
    "dist.cdf(180)"
   ]
  },
  {
   "cell_type": "code",
   "execution_count": null,
   "metadata": {},
   "outputs": [],
   "source": [
    "# probabilidade de encontrar pessoas > 1.8\n",
    "1 - dist.cdf(180)"
   ]
  },
  {
   "cell_type": "markdown",
   "metadata": {},
   "source": [
    "### Distribuição cumulativa"
   ]
  },
  {
   "cell_type": "code",
   "execution_count": null,
   "metadata": {},
   "outputs": [],
   "source": [
    "title = \"Uma distribuição de Alturas\"\n",
    "sns.set(style=\"white\", palette=\"muted\", color_codes=True)\n",
    "fig = plt.figure(figsize=(12,8))\n",
    "\n",
    "ax = sns.distplot(x, hist=True, kde=True)\n",
    "ax.axvline(110, color='red')\n",
    "ax.axvline(120, color='blue')\n",
    "ax.axvline(130, color='black')\n",
    "ax.axvline(170, color='cyan')\n",
    "ax.axvline(220, color='orange')\n",
    "ax.set_title(title)\n",
    "ax.set_xlim(mu-4*ssd, mu+4*ssd)"
   ]
  },
  {
   "cell_type": "code",
   "execution_count": null,
   "metadata": {},
   "outputs": [],
   "source": [
    "fig = plt.figure(figsize=(12,8))\n",
    "plt.plot(seqx, dist.cdf(seqx))\n",
    "plt.axvline(170, color='cyan')\n",
    "plt.axhline(0.5, color='black')\n",
    "\n",
    "title = \"Cumulativa da distribuição normal para alturas\"\n",
    "title += '\\nna altura 170cm atinge-se 50% da área pois é a média da distribuição normal'\n",
    "plt.title(title);"
   ]
  },
  {
   "cell_type": "markdown",
   "metadata": {},
   "source": [
    "### Como se lê este gráfico?\n",
    "   - A cada altura da esquerda para a direita (alturas) vai se acumulando a área de 0 até o ponto desejado\n",
    "   - Qual a probabilidade de se ter menos de 120 cm?\n",
    "     - 0.62%, ou seja "
   ]
  },
  {
   "cell_type": "code",
   "execution_count": null,
   "metadata": {},
   "outputs": [],
   "source": [
    "p = dist.cdf(120)*100\n",
    "print(\"\\nQual a probabilidade de se ter menos que 120 cm? %.2f%%\"%(p))\n",
    "\n",
    "p = dist.cdf(140)*100\n",
    "print(\"\\nQual a probabilidade de se ter menos que 140 cm? %.2f%%\"%(p))"
   ]
  },
  {
   "cell_type": "markdown",
   "metadata": {},
   "source": [
    "### Vamos automatizar e simular a cumulativa"
   ]
  },
  {
   "cell_type": "code",
   "execution_count": null,
   "metadata": {},
   "outputs": [],
   "source": [
    "seqx2 = np.arange(120, 241, 20)\n",
    "seqx2"
   ]
  },
  {
   "cell_type": "code",
   "execution_count": null,
   "metadata": {},
   "outputs": [],
   "source": [
    "for alt in seqx2:\n",
    "    p = dist.cdf(alt)*100\n",
    "    print(\"\\nQual a probabilidade de se ter menos que %d cm? %.2f%%\"%(alt, p))"
   ]
  },
  {
   "cell_type": "code",
   "execution_count": null,
   "metadata": {},
   "outputs": [],
   "source": []
  },
  {
   "cell_type": "markdown",
   "metadata": {},
   "source": [
    "### Qual probalidade de se ter mais que 1.75 metros?"
   ]
  },
  {
   "cell_type": "code",
   "execution_count": null,
   "metadata": {},
   "outputs": [],
   "source": []
  },
  {
   "cell_type": "code",
   "execution_count": null,
   "metadata": {},
   "outputs": [],
   "source": []
  },
  {
   "cell_type": "code",
   "execution_count": null,
   "metadata": {},
   "outputs": [],
   "source": [
    "title = \"Uma distribuição de Alturas\"\n",
    "title = \"qual a probabilidade de se ter menos que 120 cm?\"\n",
    "\n",
    "sns.set(style=\"white\", palette=\"muted\", color_codes=True)\n",
    "\n",
    "# Set up the matplotlib figure\n",
    "fig = plt.figure(figsize=(12,8))\n",
    "\n",
    "ax = sns.distplot(x, hist=True, kde=True)\n",
    "ax.axvline(mu, color='black')\n",
    "ax.set_title(title)\n",
    "\n",
    "altura_desejada = 120\n",
    "ax.axvline(altura_desejada, color='red')\n",
    "\n",
    "# y = p(120)\n",
    "y = dist.pdf(altura_desejada)\n",
    "\n",
    "# Get the line from the axes to generate shading\n",
    "l1 = ax.lines[0]\n",
    "\n",
    "x1 = l1.get_xydata()[:,0]\n",
    "y1 = l1.get_xydata()[:,1]\n",
    "\n",
    "nelem = np.sum(x1 <= altura_desejada)\n",
    "\n",
    "x1 = x1[:nelem]\n",
    "y1 = y1[:nelem]\n",
    "\n",
    "ax.fill_between(x1,y1, color=\"red\", alpha=0.4)\n",
    "\n",
    "ax.set_xlim(mu-4*ssd, mu+4*ssd)\n",
    "\n",
    "bbox_props = dict(boxstyle=\"rarrow\", fc=(0.8, 0.9, 0.9), ec=\"b\", lw=2)\n",
    "\n",
    "area = dist.cdf(altura_desejada)*100\n",
    "\n",
    "t = ax.text(110, -0.003, \"Area ~ %.2f%%\"%(area), ha=\"right\", va=\"center\", rotation=55, size=15, bbox=bbox_props)"
   ]
  },
  {
   "cell_type": "markdown",
   "metadata": {},
   "source": [
    "### Violin plot"
   ]
  },
  {
   "cell_type": "code",
   "execution_count": null,
   "metadata": {},
   "outputs": [],
   "source": [
    "sns.violinplot(x, inner=\"quart\", linewidth=1)"
   ]
  },
  {
   "cell_type": "code",
   "execution_count": null,
   "metadata": {},
   "outputs": [],
   "source": [
    "N = 1000\n",
    "mu = 20; sd = 2\n",
    "x = np.random.normal(mu, sd, N)\n",
    "\n",
    "mu  = np.mean(x)\n",
    "med = np.median(x)\n",
    "ssd = np.std(x)\n",
    "vc  = ssdj/muj\n",
    "\n",
    "bbox_props = dict(boxstyle=\"round\", fc=\"w\", ec=\"0.5\", alpha=0.9)\n",
    "\n",
    "title = \"Uma distribuição Normal (ou Gaussiana)\\nmédia = %.2f (%.2f) e CV = %.2f%%\"%(mu, ssd, vc*100)\n",
    "title += \"\\nO centro da distribuição: media = mediana = %.2f\"%(med)\n",
    "title += \"\\numa distribuição normal é sempre simétrica\"\n",
    "\n",
    "sns.set(style=\"white\", palette=\"muted\", color_codes=True)\n",
    "\n",
    "# Set up the matplotlib figure\n",
    "f, axes = plt.subplots(2, 1, figsize=(12,8), sharex=True)\n",
    "sns.despine(left=True)\n",
    "\n",
    "ax = sns.distplot(x, hist=True, kde=True, ax=axes[0])\n",
    "ax.axvline(mu, color='red')\n",
    "ax.axvline(med, color='blue')\n",
    "ax.axvline(mu+1*ssd, color='black')\n",
    "ax.axvline(mu-1*ssd, color='black')\n",
    "ax.axvline(mu+2*ssd, color='orange')\n",
    "ax.axvline(mu-2*ssd, color='orange')\n",
    "ax.set_title(title)\n",
    "ax.set_xlim(mu-4*ssd, mu+4*ssd)\n",
    "\n",
    "ax.text(mu+1*ssd, .15, \"+1 SSD\", ha=\"center\", va=\"center\", size=8, bbox=bbox_props)\n",
    "ax.text(mu-1*ssd, .15, \"-1 SSD\", ha=\"center\", va=\"center\", size=8, bbox=bbox_props)\n",
    "\n",
    "ax.text(mu+2*ssd, .08, \"+2 SSD\", ha=\"center\", va=\"center\", size=8, bbox=bbox_props)\n",
    "ax.text(mu-2*ssd, .08, \"-2 SSD\", ha=\"center\", va=\"center\", size=8, bbox=bbox_props)\n",
    "\n",
    "\n",
    "# ax = sns.boxplot(x, ax=axes[1], color='red')\n",
    "ax = sns.violinplot(x, inner=\"quart\", linewidth=1, ax=axes[1], color='red')\n",
    "\n",
    "ax.axvline(q1, color='navy')\n",
    "ax.axvline(q2, color='red')\n",
    "ax.axvline(q3, color='navy')\n",
    "\n",
    "ax.text(q1,  .2, \"Q1\",            ha=\"center\", va=\"center\", size=8, bbox=bbox_props)\n",
    "ax.text(q2,   0, \"Q2 = mediana\", ha=\"center\", va=\"center\", size=8, bbox=bbox_props)\n",
    "ax.text(q3, -.2, \"Q3\",            ha=\"center\", va=\"center\", size=8, bbox=bbox_props)\n",
    "\n",
    "ax.text(_max, 0.2, \"máximo\", ha=\"center\", va=\"center\", size=8, bbox=bbox_props)\n",
    "ax.text(_min, 0.2, \"mínimo\", ha=\"center\", va=\"center\", size=8, bbox=bbox_props)\n",
    "\n",
    "ax.axvline(_min, color='green')\n",
    "ax.axvline(_max, color='green');\n",
    "ax.set_title(\"Boxplot - repare que o Q1 e Q1 nada tem a haver com mu-SSD ou mu+SSD\");\n",
    "# ax.set_xlim(0,50)"
   ]
  },
  {
   "cell_type": "markdown",
   "metadata": {},
   "source": [
    "### Violin plot + jitter (mostrar os pontos)"
   ]
  },
  {
   "cell_type": "code",
   "execution_count": null,
   "metadata": {
    "scrolled": true
   },
   "outputs": [],
   "source": [
    "bbox_props = dict(boxstyle=\"round\", fc=\"w\", ec=\"0.5\", alpha=0.9)\n",
    "\n",
    "title = \"Uma distribuição Normal (ou Gaussiana)\\nmédia = %.2f (%.2f) e CV = %.2f%%\"%(mu, ssd, vc*100)\n",
    "title += \"\\nO centro da distribuição: media = mediana = %.2f\"%(med)\n",
    "title += \"\\numa distribuição normal é sempre simétrica\"\n",
    "\n",
    "sns.set(style=\"white\", palette=\"muted\", color_codes=True)\n",
    "\n",
    "# Set up the matplotlib figure\n",
    "f, axes = plt.subplots(2, 1, figsize=(12,8), sharex=True)\n",
    "sns.despine(left=True)\n",
    "\n",
    "ax = sns.distplot(x, hist=True, kde=True, ax=axes[0])\n",
    "ax.axvline(mu, color='red')\n",
    "ax.axvline(med, color='blue')\n",
    "ax.axvline(mu+1*ssd, color='black')\n",
    "ax.axvline(mu-1*ssd, color='black')\n",
    "ax.axvline(mu+2*ssd, color='orange')\n",
    "ax.axvline(mu-2*ssd, color='orange')\n",
    "ax.set_title(title)\n",
    "ax.set_xlim(mu-4*ssd, mu+4*ssd)\n",
    "\n",
    "ax.text(mu+1*ssd, .15, \"+1 SSD\", ha=\"center\", va=\"center\", size=8, bbox=bbox_props)\n",
    "ax.text(mu-1*ssd, .15, \"-1 SSD\", ha=\"center\", va=\"center\", size=8, bbox=bbox_props)\n",
    "\n",
    "ax.text(mu+2*ssd, .08, \"+2 SSD\", ha=\"center\", va=\"center\", size=8, bbox=bbox_props)\n",
    "ax.text(mu-2*ssd, .08, \"-2 SSD\", ha=\"center\", va=\"center\", size=8, bbox=bbox_props)\n",
    "\n",
    "ax = sns.violinplot(x, inner=\"quart\", linewidth=1, ax=axes[1], color='red')\n",
    "ax = sns.stripplot(x, ax=axes[1], color='black', alpha=.3)\n",
    "\n",
    "ax.axvline(q1, color='navy')\n",
    "ax.axvline(q2, color='red')\n",
    "ax.axvline(q3, color='navy')\n",
    "\n",
    "ax.text(q1,  .2, \"Q1\",            ha=\"center\", va=\"center\", size=8, bbox=bbox_props)\n",
    "ax.text(q2, -.4, \"Q2 = mediana\", ha=\"center\", va=\"center\", size=8, bbox=bbox_props)\n",
    "ax.text(q3, -.2, \"Q3\",            ha=\"center\", va=\"center\", size=8, bbox=bbox_props)\n",
    "\n",
    "ax.text(_max, 0.2, \"máximo\", ha=\"center\", va=\"center\", size=8, bbox=bbox_props)\n",
    "ax.text(_min, 0.2, \"mínimo\", ha=\"center\", va=\"center\", size=8, bbox=bbox_props)\n",
    "\n",
    "ax.axvline(_min, color='green')\n",
    "ax.axvline(_max, color='green');\n",
    "ax.set_title(\"Boxplot - repare que o Q1 e Q1 nada tem a haver com mu-SSD ou mu+SSD\");\n",
    "# ax.set_xlim(0,50)"
   ]
  },
  {
   "cell_type": "code",
   "execution_count": null,
   "metadata": {},
   "outputs": [],
   "source": []
  }
 ],
 "metadata": {
  "kernelspec": {
   "display_name": "Python 3",
   "language": "python",
   "name": "python3"
  },
  "language_info": {
   "codemirror_mode": {
    "name": "ipython",
    "version": 3
   },
   "file_extension": ".py",
   "mimetype": "text/x-python",
   "name": "python",
   "nbconvert_exporter": "python",
   "pygments_lexer": "ipython3",
   "version": "3.7.7"
  }
 },
 "nbformat": 4,
 "nbformat_minor": 4
}
