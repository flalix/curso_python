{
 "cells": [
  {
   "cell_type": "markdown",
   "metadata": {},
   "source": [
    "### Estatística descritiva\n",
    "  \n",
    "Usando:  \n",
    "  - Pandas\n",
    "  - Numpy\n",
    "  - Matplotlib e Seaborn"
   ]
  },
  {
   "cell_type": "code",
   "execution_count": 1,
   "metadata": {},
   "outputs": [],
   "source": [
    "import os, sys, math\n",
    "import numpy as np\n",
    "import pandas as pd\n",
    "import seaborn as sns\n",
    "from scipy import stats\n",
    "\n",
    "import matplotlib.pyplot as plt # matplotlib e seu alias plt\n",
    "%matplotlib inline"
   ]
  },
  {
   "cell_type": "markdown",
   "metadata": {},
   "source": [
    "### O que é média?\n",
    "\n",
    "Vamos supor que temos:\n",
    "\n",
    "sequencia = {x1, x2, x3 .... xn}"
   ]
  },
  {
   "cell_type": "markdown",
   "metadata": {},
   "source": [
    "<font size=\"5\">\\<x> = E[x] = media de x = $\\frac{\\sum_{i=1}^n{x_i}}{n}$</font>"
   ]
  },
  {
   "cell_type": "markdown",
   "metadata": {},
   "source": [
    "### media de X = valor esperado de X\n",
    "\n",
    "media = soma de todos os elementos dividido pelo número de elementos"
   ]
  },
  {
   "cell_type": "markdown",
   "metadata": {},
   "source": [
    "### O que é desvio padrão (amostral)?\n",
    "\n",
    "#### Por que desvio padrão é a soma das diferenças entre cada valor e a média ao quadrado?"
   ]
  },
  {
   "cell_type": "markdown",
   "metadata": {},
   "source": [
    "<font size=\"5\">SD[x] \\= desvio padrão de x \\= $\\frac{\\sum_{i=1}^n{ (x_i - <x>)^2 }}{n}$</font>"
   ]
  },
  {
   "cell_type": "code",
   "execution_count": 2,
   "metadata": {},
   "outputs": [
    {
     "data": {
      "text/plain": [
       "([2, 5, 8, 9, 11, 15, 17, 23], 8, 11.25, 6.38)"
      ]
     },
     "execution_count": 2,
     "metadata": {},
     "output_type": "execute_result"
    }
   ],
   "source": [
    "x = [2, 5, 8, 9, 11, 15, 17, 23]\n",
    "x, len(x), np.mean(x), np.round(np.std(x), 2)"
   ]
  },
  {
   "cell_type": "markdown",
   "metadata": {},
   "source": [
    "### Mediana\n",
    "\n",
    "#### O valor que separa metade da amostra inferior e metade superior\n",
    "\n",
    "#### Importante: quando a distriuição não é simétrica ou há dúvidas, use sempre a Mediana e não a Media"
   ]
  },
  {
   "cell_type": "code",
   "execution_count": 3,
   "metadata": {},
   "outputs": [
    {
     "data": {
      "text/plain": [
       "(10.0, 'é o valor entre 9 e 11')"
      ]
     },
     "execution_count": 3,
     "metadata": {},
     "output_type": "execute_result"
    }
   ],
   "source": [
    "np.median(x), \"é o valor entre 9 e 11\""
   ]
  },
  {
   "cell_type": "markdown",
   "metadata": {},
   "source": [
    "### Moda\n",
    "\n",
    "#### é o valor mais alto de uma distribuição\n",
    "#### uma distriuição pode ter múltiplas modas"
   ]
  },
  {
   "cell_type": "code",
   "execution_count": 4,
   "metadata": {},
   "outputs": [
    {
     "data": {
      "text/plain": [
       "array([19.11748148, 19.2155859 , 21.1927358 , 18.51553303, 17.3375084 ,\n",
       "       19.76502742, 18.45171923, 18.76680802, 19.96041544, 20.7616199 ])"
      ]
     },
     "execution_count": 4,
     "metadata": {},
     "output_type": "execute_result"
    }
   ],
   "source": [
    "MU = 20\n",
    "SD = 2\n",
    "N = 100\n",
    "\n",
    "x = np.random.normal(MU, SD, N)\n",
    "x[:10]"
   ]
  },
  {
   "cell_type": "code",
   "execution_count": 5,
   "metadata": {},
   "outputs": [
    {
     "data": {
      "image/png": "[encoded data removed]",
      "text/plain": [
       "<Figure size 432x288 with 1 Axes>"
      ]
     },
     "metadata": {
      "needs_background": "light"
     },
     "output_type": "display_data"
    }
   ],
   "source": [
    "ret = plt.hist(x);"
   ]
  },
  {
   "cell_type": "code",
   "execution_count": 6,
   "metadata": {},
   "outputs": [
    {
     "data": {
      "text/plain": [
       "(array([ 1.,  2., 10., 18., 15., 20., 14., 12.,  4.,  4.]),\n",
       " array([14.87600047, 15.84690115, 16.81780183, 17.7887025 , 18.75960318,\n",
       "        19.73050385, 20.70140453, 21.67230521, 22.64320588, 23.61410656,\n",
       "        24.58500724]),\n",
       " <BarContainer object of 10 artists>)"
      ]
     },
     "execution_count": 6,
     "metadata": {},
     "output_type": "execute_result"
    }
   ],
   "source": [
    "ret"
   ]
  },
  {
   "cell_type": "code",
   "execution_count": 7,
   "metadata": {},
   "outputs": [
    {
     "data": {
      "text/plain": [
       "[15.4, 16.3, 17.3, 18.3, 19.2, 20.2, 21.2, 22.2, 23.1, 24.1]"
      ]
     },
     "execution_count": 7,
     "metadata": {},
     "output_type": "execute_result"
    }
   ],
   "source": [
    "counts = ret[0]\n",
    "vals   = ret[1]\n",
    "vals   = [np.round((vals[i]+vals[i+1])/2, 1) for i in range(len(vals)-1)]\n",
    "vals"
   ]
  },
  {
   "cell_type": "code",
   "execution_count": 8,
   "metadata": {},
   "outputs": [
    {
     "data": {
      "text/plain": [
       "[1, 2, 10, 18, 15, 20, 14, 12, 4, 4]"
      ]
     },
     "execution_count": 8,
     "metadata": {},
     "output_type": "execute_result"
    }
   ],
   "source": [
    "counts = [int(count) for count in counts]\n",
    "counts"
   ]
  },
  {
   "cell_type": "code",
   "execution_count": 9,
   "metadata": {},
   "outputs": [
    {
     "data": {
      "text/plain": [
       "(10, 10)"
      ]
     },
     "execution_count": 9,
     "metadata": {},
     "output_type": "execute_result"
    }
   ],
   "source": [
    "len(vals), len(counts)"
   ]
  },
  {
   "cell_type": "code",
   "execution_count": 10,
   "metadata": {},
   "outputs": [
    {
     "data": {
      "text/plain": [
       "[[15.4], [16.3, 16.3]]"
      ]
     },
     "execution_count": 10,
     "metadata": {},
     "output_type": "execute_result"
    }
   ],
   "source": [
    "vals = [ [vals[i]]*counts[i] for i in range(len(vals))]\n",
    "vals[0:2]"
   ]
  },
  {
   "cell_type": "code",
   "execution_count": 11,
   "metadata": {},
   "outputs": [
    {
     "name": "stderr",
     "output_type": "stream",
     "text": [
      "/media/flalix/5c1ba0b4-f897-451c-9068-ac5e57194590/flalix/anaconda3/envs/py_env37/lib/python3.7/site-packages/numpy/core/fromnumeric.py:87: VisibleDeprecationWarning: Creating an ndarray from ragged nested sequences (which is a list-or-tuple of lists-or-tuples-or ndarrays with different lengths or shapes) is deprecated. If you meant to do this, you must specify 'dtype=object' when creating the ndarray\n",
      "  return ufunc.reduce(obj, axis, dtype, out, **passkwargs)\n"
     ]
    },
    {
     "data": {
      "text/plain": [
       "[15.4, 16.3, 16.3, 17.3, 17.3, 17.3, 17.3, 17.3, 17.3, 17.3]"
      ]
     },
     "execution_count": 11,
     "metadata": {},
     "output_type": "execute_result"
    }
   ],
   "source": [
    "vals = np.sum(vals)\n",
    "vals[:10]"
   ]
  },
  {
   "cell_type": "code",
   "execution_count": 12,
   "metadata": {},
   "outputs": [
    {
     "data": {
      "text/plain": [
       "(19.906960176081668, 1.904156225874583, 19.88874950171645, 20.2)"
      ]
     },
     "execution_count": 12,
     "metadata": {},
     "output_type": "execute_result"
    }
   ],
   "source": [
    "from statistics import mode\n",
    "\n",
    "mu = np.mean(x)\n",
    "ssd = np.std(x)\n",
    "med = np.median(x)\n",
    "mod = mode(vals)\n",
    "\n",
    "mu, ssd, med, mod"
   ]
  },
  {
   "cell_type": "code",
   "execution_count": 13,
   "metadata": {},
   "outputs": [
    {
     "data": {
      "text/plain": [
       "Text(0.5, 1.0, 'Uma distribuição normal media=20 e sd=2 com 100 valores')"
      ]
     },
     "execution_count": 13,
     "metadata": {},
     "output_type": "execute_result"
    },
    {
     "data": {
      "image/png": "[encoded data removed]",
      "text/plain": [
       "<Figure size 432x288 with 1 Axes>"
      ]
     },
     "metadata": {
      "needs_background": "light"
     },
     "output_type": "display_data"
    }
   ],
   "source": [
    "ax = sns.distplot(x)\n",
    "ax.set_title(\"Uma distribuição normal media=%d e sd=%d com %d valores\"%(MU, SD, N))"
   ]
  },
  {
   "cell_type": "code",
   "execution_count": 14,
   "metadata": {},
   "outputs": [
    {
     "data": {
      "text/plain": [
       "<matplotlib.lines.Line2D at 0x7fa4d0b90210>"
      ]
     },
     "execution_count": 14,
     "metadata": {},
     "output_type": "execute_result"
    },
    {
     "data": {
      "image/png": "[encoded data removed]",
      "text/plain": [
       "<Figure size 432x288 with 1 Axes>"
      ]
     },
     "metadata": {
      "needs_background": "light"
     },
     "output_type": "display_data"
    }
   ],
   "source": [
    "ax = sns.distplot(x)\n",
    "ax.set_title(\"Uma distribuição normal media=%d e sd=%d com %d valores\"%(MU, SD, N))\n",
    "ax.axvline(mu, color='red')\n",
    "ax.axvline(mu+ssd, color='navy')\n",
    "ax.axvline(mu-ssd, color='navy')"
   ]
  },
  {
   "cell_type": "code",
   "execution_count": 15,
   "metadata": {},
   "outputs": [
    {
     "data": {
      "text/plain": [
       "<matplotlib.lines.Line2D at 0x7fa4d0b24f90>"
      ]
     },
     "execution_count": 15,
     "metadata": {},
     "output_type": "execute_result"
    },
    {
     "data": {
      "image/png": "[encoded data removed]",
      "text/plain": [
       "<Figure size 432x288 with 1 Axes>"
      ]
     },
     "metadata": {
      "needs_background": "light"
     },
     "output_type": "display_data"
    }
   ],
   "source": [
    "ax = sns.distplot(x)\n",
    "ax.set_title(\"Uma distribuição normal media=%d e sd=%d com %d valores\"%(MU, SD, N))\n",
    "ax.axvline(mu, color='red')\n",
    "ax.axvline(med, color='navy')\n",
    "ax.axvline(mod, color='yellow')"
   ]
  },
  {
   "cell_type": "code",
   "execution_count": 16,
   "metadata": {},
   "outputs": [
    {
     "data": {
      "text/plain": [
       "(19.406960176081668, 20.406960176081668)"
      ]
     },
     "execution_count": 16,
     "metadata": {},
     "output_type": "execute_result"
    },
    {
     "data": {
      "image/png": "[encoded data removed]",
      "text/plain": [
       "<Figure size 432x288 with 1 Axes>"
      ]
     },
     "metadata": {
      "needs_background": "light"
     },
     "output_type": "display_data"
    }
   ],
   "source": [
    "ax = sns.distplot(x)\n",
    "ax.set_title(\"Uma distribuição normal media=%d e sd=%d com %d valores\"%(MU, SD, N))\n",
    "ax.axvline(mu, color='red')\n",
    "ax.axvline(med, color='navy')\n",
    "ax.axvline(mod, color='yellow')\n",
    "ax.set_xlim(mu-0.5, mu+0.5)"
   ]
  },
  {
   "cell_type": "code",
   "execution_count": null,
   "metadata": {},
   "outputs": [],
   "source": []
  },
  {
   "cell_type": "markdown",
   "metadata": {},
   "source": [
    "### Vamos utilizar a tabela das cobras"
   ]
  },
  {
   "cell_type": "code",
   "execution_count": 17,
   "metadata": {},
   "outputs": [
    {
     "name": "stdout",
     "output_type": "stream",
     "text": [
      "Read '../data/Snake Morphotaxonomy.xlsx'\n"
     ]
    }
   ],
   "source": [
    "root_data = '../data/'\n",
    "filename = 'Snake Morphotaxonomy.xlsx'\n",
    "\n",
    "fullpath = os.path.join(root_data, filename)\n",
    "\n",
    "try:\n",
    "    df = pd.read_excel(fullpath)\n",
    "    print(\"Read '%s'\"%fullpath)\n",
    "except:\n",
    "    print(\"Could not read '%s'\"%fullpath)"
   ]
  },
  {
   "cell_type": "code",
   "execution_count": 18,
   "metadata": {},
   "outputs": [
    {
     "name": "stdout",
     "output_type": "stream",
     "text": [
      "(240, 9)\n",
      "Index(['species', 'population', 'sex', 'RDS', 'VS', 'HL', 'TaL', 'temperature',\n",
      "       'elevation'],\n",
      "      dtype='object')\n"
     ]
    },
    {
     "data": {
      "text/html": [
       "<div>\n",
       "<style scoped>\n",
       "    .dataframe tbody tr th:only-of-type {\n",
       "        vertical-align: middle;\n",
       "    }\n",
       "\n",
       "    .dataframe tbody tr th {\n",
       "        vertical-align: top;\n",
       "    }\n",
       "\n",
       "    .dataframe thead th {\n",
       "        text-align: right;\n",
       "    }\n",
       "</style>\n",
       "<table border=\"1\" class=\"dataframe\">\n",
       "  <thead>\n",
       "    <tr style=\"text-align: right;\">\n",
       "      <th></th>\n",
       "      <th>species</th>\n",
       "      <th>population</th>\n",
       "      <th>sex</th>\n",
       "      <th>RDS</th>\n",
       "      <th>VS</th>\n",
       "      <th>HL</th>\n",
       "      <th>TaL</th>\n",
       "      <th>temperature</th>\n",
       "      <th>elevation</th>\n",
       "    </tr>\n",
       "  </thead>\n",
       "  <tbody>\n",
       "    <tr>\n",
       "      <th>0</th>\n",
       "      <td>B_jararaca</td>\n",
       "      <td>RJ_serra</td>\n",
       "      <td>Female</td>\n",
       "      <td>23</td>\n",
       "      <td>144</td>\n",
       "      <td>25.0</td>\n",
       "      <td>34.0</td>\n",
       "      <td>20.3</td>\n",
       "      <td>894</td>\n",
       "    </tr>\n",
       "    <tr>\n",
       "      <th>1</th>\n",
       "      <td>B_jararaca</td>\n",
       "      <td>RJ_serra</td>\n",
       "      <td>Female</td>\n",
       "      <td>23</td>\n",
       "      <td>145</td>\n",
       "      <td>25.0</td>\n",
       "      <td>43.0</td>\n",
       "      <td>20.3</td>\n",
       "      <td>894</td>\n",
       "    </tr>\n",
       "    <tr>\n",
       "      <th>2</th>\n",
       "      <td>B_jararaca</td>\n",
       "      <td>RJ_serra</td>\n",
       "      <td>Female</td>\n",
       "      <td>23</td>\n",
       "      <td>144</td>\n",
       "      <td>17.0</td>\n",
       "      <td>18.0</td>\n",
       "      <td>23.2</td>\n",
       "      <td>173</td>\n",
       "    </tr>\n",
       "  </tbody>\n",
       "</table>\n",
       "</div>"
      ],
      "text/plain": [
       "      species population     sex  RDS   VS    HL   TaL  temperature  elevation\n",
       "0  B_jararaca   RJ_serra  Female   23  144  25.0  34.0         20.3        894\n",
       "1  B_jararaca   RJ_serra  Female   23  145  25.0  43.0         20.3        894\n",
       "2  B_jararaca   RJ_serra  Female   23  144  17.0  18.0         23.2        173"
      ]
     },
     "execution_count": 18,
     "metadata": {},
     "output_type": "execute_result"
    }
   ],
   "source": [
    "print(df.shape)\n",
    "print(df.columns)\n",
    "df.head(3)"
   ]
  },
  {
   "cell_type": "markdown",
   "metadata": {},
   "source": [
    "### Média = valor esperado"
   ]
  },
  {
   "cell_type": "code",
   "execution_count": 19,
   "metadata": {},
   "outputs": [
    {
     "data": {
      "text/plain": [
       "(25.305375, 7.451745847570101, 240)"
      ]
     },
     "execution_count": 19,
     "metadata": {},
     "output_type": "execute_result"
    }
   ],
   "source": [
    "mu = df.HL.mean()\n",
    "sd = df.HL.std()\n",
    "n  = df.HL.count()\n",
    "\n",
    "mu, sd, n"
   ]
  },
  {
   "cell_type": "markdown",
   "metadata": {},
   "source": [
    "### Mas, lembre-se que há várias espécies"
   ]
  },
  {
   "cell_type": "code",
   "execution_count": 20,
   "metadata": {},
   "outputs": [
    {
     "data": {
      "text/plain": [
       "array(['B_jararaca', 'B_terrificus', 'B_new'], dtype=object)"
      ]
     },
     "execution_count": 20,
     "metadata": {},
     "output_type": "execute_result"
    }
   ],
   "source": [
    "specList = df.species.unique()\n",
    "specList"
   ]
  },
  {
   "cell_type": "code",
   "execution_count": 21,
   "metadata": {},
   "outputs": [
    {
     "data": {
      "text/plain": [
       "(24.299065420560748, 8.213214103551309, 107)"
      ]
     },
     "execution_count": 21,
     "metadata": {},
     "output_type": "execute_result"
    }
   ],
   "source": [
    "df_jar = df[df.species == 'B_jararaca']\n",
    "\n",
    "mu_jar = df_jar.HL.mean()\n",
    "sd_jar = df_jar.HL.std()\n",
    "n_jar  = df_jar.HL.count()\n",
    "\n",
    "mu_jar, sd_jar, n_jar"
   ]
  },
  {
   "cell_type": "code",
   "execution_count": 22,
   "metadata": {},
   "outputs": [
    {
     "data": {
      "text/plain": [
       "(24.262403846153845, 6.24353280862784, 104)"
      ]
     },
     "execution_count": 22,
     "metadata": {},
     "output_type": "execute_result"
    }
   ],
   "source": [
    "df_ter = df[df.species == 'B_terrificus']\n",
    "\n",
    "mu_ter = df_ter.HL.mean()\n",
    "sd_ter = df_ter.HL.std()\n",
    "n_ter  = df_ter.HL.count()\n",
    "\n",
    "mu_ter, sd_ter, n_ter"
   ]
  },
  {
   "cell_type": "markdown",
   "metadata": {},
   "source": [
    "### Porque a média (HL) geral é 25.30 e a média das espécies é menor?"
   ]
  },
  {
   "cell_type": "markdown",
   "metadata": {},
   "source": [
    "### Porque o desvio padrão amostral (HL) geral é 7.45 e o SSD das espécies um é maior e outro é menor?"
   ]
  },
  {
   "cell_type": "code",
   "execution_count": null,
   "metadata": {},
   "outputs": [],
   "source": []
  },
  {
   "cell_type": "code",
   "execution_count": null,
   "metadata": {},
   "outputs": [],
   "source": []
  },
  {
   "cell_type": "code",
   "execution_count": null,
   "metadata": {},
   "outputs": [],
   "source": []
  },
  {
   "cell_type": "code",
   "execution_count": null,
   "metadata": {},
   "outputs": [],
   "source": []
  },
  {
   "cell_type": "code",
   "execution_count": null,
   "metadata": {},
   "outputs": [],
   "source": []
  },
  {
   "cell_type": "code",
   "execution_count": null,
   "metadata": {},
   "outputs": [],
   "source": []
  },
  {
   "cell_type": "markdown",
   "metadata": {},
   "source": [
    "### Será porque esquecemos da terceira espécie?"
   ]
  },
  {
   "cell_type": "code",
   "execution_count": 23,
   "metadata": {},
   "outputs": [
    {
     "data": {
      "text/plain": [
       "(32.758620689655174, 3.1242733145232933, 29)"
      ]
     },
     "execution_count": 23,
     "metadata": {},
     "output_type": "execute_result"
    }
   ],
   "source": [
    "df_new = df[df.species == 'B_new']\n",
    "\n",
    "mu_new = df_new.HL.mean()\n",
    "sd_new = df_new.HL.std()\n",
    "n_new  = df_new.HL.count()\n",
    "\n",
    "mu_new, sd_new, n_new"
   ]
  },
  {
   "cell_type": "code",
   "execution_count": null,
   "metadata": {},
   "outputs": [],
   "source": []
  },
  {
   "cell_type": "markdown",
   "metadata": {},
   "source": [
    "### O que estes resultados significam ? Como compará-los"
   ]
  },
  {
   "cell_type": "code",
   "execution_count": null,
   "metadata": {},
   "outputs": [],
   "source": []
  },
  {
   "cell_type": "code",
   "execution_count": null,
   "metadata": {},
   "outputs": [],
   "source": []
  },
  {
   "cell_type": "markdown",
   "metadata": {},
   "source": [
    "### Usando Pandas para calcular estatística descritiva\n",
    "\n",
    "#### O Pandas tem uma função chamada groupby - aggregate"
   ]
  },
  {
   "cell_type": "code",
   "execution_count": 24,
   "metadata": {},
   "outputs": [
    {
     "data": {
      "text/plain": [
       "<pandas.core.groupby.generic.DataFrameGroupBy object at 0x7fa4d0a66b90>"
      ]
     },
     "execution_count": 24,
     "metadata": {},
     "output_type": "execute_result"
    }
   ],
   "source": [
    "df.groupby('species')"
   ]
  },
  {
   "cell_type": "markdown",
   "metadata": {},
   "source": [
    "### O pd.groupby cria um generator\n",
    "\n",
    "  - agruando por especie\n",
    "  - para cada especie imprimindo as primeiras 4 linhas, e 5 colunas (filtro via iloc)"
   ]
  },
  {
   "cell_type": "code",
   "execution_count": 25,
   "metadata": {},
   "outputs": [
    {
     "name": "stdout",
     "output_type": "stream",
     "text": [
      "B_jararaca\n",
      "\n",
      "       species population     sex  RDS   VS\n",
      "0  B_jararaca   RJ_serra  Female   23  144\n",
      "1  B_jararaca   RJ_serra  Female   23  145\n",
      "2  B_jararaca   RJ_serra  Female   23  144\n",
      "3  B_jararaca   RJ_serra  Female   23  144 \n",
      "\n",
      "\n",
      "B_new\n",
      "\n",
      "     species population     sex  RDS   VS\n",
      "211   B_new   Colombia  Female   25  143\n",
      "212   B_new   Colombia  Female   23  145\n",
      "213   B_new   Colombia  Female   23  143\n",
      "214   B_new   Colombia  Female   25  144 \n",
      "\n",
      "\n",
      "B_terrificus\n",
      "\n",
      "           species   population     sex  RDS   VS\n",
      "107  B_terrificus  SP_planalto  Female   27  154\n",
      "108  B_terrificus  SP_planalto  Female   25  153\n",
      "109  B_terrificus  SP_planalto  Female   25  155\n",
      "110  B_terrificus  SP_planalto  Female   27  156 \n",
      "\n",
      "\n"
     ]
    }
   ],
   "source": [
    "for g, data in df.groupby('species'):\n",
    "    print(g)\n",
    "    print(\"\\n\",data.iloc[:4,:5],\"\\n\\n\")"
   ]
  },
  {
   "cell_type": "markdown",
   "metadata": {},
   "source": [
    "### pd.groupby + aggregate"
   ]
  },
  {
   "cell_type": "code",
   "execution_count": 26,
   "metadata": {},
   "outputs": [
    {
     "data": {
      "text/html": [
       "<div>\n",
       "<style scoped>\n",
       "    .dataframe tbody tr th:only-of-type {\n",
       "        vertical-align: middle;\n",
       "    }\n",
       "\n",
       "    .dataframe tbody tr th {\n",
       "        vertical-align: top;\n",
       "    }\n",
       "\n",
       "    .dataframe thead th {\n",
       "        text-align: right;\n",
       "    }\n",
       "</style>\n",
       "<table border=\"1\" class=\"dataframe\">\n",
       "  <thead>\n",
       "    <tr style=\"text-align: right;\">\n",
       "      <th></th>\n",
       "      <th>RDS</th>\n",
       "      <th>VS</th>\n",
       "      <th>HL</th>\n",
       "      <th>TaL</th>\n",
       "      <th>temperature</th>\n",
       "      <th>elevation</th>\n",
       "    </tr>\n",
       "    <tr>\n",
       "      <th>species</th>\n",
       "      <th></th>\n",
       "      <th></th>\n",
       "      <th></th>\n",
       "      <th></th>\n",
       "      <th></th>\n",
       "      <th></th>\n",
       "    </tr>\n",
       "  </thead>\n",
       "  <tbody>\n",
       "    <tr>\n",
       "      <th>B_jararaca</th>\n",
       "      <td>23.186916</td>\n",
       "      <td>138.878505</td>\n",
       "      <td>24.299065</td>\n",
       "      <td>35.556075</td>\n",
       "      <td>23.450467</td>\n",
       "      <td>391.532710</td>\n",
       "    </tr>\n",
       "    <tr>\n",
       "      <th>B_new</th>\n",
       "      <td>23.586207</td>\n",
       "      <td>145.448276</td>\n",
       "      <td>32.758621</td>\n",
       "      <td>49.655172</td>\n",
       "      <td>22.810345</td>\n",
       "      <td>1005.620690</td>\n",
       "    </tr>\n",
       "    <tr>\n",
       "      <th>B_terrificus</th>\n",
       "      <td>24.778846</td>\n",
       "      <td>156.057692</td>\n",
       "      <td>24.262404</td>\n",
       "      <td>42.217308</td>\n",
       "      <td>26.746154</td>\n",
       "      <td>138.259615</td>\n",
       "    </tr>\n",
       "  </tbody>\n",
       "</table>\n",
       "</div>"
      ],
      "text/plain": [
       "                    RDS          VS         HL        TaL  temperature  \\\n",
       "species                                                                  \n",
       "B_jararaca    23.186916  138.878505  24.299065  35.556075    23.450467   \n",
       "B_new         23.586207  145.448276  32.758621  49.655172    22.810345   \n",
       "B_terrificus  24.778846  156.057692  24.262404  42.217308    26.746154   \n",
       "\n",
       "                elevation  \n",
       "species                    \n",
       "B_jararaca     391.532710  \n",
       "B_new         1005.620690  \n",
       "B_terrificus   138.259615  "
      ]
     },
     "execution_count": 26,
     "metadata": {},
     "output_type": "execute_result"
    }
   ],
   "source": [
    "# média de todos os campos numéricos encontrados\n",
    "df.groupby('species').agg('mean')"
   ]
  },
  {
   "cell_type": "code",
   "execution_count": 27,
   "metadata": {},
   "outputs": [
    {
     "data": {
      "text/html": [
       "<div>\n",
       "<style scoped>\n",
       "    .dataframe tbody tr th:only-of-type {\n",
       "        vertical-align: middle;\n",
       "    }\n",
       "\n",
       "    .dataframe tbody tr th {\n",
       "        vertical-align: top;\n",
       "    }\n",
       "\n",
       "    .dataframe thead tr th {\n",
       "        text-align: left;\n",
       "    }\n",
       "\n",
       "    .dataframe thead tr:last-of-type th {\n",
       "        text-align: right;\n",
       "    }\n",
       "</style>\n",
       "<table border=\"1\" class=\"dataframe\">\n",
       "  <thead>\n",
       "    <tr>\n",
       "      <th></th>\n",
       "      <th colspan=\"3\" halign=\"left\">RDS</th>\n",
       "      <th colspan=\"3\" halign=\"left\">VS</th>\n",
       "      <th colspan=\"3\" halign=\"left\">HL</th>\n",
       "      <th colspan=\"3\" halign=\"left\">TaL</th>\n",
       "      <th colspan=\"3\" halign=\"left\">temperature</th>\n",
       "      <th colspan=\"3\" halign=\"left\">elevation</th>\n",
       "    </tr>\n",
       "    <tr>\n",
       "      <th></th>\n",
       "      <th>mean</th>\n",
       "      <th>median</th>\n",
       "      <th>std</th>\n",
       "      <th>mean</th>\n",
       "      <th>median</th>\n",
       "      <th>std</th>\n",
       "      <th>mean</th>\n",
       "      <th>median</th>\n",
       "      <th>std</th>\n",
       "      <th>mean</th>\n",
       "      <th>median</th>\n",
       "      <th>std</th>\n",
       "      <th>mean</th>\n",
       "      <th>median</th>\n",
       "      <th>std</th>\n",
       "      <th>mean</th>\n",
       "      <th>median</th>\n",
       "      <th>std</th>\n",
       "    </tr>\n",
       "    <tr>\n",
       "      <th>species</th>\n",
       "      <th></th>\n",
       "      <th></th>\n",
       "      <th></th>\n",
       "      <th></th>\n",
       "      <th></th>\n",
       "      <th></th>\n",
       "      <th></th>\n",
       "      <th></th>\n",
       "      <th></th>\n",
       "      <th></th>\n",
       "      <th></th>\n",
       "      <th></th>\n",
       "      <th></th>\n",
       "      <th></th>\n",
       "      <th></th>\n",
       "      <th></th>\n",
       "      <th></th>\n",
       "      <th></th>\n",
       "    </tr>\n",
       "  </thead>\n",
       "  <tbody>\n",
       "    <tr>\n",
       "      <th>B_jararaca</th>\n",
       "      <td>23.186916</td>\n",
       "      <td>23</td>\n",
       "      <td>0.753994</td>\n",
       "      <td>138.878505</td>\n",
       "      <td>138</td>\n",
       "      <td>4.264178</td>\n",
       "      <td>24.299065</td>\n",
       "      <td>22.0</td>\n",
       "      <td>8.213214</td>\n",
       "      <td>35.556075</td>\n",
       "      <td>33.0</td>\n",
       "      <td>13.451928</td>\n",
       "      <td>23.450467</td>\n",
       "      <td>24.6</td>\n",
       "      <td>3.017977</td>\n",
       "      <td>391.532710</td>\n",
       "      <td>173</td>\n",
       "      <td>441.581684</td>\n",
       "    </tr>\n",
       "    <tr>\n",
       "      <th>B_new</th>\n",
       "      <td>23.586207</td>\n",
       "      <td>23</td>\n",
       "      <td>0.907006</td>\n",
       "      <td>145.448276</td>\n",
       "      <td>145</td>\n",
       "      <td>2.733211</td>\n",
       "      <td>32.758621</td>\n",
       "      <td>32.0</td>\n",
       "      <td>3.124273</td>\n",
       "      <td>49.655172</td>\n",
       "      <td>50.0</td>\n",
       "      <td>6.154417</td>\n",
       "      <td>22.810345</td>\n",
       "      <td>22.8</td>\n",
       "      <td>0.888958</td>\n",
       "      <td>1005.620690</td>\n",
       "      <td>1050</td>\n",
       "      <td>183.859887</td>\n",
       "    </tr>\n",
       "    <tr>\n",
       "      <th>B_terrificus</th>\n",
       "      <td>24.778846</td>\n",
       "      <td>25</td>\n",
       "      <td>1.060836</td>\n",
       "      <td>156.057692</td>\n",
       "      <td>156</td>\n",
       "      <td>4.384055</td>\n",
       "      <td>24.262404</td>\n",
       "      <td>25.0</td>\n",
       "      <td>6.243533</td>\n",
       "      <td>42.217308</td>\n",
       "      <td>46.5</td>\n",
       "      <td>12.706488</td>\n",
       "      <td>26.746154</td>\n",
       "      <td>27.0</td>\n",
       "      <td>1.411184</td>\n",
       "      <td>138.259615</td>\n",
       "      <td>50</td>\n",
       "      <td>250.637013</td>\n",
       "    </tr>\n",
       "  </tbody>\n",
       "</table>\n",
       "</div>"
      ],
      "text/plain": [
       "                    RDS                           VS                   \\\n",
       "                   mean median       std        mean median       std   \n",
       "species                                                                 \n",
       "B_jararaca    23.186916     23  0.753994  138.878505    138  4.264178   \n",
       "B_new         23.586207     23  0.907006  145.448276    145  2.733211   \n",
       "B_terrificus  24.778846     25  1.060836  156.057692    156  4.384055   \n",
       "\n",
       "                     HL                         TaL                    \\\n",
       "                   mean median       std       mean median        std   \n",
       "species                                                                 \n",
       "B_jararaca    24.299065   22.0  8.213214  35.556075   33.0  13.451928   \n",
       "B_new         32.758621   32.0  3.124273  49.655172   50.0   6.154417   \n",
       "B_terrificus  24.262404   25.0  6.243533  42.217308   46.5  12.706488   \n",
       "\n",
       "             temperature                     elevation                     \n",
       "                    mean median       std         mean median         std  \n",
       "species                                                                    \n",
       "B_jararaca     23.450467   24.6  3.017977   391.532710    173  441.581684  \n",
       "B_new          22.810345   22.8  0.888958  1005.620690   1050  183.859887  \n",
       "B_terrificus   26.746154   27.0  1.411184   138.259615     50  250.637013  "
      ]
     },
     "execution_count": 27,
     "metadata": {},
     "output_type": "execute_result"
    }
   ],
   "source": [
    "# pandas usa as funções do numpy\n",
    "# repare que gera um cabeçalho de duas dimensões!\n",
    "df.groupby('species').agg(['mean', 'median', 'std'])"
   ]
  },
  {
   "cell_type": "markdown",
   "metadata": {},
   "source": [
    "### Calculando somente uma variável"
   ]
  },
  {
   "cell_type": "code",
   "execution_count": 28,
   "metadata": {},
   "outputs": [
    {
     "data": {
      "text/html": [
       "<div>\n",
       "<style scoped>\n",
       "    .dataframe tbody tr th:only-of-type {\n",
       "        vertical-align: middle;\n",
       "    }\n",
       "\n",
       "    .dataframe tbody tr th {\n",
       "        vertical-align: top;\n",
       "    }\n",
       "\n",
       "    .dataframe thead th {\n",
       "        text-align: right;\n",
       "    }\n",
       "</style>\n",
       "<table border=\"1\" class=\"dataframe\">\n",
       "  <thead>\n",
       "    <tr style=\"text-align: right;\">\n",
       "      <th></th>\n",
       "      <th>mean</th>\n",
       "      <th>median</th>\n",
       "      <th>std</th>\n",
       "    </tr>\n",
       "    <tr>\n",
       "      <th>species</th>\n",
       "      <th></th>\n",
       "      <th></th>\n",
       "      <th></th>\n",
       "    </tr>\n",
       "  </thead>\n",
       "  <tbody>\n",
       "    <tr>\n",
       "      <th>B_jararaca</th>\n",
       "      <td>24.299065</td>\n",
       "      <td>22.0</td>\n",
       "      <td>8.213214</td>\n",
       "    </tr>\n",
       "    <tr>\n",
       "      <th>B_new</th>\n",
       "      <td>32.758621</td>\n",
       "      <td>32.0</td>\n",
       "      <td>3.124273</td>\n",
       "    </tr>\n",
       "    <tr>\n",
       "      <th>B_terrificus</th>\n",
       "      <td>24.262404</td>\n",
       "      <td>25.0</td>\n",
       "      <td>6.243533</td>\n",
       "    </tr>\n",
       "  </tbody>\n",
       "</table>\n",
       "</div>"
      ],
      "text/plain": [
       "                   mean  median       std\n",
       "species                                  \n",
       "B_jararaca    24.299065    22.0  8.213214\n",
       "B_new         32.758621    32.0  3.124273\n",
       "B_terrificus  24.262404    25.0  6.243533"
      ]
     },
     "execution_count": 28,
     "metadata": {},
     "output_type": "execute_result"
    }
   ],
   "source": [
    "df.groupby('species').HL.agg(['mean', 'median', 'std'])"
   ]
  },
  {
   "cell_type": "markdown",
   "metadata": {},
   "source": [
    "### e ainda há muito mais ..."
   ]
  },
  {
   "cell_type": "code",
   "execution_count": null,
   "metadata": {},
   "outputs": [],
   "source": []
  },
  {
   "cell_type": "markdown",
   "metadata": {},
   "source": [
    "### Faça o mesmo para populações"
   ]
  },
  {
   "cell_type": "code",
   "execution_count": null,
   "metadata": {},
   "outputs": [],
   "source": []
  }
 ],
 "metadata": {
  "kernelspec": {
   "display_name": "Python 3",
   "language": "python",
   "name": "python3"
  },
  "language_info": {
   "codemirror_mode": {
    "name": "ipython",
    "version": 3
   },
   "file_extension": ".py",
   "mimetype": "text/x-python",
   "name": "python",
   "nbconvert_exporter": "python",
   "pygments_lexer": "ipython3",
   "version": "3.7.7"
  }
 },
 "nbformat": 4,
 "nbformat_minor": 4
}
