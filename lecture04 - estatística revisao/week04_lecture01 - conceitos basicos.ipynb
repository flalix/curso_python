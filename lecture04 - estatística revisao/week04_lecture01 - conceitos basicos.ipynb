{
 "cells": [
  {
   "cell_type": "markdown",
   "metadata": {},
   "source": [
    "### Estatística descritiva - introdução & revisão\n",
    "  \n",
    "Usando:  \n",
    "  - Pandas\n",
    "  - Numpy\n",
    "  - Matplotlib e Seaborn"
   ]
  },
  {
   "cell_type": "code",
   "execution_count": 1,
   "metadata": {},
   "outputs": [],
   "source": [
    "import os, sys, math\n",
    "import numpy as np\n",
    "import pandas as pd\n",
    "import seaborn as sns\n",
    "from scipy import stats\n",
    "\n",
    "import matplotlib.pyplot as plt # matplotlib e seu alias plt\n",
    "%matplotlib inline"
   ]
  },
  {
   "cell_type": "markdown",
   "metadata": {},
   "source": [
    "### O que é média?\n",
    "\n",
    "Vamos supor que temos:\n",
    "\n",
    "sequencia = {x1, x2, x3 .... xn}"
   ]
  },
  {
   "cell_type": "markdown",
   "metadata": {},
   "source": [
    "<font size=\"5\">\\<x> = E[x] = media de x = $\\frac{\\sum_{i=1}^n{x_i}}{n}$</font>"
   ]
  },
  {
   "cell_type": "markdown",
   "metadata": {},
   "source": [
    "### media de X = valor esperado de X\n",
    "\n",
    "media = soma de todos os elementos dividido pelo número de elementos\n",
    "\n",
    "normalmente se utiliza \n",
    "  - X (maiúsculo) para a lista, série de dados\n",
    "  - x (minúsculo) para um determinado (particular) dado"
   ]
  },
  {
   "cell_type": "markdown",
   "metadata": {},
   "source": [
    "### O que é desvio padrão populacional?\n",
    "   Dado que conheço uma população, dada uma medida, qual a sua dispersão.\n",
    "\n",
    "### O que é desvio padrão (amostral)?\n",
    "   É a dispersão de uma medida dada uma amostra.\n",
    "   Importante, que se você fizer **3 experimentos distintos**, você vai gerar 3 desvios padrões distintos e obviamente 3 medias distintas.\n",
    "   A isto se chama replicata biológica (3 experimentos: triplicata)\n",
    "\n",
    "### O que influência o número amostral?\n",
    "\n",
    "Dado que conheço uma amostra (n amostral << Npop)  \n",
    "  - Um n amostral:\n",
    "    - pequeno (N < 30): gera erros ao estimar a media e o desvio padrão\n",
    "    - grande  (30 >= N >= 100): minimiza estes erros\n",
    "    - muito grande (N >> 30): valores esperados (media e desvio padrão) muito próxima \"da realidade\" (população)\n"
   ]
  },
  {
   "cell_type": "markdown",
   "metadata": {},
   "source": [
    "<font size=\"5\">Var[X] \\= variança de x \\= $\\frac{\\sum_{i=1}^n{ (x_i - <x>)^2 }}{n}$</font>\n",
    "\n",
    "<font size=\"5\">SD[X] = SQRT(Var[X])</font>\n",
    "\n",
    "#### Por que desvio padrão é a soma das diferenças entre cada valor e a média ao quadrado?"
   ]
  },
  {
   "cell_type": "code",
   "execution_count": 36,
   "metadata": {},
   "outputs": [
    {
     "data": {
      "text/plain": [
       "([2, 5, 17, 9, 11, 15, 8, 23], 8, 11.25, 6.38)"
      ]
     },
     "execution_count": 36,
     "metadata": {},
     "output_type": "execute_result"
    }
   ],
   "source": [
    "x = [2, 5, 17, 9, 11, 15, 8, 23]\n",
    "\n",
    "# posso utilizar numpy para achar media, SD ....\n",
    "x, len(x), np.mean(x), np.round(np.std(x), 2)"
   ]
  },
  {
   "cell_type": "code",
   "execution_count": 34,
   "metadata": {},
   "outputs": [
    {
     "data": {
      "text/plain": [
       "11.25"
      ]
     },
     "execution_count": 34,
     "metadata": {},
     "output_type": "execute_result"
    }
   ],
   "source": [
    "n = len(x)\n",
    "\n",
    "# inicialização, com valor 0\n",
    "media = 0\n",
    "for xi in x:\n",
    "    media += xi\n",
    "\n",
    "media = media / n\n",
    "media"
   ]
  },
  {
   "cell_type": "code",
   "execution_count": 32,
   "metadata": {},
   "outputs": [
    {
     "data": {
      "text/plain": [
       "6.38"
      ]
     },
     "execution_count": 32,
     "metadata": {},
     "output_type": "execute_result"
    }
   ],
   "source": [
    "# inicialização, com valor 0\n",
    "sd = 0\n",
    "\n",
    "for xi in x:\n",
    "    sd += (xi - media)**2\n",
    "    \n",
    "sd /= n\n",
    "sd = np.sqrt(sd)\n",
    "np.round(sd, 2)"
   ]
  },
  {
   "cell_type": "code",
   "execution_count": null,
   "metadata": {},
   "outputs": [],
   "source": []
  },
  {
   "cell_type": "markdown",
   "metadata": {},
   "source": [
    "### Mediana\n",
    "\n",
    "#### O valor que separa metade da amostra inferior e metade superior\n",
    "\n",
    "Analisar o peso 100 camundongos após um dado tratamento:\n",
    "  - ordeno os camundos por peso (menor --> maior peso)\n",
    "    - vou ter os 50 primeiros\n",
    "    - vou ter os 50 últimos mais pesados\n",
    "    - o valor intermediário = MEDIANA\n",
    "\n",
    "#### Importante: quando a distribuição não é simétrica ou há dúvidas, use sempre a Mediana e não a Media\n",
    "\n",
    "#### Mediana é o melhor parâmetro para avaliar o valor central de uma distribuição\n",
    "\n",
    "(mais adiante vamos ver o que é distribuição)"
   ]
  },
  {
   "cell_type": "code",
   "execution_count": 37,
   "metadata": {},
   "outputs": [
    {
     "data": {
      "text/plain": [
       "[2, 5, 17, 9, 11, 15, 8, 23]"
      ]
     },
     "execution_count": 37,
     "metadata": {},
     "output_type": "execute_result"
    }
   ],
   "source": [
    "x"
   ]
  },
  {
   "cell_type": "code",
   "execution_count": 39,
   "metadata": {},
   "outputs": [
    {
     "data": {
      "text/plain": [
       "([2, 5, 8, 9, 11, 15, 17, 23], 8)"
      ]
     },
     "execution_count": 39,
     "metadata": {},
     "output_type": "execute_result"
    }
   ],
   "source": [
    "x.sort()\n",
    "x, len(x)"
   ]
  },
  {
   "cell_type": "code",
   "execution_count": 40,
   "metadata": {},
   "outputs": [
    {
     "data": {
      "text/plain": [
       "(10.0, 'é o valor entre 9 e 11')"
      ]
     },
     "execution_count": 40,
     "metadata": {},
     "output_type": "execute_result"
    }
   ],
   "source": [
    "np.median(x), \"é o valor entre 9 e 11\""
   ]
  },
  {
   "cell_type": "markdown",
   "metadata": {},
   "source": [
    "### Moda\n",
    "\n",
    "#### é o valor com mais alta frequência\n",
    "\n",
    "#### uma distriuição pode ter múltiplas modas (multimodal)"
   ]
  },
  {
   "cell_type": "code",
   "execution_count": 41,
   "metadata": {},
   "outputs": [
    {
     "data": {
      "text/plain": [
       "array([20.05862993, 22.2325658 , 20.42031308, 21.85331229, 20.96046959,\n",
       "       22.55010201, 20.72641431, 21.14833725, 19.2902451 , 19.79808095])"
      ]
     },
     "execution_count": 41,
     "metadata": {},
     "output_type": "execute_result"
    }
   ],
   "source": [
    "MU = 20\n",
    "SD = 2\n",
    "N = 100\n",
    "\n",
    "x = np.random.normal(MU, SD, N)\n",
    "x[:10]"
   ]
  },
  {
   "cell_type": "code",
   "execution_count": 46,
   "metadata": {
    "scrolled": true
   },
   "outputs": [
    {
     "data": {
      "text/plain": [
       "(array([ 2.,  2., 11.,  9., 17., 19., 15., 14.,  7.,  4.]),\n",
       " array([15.29333316, 16.22392308, 17.15451301, 18.08510293, 19.01569286,\n",
       "        19.94628278, 20.87687271, 21.80746263, 22.73805256, 23.66864248,\n",
       "        24.5992324 ]),\n",
       " <BarContainer object of 10 artists>)"
      ]
     },
     "execution_count": 46,
     "metadata": {},
     "output_type": "execute_result"
    },
    {
     "data": {
      "image/png": "[encoded data removed]",
      "text/plain": [
       "<Figure size 432x288 with 1 Axes>"
      ]
     },
     "metadata": {
      "needs_background": "light"
     },
     "output_type": "display_data"
    }
   ],
   "source": [
    "plt.hist(x)"
   ]
  },
  {
   "cell_type": "code",
   "execution_count": 53,
   "metadata": {},
   "outputs": [
    {
     "data": {
      "image/png": "[encoded data removed]",
      "text/plain": [
       "<Figure size 432x288 with 1 Axes>"
      ]
     },
     "metadata": {
      "needs_background": "light"
     },
     "output_type": "display_data"
    }
   ],
   "source": [
    "# na distribuição normal: media == mediana == moda\n",
    "ret = plt.hist(x);\n",
    "plt.title(\"Histograma: barplot de frequências\");"
   ]
  },
  {
   "cell_type": "code",
   "execution_count": 47,
   "metadata": {},
   "outputs": [
    {
     "data": {
      "text/plain": [
       "(array([ 2.,  2., 11.,  9., 17., 19., 15., 14.,  7.,  4.]),\n",
       " array([15.29333316, 16.22392308, 17.15451301, 18.08510293, 19.01569286,\n",
       "        19.94628278, 20.87687271, 21.80746263, 22.73805256, 23.66864248,\n",
       "        24.5992324 ]),\n",
       " <BarContainer object of 10 artists>)"
      ]
     },
     "execution_count": 47,
     "metadata": {},
     "output_type": "execute_result"
    }
   ],
   "source": [
    "ret"
   ]
  },
  {
   "cell_type": "code",
   "execution_count": 58,
   "metadata": {},
   "outputs": [
    {
     "data": {
      "text/plain": [
       "[15.8, 16.7, 17.6, 18.6, 19.5, 20.4, 21.3, 22.3, 23.2, 24.1]"
      ]
     },
     "execution_count": 58,
     "metadata": {},
     "output_type": "execute_result"
    }
   ],
   "source": [
    "# frequencia\n",
    "counts = ret[0]\n",
    "\n",
    "# bins do eixo x ~ posx\n",
    "posx   = ret[1]\n",
    "posx   = [np.round((posx[i]+posx[i+1])/2, 1) for i in range(len(posx)-1)]\n",
    "posx"
   ]
  },
  {
   "cell_type": "code",
   "execution_count": 59,
   "metadata": {},
   "outputs": [
    {
     "data": {
      "text/plain": [
       "(10, 10)"
      ]
     },
     "execution_count": 59,
     "metadata": {},
     "output_type": "execute_result"
    }
   ],
   "source": [
    "len(posx), len(counts)"
   ]
  },
  {
   "cell_type": "code",
   "execution_count": 60,
   "metadata": {},
   "outputs": [
    {
     "data": {
      "text/plain": [
       "[2, 2, 11, 9, 17, 19, 15, 14, 7, 4]"
      ]
     },
     "execution_count": 60,
     "metadata": {},
     "output_type": "execute_result"
    }
   ],
   "source": [
    "counts = [int(count) for count in counts]\n",
    "counts"
   ]
  },
  {
   "cell_type": "code",
   "execution_count": 64,
   "metadata": {},
   "outputs": [
    {
     "data": {
      "text/plain": [
       "[[15.8, 15.8], [16.7, 16.7]]"
      ]
     },
     "execution_count": 64,
     "metadata": {},
     "output_type": "execute_result"
    }
   ],
   "source": [
    "# comprehension: tuplica os valores de posx\n",
    "vals = [ [posx[i]]*counts[i] for i in range(len(posx))]\n",
    "vals[0:2]"
   ]
  },
  {
   "cell_type": "code",
   "execution_count": 65,
   "metadata": {},
   "outputs": [
    {
     "data": {
      "text/plain": [
       "[15.8, 15.8, 16.7, 16.7, 17.6, 17.6, 17.6, 17.6, 17.6, 17.6]"
      ]
     },
     "execution_count": 65,
     "metadata": {},
     "output_type": "execute_result"
    }
   ],
   "source": [
    "# A = A + B (soma de listas, [1,2] + [1,2,3] = [1,2,1,2,3])\n",
    "vals = np.sum(vals)\n",
    "vals[:10]"
   ]
  },
  {
   "cell_type": "code",
   "execution_count": 67,
   "metadata": {},
   "outputs": [
    {
     "data": {
      "text/plain": [
       "(20.34, 1.97, 20.0, 20.4)"
      ]
     },
     "execution_count": 67,
     "metadata": {},
     "output_type": "execute_result"
    }
   ],
   "source": [
    "from statistics import mode\n",
    "\n",
    "mu = np.mean(x)\n",
    "ssd = np.std(x)\n",
    "med = np.median(x)\n",
    "mod = mode(vals)\n",
    "\n",
    "#-- cálculo dos parametros\n",
    "np.round(mu,2), np.round(ssd,2), np.round(med), mod"
   ]
  },
  {
   "cell_type": "code",
   "execution_count": 68,
   "metadata": {},
   "outputs": [
    {
     "data": {
      "text/plain": [
       "Text(0.5, 1.0, 'Uma distribuição normal media=20 e sd=2 com 100 valores')"
      ]
     },
     "execution_count": 68,
     "metadata": {},
     "output_type": "execute_result"
    },
    {
     "data": {
      "image/png": "[encoded data removed]",
      "text/plain": [
       "<Figure size 432x288 with 1 Axes>"
      ]
     },
     "metadata": {
      "needs_background": "light"
     },
     "output_type": "display_data"
    }
   ],
   "source": [
    "# distplot do seaborn = histograma\n",
    "ax = sns.distplot(x)\n",
    "ax.set_title(\"Uma distribuição normal media=%d e sd=%d com %d valores\"%(MU, SD, N))"
   ]
  },
  {
   "cell_type": "code",
   "execution_count": 72,
   "metadata": {},
   "outputs": [
    {
     "data": {
      "image/png": "[encoded data removed]",
      "text/plain": [
       "<Figure size 432x288 with 1 Axes>"
      ]
     },
     "metadata": {
      "needs_background": "light"
     },
     "output_type": "display_data"
    }
   ],
   "source": [
    "ax = sns.distplot(x)\n",
    "ax.set_title(\"Uma distribuição normal media=%d e sd=%d com %d valores\"%(MU, SD, N))\n",
    "#-- vertical line\n",
    "\n",
    "#- mu = media calculada\n",
    "ax.axvline(mu, color='red')\n",
    "#- MU = media definida e colocada na maquina np.random.normal(MU ....)\n",
    "ax.axvline(MU, color='orange')\n",
    "\n",
    "#- dispersão: Desvio Padrão\n",
    "ax.axvline(mu+ssd, color='navy')\n",
    "ax.axvline(mu-ssd, color='navy');"
   ]
  },
  {
   "cell_type": "code",
   "execution_count": 73,
   "metadata": {},
   "outputs": [
    {
     "data": {
      "text/plain": [
       "<matplotlib.lines.Line2D at 0x7fa4d056dd50>"
      ]
     },
     "execution_count": 73,
     "metadata": {},
     "output_type": "execute_result"
    },
    {
     "data": {
      "image/png": "[encoded data removed]",
      "text/plain": [
       "<Figure size 432x288 with 1 Axes>"
      ]
     },
     "metadata": {
      "needs_background": "light"
     },
     "output_type": "display_data"
    }
   ],
   "source": [
    "ax = sns.distplot(x)\n",
    "ax.set_title(\"Uma distribuição normal media=%d e sd=%d com %d valores\"%(MU, SD, N))\n",
    "ax.axvline(MU, color='orange')\n",
    "ax.axvline(mu, color='red')\n",
    "ax.axvline(med, color='navy')\n",
    "ax.axvline(mod, color='yellow')"
   ]
  },
  {
   "cell_type": "code",
   "execution_count": 75,
   "metadata": {},
   "outputs": [
    {
     "data": {
      "text/plain": [
       "(19.2, 20.8)"
      ]
     },
     "execution_count": 75,
     "metadata": {},
     "output_type": "execute_result"
    },
    {
     "data": {
      "image/png": "[encoded data removed]",
      "text/plain": [
       "<Figure size 432x288 with 1 Axes>"
      ]
     },
     "metadata": {
      "needs_background": "light"
     },
     "output_type": "display_data"
    }
   ],
   "source": [
    "ax = sns.distplot(x)\n",
    "ax.set_title(\"Uma distribuição normal media=%d e sd=%d com %d valores\\nestamos com um erro 0.4/200 = 2%%\"%(MU, SD, N))\n",
    "ax.axvline(MU, color='orange')\n",
    "ax.axvline(mu, color='red')\n",
    "ax.axvline(med, color='navy')\n",
    "ax.axvline(mod, color='yellow')\n",
    "ax.set_xlim(MU-0.8, MU+0.8)"
   ]
  },
  {
   "cell_type": "code",
   "execution_count": null,
   "metadata": {},
   "outputs": [],
   "source": []
  },
  {
   "cell_type": "markdown",
   "metadata": {},
   "source": [
    "### Vamos utilizar a tabela das cobras"
   ]
  },
  {
   "cell_type": "code",
   "execution_count": 77,
   "metadata": {},
   "outputs": [
    {
     "name": "stdout",
     "output_type": "stream",
     "text": [
      "Read '../data/Snake Morphotaxonomy.xlsx'\n"
     ]
    }
   ],
   "source": [
    "root_data = '../data/'\n",
    "filename = 'Snake Morphotaxonomy.xlsx'\n",
    "\n",
    "# merge: path + filename via join()\n",
    "from os.path import join\n",
    "fullpath = join(root_data, filename)\n",
    "\n",
    "try:\n",
    "    # df = pd.DataFrame()\n",
    "    df = pd.read_excel(fullpath)\n",
    "    print(\"Read '%s'\"%fullpath)\n",
    "except:\n",
    "    print(\"Could not read '%s'\"%fullpath)"
   ]
  },
  {
   "cell_type": "code",
   "execution_count": 78,
   "metadata": {},
   "outputs": [
    {
     "data": {
      "text/plain": [
       "pandas.core.frame.DataFrame"
      ]
     },
     "execution_count": 78,
     "metadata": {},
     "output_type": "execute_result"
    }
   ],
   "source": [
    "type(df)"
   ]
  },
  {
   "cell_type": "code",
   "execution_count": 86,
   "metadata": {},
   "outputs": [
    {
     "name": "stdout",
     "output_type": "stream",
     "text": [
      "(240, 9)\n",
      "['species', 'population', 'sex', 'RDS', 'VS', 'HL', 'TaL', 'temperature', 'elevation']\n"
     ]
    },
    {
     "data": {
      "text/html": [
       "<div>\n",
       "<style scoped>\n",
       "    .dataframe tbody tr th:only-of-type {\n",
       "        vertical-align: middle;\n",
       "    }\n",
       "\n",
       "    .dataframe tbody tr th {\n",
       "        vertical-align: top;\n",
       "    }\n",
       "\n",
       "    .dataframe thead th {\n",
       "        text-align: right;\n",
       "    }\n",
       "</style>\n",
       "<table border=\"1\" class=\"dataframe\">\n",
       "  <thead>\n",
       "    <tr style=\"text-align: right;\">\n",
       "      <th></th>\n",
       "      <th>species</th>\n",
       "      <th>population</th>\n",
       "      <th>sex</th>\n",
       "      <th>RDS</th>\n",
       "      <th>VS</th>\n",
       "      <th>HL</th>\n",
       "      <th>TaL</th>\n",
       "      <th>temperature</th>\n",
       "      <th>elevation</th>\n",
       "    </tr>\n",
       "  </thead>\n",
       "  <tbody>\n",
       "    <tr>\n",
       "      <th>0</th>\n",
       "      <td>B_jararaca</td>\n",
       "      <td>RJ_serra</td>\n",
       "      <td>Female</td>\n",
       "      <td>23</td>\n",
       "      <td>144</td>\n",
       "      <td>25.0</td>\n",
       "      <td>34.0</td>\n",
       "      <td>20.3</td>\n",
       "      <td>894</td>\n",
       "    </tr>\n",
       "    <tr>\n",
       "      <th>1</th>\n",
       "      <td>B_jararaca</td>\n",
       "      <td>RJ_serra</td>\n",
       "      <td>Female</td>\n",
       "      <td>23</td>\n",
       "      <td>145</td>\n",
       "      <td>25.0</td>\n",
       "      <td>43.0</td>\n",
       "      <td>20.3</td>\n",
       "      <td>894</td>\n",
       "    </tr>\n",
       "    <tr>\n",
       "      <th>2</th>\n",
       "      <td>B_jararaca</td>\n",
       "      <td>RJ_serra</td>\n",
       "      <td>Female</td>\n",
       "      <td>23</td>\n",
       "      <td>144</td>\n",
       "      <td>17.0</td>\n",
       "      <td>18.0</td>\n",
       "      <td>23.2</td>\n",
       "      <td>173</td>\n",
       "    </tr>\n",
       "  </tbody>\n",
       "</table>\n",
       "</div>"
      ],
      "text/plain": [
       "      species population     sex  RDS   VS    HL   TaL  temperature  elevation\n",
       "0  B_jararaca   RJ_serra  Female   23  144  25.0  34.0         20.3        894\n",
       "1  B_jararaca   RJ_serra  Female   23  145  25.0  43.0         20.3        894\n",
       "2  B_jararaca   RJ_serra  Female   23  144  17.0  18.0         23.2        173"
      ]
     },
     "execution_count": 86,
     "metadata": {},
     "output_type": "execute_result"
    }
   ],
   "source": [
    "print(df.shape)\n",
    "print(list(df.columns))\n",
    "df.head(3)"
   ]
  },
  {
   "cell_type": "markdown",
   "metadata": {},
   "source": [
    "### Média = valor esperado"
   ]
  },
  {
   "cell_type": "code",
   "execution_count": 92,
   "metadata": {},
   "outputs": [
    {
     "data": {
      "text/plain": [
       "(25.3, 7.5, 240)"
      ]
     },
     "execution_count": 92,
     "metadata": {},
     "output_type": "execute_result"
    }
   ],
   "source": [
    "mu = np.round(df.HL.mean(),1)\n",
    "sd = np.round(df.HL.std(),1)\n",
    "n  = df.HL.count()\n",
    "\n",
    "mu, sd, n"
   ]
  },
  {
   "cell_type": "markdown",
   "metadata": {},
   "source": [
    "### Mas, lembre-se que há várias espécies\n",
    "\n",
    "  - Como consigo fazer uma estatística descritiva por espécie?"
   ]
  },
  {
   "cell_type": "code",
   "execution_count": 90,
   "metadata": {},
   "outputs": [
    {
     "data": {
      "text/plain": [
       "array(['B_jararaca', 'B_terrificus', 'B_new'], dtype=object)"
      ]
     },
     "execution_count": 90,
     "metadata": {},
     "output_type": "execute_result"
    }
   ],
   "source": [
    "specList = df.species.unique()\n",
    "specList"
   ]
  },
  {
   "cell_type": "code",
   "execution_count": 91,
   "metadata": {},
   "outputs": [
    {
     "data": {
      "text/plain": [
       "0       True\n",
       "1       True\n",
       "2       True\n",
       "3       True\n",
       "4       True\n",
       "       ...  \n",
       "235    False\n",
       "236    False\n",
       "237    False\n",
       "238    False\n",
       "239    False\n",
       "Name: species, Length: 240, dtype: bool"
      ]
     },
     "execution_count": 91,
     "metadata": {},
     "output_type": "execute_result"
    }
   ],
   "source": [
    "df.species == 'B_jararaca'"
   ]
  },
  {
   "cell_type": "code",
   "execution_count": 93,
   "metadata": {},
   "outputs": [
    {
     "data": {
      "text/plain": [
       "(24.3, 8.2, 107)"
      ]
     },
     "execution_count": 93,
     "metadata": {},
     "output_type": "execute_result"
    }
   ],
   "source": [
    "# slice = corte nos dados ~   filtro\n",
    "df_jar = df[df.species == 'B_jararaca']\n",
    "\n",
    "mu_jar = np.round(df_jar.HL.mean(),1)\n",
    "sd_jar = np.round(df_jar.HL.std(),1)\n",
    "n_jar  = df_jar.HL.count()\n",
    "\n",
    "mu_jar, sd_jar, n_jar"
   ]
  },
  {
   "cell_type": "code",
   "execution_count": 94,
   "metadata": {},
   "outputs": [
    {
     "data": {
      "text/plain": [
       "(24.3, 6.2, 104)"
      ]
     },
     "execution_count": 94,
     "metadata": {},
     "output_type": "execute_result"
    }
   ],
   "source": [
    "df_ter = df[df.species == 'B_terrificus']\n",
    "\n",
    "mu_ter = np.round(df_ter.HL.mean(),1)\n",
    "sd_ter = np.round(df_ter.HL.std(),1)\n",
    "n_ter  = df_ter.HL.count()\n",
    "\n",
    "mu_ter, sd_ter, n_ter"
   ]
  },
  {
   "cell_type": "code",
   "execution_count": 114,
   "metadata": {},
   "outputs": [
    {
     "data": {
      "text/plain": [
       "array(['SP_planalto', 'SP_costa', 'Nordeste', 'Centro-oeste'],\n",
       "      dtype=object)"
      ]
     },
     "execution_count": 114,
     "metadata": {},
     "output_type": "execute_result"
    }
   ],
   "source": [
    "df_ter.population.unique()"
   ]
  },
  {
   "cell_type": "code",
   "execution_count": 116,
   "metadata": {},
   "outputs": [
    {
     "data": {
      "text/plain": [
       "10"
      ]
     },
     "execution_count": 116,
     "metadata": {},
     "output_type": "execute_result"
    }
   ],
   "source": [
    "df_ter_sp = df[ (df.species == 'B_terrificus') & (df.population == 'SP_costa')]\n",
    "len(df_ter_sp)"
   ]
  },
  {
   "cell_type": "code",
   "execution_count": 117,
   "metadata": {},
   "outputs": [
    {
     "data": {
      "text/html": [
       "<div>\n",
       "<style scoped>\n",
       "    .dataframe tbody tr th:only-of-type {\n",
       "        vertical-align: middle;\n",
       "    }\n",
       "\n",
       "    .dataframe tbody tr th {\n",
       "        vertical-align: top;\n",
       "    }\n",
       "\n",
       "    .dataframe thead th {\n",
       "        text-align: right;\n",
       "    }\n",
       "</style>\n",
       "<table border=\"1\" class=\"dataframe\">\n",
       "  <thead>\n",
       "    <tr style=\"text-align: right;\">\n",
       "      <th></th>\n",
       "      <th>species</th>\n",
       "      <th>population</th>\n",
       "      <th>sex</th>\n",
       "      <th>RDS</th>\n",
       "      <th>VS</th>\n",
       "      <th>HL</th>\n",
       "      <th>TaL</th>\n",
       "      <th>temperature</th>\n",
       "      <th>elevation</th>\n",
       "    </tr>\n",
       "  </thead>\n",
       "  <tbody>\n",
       "    <tr>\n",
       "      <th>120</th>\n",
       "      <td>B_terrificus</td>\n",
       "      <td>SP_costa</td>\n",
       "      <td>Female</td>\n",
       "      <td>25</td>\n",
       "      <td>154</td>\n",
       "      <td>28.72</td>\n",
       "      <td>50.0</td>\n",
       "      <td>22.9</td>\n",
       "      <td>817</td>\n",
       "    </tr>\n",
       "    <tr>\n",
       "      <th>121</th>\n",
       "      <td>B_terrificus</td>\n",
       "      <td>SP_costa</td>\n",
       "      <td>Female</td>\n",
       "      <td>25</td>\n",
       "      <td>153</td>\n",
       "      <td>22.15</td>\n",
       "      <td>50.0</td>\n",
       "      <td>22.9</td>\n",
       "      <td>817</td>\n",
       "    </tr>\n",
       "    <tr>\n",
       "      <th>122</th>\n",
       "      <td>B_terrificus</td>\n",
       "      <td>SP_costa</td>\n",
       "      <td>Female</td>\n",
       "      <td>25</td>\n",
       "      <td>151</td>\n",
       "      <td>26.27</td>\n",
       "      <td>49.6</td>\n",
       "      <td>22.9</td>\n",
       "      <td>817</td>\n",
       "    </tr>\n",
       "    <tr>\n",
       "      <th>123</th>\n",
       "      <td>B_terrificus</td>\n",
       "      <td>SP_costa</td>\n",
       "      <td>Female</td>\n",
       "      <td>27</td>\n",
       "      <td>152</td>\n",
       "      <td>22.15</td>\n",
       "      <td>45.0</td>\n",
       "      <td>22.9</td>\n",
       "      <td>817</td>\n",
       "    </tr>\n",
       "    <tr>\n",
       "      <th>124</th>\n",
       "      <td>B_terrificus</td>\n",
       "      <td>SP_costa</td>\n",
       "      <td>Female</td>\n",
       "      <td>25</td>\n",
       "      <td>156</td>\n",
       "      <td>21.00</td>\n",
       "      <td>36.0</td>\n",
       "      <td>22.9</td>\n",
       "      <td>817</td>\n",
       "    </tr>\n",
       "    <tr>\n",
       "      <th>125</th>\n",
       "      <td>B_terrificus</td>\n",
       "      <td>SP_costa</td>\n",
       "      <td>Female</td>\n",
       "      <td>25</td>\n",
       "      <td>152</td>\n",
       "      <td>23.00</td>\n",
       "      <td>41.0</td>\n",
       "      <td>26.5</td>\n",
       "      <td>75</td>\n",
       "    </tr>\n",
       "    <tr>\n",
       "      <th>126</th>\n",
       "      <td>B_terrificus</td>\n",
       "      <td>SP_costa</td>\n",
       "      <td>Female</td>\n",
       "      <td>25</td>\n",
       "      <td>151</td>\n",
       "      <td>34.00</td>\n",
       "      <td>53.0</td>\n",
       "      <td>27.1</td>\n",
       "      <td>82</td>\n",
       "    </tr>\n",
       "    <tr>\n",
       "      <th>127</th>\n",
       "      <td>B_terrificus</td>\n",
       "      <td>SP_costa</td>\n",
       "      <td>Female</td>\n",
       "      <td>26</td>\n",
       "      <td>152</td>\n",
       "      <td>34.00</td>\n",
       "      <td>48.0</td>\n",
       "      <td>27.1</td>\n",
       "      <td>57</td>\n",
       "    </tr>\n",
       "    <tr>\n",
       "      <th>128</th>\n",
       "      <td>B_terrificus</td>\n",
       "      <td>SP_costa</td>\n",
       "      <td>Female</td>\n",
       "      <td>25</td>\n",
       "      <td>153</td>\n",
       "      <td>26.00</td>\n",
       "      <td>48.0</td>\n",
       "      <td>27.1</td>\n",
       "      <td>82</td>\n",
       "    </tr>\n",
       "    <tr>\n",
       "      <th>129</th>\n",
       "      <td>B_terrificus</td>\n",
       "      <td>SP_costa</td>\n",
       "      <td>Female</td>\n",
       "      <td>25</td>\n",
       "      <td>157</td>\n",
       "      <td>23.00</td>\n",
       "      <td>41.0</td>\n",
       "      <td>27.1</td>\n",
       "      <td>57</td>\n",
       "    </tr>\n",
       "  </tbody>\n",
       "</table>\n",
       "</div>"
      ],
      "text/plain": [
       "          species population     sex  RDS   VS     HL   TaL  temperature  \\\n",
       "120  B_terrificus   SP_costa  Female   25  154  28.72  50.0         22.9   \n",
       "121  B_terrificus   SP_costa  Female   25  153  22.15  50.0         22.9   \n",
       "122  B_terrificus   SP_costa  Female   25  151  26.27  49.6         22.9   \n",
       "123  B_terrificus   SP_costa  Female   27  152  22.15  45.0         22.9   \n",
       "124  B_terrificus   SP_costa  Female   25  156  21.00  36.0         22.9   \n",
       "125  B_terrificus   SP_costa  Female   25  152  23.00  41.0         26.5   \n",
       "126  B_terrificus   SP_costa  Female   25  151  34.00  53.0         27.1   \n",
       "127  B_terrificus   SP_costa  Female   26  152  34.00  48.0         27.1   \n",
       "128  B_terrificus   SP_costa  Female   25  153  26.00  48.0         27.1   \n",
       "129  B_terrificus   SP_costa  Female   25  157  23.00  41.0         27.1   \n",
       "\n",
       "     elevation  \n",
       "120        817  \n",
       "121        817  \n",
       "122        817  \n",
       "123        817  \n",
       "124        817  \n",
       "125         75  \n",
       "126         82  \n",
       "127         57  \n",
       "128         82  \n",
       "129         57  "
      ]
     },
     "execution_count": 117,
     "metadata": {},
     "output_type": "execute_result"
    }
   ],
   "source": [
    "df_ter_sp"
   ]
  },
  {
   "cell_type": "code",
   "execution_count": 118,
   "metadata": {},
   "outputs": [
    {
     "data": {
      "text/html": [
       "<div>\n",
       "<style scoped>\n",
       "    .dataframe tbody tr th:only-of-type {\n",
       "        vertical-align: middle;\n",
       "    }\n",
       "\n",
       "    .dataframe tbody tr th {\n",
       "        vertical-align: top;\n",
       "    }\n",
       "\n",
       "    .dataframe thead th {\n",
       "        text-align: right;\n",
       "    }\n",
       "</style>\n",
       "<table border=\"1\" class=\"dataframe\">\n",
       "  <thead>\n",
       "    <tr style=\"text-align: right;\">\n",
       "      <th></th>\n",
       "      <th>species</th>\n",
       "      <th>population</th>\n",
       "      <th>sex</th>\n",
       "      <th>RDS</th>\n",
       "      <th>VS</th>\n",
       "      <th>HL</th>\n",
       "      <th>TaL</th>\n",
       "      <th>temperature</th>\n",
       "      <th>elevation</th>\n",
       "    </tr>\n",
       "  </thead>\n",
       "  <tbody>\n",
       "    <tr>\n",
       "      <th>121</th>\n",
       "      <td>B_terrificus</td>\n",
       "      <td>SP_costa</td>\n",
       "      <td>Female</td>\n",
       "      <td>25</td>\n",
       "      <td>153</td>\n",
       "      <td>22.15</td>\n",
       "      <td>50.0</td>\n",
       "      <td>22.9</td>\n",
       "      <td>817</td>\n",
       "    </tr>\n",
       "    <tr>\n",
       "      <th>123</th>\n",
       "      <td>B_terrificus</td>\n",
       "      <td>SP_costa</td>\n",
       "      <td>Female</td>\n",
       "      <td>27</td>\n",
       "      <td>152</td>\n",
       "      <td>22.15</td>\n",
       "      <td>45.0</td>\n",
       "      <td>22.9</td>\n",
       "      <td>817</td>\n",
       "    </tr>\n",
       "    <tr>\n",
       "      <th>124</th>\n",
       "      <td>B_terrificus</td>\n",
       "      <td>SP_costa</td>\n",
       "      <td>Female</td>\n",
       "      <td>25</td>\n",
       "      <td>156</td>\n",
       "      <td>21.00</td>\n",
       "      <td>36.0</td>\n",
       "      <td>22.9</td>\n",
       "      <td>817</td>\n",
       "    </tr>\n",
       "    <tr>\n",
       "      <th>125</th>\n",
       "      <td>B_terrificus</td>\n",
       "      <td>SP_costa</td>\n",
       "      <td>Female</td>\n",
       "      <td>25</td>\n",
       "      <td>152</td>\n",
       "      <td>23.00</td>\n",
       "      <td>41.0</td>\n",
       "      <td>26.5</td>\n",
       "      <td>75</td>\n",
       "    </tr>\n",
       "    <tr>\n",
       "      <th>129</th>\n",
       "      <td>B_terrificus</td>\n",
       "      <td>SP_costa</td>\n",
       "      <td>Female</td>\n",
       "      <td>25</td>\n",
       "      <td>157</td>\n",
       "      <td>23.00</td>\n",
       "      <td>41.0</td>\n",
       "      <td>27.1</td>\n",
       "      <td>57</td>\n",
       "    </tr>\n",
       "  </tbody>\n",
       "</table>\n",
       "</div>"
      ],
      "text/plain": [
       "          species population     sex  RDS   VS     HL   TaL  temperature  \\\n",
       "121  B_terrificus   SP_costa  Female   25  153  22.15  50.0         22.9   \n",
       "123  B_terrificus   SP_costa  Female   27  152  22.15  45.0         22.9   \n",
       "124  B_terrificus   SP_costa  Female   25  156  21.00  36.0         22.9   \n",
       "125  B_terrificus   SP_costa  Female   25  152  23.00  41.0         26.5   \n",
       "129  B_terrificus   SP_costa  Female   25  157  23.00  41.0         27.1   \n",
       "\n",
       "     elevation  \n",
       "121        817  \n",
       "123        817  \n",
       "124        817  \n",
       "125         75  \n",
       "129         57  "
      ]
     },
     "execution_count": 118,
     "metadata": {},
     "output_type": "execute_result"
    }
   ],
   "source": [
    "df_ter_sp[df_ter_sp.HL < 24]"
   ]
  },
  {
   "cell_type": "code",
   "execution_count": null,
   "metadata": {},
   "outputs": [],
   "source": []
  },
  {
   "cell_type": "markdown",
   "metadata": {},
   "source": [
    "### Porque a média (HL) geral é 25.30 e a média das espécies é menor?\n",
    "\n",
    "  - falta a espécie 'new'"
   ]
  },
  {
   "cell_type": "markdown",
   "metadata": {},
   "source": [
    "### Porque o desvio padrão amostral (HL) geral é 7.5 (cm) e o SSD das espécies um é maior e outro é menor?\n",
    "  - deve ser real \n",
    "  - falta uma espécie"
   ]
  },
  {
   "cell_type": "code",
   "execution_count": null,
   "metadata": {},
   "outputs": [],
   "source": []
  },
  {
   "cell_type": "markdown",
   "metadata": {},
   "source": [
    "### Será porque esquecemos da terceira espécie?\n",
    "\n",
    "  - apeser da espécie 'new' ter muito menos indivíduos (27 << 100)\n",
    "  - seu comprimento médio é 32.8 cm > 24.3\n",
    "  - SSD é 3.1 < 6:\n",
    "    - por que tenho menos individuos\n",
    "    - mas qdo SSD é pequeno --> tenho mais certeza sobre a média (isto nós vamos ver qdo estudarmos SEM)"
   ]
  },
  {
   "cell_type": "code",
   "execution_count": 112,
   "metadata": {},
   "outputs": [
    {
     "data": {
      "text/plain": [
       "(32.8, 3.1, 29)"
      ]
     },
     "execution_count": 112,
     "metadata": {},
     "output_type": "execute_result"
    }
   ],
   "source": [
    "df_new = df[df.species == 'B_new']\n",
    "\n",
    "mu_new = np.round(df_new.HL.mean(),1)\n",
    "sd_new = np.round(df_new.HL.std(),1)\n",
    "n_new  = df_new.HL.count()\n",
    "\n",
    "mu_new, sd_new, n_new"
   ]
  },
  {
   "cell_type": "code",
   "execution_count": 113,
   "metadata": {},
   "outputs": [
    {
     "data": {
      "text/plain": [
       "array(['Colombia'], dtype=object)"
      ]
     },
     "execution_count": 113,
     "metadata": {},
     "output_type": "execute_result"
    }
   ],
   "source": [
    "df_new.population.unique()"
   ]
  },
  {
   "cell_type": "markdown",
   "metadata": {},
   "source": [
    "### O que estes resultados significam ? Como compará-los\n",
    "  - a espécie 'new' maior que as outras duas?\n",
    "  - qual a distribuição das mesmas?\n",
    "  - como compará-las?\n",
    "  - qual teste estatístico?  (vamor ver o t-test, teste t de student ... nas proximas seminários)"
   ]
  },
  {
   "cell_type": "code",
   "execution_count": null,
   "metadata": {},
   "outputs": [],
   "source": []
  },
  {
   "cell_type": "code",
   "execution_count": null,
   "metadata": {},
   "outputs": [],
   "source": []
  },
  {
   "cell_type": "markdown",
   "metadata": {},
   "source": [
    "### Usando Pandas para calcular estatística descritiva\n",
    "\n",
    "#### O Pandas tem uma função chamada groupby() - aggregate()"
   ]
  },
  {
   "cell_type": "code",
   "execution_count": 96,
   "metadata": {},
   "outputs": [
    {
     "data": {
      "text/plain": [
       "<pandas.core.groupby.generic.DataFrameGroupBy object at 0x7fa4d0aff350>"
      ]
     },
     "execution_count": 96,
     "metadata": {},
     "output_type": "execute_result"
    }
   ],
   "source": [
    "df.groupby('species')"
   ]
  },
  {
   "cell_type": "code",
   "execution_count": 97,
   "metadata": {},
   "outputs": [
    {
     "data": {
      "text/plain": [
       "range(0, 3)"
      ]
     },
     "execution_count": 97,
     "metadata": {},
     "output_type": "execute_result"
    }
   ],
   "source": [
    "# generator\n",
    "\n",
    "range(3)"
   ]
  },
  {
   "cell_type": "code",
   "execution_count": 98,
   "metadata": {},
   "outputs": [
    {
     "name": "stdout",
     "output_type": "stream",
     "text": [
      "0\n",
      "1\n",
      "2\n"
     ]
    }
   ],
   "source": [
    "for i in range(3):\n",
    "    print(i)"
   ]
  },
  {
   "cell_type": "markdown",
   "metadata": {},
   "source": [
    "### O pd.groupby cria um generator\n",
    "\n",
    "  - agrupando por especie\n",
    "  - para cada espécie imprimindo as primeiras 4 linhas, e 5 colunas relativa à mesma (filtro via iloc)"
   ]
  },
  {
   "cell_type": "code",
   "execution_count": 99,
   "metadata": {},
   "outputs": [
    {
     "name": "stdout",
     "output_type": "stream",
     "text": [
      "B_jararaca\n",
      "\n",
      "       species population     sex  RDS   VS\n",
      "0  B_jararaca   RJ_serra  Female   23  144\n",
      "1  B_jararaca   RJ_serra  Female   23  145\n",
      "2  B_jararaca   RJ_serra  Female   23  144\n",
      "3  B_jararaca   RJ_serra  Female   23  144 \n",
      "\n",
      "\n",
      "B_new\n",
      "\n",
      "     species population     sex  RDS   VS\n",
      "211   B_new   Colombia  Female   25  143\n",
      "212   B_new   Colombia  Female   23  145\n",
      "213   B_new   Colombia  Female   23  143\n",
      "214   B_new   Colombia  Female   25  144 \n",
      "\n",
      "\n",
      "B_terrificus\n",
      "\n",
      "           species   population     sex  RDS   VS\n",
      "107  B_terrificus  SP_planalto  Female   27  154\n",
      "108  B_terrificus  SP_planalto  Female   25  153\n",
      "109  B_terrificus  SP_planalto  Female   25  155\n",
      "110  B_terrificus  SP_planalto  Female   27  156 \n",
      "\n",
      "\n"
     ]
    }
   ],
   "source": [
    "# df.groupby() genenator --> key, valor --> key: espécie, o valor: df da espécie\n",
    "for g, dfslice in df.groupby('species'):\n",
    "    print(g)\n",
    "    print(\"\\n\",dfslice.iloc[:4,:5],\"\\n\\n\")"
   ]
  },
  {
   "cell_type": "markdown",
   "metadata": {},
   "source": [
    "### pd.groupby + aggregate\n",
    "  - aggregate() --> função consequência do groupby para invocar uma função sobre a tabela filtrada (slice groupby)"
   ]
  },
  {
   "cell_type": "code",
   "execution_count": 102,
   "metadata": {},
   "outputs": [
    {
     "data": {
      "text/html": [
       "<div>\n",
       "<style scoped>\n",
       "    .dataframe tbody tr th:only-of-type {\n",
       "        vertical-align: middle;\n",
       "    }\n",
       "\n",
       "    .dataframe tbody tr th {\n",
       "        vertical-align: top;\n",
       "    }\n",
       "\n",
       "    .dataframe thead th {\n",
       "        text-align: right;\n",
       "    }\n",
       "</style>\n",
       "<table border=\"1\" class=\"dataframe\">\n",
       "  <thead>\n",
       "    <tr style=\"text-align: right;\">\n",
       "      <th></th>\n",
       "      <th>RDS</th>\n",
       "      <th>VS</th>\n",
       "      <th>HL</th>\n",
       "      <th>TaL</th>\n",
       "      <th>temperature</th>\n",
       "      <th>elevation</th>\n",
       "    </tr>\n",
       "    <tr>\n",
       "      <th>species</th>\n",
       "      <th></th>\n",
       "      <th></th>\n",
       "      <th></th>\n",
       "      <th></th>\n",
       "      <th></th>\n",
       "      <th></th>\n",
       "    </tr>\n",
       "  </thead>\n",
       "  <tbody>\n",
       "    <tr>\n",
       "      <th>B_jararaca</th>\n",
       "      <td>23.2</td>\n",
       "      <td>138.9</td>\n",
       "      <td>24.3</td>\n",
       "      <td>35.6</td>\n",
       "      <td>23.5</td>\n",
       "      <td>391.5</td>\n",
       "    </tr>\n",
       "    <tr>\n",
       "      <th>B_new</th>\n",
       "      <td>23.6</td>\n",
       "      <td>145.4</td>\n",
       "      <td>32.8</td>\n",
       "      <td>49.7</td>\n",
       "      <td>22.8</td>\n",
       "      <td>1005.6</td>\n",
       "    </tr>\n",
       "    <tr>\n",
       "      <th>B_terrificus</th>\n",
       "      <td>24.8</td>\n",
       "      <td>156.1</td>\n",
       "      <td>24.3</td>\n",
       "      <td>42.2</td>\n",
       "      <td>26.7</td>\n",
       "      <td>138.3</td>\n",
       "    </tr>\n",
       "  </tbody>\n",
       "</table>\n",
       "</div>"
      ],
      "text/plain": [
       "               RDS     VS    HL   TaL  temperature  elevation\n",
       "species                                                      \n",
       "B_jararaca    23.2  138.9  24.3  35.6         23.5      391.5\n",
       "B_new         23.6  145.4  32.8  49.7         22.8     1005.6\n",
       "B_terrificus  24.8  156.1  24.3  42.2         26.7      138.3"
      ]
     },
     "execution_count": 102,
     "metadata": {},
     "output_type": "execute_result"
    }
   ],
   "source": [
    "# média de todos os campos numéricos encontrados, para cada espécie\n",
    "# não gera um generator\n",
    "# uma tabela resumos de médias (\"mean\")\n",
    "df.groupby('species').agg('mean').round(1)"
   ]
  },
  {
   "cell_type": "markdown",
   "metadata": {},
   "source": [
    "### Ao invés de pedir \"mean\", quero pedir vários parâmetros estatísticos\n",
    "  - mean\n",
    "  - median\n",
    "  - SSD (std)"
   ]
  },
  {
   "cell_type": "code",
   "execution_count": 27,
   "metadata": {},
   "outputs": [
    {
     "data": {
      "text/html": [
       "<div>\n",
       "<style scoped>\n",
       "    .dataframe tbody tr th:only-of-type {\n",
       "        vertical-align: middle;\n",
       "    }\n",
       "\n",
       "    .dataframe tbody tr th {\n",
       "        vertical-align: top;\n",
       "    }\n",
       "\n",
       "    .dataframe thead tr th {\n",
       "        text-align: left;\n",
       "    }\n",
       "\n",
       "    .dataframe thead tr:last-of-type th {\n",
       "        text-align: right;\n",
       "    }\n",
       "</style>\n",
       "<table border=\"1\" class=\"dataframe\">\n",
       "  <thead>\n",
       "    <tr>\n",
       "      <th></th>\n",
       "      <th colspan=\"3\" halign=\"left\">RDS</th>\n",
       "      <th colspan=\"3\" halign=\"left\">VS</th>\n",
       "      <th colspan=\"3\" halign=\"left\">HL</th>\n",
       "      <th colspan=\"3\" halign=\"left\">TaL</th>\n",
       "      <th colspan=\"3\" halign=\"left\">temperature</th>\n",
       "      <th colspan=\"3\" halign=\"left\">elevation</th>\n",
       "    </tr>\n",
       "    <tr>\n",
       "      <th></th>\n",
       "      <th>mean</th>\n",
       "      <th>median</th>\n",
       "      <th>std</th>\n",
       "      <th>mean</th>\n",
       "      <th>median</th>\n",
       "      <th>std</th>\n",
       "      <th>mean</th>\n",
       "      <th>median</th>\n",
       "      <th>std</th>\n",
       "      <th>mean</th>\n",
       "      <th>median</th>\n",
       "      <th>std</th>\n",
       "      <th>mean</th>\n",
       "      <th>median</th>\n",
       "      <th>std</th>\n",
       "      <th>mean</th>\n",
       "      <th>median</th>\n",
       "      <th>std</th>\n",
       "    </tr>\n",
       "    <tr>\n",
       "      <th>species</th>\n",
       "      <th></th>\n",
       "      <th></th>\n",
       "      <th></th>\n",
       "      <th></th>\n",
       "      <th></th>\n",
       "      <th></th>\n",
       "      <th></th>\n",
       "      <th></th>\n",
       "      <th></th>\n",
       "      <th></th>\n",
       "      <th></th>\n",
       "      <th></th>\n",
       "      <th></th>\n",
       "      <th></th>\n",
       "      <th></th>\n",
       "      <th></th>\n",
       "      <th></th>\n",
       "      <th></th>\n",
       "    </tr>\n",
       "  </thead>\n",
       "  <tbody>\n",
       "    <tr>\n",
       "      <th>B_jararaca</th>\n",
       "      <td>23.186916</td>\n",
       "      <td>23</td>\n",
       "      <td>0.753994</td>\n",
       "      <td>138.878505</td>\n",
       "      <td>138</td>\n",
       "      <td>4.264178</td>\n",
       "      <td>24.299065</td>\n",
       "      <td>22.0</td>\n",
       "      <td>8.213214</td>\n",
       "      <td>35.556075</td>\n",
       "      <td>33.0</td>\n",
       "      <td>13.451928</td>\n",
       "      <td>23.450467</td>\n",
       "      <td>24.6</td>\n",
       "      <td>3.017977</td>\n",
       "      <td>391.532710</td>\n",
       "      <td>173</td>\n",
       "      <td>441.581684</td>\n",
       "    </tr>\n",
       "    <tr>\n",
       "      <th>B_new</th>\n",
       "      <td>23.586207</td>\n",
       "      <td>23</td>\n",
       "      <td>0.907006</td>\n",
       "      <td>145.448276</td>\n",
       "      <td>145</td>\n",
       "      <td>2.733211</td>\n",
       "      <td>32.758621</td>\n",
       "      <td>32.0</td>\n",
       "      <td>3.124273</td>\n",
       "      <td>49.655172</td>\n",
       "      <td>50.0</td>\n",
       "      <td>6.154417</td>\n",
       "      <td>22.810345</td>\n",
       "      <td>22.8</td>\n",
       "      <td>0.888958</td>\n",
       "      <td>1005.620690</td>\n",
       "      <td>1050</td>\n",
       "      <td>183.859887</td>\n",
       "    </tr>\n",
       "    <tr>\n",
       "      <th>B_terrificus</th>\n",
       "      <td>24.778846</td>\n",
       "      <td>25</td>\n",
       "      <td>1.060836</td>\n",
       "      <td>156.057692</td>\n",
       "      <td>156</td>\n",
       "      <td>4.384055</td>\n",
       "      <td>24.262404</td>\n",
       "      <td>25.0</td>\n",
       "      <td>6.243533</td>\n",
       "      <td>42.217308</td>\n",
       "      <td>46.5</td>\n",
       "      <td>12.706488</td>\n",
       "      <td>26.746154</td>\n",
       "      <td>27.0</td>\n",
       "      <td>1.411184</td>\n",
       "      <td>138.259615</td>\n",
       "      <td>50</td>\n",
       "      <td>250.637013</td>\n",
       "    </tr>\n",
       "  </tbody>\n",
       "</table>\n",
       "</div>"
      ],
      "text/plain": [
       "                    RDS                           VS                   \\\n",
       "                   mean median       std        mean median       std   \n",
       "species                                                                 \n",
       "B_jararaca    23.186916     23  0.753994  138.878505    138  4.264178   \n",
       "B_new         23.586207     23  0.907006  145.448276    145  2.733211   \n",
       "B_terrificus  24.778846     25  1.060836  156.057692    156  4.384055   \n",
       "\n",
       "                     HL                         TaL                    \\\n",
       "                   mean median       std       mean median        std   \n",
       "species                                                                 \n",
       "B_jararaca    24.299065   22.0  8.213214  35.556075   33.0  13.451928   \n",
       "B_new         32.758621   32.0  3.124273  49.655172   50.0   6.154417   \n",
       "B_terrificus  24.262404   25.0  6.243533  42.217308   46.5  12.706488   \n",
       "\n",
       "             temperature                     elevation                     \n",
       "                    mean median       std         mean median         std  \n",
       "species                                                                    \n",
       "B_jararaca     23.450467   24.6  3.017977   391.532710    173  441.581684  \n",
       "B_new          22.810345   22.8  0.888958  1005.620690   1050  183.859887  \n",
       "B_terrificus   26.746154   27.0  1.411184   138.259615     50  250.637013  "
      ]
     },
     "execution_count": 27,
     "metadata": {},
     "output_type": "execute_result"
    }
   ],
   "source": [
    "# pandas usa as funções estatística do numpy\n",
    "# repare que gera um cabeçalho de duas dimensões!\n",
    "df.groupby('species').agg(['mean', 'median', 'std'])"
   ]
  },
  {
   "cell_type": "markdown",
   "metadata": {},
   "source": [
    "### Calculando somente uma variável"
   ]
  },
  {
   "cell_type": "code",
   "execution_count": 103,
   "metadata": {},
   "outputs": [
    {
     "data": {
      "text/html": [
       "<div>\n",
       "<style scoped>\n",
       "    .dataframe tbody tr th:only-of-type {\n",
       "        vertical-align: middle;\n",
       "    }\n",
       "\n",
       "    .dataframe tbody tr th {\n",
       "        vertical-align: top;\n",
       "    }\n",
       "\n",
       "    .dataframe thead th {\n",
       "        text-align: right;\n",
       "    }\n",
       "</style>\n",
       "<table border=\"1\" class=\"dataframe\">\n",
       "  <thead>\n",
       "    <tr style=\"text-align: right;\">\n",
       "      <th></th>\n",
       "      <th>mean</th>\n",
       "      <th>median</th>\n",
       "      <th>std</th>\n",
       "    </tr>\n",
       "    <tr>\n",
       "      <th>species</th>\n",
       "      <th></th>\n",
       "      <th></th>\n",
       "      <th></th>\n",
       "    </tr>\n",
       "  </thead>\n",
       "  <tbody>\n",
       "    <tr>\n",
       "      <th>B_jararaca</th>\n",
       "      <td>24.3</td>\n",
       "      <td>22.0</td>\n",
       "      <td>8.2</td>\n",
       "    </tr>\n",
       "    <tr>\n",
       "      <th>B_new</th>\n",
       "      <td>32.8</td>\n",
       "      <td>32.0</td>\n",
       "      <td>3.1</td>\n",
       "    </tr>\n",
       "    <tr>\n",
       "      <th>B_terrificus</th>\n",
       "      <td>24.3</td>\n",
       "      <td>25.0</td>\n",
       "      <td>6.2</td>\n",
       "    </tr>\n",
       "  </tbody>\n",
       "</table>\n",
       "</div>"
      ],
      "text/plain": [
       "              mean  median  std\n",
       "species                        \n",
       "B_jararaca    24.3    22.0  8.2\n",
       "B_new         32.8    32.0  3.1\n",
       "B_terrificus  24.3    25.0  6.2"
      ]
     },
     "execution_count": 103,
     "metadata": {},
     "output_type": "execute_result"
    }
   ],
   "source": [
    "df.groupby('species').HL.agg(['mean', 'median', 'std']).round(1)"
   ]
  },
  {
   "cell_type": "code",
   "execution_count": 108,
   "metadata": {},
   "outputs": [
    {
     "data": {
      "text/html": [
       "<div>\n",
       "<style scoped>\n",
       "    .dataframe tbody tr th:only-of-type {\n",
       "        vertical-align: middle;\n",
       "    }\n",
       "\n",
       "    .dataframe tbody tr th {\n",
       "        vertical-align: top;\n",
       "    }\n",
       "\n",
       "    .dataframe thead th {\n",
       "        text-align: right;\n",
       "    }\n",
       "</style>\n",
       "<table border=\"1\" class=\"dataframe\">\n",
       "  <thead>\n",
       "    <tr style=\"text-align: right;\">\n",
       "      <th></th>\n",
       "      <th>mean</th>\n",
       "      <th>median</th>\n",
       "      <th>std</th>\n",
       "    </tr>\n",
       "    <tr>\n",
       "      <th>species</th>\n",
       "      <th></th>\n",
       "      <th></th>\n",
       "      <th></th>\n",
       "    </tr>\n",
       "  </thead>\n",
       "  <tbody>\n",
       "    <tr>\n",
       "      <th>B_jararaca</th>\n",
       "      <td>23.2</td>\n",
       "      <td>23</td>\n",
       "      <td>0.8</td>\n",
       "    </tr>\n",
       "    <tr>\n",
       "      <th>B_new</th>\n",
       "      <td>23.6</td>\n",
       "      <td>23</td>\n",
       "      <td>0.9</td>\n",
       "    </tr>\n",
       "    <tr>\n",
       "      <th>B_terrificus</th>\n",
       "      <td>24.8</td>\n",
       "      <td>25</td>\n",
       "      <td>1.1</td>\n",
       "    </tr>\n",
       "  </tbody>\n",
       "</table>\n",
       "</div>"
      ],
      "text/plain": [
       "              mean  median  std\n",
       "species                        \n",
       "B_jararaca    23.2      23  0.8\n",
       "B_new         23.6      23  0.9\n",
       "B_terrificus  24.8      25  1.1"
      ]
     },
     "execution_count": 108,
     "metadata": {},
     "output_type": "execute_result"
    }
   ],
   "source": [
    "df.groupby('species').RDS.agg(['mean', 'median', 'std']).round(1)"
   ]
  },
  {
   "cell_type": "markdown",
   "metadata": {},
   "source": [
    "### e ainda há muito mais ..."
   ]
  },
  {
   "cell_type": "code",
   "execution_count": null,
   "metadata": {},
   "outputs": [],
   "source": []
  },
  {
   "cell_type": "markdown",
   "metadata": {},
   "source": [
    "### Faça o mesmo para populações"
   ]
  },
  {
   "cell_type": "code",
   "execution_count": 109,
   "metadata": {},
   "outputs": [
    {
     "data": {
      "text/plain": [
       "Index(['species', 'population', 'sex', 'RDS', 'VS', 'HL', 'TaL', 'temperature',\n",
       "       'elevation'],\n",
       "      dtype='object')"
      ]
     },
     "execution_count": 109,
     "metadata": {},
     "output_type": "execute_result"
    }
   ],
   "source": [
    "df.columns"
   ]
  },
  {
   "cell_type": "code",
   "execution_count": 111,
   "metadata": {},
   "outputs": [
    {
     "data": {
      "text/html": [
       "<div>\n",
       "<style scoped>\n",
       "    .dataframe tbody tr th:only-of-type {\n",
       "        vertical-align: middle;\n",
       "    }\n",
       "\n",
       "    .dataframe tbody tr th {\n",
       "        vertical-align: top;\n",
       "    }\n",
       "\n",
       "    .dataframe thead tr th {\n",
       "        text-align: left;\n",
       "    }\n",
       "\n",
       "    .dataframe thead tr:last-of-type th {\n",
       "        text-align: right;\n",
       "    }\n",
       "</style>\n",
       "<table border=\"1\" class=\"dataframe\">\n",
       "  <thead>\n",
       "    <tr>\n",
       "      <th></th>\n",
       "      <th></th>\n",
       "      <th colspan=\"3\" halign=\"left\">RDS</th>\n",
       "      <th colspan=\"3\" halign=\"left\">VS</th>\n",
       "      <th colspan=\"3\" halign=\"left\">HL</th>\n",
       "      <th colspan=\"3\" halign=\"left\">TaL</th>\n",
       "      <th colspan=\"3\" halign=\"left\">temperature</th>\n",
       "      <th colspan=\"3\" halign=\"left\">elevation</th>\n",
       "    </tr>\n",
       "    <tr>\n",
       "      <th></th>\n",
       "      <th></th>\n",
       "      <th>mean</th>\n",
       "      <th>median</th>\n",
       "      <th>std</th>\n",
       "      <th>mean</th>\n",
       "      <th>median</th>\n",
       "      <th>std</th>\n",
       "      <th>mean</th>\n",
       "      <th>median</th>\n",
       "      <th>std</th>\n",
       "      <th>mean</th>\n",
       "      <th>median</th>\n",
       "      <th>std</th>\n",
       "      <th>mean</th>\n",
       "      <th>median</th>\n",
       "      <th>std</th>\n",
       "      <th>mean</th>\n",
       "      <th>median</th>\n",
       "      <th>std</th>\n",
       "    </tr>\n",
       "    <tr>\n",
       "      <th>species</th>\n",
       "      <th>population</th>\n",
       "      <th></th>\n",
       "      <th></th>\n",
       "      <th></th>\n",
       "      <th></th>\n",
       "      <th></th>\n",
       "      <th></th>\n",
       "      <th></th>\n",
       "      <th></th>\n",
       "      <th></th>\n",
       "      <th></th>\n",
       "      <th></th>\n",
       "      <th></th>\n",
       "      <th></th>\n",
       "      <th></th>\n",
       "      <th></th>\n",
       "      <th></th>\n",
       "      <th></th>\n",
       "      <th></th>\n",
       "    </tr>\n",
       "  </thead>\n",
       "  <tbody>\n",
       "    <tr>\n",
       "      <th rowspan=\"4\" valign=\"top\">B_jararaca</th>\n",
       "      <th>Chile_costa</th>\n",
       "      <td>23.5</td>\n",
       "      <td>23</td>\n",
       "      <td>1.0</td>\n",
       "      <td>136.8</td>\n",
       "      <td>136.0</td>\n",
       "      <td>3.9</td>\n",
       "      <td>22.1</td>\n",
       "      <td>20.0</td>\n",
       "      <td>6.9</td>\n",
       "      <td>30.5</td>\n",
       "      <td>25.5</td>\n",
       "      <td>12.2</td>\n",
       "      <td>25.1</td>\n",
       "      <td>25.0</td>\n",
       "      <td>1.3</td>\n",
       "      <td>272.1</td>\n",
       "      <td>152.5</td>\n",
       "      <td>341.9</td>\n",
       "    </tr>\n",
       "    <tr>\n",
       "      <th>Chile_serra</th>\n",
       "      <td>23.0</td>\n",
       "      <td>23</td>\n",
       "      <td>0.0</td>\n",
       "      <td>135.2</td>\n",
       "      <td>136.0</td>\n",
       "      <td>1.9</td>\n",
       "      <td>22.4</td>\n",
       "      <td>18.0</td>\n",
       "      <td>9.4</td>\n",
       "      <td>36.2</td>\n",
       "      <td>30.0</td>\n",
       "      <td>16.3</td>\n",
       "      <td>22.3</td>\n",
       "      <td>24.6</td>\n",
       "      <td>4.6</td>\n",
       "      <td>327.2</td>\n",
       "      <td>273.0</td>\n",
       "      <td>325.3</td>\n",
       "    </tr>\n",
       "    <tr>\n",
       "      <th>RJ_costa</th>\n",
       "      <td>23.0</td>\n",
       "      <td>23</td>\n",
       "      <td>0.7</td>\n",
       "      <td>139.8</td>\n",
       "      <td>140.0</td>\n",
       "      <td>3.2</td>\n",
       "      <td>27.4</td>\n",
       "      <td>30.0</td>\n",
       "      <td>8.7</td>\n",
       "      <td>39.9</td>\n",
       "      <td>43.0</td>\n",
       "      <td>12.8</td>\n",
       "      <td>23.1</td>\n",
       "      <td>23.1</td>\n",
       "      <td>2.9</td>\n",
       "      <td>561.1</td>\n",
       "      <td>526.0</td>\n",
       "      <td>551.0</td>\n",
       "    </tr>\n",
       "    <tr>\n",
       "      <th>RJ_serra</th>\n",
       "      <td>23.2</td>\n",
       "      <td>23</td>\n",
       "      <td>0.6</td>\n",
       "      <td>144.3</td>\n",
       "      <td>144.0</td>\n",
       "      <td>2.3</td>\n",
       "      <td>23.1</td>\n",
       "      <td>23.5</td>\n",
       "      <td>5.8</td>\n",
       "      <td>33.1</td>\n",
       "      <td>32.0</td>\n",
       "      <td>10.6</td>\n",
       "      <td>23.0</td>\n",
       "      <td>23.2</td>\n",
       "      <td>1.5</td>\n",
       "      <td>275.6</td>\n",
       "      <td>173.0</td>\n",
       "      <td>314.1</td>\n",
       "    </tr>\n",
       "    <tr>\n",
       "      <th>B_new</th>\n",
       "      <th>Colombia</th>\n",
       "      <td>23.6</td>\n",
       "      <td>23</td>\n",
       "      <td>0.9</td>\n",
       "      <td>145.4</td>\n",
       "      <td>145.0</td>\n",
       "      <td>2.7</td>\n",
       "      <td>32.8</td>\n",
       "      <td>32.0</td>\n",
       "      <td>3.1</td>\n",
       "      <td>49.7</td>\n",
       "      <td>50.0</td>\n",
       "      <td>6.2</td>\n",
       "      <td>22.8</td>\n",
       "      <td>22.8</td>\n",
       "      <td>0.9</td>\n",
       "      <td>1005.6</td>\n",
       "      <td>1050.0</td>\n",
       "      <td>183.9</td>\n",
       "    </tr>\n",
       "    <tr>\n",
       "      <th rowspan=\"4\" valign=\"top\">B_terrificus</th>\n",
       "      <th>Centro-oeste</th>\n",
       "      <td>24.3</td>\n",
       "      <td>25</td>\n",
       "      <td>1.0</td>\n",
       "      <td>150.8</td>\n",
       "      <td>150.0</td>\n",
       "      <td>3.9</td>\n",
       "      <td>29.2</td>\n",
       "      <td>31.0</td>\n",
       "      <td>3.6</td>\n",
       "      <td>46.9</td>\n",
       "      <td>46.0</td>\n",
       "      <td>8.0</td>\n",
       "      <td>28.1</td>\n",
       "      <td>28.0</td>\n",
       "      <td>0.3</td>\n",
       "      <td>187.4</td>\n",
       "      <td>70.0</td>\n",
       "      <td>316.9</td>\n",
       "    </tr>\n",
       "    <tr>\n",
       "      <th>Nordeste</th>\n",
       "      <td>24.7</td>\n",
       "      <td>25</td>\n",
       "      <td>1.1</td>\n",
       "      <td>157.9</td>\n",
       "      <td>158.0</td>\n",
       "      <td>3.3</td>\n",
       "      <td>23.1</td>\n",
       "      <td>24.5</td>\n",
       "      <td>6.4</td>\n",
       "      <td>41.5</td>\n",
       "      <td>47.0</td>\n",
       "      <td>14.0</td>\n",
       "      <td>26.8</td>\n",
       "      <td>27.0</td>\n",
       "      <td>1.2</td>\n",
       "      <td>89.5</td>\n",
       "      <td>50.0</td>\n",
       "      <td>187.5</td>\n",
       "    </tr>\n",
       "    <tr>\n",
       "      <th>SP_costa</th>\n",
       "      <td>25.3</td>\n",
       "      <td>25</td>\n",
       "      <td>0.7</td>\n",
       "      <td>153.1</td>\n",
       "      <td>152.5</td>\n",
       "      <td>2.0</td>\n",
       "      <td>26.0</td>\n",
       "      <td>24.5</td>\n",
       "      <td>4.8</td>\n",
       "      <td>46.2</td>\n",
       "      <td>48.0</td>\n",
       "      <td>5.3</td>\n",
       "      <td>24.9</td>\n",
       "      <td>24.7</td>\n",
       "      <td>2.2</td>\n",
       "      <td>443.8</td>\n",
       "      <td>449.5</td>\n",
       "      <td>393.5</td>\n",
       "    </tr>\n",
       "    <tr>\n",
       "      <th>SP_planalto</th>\n",
       "      <td>25.5</td>\n",
       "      <td>25</td>\n",
       "      <td>0.9</td>\n",
       "      <td>156.4</td>\n",
       "      <td>155.0</td>\n",
       "      <td>4.5</td>\n",
       "      <td>22.3</td>\n",
       "      <td>22.0</td>\n",
       "      <td>5.8</td>\n",
       "      <td>36.4</td>\n",
       "      <td>36.0</td>\n",
       "      <td>12.7</td>\n",
       "      <td>26.0</td>\n",
       "      <td>25.8</td>\n",
       "      <td>0.5</td>\n",
       "      <td>78.9</td>\n",
       "      <td>36.0</td>\n",
       "      <td>83.0</td>\n",
       "    </tr>\n",
       "  </tbody>\n",
       "</table>\n",
       "</div>"
      ],
      "text/plain": [
       "                            RDS                 VS                HL         \\\n",
       "                           mean median  std   mean median  std  mean median   \n",
       "species      population                                                       \n",
       "B_jararaca   Chile_costa   23.5     23  1.0  136.8  136.0  3.9  22.1   20.0   \n",
       "             Chile_serra   23.0     23  0.0  135.2  136.0  1.9  22.4   18.0   \n",
       "             RJ_costa      23.0     23  0.7  139.8  140.0  3.2  27.4   30.0   \n",
       "             RJ_serra      23.2     23  0.6  144.3  144.0  2.3  23.1   23.5   \n",
       "B_new        Colombia      23.6     23  0.9  145.4  145.0  2.7  32.8   32.0   \n",
       "B_terrificus Centro-oeste  24.3     25  1.0  150.8  150.0  3.9  29.2   31.0   \n",
       "             Nordeste      24.7     25  1.1  157.9  158.0  3.3  23.1   24.5   \n",
       "             SP_costa      25.3     25  0.7  153.1  152.5  2.0  26.0   24.5   \n",
       "             SP_planalto   25.5     25  0.9  156.4  155.0  4.5  22.3   22.0   \n",
       "\n",
       "                                 TaL              temperature              \\\n",
       "                           std  mean median   std        mean median  std   \n",
       "species      population                                                     \n",
       "B_jararaca   Chile_costa   6.9  30.5   25.5  12.2        25.1   25.0  1.3   \n",
       "             Chile_serra   9.4  36.2   30.0  16.3        22.3   24.6  4.6   \n",
       "             RJ_costa      8.7  39.9   43.0  12.8        23.1   23.1  2.9   \n",
       "             RJ_serra      5.8  33.1   32.0  10.6        23.0   23.2  1.5   \n",
       "B_new        Colombia      3.1  49.7   50.0   6.2        22.8   22.8  0.9   \n",
       "B_terrificus Centro-oeste  3.6  46.9   46.0   8.0        28.1   28.0  0.3   \n",
       "             Nordeste      6.4  41.5   47.0  14.0        26.8   27.0  1.2   \n",
       "             SP_costa      4.8  46.2   48.0   5.3        24.9   24.7  2.2   \n",
       "             SP_planalto   5.8  36.4   36.0  12.7        26.0   25.8  0.5   \n",
       "\n",
       "                          elevation                 \n",
       "                               mean  median    std  \n",
       "species      population                             \n",
       "B_jararaca   Chile_costa      272.1   152.5  341.9  \n",
       "             Chile_serra      327.2   273.0  325.3  \n",
       "             RJ_costa         561.1   526.0  551.0  \n",
       "             RJ_serra         275.6   173.0  314.1  \n",
       "B_new        Colombia        1005.6  1050.0  183.9  \n",
       "B_terrificus Centro-oeste     187.4    70.0  316.9  \n",
       "             Nordeste          89.5    50.0  187.5  \n",
       "             SP_costa         443.8   449.5  393.5  \n",
       "             SP_planalto       78.9    36.0   83.0  "
      ]
     },
     "execution_count": 111,
     "metadata": {},
     "output_type": "execute_result"
    }
   ],
   "source": [
    "df.groupby(['species', 'population']).agg(['mean', 'median', 'std']).round(1)"
   ]
  }
 ],
 "metadata": {
  "kernelspec": {
   "display_name": "Python 3",
   "language": "python",
   "name": "python3"
  },
  "language_info": {
   "codemirror_mode": {
    "name": "ipython",
    "version": 3
   },
   "file_extension": ".py",
   "mimetype": "text/x-python",
   "name": "python",
   "nbconvert_exporter": "python",
   "pygments_lexer": "ipython3",
   "version": "3.7.7"
  }
 },
 "nbformat": 4,
 "nbformat_minor": 4
}
