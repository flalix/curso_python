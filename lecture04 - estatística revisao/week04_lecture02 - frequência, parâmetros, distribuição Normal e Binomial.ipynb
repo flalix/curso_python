{
 "cells": [
  {
   "cell_type": "markdown",
   "metadata": {},
   "source": [
    "### Estatística descritiva\n",
    "  \n",
    "Usando:  \n",
    "  - Pandas\n",
    "  - Numpy\n",
    "  - Matplotlib e Seaborn"
   ]
  },
  {
   "cell_type": "code",
   "execution_count": null,
   "metadata": {},
   "outputs": [],
   "source": [
    "import os, sys, math\n",
    "import numpy as np\n",
    "import pandas as pd\n",
    "import seaborn as sns\n",
    "from scipy import stats\n",
    "\n",
    "import matplotlib.pyplot as plt # matplotlib e seu alias plt\n",
    "import matplotlib as mpl\n",
    "%matplotlib inline"
   ]
  },
  {
   "cell_type": "markdown",
   "metadata": {},
   "source": [
    "### Vamos começar com perguntas filosóficas\n",
    "## Qual a diferença entre simulação e experimento?\n",
    "## O que é um modelo?\n",
    "## Porque a ciência se baseia em modelos?\n",
    "## O que é a navalha de Ocham? https://en.wikipedia.org/wiki/Occam%27s_razor\n",
    "\n",
    "pesquisem à vontade\n",
    "#### Por não podermos acessar \"todos os dados\" coletamos amostras e inferimos valores médios (via modelos), sempre com erros. Caso os valores médios calculados (esperanças) se aproximem dos observados (hipotética realidade, vide Kant), diz-se que o modelo é bom ou aceitável (https://iep.utm.edu/models/)\n",
    "#### Por vezes não acessamos os dados, ou não os entedemos, nestes casos só nos resta a simulação. Num momento seguinte, de posse dos dados, analisamos se a  simulação se aproxima dos valores observados. A esta comparação se denomina 'data fitting'. Caso obtenhamos a melhor distribuição, temos um modelo para os dados, logo podemos inferir seus parâmetros e possível comportamento (físico, químico, etc.)\n",
    "#### Nunca temos certeza de nada, logo não há verdade absoluta (resultados exatos não existem). Por consequência um resultado científico (média ou valor esperado) tem que vir seguido de seu respectivo erro (desvio padrão ou dispersão ou incerteza, e sempre que possível do intervalo de confiança)\n",
    "#### Nunca oculte nada em ciência! Ciência tem que ser reprodutível, logo, nunca omita a quantidade de amostras coletadas (n), o momento em que foi coletada (data/hora), equipamento, dados complementares (pessoas, local, temperatura, humidade, etc) e métodos.\n",
    "#### Caso se manipule dados, não adianta fazer estatística. Numa máquina de inferência ao se colocar dados ruins se extrai automaticamente dados ruins (ninguém conseguirá reproduzir seu experimento).\n",
    "#### Por vezes, sabe-se previamente como os dados se comportam, logo a estatística clássica se torna inficiente. Neste caso utilizamos da \"estatística bayesiana\" onde se conhece uma distribuição a priori (conhecimento prévio), e dada a distribuição do fenômeno analisado (experimento) e se infere uma distribuição final (a posteriori). Ou seja, a distribuição a posteriori contempla o valor médio (esperança) e o desvio padrão (erro ou dispersão) simulado ou calculado. A estatística bayesina não faz parte deste curso, mas creio, que ao final podemos apresentar um exemplo.\n"
   ]
  },
  {
   "cell_type": "code",
   "execution_count": null,
   "metadata": {},
   "outputs": [],
   "source": []
  },
  {
   "cell_type": "markdown",
   "metadata": {},
   "source": [
    "### O que é frequência?\n",
    "### Frequência é a contagem de eventos dado um experimento\n",
    "### Exemplo: se jogar um dado 100 veze qual a frequência de cada número?"
   ]
  },
  {
   "cell_type": "code",
   "execution_count": null,
   "metadata": {},
   "outputs": [],
   "source": [
    "# dê vários ctrl+enter\n",
    "dado = np.random.randint(1, 7)\n",
    "dado"
   ]
  },
  {
   "cell_type": "markdown",
   "metadata": {},
   "source": [
    "### Vamos jogar 10 vezes este dados"
   ]
  },
  {
   "cell_type": "code",
   "execution_count": null,
   "metadata": {},
   "outputs": [],
   "source": [
    "N = 10\n",
    "dados = np.random.randint(1, 7, size=N)\n",
    "dados, np.mean(dados)"
   ]
  },
  {
   "cell_type": "markdown",
   "metadata": {},
   "source": [
    "### Vamos jogar 100 vezes este dados. Qual a diferença?"
   ]
  },
  {
   "cell_type": "code",
   "execution_count": null,
   "metadata": {},
   "outputs": [],
   "source": [
    "N = 100\n",
    "dados = np.random.randint(1, 7, size=N)\n",
    "dados[:10], np.mean(dados)"
   ]
  },
  {
   "cell_type": "markdown",
   "metadata": {},
   "source": [
    "### Qual a frequência?"
   ]
  },
  {
   "cell_type": "code",
   "execution_count": null,
   "metadata": {},
   "outputs": [],
   "source": [
    "plt.hist(dados, bins=6)\n",
    "plt.title(\"Distribuição Uniforme de um dado de 6 faces não viciado\");\n",
    "plt.xticks([1,2,3,4,5,6]);"
   ]
  },
  {
   "cell_type": "code",
   "execution_count": null,
   "metadata": {},
   "outputs": [],
   "source": [
    "N = 10\n",
    "dados = np.random.randint(1, 7, size=N)\n",
    "dados[:10], np.mean(dados)\n",
    "\n",
    "plt.hist(dados, bins=6)\n",
    "stri = \"\\ncom poucas jogadas o erro é muito grande, aleatório\"\n",
    "plt.title(\"Distribuição Uniforme de um dado de 6 faces não viciado\\ncom %d jogadas%s\"%(N, stri));\n",
    "plt.xticks([1,2,3,4,5,6])\n",
    "plt.yticks([0, 1, 2, 3, 4]);"
   ]
  },
  {
   "cell_type": "markdown",
   "metadata": {},
   "source": [
    "### Aumentando-se o número de jogadas\n",
    "### Aproxima-se de uma distribuição UNIFORME?"
   ]
  },
  {
   "cell_type": "code",
   "execution_count": null,
   "metadata": {},
   "outputs": [],
   "source": [
    "N = 10000\n",
    "dados = np.random.randint(1, 7, size=N)\n",
    "dados[:10], np.mean(dados)\n",
    "\n",
    "plt.hist(dados, bins=6)\n",
    "stri = \"\\ncom muitas jogadas o erro diminui muito e o sistema começa a ser 'determinista'\"\n",
    "plt.title(\"Distribuição Uniforme de um dado de 6 faces não viciado\\ncom %d jogadas%s\"%(N, stri));\n",
    "plt.xticks([1,2,3,4,5,6]);"
   ]
  },
  {
   "cell_type": "markdown",
   "metadata": {},
   "source": [
    "### Vamos melhorar o tamanho da figura\n",
    "### Repare que plt.hist retorna dados"
   ]
  },
  {
   "cell_type": "code",
   "execution_count": null,
   "metadata": {},
   "outputs": [],
   "source": [
    "N = 10000\n",
    "dados = np.random.randint(1, 7, size=N)\n",
    "dados[:10], np.mean(dados)\n",
    "\n",
    "ret = plt.hist(dados, bins=6)\n",
    "ret"
   ]
  },
  {
   "cell_type": "code",
   "execution_count": null,
   "metadata": {},
   "outputs": [],
   "source": [
    "### contagens - frequências\n",
    "ret[0]"
   ]
  },
  {
   "cell_type": "code",
   "execution_count": null,
   "metadata": {},
   "outputs": [],
   "source": [
    "### eixo x -> bins -> intervalos\n",
    "ret[1]"
   ]
  },
  {
   "cell_type": "code",
   "execution_count": null,
   "metadata": {},
   "outputs": [],
   "source": [
    "[int(np.ceil(x)) for x in ret[1][0:-1]]"
   ]
  },
  {
   "cell_type": "code",
   "execution_count": null,
   "metadata": {},
   "outputs": [],
   "source": []
  },
  {
   "cell_type": "code",
   "execution_count": null,
   "metadata": {},
   "outputs": [],
   "source": [
    "fig = plt.figure(figsize=(10,6))\n",
    "N = 10000\n",
    "\n",
    "dados = np.random.randint(1, 7, size=N)\n",
    "ret = plt.hist(dados, bins=6)\n",
    "plt.title(\"Gráfico de Frequência de um dado de 6 faces não viciado\");\n",
    "plt.xticks([1,2,3,4,5,6]);"
   ]
  },
  {
   "cell_type": "markdown",
   "metadata": {},
   "source": [
    "### Parâmetros desta distribuição\n",
    "\n",
    "  - np.isclose: Returns a boolean array where two arrays are element-wise equal within a tolerance. The tolerance values are positive, typically very small numbers.\n",
    "  \n",
    "  - média das freqûencias lidas, uma vez que é uma distribuição uniforme\n"
   ]
  },
  {
   "cell_type": "code",
   "execution_count": null,
   "metadata": {},
   "outputs": [],
   "source": [
    "mu = np.mean(ret[0])\n",
    "\n",
    "mu, N/6, np.isclose(mu, N/6)"
   ]
  },
  {
   "cell_type": "markdown",
   "metadata": {},
   "source": [
    "  - desvio padrão amostral: ssd = sample standard distribution"
   ]
  },
  {
   "cell_type": "code",
   "execution_count": null,
   "metadata": {},
   "outputs": [],
   "source": [
    "ssd = np.std(ret[0])\n",
    "np.round(ssd,2)"
   ]
  },
  {
   "cell_type": "markdown",
   "metadata": {},
   "source": [
    "  - coeficiente de variação = ssd / mu"
   ]
  },
  {
   "cell_type": "code",
   "execution_count": null,
   "metadata": {},
   "outputs": [],
   "source": [
    "vc = ssd/mu\n",
    "\n",
    "\"variational coefficient is equal to %.2f%%\"%(vc*100)"
   ]
  },
  {
   "cell_type": "code",
   "execution_count": null,
   "metadata": {},
   "outputs": [],
   "source": []
  },
  {
   "cell_type": "markdown",
   "metadata": {},
   "source": [
    "### O que é uma distribuição?\n",
    "\n",
    "Distribuição é uma função matemática cuja integral (soma de todos os valores) é igual a 1 (hum) ou 100% (cem porcento). Ela representa (estima) todas as possíveis probabilidades que um dado evento (ou valor) possa ser selecionado (sorteado).  \n",
    "\n",
    "<font size=\"5\">$\\sum_{i=1}^2{p_i} = 1$</font>"
   ]
  },
  {
   "cell_type": "markdown",
   "metadata": {},
   "source": [
    "### Vamos normalizar o gráfico de frequências para se tornar uma distriução"
   ]
  },
  {
   "cell_type": "code",
   "execution_count": null,
   "metadata": {},
   "outputs": [],
   "source": [
    "vals = ret[0]\n",
    "len(vals), vals"
   ]
  },
  {
   "cell_type": "markdown",
   "metadata": {},
   "source": [
    "### Para se obter uma distribuição tem que ser normalizar os valores das frquências"
   ]
  },
  {
   "cell_type": "code",
   "execution_count": null,
   "metadata": {},
   "outputs": [],
   "source": [
    "# Normalizando\n",
    "vals = [x / np.sum(vals) for x in vals]\n",
    "vals"
   ]
  },
  {
   "cell_type": "code",
   "execution_count": null,
   "metadata": {},
   "outputs": [],
   "source": [
    "np.sum(vals)"
   ]
  },
  {
   "cell_type": "code",
   "execution_count": null,
   "metadata": {},
   "outputs": [],
   "source": [
    "plt.bar(np.arange(1,7), vals);\n",
    "plt.title(\"Distribuição Uniforme de um dado de 6 faces não viciado\\nUm gráfico de frequência normalizado é uma distribuição\");"
   ]
  },
  {
   "cell_type": "code",
   "execution_count": null,
   "metadata": {},
   "outputs": [],
   "source": []
  },
  {
   "cell_type": "markdown",
   "metadata": {},
   "source": [
    "A distribuição mais simples é a de uma moeda sendo jogada para o ar e analisado seu resultado quando parar de se movimentar ao chegar ao solo. Se a moeda é não viciada, a probabilidade de dar cara é igual à probabilidade de dar corroa = 0.5 = 50%. \n",
    "\n",
    "<font size=\"5\">p(Cara) = p(Coroa) = .5</font>"
   ]
  },
  {
   "cell_type": "code",
   "execution_count": null,
   "metadata": {},
   "outputs": [],
   "source": [
    "pCara = 0.5\n",
    "pCoroa = 0.5\n",
    "\n",
    "x = [pCara, pCoroa]\n",
    "\n",
    "plt.bar([0,1], [pCara, pCoroa])\n",
    "plt.xticks([0,1])\n",
    "plt.title(\"Chance de ser cara ou coroa\");"
   ]
  },
  {
   "cell_type": "markdown",
   "metadata": {},
   "source": [
    "### Desenhe uma distribuição de uma moeda viciada"
   ]
  },
  {
   "cell_type": "code",
   "execution_count": null,
   "metadata": {},
   "outputs": [],
   "source": []
  },
  {
   "cell_type": "markdown",
   "metadata": {},
   "source": [
    "### Jogue uma moeda 10000 vezes e obtenha sua distribuição"
   ]
  },
  {
   "cell_type": "code",
   "execution_count": null,
   "metadata": {},
   "outputs": [],
   "source": []
  },
  {
   "cell_type": "code",
   "execution_count": null,
   "metadata": {},
   "outputs": [],
   "source": []
  },
  {
   "cell_type": "markdown",
   "metadata": {},
   "source": [
    "### Qual a diferença entre uma distribuição contínua e uma discreta\n",
    "\n",
    "  - uma distribuição discreta: os possíveis valores amostrados são discretos como 0,1,2,3 ...\n",
    "    - p.ex.: distribuição binomial\n",
    "  - uma distribuição contínua: os possíveis valores amostrados são contínuos como o intervalor entre [0, 5]\n",
    "    - p.ex.: distribuição nomal"
   ]
  },
  {
   "cell_type": "markdown",
   "metadata": {},
   "source": [
    "### Distribuição binomial\n",
    "### Caso mais simples: a moeda\n",
    "  - vamos jogar uma só vez\n",
    "  - há duas possibiliades: cara ou coroa (n = 2)\n",
    "  - não viciado então p = .5"
   ]
  },
  {
   "cell_type": "code",
   "execution_count": null,
   "metadata": {},
   "outputs": [],
   "source": [
    "n = 1    # uma moeda - n = numero de jogadas simultâneas\n",
    "p = 0.5  # dado não viciado p(cara) = p(coroa) = .5\n",
    "N = 1    # vamos jogar somente uma vez\n",
    "\n",
    "\n",
    "# dê CTRL-enter várias vezes\n",
    "jogo = np.random.binomial(n, p, N)\n",
    "list(jogo)"
   ]
  },
  {
   "cell_type": "markdown",
   "metadata": {},
   "source": [
    "### Vamos jogar 100 vezes a moeda"
   ]
  },
  {
   "cell_type": "code",
   "execution_count": null,
   "metadata": {},
   "outputs": [],
   "source": [
    "n = 1    # uma moeda - n = numero de jogadas simultâneas\n",
    "p = 0.5  # dado não viciado p(cara) = p(coroa) = .5\n",
    "N = 100   # vamos jogar 10 vezes\n",
    "\n",
    "jogo = np.random.binomial(n, p, N)\n",
    "jogo[:15]"
   ]
  },
  {
   "cell_type": "markdown",
   "metadata": {},
   "source": [
    "### Assim como num dado, simulação acima, podemos estimar o valor esperado (média) ao jogarmos muitas moedas"
   ]
  },
  {
   "cell_type": "code",
   "execution_count": null,
   "metadata": {},
   "outputs": [],
   "source": [
    "mu = np.mean(jogo)\n",
    "ssd = np.std(jogo)\n",
    "vc = ssd/mu\n",
    "\n",
    "mu, ssd, vc"
   ]
  },
  {
   "cell_type": "markdown",
   "metadata": {},
   "source": [
    "### O que se conclui? \n",
    "### O que acontece com o desvio padrão de acordo com que o n aumenta? Faça um gráfico de SSD x n\n"
   ]
  },
  {
   "cell_type": "code",
   "execution_count": null,
   "metadata": {},
   "outputs": [],
   "source": []
  },
  {
   "cell_type": "markdown",
   "metadata": {},
   "source": [
    "### Vamos jogar 100 vezes 3 moedas simultaneamente"
   ]
  },
  {
   "cell_type": "code",
   "execution_count": null,
   "metadata": {},
   "outputs": [],
   "source": [
    "n = 3     # três moedas - n = numero de jogadas simultâneas\n",
    "p = 0.5   # dado não viciado p(cara) = p(coroa) = .5\n",
    "N = 100   # vamos jogar 10 vezes\n",
    "\n",
    "jogo = np.random.binomial(n, p, N)\n",
    "jogo[:15]"
   ]
  },
  {
   "cell_type": "markdown",
   "metadata": {},
   "source": [
    "### Como fica o histograma de frequências? O que significa?\n",
    "### Porque vai somente até 3?\n",
    "### Porque o valor de 1 e 2 têm frequência mais alta?"
   ]
  },
  {
   "cell_type": "code",
   "execution_count": null,
   "metadata": {},
   "outputs": [],
   "source": [
    "fig = plt.figure(figsize=(10,6))\n",
    "N = 1000\n",
    "jogo = np.random.binomial(n, p, N)\n",
    "\n",
    "ret = plt.hist(jogo)\n",
    "plt.title(\"Gráfico de Frequência: jogando 3 moedas simultaneamente %d vezes\"%(N));\n",
    "plt.xticks([0, 1,2,3]);"
   ]
  },
  {
   "cell_type": "code",
   "execution_count": null,
   "metadata": {},
   "outputs": [],
   "source": [
    "fig = plt.figure(figsize=(10,6))\n",
    "N = 100000\n",
    "jogo = np.random.binomial(n, p, N)\n",
    "\n",
    "ret = plt.hist(jogo)\n",
    "plt.title(\"Gráfico de Frequência: jogando 3 moedas simultaneamente %d vezes\"%(N));\n",
    "plt.xticks([0, 1,2,3]);"
   ]
  },
  {
   "cell_type": "markdown",
   "metadata": {},
   "source": [
    "### 4 moedas jogadas simultaneamente"
   ]
  },
  {
   "cell_type": "code",
   "execution_count": null,
   "metadata": {},
   "outputs": [],
   "source": [
    "n = 4    # quatro moedas - n = numero de jogadas simultâneas\n",
    "p = 0.5  # dado não viciado p(cara) = p(coroa) = .5\n",
    "\n",
    "fig = plt.figure(figsize=(10,6))\n",
    "N = 100000\n",
    "jogo = np.random.binomial(n, p, N)\n",
    "\n",
    "ret = plt.hist(jogo)\n",
    "plt.title(\"Gráfico de Frequência: jogando 4 moedas simultaneamente %d vezes\"%(N));\n",
    "plt.xticks([0,1,2,3,4]);"
   ]
  },
  {
   "cell_type": "markdown",
   "metadata": {},
   "source": [
    "### É mais ácil acertar 2 caras + 2 coroas ou 4 caras?\n",
    "### É mais ácil acertar 4 coroas ou 4 caras?"
   ]
  },
  {
   "cell_type": "markdown",
   "metadata": {},
   "source": [
    "veja: https://seaborn.pydata.org/generated/seaborn.distplot.html"
   ]
  },
  {
   "cell_type": "markdown",
   "metadata": {},
   "source": [
    "### Gere um histograma da distribuição do jogo de moedas"
   ]
  },
  {
   "cell_type": "code",
   "execution_count": null,
   "metadata": {},
   "outputs": [],
   "source": [
    "from scipy.stats import norm\n",
    "n = 4    # quatro moedas - n = numero de jogadas simultâneas\n",
    "p = 0.5  # dado não viciado p(cara) = p(coroa) = .5\n",
    "N = 100\n",
    "jogo = np.random.binomial(n, p, N)\n",
    "\n",
    "muj  = np.mean(jogo)\n",
    "ssdj = np.std(jogo)\n",
    "vc = ssdj/muj\n",
    "\n",
    "fig = plt.figure(figsize=(10,6))\n",
    "ax = sns.distplot(jogo, hist=True, kde=False, fit=norm)\n",
    "ax.set_title(\"Distribuição do jogo de 4 moedas simultaneamente %d vezes\\nmédia = %.2f (%.2f) e CV = %.2f%%\"%(N, muj, ssdj, vc*100));\n",
    "\n",
    "ax.set_xticks([0,1,2,3,4]);"
   ]
  },
  {
   "cell_type": "markdown",
   "metadata": {},
   "source": [
    "### O que acontece se forem 50 moedas? (... ou 50 genes)\n",
    "### A distribuição discreta se aproxima da contínua?\n",
    "### Esta foi a solução do grande paradoxo da Biologia até 1930 !!! solucionado por Ronald Fisher\n",
    "\n",
    "<h3>Que parodoxo é este?</h3>\n",
    "    \n",
    "<h3><span style=\"color:red\">Paradox: the phenotipic distribution must obey a discrete (mutational theory) or continuous (Darwin theory) distribution?</span></h3>\n",
    "<h3><span style=\"color:blue\">solved by Ronald Fischer in 'The Genetical Theory of Natural Selection' </span></h3>\n",
    "\n",
    "The Genetical Theory of Natural Selection is a book by Ronald Fisher which combines Mendelian genetics with Charles Darwin's theory of natural selection, with Fisher being the first to argue that \"Mendelism therefore validates Darwinism\" and stating with regard to mutations that \"The vast majority of large mutations are deleterious; small mutations are both far more frequent and more likely to be useful\", thus refuting orthogenesis. First published in 1930 by The Clarendon Press, it is one of the most important books of the modern synthesis, and helped define population genetics. It is commonly cited in biology books, outlining many concepts that are still considered important such as Fisherian runaway, Fisher's principle, reproductive value, Fisher's fundamental theorem of natural selection, Fisher's geometric model, the sexy son hypothesis, mimicry and the evolution of dominance. It was dictated to his wife in the evenings as he worked at Rothamsted Research in the day. (https://en.wikipedia.org/wiki/The_Genetical_Theory_of_Natural_Selection )\n",
    "\n",
    "veja também:\n",
    "\n",
    "Modern Syntesis: (https://en.wikipedia.org/wiki/Modern_synthesis_(20th_century))  \n",
    "  \n",
    "Random Mutations and Evolutionary Changes: https://evolution.berkeley.edu/evolibrary/article/0_0_0/history_19  \n"
   ]
  },
  {
   "cell_type": "code",
   "execution_count": null,
   "metadata": {
    "scrolled": true
   },
   "outputs": [],
   "source": [
    "from scipy.stats import norm\n",
    "\n",
    "n = 50   # genes / alelos\n",
    "p = 0.5  # dado não viciado p(cara) = p(coroa) = .5\n",
    "N = 1000\n",
    "jogo = np.random.binomial(n, p, N)\n",
    "\n",
    "muj  = np.mean(jogo)\n",
    "ssdj = np.std(jogo)\n",
    "vc = ssdj/muj\n",
    "\n",
    "fig = plt.figure(figsize=(10,6))\n",
    "ax = sns.distplot(jogo, hist=True, kde=False, fit=norm)\n",
    "ax.axvline(n/2, color='red')\n",
    "ax.set_title(\"Uma distribuição discreta vai se aproximando à uma distr. contínua\\nmédia = %.2f (%.2f) e CV = %.2f%%\"%(muj, ssdj, vc*100));\n",
    "# ax.set_xticks([0,1,2,3,4]);"
   ]
  },
  {
   "cell_type": "markdown",
   "metadata": {},
   "source": [
    "### De acordo com que mais moedas (genes) são jogadas, a média aumenta assim como o desvio padrão (mas o CV parece diminuir)"
   ]
  },
  {
   "cell_type": "code",
   "execution_count": null,
   "metadata": {},
   "outputs": [],
   "source": []
  },
  {
   "cell_type": "markdown",
   "metadata": {},
   "source": [
    "### Para estudar em casa ...\n",
    "\n",
    "\n",
    "<h3><span style=\"color:red\">O que é a catraca de Muller?</span></h3>\n",
    "\n",
    "Muller's ratchet: \n",
    "  - https://en.wikipedia.org/wiki/Muller%27s_ratchet\n"
   ]
  },
  {
   "cell_type": "code",
   "execution_count": null,
   "metadata": {},
   "outputs": [],
   "source": []
  },
  {
   "cell_type": "markdown",
   "metadata": {},
   "source": [
    "### A distribuição normal é uma distribuição contínua e paramétrica\n",
    "  - contínua: domínio dos números Reais [-infinito a +infinto]\n",
    "  - paramétrica: só depende da MEDIA e do DESVIO PADRÃO"
   ]
  },
  {
   "cell_type": "markdown",
   "metadata": {},
   "source": [
    "### Distribuição normal\n",
    "\n",
    "[distribuição normal - wiki](https://en.wikipedia.org/wiki/Normal_distribution)  \n",
    "\n",
    "[distribuição normal - Portal Action](http://www.portalaction.com.br/probabilidades/62-distribuicao-normal)  \n",
    "\n",
    "[distribuição normal - Khan academi](https://www.khanacademy.org/math/statistics-probability/modeling-distributions-of-data/normal-distributions-library/v/ck12-org-normal-distribution-problems-qualitative-sense-of-normal-distributions)  \n"
   ]
  },
  {
   "cell_type": "markdown",
   "metadata": {},
   "source": [
    "### Gerando distribuições normais (Gaussianas)"
   ]
  },
  {
   "cell_type": "code",
   "execution_count": null,
   "metadata": {},
   "outputs": [],
   "source": [
    "mu = 20\n",
    "sd = 2\n",
    "N = 1000\n",
    "\n",
    "x = np.random.normal(mu, sd, N)\n",
    "x[:10]"
   ]
  },
  {
   "cell_type": "markdown",
   "metadata": {},
   "source": [
    "### Os valores estimados estão próximos dos parâmetro impostos? O que isto significa?"
   ]
  },
  {
   "cell_type": "code",
   "execution_count": null,
   "metadata": {},
   "outputs": [],
   "source": [
    "np.mean(x), np.median(x)"
   ]
  },
  {
   "cell_type": "code",
   "execution_count": null,
   "metadata": {},
   "outputs": [],
   "source": []
  },
  {
   "cell_type": "markdown",
   "metadata": {},
   "source": [
    "### Entenda a máquina randômica (estocástica) gerando estes valores\n",
    "  - rode várias vezes a célula abaixo\n",
    "  - os números variam?"
   ]
  },
  {
   "cell_type": "code",
   "execution_count": null,
   "metadata": {},
   "outputs": [],
   "source": [
    "x = np.random.normal(mu, sd, N)\n",
    "print(mu, sd)\n",
    "print(np.mean(x), np.std(x))\n",
    "#--- porque False???\n",
    "np.isclose(mu, np.mean(x)), np.isclose(mu, np.median(x)), np.isclose(sd, np.std(x))"
   ]
  },
  {
   "cell_type": "markdown",
   "metadata": {},
   "source": [
    "  - rode várias vezes a célula abaixo\n",
    "  - os números variam? NÃO. Porque?"
   ]
  },
  {
   "cell_type": "code",
   "execution_count": null,
   "metadata": {},
   "outputs": [],
   "source": [
    "np.random.seed(3)\n",
    "x = np.random.normal(mu, sd, N)\n",
    "print(mu, sd)\n",
    "print(np.mean(x), np.std(x))\n",
    "#--- porque False???\n",
    "np.isclose(mu, np.mean(x)), np.isclose(mu, np.median(x)), np.isclose(sd, np.std(x))"
   ]
  },
  {
   "cell_type": "markdown",
   "metadata": {},
   "source": [
    "### E agora? o que há de diferente? Sabe explicar?"
   ]
  },
  {
   "cell_type": "code",
   "execution_count": null,
   "metadata": {},
   "outputs": [],
   "source": [
    "np.random.seed(3); N = 100000; tolerance=3e-3\n",
    "x = np.random.normal(mu, sd, N)\n",
    "print(mu, sd)\n",
    "print(np.mean(x), np.std(x))\n",
    "#--- porque False???\n",
    "np.isclose(mu, np.mean(x), atol=tolerance), np.isclose(mu, np.median(x), atol=tolerance), np.isclose(sd, np.std(x), atol=tolerance)"
   ]
  },
  {
   "cell_type": "markdown",
   "metadata": {},
   "source": [
    "### Quanto maior o N menor o erro ao estimar esperanças (médias)"
   ]
  },
  {
   "cell_type": "code",
   "execution_count": null,
   "metadata": {},
   "outputs": [],
   "source": [
    "np.random.seed(3); N = 10000000; tolerance=3e-3\n",
    "x = np.random.normal(mu, sd, N)\n",
    "print(mu, sd)\n",
    "print(np.mean(x), np.std(x))\n",
    "#--- porque False???\n",
    "np.isclose(mu, np.mean(x), atol=tolerance), np.isclose(mu, np.median(x), atol=tolerance), np.isclose(sd, np.std(x), atol=tolerance)"
   ]
  },
  {
   "cell_type": "code",
   "execution_count": null,
   "metadata": {},
   "outputs": [],
   "source": []
  },
  {
   "cell_type": "markdown",
   "metadata": {},
   "source": [
    "### Lembra do que é media?\n",
    "  - media é o valor esperado\n",
    "    \n",
    "<font size=\"5\">\\<x> = E[x] = media de x = $\\frac{\\sum_{i=1}^n{x_i}}{n}$</font>"
   ]
  },
  {
   "cell_type": "markdown",
   "metadata": {},
   "source": [
    "### O que acontece de jogar 100 vezes e tirar a media?"
   ]
  },
  {
   "cell_type": "code",
   "execution_count": null,
   "metadata": {},
   "outputs": [],
   "source": [
    "n = 1    # uma moeda - n = numero de jogadas simultâneas\n",
    "p = 0.5  # dado não viciado p(cara) = p(coroa) = .5\n",
    "N = 100  # vamos jogar 100 vezes\n",
    "\n",
    "jogo = np.random.binomial(n, p, N)\n",
    "np.mean(jogo)"
   ]
  },
  {
   "cell_type": "markdown",
   "metadata": {},
   "source": [
    "### O que acontece de jogar 1000 vezes e tirar a media?"
   ]
  },
  {
   "cell_type": "code",
   "execution_count": null,
   "metadata": {},
   "outputs": [],
   "source": [
    "N = 1000\n",
    "jogo = np.random.binomial(n, p, N)\n",
    "np.mean(jogo)"
   ]
  },
  {
   "cell_type": "markdown",
   "metadata": {},
   "source": [
    "### O que acontece de jogar 10.000 vezes e tirar a media?"
   ]
  },
  {
   "cell_type": "code",
   "execution_count": null,
   "metadata": {},
   "outputs": [],
   "source": [
    "N = 10000\n",
    "jogo = np.random.binomial(n, p, N)\n",
    "np.mean(jogo)"
   ]
  },
  {
   "cell_type": "code",
   "execution_count": null,
   "metadata": {},
   "outputs": [],
   "source": []
  },
  {
   "cell_type": "markdown",
   "metadata": {},
   "source": [
    "## Distribuições contínuas\n",
    "\n",
    "### A distribuição normal (gaussiana) é:\n",
    "  - contínua\n",
    "  - centrada em 20 (media)\n",
    "  - tem uma dispersão (desvio padrão) = 2\n",
    "    \n",
    "### Agora procure:\n",
    "  - quantas amostras são maiores que 20+4 (20+2\\*SD)? > 24\n",
    "  - quantas amostras são menores que 20-4 (20-2\\*SD)? < 16\n",
    "  \n",
    "  \n",
    "### Veja matplotlib x seaborn\n",
    "\n",
    "https://www.drawingfromdata.com/setting-figure-size-using-seaborn-and-matplotlib"
   ]
  },
  {
   "cell_type": "code",
   "execution_count": null,
   "metadata": {},
   "outputs": [],
   "source": [
    "N = 1000\n",
    "x = np.random.normal(mu, sd, N)\n",
    "\n",
    "print(mu, sd)\n",
    "print(np.mean(x), np.std(x))\n",
    "\n",
    "plt.figure(figsize=(8,6))\n",
    "ax = sns.distplot(x)\n",
    "ax.set_title(\"Uma distribuição normal media=%d e sd=%d com %d valores\"%(mu, sd, N))\n",
    "ax.axvline(mu, color='red')\n",
    "ax.axvline(mu+2*sd, color='navy')\n",
    "ax.axvline(mu-2*sd, color='navy')\n",
    "ax.set_xticks(np.arange(10,31));"
   ]
  },
  {
   "cell_type": "code",
   "execution_count": null,
   "metadata": {},
   "outputs": [],
   "source": [
    "maiores = x[ x > mu + 2*sd]\n",
    "len(maiores), maiores"
   ]
  },
  {
   "cell_type": "code",
   "execution_count": null,
   "metadata": {},
   "outputs": [],
   "source": [
    "p = len(maiores) / len(x)\n",
    "\"Encontramos %d valores maiores que %.2f, ou seja %.2f%%\"%(len(maiores), mu + 2*sd, p*100)"
   ]
  },
  {
   "cell_type": "code",
   "execution_count": null,
   "metadata": {},
   "outputs": [],
   "source": [
    "menores = x[ x < mu - 2*sd]\n",
    "len(menores), menores"
   ]
  },
  {
   "cell_type": "code",
   "execution_count": null,
   "metadata": {},
   "outputs": [],
   "source": [
    "p = len(menores) / len(x)\n",
    "\"Encontramos %d valores menores que %.2f, ou seja %.2f%%\"%(len(menores), mu - 2*sd, p*100)"
   ]
  },
  {
   "cell_type": "markdown",
   "metadata": {},
   "source": [
    "### Repare que:\n",
    "  - há aproximadamente 2.5% de valores maiores que MU + 2*SD (acima de 2 desvios padrões)\n",
    "  - há aproximadamente 2.5% de valores menores que MU - 2*SD (abaixo de 2 desvios padrões)\n",
    "  - por esta razão, veremos mais adiante, estima-se com referência um p-value = 0.05 = 5% \n",
    "  - quando se estuda valores abaixo e acima de uma distribuição dis-se que a distribuição é bi-caudal\n",
    "  - exemplos:\n",
    "    - pessoas muito magras ou muito gordas: estudo bi-caudal\n",
    "    - homens acima de 2 metros: estudo mono-caudal\n",
    "    "
   ]
  },
  {
   "cell_type": "markdown",
   "metadata": {},
   "source": [
    "### Uma distribuição normal\n",
    "  - é simétrica com relação à média\n",
    "  - sua média = mediana = moda (unimodal)\n",
    "  - é a base da distribuição Z (média = 0, SD = 1)"
   ]
  },
  {
   "cell_type": "code",
   "execution_count": null,
   "metadata": {},
   "outputs": [],
   "source": [
    "N = 100000\n",
    "mu = 20; sd = 2\n",
    "x = np.random.normal(mu, sd, N)\n",
    "\n",
    "ret = plt.hist(x, bins=100);\n",
    "\n",
    "# frequencia\n",
    "counts = ret[0]\n",
    "counts = [int(x) for x in counts]\n",
    "posx   = ret[1]\n",
    "len(posx), len(counts)"
   ]
  },
  {
   "cell_type": "code",
   "execution_count": null,
   "metadata": {},
   "outputs": [],
   "source": [
    "posx = [np.round((posx[i]+posx[i+1])/2,1) for i in range(len(posx)-1)]\n",
    "len(posx), len(counts)"
   ]
  },
  {
   "cell_type": "code",
   "execution_count": null,
   "metadata": {},
   "outputs": [],
   "source": [
    "# comprehension: tuplica os valores de posx\n",
    "vals = [ [posx[i]]*counts[i] for i in range(len(posx))]\n",
    "vals[:3]"
   ]
  },
  {
   "cell_type": "code",
   "execution_count": null,
   "metadata": {},
   "outputs": [],
   "source": [
    "from functools import reduce\n",
    "\n",
    "# reduce: função agil que server para iterar sobre listas\n",
    "# pega o primeiro valor da lista e soma com o segundo e assim por diante ...\n",
    "vals = reduce((lambda x,y: x+y), vals)\n",
    "vals[:10]"
   ]
  },
  {
   "cell_type": "code",
   "execution_count": null,
   "metadata": {},
   "outputs": [],
   "source": [
    "from statistics import mode\n",
    "\n",
    "mu = np.mean(x)\n",
    "ssd = np.std(x)\n",
    "med = np.median(x)\n",
    "mod = mode(vals)\n",
    "\n",
    "plt.figure(figsize=(8,6))\n",
    "ax = sns.distplot(x, bins=20)\n",
    "ax.set_title(\"Uma distribuição normal media=%d e sd=%d com %d valores\"%(mu, sd, N))\n",
    "ax.axvline(mu, color='red')\n",
    "ax.axvline(mu+2*sd, color='navy')\n",
    "ax.axvline(mu-2*sd, color='navy')\n",
    "ax.axvline(med, color='navy')\n",
    "ax.axvline(mod, color='yellow')\n",
    "ax.set_xticks(np.arange(10,31));"
   ]
  },
  {
   "cell_type": "code",
   "execution_count": null,
   "metadata": {},
   "outputs": [],
   "source": [
    "from statistics import mode\n",
    "\n",
    "mea = np.mean(x)\n",
    "ssd = np.std(x)\n",
    "med = np.median(x)\n",
    "mod = mode(vals)\n",
    "\n",
    "plt.figure(figsize=(8,6))\n",
    "ax = sns.distplot(x, bins=20)\n",
    "ax.set_title(\"Uma distribuição normal media=%d e sd=%d com %d valores\"%(mu, sd, N))\n",
    "ax.axvline(mu, color='red')\n",
    "ax.axvline(med, color='navy')\n",
    "ax.axvline(mod, color='yellow')\n",
    "ax.set_xticks(np.arange(10,31))\n",
    "\n",
    "ax.set_xlim(mu-.2, mu+.2);"
   ]
  },
  {
   "cell_type": "code",
   "execution_count": null,
   "metadata": {},
   "outputs": [],
   "source": [
    "mu, med, mod"
   ]
  },
  {
   "cell_type": "code",
   "execution_count": null,
   "metadata": {},
   "outputs": [],
   "source": []
  },
  {
   "cell_type": "code",
   "execution_count": null,
   "metadata": {},
   "outputs": [],
   "source": []
  }
 ],
 "metadata": {
  "kernelspec": {
   "display_name": "Python 3",
   "language": "python",
   "name": "python3"
  },
  "language_info": {
   "codemirror_mode": {
    "name": "ipython",
    "version": 3
   },
   "file_extension": ".py",
   "mimetype": "text/x-python",
   "name": "python",
   "nbconvert_exporter": "python",
   "pygments_lexer": "ipython3",
   "version": "3.7.7"
  }
 },
 "nbformat": 4,
 "nbformat_minor": 4
}
