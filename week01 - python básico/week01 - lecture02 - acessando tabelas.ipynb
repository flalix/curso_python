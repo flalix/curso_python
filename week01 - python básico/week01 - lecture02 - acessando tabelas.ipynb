{
 "cells": [
  {
   "cell_type": "markdown",
   "metadata": {},
   "source": [
    "### Lendo um arquivo txt"
   ]
  },
  {
   "cell_type": "code",
   "execution_count": 2,
   "metadata": {},
   "outputs": [],
   "source": [
    "import os"
   ]
  },
  {
   "cell_type": "markdown",
   "metadata": {},
   "source": [
    "### Qual o diretório corrente?\n",
    "\n",
    "qual diretório corrente = get current work directory = getcwd()"
   ]
  },
  {
   "cell_type": "code",
   "execution_count": 3,
   "metadata": {},
   "outputs": [
    {
     "data": {
      "text/plain": [
       "'/media/flalix/5c1ba0b4-f897-451c-9068-ac5e57194590/flalix/python/curso/cursopy2020/curso_python/lecture01 - python básico'"
      ]
     },
     "execution_count": 3,
     "metadata": {},
     "output_type": "execute_result"
    }
   ],
   "source": [
    "os.getcwd()"
   ]
  },
  {
   "cell_type": "markdown",
   "metadata": {},
   "source": [
    "### O que existe neste diretório ?\n",
    "\n",
    "\"./\" = este diretorio"
   ]
  },
  {
   "cell_type": "code",
   "execution_count": 4,
   "metadata": {},
   "outputs": [
    {
     "data": {
      "text/plain": [
       "['week01 - lecture01 - introducao.ipynb',\n",
       " '.ipynb_checkpoints',\n",
       " 'week01 - lecture02 - acessando tabelas.ipynb',\n",
       " 'exemplo_rascunho.ipynb',\n",
       " 'week01 - lecture02 - acessando tabelas_ant.ipynb']"
      ]
     },
     "execution_count": 4,
     "metadata": {},
     "output_type": "execute_result"
    }
   ],
   "source": [
    "os.listdir(\"./\")"
   ]
  },
  {
   "cell_type": "markdown",
   "metadata": {},
   "source": [
    "### O que existe um diretório abaixo?"
   ]
  },
  {
   "cell_type": "code",
   "execution_count": 6,
   "metadata": {},
   "outputs": [
    {
     "data": {
      "text/plain": [
       "['lecture06 - resolvendo um problema',\n",
       " 'LICENSE',\n",
       " 'lecture02 - pandas',\n",
       " 'lecture07 - machine learning',\n",
       " 'lecture03 - estatística básica',\n",
       " 'requirements.txt',\n",
       " 'lecture00 - introduction',\n",
       " 'README.md',\n",
       " 'lecutre08 - case - exercise',\n",
       " 'lecture01 - python básico',\n",
       " 'data',\n",
       " '.git',\n",
       " 'lecture05 - gráficos',\n",
       " 'lecture04 - teste de hipótese',\n",
       " 'docs']"
      ]
     },
     "execution_count": 6,
     "metadata": {},
     "output_type": "execute_result"
    }
   ],
   "source": [
    "os.listdir(\"../\")"
   ]
  },
  {
   "cell_type": "markdown",
   "metadata": {},
   "source": [
    "### O que existe dois diretórios abaixo?"
   ]
  },
  {
   "cell_type": "code",
   "execution_count": 8,
   "metadata": {},
   "outputs": [
    {
     "data": {
      "text/plain": [
       "['texts_docs',\n",
       " '.~lock.seus dados e email google.xlsx#',\n",
       " 'curso_python',\n",
       " 'backup',\n",
       " 'rascunho - extras',\n",
       " 'docs']"
      ]
     },
     "execution_count": 8,
     "metadata": {},
     "output_type": "execute_result"
    }
   ],
   "source": [
    "os.listdir(\"../../\")"
   ]
  },
  {
   "cell_type": "markdown",
   "metadata": {},
   "source": [
    "### Quais os arquivo estão em ../data ?"
   ]
  },
  {
   "cell_type": "code",
   "execution_count": 9,
   "metadata": {},
   "outputs": [
    {
     "data": {
      "text/plain": [
       "['altitude.txt',\n",
       " 'stm.txt',\n",
       " 'velocities.txt',\n",
       " 'stars.txt',\n",
       " 'circular.txt',\n",
       " 'TB_data_dictionary_2020-09-11.csv',\n",
       " 'TB_outcomes_2020-09-11.csv',\n",
       " 'exemplo_estranho.txt',\n",
       " 'exemplo.html',\n",
       " 'sunspots.txt']"
      ]
     },
     "execution_count": 9,
     "metadata": {},
     "output_type": "execute_result"
    }
   ],
   "source": [
    "os.listdir(\"../data/\")"
   ]
  },
  {
   "cell_type": "code",
   "execution_count": 10,
   "metadata": {},
   "outputs": [
    {
     "data": {
      "text/plain": [
       "True"
      ]
     },
     "execution_count": 10,
     "metadata": {},
     "output_type": "execute_result"
    }
   ],
   "source": [
    "fname = '../data/exemplo_estranho.txt'\n",
    "os.path.exists(fname)"
   ]
  },
  {
   "cell_type": "markdown",
   "metadata": {},
   "source": [
    "### Que erro gritante ! Como parar?\n",
    "### Clique no quadrado preto ao lado de Run\n",
    "### Porque isto ocorreu?"
   ]
  },
  {
   "cell_type": "code",
   "execution_count": null,
   "metadata": {
    "scrolled": true
   },
   "outputs": [],
   "source": [
    "# 'r' == read only\n",
    "# qual o erro??? nunca sai??\n",
    "with open(fname, 'r') as f:  # , encoding='utf-8'\n",
    "\n",
    "    while True:\n",
    "        line = f.readline()\n",
    "        print(line)"
   ]
  },
  {
   "cell_type": "markdown",
   "metadata": {},
   "source": [
    "### Se não conseguir ler: pare"
   ]
  },
  {
   "cell_type": "code",
   "execution_count": 11,
   "metadata": {},
   "outputs": [
    {
     "name": "stdout",
     "output_type": "stream",
     "text": [
      "maca-23423 porque\n",
      "\n",
      "uva-45678 assim\n",
      "\n",
      "pera-7887 como\n",
      "\n",
      "laranja-8232 entre\n",
      "\n",
      "\n",
      "---- fim ----\n"
     ]
    }
   ],
   "source": [
    "# 'r' == read only\n",
    "\n",
    "with open(fname, 'r') as f:  # , encoding='utf-8'\n",
    "\n",
    "    while True:\n",
    "        try:\n",
    "            # leia uma linha\n",
    "            line = f.readline()\n",
    "            \n",
    "            # se linha vazia entrão break (cai fora do loop)\n",
    "            if line == '':\n",
    "                break\n",
    "            print(line)\n",
    "        except:\n",
    "            break\n",
    "\n",
    "#-- \\n == carriage return\n",
    "print(\"\\n---- fim ----\")"
   ]
  },
  {
   "cell_type": "markdown",
   "metadata": {},
   "source": [
    "### Numerar linhas"
   ]
  },
  {
   "cell_type": "code",
   "execution_count": 13,
   "metadata": {},
   "outputs": [
    {
     "name": "stdout",
     "output_type": "stream",
     "text": [
      "1 ) maca-23423 porque\n",
      "\n",
      "2 ) uva-45678 assim\n",
      "\n",
      "3 ) pera-7887 como\n",
      "\n",
      "4 ) laranja-8232 entre\n",
      "\n",
      "\n",
      "---- fim ----\n"
     ]
    }
   ],
   "source": [
    "num = 0\n",
    "\n",
    "with open(fname, 'r') as f:  # , encoding='utf-8'\n",
    "\n",
    "    while True:\n",
    "        try:\n",
    "            line = f.readline()\n",
    "\n",
    "            if line == '':\n",
    "                break\n",
    "            \n",
    "            num += 1\n",
    "            print(num, \")\", line)\n",
    "        except:\n",
    "            break\n",
    "            \n",
    "print(\"\\n---- fim ----\")            "
   ]
  },
  {
   "cell_type": "markdown",
   "metadata": {},
   "source": [
    "### Processando arquivo texto\n",
    "### Abrindo em uma matriz com 2 termos\n",
    "\n",
    "\\<string>.strip() - remova brancos antes de depois da string  \n",
    "\\<string>.split(pattern) - quebre o string de acordo com um pattern (modelo, substring) "
   ]
  },
  {
   "cell_type": "code",
   "execution_count": 14,
   "metadata": {},
   "outputs": [
    {
     "name": "stdout",
     "output_type": "stream",
     "text": [
      "['maca', '23423 porque']\n",
      "['uva', '45678 assim']\n",
      "['pera', '7887 como']\n",
      "['laranja', '8232 entre']\n",
      "\n",
      "---- fim ----\n"
     ]
    }
   ],
   "source": [
    "with open(fname, 'r') as f:  # , encoding='utf-8'\n",
    "\n",
    "    while True:\n",
    "        try:\n",
    "            line = f.readline()\n",
    "            if line == '':\n",
    "                break\n",
    "            \n",
    "            line = line.strip() # tire os espaços antes e depois\n",
    "            mat = line.split('-')\n",
    "            print(mat)\n",
    "        except:\n",
    "            break\n",
    "\n",
    "#-- \\n == carriage return\n",
    "print(\"\\n---- fim ----\")"
   ]
  },
  {
   "cell_type": "markdown",
   "metadata": {},
   "source": [
    "### Processando arquivo texto\n",
    "### Abrindo em uma matriz com 3 termos"
   ]
  },
  {
   "cell_type": "code",
   "execution_count": 15,
   "metadata": {},
   "outputs": [
    {
     "name": "stdout",
     "output_type": "stream",
     "text": [
      "maca \t 23423 \t porque\n",
      "uva \t 45678 \t assim\n",
      "pera \t 7887 \t como\n",
      "laranja \t 8232 \t entre\n",
      "\n",
      "---- fim ----\n"
     ]
    }
   ],
   "source": [
    "with open(fname, 'r') as f:  # , encoding='utf-8'\n",
    "\n",
    "    while True:\n",
    "        line = f.readline()\n",
    "        if line == '':\n",
    "            break\n",
    "\n",
    "        line = line.strip() # tire os espaços antes e depois\n",
    "        mat = line.split('-')\n",
    "\n",
    "        termo0 = mat[0]\n",
    "        mat = mat[1].split(' ')\n",
    "        termo1 = mat[0]\n",
    "        termo2 = mat[1]\n",
    "\n",
    "        print(termo0, '\\t', termo1, '\\t', termo2)\n",
    "\n",
    "\n",
    "#-- \\n == carriage return\n",
    "print(\"\\n---- fim ----\")"
   ]
  },
  {
   "cell_type": "code",
   "execution_count": null,
   "metadata": {},
   "outputs": [],
   "source": []
  },
  {
   "cell_type": "markdown",
   "metadata": {},
   "source": [
    "### TB outcomes - WHO\n",
    "\n",
    "https://www.who.int/tb/country/data/download/en/"
   ]
  },
  {
   "cell_type": "code",
   "execution_count": 16,
   "metadata": {},
   "outputs": [
    {
     "data": {
      "text/plain": [
       "True"
      ]
     },
     "execution_count": 16,
     "metadata": {},
     "output_type": "execute_result"
    }
   ],
   "source": [
    "fname = \"../data/TB_outcomes_2020-09-11.csv\"\n",
    "os.path.exists(fname)"
   ]
  },
  {
   "cell_type": "code",
   "execution_count": 17,
   "metadata": {},
   "outputs": [],
   "source": [
    "# carregando a biblioteca/pacote pandas\n",
    "import pandas as pd"
   ]
  },
  {
   "cell_type": "markdown",
   "metadata": {},
   "source": [
    "df = pd.read<tab> .... o que ocorre"
   ]
  },
  {
   "cell_type": "markdown",
   "metadata": {},
   "source": [
    "### df = pd.read<tab> .... o que ocorre??\n",
    "    \n",
    "lendo um arquivo local"
   ]
  },
  {
   "cell_type": "code",
   "execution_count": 20,
   "metadata": {},
   "outputs": [
    {
     "data": {
      "text/plain": [
       "(5109, 72)"
      ]
     },
     "execution_count": 20,
     "metadata": {},
     "output_type": "execute_result"
    }
   ],
   "source": [
    "df = pd.read_csv(fname)\n",
    "# linhas e colunas == shape\n",
    "df.shape"
   ]
  },
  {
   "cell_type": "markdown",
   "metadata": {},
   "source": [
    "### Lendo a cabeça de um arquivo: primeiras linhas"
   ]
  },
  {
   "cell_type": "code",
   "execution_count": 23,
   "metadata": {},
   "outputs": [
    {
     "data": {
      "text/html": [
       "<div>\n",
       "<style scoped>\n",
       "    .dataframe tbody tr th:only-of-type {\n",
       "        vertical-align: middle;\n",
       "    }\n",
       "\n",
       "    .dataframe tbody tr th {\n",
       "        vertical-align: top;\n",
       "    }\n",
       "\n",
       "    .dataframe thead th {\n",
       "        text-align: right;\n",
       "    }\n",
       "</style>\n",
       "<table border=\"1\" class=\"dataframe\">\n",
       "  <thead>\n",
       "    <tr style=\"text-align: right;\">\n",
       "      <th></th>\n",
       "      <th>country</th>\n",
       "      <th>iso2</th>\n",
       "      <th>iso3</th>\n",
       "      <th>iso_numeric</th>\n",
       "      <th>g_whoregion</th>\n",
       "      <th>year</th>\n",
       "      <th>rep_meth</th>\n",
       "      <th>new_sp_coh</th>\n",
       "      <th>new_sp_cur</th>\n",
       "      <th>new_sp_cmplt</th>\n",
       "      <th>...</th>\n",
       "      <th>mdr_coh</th>\n",
       "      <th>mdr_succ</th>\n",
       "      <th>mdr_fail</th>\n",
       "      <th>mdr_died</th>\n",
       "      <th>mdr_lost</th>\n",
       "      <th>xdr_coh</th>\n",
       "      <th>xdr_succ</th>\n",
       "      <th>xdr_fail</th>\n",
       "      <th>xdr_died</th>\n",
       "      <th>xdr_lost</th>\n",
       "    </tr>\n",
       "  </thead>\n",
       "  <tbody>\n",
       "    <tr>\n",
       "      <th>0</th>\n",
       "      <td>Afghanistan</td>\n",
       "      <td>AF</td>\n",
       "      <td>AFG</td>\n",
       "      <td>4</td>\n",
       "      <td>EMR</td>\n",
       "      <td>1994</td>\n",
       "      <td>NaN</td>\n",
       "      <td>NaN</td>\n",
       "      <td>NaN</td>\n",
       "      <td>NaN</td>\n",
       "      <td>...</td>\n",
       "      <td>NaN</td>\n",
       "      <td>NaN</td>\n",
       "      <td>NaN</td>\n",
       "      <td>NaN</td>\n",
       "      <td>NaN</td>\n",
       "      <td>NaN</td>\n",
       "      <td>NaN</td>\n",
       "      <td>NaN</td>\n",
       "      <td>NaN</td>\n",
       "      <td>NaN</td>\n",
       "    </tr>\n",
       "    <tr>\n",
       "      <th>1</th>\n",
       "      <td>Afghanistan</td>\n",
       "      <td>AF</td>\n",
       "      <td>AFG</td>\n",
       "      <td>4</td>\n",
       "      <td>EMR</td>\n",
       "      <td>1995</td>\n",
       "      <td>NaN</td>\n",
       "      <td>NaN</td>\n",
       "      <td>NaN</td>\n",
       "      <td>NaN</td>\n",
       "      <td>...</td>\n",
       "      <td>NaN</td>\n",
       "      <td>NaN</td>\n",
       "      <td>NaN</td>\n",
       "      <td>NaN</td>\n",
       "      <td>NaN</td>\n",
       "      <td>NaN</td>\n",
       "      <td>NaN</td>\n",
       "      <td>NaN</td>\n",
       "      <td>NaN</td>\n",
       "      <td>NaN</td>\n",
       "    </tr>\n",
       "    <tr>\n",
       "      <th>2</th>\n",
       "      <td>Afghanistan</td>\n",
       "      <td>AF</td>\n",
       "      <td>AFG</td>\n",
       "      <td>4</td>\n",
       "      <td>EMR</td>\n",
       "      <td>1996</td>\n",
       "      <td>NaN</td>\n",
       "      <td>NaN</td>\n",
       "      <td>NaN</td>\n",
       "      <td>NaN</td>\n",
       "      <td>...</td>\n",
       "      <td>NaN</td>\n",
       "      <td>NaN</td>\n",
       "      <td>NaN</td>\n",
       "      <td>NaN</td>\n",
       "      <td>NaN</td>\n",
       "      <td>NaN</td>\n",
       "      <td>NaN</td>\n",
       "      <td>NaN</td>\n",
       "      <td>NaN</td>\n",
       "      <td>NaN</td>\n",
       "    </tr>\n",
       "    <tr>\n",
       "      <th>3</th>\n",
       "      <td>Afghanistan</td>\n",
       "      <td>AF</td>\n",
       "      <td>AFG</td>\n",
       "      <td>4</td>\n",
       "      <td>EMR</td>\n",
       "      <td>1997</td>\n",
       "      <td>100.0</td>\n",
       "      <td>2001.0</td>\n",
       "      <td>786.0</td>\n",
       "      <td>108.0</td>\n",
       "      <td>...</td>\n",
       "      <td>NaN</td>\n",
       "      <td>NaN</td>\n",
       "      <td>NaN</td>\n",
       "      <td>NaN</td>\n",
       "      <td>NaN</td>\n",
       "      <td>NaN</td>\n",
       "      <td>NaN</td>\n",
       "      <td>NaN</td>\n",
       "      <td>NaN</td>\n",
       "      <td>NaN</td>\n",
       "    </tr>\n",
       "    <tr>\n",
       "      <th>4</th>\n",
       "      <td>Afghanistan</td>\n",
       "      <td>AF</td>\n",
       "      <td>AFG</td>\n",
       "      <td>4</td>\n",
       "      <td>EMR</td>\n",
       "      <td>1998</td>\n",
       "      <td>100.0</td>\n",
       "      <td>2913.0</td>\n",
       "      <td>772.0</td>\n",
       "      <td>199.0</td>\n",
       "      <td>...</td>\n",
       "      <td>NaN</td>\n",
       "      <td>NaN</td>\n",
       "      <td>NaN</td>\n",
       "      <td>NaN</td>\n",
       "      <td>NaN</td>\n",
       "      <td>NaN</td>\n",
       "      <td>NaN</td>\n",
       "      <td>NaN</td>\n",
       "      <td>NaN</td>\n",
       "      <td>NaN</td>\n",
       "    </tr>\n",
       "  </tbody>\n",
       "</table>\n",
       "<p>5 rows × 72 columns</p>\n",
       "</div>"
      ],
      "text/plain": [
       "       country iso2 iso3  iso_numeric g_whoregion  year  rep_meth  new_sp_coh  \\\n",
       "0  Afghanistan   AF  AFG            4         EMR  1994       NaN         NaN   \n",
       "1  Afghanistan   AF  AFG            4         EMR  1995       NaN         NaN   \n",
       "2  Afghanistan   AF  AFG            4         EMR  1996       NaN         NaN   \n",
       "3  Afghanistan   AF  AFG            4         EMR  1997     100.0      2001.0   \n",
       "4  Afghanistan   AF  AFG            4         EMR  1998     100.0      2913.0   \n",
       "\n",
       "   new_sp_cur  new_sp_cmplt  ...  mdr_coh  mdr_succ  mdr_fail  mdr_died  \\\n",
       "0         NaN           NaN  ...      NaN       NaN       NaN       NaN   \n",
       "1         NaN           NaN  ...      NaN       NaN       NaN       NaN   \n",
       "2         NaN           NaN  ...      NaN       NaN       NaN       NaN   \n",
       "3       786.0         108.0  ...      NaN       NaN       NaN       NaN   \n",
       "4       772.0         199.0  ...      NaN       NaN       NaN       NaN   \n",
       "\n",
       "   mdr_lost  xdr_coh  xdr_succ  xdr_fail  xdr_died  xdr_lost  \n",
       "0       NaN      NaN       NaN       NaN       NaN       NaN  \n",
       "1       NaN      NaN       NaN       NaN       NaN       NaN  \n",
       "2       NaN      NaN       NaN       NaN       NaN       NaN  \n",
       "3       NaN      NaN       NaN       NaN       NaN       NaN  \n",
       "4       NaN      NaN       NaN       NaN       NaN       NaN  \n",
       "\n",
       "[5 rows x 72 columns]"
      ]
     },
     "execution_count": 23,
     "metadata": {},
     "output_type": "execute_result"
    }
   ],
   "source": [
    "df.head()"
   ]
  },
  {
   "cell_type": "markdown",
   "metadata": {},
   "source": [
    "### Lendo o rabo de um arquivo: últimas linhas"
   ]
  },
  {
   "cell_type": "code",
   "execution_count": 24,
   "metadata": {},
   "outputs": [
    {
     "data": {
      "text/html": [
       "<div>\n",
       "<style scoped>\n",
       "    .dataframe tbody tr th:only-of-type {\n",
       "        vertical-align: middle;\n",
       "    }\n",
       "\n",
       "    .dataframe tbody tr th {\n",
       "        vertical-align: top;\n",
       "    }\n",
       "\n",
       "    .dataframe thead th {\n",
       "        text-align: right;\n",
       "    }\n",
       "</style>\n",
       "<table border=\"1\" class=\"dataframe\">\n",
       "  <thead>\n",
       "    <tr style=\"text-align: right;\">\n",
       "      <th></th>\n",
       "      <th>country</th>\n",
       "      <th>iso2</th>\n",
       "      <th>iso3</th>\n",
       "      <th>iso_numeric</th>\n",
       "      <th>g_whoregion</th>\n",
       "      <th>year</th>\n",
       "      <th>rep_meth</th>\n",
       "      <th>new_sp_coh</th>\n",
       "      <th>new_sp_cur</th>\n",
       "      <th>new_sp_cmplt</th>\n",
       "      <th>...</th>\n",
       "      <th>mdr_coh</th>\n",
       "      <th>mdr_succ</th>\n",
       "      <th>mdr_fail</th>\n",
       "      <th>mdr_died</th>\n",
       "      <th>mdr_lost</th>\n",
       "      <th>xdr_coh</th>\n",
       "      <th>xdr_succ</th>\n",
       "      <th>xdr_fail</th>\n",
       "      <th>xdr_died</th>\n",
       "      <th>xdr_lost</th>\n",
       "    </tr>\n",
       "  </thead>\n",
       "  <tbody>\n",
       "    <tr>\n",
       "      <th>5104</th>\n",
       "      <td>Zimbabwe</td>\n",
       "      <td>ZW</td>\n",
       "      <td>ZWE</td>\n",
       "      <td>716</td>\n",
       "      <td>AFR</td>\n",
       "      <td>2013</td>\n",
       "      <td>NaN</td>\n",
       "      <td>NaN</td>\n",
       "      <td>NaN</td>\n",
       "      <td>NaN</td>\n",
       "      <td>...</td>\n",
       "      <td>351.0</td>\n",
       "      <td>207.0</td>\n",
       "      <td>1.0</td>\n",
       "      <td>43.0</td>\n",
       "      <td>14.0</td>\n",
       "      <td>NaN</td>\n",
       "      <td>NaN</td>\n",
       "      <td>NaN</td>\n",
       "      <td>NaN</td>\n",
       "      <td>NaN</td>\n",
       "    </tr>\n",
       "    <tr>\n",
       "      <th>5105</th>\n",
       "      <td>Zimbabwe</td>\n",
       "      <td>ZW</td>\n",
       "      <td>ZWE</td>\n",
       "      <td>716</td>\n",
       "      <td>AFR</td>\n",
       "      <td>2014</td>\n",
       "      <td>NaN</td>\n",
       "      <td>NaN</td>\n",
       "      <td>NaN</td>\n",
       "      <td>NaN</td>\n",
       "      <td>...</td>\n",
       "      <td>381.0</td>\n",
       "      <td>193.0</td>\n",
       "      <td>6.0</td>\n",
       "      <td>66.0</td>\n",
       "      <td>21.0</td>\n",
       "      <td>0.0</td>\n",
       "      <td>0.0</td>\n",
       "      <td>0.0</td>\n",
       "      <td>0.0</td>\n",
       "      <td>0.0</td>\n",
       "    </tr>\n",
       "    <tr>\n",
       "      <th>5106</th>\n",
       "      <td>Zimbabwe</td>\n",
       "      <td>ZW</td>\n",
       "      <td>ZWE</td>\n",
       "      <td>716</td>\n",
       "      <td>AFR</td>\n",
       "      <td>2015</td>\n",
       "      <td>NaN</td>\n",
       "      <td>NaN</td>\n",
       "      <td>NaN</td>\n",
       "      <td>NaN</td>\n",
       "      <td>...</td>\n",
       "      <td>433.0</td>\n",
       "      <td>189.0</td>\n",
       "      <td>8.0</td>\n",
       "      <td>75.0</td>\n",
       "      <td>22.0</td>\n",
       "      <td>5.0</td>\n",
       "      <td>4.0</td>\n",
       "      <td>0.0</td>\n",
       "      <td>1.0</td>\n",
       "      <td>0.0</td>\n",
       "    </tr>\n",
       "    <tr>\n",
       "      <th>5107</th>\n",
       "      <td>Zimbabwe</td>\n",
       "      <td>ZW</td>\n",
       "      <td>ZWE</td>\n",
       "      <td>716</td>\n",
       "      <td>AFR</td>\n",
       "      <td>2016</td>\n",
       "      <td>NaN</td>\n",
       "      <td>NaN</td>\n",
       "      <td>NaN</td>\n",
       "      <td>NaN</td>\n",
       "      <td>...</td>\n",
       "      <td>488.0</td>\n",
       "      <td>276.0</td>\n",
       "      <td>0.0</td>\n",
       "      <td>149.0</td>\n",
       "      <td>44.0</td>\n",
       "      <td>5.0</td>\n",
       "      <td>0.0</td>\n",
       "      <td>1.0</td>\n",
       "      <td>2.0</td>\n",
       "      <td>1.0</td>\n",
       "    </tr>\n",
       "    <tr>\n",
       "      <th>5108</th>\n",
       "      <td>Zimbabwe</td>\n",
       "      <td>ZW</td>\n",
       "      <td>ZWE</td>\n",
       "      <td>716</td>\n",
       "      <td>AFR</td>\n",
       "      <td>2017</td>\n",
       "      <td>NaN</td>\n",
       "      <td>NaN</td>\n",
       "      <td>NaN</td>\n",
       "      <td>NaN</td>\n",
       "      <td>...</td>\n",
       "      <td>NaN</td>\n",
       "      <td>NaN</td>\n",
       "      <td>NaN</td>\n",
       "      <td>NaN</td>\n",
       "      <td>NaN</td>\n",
       "      <td>NaN</td>\n",
       "      <td>NaN</td>\n",
       "      <td>NaN</td>\n",
       "      <td>NaN</td>\n",
       "      <td>NaN</td>\n",
       "    </tr>\n",
       "  </tbody>\n",
       "</table>\n",
       "<p>5 rows × 72 columns</p>\n",
       "</div>"
      ],
      "text/plain": [
       "       country iso2 iso3  iso_numeric g_whoregion  year  rep_meth  new_sp_coh  \\\n",
       "5104  Zimbabwe   ZW  ZWE          716         AFR  2013       NaN         NaN   \n",
       "5105  Zimbabwe   ZW  ZWE          716         AFR  2014       NaN         NaN   \n",
       "5106  Zimbabwe   ZW  ZWE          716         AFR  2015       NaN         NaN   \n",
       "5107  Zimbabwe   ZW  ZWE          716         AFR  2016       NaN         NaN   \n",
       "5108  Zimbabwe   ZW  ZWE          716         AFR  2017       NaN         NaN   \n",
       "\n",
       "      new_sp_cur  new_sp_cmplt  ...  mdr_coh  mdr_succ  mdr_fail  mdr_died  \\\n",
       "5104         NaN           NaN  ...    351.0     207.0       1.0      43.0   \n",
       "5105         NaN           NaN  ...    381.0     193.0       6.0      66.0   \n",
       "5106         NaN           NaN  ...    433.0     189.0       8.0      75.0   \n",
       "5107         NaN           NaN  ...    488.0     276.0       0.0     149.0   \n",
       "5108         NaN           NaN  ...      NaN       NaN       NaN       NaN   \n",
       "\n",
       "      mdr_lost  xdr_coh  xdr_succ  xdr_fail  xdr_died  xdr_lost  \n",
       "5104      14.0      NaN       NaN       NaN       NaN       NaN  \n",
       "5105      21.0      0.0       0.0       0.0       0.0       0.0  \n",
       "5106      22.0      5.0       4.0       0.0       1.0       0.0  \n",
       "5107      44.0      5.0       0.0       1.0       2.0       1.0  \n",
       "5108       NaN      NaN       NaN       NaN       NaN       NaN  \n",
       "\n",
       "[5 rows x 72 columns]"
      ]
     },
     "execution_count": 24,
     "metadata": {},
     "output_type": "execute_result"
    }
   ],
   "source": [
    "df.tail()"
   ]
  },
  {
   "cell_type": "markdown",
   "metadata": {},
   "source": [
    "### WHO - TB dictionary"
   ]
  },
  {
   "cell_type": "code",
   "execution_count": 25,
   "metadata": {},
   "outputs": [
    {
     "data": {
      "text/plain": [
       "True"
      ]
     },
     "execution_count": 25,
     "metadata": {},
     "output_type": "execute_result"
    }
   ],
   "source": [
    "fnameDic = \"../data/TB_data_dictionary_2020-09-11.csv\"\n",
    "os.path.exists(fnameDic)"
   ]
  },
  {
   "cell_type": "code",
   "execution_count": 26,
   "metadata": {},
   "outputs": [
    {
     "data": {
      "text/html": [
       "<div>\n",
       "<style scoped>\n",
       "    .dataframe tbody tr th:only-of-type {\n",
       "        vertical-align: middle;\n",
       "    }\n",
       "\n",
       "    .dataframe tbody tr th {\n",
       "        vertical-align: top;\n",
       "    }\n",
       "\n",
       "    .dataframe thead th {\n",
       "        text-align: right;\n",
       "    }\n",
       "</style>\n",
       "<table border=\"1\" class=\"dataframe\">\n",
       "  <thead>\n",
       "    <tr style=\"text-align: right;\">\n",
       "      <th></th>\n",
       "      <th>country</th>\n",
       "      <th>iso2</th>\n",
       "      <th>iso3</th>\n",
       "      <th>iso_numeric</th>\n",
       "      <th>g_whoregion</th>\n",
       "      <th>year</th>\n",
       "      <th>rep_meth</th>\n",
       "      <th>new_sp_coh</th>\n",
       "      <th>new_sp_cur</th>\n",
       "      <th>new_sp_cmplt</th>\n",
       "      <th>...</th>\n",
       "      <th>mdr_coh</th>\n",
       "      <th>mdr_succ</th>\n",
       "      <th>mdr_fail</th>\n",
       "      <th>mdr_died</th>\n",
       "      <th>mdr_lost</th>\n",
       "      <th>xdr_coh</th>\n",
       "      <th>xdr_succ</th>\n",
       "      <th>xdr_fail</th>\n",
       "      <th>xdr_died</th>\n",
       "      <th>xdr_lost</th>\n",
       "    </tr>\n",
       "  </thead>\n",
       "  <tbody>\n",
       "    <tr>\n",
       "      <th>0</th>\n",
       "      <td>Afghanistan</td>\n",
       "      <td>AF</td>\n",
       "      <td>AFG</td>\n",
       "      <td>4</td>\n",
       "      <td>EMR</td>\n",
       "      <td>1994</td>\n",
       "      <td>NaN</td>\n",
       "      <td>NaN</td>\n",
       "      <td>NaN</td>\n",
       "      <td>NaN</td>\n",
       "      <td>...</td>\n",
       "      <td>NaN</td>\n",
       "      <td>NaN</td>\n",
       "      <td>NaN</td>\n",
       "      <td>NaN</td>\n",
       "      <td>NaN</td>\n",
       "      <td>NaN</td>\n",
       "      <td>NaN</td>\n",
       "      <td>NaN</td>\n",
       "      <td>NaN</td>\n",
       "      <td>NaN</td>\n",
       "    </tr>\n",
       "    <tr>\n",
       "      <th>1</th>\n",
       "      <td>Afghanistan</td>\n",
       "      <td>AF</td>\n",
       "      <td>AFG</td>\n",
       "      <td>4</td>\n",
       "      <td>EMR</td>\n",
       "      <td>1995</td>\n",
       "      <td>NaN</td>\n",
       "      <td>NaN</td>\n",
       "      <td>NaN</td>\n",
       "      <td>NaN</td>\n",
       "      <td>...</td>\n",
       "      <td>NaN</td>\n",
       "      <td>NaN</td>\n",
       "      <td>NaN</td>\n",
       "      <td>NaN</td>\n",
       "      <td>NaN</td>\n",
       "      <td>NaN</td>\n",
       "      <td>NaN</td>\n",
       "      <td>NaN</td>\n",
       "      <td>NaN</td>\n",
       "      <td>NaN</td>\n",
       "    </tr>\n",
       "    <tr>\n",
       "      <th>2</th>\n",
       "      <td>Afghanistan</td>\n",
       "      <td>AF</td>\n",
       "      <td>AFG</td>\n",
       "      <td>4</td>\n",
       "      <td>EMR</td>\n",
       "      <td>1996</td>\n",
       "      <td>NaN</td>\n",
       "      <td>NaN</td>\n",
       "      <td>NaN</td>\n",
       "      <td>NaN</td>\n",
       "      <td>...</td>\n",
       "      <td>NaN</td>\n",
       "      <td>NaN</td>\n",
       "      <td>NaN</td>\n",
       "      <td>NaN</td>\n",
       "      <td>NaN</td>\n",
       "      <td>NaN</td>\n",
       "      <td>NaN</td>\n",
       "      <td>NaN</td>\n",
       "      <td>NaN</td>\n",
       "      <td>NaN</td>\n",
       "    </tr>\n",
       "    <tr>\n",
       "      <th>3</th>\n",
       "      <td>Afghanistan</td>\n",
       "      <td>AF</td>\n",
       "      <td>AFG</td>\n",
       "      <td>4</td>\n",
       "      <td>EMR</td>\n",
       "      <td>1997</td>\n",
       "      <td>100.0</td>\n",
       "      <td>2001.0</td>\n",
       "      <td>786.0</td>\n",
       "      <td>108.0</td>\n",
       "      <td>...</td>\n",
       "      <td>NaN</td>\n",
       "      <td>NaN</td>\n",
       "      <td>NaN</td>\n",
       "      <td>NaN</td>\n",
       "      <td>NaN</td>\n",
       "      <td>NaN</td>\n",
       "      <td>NaN</td>\n",
       "      <td>NaN</td>\n",
       "      <td>NaN</td>\n",
       "      <td>NaN</td>\n",
       "    </tr>\n",
       "    <tr>\n",
       "      <th>4</th>\n",
       "      <td>Afghanistan</td>\n",
       "      <td>AF</td>\n",
       "      <td>AFG</td>\n",
       "      <td>4</td>\n",
       "      <td>EMR</td>\n",
       "      <td>1998</td>\n",
       "      <td>100.0</td>\n",
       "      <td>2913.0</td>\n",
       "      <td>772.0</td>\n",
       "      <td>199.0</td>\n",
       "      <td>...</td>\n",
       "      <td>NaN</td>\n",
       "      <td>NaN</td>\n",
       "      <td>NaN</td>\n",
       "      <td>NaN</td>\n",
       "      <td>NaN</td>\n",
       "      <td>NaN</td>\n",
       "      <td>NaN</td>\n",
       "      <td>NaN</td>\n",
       "      <td>NaN</td>\n",
       "      <td>NaN</td>\n",
       "    </tr>\n",
       "    <tr>\n",
       "      <th>...</th>\n",
       "      <td>...</td>\n",
       "      <td>...</td>\n",
       "      <td>...</td>\n",
       "      <td>...</td>\n",
       "      <td>...</td>\n",
       "      <td>...</td>\n",
       "      <td>...</td>\n",
       "      <td>...</td>\n",
       "      <td>...</td>\n",
       "      <td>...</td>\n",
       "      <td>...</td>\n",
       "      <td>...</td>\n",
       "      <td>...</td>\n",
       "      <td>...</td>\n",
       "      <td>...</td>\n",
       "      <td>...</td>\n",
       "      <td>...</td>\n",
       "      <td>...</td>\n",
       "      <td>...</td>\n",
       "      <td>...</td>\n",
       "      <td>...</td>\n",
       "    </tr>\n",
       "    <tr>\n",
       "      <th>5104</th>\n",
       "      <td>Zimbabwe</td>\n",
       "      <td>ZW</td>\n",
       "      <td>ZWE</td>\n",
       "      <td>716</td>\n",
       "      <td>AFR</td>\n",
       "      <td>2013</td>\n",
       "      <td>NaN</td>\n",
       "      <td>NaN</td>\n",
       "      <td>NaN</td>\n",
       "      <td>NaN</td>\n",
       "      <td>...</td>\n",
       "      <td>351.0</td>\n",
       "      <td>207.0</td>\n",
       "      <td>1.0</td>\n",
       "      <td>43.0</td>\n",
       "      <td>14.0</td>\n",
       "      <td>NaN</td>\n",
       "      <td>NaN</td>\n",
       "      <td>NaN</td>\n",
       "      <td>NaN</td>\n",
       "      <td>NaN</td>\n",
       "    </tr>\n",
       "    <tr>\n",
       "      <th>5105</th>\n",
       "      <td>Zimbabwe</td>\n",
       "      <td>ZW</td>\n",
       "      <td>ZWE</td>\n",
       "      <td>716</td>\n",
       "      <td>AFR</td>\n",
       "      <td>2014</td>\n",
       "      <td>NaN</td>\n",
       "      <td>NaN</td>\n",
       "      <td>NaN</td>\n",
       "      <td>NaN</td>\n",
       "      <td>...</td>\n",
       "      <td>381.0</td>\n",
       "      <td>193.0</td>\n",
       "      <td>6.0</td>\n",
       "      <td>66.0</td>\n",
       "      <td>21.0</td>\n",
       "      <td>0.0</td>\n",
       "      <td>0.0</td>\n",
       "      <td>0.0</td>\n",
       "      <td>0.0</td>\n",
       "      <td>0.0</td>\n",
       "    </tr>\n",
       "    <tr>\n",
       "      <th>5106</th>\n",
       "      <td>Zimbabwe</td>\n",
       "      <td>ZW</td>\n",
       "      <td>ZWE</td>\n",
       "      <td>716</td>\n",
       "      <td>AFR</td>\n",
       "      <td>2015</td>\n",
       "      <td>NaN</td>\n",
       "      <td>NaN</td>\n",
       "      <td>NaN</td>\n",
       "      <td>NaN</td>\n",
       "      <td>...</td>\n",
       "      <td>433.0</td>\n",
       "      <td>189.0</td>\n",
       "      <td>8.0</td>\n",
       "      <td>75.0</td>\n",
       "      <td>22.0</td>\n",
       "      <td>5.0</td>\n",
       "      <td>4.0</td>\n",
       "      <td>0.0</td>\n",
       "      <td>1.0</td>\n",
       "      <td>0.0</td>\n",
       "    </tr>\n",
       "    <tr>\n",
       "      <th>5107</th>\n",
       "      <td>Zimbabwe</td>\n",
       "      <td>ZW</td>\n",
       "      <td>ZWE</td>\n",
       "      <td>716</td>\n",
       "      <td>AFR</td>\n",
       "      <td>2016</td>\n",
       "      <td>NaN</td>\n",
       "      <td>NaN</td>\n",
       "      <td>NaN</td>\n",
       "      <td>NaN</td>\n",
       "      <td>...</td>\n",
       "      <td>488.0</td>\n",
       "      <td>276.0</td>\n",
       "      <td>0.0</td>\n",
       "      <td>149.0</td>\n",
       "      <td>44.0</td>\n",
       "      <td>5.0</td>\n",
       "      <td>0.0</td>\n",
       "      <td>1.0</td>\n",
       "      <td>2.0</td>\n",
       "      <td>1.0</td>\n",
       "    </tr>\n",
       "    <tr>\n",
       "      <th>5108</th>\n",
       "      <td>Zimbabwe</td>\n",
       "      <td>ZW</td>\n",
       "      <td>ZWE</td>\n",
       "      <td>716</td>\n",
       "      <td>AFR</td>\n",
       "      <td>2017</td>\n",
       "      <td>NaN</td>\n",
       "      <td>NaN</td>\n",
       "      <td>NaN</td>\n",
       "      <td>NaN</td>\n",
       "      <td>...</td>\n",
       "      <td>NaN</td>\n",
       "      <td>NaN</td>\n",
       "      <td>NaN</td>\n",
       "      <td>NaN</td>\n",
       "      <td>NaN</td>\n",
       "      <td>NaN</td>\n",
       "      <td>NaN</td>\n",
       "      <td>NaN</td>\n",
       "      <td>NaN</td>\n",
       "      <td>NaN</td>\n",
       "    </tr>\n",
       "  </tbody>\n",
       "</table>\n",
       "<p>5109 rows × 72 columns</p>\n",
       "</div>"
      ],
      "text/plain": [
       "          country iso2 iso3  iso_numeric g_whoregion  year  rep_meth  \\\n",
       "0     Afghanistan   AF  AFG            4         EMR  1994       NaN   \n",
       "1     Afghanistan   AF  AFG            4         EMR  1995       NaN   \n",
       "2     Afghanistan   AF  AFG            4         EMR  1996       NaN   \n",
       "3     Afghanistan   AF  AFG            4         EMR  1997     100.0   \n",
       "4     Afghanistan   AF  AFG            4         EMR  1998     100.0   \n",
       "...           ...  ...  ...          ...         ...   ...       ...   \n",
       "5104     Zimbabwe   ZW  ZWE          716         AFR  2013       NaN   \n",
       "5105     Zimbabwe   ZW  ZWE          716         AFR  2014       NaN   \n",
       "5106     Zimbabwe   ZW  ZWE          716         AFR  2015       NaN   \n",
       "5107     Zimbabwe   ZW  ZWE          716         AFR  2016       NaN   \n",
       "5108     Zimbabwe   ZW  ZWE          716         AFR  2017       NaN   \n",
       "\n",
       "      new_sp_coh  new_sp_cur  new_sp_cmplt  ...  mdr_coh  mdr_succ  mdr_fail  \\\n",
       "0            NaN         NaN           NaN  ...      NaN       NaN       NaN   \n",
       "1            NaN         NaN           NaN  ...      NaN       NaN       NaN   \n",
       "2            NaN         NaN           NaN  ...      NaN       NaN       NaN   \n",
       "3         2001.0       786.0         108.0  ...      NaN       NaN       NaN   \n",
       "4         2913.0       772.0         199.0  ...      NaN       NaN       NaN   \n",
       "...          ...         ...           ...  ...      ...       ...       ...   \n",
       "5104         NaN         NaN           NaN  ...    351.0     207.0       1.0   \n",
       "5105         NaN         NaN           NaN  ...    381.0     193.0       6.0   \n",
       "5106         NaN         NaN           NaN  ...    433.0     189.0       8.0   \n",
       "5107         NaN         NaN           NaN  ...    488.0     276.0       0.0   \n",
       "5108         NaN         NaN           NaN  ...      NaN       NaN       NaN   \n",
       "\n",
       "      mdr_died  mdr_lost  xdr_coh  xdr_succ  xdr_fail  xdr_died  xdr_lost  \n",
       "0          NaN       NaN      NaN       NaN       NaN       NaN       NaN  \n",
       "1          NaN       NaN      NaN       NaN       NaN       NaN       NaN  \n",
       "2          NaN       NaN      NaN       NaN       NaN       NaN       NaN  \n",
       "3          NaN       NaN      NaN       NaN       NaN       NaN       NaN  \n",
       "4          NaN       NaN      NaN       NaN       NaN       NaN       NaN  \n",
       "...        ...       ...      ...       ...       ...       ...       ...  \n",
       "5104      43.0      14.0      NaN       NaN       NaN       NaN       NaN  \n",
       "5105      66.0      21.0      0.0       0.0       0.0       0.0       0.0  \n",
       "5106      75.0      22.0      5.0       4.0       0.0       1.0       0.0  \n",
       "5107     149.0      44.0      5.0       0.0       1.0       2.0       1.0  \n",
       "5108       NaN       NaN      NaN       NaN       NaN       NaN       NaN  \n",
       "\n",
       "[5109 rows x 72 columns]"
      ]
     },
     "execution_count": 26,
     "metadata": {},
     "output_type": "execute_result"
    }
   ],
   "source": [
    "dfdic = pd.read_csv(fname)\n",
    "dfdic"
   ]
  },
  {
   "cell_type": "markdown",
   "metadata": {},
   "source": [
    "### Quantos paises?\n",
    "\n",
    "## use dataframe.coluna.unique()"
   ]
  },
  {
   "cell_type": "code",
   "execution_count": 27,
   "metadata": {},
   "outputs": [
    {
     "data": {
      "text/plain": [
       "array(['Afghanistan', 'Albania', 'Algeria', 'American Samoa', 'Andorra',\n",
       "       'Angola', 'Anguilla', 'Antigua and Barbuda', 'Argentina',\n",
       "       'Armenia', 'Aruba', 'Australia', 'Austria', 'Azerbaijan',\n",
       "       'Bahamas', 'Bahrain', 'Bangladesh', 'Barbados', 'Belarus',\n",
       "       'Belgium'], dtype=object)"
      ]
     },
     "execution_count": 27,
     "metadata": {},
     "output_type": "execute_result"
    }
   ],
   "source": [
    "df.country.unique()[:20]"
   ]
  },
  {
   "cell_type": "code",
   "execution_count": 28,
   "metadata": {},
   "outputs": [
    {
     "data": {
      "text/plain": [
       "217"
      ]
     },
     "execution_count": 28,
     "metadata": {},
     "output_type": "execute_result"
    }
   ],
   "source": [
    "countries = df.country.unique()\n",
    "len(countries)"
   ]
  },
  {
   "cell_type": "markdown",
   "metadata": {},
   "source": [
    "### Filtrando um país (vamos ver melhor na próxima aula)"
   ]
  },
  {
   "cell_type": "code",
   "execution_count": 29,
   "metadata": {},
   "outputs": [
    {
     "data": {
      "text/html": [
       "<div>\n",
       "<style scoped>\n",
       "    .dataframe tbody tr th:only-of-type {\n",
       "        vertical-align: middle;\n",
       "    }\n",
       "\n",
       "    .dataframe tbody tr th {\n",
       "        vertical-align: top;\n",
       "    }\n",
       "\n",
       "    .dataframe thead th {\n",
       "        text-align: right;\n",
       "    }\n",
       "</style>\n",
       "<table border=\"1\" class=\"dataframe\">\n",
       "  <thead>\n",
       "    <tr style=\"text-align: right;\">\n",
       "      <th></th>\n",
       "      <th>country</th>\n",
       "      <th>iso2</th>\n",
       "      <th>iso3</th>\n",
       "      <th>iso_numeric</th>\n",
       "      <th>g_whoregion</th>\n",
       "      <th>year</th>\n",
       "      <th>rep_meth</th>\n",
       "      <th>new_sp_coh</th>\n",
       "      <th>new_sp_cur</th>\n",
       "      <th>new_sp_cmplt</th>\n",
       "      <th>...</th>\n",
       "      <th>mdr_coh</th>\n",
       "      <th>mdr_succ</th>\n",
       "      <th>mdr_fail</th>\n",
       "      <th>mdr_died</th>\n",
       "      <th>mdr_lost</th>\n",
       "      <th>xdr_coh</th>\n",
       "      <th>xdr_succ</th>\n",
       "      <th>xdr_fail</th>\n",
       "      <th>xdr_died</th>\n",
       "      <th>xdr_lost</th>\n",
       "    </tr>\n",
       "  </thead>\n",
       "  <tbody>\n",
       "    <tr>\n",
       "      <th>288</th>\n",
       "      <td>Austria</td>\n",
       "      <td>AT</td>\n",
       "      <td>AUT</td>\n",
       "      <td>40</td>\n",
       "      <td>EUR</td>\n",
       "      <td>1994</td>\n",
       "      <td>NaN</td>\n",
       "      <td>NaN</td>\n",
       "      <td>NaN</td>\n",
       "      <td>NaN</td>\n",
       "      <td>...</td>\n",
       "      <td>NaN</td>\n",
       "      <td>NaN</td>\n",
       "      <td>NaN</td>\n",
       "      <td>NaN</td>\n",
       "      <td>NaN</td>\n",
       "      <td>NaN</td>\n",
       "      <td>NaN</td>\n",
       "      <td>NaN</td>\n",
       "      <td>NaN</td>\n",
       "      <td>NaN</td>\n",
       "    </tr>\n",
       "    <tr>\n",
       "      <th>289</th>\n",
       "      <td>Austria</td>\n",
       "      <td>AT</td>\n",
       "      <td>AUT</td>\n",
       "      <td>40</td>\n",
       "      <td>EUR</td>\n",
       "      <td>1995</td>\n",
       "      <td>100.0</td>\n",
       "      <td>383.0</td>\n",
       "      <td>6.0</td>\n",
       "      <td>309.0</td>\n",
       "      <td>...</td>\n",
       "      <td>NaN</td>\n",
       "      <td>NaN</td>\n",
       "      <td>NaN</td>\n",
       "      <td>NaN</td>\n",
       "      <td>NaN</td>\n",
       "      <td>NaN</td>\n",
       "      <td>NaN</td>\n",
       "      <td>NaN</td>\n",
       "      <td>NaN</td>\n",
       "      <td>NaN</td>\n",
       "    </tr>\n",
       "    <tr>\n",
       "      <th>290</th>\n",
       "      <td>Austria</td>\n",
       "      <td>AT</td>\n",
       "      <td>AUT</td>\n",
       "      <td>40</td>\n",
       "      <td>EUR</td>\n",
       "      <td>1996</td>\n",
       "      <td>100.0</td>\n",
       "      <td>370.0</td>\n",
       "      <td>5.0</td>\n",
       "      <td>305.0</td>\n",
       "      <td>...</td>\n",
       "      <td>NaN</td>\n",
       "      <td>NaN</td>\n",
       "      <td>NaN</td>\n",
       "      <td>NaN</td>\n",
       "      <td>NaN</td>\n",
       "      <td>NaN</td>\n",
       "      <td>NaN</td>\n",
       "      <td>NaN</td>\n",
       "      <td>NaN</td>\n",
       "      <td>NaN</td>\n",
       "    </tr>\n",
       "  </tbody>\n",
       "</table>\n",
       "<p>3 rows × 72 columns</p>\n",
       "</div>"
      ],
      "text/plain": [
       "     country iso2 iso3  iso_numeric g_whoregion  year  rep_meth  new_sp_coh  \\\n",
       "288  Austria   AT  AUT           40         EUR  1994       NaN         NaN   \n",
       "289  Austria   AT  AUT           40         EUR  1995     100.0       383.0   \n",
       "290  Austria   AT  AUT           40         EUR  1996     100.0       370.0   \n",
       "\n",
       "     new_sp_cur  new_sp_cmplt  ...  mdr_coh  mdr_succ  mdr_fail  mdr_died  \\\n",
       "288         NaN           NaN  ...      NaN       NaN       NaN       NaN   \n",
       "289         6.0         309.0  ...      NaN       NaN       NaN       NaN   \n",
       "290         5.0         305.0  ...      NaN       NaN       NaN       NaN   \n",
       "\n",
       "     mdr_lost  xdr_coh  xdr_succ  xdr_fail  xdr_died  xdr_lost  \n",
       "288       NaN      NaN       NaN       NaN       NaN       NaN  \n",
       "289       NaN      NaN       NaN       NaN       NaN       NaN  \n",
       "290       NaN      NaN       NaN       NaN       NaN       NaN  \n",
       "\n",
       "[3 rows x 72 columns]"
      ]
     },
     "execution_count": 29,
     "metadata": {},
     "output_type": "execute_result"
    }
   ],
   "source": [
    "df[df.country == 'Austria'].head(3)"
   ]
  },
  {
   "cell_type": "markdown",
   "metadata": {},
   "source": [
    "### Próxima aula será de Pandas ..."
   ]
  },
  {
   "cell_type": "markdown",
   "metadata": {},
   "source": [
    "### Posso acessar remotamente?\n",
    "### O pandas lê localmente e remotamente"
   ]
  },
  {
   "cell_type": "markdown",
   "metadata": {},
   "source": [
    "### WHO\n",
    "\n",
    "https://www.who.int/\n",
    "  - Data\n",
    "    - All data collections\n",
    "      - Global Observatory on Health R&D - Global Observatory on Health R&D\n",
    "        - Global Health Observatory data repository - https://apps.who.int/gho/data\n",
    "          - Adult mortality - table: right mose in Download dataset as CSV\n",
    "        \n",
    "    "
   ]
  },
  {
   "cell_type": "markdown",
   "metadata": {},
   "source": [
    "### Tabela de mortalidade adulta"
   ]
  },
  {
   "cell_type": "code",
   "execution_count": 30,
   "metadata": {},
   "outputs": [],
   "source": [
    "url = 'https://apps.who.int/gho/athena/data/GHO/WHOSIS_000004?filter=COUNTRY:-;REGION:*&x-sideaxis=REGION;YEAR&x-topaxis=GHO;SEX&profile=crosstable&format=csv'"
   ]
  },
  {
   "cell_type": "code",
   "execution_count": 31,
   "metadata": {},
   "outputs": [
    {
     "data": {
      "text/plain": [
       "(120, 5)"
      ]
     },
     "execution_count": 31,
     "metadata": {},
     "output_type": "execute_result"
    }
   ],
   "source": [
    "dfam = pd.read_csv(url)\n",
    "dfam.shape"
   ]
  },
  {
   "cell_type": "code",
   "execution_count": 32,
   "metadata": {},
   "outputs": [
    {
     "data": {
      "text/html": [
       "<div>\n",
       "<style scoped>\n",
       "    .dataframe tbody tr th:only-of-type {\n",
       "        vertical-align: middle;\n",
       "    }\n",
       "\n",
       "    .dataframe tbody tr th {\n",
       "        vertical-align: top;\n",
       "    }\n",
       "\n",
       "    .dataframe thead th {\n",
       "        text-align: right;\n",
       "    }\n",
       "</style>\n",
       "<table border=\"1\" class=\"dataframe\">\n",
       "  <thead>\n",
       "    <tr style=\"text-align: right;\">\n",
       "      <th></th>\n",
       "      <th>Unnamed: 0</th>\n",
       "      <th>Unnamed: 1</th>\n",
       "      <th>Adult mortality rate (probability of dying between 15 and 60 years per 1000 population)</th>\n",
       "      <th>Adult mortality rate (probability of dying between 15 and 60 years per 1000 population).1</th>\n",
       "      <th>Adult mortality rate (probability of dying between 15 and 60 years per 1000 population).2</th>\n",
       "    </tr>\n",
       "  </thead>\n",
       "  <tbody>\n",
       "    <tr>\n",
       "      <th>0</th>\n",
       "      <td>WHO region</td>\n",
       "      <td>Year</td>\n",
       "      <td>Both sexes</td>\n",
       "      <td>Male</td>\n",
       "      <td>Female</td>\n",
       "    </tr>\n",
       "    <tr>\n",
       "      <th>1</th>\n",
       "      <td>Global</td>\n",
       "      <td>2016</td>\n",
       "      <td>142</td>\n",
       "      <td>171</td>\n",
       "      <td>112</td>\n",
       "    </tr>\n",
       "    <tr>\n",
       "      <th>2</th>\n",
       "      <td>Global</td>\n",
       "      <td>2015</td>\n",
       "      <td>144</td>\n",
       "      <td>174</td>\n",
       "      <td>114</td>\n",
       "    </tr>\n",
       "    <tr>\n",
       "      <th>3</th>\n",
       "      <td>Global</td>\n",
       "      <td>2014</td>\n",
       "      <td>146</td>\n",
       "      <td>176</td>\n",
       "      <td>115</td>\n",
       "    </tr>\n",
       "    <tr>\n",
       "      <th>4</th>\n",
       "      <td>Global</td>\n",
       "      <td>2013</td>\n",
       "      <td>148</td>\n",
       "      <td>178</td>\n",
       "      <td>117</td>\n",
       "    </tr>\n",
       "  </tbody>\n",
       "</table>\n",
       "</div>"
      ],
      "text/plain": [
       "   Unnamed: 0 Unnamed: 1  \\\n",
       "0  WHO region       Year   \n",
       "1      Global       2016   \n",
       "2      Global       2015   \n",
       "3      Global       2014   \n",
       "4      Global       2013   \n",
       "\n",
       "  Adult mortality rate (probability of dying between 15 and 60 years per 1000 population)  \\\n",
       "0                                         Both sexes                                        \n",
       "1                                                142                                        \n",
       "2                                                144                                        \n",
       "3                                                146                                        \n",
       "4                                                148                                        \n",
       "\n",
       "  Adult mortality rate (probability of dying between 15 and 60 years per 1000 population).1  \\\n",
       "0                                               Male                                          \n",
       "1                                                171                                          \n",
       "2                                                174                                          \n",
       "3                                                176                                          \n",
       "4                                                178                                          \n",
       "\n",
       "  Adult mortality rate (probability of dying between 15 and 60 years per 1000 population).2  \n",
       "0                                             Female                                         \n",
       "1                                                112                                         \n",
       "2                                                114                                         \n",
       "3                                                115                                         \n",
       "4                                                117                                         "
      ]
     },
     "execution_count": 32,
     "metadata": {},
     "output_type": "execute_result"
    }
   ],
   "source": [
    "dfam.head()"
   ]
  },
  {
   "cell_type": "code",
   "execution_count": null,
   "metadata": {},
   "outputs": [],
   "source": []
  }
 ],
 "metadata": {
  "kernelspec": {
   "display_name": "Python 3",
   "language": "python",
   "name": "python3"
  },
  "language_info": {
   "codemirror_mode": {
    "name": "ipython",
    "version": 3
   },
   "file_extension": ".py",
   "mimetype": "text/x-python",
   "name": "python",
   "nbconvert_exporter": "python",
   "pygments_lexer": "ipython3",
   "version": "3.7.7"
  }
 },
 "nbformat": 4,
 "nbformat_minor": 4
}
