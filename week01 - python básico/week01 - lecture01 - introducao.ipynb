{
 "cells": [
  {
   "cell_type": "markdown",
   "metadata": {},
   "source": [
    "## Python - week01 - lecture01 - introdução"
   ]
  },
  {
   "cell_type": "markdown",
   "metadata": {},
   "source": [
    "### É muito fácil declarar variáveis em python\n",
    "### Mas, há palavras reservadas\n",
    "\n",
    "#### and , assert , break , class , continue , def , del , elif , else , except , exec , finally , for , from , global , if , import , in , is , lambda , not , or , pass , print\n",
    "\n",
    "### e operadores\n",
    "\n",
    "#### -, +, !=, <, %, <<, &, <=, *, <>, **, ==, /, >, ^, >=, |, >>, ~"
   ]
  },
  {
   "cell_type": "markdown",
   "metadata": {},
   "source": [
    "### Não posso fazer\n",
    "\n",
    "class = 3"
   ]
  },
  {
   "cell_type": "code",
   "execution_count": 1,
   "metadata": {},
   "outputs": [
    {
     "name": "stdout",
     "output_type": "stream",
     "text": [
      "2 <class 'int'>\n"
     ]
    }
   ],
   "source": [
    "a = 2\n",
    "print(a, type(a))"
   ]
  },
  {
   "cell_type": "markdown",
   "metadata": {},
   "source": [
    "### Class 'int'\n",
    "\n",
    "type(a) - pertence à classe dos Inteiros\n",
    "\n",
    "ou seja,\n",
    "\n",
    "o Python é todo OO (orientado a objetos), logo todas as variáveis pertencem a uma classe"
   ]
  },
  {
   "cell_type": "code",
   "execution_count": 2,
   "metadata": {},
   "outputs": [
    {
     "data": {
      "text/plain": [
       "(2, int)"
      ]
     },
     "execution_count": 2,
     "metadata": {},
     "output_type": "execute_result"
    }
   ],
   "source": [
    "# no jupyter notebook você pode usar ...\n",
    "a, type(a)"
   ]
  },
  {
   "cell_type": "code",
   "execution_count": 3,
   "metadata": {},
   "outputs": [
    {
     "data": {
      "text/plain": [
       "(20, int, 40)"
      ]
     },
     "execution_count": 3,
     "metadata": {},
     "output_type": "execute_result"
    }
   ],
   "source": [
    "b = 20\n",
    "# no ambiente jupyter, na última linha da célula, \n",
    "# posso ecoar variáveis e resultados de funções\n",
    "b, type(b), a*b"
   ]
  },
  {
   "cell_type": "markdown",
   "metadata": {},
   "source": [
    "### Posso fazer qualquer tipo de cálculo em Python"
   ]
  },
  {
   "cell_type": "code",
   "execution_count": 5,
   "metadata": {
    "scrolled": true
   },
   "outputs": [
    {
     "data": {
      "text/plain": [
       "'y = 3x + 9, se x=2, então y=15'"
      ]
     },
     "execution_count": 5,
     "metadata": {},
     "output_type": "execute_result"
    }
   ],
   "source": [
    "a = 3\n",
    "b = 9\n",
    "x = 2\n",
    "\n",
    "y = a*x + b\n",
    "# '' ou \"\" --> string --> Class 'str'\n",
    "\"y = %dx + %d, se x=%d, então y=%d\"%(a,b,x,y)"
   ]
  },
  {
   "cell_type": "markdown",
   "metadata": {},
   "source": [
    "### Loops ou laços são importantes em qualquer linguagem\n",
    "### O loop mais usado é o 'for', mas há outros com o 'while'"
   ]
  },
  {
   "cell_type": "code",
   "execution_count": 7,
   "metadata": {},
   "outputs": [
    {
     "data": {
      "text/plain": [
       "([], 0, list)"
      ]
     },
     "execution_count": 7,
     "metadata": {},
     "output_type": "execute_result"
    }
   ],
   "source": [
    "# declarando uma lista vazia\n",
    "xs = []   # R --   xs = c()\n",
    "\n",
    "# len(variavel) == comprimento da variável\n",
    "xs, len(xs), type(xs)"
   ]
  },
  {
   "cell_type": "code",
   "execution_count": 12,
   "metadata": {
    "scrolled": true
   },
   "outputs": [
    {
     "name": "stdout",
     "output_type": "stream",
     "text": [
      "0 9\n",
      "1 12\n",
      "2 15\n",
      "3 18\n",
      "4 21\n"
     ]
    }
   ],
   "source": [
    "# fazendo um laço e armazenando xs e ys (sequencias de xs e ys)\n",
    "# xList=[]; yList=[]\n",
    "\n",
    "xs=[]; ys = []  # escrevendo duas linhas em uma só linha: uso o ponto e vírgula\n",
    "a = 3; b = 9\n",
    "\n",
    "# range 30 --> iterador que vai de 0 a 39\n",
    "# iterador --> é um objeto do Python para rodar loops rapidamente\n",
    "# range(30) é parecido [0, 1, 2 ..... 29]\n",
    "\n",
    "for x in range(30):\n",
    "    y = a*x + b\n",
    "    #- forma de armazenar numa lista é usar var_lista.append()\n",
    "    xs.append(x)\n",
    "    ys.append(y)  # armazenando xs, e ys\n",
    "    \n",
    "    # eco para testes\n",
    "    if x < 5: print(x, y)\n",
    "\n",
    "# um laço é silencioso, só se colocar um print() lá dentro que ele ecoa o que está fazendo"
   ]
  },
  {
   "cell_type": "code",
   "execution_count": 13,
   "metadata": {},
   "outputs": [
    {
     "data": {
      "text/plain": [
       "[0, 1, 2, 3, 4]"
      ]
     },
     "execution_count": 13,
     "metadata": {},
     "output_type": "execute_result"
    }
   ],
   "source": [
    "# todos os valores em xs de 0 a 4\n",
    "xs[:5]   # mostre os primeiros 5 resultados, de 30; repare que TUDO COMEÇA COMZERO"
   ]
  },
  {
   "cell_type": "code",
   "execution_count": 14,
   "metadata": {},
   "outputs": [
    {
     "data": {
      "text/plain": [
       "[25, 26, 27, 28, 29]"
      ]
     },
     "execution_count": 14,
     "metadata": {},
     "output_type": "execute_result"
    }
   ],
   "source": [
    "## me mostre do ultimo-4 até o fim\n",
    "xs[-5:]"
   ]
  },
  {
   "cell_type": "code",
   "execution_count": 16,
   "metadata": {},
   "outputs": [
    {
     "data": {
      "text/plain": [
       "30"
      ]
     },
     "execution_count": 16,
     "metadata": {},
     "output_type": "execute_result"
    }
   ],
   "source": [
    "L = len(xs)\n",
    "L"
   ]
  },
  {
   "cell_type": "code",
   "execution_count": 17,
   "metadata": {},
   "outputs": [
    {
     "data": {
      "text/plain": [
       "[25, 26, 27, 28, 29]"
      ]
     },
     "execution_count": 17,
     "metadata": {},
     "output_type": "execute_result"
    }
   ],
   "source": [
    "# Python começa do 0 até L-1\n",
    "# xs[valor:L]  ... ele vai até L-1\n",
    "xs[25:30]"
   ]
  },
  {
   "cell_type": "code",
   "execution_count": 18,
   "metadata": {},
   "outputs": [
    {
     "data": {
      "text/plain": [
       "[9, 12, 15, 18, 21]"
      ]
     },
     "execution_count": 18,
     "metadata": {},
     "output_type": "execute_result"
    }
   ],
   "source": [
    "ys[:5]"
   ]
  },
  {
   "cell_type": "markdown",
   "metadata": {},
   "source": [
    "### Vamos ver este gráfico com matplotlib?"
   ]
  },
  {
   "cell_type": "code",
   "execution_count": 19,
   "metadata": {},
   "outputs": [],
   "source": [
    "## declarando matplotlib - uma bibloteca / pacote - já instalado pelo Anaconda\n",
    "import matplotlib.pyplot as plt\n",
    "# esta linha só exsite no Jupyter Notebook\n",
    "%matplotlib inline  "
   ]
  },
  {
   "cell_type": "code",
   "execution_count": 20,
   "metadata": {},
   "outputs": [
    {
     "data": {
      "text/plain": [
       "[<matplotlib.lines.Line2D at 0x7f4c10e147d0>]"
      ]
     },
     "execution_count": 20,
     "metadata": {},
     "output_type": "execute_result"
    },
    {
     "data": {
      "image/png": "[encoded data removed]",
      "text/plain": [
       "<Figure size 432x288 with 1 Axes>"
      ]
     },
     "metadata": {
      "needs_background": "light"
     },
     "output_type": "display_data"
    }
   ],
   "source": [
    "plt.plot(xs,ys)"
   ]
  },
  {
   "cell_type": "markdown",
   "metadata": {},
   "source": [
    "### Melhorando o gráfico e retirando o eco do matplotlib"
   ]
  },
  {
   "cell_type": "code",
   "execution_count": 21,
   "metadata": {},
   "outputs": [
    {
     "data": {
      "image/png": "[encoded data removed]",
      "text/plain": [
       "<Figure size 432x288 with 1 Axes>"
      ]
     },
     "metadata": {
      "needs_background": "light"
     },
     "output_type": "display_data"
    }
   ],
   "source": [
    "plt.plot(xs,ys)\n",
    "plt.xlabel('eixo x')\n",
    "plt.ylabel('eixo y')\n",
    "plt.title('Gráfico linear: y = ax+b');  # este ponto e vírgula final retira o eco do matplotlib"
   ]
  },
  {
   "cell_type": "markdown",
   "metadata": {},
   "source": [
    "### Repare o que já aprendemos até aqui\n",
    "\n",
    "  - definir uma ou mais variáveis\n",
    "  - fazer um loop e usar o range() para fazer uma sequência de 0 a 29 (range(30))\n",
    "  - armazenar os resultados em listas (xs e ys)\n",
    "  - plotar um gráfico\n",
    "  \n",
    "### Mas, o que é range() ?"
   ]
  },
  {
   "cell_type": "markdown",
   "metadata": {},
   "source": [
    "### Range é um iterador\n",
    "\n",
    "Um iterador é um gerador de números (neste caso) que podem ser iterados, rodados para gerar um loop"
   ]
  },
  {
   "cell_type": "code",
   "execution_count": 22,
   "metadata": {},
   "outputs": [
    {
     "data": {
      "text/plain": [
       "range(0, 5)"
      ]
     },
     "execution_count": 22,
     "metadata": {},
     "output_type": "execute_result"
    }
   ],
   "source": [
    "range(5)"
   ]
  },
  {
   "cell_type": "markdown",
   "metadata": {},
   "source": [
    "### o funcional range é muito rápido, mas você pode ver a lista que ele criou\n",
    "\n",
    "envolvendo o iterador range --> se transformar em lista"
   ]
  },
  {
   "cell_type": "code",
   "execution_count": 23,
   "metadata": {},
   "outputs": [
    {
     "data": {
      "text/plain": [
       "[0, 1, 2, 3, 4]"
      ]
     },
     "execution_count": 23,
     "metadata": {},
     "output_type": "execute_result"
    }
   ],
   "source": [
    "list(range(5))"
   ]
  },
  {
   "cell_type": "markdown",
   "metadata": {},
   "source": [
    "### Exercício\n",
    "\n",
    "### Crie uma lista de 0 a 360<sup>o</sup>, e aplique a função seno = math.sine()"
   ]
  },
  {
   "cell_type": "code",
   "execution_count": 24,
   "metadata": {},
   "outputs": [
    {
     "data": {
      "text/plain": [
       "3.141592653589793"
      ]
     },
     "execution_count": 24,
     "metadata": {},
     "output_type": "execute_result"
    }
   ],
   "source": [
    "import math\n",
    "\n",
    "# dicas\n",
    "math.pi"
   ]
  },
  {
   "cell_type": "markdown",
   "metadata": {},
   "source": [
    "### Dica:\n",
    "### primeiro obstáculo tenho que passar graus para radianos !!!\n",
    "### 0<sup>o</sup> = 0 radianos\n",
    "### xgraus  = y (radianos)\n",
    "### 360<sup>o</sup>  = 2$\\pi$ radianos\n",
    "\n",
    "portanto,\n",
    "\n",
    "y (em radianos) = xgraus * 2*PI / 360"
   ]
  },
  {
   "cell_type": "code",
   "execution_count": 25,
   "metadata": {},
   "outputs": [
    {
     "data": {
      "text/plain": [
       "0.8660254037844386"
      ]
     },
     "execution_count": 25,
     "metadata": {},
     "output_type": "execute_result"
    }
   ],
   "source": [
    "# dica para transformar graus em radianos\n",
    "grau = 60\n",
    "\n",
    "math.sin( 2*math.pi * 60 / 360)  # radianos!!!"
   ]
  },
  {
   "cell_type": "code",
   "execution_count": 26,
   "metadata": {},
   "outputs": [
    {
     "data": {
      "text/plain": [
       "1.5707963267948966"
      ]
     },
     "execution_count": 26,
     "metadata": {},
     "output_type": "execute_result"
    }
   ],
   "source": [
    "# fórmula a ser usando, exemplo: passando 90 graus para radianos\n",
    "grau = 90\n",
    "rad = 2*math.pi * grau / 360\n",
    "rad"
   ]
  },
  {
   "cell_type": "code",
   "execution_count": null,
   "metadata": {},
   "outputs": [],
   "source": []
  },
  {
   "cell_type": "code",
   "execution_count": null,
   "metadata": {},
   "outputs": [],
   "source": []
  },
  {
   "cell_type": "code",
   "execution_count": null,
   "metadata": {},
   "outputs": [],
   "source": []
  },
  {
   "cell_type": "code",
   "execution_count": null,
   "metadata": {},
   "outputs": [],
   "source": []
  },
  {
   "cell_type": "code",
   "execution_count": null,
   "metadata": {},
   "outputs": [],
   "source": []
  },
  {
   "cell_type": "code",
   "execution_count": null,
   "metadata": {},
   "outputs": [],
   "source": []
  },
  {
   "cell_type": "markdown",
   "metadata": {},
   "source": [
    "### Resolvendo"
   ]
  },
  {
   "cell_type": "code",
   "execution_count": 38,
   "metadata": {},
   "outputs": [
    {
     "data": {
      "image/png": "[encoded data removed]",
      "text/plain": [
       "<Figure size 432x288 with 1 Axes>"
      ]
     },
     "metadata": {
      "needs_background": "light"
     },
     "output_type": "display_data"
    }
   ],
   "source": [
    "ys = []\n",
    "graus = range(361)\n",
    "\n",
    "for grau in graus:\n",
    "    y = math.sin(2*math.pi * grau / 360)\n",
    "    ys.append(y)\n",
    "    \n",
    "plt.plot(graus,ys)\n",
    "plt.xlabel('radianos')\n",
    "plt.ylabel('seno(rad)')\n",
    "plt.title('Função seno de 0 a 2 $\\pi$ radianos');  # este ponto e vírgula final retira o eco do matplotlib"
   ]
  },
  {
   "cell_type": "code",
   "execution_count": null,
   "metadata": {},
   "outputs": [],
   "source": []
  },
  {
   "cell_type": "markdown",
   "metadata": {},
   "source": [
    "### Existem bibliotecas especializadas em cálculos numéricos\n",
    "\n",
    "**elas usam a linguagem C para tornar o Python mais rápido**\n",
    "\n",
    "  - numpy\n",
    "    - https://numpy.org/doc/stable/user/quickstart.html\n",
    "    - https://www.w3schools.com/python/numpy_intro.asp\n",
    "    - https://www.youtube.com/watch?v=GB9ByFAIAH4\n",
    "    \n",
    "  - scipy\n",
    "    - https://www.scipy.org/getting-started.html\n",
    "    - https://www.tutorialspoint.com/scipy/scipy_quick_guide.htm"
   ]
  },
  {
   "cell_type": "markdown",
   "metadata": {},
   "source": []
  },
  {
   "cell_type": "markdown",
   "metadata": {},
   "source": [
    "### Vamos simular um experimento no seu laboratório\n",
    "\n",
    "#### Vamos supor que ao aumentar a concentração de um substrato você enxerga uma diminuição da translucência no líquido \n",
    "#### Você pergunta se a relação é linear? Se há correlação\n",
    "\n",
    "#### Como simular este experimento no computador???\n",
    "\n",
    "**usando um gerador de números rândomicos**\n",
    "\n",
    "  - todas as linguagem têm geradores de números randômicos (GNR)\n",
    "  - eles são imperfeitos, são falsos-GNR\n",
    "  - então, o que é randomicidade? - vamos discutir\n",
    "  - logo, posso controlar o GNR ?"
   ]
  },
  {
   "cell_type": "code",
   "execution_count": 40,
   "metadata": {},
   "outputs": [],
   "source": [
    "# importe numpy e dê um apelido (alias) np (este é o padrão adotado)\n",
    "import numpy as np"
   ]
  },
  {
   "cell_type": "markdown",
   "metadata": {},
   "source": [
    "#### Gerador de 10 números randômicos (size=10) entre [0,1] = randint(2, size=10)"
   ]
  },
  {
   "cell_type": "code",
   "execution_count": 41,
   "metadata": {},
   "outputs": [
    {
     "data": {
      "text/plain": [
       "array([1, 0, 1, 1, 1, 0, 0, 1, 1, 1])"
      ]
     },
     "execution_count": 41,
     "metadata": {},
     "output_type": "execute_result"
    }
   ],
   "source": [
    "# random(2) -- moeda - cair ou 0 ou 1\n",
    "np.random.randint(2, size=10)"
   ]
  },
  {
   "cell_type": "markdown",
   "metadata": {},
   "source": [
    "### Qual o valor médio esperado para estea moeda (digital)\n",
    "valor esperado para jogar 10 moedas sem vídio"
   ]
  },
  {
   "cell_type": "code",
   "execution_count": 46,
   "metadata": {},
   "outputs": [
    {
     "data": {
      "text/plain": [
       "array([1, 0, 0, 1, 1, 1, 1, 0, 0, 1])"
      ]
     },
     "execution_count": 46,
     "metadata": {},
     "output_type": "execute_result"
    }
   ],
   "source": [
    "jogos = np.random.randint(2, size=10)\n",
    "jogos"
   ]
  },
  {
   "cell_type": "code",
   "execution_count": 47,
   "metadata": {},
   "outputs": [
    {
     "data": {
      "text/plain": [
       "0.6"
      ]
     },
     "execution_count": 47,
     "metadata": {},
     "output_type": "execute_result"
    }
   ],
   "source": [
    "valor_esperado = np.mean(jogos)\n",
    "valor_esperado"
   ]
  },
  {
   "cell_type": "markdown",
   "metadata": {},
   "source": [
    "### Valor Esperado == Media --> moedas: fica dançando em volta 0.5"
   ]
  },
  {
   "cell_type": "code",
   "execution_count": 52,
   "metadata": {},
   "outputs": [
    {
     "data": {
      "text/plain": [
       "0.517"
      ]
     },
     "execution_count": 52,
     "metadata": {},
     "output_type": "execute_result"
    }
   ],
   "source": [
    "jogos = np.random.randint(2, size=1000)\n",
    "np.mean(jogos)"
   ]
  },
  {
   "cell_type": "markdown",
   "metadata": {},
   "source": [
    "### Dados --> 6 faces ... 1 a 6 --> média ~ 3.5  -- (1+6)/2"
   ]
  },
  {
   "cell_type": "code",
   "execution_count": 64,
   "metadata": {},
   "outputs": [
    {
     "data": {
      "text/plain": [
       "3.49"
      ]
     },
     "execution_count": 64,
     "metadata": {},
     "output_type": "execute_result"
    }
   ],
   "source": [
    "dados = np.random.randint(6, size=1000) + 1\n",
    "np.mean(dados)"
   ]
  },
  {
   "cell_type": "markdown",
   "metadata": {},
   "source": [
    "#### Gerador de 15 números randômicos (size=15) entre [0,5] = randint(6, size=10)"
   ]
  },
  {
   "cell_type": "code",
   "execution_count": 65,
   "metadata": {},
   "outputs": [
    {
     "data": {
      "text/plain": [
       "array([3, 5, 3, 3, 4, 1, 4, 0, 5, 2, 4, 5, 0, 3, 0])"
      ]
     },
     "execution_count": 65,
     "metadata": {},
     "output_type": "execute_result"
    }
   ],
   "source": [
    "np.random.randint(6, size=15)"
   ]
  },
  {
   "cell_type": "markdown",
   "metadata": {},
   "source": [
    "### Repita várias vezes?"
   ]
  },
  {
   "cell_type": "code",
   "execution_count": 66,
   "metadata": {},
   "outputs": [
    {
     "data": {
      "text/plain": [
       "array([5, 0, 0, 3, 4, 4, 5, 3, 3, 3, 3, 0, 4, 5, 3])"
      ]
     },
     "execution_count": 66,
     "metadata": {},
     "output_type": "execute_result"
    }
   ],
   "source": [
    "np.random.randint(6, size=15)"
   ]
  },
  {
   "cell_type": "code",
   "execution_count": 67,
   "metadata": {},
   "outputs": [
    {
     "data": {
      "text/plain": [
       "array([5, 2, 2, 5, 1, 0, 1, 3, 3, 5, 1, 2, 5, 5, 1])"
      ]
     },
     "execution_count": 67,
     "metadata": {},
     "output_type": "execute_result"
    }
   ],
   "source": [
    "np.random.randint(6, size=15)"
   ]
  },
  {
   "cell_type": "code",
   "execution_count": 68,
   "metadata": {},
   "outputs": [
    {
     "data": {
      "text/plain": [
       "array([1, 0, 5, 2, 3, 4, 3, 5, 5, 3, 2, 3, 4, 2, 4])"
      ]
     },
     "execution_count": 68,
     "metadata": {},
     "output_type": "execute_result"
    }
   ],
   "source": [
    "np.random.randint(6, size=15)"
   ]
  },
  {
   "cell_type": "markdown",
   "metadata": {},
   "source": [
    "### Parece ser rânomico mesmo !!! Mas, não é \n",
    "\n",
    "minha máquina de números randômicos (máquina estocástica) para de funcionar ~ na verdade, é uma bela função matemática"
   ]
  },
  {
   "cell_type": "code",
   "execution_count": 76,
   "metadata": {},
   "outputs": [
    {
     "data": {
      "text/plain": [
       "array([0, 5, 0, 3, 2, 3, 0, 2, 1, 3, 5, 2, 4, 4, 4])"
      ]
     },
     "execution_count": 76,
     "metadata": {},
     "output_type": "execute_result"
    }
   ],
   "source": [
    "np.random.seed(2)  # seed = sementinha\n",
    "np.random.randint(6, size=15)"
   ]
  },
  {
   "cell_type": "markdown",
   "metadata": {},
   "source": [
    "### E aí? Repetiu ou foi randômico?"
   ]
  },
  {
   "cell_type": "code",
   "execution_count": 77,
   "metadata": {},
   "outputs": [
    {
     "data": {
      "text/plain": [
       "array([0, 5, 0, 3, 2, 3, 0, 2, 1, 3, 5, 2, 4, 4, 4])"
      ]
     },
     "execution_count": 77,
     "metadata": {},
     "output_type": "execute_result"
    }
   ],
   "source": [
    "np.random.seed(2)\n",
    "np.random.randint(6, size=15)"
   ]
  },
  {
   "cell_type": "code",
   "execution_count": 78,
   "metadata": {},
   "outputs": [
    {
     "data": {
      "text/plain": [
       "array([1, 4, 5, 4, 3, 3, 2, 5, 4, 3, 4, 3, 5, 3, 5])"
      ]
     },
     "execution_count": 78,
     "metadata": {},
     "output_type": "execute_result"
    }
   ],
   "source": [
    "np.random.seed(354)\n",
    "np.random.randint(6, size=15)"
   ]
  },
  {
   "cell_type": "markdown",
   "metadata": {},
   "source": [
    "### Agora, vamos simular uma distribuição normal\n",
    "\n",
    "Vai ser o soluto: 15 experimentos ....\n",
    "\n",
    "Vou mostrar o valor de um dos experimento - porque nada é exato - tudo tem erro (erro amostral):\n",
    "\n",
    "  - media = 2.3 mM\n",
    "  - desvio padrão = 0.1\n",
    "  - temos 15 amostras"
   ]
  },
  {
   "cell_type": "code",
   "execution_count": 80,
   "metadata": {},
   "outputs": [],
   "source": [
    "# mu = mean;  sample standard deviation = ssd; sample number = n\n",
    "mu = 2.3;  ssd = 0.1;  n = 15"
   ]
  },
  {
   "cell_type": "code",
   "execution_count": 81,
   "metadata": {},
   "outputs": [
    {
     "data": {
      "text/plain": [
       "array([2.29800067, 2.42042922, 2.21205306, 2.17831186, 2.17717109,\n",
       "       2.19173567, 2.33697799, 2.24076742, 2.26799454, 2.30702989,\n",
       "       2.30868899, 2.22646379, 2.36667347, 2.18192213, 2.19466512])"
      ]
     },
     "execution_count": 81,
     "metadata": {},
     "output_type": "execute_result"
    }
   ],
   "source": [
    "# uma distribuição normal é definida por media e desvio padrão\n",
    "np.random.normal(mu, ssd, n)"
   ]
  },
  {
   "cell_type": "markdown",
   "metadata": {},
   "source": [
    "### Voltando ao nosso experimento de translucência x substrato"
   ]
  },
  {
   "cell_type": "code",
   "execution_count": 116,
   "metadata": {},
   "outputs": [
    {
     "data": {
      "text/plain": [
       "array([ 0,  1,  2,  3,  4,  5,  6,  7,  8,  9, 10, 11, 12, 13, 14])"
      ]
     },
     "execution_count": 116,
     "metadata": {},
     "output_type": "execute_result"
    }
   ],
   "source": [
    "# como gerar sequências em numpy: use np.arange(inicio, fim, passo=1)\n",
    "\n",
    "# usar de 0 a 14 mM ... onde 0 é o controle\n",
    "substratos = np.arange(0, 15)\n",
    "substratos"
   ]
  },
  {
   "cell_type": "markdown",
   "metadata": {},
   "source": [
    "### Vamos colocar algum ruído no sustrato???\n",
    "### Como faço isto?\n",
    "### só somar 'ruído branco' = random.normal(media=0, ssd=a escolher ~ pequeno)"
   ]
  },
  {
   "cell_type": "code",
   "execution_count": 117,
   "metadata": {},
   "outputs": [
    {
     "data": {
      "text/plain": [
       "array([ 0.2158503 ,  0.9971394 ,  1.88000072,  2.87111703,  4.04164139,\n",
       "        4.92583391,  5.9872902 ,  7.07693293,  8.12407121,  9.08372779,\n",
       "       10.10656015, 11.07430406, 11.9036445 , 12.82999873, 13.88466395])"
      ]
     },
     "execution_count": 117,
     "metadata": {},
     "output_type": "execute_result"
    }
   ],
   "source": [
    "substratos = substratos + np.random.normal(0, .1, len(substratos))\n",
    "substratos"
   ]
  },
  {
   "cell_type": "markdown",
   "metadata": {},
   "source": [
    "### Ops: não posso ter valores negativos, e agora?"
   ]
  },
  {
   "cell_type": "code",
   "execution_count": 118,
   "metadata": {},
   "outputs": [
    {
     "data": {
      "text/plain": [
       "array([ 0.        ,  0.7812891 ,  1.66415042,  2.65526673,  3.82579109,\n",
       "        4.70998361,  5.7714399 ,  6.86108263,  7.90822091,  8.86787749,\n",
       "        9.89070985, 10.85845376, 11.6877942 , 12.61414843, 13.66881365])"
      ]
     },
     "execution_count": 118,
     "metadata": {},
     "output_type": "execute_result"
    }
   ],
   "source": [
    "substratos = substratos - np.min(substratos)\n",
    "substratos"
   ]
  },
  {
   "cell_type": "markdown",
   "metadata": {},
   "source": [
    "### A translucência é aproximadamente 1/20 (em dB)\n",
    "\n",
    "https://en.wikipedia.org/wiki/Transparency_and_translucency"
   ]
  },
  {
   "cell_type": "code",
   "execution_count": 119,
   "metadata": {},
   "outputs": [
    {
     "data": {
      "text/plain": [
       "array([0.01471241, 0.02722732, 0.0717375 , 0.13455256, 0.17474103,\n",
       "       0.24286507, 0.27828903, 0.33071106, 0.40055385, 0.45194276,\n",
       "       0.48451643, 0.55644605, 0.57977329, 0.63224725, 0.67405753])"
      ]
     },
     "execution_count": 119,
     "metadata": {},
     "output_type": "execute_result"
    }
   ],
   "source": [
    "# translucência = substrato/20 + novo_erro (aparelho ótico)\n",
    "transluc = substratos/20 +  np.random.normal(0, .01, len(substratos))\n",
    "transluc"
   ]
  },
  {
   "cell_type": "code",
   "execution_count": 120,
   "metadata": {},
   "outputs": [
    {
     "data": {
      "text/plain": [
       "array([0.        , 0.01251491, 0.05702509, 0.11984015, 0.16002862,\n",
       "       0.22815266, 0.26357662, 0.31599865, 0.38584144, 0.43723035,\n",
       "       0.46980402, 0.54173364, 0.56506088, 0.61753484, 0.65934512])"
      ]
     },
     "execution_count": 120,
     "metadata": {},
     "output_type": "execute_result"
    }
   ],
   "source": [
    "# que conta é esta? você entendeu?\n",
    "transluc -= np.min(transluc)\n",
    "transluc"
   ]
  },
  {
   "cell_type": "markdown",
   "metadata": {},
   "source": [
    "xs = substratos  \n",
    "ys = transluc"
   ]
  },
  {
   "cell_type": "markdown",
   "metadata": {},
   "source": [
    "### Colocar alguns erros - variações - ..."
   ]
  },
  {
   "cell_type": "code",
   "execution_count": 121,
   "metadata": {},
   "outputs": [
    {
     "data": {
      "text/plain": [
       "15"
      ]
     },
     "execution_count": 121,
     "metadata": {},
     "output_type": "execute_result"
    }
   ],
   "source": [
    "len(transluc)"
   ]
  },
  {
   "cell_type": "code",
   "execution_count": 125,
   "metadata": {},
   "outputs": [],
   "source": [
    "transluc[2] = transluc[2]*.5\n",
    "transluc[11] *= 1.35"
   ]
  },
  {
   "cell_type": "code",
   "execution_count": 126,
   "metadata": {},
   "outputs": [
    {
     "data": {
      "image/png": "[encoded data removed]",
      "text/plain": [
       "<Figure size 432x288 with 1 Axes>"
      ]
     },
     "metadata": {
      "needs_background": "light"
     },
     "output_type": "display_data"
    }
   ],
   "source": [
    "#-- este gráfico está errado! porque?\n",
    "plt.plot(substratos,transluc)\n",
    "plt.xlabel('substrato (mM)')\n",
    "plt.ylabel('translucência (dB)')\n",
    "plt.title('Está errado !!!\\nExperimento: translucência x substrato');  # este ponto e vírgula final retira o eco do matplotlib"
   ]
  },
  {
   "cell_type": "code",
   "execution_count": 124,
   "metadata": {},
   "outputs": [
    {
     "data": {
      "image/png": "[encoded data removed]",
      "text/plain": [
       "<Figure size 432x288 with 1 Axes>"
      ]
     },
     "metadata": {
      "needs_background": "light"
     },
     "output_type": "display_data"
    }
   ],
   "source": [
    "#-- o gráfico correto é um Scatter Plot\n",
    "plt.scatter(substratos,transluc)\n",
    "plt.xlabel('substrato (mM)')\n",
    "plt.ylabel('translucência (dB)')\n",
    "plt.title('Experimento: translucência x substrato');  # este ponto e vírgula final retira o eco do matplotlib"
   ]
  },
  {
   "cell_type": "markdown",
   "metadata": {},
   "source": [
    "### Há correlação ?"
   ]
  },
  {
   "cell_type": "code",
   "execution_count": 127,
   "metadata": {},
   "outputs": [
    {
     "data": {
      "text/plain": [
       "(0.9095568747500403, 2.5967215485385676e-06)"
      ]
     },
     "execution_count": 127,
     "metadata": {},
     "output_type": "execute_result"
    }
   ],
   "source": [
    "from scipy.stats import stats\n",
    "### o primeiro valor é a estatística, o segundo valor é o p-value\n",
    "stat, pval = stats.pearsonr(substratos, transluc)\n",
    "stat, pval"
   ]
  },
  {
   "cell_type": "markdown",
   "metadata": {},
   "source": [
    "### Regressão linear (não é nosso foco, neste curso)"
   ]
  },
  {
   "cell_type": "code",
   "execution_count": 129,
   "metadata": {},
   "outputs": [],
   "source": [
    "slope, intercept, r_value, p_value, std_err = \\\n",
    "stats.linregress(substratos, transluc)"
   ]
  },
  {
   "cell_type": "code",
   "execution_count": 130,
   "metadata": {},
   "outputs": [
    {
     "data": {
      "text/plain": [
       "(0.05732051807822454,\n",
       " -0.03921172791760369,\n",
       " 0.90955687475004,\n",
       " 2.5967215485386256e-06,\n",
       " 0.0072637794557782204)"
      ]
     },
     "execution_count": 130,
     "metadata": {},
     "output_type": "execute_result"
    }
   ],
   "source": [
    "slope, intercept, r_value, p_value, std_err"
   ]
  },
  {
   "cell_type": "markdown",
   "metadata": {},
   "source": [
    "### Reta: y = a * x + b\n",
    "### y = slope * x + intercept\n",
    "\n",
    "se eu substituir nesta reta os valores de slope (inclinação) e intercept (coef. linear)  \n",
    "terei o y predito\n",
    "\n",
    "lembre-se que a diferença entre cada y e o y predito = erro\n",
    "\n",
    "erro[i] = y[i] - \\<y>[i]"
   ]
  },
  {
   "cell_type": "code",
   "execution_count": 133,
   "metadata": {},
   "outputs": [],
   "source": [
    "#-- este a,b são a inclinção e intercetpo da regressão linear\n",
    "#-- gerar valores preditos: ypredict \n",
    "a = slope\n",
    "b = intercept\n",
    "\n",
    "ys = []\n",
    "for xsubst in substratos:\n",
    "    ypredict = a * xsubst + b\n",
    "    ys.append(ypredict)"
   ]
  },
  {
   "cell_type": "code",
   "execution_count": 134,
   "metadata": {},
   "outputs": [
    {
     "data": {
      "image/png": "[encoded data removed]",
      "text/plain": [
       "<Figure size 432x288 with 1 Axes>"
      ]
     },
     "metadata": {
      "needs_background": "light"
     },
     "output_type": "display_data"
    }
   ],
   "source": [
    "plt.scatter(substratos,transluc)\n",
    "plt.plot(substratos, ys, color='red')\n",
    "plt.xlabel('substrato (mM)')\n",
    "plt.ylabel('translucência (dB)')\n",
    "title = 'Experimento: translucência x substrato\\ncoef.corr: =%.3f p-value=%.2e'%(r_value, p_value)\n",
    "plt.title(title);  # este ponto e vírgula final retira o eco do matplotlib"
   ]
  },
  {
   "cell_type": "code",
   "execution_count": null,
   "metadata": {},
   "outputs": [],
   "source": []
  },
  {
   "cell_type": "markdown",
   "metadata": {},
   "source": [
    "### Vocês perceberam que as explicações são HTML puro\n",
    "### como se faz isto?\n",
    "### isto é Markdown\n",
    "### veremos na próxima aula\n",
    "### dê um clique duplo nos comentários e os comandos markdown aparecerão\n",
    "\n",
    "até a próxima aula ...  \n",
    "Flavio Lichtenstein"
   ]
  },
  {
   "cell_type": "code",
   "execution_count": null,
   "metadata": {},
   "outputs": [],
   "source": []
  }
 ],
 "metadata": {
  "kernelspec": {
   "display_name": "Python 3",
   "language": "python",
   "name": "python3"
  },
  "language_info": {
   "codemirror_mode": {
    "name": "ipython",
    "version": 3
   },
   "file_extension": ".py",
   "mimetype": "text/x-python",
   "name": "python",
   "nbconvert_exporter": "python",
   "pygments_lexer": "ipython3",
   "version": "3.7.7"
  }
 },
 "nbformat": 4,
 "nbformat_minor": 4
}
