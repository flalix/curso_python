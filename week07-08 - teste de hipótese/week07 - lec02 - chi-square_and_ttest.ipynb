{
 "cells": [
  {
   "cell_type": "code",
   "execution_count": 1,
   "metadata": {},
   "outputs": [],
   "source": [
    "from scipy import stats\n",
    "import numpy as np\n",
    "import pandas as pd\n",
    "\n",
    "from scipy.stats import norm\n",
    "\n",
    "import seaborn as sns\n",
    "import matplotlib.pyplot as plt\n",
    "%matplotlib inline"
   ]
  },
  {
   "cell_type": "markdown",
   "metadata": {},
   "source": [
    "## Chi-square test\n",
    "\n",
    "  - dados numéricos e discretos\n",
    "  - comparação de 2 ou mais distribuições\n",
    "    - p.ex. número de escamas de cobras fêmeas, de mesma espécie, em altitudes diferentes\n",
    "    - são estatisticamente diferentes?\n",
    "    - coletaremos 5 amostras a 1200 m e 5 amostras a 200 m"
   ]
  },
  {
   "cell_type": "markdown",
   "metadata": {},
   "source": [
    "### Exemplo 01 - medicina\n",
    "\n",
    "  - tabela de contingência"
   ]
  },
  {
   "cell_type": "code",
   "execution_count": 19,
   "metadata": {},
   "outputs": [
    {
     "data": {
      "text/html": [
       "<div>\n",
       "<style scoped>\n",
       "    .dataframe tbody tr th:only-of-type {\n",
       "        vertical-align: middle;\n",
       "    }\n",
       "\n",
       "    .dataframe tbody tr th {\n",
       "        vertical-align: top;\n",
       "    }\n",
       "\n",
       "    .dataframe thead th {\n",
       "        text-align: right;\n",
       "    }\n",
       "</style>\n",
       "<table border=\"1\" class=\"dataframe\">\n",
       "  <thead>\n",
       "    <tr style=\"text-align: right;\">\n",
       "      <th></th>\n",
       "      <th>são</th>\n",
       "      <th>doente</th>\n",
       "    </tr>\n",
       "  </thead>\n",
       "  <tbody>\n",
       "    <tr>\n",
       "      <th>negativo</th>\n",
       "      <td>10</td>\n",
       "      <td>3</td>\n",
       "    </tr>\n",
       "    <tr>\n",
       "      <th>positivo</th>\n",
       "      <td>4</td>\n",
       "      <td>29</td>\n",
       "    </tr>\n",
       "  </tbody>\n",
       "</table>\n",
       "</div>"
      ],
      "text/plain": [
       "          são  doente\n",
       "negativo   10       3\n",
       "positivo    4      29"
      ]
     },
     "execution_count": 19,
     "metadata": {},
     "output_type": "execute_result"
    }
   ],
   "source": [
    "# testes x estado de pacientes\n",
    "cases = np.array([[10, 4], [3, 29]]).T\n",
    "dfc = pd.DataFrame(cases)\n",
    "dfc.columns = ['são', 'doente']\n",
    "dfc.index = [\"negativo\", \"positivo\"]\n",
    "dfc"
   ]
  },
  {
   "cell_type": "markdown",
   "metadata": {},
   "source": [
    "### Exemplo 02 - ecologia ~ cobras"
   ]
  },
  {
   "cell_type": "code",
   "execution_count": 20,
   "metadata": {},
   "outputs": [
    {
     "data": {
      "text/plain": [
       "(15.563342907092908,\n",
       " 7.978656151116845e-05,\n",
       " 1,\n",
       " array([[ 3.95652174,  9.04347826],\n",
       "        [10.04347826, 22.95652174]]))"
      ]
     },
     "execution_count": 20,
     "metadata": {},
     "output_type": "execute_result"
    }
   ],
   "source": [
    "chi2, pvalue, dof, expected = stats.chi2_contingency(dfc)\n",
    "chi2, pvalue, dof, expected "
   ]
  },
  {
   "cell_type": "code",
   "execution_count": 16,
   "metadata": {},
   "outputs": [
    {
     "data": {
      "text/plain": [
       "array([[16, 32],\n",
       "       [18, 24],\n",
       "       [25, 27],\n",
       "       [14, 35],\n",
       "       [12, 40]])"
      ]
     },
     "execution_count": 16,
     "metadata": {},
     "output_type": "execute_result"
    }
   ],
   "source": [
    "# scales = observed data\n",
    "scales = np.array([[16, 18, 25, 14, 12], [32, 24, 27, 35, 40]]).T\n",
    "scales"
   ]
  },
  {
   "cell_type": "code",
   "execution_count": 17,
   "metadata": {},
   "outputs": [
    {
     "data": {
      "text/html": [
       "<div>\n",
       "<style scoped>\n",
       "    .dataframe tbody tr th:only-of-type {\n",
       "        vertical-align: middle;\n",
       "    }\n",
       "\n",
       "    .dataframe tbody tr th {\n",
       "        vertical-align: top;\n",
       "    }\n",
       "\n",
       "    .dataframe thead th {\n",
       "        text-align: right;\n",
       "    }\n",
       "</style>\n",
       "<table border=\"1\" class=\"dataframe\">\n",
       "  <thead>\n",
       "    <tr style=\"text-align: right;\">\n",
       "      <th></th>\n",
       "      <th>alt1200</th>\n",
       "      <th>alt200</th>\n",
       "    </tr>\n",
       "  </thead>\n",
       "  <tbody>\n",
       "    <tr>\n",
       "      <th>32</th>\n",
       "      <td>16</td>\n",
       "      <td>32</td>\n",
       "    </tr>\n",
       "    <tr>\n",
       "      <th>33</th>\n",
       "      <td>18</td>\n",
       "      <td>24</td>\n",
       "    </tr>\n",
       "    <tr>\n",
       "      <th>34</th>\n",
       "      <td>25</td>\n",
       "      <td>27</td>\n",
       "    </tr>\n",
       "    <tr>\n",
       "      <th>35</th>\n",
       "      <td>14</td>\n",
       "      <td>35</td>\n",
       "    </tr>\n",
       "    <tr>\n",
       "      <th>36</th>\n",
       "      <td>12</td>\n",
       "      <td>40</td>\n",
       "    </tr>\n",
       "  </tbody>\n",
       "</table>\n",
       "</div>"
      ],
      "text/plain": [
       "    alt1200  alt200\n",
       "32       16      32\n",
       "33       18      24\n",
       "34       25      27\n",
       "35       14      35\n",
       "36       12      40"
      ]
     },
     "execution_count": 17,
     "metadata": {},
     "output_type": "execute_result"
    }
   ],
   "source": [
    "df = pd.DataFrame(scales)\n",
    "df.columns = ['alt1200', 'alt200']\n",
    "df.index = [32, 33, 34, 35, 36]\n",
    "df"
   ]
  },
  {
   "cell_type": "markdown",
   "metadata": {},
   "source": [
    "### Dataframe == tabela de contingência"
   ]
  },
  {
   "cell_type": "code",
   "execution_count": 21,
   "metadata": {},
   "outputs": [
    {
     "data": {
      "text/plain": [
       "(9.248974127138686,\n",
       " 0.055168821766874876,\n",
       " 4,\n",
       " array([[16.79012346, 31.20987654],\n",
       "        [14.69135802, 27.30864198],\n",
       "        [18.18930041, 33.81069959],\n",
       "        [17.1399177 , 31.8600823 ],\n",
       "        [18.18930041, 33.81069959]]))"
      ]
     },
     "execution_count": 21,
     "metadata": {},
     "output_type": "execute_result"
    }
   ],
   "source": [
    "chi2, pvalue, dof, expected = stats.chi2_contingency(df)\n",
    "chi2, pvalue, dof, expected "
   ]
  },
  {
   "cell_type": "code",
   "execution_count": 31,
   "metadata": {},
   "outputs": [
    {
     "data": {
      "text/plain": [
       "'estatística de chi-quadrado 9.249, p-value=5.517e-02, degree of freedom (dof) = 4'"
      ]
     },
     "execution_count": 31,
     "metadata": {},
     "output_type": "execute_result"
    }
   ],
   "source": [
    "\"estatística de chi-quadrado %.3f, p-value=%.3e, degree of freedom (dof) = %d\"%(chi2, pvalue, dof)"
   ]
  },
  {
   "cell_type": "code",
   "execution_count": 25,
   "metadata": {},
   "outputs": [
    {
     "data": {
      "text/html": [
       "<div>\n",
       "<style scoped>\n",
       "    .dataframe tbody tr th:only-of-type {\n",
       "        vertical-align: middle;\n",
       "    }\n",
       "\n",
       "    .dataframe tbody tr th {\n",
       "        vertical-align: top;\n",
       "    }\n",
       "\n",
       "    .dataframe thead th {\n",
       "        text-align: right;\n",
       "    }\n",
       "</style>\n",
       "<table border=\"1\" class=\"dataframe\">\n",
       "  <thead>\n",
       "    <tr style=\"text-align: right;\">\n",
       "      <th></th>\n",
       "      <th>alt1200</th>\n",
       "      <th>alt200</th>\n",
       "    </tr>\n",
       "  </thead>\n",
       "  <tbody>\n",
       "    <tr>\n",
       "      <th>32</th>\n",
       "      <td>16</td>\n",
       "      <td>32</td>\n",
       "    </tr>\n",
       "    <tr>\n",
       "      <th>33</th>\n",
       "      <td>18</td>\n",
       "      <td>24</td>\n",
       "    </tr>\n",
       "    <tr>\n",
       "      <th>34</th>\n",
       "      <td>25</td>\n",
       "      <td>27</td>\n",
       "    </tr>\n",
       "    <tr>\n",
       "      <th>35</th>\n",
       "      <td>14</td>\n",
       "      <td>35</td>\n",
       "    </tr>\n",
       "    <tr>\n",
       "      <th>36</th>\n",
       "      <td>12</td>\n",
       "      <td>40</td>\n",
       "    </tr>\n",
       "  </tbody>\n",
       "</table>\n",
       "</div>"
      ],
      "text/plain": [
       "    alt1200  alt200\n",
       "32       16      32\n",
       "33       18      24\n",
       "34       25      27\n",
       "35       14      35\n",
       "36       12      40"
      ]
     },
     "execution_count": 25,
     "metadata": {},
     "output_type": "execute_result"
    }
   ],
   "source": [
    "df"
   ]
  },
  {
   "cell_type": "code",
   "execution_count": 24,
   "metadata": {},
   "outputs": [
    {
     "data": {
      "text/plain": [
       "array([[16.79, 31.21],\n",
       "       [14.69, 27.31],\n",
       "       [18.19, 33.81],\n",
       "       [17.14, 31.86],\n",
       "       [18.19, 33.81]])"
      ]
     },
     "execution_count": 24,
     "metadata": {},
     "output_type": "execute_result"
    }
   ],
   "source": [
    "expected.round(2)"
   ]
  },
  {
   "cell_type": "code",
   "execution_count": 26,
   "metadata": {},
   "outputs": [
    {
     "data": {
      "text/plain": [
       "array([[-0.79012346,  0.79012346],\n",
       "       [ 3.30864198, -3.30864198],\n",
       "       [ 6.81069959, -6.81069959],\n",
       "       [-3.1399177 ,  3.1399177 ],\n",
       "       [-6.18930041,  6.18930041]])"
      ]
     },
     "execution_count": 26,
     "metadata": {},
     "output_type": "execute_result"
    }
   ],
   "source": [
    "scales - expected"
   ]
  },
  {
   "cell_type": "markdown",
   "metadata": {},
   "source": [
    "### Se a distribuição observada (df) similar à calculada ~ erro próximo de zero"
   ]
  },
  {
   "cell_type": "code",
   "execution_count": 27,
   "metadata": {},
   "outputs": [
    {
     "data": {
      "text/plain": [
       "212.2471168013006"
      ]
     },
     "execution_count": 27,
     "metadata": {},
     "output_type": "execute_result"
    }
   ],
   "source": [
    "erro = np.sum((scales - expected)**2)\n",
    "erro"
   ]
  },
  {
   "cell_type": "markdown",
   "metadata": {},
   "source": [
    "### A definição de estatística de chi-quadrado\n",
    "### soma (observado - esperado)**2 / esperado"
   ]
  },
  {
   "cell_type": "code",
   "execution_count": 32,
   "metadata": {},
   "outputs": [
    {
     "data": {
      "text/plain": [
       "9.248974127138686"
      ]
     },
     "execution_count": 32,
     "metadata": {},
     "output_type": "execute_result"
    }
   ],
   "source": [
    "chis_stat = np.sum((scales - expected)**2/expected)\n",
    "chis_stat"
   ]
  },
  {
   "cell_type": "markdown",
   "metadata": {},
   "source": [
    "### Valores experados não se distanciam muito dos observados?\n",
    "\n",
    "  - não: então as distribuições são similares:     H0  --> p-value < 0.05\n",
    "  - sim: então as distribuições NÃO são similares: Ha --> p-value >= 0.05"
   ]
  },
  {
   "cell_type": "code",
   "execution_count": 35,
   "metadata": {},
   "outputs": [
    {
     "data": {
      "text/plain": [
       "0.055168821766874876"
      ]
     },
     "execution_count": 35,
     "metadata": {},
     "output_type": "execute_result"
    }
   ],
   "source": [
    "pvalue"
   ]
  },
  {
   "cell_type": "code",
   "execution_count": 36,
   "metadata": {},
   "outputs": [
    {
     "data": {
      "text/plain": [
       "'não se refuta H0: distribuições estatisticamente similares, statistic = 9.249, p-value = 5.517e-02'"
      ]
     },
     "execution_count": 36,
     "metadata": {},
     "output_type": "execute_result"
    }
   ],
   "source": [
    "if pvalue >= 0.05:\n",
    "    stri = \"não se refuta H0: distribuições estatisticamente similares, statistic = %.3f, p-value = %.3e\"%(chi2, pvalue)\n",
    "else:\n",
    "    stri = \"adota-se a Ha: distribuições estatisticamente diferentes, statistic = %.3f, p-value = %.3e\"%(chi2, pvalue)    \n",
    "stri"
   ]
  },
  {
   "cell_type": "markdown",
   "metadata": {},
   "source": [
    "### A tabela de contingência é de 5 linhas x 2 colunas"
   ]
  },
  {
   "cell_type": "code",
   "execution_count": 37,
   "metadata": {},
   "outputs": [
    {
     "data": {
      "text/plain": [
       "(5, 2)"
      ]
     },
     "execution_count": 37,
     "metadata": {},
     "output_type": "execute_result"
    }
   ],
   "source": [
    "scales.shape"
   ]
  },
  {
   "cell_type": "markdown",
   "metadata": {},
   "source": [
    "### Graus de liberdade\n",
    "\n",
    "dof = (nrow - 1) * (ncol -1)"
   ]
  },
  {
   "cell_type": "code",
   "execution_count": 38,
   "metadata": {},
   "outputs": [
    {
     "data": {
      "text/plain": [
       "4"
      ]
     },
     "execution_count": 38,
     "metadata": {},
     "output_type": "execute_result"
    }
   ],
   "source": [
    "dof = (scales.shape[0]-1) * (scales.shape[1]-1)\n",
    "dof"
   ]
  },
  {
   "cell_type": "markdown",
   "metadata": {},
   "source": [
    "### Dados mais diferentes: distribuições distintas"
   ]
  },
  {
   "cell_type": "code",
   "execution_count": 39,
   "metadata": {},
   "outputs": [
    {
     "data": {
      "text/plain": [
       "array([[16, 10],\n",
       "       [18, 24],\n",
       "       [16, 27],\n",
       "       [14, 35],\n",
       "       [12, 40]])"
      ]
     },
     "execution_count": 39,
     "metadata": {},
     "output_type": "execute_result"
    }
   ],
   "source": [
    "# scales = observed data\n",
    "scales = np.array([[16, 18, 16, 14, 12], [10, 24, 27, 35, 40]]).T\n",
    "scales"
   ]
  },
  {
   "cell_type": "code",
   "execution_count": 41,
   "metadata": {},
   "outputs": [
    {
     "data": {
      "text/html": [
       "<div>\n",
       "<style scoped>\n",
       "    .dataframe tbody tr th:only-of-type {\n",
       "        vertical-align: middle;\n",
       "    }\n",
       "\n",
       "    .dataframe tbody tr th {\n",
       "        vertical-align: top;\n",
       "    }\n",
       "\n",
       "    .dataframe thead th {\n",
       "        text-align: right;\n",
       "    }\n",
       "</style>\n",
       "<table border=\"1\" class=\"dataframe\">\n",
       "  <thead>\n",
       "    <tr style=\"text-align: right;\">\n",
       "      <th></th>\n",
       "      <th>alt1200</th>\n",
       "      <th>alt200</th>\n",
       "    </tr>\n",
       "  </thead>\n",
       "  <tbody>\n",
       "    <tr>\n",
       "      <th>32</th>\n",
       "      <td>16</td>\n",
       "      <td>10</td>\n",
       "    </tr>\n",
       "    <tr>\n",
       "      <th>33</th>\n",
       "      <td>18</td>\n",
       "      <td>24</td>\n",
       "    </tr>\n",
       "    <tr>\n",
       "      <th>34</th>\n",
       "      <td>16</td>\n",
       "      <td>27</td>\n",
       "    </tr>\n",
       "    <tr>\n",
       "      <th>35</th>\n",
       "      <td>14</td>\n",
       "      <td>35</td>\n",
       "    </tr>\n",
       "    <tr>\n",
       "      <th>36</th>\n",
       "      <td>12</td>\n",
       "      <td>40</td>\n",
       "    </tr>\n",
       "  </tbody>\n",
       "</table>\n",
       "</div>"
      ],
      "text/plain": [
       "    alt1200  alt200\n",
       "32       16      10\n",
       "33       18      24\n",
       "34       16      27\n",
       "35       14      35\n",
       "36       12      40"
      ]
     },
     "execution_count": 41,
     "metadata": {},
     "output_type": "execute_result"
    }
   ],
   "source": [
    "df = pd.DataFrame(scales)\n",
    "df.columns = ['alt1200', 'alt200']\n",
    "df.index = [32, 33, 34, 35, 36]\n",
    "df"
   ]
  },
  {
   "cell_type": "code",
   "execution_count": 42,
   "metadata": {},
   "outputs": [
    {
     "data": {
      "text/plain": [
       "Power_divergenceResult(statistic=43.0, pvalue=2.1556072340481466e-06)"
      ]
     },
     "execution_count": 42,
     "metadata": {},
     "output_type": "execute_result"
    }
   ],
   "source": [
    "stat = stats.chisquare(scales, axis=None)\n",
    "stat"
   ]
  },
  {
   "cell_type": "code",
   "execution_count": 43,
   "metadata": {},
   "outputs": [],
   "source": [
    "def chi2_text(df, verbose=True):\n",
    "    chi2, p, dof, expected = stats.chi2_contingency(df)\n",
    "\n",
    "    erro = np.sum((df.to_numpy() - expected)**2)\n",
    "\n",
    "    if p >= 0.05:\n",
    "        stri = \"não se refuta H0: distribuições estatisticamente similares, statistic = %.3f, p-value = %.3e\"%(chi2, p)\n",
    "    else:\n",
    "        stri = \"adota-se a Ha: distribuições estatisticamente diferentes, statistic = %.3f, p-value = %.3e\"%(chi2, p)\n",
    "        \n",
    "    if verbose:\n",
    "        stri += \"\\nErro total = %d\\nGraus de liberdade (dof) = %d\"%(erro, dof)\n",
    "        print(stri)\n",
    "    \n",
    "    return chi2, p, dof, expected, erro, stri"
   ]
  },
  {
   "cell_type": "code",
   "execution_count": 44,
   "metadata": {},
   "outputs": [
    {
     "name": "stdout",
     "output_type": "stream",
     "text": [
      "adota-se a Ha: distribuições estatisticamente diferentes, statistic = 13.210, p-value = 1.030e-02\n",
      "Erro total = 220\n",
      "Graus de liberdade (dof) = 4\n"
     ]
    }
   ],
   "source": [
    "chi2, p, dof, expected, erro, stri = chi2_text(df, verbose=True)"
   ]
  },
  {
   "cell_type": "markdown",
   "metadata": {},
   "source": [
    "### Simulando um afastamento ..."
   ]
  },
  {
   "cell_type": "code",
   "execution_count": 49,
   "metadata": {},
   "outputs": [
    {
     "data": {
      "text/html": [
       "<div>\n",
       "<style scoped>\n",
       "    .dataframe tbody tr th:only-of-type {\n",
       "        vertical-align: middle;\n",
       "    }\n",
       "\n",
       "    .dataframe tbody tr th {\n",
       "        vertical-align: top;\n",
       "    }\n",
       "\n",
       "    .dataframe thead th {\n",
       "        text-align: right;\n",
       "    }\n",
       "</style>\n",
       "<table border=\"1\" class=\"dataframe\">\n",
       "  <thead>\n",
       "    <tr style=\"text-align: right;\">\n",
       "      <th></th>\n",
       "      <th>alt1200</th>\n",
       "      <th>alt200</th>\n",
       "    </tr>\n",
       "  </thead>\n",
       "  <tbody>\n",
       "    <tr>\n",
       "      <th>32</th>\n",
       "      <td>16</td>\n",
       "      <td>10</td>\n",
       "    </tr>\n",
       "    <tr>\n",
       "      <th>33</th>\n",
       "      <td>18</td>\n",
       "      <td>24</td>\n",
       "    </tr>\n",
       "    <tr>\n",
       "      <th>34</th>\n",
       "      <td>16</td>\n",
       "      <td>27</td>\n",
       "    </tr>\n",
       "    <tr>\n",
       "      <th>35</th>\n",
       "      <td>14</td>\n",
       "      <td>35</td>\n",
       "    </tr>\n",
       "    <tr>\n",
       "      <th>36</th>\n",
       "      <td>12</td>\n",
       "      <td>40</td>\n",
       "    </tr>\n",
       "  </tbody>\n",
       "</table>\n",
       "</div>"
      ],
      "text/plain": [
       "    alt1200  alt200\n",
       "32       16      10\n",
       "33       18      24\n",
       "34       16      27\n",
       "35       14      35\n",
       "36       12      40"
      ]
     },
     "execution_count": 49,
     "metadata": {},
     "output_type": "execute_result"
    }
   ],
   "source": [
    "# scales = observed data\n",
    "scales = np.array([[16, 18, 16, 14, 12], [10, 24, 27, 35, 40]]).T\n",
    "df = pd.DataFrame(scales)\n",
    "df.columns = ['alt1200', 'alt200']\n",
    "df.index = [32, 33, 34, 35, 36]\n",
    "df"
   ]
  },
  {
   "cell_type": "code",
   "execution_count": 50,
   "metadata": {},
   "outputs": [
    {
     "data": {
      "text/html": [
       "<div>\n",
       "<style scoped>\n",
       "    .dataframe tbody tr th:only-of-type {\n",
       "        vertical-align: middle;\n",
       "    }\n",
       "\n",
       "    .dataframe tbody tr th {\n",
       "        vertical-align: top;\n",
       "    }\n",
       "\n",
       "    .dataframe thead th {\n",
       "        text-align: right;\n",
       "    }\n",
       "</style>\n",
       "<table border=\"1\" class=\"dataframe\">\n",
       "  <thead>\n",
       "    <tr style=\"text-align: right;\">\n",
       "      <th></th>\n",
       "      <th>alt1200</th>\n",
       "      <th>alt200</th>\n",
       "    </tr>\n",
       "  </thead>\n",
       "  <tbody>\n",
       "    <tr>\n",
       "      <th>32</th>\n",
       "      <td>16</td>\n",
       "      <td>11</td>\n",
       "    </tr>\n",
       "    <tr>\n",
       "      <th>33</th>\n",
       "      <td>18</td>\n",
       "      <td>25</td>\n",
       "    </tr>\n",
       "    <tr>\n",
       "      <th>34</th>\n",
       "      <td>16</td>\n",
       "      <td>28</td>\n",
       "    </tr>\n",
       "    <tr>\n",
       "      <th>35</th>\n",
       "      <td>14</td>\n",
       "      <td>36</td>\n",
       "    </tr>\n",
       "    <tr>\n",
       "      <th>36</th>\n",
       "      <td>12</td>\n",
       "      <td>41</td>\n",
       "    </tr>\n",
       "  </tbody>\n",
       "</table>\n",
       "</div>"
      ],
      "text/plain": [
       "    alt1200  alt200\n",
       "32       16      11\n",
       "33       18      25\n",
       "34       16      28\n",
       "35       14      36\n",
       "36       12      41"
      ]
     },
     "execution_count": 50,
     "metadata": {},
     "output_type": "execute_result"
    }
   ],
   "source": [
    "df.alt200 = df.alt200 + 1\n",
    "df"
   ]
  },
  {
   "cell_type": "markdown",
   "metadata": {},
   "source": [
    "### Simulação de ir aumentando a col"
   ]
  },
  {
   "cell_type": "code",
   "execution_count": 52,
   "metadata": {},
   "outputs": [
    {
     "name": "stdout",
     "output_type": "stream",
     "text": [
      "%d) 0\n",
      "adota-se a Ha: distribuições estatisticamente diferentes, statistic = 13.949, p-value = 7.458e-03\n",
      "Erro total = 227\n",
      "Graus de liberdade (dof) = 4\n",
      "-----------\n",
      "%d) 1\n",
      "adota-se a Ha: distribuições estatisticamente diferentes, statistic = 14.772, p-value = 5.198e-03\n",
      "Erro total = 235\n",
      "Graus de liberdade (dof) = 4\n",
      "-----------\n",
      "%d) 2\n",
      "adota-se a Ha: distribuições estatisticamente diferentes, statistic = 15.691, p-value = 3.464e-03\n",
      "Erro total = 243\n",
      "Graus de liberdade (dof) = 4\n",
      "-----------\n",
      "%d) 3\n",
      "adota-se a Ha: distribuições estatisticamente diferentes, statistic = 16.722, p-value = 2.189e-03\n",
      "Erro total = 251\n",
      "Graus de liberdade (dof) = 4\n",
      "-----------\n",
      "%d) 4\n",
      "adota-se a Ha: distribuições estatisticamente diferentes, statistic = 17.886, p-value = 1.299e-03\n",
      "Erro total = 260\n",
      "Graus de liberdade (dof) = 4\n",
      "-----------\n"
     ]
    }
   ],
   "source": [
    "# scales = observed data\n",
    "scales = np.array([[16, 18, 16, 14, 12], [10, 24, 27, 35, 40]]).T\n",
    "df = pd.DataFrame(scales)\n",
    "df.columns = ['alt1200', 'alt200']\n",
    "df.index = [32, 33, 34, 35, 36]\n",
    "df\n",
    "\n",
    "for i in range(5):\n",
    "    print('%d)', i)\n",
    "    df.alt200 = df.alt200 -1\n",
    "    chi2, p, dof, expected, erro, stri = chi2_text(df, verbose=True)\n",
    "    print('-----------')\n",
    "    "
   ]
  },
  {
   "cell_type": "code",
   "execution_count": 53,
   "metadata": {},
   "outputs": [
    {
     "data": {
      "text/html": [
       "<div>\n",
       "<style scoped>\n",
       "    .dataframe tbody tr th:only-of-type {\n",
       "        vertical-align: middle;\n",
       "    }\n",
       "\n",
       "    .dataframe tbody tr th {\n",
       "        vertical-align: top;\n",
       "    }\n",
       "\n",
       "    .dataframe thead th {\n",
       "        text-align: right;\n",
       "    }\n",
       "</style>\n",
       "<table border=\"1\" class=\"dataframe\">\n",
       "  <thead>\n",
       "    <tr style=\"text-align: right;\">\n",
       "      <th></th>\n",
       "      <th>alt1200</th>\n",
       "      <th>alt200</th>\n",
       "    </tr>\n",
       "  </thead>\n",
       "  <tbody>\n",
       "    <tr>\n",
       "      <th>32</th>\n",
       "      <td>16</td>\n",
       "      <td>5</td>\n",
       "    </tr>\n",
       "    <tr>\n",
       "      <th>33</th>\n",
       "      <td>18</td>\n",
       "      <td>19</td>\n",
       "    </tr>\n",
       "    <tr>\n",
       "      <th>34</th>\n",
       "      <td>16</td>\n",
       "      <td>22</td>\n",
       "    </tr>\n",
       "    <tr>\n",
       "      <th>35</th>\n",
       "      <td>14</td>\n",
       "      <td>30</td>\n",
       "    </tr>\n",
       "    <tr>\n",
       "      <th>36</th>\n",
       "      <td>12</td>\n",
       "      <td>35</td>\n",
       "    </tr>\n",
       "  </tbody>\n",
       "</table>\n",
       "</div>"
      ],
      "text/plain": [
       "    alt1200  alt200\n",
       "32       16       5\n",
       "33       18      19\n",
       "34       16      22\n",
       "35       14      30\n",
       "36       12      35"
      ]
     },
     "execution_count": 53,
     "metadata": {},
     "output_type": "execute_result"
    }
   ],
   "source": [
    "df"
   ]
  },
  {
   "cell_type": "markdown",
   "metadata": {},
   "source": [
    "### Se eu tiver 3 altitude (0m, 200m, 1200m)\n",
    "### Grau de liberdade vai mudar\n",
    "### Erro tende a aumentar"
   ]
  },
  {
   "cell_type": "code",
   "execution_count": 54,
   "metadata": {},
   "outputs": [
    {
     "name": "stdout",
     "output_type": "stream",
     "text": [
      "[[16 10]\n",
      " [18 24]\n",
      " [16 27]\n",
      " [14 35]\n",
      " [12 40]]\n",
      "adota-se a Ha: distribuições estatisticamente diferentes, statistic = 13.210, p-value = 1.030e-02\n",
      "Erro total = 220\n",
      "Graus de liberdade (dof) = 4\n"
     ]
    }
   ],
   "source": [
    "# scales = observed data\n",
    "scales = np.array([[16, 18, 16, 14, 12], [10, 24, 27, 35, 40]]).T\n",
    "print(scales)\n",
    "\n",
    "df = pd.DataFrame(scales)\n",
    "df.columns = ['alt1200', 'alt200']\n",
    "\n",
    "\n",
    "chi2, p, dof, expected, erro, stri = chi2_text(df, verbose=True)"
   ]
  },
  {
   "cell_type": "code",
   "execution_count": 55,
   "metadata": {},
   "outputs": [
    {
     "name": "stdout",
     "output_type": "stream",
     "text": [
      "[[16 16 10]\n",
      " [15 18 24]\n",
      " [14 16 27]\n",
      " [12 14 35]\n",
      " [15 12 40]]\n",
      "adota-se a Ha: distribuições estatisticamente diferentes, statistic = 17.159, p-value = 2.850e-02\n",
      "Erro total = 325\n",
      "Graus de liberdade (dof) = 8\n"
     ]
    }
   ],
   "source": [
    "# scales = observed data\n",
    "scales = np.array([[16, 15, 14, 12, 15], [16, 18, 16, 14, 12], [10, 24, 27, 35, 40]]).T\n",
    "print(scales)\n",
    "\n",
    "df = pd.DataFrame(scales)\n",
    "df.columns = ['alt0', 'alt1200', 'alt200']\n",
    "\n",
    "chi2, p, dof, expected, erro, stri = chi2_text(df, verbose=True)"
   ]
  },
  {
   "cell_type": "markdown",
   "metadata": {},
   "source": [
    "### Distribuição chi-quadrado"
   ]
  },
  {
   "cell_type": "code",
   "execution_count": 56,
   "metadata": {},
   "outputs": [],
   "source": [
    "# 2 altitudes\n",
    "scales = np.array([[16, 18, 16, 14, 12], [10, 24, 27, 35, 40]]).T\n",
    "df1 = pd.DataFrame(scales)\n",
    "df1.columns = ['alt1200', 'alt200']\n",
    "\n",
    "# 3 altitudes\n",
    "scales = np.array([[16, 15, 14, 12, 15], [16, 18, 16, 14, 12], [10, 24, 27, 35, 40]]).T\n",
    "df2 = pd.DataFrame(scales)\n",
    "df2.columns = ['alt0', 'alt1200', 'alt200']\n",
    "\n",
    "# 5 altitudes\n",
    "scales = np.array([[16, 18, 16, 14, 10], \n",
    "                   [17, 19, 16, 13, 15],\n",
    "                   [32, 24, 18, 11, 12],\n",
    "                   [16, 18, 12, 16, 12],\n",
    "                   [20, 18, 18, 16, 11]]).T\n",
    "df3 = pd.DataFrame(scales)\n",
    "df3.columns = ['alt0', 'alt1', 'alt2', 'alt1200', 'alt200']\n"
   ]
  },
  {
   "cell_type": "code",
   "execution_count": 57,
   "metadata": {},
   "outputs": [
    {
     "name": "stdout",
     "output_type": "stream",
     "text": [
      "0 4 13.209586367265107 blue\n",
      "1 8 17.158639016745646 green\n",
      "2 16 9.412990915319478 red\n"
     ]
    },
    {
     "data": {
      "image/png": "[encoded data removed]",
      "text/plain": [
       "<Figure size 864x432 with 1 Axes>"
      ]
     },
     "metadata": {
      "needs_background": "light"
     },
     "output_type": "display_data"
    }
   ],
   "source": [
    "N = 300\n",
    "colors = ['blue', 'green', 'red']\n",
    "\n",
    "fig = plt.figure(figsize=(12,6))\n",
    "\n",
    "for i in range(3):\n",
    "    if   i == 0: df = df1\n",
    "    elif i == 1: df = df2\n",
    "    else:        df = df3\n",
    "        \n",
    "    color = colors[i]\n",
    "    chi2, p, dof, expected, erro, stri = chi2_text(df, verbose=False)\n",
    "    print(i, dof, chi2, color)\n",
    "\n",
    "    ax = sns.distplot(np.random.chisquare(df=dof, size=N), hist=False, color=color);\n",
    "\n",
    "\n",
    "    ax.annotate('chi2 stat dof=%d, pvalue=%.1e'%(dof, p), xy=(chi2+.21, 0.02), xytext=(chi2+.8, 0.04*(i+1)),\n",
    "                color = color,\n",
    "                arrowprops=dict(arrowstyle=\"->\",\n",
    "                                connectionstyle=\"angle3,angleA=0,angleB=-90\", color=color));\n",
    "    \n",
    "    ax.axvline(x=chi2, ymin=0, ymax=.1, color=color)\n"
   ]
  },
  {
   "cell_type": "code",
   "execution_count": null,
   "metadata": {},
   "outputs": [],
   "source": []
  },
  {
   "cell_type": "markdown",
   "metadata": {},
   "source": [
    "### Uma distribuição normal - contínua\n",
    "\n",
    " - media - mean - loc\n",
    " - desvio padrão - scale"
   ]
  },
  {
   "cell_type": "code",
   "execution_count": null,
   "metadata": {},
   "outputs": [],
   "source": [
    "mu  = 2\n",
    "sdv = 4\n",
    "N   = 1000\n",
    "\n",
    "samples = np.random.normal(loc=mu, scale=sdv, size=N)\n",
    "len(samples), np.min(samples), np.max(samples)"
   ]
  },
  {
   "cell_type": "code",
   "execution_count": null,
   "metadata": {},
   "outputs": [],
   "source": [
    "muc = np.mean(samples)\n",
    "sdvc = np.std(samples)\n",
    "\n",
    "muc, sdvc"
   ]
  },
  {
   "cell_type": "code",
   "execution_count": null,
   "metadata": {},
   "outputs": [],
   "source": [
    "fig = plt.figure(figsize=(12, 6))\n",
    "\n",
    "ax = sns.distplot(samples, kde=False, rug=True, norm_hist=True,);\n",
    "plt.vlines(muc, 0, 0.1, color = 'black');\n",
    "plt.hlines(0.06, muc, muc+sdvc, color = 'red');\n",
    "\n",
    "seqx = np.linspace(stats.norm.ppf(0.01, muc, sdvc), stats.norm.ppf(0.99, muc, sdvc), 100)\n",
    "sns.lineplot(seqx, stats.norm.pdf(seqx, muc, sdvc), color='navy');"
   ]
  },
  {
   "cell_type": "markdown",
   "metadata": {},
   "source": [
    "### Distância entre distribuições"
   ]
  },
  {
   "cell_type": "code",
   "execution_count": null,
   "metadata": {},
   "outputs": [],
   "source": [
    "mus = [1, 3]\n",
    "sds = [0.3, 0.8]\n",
    "N = 1000\n",
    "\n",
    "j0 = np.random.normal(mus[0], sds[0], N)\n",
    "j1 = np.random.normal(mus[1], sds[1], N)\n",
    "\n",
    "df = pd.DataFrame([j0, j1]).T\n",
    "df.columns=['dist1', 'dist2']\n",
    "df.head(3)"
   ]
  },
  {
   "cell_type": "markdown",
   "metadata": {},
   "source": [
    "### Duas distribuições sobrepostas"
   ]
  },
  {
   "cell_type": "code",
   "execution_count": null,
   "metadata": {},
   "outputs": [],
   "source": [
    "colors = ['red', 'blue']\n",
    "fig = plt.figure(figsize=(12, 6))\n",
    "\n",
    "for i in range(2):\n",
    "    sns.distplot(df['dist%d'%(i+1)], color=colors[i], hist=True, kde=True, rug=True,\n",
    "                rug_kws={\"color\": colors[i], \"alpha\": .2,})\n",
    "\n",
    "mu1 = df.dist1.mean()\n",
    "sd1 = df.dist1.std()\n",
    "\n",
    "mu2 = df.dist2.mean()\n",
    "sd2 = df.dist2.std()\n",
    "\n",
    "    \n",
    "title  =   \"Distribuição 1 (vermelha) tem média = %.1f e SSD = %.2f\"%(mu1, sd1)\n",
    "title += \"\\nDistribuição 2 (azul) tem média = %.1f e SSD = %.2f\"%(mu2, sd2)\n",
    "plt.title(title);"
   ]
  },
  {
   "cell_type": "markdown",
   "metadata": {},
   "source": [
    "### Criando o eixo x"
   ]
  },
  {
   "cell_type": "code",
   "execution_count": null,
   "metadata": {},
   "outputs": [],
   "source": [
    "seqxs = []\n",
    "seqx1 = np.linspace(stats.norm.ppf(0.01, mus[0], sds[0]), stats.norm.ppf(0.99, mus[0], sds[0]), 100)\n",
    "seqxs.append(seqx1)\n",
    "seqx1[:5], seqx1[-10:-1]"
   ]
  },
  {
   "cell_type": "code",
   "execution_count": null,
   "metadata": {},
   "outputs": [],
   "source": [
    "seqx2 = np.linspace(stats.norm.ppf(0.01, mus[1], sds[1]), stats.norm.ppf(0.99, mus[1], sds[1]), 100)\n",
    "seqxs.append(seqx2)\n",
    "seqx2[:5], seqx2[-10:-1]"
   ]
  },
  {
   "cell_type": "markdown",
   "metadata": {},
   "source": [
    "### Teste t\n",
    "\n",
    "statistician William Sealy Gosset \n",
    "\n",
    "<font size=\"5\">t-stat = $\\frac{<X>-\\mu}{\\frac{S}{\\sqrt(n)}}$</font>"
   ]
  },
  {
   "cell_type": "code",
   "execution_count": null,
   "metadata": {},
   "outputs": [],
   "source": [
    "sta, pval = stats.ttest_ind(df.dist1, df.dist2)\n",
    "sta, pval\n",
    "\n",
    "alpha=0.05\n",
    "\n",
    "#text_stat = \"t-test statistics = %.2f, p-val = %.2e\"%(sta, pval)\n",
    "text_stat = \"estatística t-test = %.2f, p-val = %.2e\"%(sta, pval)\n",
    "\n",
    "if pval < alpha:\n",
    "    # text_stat = 'Statiscally distinct, H0 must be refuted ' + text_stat\n",
    "    text_stat = 'Distribuições estatiscamente diferentes, H0 precisa ser refutado\\n' + text_stat\n",
    "else:\n",
    "    #text_stat = 'Statiscally similar, H0 must be accepetd ' + text_stat\n",
    "    text_stat = 'Distribuições estatiscamente similar, H0 precisa ser aceito\\n' + text_stat\n",
    "\n",
    "text_stat    "
   ]
  },
  {
   "cell_type": "markdown",
   "metadata": {},
   "source": [
    "### Coeficiente de variação\n",
    "\n",
    "<font size=\"5\">$CV = \\frac{SD}{mu}$</font>\n",
    "\n",
    "### Tamanho do efeito (effect size)\n",
    "\n",
    "https://en.wikipedia.org/wiki/Effect_size\n",
    "\n",
    "<font size=\"5\">$\\theta = \\frac{\\mu_1 -\\mu_2}{SD}$</font>\n",
    "\n",
    "### Tamanho do efeito (effect size)\n",
    "\n",
    "https://en.wikipedia.org/wiki/Effect_size\n",
    "\n",
    "<font size=\"5\">$\\theta = \\frac{\\mu_1 -\\mu_2}{SD}$</font>\n",
    "\n",
    "\n",
    "### Markdown\n",
    "\n",
    "https://csrgxtu.github.io/2015/03/20/Writing-Mathematic-Fomulars-in-Markdown/ \n",
    "    \n",
    "https://jupyter-notebook.readthedocs.io/en/stable/examples/Notebook/Typesetting%20Equations.html\n",
    "    "
   ]
  },
  {
   "cell_type": "markdown",
   "metadata": {},
   "source": [
    "### Revendo o gráfico com todas as estatísticas"
   ]
  },
  {
   "cell_type": "code",
   "execution_count": null,
   "metadata": {},
   "outputs": [],
   "source": [
    "colors = ['red', 'blue']\n",
    "fig = plt.figure(figsize=(14, 7))\n",
    "\n",
    "for i in range(2):\n",
    "    sns.distplot(df['dist%d'%(i+1)], color=colors[i], kde=False, rug=True, norm_hist=True,\n",
    "                rug_kws={\"color\": colors[i], \"alpha\": .2,})\n",
    "    \n",
    "    sns.lineplot(seqxs[i], stats.norm.pdf(seqxs[i], mus[i], sds[i]), color=colors[i])\n",
    "\n",
    "mu1 = df.dist1.mean()\n",
    "sd1 = df.dist1.std()\n",
    "\n",
    "mu2 = df.dist2.mean()\n",
    "sd2 = df.dist2.std()\n",
    "\n",
    "plt.axvline(x=mus[0], ymin=0, ymax=1.4, color='black')\n",
    "plt.axvline(x=mus[0]+sds[0], ymin=0, ymax=1.0, color='black', linestyle='--')\n",
    "plt.axvline(x=mus[0]-sds[0], ymin=0, ymax=1.0, color='black', linestyle='--')\n",
    "\n",
    "plt.axvline(x=mus[1], ymin=0, ymax=.6, color='black')\n",
    "plt.axvline(x=mus[1]+sds[1], ymin=0, ymax=.4, color='black', linestyle='--')\n",
    "plt.axvline(x=mus[1]-sds[1], ymin=0, ymax=.4, color='black', linestyle='--')\n",
    "\n",
    "head_width = 0.05\n",
    "\n",
    "# nsamp = N*sqrt(sds[0]**2/n**2 + sds[1]**2/n**2)\n",
    "SSD = np.sqrt(sds[0]**2 + sds[1]**2)\n",
    "EffSize = (mus[1] - mus[0]) / SSD\n",
    "\n",
    "diff = mus[1]-mus[0]\n",
    "xdiff = mus[1] - (diff/2)\n",
    "yarrow = 0.7\n",
    "\n",
    "plt.arrow(mus[0], yarrow, (diff-2*head_width), 0, head_width=head_width, head_length=0.1, fc='k', ec='k')\n",
    "\n",
    "text = '$\\\\theta$ = %.2f, diff = %.1f, SSD = %.2f'%(EffSize, diff, SSD)\n",
    "plt.text(x=(xdiff-.65), y=(yarrow+.1), s=text)\n",
    "plt.xlabel(\"values\")\n",
    "plt.ylabel(\"percentage (%)\")\n",
    "     \n",
    "title  =   \"Distribuição 1 (vermelha) tem media (SSD) = %.1f (%.2f) e n = %d amostras\"%(mu1, sd1, N)\n",
    "title += \"\\nDistribuição 2 (azul) tem media (SSD) = %.1f (%.2f) e n = %d amostras\"%(mu2, sd2, N)\n",
    "title += '\\n' + text_stat + '\\nTamanho do efeito = %.2f'%(EffSize)\n",
    "plt.title(title);"
   ]
  },
  {
   "cell_type": "markdown",
   "metadata": {},
   "source": [
    "### Fazendo um stack para o barplot"
   ]
  },
  {
   "cell_type": "code",
   "execution_count": null,
   "metadata": {},
   "outputs": [],
   "source": [
    "df2 = pd.DataFrame(df.dist1)\n",
    "df2['class'] = 'um'\n",
    "df2.columns = ['val', 'class']\n",
    "\n",
    "dfa = pd.DataFrame(df.dist2)\n",
    "dfa['class'] = 'dois'\n",
    "dfa.columns = ['val', 'class']\n",
    "\n",
    "# df2 = pd.concat([df2, dfa])\n",
    "df2 = df2.append(dfa)\n",
    "df2.tail(3)"
   ]
  },
  {
   "cell_type": "markdown",
   "metadata": {},
   "source": [
    "### Barplot invertido"
   ]
  },
  {
   "cell_type": "code",
   "execution_count": null,
   "metadata": {},
   "outputs": [],
   "source": [
    "fig = plt.figure(figsize=(14, 7))\n",
    "#sns.set(rc={\"figure.figsize\": (6,4)})\n",
    "sns.violinplot(x=\"val\", y=\"class\", data=df2, palette=['red', 'blue']) # , saturation=.05)\n",
    "plt.title(\"Distribuições\");"
   ]
  },
  {
   "cell_type": "code",
   "execution_count": null,
   "metadata": {},
   "outputs": [],
   "source": [
    "from matplotlib import gridspec\n",
    "\n",
    "# f, axes = plt.subplots(2, 1, figsize=(14, 16), sharex=True)\n",
    "\n",
    "colors = ['red', 'blue']\n",
    "fig = plt.figure(figsize=(14, 10))\n",
    "gs = gridspec.GridSpec(2, 1, height_ratios=[5, 2])\n",
    "\n",
    "axes = []\n",
    "axes.append(plt.subplot(gs[0]))\n",
    "axes.append(plt.subplot(gs[1]))\n",
    "\n",
    "mu1 = df.dist1.mean()\n",
    "sd1 = df.dist1.std()\n",
    "\n",
    "mu2 = df.dist2.mean()\n",
    "sd2 = df.dist2.std()\n",
    "\n",
    "for i in range(2):\n",
    "    sns.distplot(df['dist%d'%(i+1)], color=colors[i], kde=False, rug=True, norm_hist=True,\n",
    "                rug_kws={\"color\": colors[i], \"alpha\": .2,}, ax=axes[0])\n",
    "    \n",
    "    sns.lineplot(seqxs[i], stats.norm.pdf(seqxs[i], mus[i], sds[i]), color=colors[i], ax=axes[0])\n",
    "\n",
    "\n",
    "\n",
    "axes[0].axvline(x=mus[0], ymin=0, ymax=1.4, color='black')\n",
    "axes[0].axvline(x=mus[0]+sds[0], ymin=0, ymax=1.0, color='black', linestyle='--')\n",
    "axes[0].axvline(x=mus[0]-sds[0], ymin=0, ymax=1.0, color='black', linestyle='--')\n",
    "\n",
    "axes[0].axvline(x=mus[1], ymin=0, ymax=.6, color='black')\n",
    "axes[0].axvline(x=mus[1]+sds[1], ymin=0, ymax=.4, color='black', linestyle='--')\n",
    "axes[0].axvline(x=mus[1]-sds[1], ymin=0, ymax=.4, color='black', linestyle='--')\n",
    "\n",
    "head_width = 0.05\n",
    "\n",
    "# nsamp = N*sqrt(sds[0]**2/n**2 + sds[1]**2/n**2)\n",
    "SSD = np.sqrt(sds[0]**2 + sds[1]**2)\n",
    "EffSize = (mus[1] - mus[0]) / SSD\n",
    "\n",
    "diff = mus[1]-mus[0]\n",
    "xdiff = mus[1] - (diff/2)\n",
    "yarrow = 0.7\n",
    "\n",
    "axes[0].arrow(mus[0], yarrow, (diff-2*head_width), 0, head_width=head_width, head_length=0.1, fc='k', ec='k')\n",
    "\n",
    "text = '$\\\\theta$ = %.2f, diff = %.1f, SSD = %.2f'%(EffSize, diff, SSD)\n",
    "axes[0].text(x=(xdiff-.65), y=(yarrow+.1), s=text)\n",
    "axes[0].set_xlabel(\"values\")\n",
    "axes[0].set_ylabel(\"percentage (%)\")\n",
    "     \n",
    "title  =   \"Distribuição 1 (vermelha) tem media (SSD) = %.1f (%.2f) e n = %d amostras\"%(mu1, sd1, N)\n",
    "title += \"\\nDistribuição 2 (azul) tem media (SSD) = %.1f (%.2f) e n = %d amostras\"%(mu2, sd2, N)\n",
    "title += '\\n' + text_stat + '\\nTamanho do efeito = %.2f'%(EffSize)\n",
    "axes[0].set_title(title);\n",
    "\n",
    "df2 = pd.DataFrame(df.dist1)\n",
    "df2['class'] = 'um'\n",
    "df2.columns = ['val', 'class']\n",
    "\n",
    "dfa = pd.DataFrame(df.dist2)\n",
    "dfa['class'] = 'dois'\n",
    "dfa.columns = ['val', 'class']\n",
    "\n",
    "# df2 = pd.concat([df2, dfa])\n",
    "df2 = df2.append(dfa)\n",
    "\n",
    "sns.violinplot(x=\"val\", y=\"class\", data=df2, palette=['red', 'blue'], ax=axes[1]); # , saturation=.05)"
   ]
  },
  {
   "cell_type": "code",
   "execution_count": null,
   "metadata": {},
   "outputs": [],
   "source": [
    "def plot_2_distributions(df, xlim, alpha=0.05):\n",
    "\n",
    "    colors = ['red', 'blue']\n",
    "    fig = plt.figure(figsize=(14, 7))\n",
    "    gs = gridspec.GridSpec(2, 1, height_ratios=[5, 2]) \n",
    "\n",
    "    axes = []\n",
    "    axes.append(plt.subplot(gs[0]))\n",
    "    axes.append(plt.subplot(gs[1]))\n",
    "\n",
    "\n",
    "    for i in range(2):\n",
    "        sns.distplot(df['dist%d'%(i+1)], color=colors[i], kde=False, rug=True, norm_hist=True,\n",
    "                    rug_kws={\"color\": colors[i], \"alpha\": .2,}, ax=axes[0])\n",
    "\n",
    "        sns.lineplot(seqxs[i], stats.norm.pdf(seqxs[i], mus[i], sds[i]), color=colors[i], ax=axes[0])\n",
    "\n",
    "        \n",
    "    #----------- statistics --------------------\n",
    "    #-- ttest\n",
    "    \n",
    "    sta, pval = stats.ttest_ind(df.dist1, df.dist2)\n",
    "    #text_stat = \"t-test statistics = %.2f, p-val = %.2e\"%(sta, pval)\n",
    "    text_stat = \"estatística t-test = %.2f, p-val = %.2e\"%(sta, pval)\n",
    "\n",
    "    if pval < alpha:\n",
    "        # text_stat = 'Statiscally distinct, H0 must be refuted ' + text_stat\n",
    "        text_stat = 'Distribuições estatiscamente diferentes, H0 precisa ser refutado\\n' + text_stat\n",
    "    else:\n",
    "        #text_stat = 'Statiscally similar, H0 must be accepetd ' + text_stat\n",
    "        text_stat = 'Distribuições estatiscamente similar, H0 precisa ser aceito\\n' + text_stat\n",
    "    \n",
    "    #-- params\n",
    "    mu1 = df.dist1.mean()\n",
    "    sd1 = df.dist1.std()\n",
    "\n",
    "    mu2 = df.dist2.mean()\n",
    "    sd2 = df.dist2.std()\n",
    "\n",
    "    axes[0].axvline(x=mus[0], ymin=0, ymax=1.4, color='black')\n",
    "    axes[0].axvline(x=mus[0]+sds[0], ymin=0, ymax=1.0, color='black', linestyle='--')\n",
    "    axes[0].axvline(x=mus[0]-sds[0], ymin=0, ymax=1.0, color='black', linestyle='--')\n",
    "\n",
    "    axes[0].axvline(x=mus[1], ymin=0, ymax=.6, color='black')\n",
    "    axes[0].axvline(x=mus[1]+sds[1], ymin=0, ymax=.4, color='black', linestyle='--')\n",
    "    axes[0].axvline(x=mus[1]-sds[1], ymin=0, ymax=.4, color='black', linestyle='--')\n",
    "\n",
    "    head_width = 0.05\n",
    "\n",
    "    # nsamp = N*sqrt(sds[0]**2/n**2 + sds[1]**2/n**2)\n",
    "    SSD = np.sqrt(sds[0]**2 + sds[1]**2)\n",
    "    EffSize = (mus[1] - mus[0]) / SSD\n",
    "\n",
    "    diff = mus[1]-mus[0]\n",
    "    xdiff = mus[1] - (diff/2)\n",
    "    yarrow = 0.7\n",
    "\n",
    "    # axes[0].arrow(mus[0], yarrow, (diff-2*head_width), 0, head_width=head_width, head_length=0.1, fc='k', ec='k')\n",
    "\n",
    "    text = '$\\\\theta$ = %.2f, diff = %.1f, SSD = %.2f'%(EffSize, diff, SSD)\n",
    "    # axes[0].text(x=(xdiff-.65), y=(yarrow+.1), s=text)\n",
    "    axes[0].set_xlabel(\"values\")\n",
    "    axes[0].set_ylabel(\"percentage (%)\")\n",
    "    axes[0].set_xlim(xlim);\n",
    "\n",
    "    title  =   \"Distribuição 1 (vermelha) tem media (SSD) = %.1f (%.2f) e n = %d amostras\"%(mu1, sd1, N)\n",
    "    title += \"\\nDistribuição 2 (azul) tem media (SSD) = %.1f (%.2f) e n = %d amostras\"%(mu2, sd2, N)\n",
    "    title += '\\n' + text_stat + '\\nTamanho do efeito = %.2f, distância = %.1f, SSDtot = %.2f'%(EffSize, diff, SSD)\n",
    "    axes[0].set_title(title);\n",
    "    \n",
    "    #--- concat dist1, dist2\n",
    "    df2 = pd.DataFrame(df.dist1)\n",
    "    df2['class'] = 'um'\n",
    "    df2.columns = ['val', 'class']\n",
    "\n",
    "    dfa = pd.DataFrame(df.dist2)\n",
    "    dfa['class'] = 'dois'\n",
    "    dfa.columns = ['val', 'class']\n",
    "\n",
    "    # df2 = pd.concat([df2, dfa])\n",
    "    df2 = df2.append(dfa)\n",
    "\n",
    "\n",
    "    sns.violinplot(x=\"val\", y=\"class\", data=df2, palette=['red', 'blue'], ax=axes[1]); # , saturation=.05)\n",
    "    axes[1].set_xlim(xlim);"
   ]
  },
  {
   "cell_type": "code",
   "execution_count": null,
   "metadata": {},
   "outputs": [],
   "source": [
    "from scipy.stats import norm\n",
    "\n",
    "mus = [1, 1.4]\n",
    "sds = [0.4, 0.3]\n",
    "xlim = [mus[0]-4*sds[0], mus[1]+4*sds[1]]\n",
    "N = 12\n",
    "\n",
    "j0 = np.random.normal(mus[0], sds[0], N)\n",
    "j1 = np.random.normal(mus[1], sds[1], N)\n",
    "\n",
    "df = pd.DataFrame([j0, j1]).T\n",
    "df.columns=['dist1', 'dist2']\n",
    "\n",
    "plot_2_distributions(df, xlim)"
   ]
  },
  {
   "cell_type": "code",
   "execution_count": null,
   "metadata": {},
   "outputs": [],
   "source": []
  }
 ],
 "metadata": {
  "kernelspec": {
   "display_name": "Python 3",
   "language": "python",
   "name": "python3"
  },
  "language_info": {
   "codemirror_mode": {
    "name": "ipython",
    "version": 3
   },
   "file_extension": ".py",
   "mimetype": "text/x-python",
   "name": "python",
   "nbconvert_exporter": "python",
   "pygments_lexer": "ipython3",
   "version": "3.7.7"
  }
 },
 "nbformat": 4,
 "nbformat_minor": 4
}
