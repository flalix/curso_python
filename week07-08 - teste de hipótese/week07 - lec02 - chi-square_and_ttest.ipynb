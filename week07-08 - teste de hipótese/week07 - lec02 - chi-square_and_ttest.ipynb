{
 "cells": [
  {
   "cell_type": "code",
   "execution_count": null,
   "metadata": {},
   "outputs": [],
   "source": [
    "from scipy import stats\n",
    "import numpy as np\n",
    "import pandas as pd\n",
    "\n",
    "from scipy.stats import norm\n",
    "\n",
    "import seaborn as sns\n",
    "import matplotlib.pyplot as plt\n",
    "%matplotlib inline"
   ]
  },
  {
   "cell_type": "markdown",
   "metadata": {},
   "source": [
    "## Chi-square test\n",
    "\n",
    "  - dados numéricos e discretos\n",
    "  - comparação de 2 ou mais distribuições\n",
    "    - p.ex. número de escamas de cobras fêmeas, de mesma espécie, em altitudes diferentes\n",
    "    - são estatisticamente diferentes?\n",
    "    - coletaremos 5 amostras a 1200 m e 5 amostras a 200 m"
   ]
  },
  {
   "cell_type": "markdown",
   "metadata": {},
   "source": [
    "### Exemplo 01 - medicina\n",
    "\n",
    "  - tabela de contingência"
   ]
  },
  {
   "cell_type": "code",
   "execution_count": null,
   "metadata": {},
   "outputs": [],
   "source": [
    "# testes x estado de pacientes\n",
    "cases = np.array([[10, 4], [3, 29]]).T\n",
    "dfc = pd.DataFrame(cases)\n",
    "dfc.columns = ['são', 'doente']\n",
    "dfc.index = [\"negativo\", \"positivo\"]\n",
    "dfc"
   ]
  },
  {
   "cell_type": "markdown",
   "metadata": {},
   "source": [
    "### Exemplo 02 - ecologia ~ cobras"
   ]
  },
  {
   "cell_type": "code",
   "execution_count": null,
   "metadata": {},
   "outputs": [],
   "source": [
    "chi2, pvalue, dof, expected = stats.chi2_contingency(dfc)\n",
    "chi2, pvalue, dof, expected "
   ]
  },
  {
   "cell_type": "code",
   "execution_count": null,
   "metadata": {},
   "outputs": [],
   "source": [
    "# scales = observed data\n",
    "scales = np.array([[16, 18, 25, 14, 12], [32, 24, 27, 35, 40]]).T\n",
    "scales"
   ]
  },
  {
   "cell_type": "code",
   "execution_count": null,
   "metadata": {},
   "outputs": [],
   "source": [
    "df = pd.DataFrame(scales)\n",
    "df.columns = ['alt1200', 'alt200']\n",
    "df.index = [32, 33, 34, 35, 36]\n",
    "df"
   ]
  },
  {
   "cell_type": "markdown",
   "metadata": {},
   "source": [
    "## Valores observados x Valores esperados\n",
    "\n",
    "### Pearson"
   ]
  },
  {
   "cell_type": "code",
   "execution_count": null,
   "metadata": {},
   "outputs": [],
   "source": [
    "dfa = df.copy()\n",
    "dfa['tot_marg_escamas'] = dfa.sum(axis = 1)\n",
    "dfa"
   ]
  },
  {
   "cell_type": "code",
   "execution_count": null,
   "metadata": {},
   "outputs": [],
   "source": [
    "dfa.sum(axis = 0)"
   ]
  },
  {
   "cell_type": "code",
   "execution_count": null,
   "metadata": {},
   "outputs": [],
   "source": [
    "dfa = dfa.append(pd.DataFrame(dfa.sum(axis = 0)).T)\n",
    "lista = list(dfa.index)\n",
    "lista[-1] = 'tot_marg_altitude'\n",
    "dfa.index = lista\n",
    "dfa"
   ]
  },
  {
   "cell_type": "code",
   "execution_count": null,
   "metadata": {},
   "outputs": [],
   "source": [
    "dfp = dfa.copy()\n",
    "nrow, ncol = dfp.shape\n",
    "tot_animal = dfp.iloc[nrow-1, ncol-1]\n",
    "dfp = dfp / tot_animal\n",
    "print('tot animal', tot_animal)\n",
    "dfp"
   ]
  },
  {
   "cell_type": "markdown",
   "metadata": {},
   "source": [
    "### A multiplicação dos valores marginais coluna (j) x marginais linha (i) é o valor esperado de uma célula (i,j)"
   ]
  },
  {
   "cell_type": "code",
   "execution_count": null,
   "metadata": {},
   "outputs": [],
   "source": [
    "dfexp  = dfp.copy()\n",
    "\n",
    "pos_tot_marg_escamas  = ncol - 1\n",
    "pos_tot_marg_altitude = nrow - 1\n",
    "print(pos_tot_marg_escamas, pos_tot_marg_altitude, \"\\n\")\n",
    "\n",
    "for i in range(nrow):\n",
    "    for j in range(ncol):\n",
    "        dfexp.iloc[i, j] = dfp.iloc[i, pos_tot_marg_escamas] * dfp.iloc[pos_tot_marg_altitude, j]\n",
    "        \n",
    "dfexp"
   ]
  },
  {
   "cell_type": "code",
   "execution_count": null,
   "metadata": {},
   "outputs": [],
   "source": [
    "dfexp2 = dfexp.copy()\n",
    "(dfexp2*tot_animal).round(2)"
   ]
  },
  {
   "cell_type": "code",
   "execution_count": null,
   "metadata": {},
   "outputs": [],
   "source": [
    "dfexp2 = dfexp.copy()\n",
    "dfexp2 = (dfexp2*tot_animal).round(0).astype(int)\n",
    "dfexp2"
   ]
  },
  {
   "cell_type": "code",
   "execution_count": null,
   "metadata": {},
   "outputs": [],
   "source": [
    "df"
   ]
  },
  {
   "cell_type": "code",
   "execution_count": null,
   "metadata": {},
   "outputs": [],
   "source": [
    "dfexp3 = dfexp2.copy()\n",
    "dfexp3 = dfexp2.iloc[:5, :2]\n",
    "dfexp3"
   ]
  },
  {
   "cell_type": "code",
   "execution_count": null,
   "metadata": {},
   "outputs": [],
   "source": [
    "df - dfexp3"
   ]
  },
  {
   "cell_type": "code",
   "execution_count": null,
   "metadata": {},
   "outputs": [],
   "source": [
    "(df - dfexp3)**2"
   ]
  },
  {
   "cell_type": "code",
   "execution_count": null,
   "metadata": {},
   "outputs": [],
   "source": [
    "(df - dfexp3)**2 / dfexp3"
   ]
  },
  {
   "cell_type": "code",
   "execution_count": null,
   "metadata": {},
   "outputs": [],
   "source": [
    "chi2 = np.sum(np.sum((df - dfexp3)**2 / dfexp3))\n",
    "chi2"
   ]
  },
  {
   "cell_type": "markdown",
   "metadata": {},
   "source": [
    "### Dataframe == tabela de contingência"
   ]
  },
  {
   "cell_type": "code",
   "execution_count": null,
   "metadata": {},
   "outputs": [],
   "source": [
    "chi2, pvalue, dof, expected = stats.chi2_contingency(df)\n",
    "chi2, pvalue, dof, expected "
   ]
  },
  {
   "cell_type": "code",
   "execution_count": null,
   "metadata": {},
   "outputs": [],
   "source": [
    "\"estatística de chi-quadrado %.3f, p-value=%.3e, degree of freedom (dof) = %d\"%(chi2, pvalue, dof)"
   ]
  },
  {
   "cell_type": "code",
   "execution_count": null,
   "metadata": {},
   "outputs": [],
   "source": [
    "df"
   ]
  },
  {
   "cell_type": "code",
   "execution_count": null,
   "metadata": {},
   "outputs": [],
   "source": [
    "expected.round(2)"
   ]
  },
  {
   "cell_type": "code",
   "execution_count": null,
   "metadata": {},
   "outputs": [],
   "source": [
    "scales - expected"
   ]
  },
  {
   "cell_type": "markdown",
   "metadata": {},
   "source": [
    "### Se a distribuição observada (df) similar à calculada ~ erro próximo de zero"
   ]
  },
  {
   "cell_type": "code",
   "execution_count": null,
   "metadata": {},
   "outputs": [],
   "source": [
    "erro = np.sum((scales - expected)**2)\n",
    "erro"
   ]
  },
  {
   "cell_type": "markdown",
   "metadata": {},
   "source": [
    "### A definição de estatística de chi-quadrado\n",
    "### soma (observado - esperado)**2 / esperado"
   ]
  },
  {
   "cell_type": "code",
   "execution_count": null,
   "metadata": {},
   "outputs": [],
   "source": [
    "chis_stat = np.sum((scales - expected)**2/expected)\n",
    "chis_stat"
   ]
  },
  {
   "cell_type": "markdown",
   "metadata": {},
   "source": [
    "### Valores experados não se distanciam muito dos observados?\n",
    "\n",
    "  - não: então as distribuições são similares:     H0  --> p-value < 0.05\n",
    "  - sim: então as distribuições NÃO são similares: Ha --> p-value >= 0.05"
   ]
  },
  {
   "cell_type": "code",
   "execution_count": null,
   "metadata": {},
   "outputs": [],
   "source": [
    "pvalue"
   ]
  },
  {
   "cell_type": "code",
   "execution_count": null,
   "metadata": {},
   "outputs": [],
   "source": [
    "if pvalue >= 0.05:\n",
    "    stri = \"não se refuta H0: distribuições estatisticamente similares, statistic = %.3f, p-value = %.3e\"%(chi2, pvalue)\n",
    "else:\n",
    "    stri = \"adota-se a Ha: distribuições estatisticamente diferentes, statistic = %.3f, p-value = %.3e\"%(chi2, pvalue)    \n",
    "stri"
   ]
  },
  {
   "cell_type": "markdown",
   "metadata": {},
   "source": [
    "### A tabela de contingência é de 5 linhas x 2 colunas"
   ]
  },
  {
   "cell_type": "code",
   "execution_count": null,
   "metadata": {},
   "outputs": [],
   "source": [
    "scales.shape"
   ]
  },
  {
   "cell_type": "markdown",
   "metadata": {},
   "source": [
    "### Graus de liberdade\n",
    "\n",
    "dof = (nrow - 1) * (ncol -1)"
   ]
  },
  {
   "cell_type": "code",
   "execution_count": null,
   "metadata": {},
   "outputs": [],
   "source": [
    "dof = (scales.shape[0]-1) * (scales.shape[1]-1)\n",
    "dof"
   ]
  },
  {
   "cell_type": "markdown",
   "metadata": {},
   "source": [
    "### Dados mais diferentes: distribuições distintas"
   ]
  },
  {
   "cell_type": "code",
   "execution_count": null,
   "metadata": {},
   "outputs": [],
   "source": [
    "# scales = observed data\n",
    "scales = np.array([[16, 18, 16, 14, 12], [10, 24, 27, 35, 40]]).T\n",
    "scales"
   ]
  },
  {
   "cell_type": "code",
   "execution_count": null,
   "metadata": {},
   "outputs": [],
   "source": [
    "df = pd.DataFrame(scales)\n",
    "df.columns = ['alt1200', 'alt200']\n",
    "df.index = [32, 33, 34, 35, 36]\n",
    "df"
   ]
  },
  {
   "cell_type": "code",
   "execution_count": null,
   "metadata": {},
   "outputs": [],
   "source": [
    "stat = stats.chisquare(scales, axis=None)\n",
    "stat"
   ]
  },
  {
   "cell_type": "code",
   "execution_count": null,
   "metadata": {},
   "outputs": [],
   "source": [
    "def chi2_text(df, verbose=True):\n",
    "    chi2, p, dof, expected = stats.chi2_contingency(df)\n",
    "\n",
    "    erro = np.sum((df.to_numpy() - expected)**2)\n",
    "\n",
    "    if p >= 0.05:\n",
    "        stri = \"não se refuta H0: distribuições estatisticamente similares, statistic = %.3f, p-value = %.3e\"%(chi2, p)\n",
    "    else:\n",
    "        stri = \"adota-se a Ha: distribuições estatisticamente diferentes, statistic = %.3f, p-value = %.3e\"%(chi2, p)\n",
    "        \n",
    "    if verbose:\n",
    "        stri += \"\\nErro total = %d\\nGraus de liberdade (dof) = %d\"%(erro, dof)\n",
    "        print(stri)\n",
    "    \n",
    "    return chi2, p, dof, expected, erro, stri"
   ]
  },
  {
   "cell_type": "code",
   "execution_count": null,
   "metadata": {},
   "outputs": [],
   "source": [
    "chi2, p, dof, expected, erro, stri = chi2_text(df, verbose=True)"
   ]
  },
  {
   "cell_type": "markdown",
   "metadata": {},
   "source": [
    "### Simulando um afastamento ..."
   ]
  },
  {
   "cell_type": "code",
   "execution_count": null,
   "metadata": {},
   "outputs": [],
   "source": [
    "# scales = observed data\n",
    "scales = np.array([[16, 18, 16, 14, 12], [10, 24, 27, 35, 40]]).T\n",
    "df = pd.DataFrame(scales)\n",
    "df.columns = ['alt1200', 'alt200']\n",
    "df.index = [32, 33, 34, 35, 36]\n",
    "df"
   ]
  },
  {
   "cell_type": "code",
   "execution_count": null,
   "metadata": {},
   "outputs": [],
   "source": [
    "df.alt200 = df.alt200 + 1\n",
    "df"
   ]
  },
  {
   "cell_type": "markdown",
   "metadata": {},
   "source": [
    "### Simulação de ir aumentando a col"
   ]
  },
  {
   "cell_type": "code",
   "execution_count": null,
   "metadata": {},
   "outputs": [],
   "source": [
    "# scales = observed data\n",
    "scales = np.array([[16, 18, 16, 14, 12], [10, 24, 27, 35, 40]]).T\n",
    "df = pd.DataFrame(scales)\n",
    "df.columns = ['alt1200', 'alt200']\n",
    "df.index = [32, 33, 34, 35, 36]\n",
    "df\n",
    "\n",
    "for i in range(5):\n",
    "    print('%d)', i)\n",
    "    df.alt200 = df.alt200 -1\n",
    "    chi2, p, dof, expected, erro, stri = chi2_text(df, verbose=True)\n",
    "    print('-----------')\n",
    "    "
   ]
  },
  {
   "cell_type": "code",
   "execution_count": null,
   "metadata": {},
   "outputs": [],
   "source": [
    "df"
   ]
  },
  {
   "cell_type": "markdown",
   "metadata": {},
   "source": [
    "### Se eu tiver 3 altitude (0m, 200m, 1200m)\n",
    "### Grau de liberdade vai mudar\n",
    "### Erro tende a aumentar"
   ]
  },
  {
   "cell_type": "code",
   "execution_count": null,
   "metadata": {},
   "outputs": [],
   "source": [
    "# scales = observed data\n",
    "scales = np.array([[16, 18, 16, 14, 12], [10, 24, 27, 35, 40]]).T\n",
    "print(scales)\n",
    "\n",
    "df = pd.DataFrame(scales)\n",
    "df.columns = ['alt1200', 'alt200']\n",
    "\n",
    "\n",
    "chi2, p, dof, expected, erro, stri = chi2_text(df, verbose=True)"
   ]
  },
  {
   "cell_type": "code",
   "execution_count": null,
   "metadata": {},
   "outputs": [],
   "source": [
    "# scales = observed data\n",
    "scales = np.array([[16, 15, 14, 12, 15], [16, 18, 16, 14, 12], [10, 24, 27, 35, 40]]).T\n",
    "print(scales)\n",
    "\n",
    "df = pd.DataFrame(scales)\n",
    "df.columns = ['alt0', 'alt1200', 'alt200']\n",
    "\n",
    "chi2, p, dof, expected, erro, stri = chi2_text(df, verbose=True)"
   ]
  },
  {
   "cell_type": "markdown",
   "metadata": {},
   "source": [
    "### Distribuição chi-quadrado"
   ]
  },
  {
   "cell_type": "code",
   "execution_count": null,
   "metadata": {},
   "outputs": [],
   "source": [
    "# 2 altitudes\n",
    "scales = np.array([[16, 18, 16, 14, 12], [10, 24, 27, 35, 40]]).T\n",
    "df1 = pd.DataFrame(scales)\n",
    "df1.columns = ['alt1200', 'alt200']\n",
    "\n",
    "# 3 altitudes\n",
    "scales = np.array([[16, 15, 14, 12, 15], [16, 18, 16, 14, 12], [10, 24, 27, 35, 40]]).T\n",
    "df2 = pd.DataFrame(scales)\n",
    "df2.columns = ['alt0', 'alt1200', 'alt200']\n",
    "\n",
    "# 5 altitudes\n",
    "scales = np.array([[16, 18, 16, 14, 10], \n",
    "                   [17, 19, 16, 13, 15],\n",
    "                   [32, 24, 18, 11, 12],\n",
    "                   [16, 18, 12, 16, 12],\n",
    "                   [20, 18, 18, 16, 11]]).T\n",
    "df3 = pd.DataFrame(scales)\n",
    "df3.columns = ['alt0', 'alt1', 'alt2', 'alt1200', 'alt200']\n"
   ]
  },
  {
   "cell_type": "code",
   "execution_count": null,
   "metadata": {},
   "outputs": [],
   "source": [
    "N = 300\n",
    "colors = ['blue', 'green', 'red']\n",
    "\n",
    "fig = plt.figure(figsize=(12,6))\n",
    "\n",
    "for i in range(3):\n",
    "    if   i == 0: df = df1\n",
    "    elif i == 1: df = df2\n",
    "    else:        df = df3\n",
    "        \n",
    "    color = colors[i]\n",
    "    chi2, p, dof, expected, erro, stri = chi2_text(df, verbose=False)\n",
    "    print(i, dof, chi2, color)\n",
    "\n",
    "    ax = sns.distplot(np.random.chisquare(df=dof, size=N), hist=False, color=color);\n",
    "\n",
    "\n",
    "    ax.annotate('chi2 stat dof=%d, pvalue=%.1e'%(dof, p), xy=(chi2+.21, 0.02), xytext=(chi2+.8, 0.04*(i+1)),\n",
    "                color = color,\n",
    "                arrowprops=dict(arrowstyle=\"->\",\n",
    "                                connectionstyle=\"angle3,angleA=0,angleB=-90\", color=color));\n",
    "    \n",
    "    ax.axvline(x=chi2, ymin=0, ymax=.1, color=color)\n"
   ]
  },
  {
   "cell_type": "code",
   "execution_count": null,
   "metadata": {},
   "outputs": [],
   "source": []
  },
  {
   "cell_type": "markdown",
   "metadata": {},
   "source": [
    "### Adendo da distribuição de chi-quadrado"
   ]
  },
  {
   "cell_type": "code",
   "execution_count": null,
   "metadata": {},
   "outputs": [],
   "source": [
    "mu = 0\n",
    "sdv = 1\n",
    "N = 1000\n",
    "\n",
    "dist1 = np.random.normal(mu, sdv, N)**2\n",
    "dist2 = np.random.normal(mu, sdv, N)**2\n",
    "\n",
    "\n",
    "chi2_2 = dist1 + dist2\n",
    "\n",
    "plt.figure(figsize=(14,7))\n",
    "ax = sns.distplot(dist1, color='blue',  hist=True, kde=False, norm_hist=True, rug=True, rug_kws={\"color\": 'blue', \"alpha\": .2,})\n",
    "ret = sns.distplot(chi2_2, color='red', hist=True, kde=False, norm_hist=True, rug=True, rug_kws={\"color\": 'red', \"alpha\": .2,}, ax=ax)\n",
    "\n",
    "# fit the chi2 distribution\n",
    "from scipy import stats\n",
    "\n",
    "df = 1\n",
    "xseq = np.linspace(stats.chi2.ppf(0.01, df), stats.chi2.ppf(0.99, df), 100)\n",
    "ax.plot(xseq, stats.chi2.pdf(xseq, df), color='navy')\n",
    "\n",
    "df = 2\n",
    "xseq = np.linspace(stats.chi2.ppf(0.01, df), stats.chi2.ppf(0.99, df), 100)\n",
    "ax.plot(xseq, stats.chi2.pdf(xseq, df), color='darkred')\n",
    "\n",
    "plt.ylim(0, 2)\n",
    "plt.xlim(0,9)"
   ]
  },
  {
   "cell_type": "code",
   "execution_count": null,
   "metadata": {},
   "outputs": [],
   "source": []
  },
  {
   "cell_type": "code",
   "execution_count": null,
   "metadata": {},
   "outputs": [],
   "source": [
    "dist3 = np.random.normal(mu, sdv, N)**2\n",
    "\n",
    "chi2_3 = dist1 + dist2 + dist3\n",
    "\n",
    "plt.figure(figsize=(12,6))\n",
    "ax  = sns.distplot(dist2,  color='blue',   hist=True, kde=False, norm_hist=True, rug=True, rug_kws={\"color\": 'blue', \"alpha\": .2,})\n",
    "ret = sns.distplot(chi2_2, color='red',    hist=True, kde=False, norm_hist=True, rug=True, rug_kws={\"color\": 'red', \"alpha\": .2,}, ax=ax)\n",
    "ret = sns.distplot(chi2_3, color='yellow', hist=True, kde=False, norm_hist=True, rug=True, rug_kws={\"color\": 'yellow', \"alpha\": .2,}, ax=ax)\n",
    "\n",
    "df = 1\n",
    "xseq = np.linspace(stats.chi2.ppf(0.01, df), stats.chi2.ppf(0.99, df), 100)\n",
    "ax.plot(xseq, stats.chi2.pdf(xseq, df), color='navy')\n",
    "\n",
    "df = 2\n",
    "xseq = np.linspace(stats.chi2.ppf(0.01, df), stats.chi2.ppf(0.99, df), 100)\n",
    "ax.plot(xseq, stats.chi2.pdf(xseq, df), color='darkred')\n",
    "\n",
    "df = 3\n",
    "xseq = np.linspace(stats.chi2.ppf(0.01, df), stats.chi2.ppf(0.99, df), 100)\n",
    "ax.plot(xseq, stats.chi2.pdf(xseq, df), color='orange')\n",
    "\n",
    "plt.ylim(0, 1)\n",
    "plt.xlim(0,9)"
   ]
  },
  {
   "cell_type": "code",
   "execution_count": null,
   "metadata": {},
   "outputs": [],
   "source": []
  }
 ],
 "metadata": {
  "kernelspec": {
   "display_name": "Python 3",
   "language": "python",
   "name": "python3"
  },
  "language_info": {
   "codemirror_mode": {
    "name": "ipython",
    "version": 3
   },
   "file_extension": ".py",
   "mimetype": "text/x-python",
   "name": "python",
   "nbconvert_exporter": "python",
   "pygments_lexer": "ipython3",
   "version": "3.6.9"
  }
 },
 "nbformat": 4,
 "nbformat_minor": 4
}
