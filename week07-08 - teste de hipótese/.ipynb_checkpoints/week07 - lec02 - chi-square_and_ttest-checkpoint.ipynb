{
 "cells": [
  {
   "cell_type": "code",
   "execution_count": 1,
   "metadata": {},
   "outputs": [],
   "source": [
    "from scipy import stats\n",
    "import numpy as np\n",
    "import pandas as pd\n",
    "\n",
    "from scipy.stats import norm\n",
    "\n",
    "import seaborn as sns\n",
    "import matplotlib.pyplot as plt\n",
    "%matplotlib inline"
   ]
  },
  {
   "cell_type": "markdown",
   "metadata": {},
   "source": [
    "## Chi-square test\n",
    "\n",
    "  - dados numéricos e discretos\n",
    "  - comparação de 2 ou mais distribuições\n",
    "    - p.ex. número de escamas de cobras fêmeas, de mesma espécie, em altitudes diferentes\n",
    "    - são estatisticamente diferentes?\n",
    "    - coletaremos 5 amostras a 1200 m e 5 amostras a 200 m"
   ]
  },
  {
   "cell_type": "markdown",
   "metadata": {},
   "source": [
    "### Exemplo 01 - medicina\n",
    "\n",
    "  - tabela de contingência"
   ]
  },
  {
   "cell_type": "code",
   "execution_count": 2,
   "metadata": {},
   "outputs": [
    {
     "data": {
      "text/html": [
       "<div>\n",
       "<style scoped>\n",
       "    .dataframe tbody tr th:only-of-type {\n",
       "        vertical-align: middle;\n",
       "    }\n",
       "\n",
       "    .dataframe tbody tr th {\n",
       "        vertical-align: top;\n",
       "    }\n",
       "\n",
       "    .dataframe thead th {\n",
       "        text-align: right;\n",
       "    }\n",
       "</style>\n",
       "<table border=\"1\" class=\"dataframe\">\n",
       "  <thead>\n",
       "    <tr style=\"text-align: right;\">\n",
       "      <th></th>\n",
       "      <th>são</th>\n",
       "      <th>doente</th>\n",
       "    </tr>\n",
       "  </thead>\n",
       "  <tbody>\n",
       "    <tr>\n",
       "      <th>negativo</th>\n",
       "      <td>10</td>\n",
       "      <td>3</td>\n",
       "    </tr>\n",
       "    <tr>\n",
       "      <th>positivo</th>\n",
       "      <td>4</td>\n",
       "      <td>29</td>\n",
       "    </tr>\n",
       "  </tbody>\n",
       "</table>\n",
       "</div>"
      ],
      "text/plain": [
       "          são  doente\n",
       "negativo   10       3\n",
       "positivo    4      29"
      ]
     },
     "execution_count": 2,
     "metadata": {},
     "output_type": "execute_result"
    }
   ],
   "source": [
    "# testes x estado de pacientes\n",
    "cases = np.array([[10, 4], [3, 29]]).T\n",
    "dfc = pd.DataFrame(cases)\n",
    "dfc.columns = ['são', 'doente']\n",
    "dfc.index = [\"negativo\", \"positivo\"]\n",
    "dfc"
   ]
  },
  {
   "cell_type": "markdown",
   "metadata": {},
   "source": [
    "### Exemplo 02 - ecologia ~ cobras"
   ]
  },
  {
   "cell_type": "code",
   "execution_count": 3,
   "metadata": {},
   "outputs": [
    {
     "data": {
      "text/plain": [
       "(15.563342907092908,\n",
       " 7.978656151116845e-05,\n",
       " 1,\n",
       " array([[ 3.95652174,  9.04347826],\n",
       "        [10.04347826, 22.95652174]]))"
      ]
     },
     "execution_count": 3,
     "metadata": {},
     "output_type": "execute_result"
    }
   ],
   "source": [
    "chi2, pvalue, dof, expected = stats.chi2_contingency(dfc)\n",
    "chi2, pvalue, dof, expected "
   ]
  },
  {
   "cell_type": "code",
   "execution_count": 4,
   "metadata": {},
   "outputs": [
    {
     "data": {
      "text/plain": [
       "array([[16, 32],\n",
       "       [18, 24],\n",
       "       [25, 27],\n",
       "       [14, 35],\n",
       "       [12, 40]])"
      ]
     },
     "execution_count": 4,
     "metadata": {},
     "output_type": "execute_result"
    }
   ],
   "source": [
    "# scales = observed data\n",
    "scales = np.array([[16, 18, 25, 14, 12], [32, 24, 27, 35, 40]]).T\n",
    "scales"
   ]
  },
  {
   "cell_type": "code",
   "execution_count": 5,
   "metadata": {},
   "outputs": [
    {
     "data": {
      "text/html": [
       "<div>\n",
       "<style scoped>\n",
       "    .dataframe tbody tr th:only-of-type {\n",
       "        vertical-align: middle;\n",
       "    }\n",
       "\n",
       "    .dataframe tbody tr th {\n",
       "        vertical-align: top;\n",
       "    }\n",
       "\n",
       "    .dataframe thead th {\n",
       "        text-align: right;\n",
       "    }\n",
       "</style>\n",
       "<table border=\"1\" class=\"dataframe\">\n",
       "  <thead>\n",
       "    <tr style=\"text-align: right;\">\n",
       "      <th></th>\n",
       "      <th>alt1200</th>\n",
       "      <th>alt200</th>\n",
       "    </tr>\n",
       "  </thead>\n",
       "  <tbody>\n",
       "    <tr>\n",
       "      <th>32</th>\n",
       "      <td>16</td>\n",
       "      <td>32</td>\n",
       "    </tr>\n",
       "    <tr>\n",
       "      <th>33</th>\n",
       "      <td>18</td>\n",
       "      <td>24</td>\n",
       "    </tr>\n",
       "    <tr>\n",
       "      <th>34</th>\n",
       "      <td>25</td>\n",
       "      <td>27</td>\n",
       "    </tr>\n",
       "    <tr>\n",
       "      <th>35</th>\n",
       "      <td>14</td>\n",
       "      <td>35</td>\n",
       "    </tr>\n",
       "    <tr>\n",
       "      <th>36</th>\n",
       "      <td>12</td>\n",
       "      <td>40</td>\n",
       "    </tr>\n",
       "  </tbody>\n",
       "</table>\n",
       "</div>"
      ],
      "text/plain": [
       "    alt1200  alt200\n",
       "32       16      32\n",
       "33       18      24\n",
       "34       25      27\n",
       "35       14      35\n",
       "36       12      40"
      ]
     },
     "execution_count": 5,
     "metadata": {},
     "output_type": "execute_result"
    }
   ],
   "source": [
    "df = pd.DataFrame(scales)\n",
    "df.columns = ['alt1200', 'alt200']\n",
    "df.index = [32, 33, 34, 35, 36]\n",
    "df"
   ]
  },
  {
   "cell_type": "markdown",
   "metadata": {},
   "source": [
    "## Valores observados x Valores esperados\n",
    "\n",
    "### Pearson"
   ]
  },
  {
   "cell_type": "code",
   "execution_count": 6,
   "metadata": {},
   "outputs": [
    {
     "data": {
      "text/html": [
       "<div>\n",
       "<style scoped>\n",
       "    .dataframe tbody tr th:only-of-type {\n",
       "        vertical-align: middle;\n",
       "    }\n",
       "\n",
       "    .dataframe tbody tr th {\n",
       "        vertical-align: top;\n",
       "    }\n",
       "\n",
       "    .dataframe thead th {\n",
       "        text-align: right;\n",
       "    }\n",
       "</style>\n",
       "<table border=\"1\" class=\"dataframe\">\n",
       "  <thead>\n",
       "    <tr style=\"text-align: right;\">\n",
       "      <th></th>\n",
       "      <th>alt1200</th>\n",
       "      <th>alt200</th>\n",
       "      <th>tot_marg_escamas</th>\n",
       "    </tr>\n",
       "  </thead>\n",
       "  <tbody>\n",
       "    <tr>\n",
       "      <th>32</th>\n",
       "      <td>16</td>\n",
       "      <td>32</td>\n",
       "      <td>48</td>\n",
       "    </tr>\n",
       "    <tr>\n",
       "      <th>33</th>\n",
       "      <td>18</td>\n",
       "      <td>24</td>\n",
       "      <td>42</td>\n",
       "    </tr>\n",
       "    <tr>\n",
       "      <th>34</th>\n",
       "      <td>25</td>\n",
       "      <td>27</td>\n",
       "      <td>52</td>\n",
       "    </tr>\n",
       "    <tr>\n",
       "      <th>35</th>\n",
       "      <td>14</td>\n",
       "      <td>35</td>\n",
       "      <td>49</td>\n",
       "    </tr>\n",
       "    <tr>\n",
       "      <th>36</th>\n",
       "      <td>12</td>\n",
       "      <td>40</td>\n",
       "      <td>52</td>\n",
       "    </tr>\n",
       "  </tbody>\n",
       "</table>\n",
       "</div>"
      ],
      "text/plain": [
       "    alt1200  alt200  tot_marg_escamas\n",
       "32       16      32                48\n",
       "33       18      24                42\n",
       "34       25      27                52\n",
       "35       14      35                49\n",
       "36       12      40                52"
      ]
     },
     "execution_count": 6,
     "metadata": {},
     "output_type": "execute_result"
    }
   ],
   "source": [
    "dfa = df.copy()\n",
    "dfa['tot_marg_escamas'] = dfa.sum(axis = 1)\n",
    "dfa"
   ]
  },
  {
   "cell_type": "code",
   "execution_count": 7,
   "metadata": {},
   "outputs": [
    {
     "data": {
      "text/plain": [
       "alt1200              85\n",
       "alt200              158\n",
       "tot_marg_escamas    243\n",
       "dtype: int64"
      ]
     },
     "execution_count": 7,
     "metadata": {},
     "output_type": "execute_result"
    }
   ],
   "source": [
    "dfa.sum(axis = 0)"
   ]
  },
  {
   "cell_type": "code",
   "execution_count": 8,
   "metadata": {},
   "outputs": [
    {
     "data": {
      "text/html": [
       "<div>\n",
       "<style scoped>\n",
       "    .dataframe tbody tr th:only-of-type {\n",
       "        vertical-align: middle;\n",
       "    }\n",
       "\n",
       "    .dataframe tbody tr th {\n",
       "        vertical-align: top;\n",
       "    }\n",
       "\n",
       "    .dataframe thead th {\n",
       "        text-align: right;\n",
       "    }\n",
       "</style>\n",
       "<table border=\"1\" class=\"dataframe\">\n",
       "  <thead>\n",
       "    <tr style=\"text-align: right;\">\n",
       "      <th></th>\n",
       "      <th>alt1200</th>\n",
       "      <th>alt200</th>\n",
       "      <th>tot_marg_escamas</th>\n",
       "    </tr>\n",
       "  </thead>\n",
       "  <tbody>\n",
       "    <tr>\n",
       "      <th>32</th>\n",
       "      <td>16</td>\n",
       "      <td>32</td>\n",
       "      <td>48</td>\n",
       "    </tr>\n",
       "    <tr>\n",
       "      <th>33</th>\n",
       "      <td>18</td>\n",
       "      <td>24</td>\n",
       "      <td>42</td>\n",
       "    </tr>\n",
       "    <tr>\n",
       "      <th>34</th>\n",
       "      <td>25</td>\n",
       "      <td>27</td>\n",
       "      <td>52</td>\n",
       "    </tr>\n",
       "    <tr>\n",
       "      <th>35</th>\n",
       "      <td>14</td>\n",
       "      <td>35</td>\n",
       "      <td>49</td>\n",
       "    </tr>\n",
       "    <tr>\n",
       "      <th>36</th>\n",
       "      <td>12</td>\n",
       "      <td>40</td>\n",
       "      <td>52</td>\n",
       "    </tr>\n",
       "    <tr>\n",
       "      <th>tot_marg_altitude</th>\n",
       "      <td>85</td>\n",
       "      <td>158</td>\n",
       "      <td>243</td>\n",
       "    </tr>\n",
       "  </tbody>\n",
       "</table>\n",
       "</div>"
      ],
      "text/plain": [
       "                   alt1200  alt200  tot_marg_escamas\n",
       "32                      16      32                48\n",
       "33                      18      24                42\n",
       "34                      25      27                52\n",
       "35                      14      35                49\n",
       "36                      12      40                52\n",
       "tot_marg_altitude       85     158               243"
      ]
     },
     "execution_count": 8,
     "metadata": {},
     "output_type": "execute_result"
    }
   ],
   "source": [
    "dfa = dfa.append(pd.DataFrame(dfa.sum(axis = 0)).T)\n",
    "lista = list(dfa.index)\n",
    "lista[-1] = 'tot_marg_altitude'\n",
    "dfa.index = lista\n",
    "dfa"
   ]
  },
  {
   "cell_type": "code",
   "execution_count": 9,
   "metadata": {},
   "outputs": [
    {
     "name": "stdout",
     "output_type": "stream",
     "text": [
      "tot animal 243\n"
     ]
    },
    {
     "data": {
      "text/html": [
       "<div>\n",
       "<style scoped>\n",
       "    .dataframe tbody tr th:only-of-type {\n",
       "        vertical-align: middle;\n",
       "    }\n",
       "\n",
       "    .dataframe tbody tr th {\n",
       "        vertical-align: top;\n",
       "    }\n",
       "\n",
       "    .dataframe thead th {\n",
       "        text-align: right;\n",
       "    }\n",
       "</style>\n",
       "<table border=\"1\" class=\"dataframe\">\n",
       "  <thead>\n",
       "    <tr style=\"text-align: right;\">\n",
       "      <th></th>\n",
       "      <th>alt1200</th>\n",
       "      <th>alt200</th>\n",
       "      <th>tot_marg_escamas</th>\n",
       "    </tr>\n",
       "  </thead>\n",
       "  <tbody>\n",
       "    <tr>\n",
       "      <th>32</th>\n",
       "      <td>0.065844</td>\n",
       "      <td>0.131687</td>\n",
       "      <td>0.197531</td>\n",
       "    </tr>\n",
       "    <tr>\n",
       "      <th>33</th>\n",
       "      <td>0.074074</td>\n",
       "      <td>0.098765</td>\n",
       "      <td>0.172840</td>\n",
       "    </tr>\n",
       "    <tr>\n",
       "      <th>34</th>\n",
       "      <td>0.102881</td>\n",
       "      <td>0.111111</td>\n",
       "      <td>0.213992</td>\n",
       "    </tr>\n",
       "    <tr>\n",
       "      <th>35</th>\n",
       "      <td>0.057613</td>\n",
       "      <td>0.144033</td>\n",
       "      <td>0.201646</td>\n",
       "    </tr>\n",
       "    <tr>\n",
       "      <th>36</th>\n",
       "      <td>0.049383</td>\n",
       "      <td>0.164609</td>\n",
       "      <td>0.213992</td>\n",
       "    </tr>\n",
       "    <tr>\n",
       "      <th>tot_marg_altitude</th>\n",
       "      <td>0.349794</td>\n",
       "      <td>0.650206</td>\n",
       "      <td>1.000000</td>\n",
       "    </tr>\n",
       "  </tbody>\n",
       "</table>\n",
       "</div>"
      ],
      "text/plain": [
       "                    alt1200    alt200  tot_marg_escamas\n",
       "32                 0.065844  0.131687          0.197531\n",
       "33                 0.074074  0.098765          0.172840\n",
       "34                 0.102881  0.111111          0.213992\n",
       "35                 0.057613  0.144033          0.201646\n",
       "36                 0.049383  0.164609          0.213992\n",
       "tot_marg_altitude  0.349794  0.650206          1.000000"
      ]
     },
     "execution_count": 9,
     "metadata": {},
     "output_type": "execute_result"
    }
   ],
   "source": [
    "dfp = dfa.copy()\n",
    "nrow, ncol = dfp.shape\n",
    "tot_animal = dfp.iloc[nrow-1, ncol-1]\n",
    "dfp = dfp / tot_animal\n",
    "print('tot animal', tot_animal)\n",
    "dfp"
   ]
  },
  {
   "cell_type": "markdown",
   "metadata": {},
   "source": [
    "### A multiplicação dos valores marginais coluna (j) x marginais linha (i) é o valor esperado de uma célula (i,j)"
   ]
  },
  {
   "cell_type": "code",
   "execution_count": 10,
   "metadata": {},
   "outputs": [
    {
     "name": "stdout",
     "output_type": "stream",
     "text": [
      "2 5 \n",
      "\n"
     ]
    },
    {
     "data": {
      "text/html": [
       "<div>\n",
       "<style scoped>\n",
       "    .dataframe tbody tr th:only-of-type {\n",
       "        vertical-align: middle;\n",
       "    }\n",
       "\n",
       "    .dataframe tbody tr th {\n",
       "        vertical-align: top;\n",
       "    }\n",
       "\n",
       "    .dataframe thead th {\n",
       "        text-align: right;\n",
       "    }\n",
       "</style>\n",
       "<table border=\"1\" class=\"dataframe\">\n",
       "  <thead>\n",
       "    <tr style=\"text-align: right;\">\n",
       "      <th></th>\n",
       "      <th>alt1200</th>\n",
       "      <th>alt200</th>\n",
       "      <th>tot_marg_escamas</th>\n",
       "    </tr>\n",
       "  </thead>\n",
       "  <tbody>\n",
       "    <tr>\n",
       "      <th>32</th>\n",
       "      <td>0.069095</td>\n",
       "      <td>0.128436</td>\n",
       "      <td>0.197531</td>\n",
       "    </tr>\n",
       "    <tr>\n",
       "      <th>33</th>\n",
       "      <td>0.060458</td>\n",
       "      <td>0.112381</td>\n",
       "      <td>0.172840</td>\n",
       "    </tr>\n",
       "    <tr>\n",
       "      <th>34</th>\n",
       "      <td>0.074853</td>\n",
       "      <td>0.139139</td>\n",
       "      <td>0.213992</td>\n",
       "    </tr>\n",
       "    <tr>\n",
       "      <th>35</th>\n",
       "      <td>0.070535</td>\n",
       "      <td>0.131111</td>\n",
       "      <td>0.201646</td>\n",
       "    </tr>\n",
       "    <tr>\n",
       "      <th>36</th>\n",
       "      <td>0.074853</td>\n",
       "      <td>0.139139</td>\n",
       "      <td>0.213992</td>\n",
       "    </tr>\n",
       "    <tr>\n",
       "      <th>tot_marg_altitude</th>\n",
       "      <td>0.349794</td>\n",
       "      <td>0.650206</td>\n",
       "      <td>1.000000</td>\n",
       "    </tr>\n",
       "  </tbody>\n",
       "</table>\n",
       "</div>"
      ],
      "text/plain": [
       "                    alt1200    alt200  tot_marg_escamas\n",
       "32                 0.069095  0.128436          0.197531\n",
       "33                 0.060458  0.112381          0.172840\n",
       "34                 0.074853  0.139139          0.213992\n",
       "35                 0.070535  0.131111          0.201646\n",
       "36                 0.074853  0.139139          0.213992\n",
       "tot_marg_altitude  0.349794  0.650206          1.000000"
      ]
     },
     "execution_count": 10,
     "metadata": {},
     "output_type": "execute_result"
    }
   ],
   "source": [
    "dfexp  = dfp.copy()\n",
    "\n",
    "pos_tot_marg_escamas  = ncol - 1\n",
    "pos_tot_marg_altitude = nrow - 1\n",
    "print(pos_tot_marg_escamas, pos_tot_marg_altitude, \"\\n\")\n",
    "\n",
    "for i in range(nrow):\n",
    "    for j in range(ncol):\n",
    "        dfexp.iloc[i, j] = dfp.iloc[i, pos_tot_marg_escamas] * dfp.iloc[pos_tot_marg_altitude, j]\n",
    "        \n",
    "dfexp"
   ]
  },
  {
   "cell_type": "code",
   "execution_count": 11,
   "metadata": {},
   "outputs": [
    {
     "data": {
      "text/html": [
       "<div>\n",
       "<style scoped>\n",
       "    .dataframe tbody tr th:only-of-type {\n",
       "        vertical-align: middle;\n",
       "    }\n",
       "\n",
       "    .dataframe tbody tr th {\n",
       "        vertical-align: top;\n",
       "    }\n",
       "\n",
       "    .dataframe thead th {\n",
       "        text-align: right;\n",
       "    }\n",
       "</style>\n",
       "<table border=\"1\" class=\"dataframe\">\n",
       "  <thead>\n",
       "    <tr style=\"text-align: right;\">\n",
       "      <th></th>\n",
       "      <th>alt1200</th>\n",
       "      <th>alt200</th>\n",
       "      <th>tot_marg_escamas</th>\n",
       "    </tr>\n",
       "  </thead>\n",
       "  <tbody>\n",
       "    <tr>\n",
       "      <th>32</th>\n",
       "      <td>16.79</td>\n",
       "      <td>31.21</td>\n",
       "      <td>48.0</td>\n",
       "    </tr>\n",
       "    <tr>\n",
       "      <th>33</th>\n",
       "      <td>14.69</td>\n",
       "      <td>27.31</td>\n",
       "      <td>42.0</td>\n",
       "    </tr>\n",
       "    <tr>\n",
       "      <th>34</th>\n",
       "      <td>18.19</td>\n",
       "      <td>33.81</td>\n",
       "      <td>52.0</td>\n",
       "    </tr>\n",
       "    <tr>\n",
       "      <th>35</th>\n",
       "      <td>17.14</td>\n",
       "      <td>31.86</td>\n",
       "      <td>49.0</td>\n",
       "    </tr>\n",
       "    <tr>\n",
       "      <th>36</th>\n",
       "      <td>18.19</td>\n",
       "      <td>33.81</td>\n",
       "      <td>52.0</td>\n",
       "    </tr>\n",
       "    <tr>\n",
       "      <th>tot_marg_altitude</th>\n",
       "      <td>85.00</td>\n",
       "      <td>158.00</td>\n",
       "      <td>243.0</td>\n",
       "    </tr>\n",
       "  </tbody>\n",
       "</table>\n",
       "</div>"
      ],
      "text/plain": [
       "                   alt1200  alt200  tot_marg_escamas\n",
       "32                   16.79   31.21              48.0\n",
       "33                   14.69   27.31              42.0\n",
       "34                   18.19   33.81              52.0\n",
       "35                   17.14   31.86              49.0\n",
       "36                   18.19   33.81              52.0\n",
       "tot_marg_altitude    85.00  158.00             243.0"
      ]
     },
     "execution_count": 11,
     "metadata": {},
     "output_type": "execute_result"
    }
   ],
   "source": [
    "dfexp2 = dfexp.copy()\n",
    "(dfexp2*tot_animal).round(2)"
   ]
  },
  {
   "cell_type": "code",
   "execution_count": 12,
   "metadata": {},
   "outputs": [
    {
     "data": {
      "text/html": [
       "<div>\n",
       "<style scoped>\n",
       "    .dataframe tbody tr th:only-of-type {\n",
       "        vertical-align: middle;\n",
       "    }\n",
       "\n",
       "    .dataframe tbody tr th {\n",
       "        vertical-align: top;\n",
       "    }\n",
       "\n",
       "    .dataframe thead th {\n",
       "        text-align: right;\n",
       "    }\n",
       "</style>\n",
       "<table border=\"1\" class=\"dataframe\">\n",
       "  <thead>\n",
       "    <tr style=\"text-align: right;\">\n",
       "      <th></th>\n",
       "      <th>alt1200</th>\n",
       "      <th>alt200</th>\n",
       "      <th>tot_marg_escamas</th>\n",
       "    </tr>\n",
       "  </thead>\n",
       "  <tbody>\n",
       "    <tr>\n",
       "      <th>32</th>\n",
       "      <td>17</td>\n",
       "      <td>31</td>\n",
       "      <td>48</td>\n",
       "    </tr>\n",
       "    <tr>\n",
       "      <th>33</th>\n",
       "      <td>15</td>\n",
       "      <td>27</td>\n",
       "      <td>42</td>\n",
       "    </tr>\n",
       "    <tr>\n",
       "      <th>34</th>\n",
       "      <td>18</td>\n",
       "      <td>34</td>\n",
       "      <td>52</td>\n",
       "    </tr>\n",
       "    <tr>\n",
       "      <th>35</th>\n",
       "      <td>17</td>\n",
       "      <td>32</td>\n",
       "      <td>49</td>\n",
       "    </tr>\n",
       "    <tr>\n",
       "      <th>36</th>\n",
       "      <td>18</td>\n",
       "      <td>34</td>\n",
       "      <td>52</td>\n",
       "    </tr>\n",
       "    <tr>\n",
       "      <th>tot_marg_altitude</th>\n",
       "      <td>85</td>\n",
       "      <td>158</td>\n",
       "      <td>243</td>\n",
       "    </tr>\n",
       "  </tbody>\n",
       "</table>\n",
       "</div>"
      ],
      "text/plain": [
       "                   alt1200  alt200  tot_marg_escamas\n",
       "32                      17      31                48\n",
       "33                      15      27                42\n",
       "34                      18      34                52\n",
       "35                      17      32                49\n",
       "36                      18      34                52\n",
       "tot_marg_altitude       85     158               243"
      ]
     },
     "execution_count": 12,
     "metadata": {},
     "output_type": "execute_result"
    }
   ],
   "source": [
    "dfexp2 = dfexp.copy()\n",
    "dfexp2 = (dfexp2*tot_animal).round(0).astype(int)\n",
    "dfexp2"
   ]
  },
  {
   "cell_type": "code",
   "execution_count": 13,
   "metadata": {},
   "outputs": [
    {
     "data": {
      "text/html": [
       "<div>\n",
       "<style scoped>\n",
       "    .dataframe tbody tr th:only-of-type {\n",
       "        vertical-align: middle;\n",
       "    }\n",
       "\n",
       "    .dataframe tbody tr th {\n",
       "        vertical-align: top;\n",
       "    }\n",
       "\n",
       "    .dataframe thead th {\n",
       "        text-align: right;\n",
       "    }\n",
       "</style>\n",
       "<table border=\"1\" class=\"dataframe\">\n",
       "  <thead>\n",
       "    <tr style=\"text-align: right;\">\n",
       "      <th></th>\n",
       "      <th>alt1200</th>\n",
       "      <th>alt200</th>\n",
       "    </tr>\n",
       "  </thead>\n",
       "  <tbody>\n",
       "    <tr>\n",
       "      <th>32</th>\n",
       "      <td>16</td>\n",
       "      <td>32</td>\n",
       "    </tr>\n",
       "    <tr>\n",
       "      <th>33</th>\n",
       "      <td>18</td>\n",
       "      <td>24</td>\n",
       "    </tr>\n",
       "    <tr>\n",
       "      <th>34</th>\n",
       "      <td>25</td>\n",
       "      <td>27</td>\n",
       "    </tr>\n",
       "    <tr>\n",
       "      <th>35</th>\n",
       "      <td>14</td>\n",
       "      <td>35</td>\n",
       "    </tr>\n",
       "    <tr>\n",
       "      <th>36</th>\n",
       "      <td>12</td>\n",
       "      <td>40</td>\n",
       "    </tr>\n",
       "  </tbody>\n",
       "</table>\n",
       "</div>"
      ],
      "text/plain": [
       "    alt1200  alt200\n",
       "32       16      32\n",
       "33       18      24\n",
       "34       25      27\n",
       "35       14      35\n",
       "36       12      40"
      ]
     },
     "execution_count": 13,
     "metadata": {},
     "output_type": "execute_result"
    }
   ],
   "source": [
    "df"
   ]
  },
  {
   "cell_type": "code",
   "execution_count": 14,
   "metadata": {},
   "outputs": [
    {
     "data": {
      "text/html": [
       "<div>\n",
       "<style scoped>\n",
       "    .dataframe tbody tr th:only-of-type {\n",
       "        vertical-align: middle;\n",
       "    }\n",
       "\n",
       "    .dataframe tbody tr th {\n",
       "        vertical-align: top;\n",
       "    }\n",
       "\n",
       "    .dataframe thead th {\n",
       "        text-align: right;\n",
       "    }\n",
       "</style>\n",
       "<table border=\"1\" class=\"dataframe\">\n",
       "  <thead>\n",
       "    <tr style=\"text-align: right;\">\n",
       "      <th></th>\n",
       "      <th>alt1200</th>\n",
       "      <th>alt200</th>\n",
       "    </tr>\n",
       "  </thead>\n",
       "  <tbody>\n",
       "    <tr>\n",
       "      <th>32</th>\n",
       "      <td>17</td>\n",
       "      <td>31</td>\n",
       "    </tr>\n",
       "    <tr>\n",
       "      <th>33</th>\n",
       "      <td>15</td>\n",
       "      <td>27</td>\n",
       "    </tr>\n",
       "    <tr>\n",
       "      <th>34</th>\n",
       "      <td>18</td>\n",
       "      <td>34</td>\n",
       "    </tr>\n",
       "    <tr>\n",
       "      <th>35</th>\n",
       "      <td>17</td>\n",
       "      <td>32</td>\n",
       "    </tr>\n",
       "    <tr>\n",
       "      <th>36</th>\n",
       "      <td>18</td>\n",
       "      <td>34</td>\n",
       "    </tr>\n",
       "  </tbody>\n",
       "</table>\n",
       "</div>"
      ],
      "text/plain": [
       "    alt1200  alt200\n",
       "32       17      31\n",
       "33       15      27\n",
       "34       18      34\n",
       "35       17      32\n",
       "36       18      34"
      ]
     },
     "execution_count": 14,
     "metadata": {},
     "output_type": "execute_result"
    }
   ],
   "source": [
    "dfexp3 = dfexp2.copy()\n",
    "dfexp3 = dfexp2.iloc[:5, :2]\n",
    "dfexp3"
   ]
  },
  {
   "cell_type": "code",
   "execution_count": 15,
   "metadata": {},
   "outputs": [
    {
     "data": {
      "text/html": [
       "<div>\n",
       "<style scoped>\n",
       "    .dataframe tbody tr th:only-of-type {\n",
       "        vertical-align: middle;\n",
       "    }\n",
       "\n",
       "    .dataframe tbody tr th {\n",
       "        vertical-align: top;\n",
       "    }\n",
       "\n",
       "    .dataframe thead th {\n",
       "        text-align: right;\n",
       "    }\n",
       "</style>\n",
       "<table border=\"1\" class=\"dataframe\">\n",
       "  <thead>\n",
       "    <tr style=\"text-align: right;\">\n",
       "      <th></th>\n",
       "      <th>alt1200</th>\n",
       "      <th>alt200</th>\n",
       "    </tr>\n",
       "  </thead>\n",
       "  <tbody>\n",
       "    <tr>\n",
       "      <th>32</th>\n",
       "      <td>-1</td>\n",
       "      <td>1</td>\n",
       "    </tr>\n",
       "    <tr>\n",
       "      <th>33</th>\n",
       "      <td>3</td>\n",
       "      <td>-3</td>\n",
       "    </tr>\n",
       "    <tr>\n",
       "      <th>34</th>\n",
       "      <td>7</td>\n",
       "      <td>-7</td>\n",
       "    </tr>\n",
       "    <tr>\n",
       "      <th>35</th>\n",
       "      <td>-3</td>\n",
       "      <td>3</td>\n",
       "    </tr>\n",
       "    <tr>\n",
       "      <th>36</th>\n",
       "      <td>-6</td>\n",
       "      <td>6</td>\n",
       "    </tr>\n",
       "  </tbody>\n",
       "</table>\n",
       "</div>"
      ],
      "text/plain": [
       "    alt1200  alt200\n",
       "32       -1       1\n",
       "33        3      -3\n",
       "34        7      -7\n",
       "35       -3       3\n",
       "36       -6       6"
      ]
     },
     "execution_count": 15,
     "metadata": {},
     "output_type": "execute_result"
    }
   ],
   "source": [
    "df - dfexp3"
   ]
  },
  {
   "cell_type": "code",
   "execution_count": 16,
   "metadata": {},
   "outputs": [
    {
     "data": {
      "text/html": [
       "<div>\n",
       "<style scoped>\n",
       "    .dataframe tbody tr th:only-of-type {\n",
       "        vertical-align: middle;\n",
       "    }\n",
       "\n",
       "    .dataframe tbody tr th {\n",
       "        vertical-align: top;\n",
       "    }\n",
       "\n",
       "    .dataframe thead th {\n",
       "        text-align: right;\n",
       "    }\n",
       "</style>\n",
       "<table border=\"1\" class=\"dataframe\">\n",
       "  <thead>\n",
       "    <tr style=\"text-align: right;\">\n",
       "      <th></th>\n",
       "      <th>alt1200</th>\n",
       "      <th>alt200</th>\n",
       "    </tr>\n",
       "  </thead>\n",
       "  <tbody>\n",
       "    <tr>\n",
       "      <th>32</th>\n",
       "      <td>1</td>\n",
       "      <td>1</td>\n",
       "    </tr>\n",
       "    <tr>\n",
       "      <th>33</th>\n",
       "      <td>9</td>\n",
       "      <td>9</td>\n",
       "    </tr>\n",
       "    <tr>\n",
       "      <th>34</th>\n",
       "      <td>49</td>\n",
       "      <td>49</td>\n",
       "    </tr>\n",
       "    <tr>\n",
       "      <th>35</th>\n",
       "      <td>9</td>\n",
       "      <td>9</td>\n",
       "    </tr>\n",
       "    <tr>\n",
       "      <th>36</th>\n",
       "      <td>36</td>\n",
       "      <td>36</td>\n",
       "    </tr>\n",
       "  </tbody>\n",
       "</table>\n",
       "</div>"
      ],
      "text/plain": [
       "    alt1200  alt200\n",
       "32        1       1\n",
       "33        9       9\n",
       "34       49      49\n",
       "35        9       9\n",
       "36       36      36"
      ]
     },
     "execution_count": 16,
     "metadata": {},
     "output_type": "execute_result"
    }
   ],
   "source": [
    "(df - dfexp3)**2"
   ]
  },
  {
   "cell_type": "code",
   "execution_count": 17,
   "metadata": {},
   "outputs": [
    {
     "data": {
      "text/html": [
       "<div>\n",
       "<style scoped>\n",
       "    .dataframe tbody tr th:only-of-type {\n",
       "        vertical-align: middle;\n",
       "    }\n",
       "\n",
       "    .dataframe tbody tr th {\n",
       "        vertical-align: top;\n",
       "    }\n",
       "\n",
       "    .dataframe thead th {\n",
       "        text-align: right;\n",
       "    }\n",
       "</style>\n",
       "<table border=\"1\" class=\"dataframe\">\n",
       "  <thead>\n",
       "    <tr style=\"text-align: right;\">\n",
       "      <th></th>\n",
       "      <th>alt1200</th>\n",
       "      <th>alt200</th>\n",
       "    </tr>\n",
       "  </thead>\n",
       "  <tbody>\n",
       "    <tr>\n",
       "      <th>32</th>\n",
       "      <td>0.058824</td>\n",
       "      <td>0.032258</td>\n",
       "    </tr>\n",
       "    <tr>\n",
       "      <th>33</th>\n",
       "      <td>0.600000</td>\n",
       "      <td>0.333333</td>\n",
       "    </tr>\n",
       "    <tr>\n",
       "      <th>34</th>\n",
       "      <td>2.722222</td>\n",
       "      <td>1.441176</td>\n",
       "    </tr>\n",
       "    <tr>\n",
       "      <th>35</th>\n",
       "      <td>0.529412</td>\n",
       "      <td>0.281250</td>\n",
       "    </tr>\n",
       "    <tr>\n",
       "      <th>36</th>\n",
       "      <td>2.000000</td>\n",
       "      <td>1.058824</td>\n",
       "    </tr>\n",
       "  </tbody>\n",
       "</table>\n",
       "</div>"
      ],
      "text/plain": [
       "     alt1200    alt200\n",
       "32  0.058824  0.032258\n",
       "33  0.600000  0.333333\n",
       "34  2.722222  1.441176\n",
       "35  0.529412  0.281250\n",
       "36  2.000000  1.058824"
      ]
     },
     "execution_count": 17,
     "metadata": {},
     "output_type": "execute_result"
    }
   ],
   "source": [
    "(df - dfexp3)**2 / dfexp3"
   ]
  },
  {
   "cell_type": "code",
   "execution_count": 18,
   "metadata": {},
   "outputs": [
    {
     "data": {
      "text/plain": [
       "9.057298914189332"
      ]
     },
     "execution_count": 18,
     "metadata": {},
     "output_type": "execute_result"
    }
   ],
   "source": [
    "chi2 = np.sum(np.sum((df - dfexp3)**2 / dfexp3))\n",
    "chi2"
   ]
  },
  {
   "cell_type": "markdown",
   "metadata": {},
   "source": [
    "### Dataframe == tabela de contingência"
   ]
  },
  {
   "cell_type": "code",
   "execution_count": 19,
   "metadata": {},
   "outputs": [
    {
     "data": {
      "text/plain": [
       "(9.248974127138686,\n",
       " 0.055168821766874876,\n",
       " 4,\n",
       " array([[16.79012346, 31.20987654],\n",
       "        [14.69135802, 27.30864198],\n",
       "        [18.18930041, 33.81069959],\n",
       "        [17.1399177 , 31.8600823 ],\n",
       "        [18.18930041, 33.81069959]]))"
      ]
     },
     "execution_count": 19,
     "metadata": {},
     "output_type": "execute_result"
    }
   ],
   "source": [
    "chi2, pvalue, dof, expected = stats.chi2_contingency(df)\n",
    "chi2, pvalue, dof, expected "
   ]
  },
  {
   "cell_type": "code",
   "execution_count": 20,
   "metadata": {},
   "outputs": [
    {
     "data": {
      "text/plain": [
       "'estatística de chi-quadrado 9.249, p-value=5.517e-02, degree of freedom (dof) = 4'"
      ]
     },
     "execution_count": 20,
     "metadata": {},
     "output_type": "execute_result"
    }
   ],
   "source": [
    "\"estatística de chi-quadrado %.3f, p-value=%.3e, degree of freedom (dof) = %d\"%(chi2, pvalue, dof)"
   ]
  },
  {
   "cell_type": "code",
   "execution_count": 21,
   "metadata": {},
   "outputs": [
    {
     "data": {
      "text/html": [
       "<div>\n",
       "<style scoped>\n",
       "    .dataframe tbody tr th:only-of-type {\n",
       "        vertical-align: middle;\n",
       "    }\n",
       "\n",
       "    .dataframe tbody tr th {\n",
       "        vertical-align: top;\n",
       "    }\n",
       "\n",
       "    .dataframe thead th {\n",
       "        text-align: right;\n",
       "    }\n",
       "</style>\n",
       "<table border=\"1\" class=\"dataframe\">\n",
       "  <thead>\n",
       "    <tr style=\"text-align: right;\">\n",
       "      <th></th>\n",
       "      <th>alt1200</th>\n",
       "      <th>alt200</th>\n",
       "    </tr>\n",
       "  </thead>\n",
       "  <tbody>\n",
       "    <tr>\n",
       "      <th>32</th>\n",
       "      <td>16</td>\n",
       "      <td>32</td>\n",
       "    </tr>\n",
       "    <tr>\n",
       "      <th>33</th>\n",
       "      <td>18</td>\n",
       "      <td>24</td>\n",
       "    </tr>\n",
       "    <tr>\n",
       "      <th>34</th>\n",
       "      <td>25</td>\n",
       "      <td>27</td>\n",
       "    </tr>\n",
       "    <tr>\n",
       "      <th>35</th>\n",
       "      <td>14</td>\n",
       "      <td>35</td>\n",
       "    </tr>\n",
       "    <tr>\n",
       "      <th>36</th>\n",
       "      <td>12</td>\n",
       "      <td>40</td>\n",
       "    </tr>\n",
       "  </tbody>\n",
       "</table>\n",
       "</div>"
      ],
      "text/plain": [
       "    alt1200  alt200\n",
       "32       16      32\n",
       "33       18      24\n",
       "34       25      27\n",
       "35       14      35\n",
       "36       12      40"
      ]
     },
     "execution_count": 21,
     "metadata": {},
     "output_type": "execute_result"
    }
   ],
   "source": [
    "df"
   ]
  },
  {
   "cell_type": "code",
   "execution_count": 22,
   "metadata": {},
   "outputs": [
    {
     "data": {
      "text/plain": [
       "array([[16.79, 31.21],\n",
       "       [14.69, 27.31],\n",
       "       [18.19, 33.81],\n",
       "       [17.14, 31.86],\n",
       "       [18.19, 33.81]])"
      ]
     },
     "execution_count": 22,
     "metadata": {},
     "output_type": "execute_result"
    }
   ],
   "source": [
    "expected.round(2)"
   ]
  },
  {
   "cell_type": "code",
   "execution_count": 23,
   "metadata": {},
   "outputs": [
    {
     "data": {
      "text/plain": [
       "array([[-0.79012346,  0.79012346],\n",
       "       [ 3.30864198, -3.30864198],\n",
       "       [ 6.81069959, -6.81069959],\n",
       "       [-3.1399177 ,  3.1399177 ],\n",
       "       [-6.18930041,  6.18930041]])"
      ]
     },
     "execution_count": 23,
     "metadata": {},
     "output_type": "execute_result"
    }
   ],
   "source": [
    "scales - expected"
   ]
  },
  {
   "cell_type": "markdown",
   "metadata": {},
   "source": [
    "### Se a distribuição observada (df) similar à calculada ~ erro próximo de zero"
   ]
  },
  {
   "cell_type": "code",
   "execution_count": 24,
   "metadata": {},
   "outputs": [
    {
     "data": {
      "text/plain": [
       "212.2471168013006"
      ]
     },
     "execution_count": 24,
     "metadata": {},
     "output_type": "execute_result"
    }
   ],
   "source": [
    "erro = np.sum((scales - expected)**2)\n",
    "erro"
   ]
  },
  {
   "cell_type": "markdown",
   "metadata": {},
   "source": [
    "### A definição de estatística de chi-quadrado\n",
    "### soma (observado - esperado)**2 / esperado"
   ]
  },
  {
   "cell_type": "code",
   "execution_count": 25,
   "metadata": {},
   "outputs": [
    {
     "data": {
      "text/plain": [
       "9.248974127138686"
      ]
     },
     "execution_count": 25,
     "metadata": {},
     "output_type": "execute_result"
    }
   ],
   "source": [
    "chis_stat = np.sum((scales - expected)**2/expected)\n",
    "chis_stat"
   ]
  },
  {
   "cell_type": "markdown",
   "metadata": {},
   "source": [
    "### Valores experados não se distanciam muito dos observados?\n",
    "\n",
    "  - não: então as distribuições são similares:     H0  --> p-value < 0.05\n",
    "  - sim: então as distribuições NÃO são similares: Ha --> p-value >= 0.05"
   ]
  },
  {
   "cell_type": "code",
   "execution_count": 26,
   "metadata": {},
   "outputs": [
    {
     "data": {
      "text/plain": [
       "0.055168821766874876"
      ]
     },
     "execution_count": 26,
     "metadata": {},
     "output_type": "execute_result"
    }
   ],
   "source": [
    "pvalue"
   ]
  },
  {
   "cell_type": "code",
   "execution_count": 27,
   "metadata": {},
   "outputs": [
    {
     "data": {
      "text/plain": [
       "'não se refuta H0: distribuições estatisticamente similares, statistic = 9.249, p-value = 5.517e-02'"
      ]
     },
     "execution_count": 27,
     "metadata": {},
     "output_type": "execute_result"
    }
   ],
   "source": [
    "if pvalue >= 0.05:\n",
    "    stri = \"não se refuta H0: distribuições estatisticamente similares, statistic = %.3f, p-value = %.3e\"%(chi2, pvalue)\n",
    "else:\n",
    "    stri = \"adota-se a Ha: distribuições estatisticamente diferentes, statistic = %.3f, p-value = %.3e\"%(chi2, pvalue)    \n",
    "stri"
   ]
  },
  {
   "cell_type": "markdown",
   "metadata": {},
   "source": [
    "### A tabela de contingência é de 5 linhas x 2 colunas"
   ]
  },
  {
   "cell_type": "code",
   "execution_count": 28,
   "metadata": {},
   "outputs": [
    {
     "data": {
      "text/plain": [
       "(5, 2)"
      ]
     },
     "execution_count": 28,
     "metadata": {},
     "output_type": "execute_result"
    }
   ],
   "source": [
    "scales.shape"
   ]
  },
  {
   "cell_type": "markdown",
   "metadata": {},
   "source": [
    "### Graus de liberdade\n",
    "\n",
    "dof = (nrow - 1) * (ncol -1)"
   ]
  },
  {
   "cell_type": "code",
   "execution_count": 29,
   "metadata": {},
   "outputs": [
    {
     "data": {
      "text/plain": [
       "4"
      ]
     },
     "execution_count": 29,
     "metadata": {},
     "output_type": "execute_result"
    }
   ],
   "source": [
    "dof = (scales.shape[0]-1) * (scales.shape[1]-1)\n",
    "dof"
   ]
  },
  {
   "cell_type": "markdown",
   "metadata": {},
   "source": [
    "### Dados mais diferentes: distribuições distintas"
   ]
  },
  {
   "cell_type": "code",
   "execution_count": 30,
   "metadata": {},
   "outputs": [
    {
     "data": {
      "text/plain": [
       "array([[16, 10],\n",
       "       [18, 24],\n",
       "       [16, 27],\n",
       "       [14, 35],\n",
       "       [12, 40]])"
      ]
     },
     "execution_count": 30,
     "metadata": {},
     "output_type": "execute_result"
    }
   ],
   "source": [
    "# scales = observed data\n",
    "scales = np.array([[16, 18, 16, 14, 12], [10, 24, 27, 35, 40]]).T\n",
    "scales"
   ]
  },
  {
   "cell_type": "code",
   "execution_count": 31,
   "metadata": {},
   "outputs": [
    {
     "data": {
      "text/html": [
       "<div>\n",
       "<style scoped>\n",
       "    .dataframe tbody tr th:only-of-type {\n",
       "        vertical-align: middle;\n",
       "    }\n",
       "\n",
       "    .dataframe tbody tr th {\n",
       "        vertical-align: top;\n",
       "    }\n",
       "\n",
       "    .dataframe thead th {\n",
       "        text-align: right;\n",
       "    }\n",
       "</style>\n",
       "<table border=\"1\" class=\"dataframe\">\n",
       "  <thead>\n",
       "    <tr style=\"text-align: right;\">\n",
       "      <th></th>\n",
       "      <th>alt1200</th>\n",
       "      <th>alt200</th>\n",
       "    </tr>\n",
       "  </thead>\n",
       "  <tbody>\n",
       "    <tr>\n",
       "      <th>32</th>\n",
       "      <td>16</td>\n",
       "      <td>10</td>\n",
       "    </tr>\n",
       "    <tr>\n",
       "      <th>33</th>\n",
       "      <td>18</td>\n",
       "      <td>24</td>\n",
       "    </tr>\n",
       "    <tr>\n",
       "      <th>34</th>\n",
       "      <td>16</td>\n",
       "      <td>27</td>\n",
       "    </tr>\n",
       "    <tr>\n",
       "      <th>35</th>\n",
       "      <td>14</td>\n",
       "      <td>35</td>\n",
       "    </tr>\n",
       "    <tr>\n",
       "      <th>36</th>\n",
       "      <td>12</td>\n",
       "      <td>40</td>\n",
       "    </tr>\n",
       "  </tbody>\n",
       "</table>\n",
       "</div>"
      ],
      "text/plain": [
       "    alt1200  alt200\n",
       "32       16      10\n",
       "33       18      24\n",
       "34       16      27\n",
       "35       14      35\n",
       "36       12      40"
      ]
     },
     "execution_count": 31,
     "metadata": {},
     "output_type": "execute_result"
    }
   ],
   "source": [
    "df = pd.DataFrame(scales)\n",
    "df.columns = ['alt1200', 'alt200']\n",
    "df.index = [32, 33, 34, 35, 36]\n",
    "df"
   ]
  },
  {
   "cell_type": "code",
   "execution_count": 32,
   "metadata": {},
   "outputs": [
    {
     "data": {
      "text/plain": [
       "Power_divergenceResult(statistic=43.0, pvalue=2.1556072340481466e-06)"
      ]
     },
     "execution_count": 32,
     "metadata": {},
     "output_type": "execute_result"
    }
   ],
   "source": [
    "stat = stats.chisquare(scales, axis=None)\n",
    "stat"
   ]
  },
  {
   "cell_type": "code",
   "execution_count": 33,
   "metadata": {},
   "outputs": [],
   "source": [
    "def chi2_text(df, verbose=True):\n",
    "    chi2, p, dof, expected = stats.chi2_contingency(df)\n",
    "\n",
    "    erro = np.sum((df.to_numpy() - expected)**2)\n",
    "\n",
    "    if p >= 0.05:\n",
    "        stri = \"não se refuta H0: distribuições estatisticamente similares, statistic = %.3f, p-value = %.3e\"%(chi2, p)\n",
    "    else:\n",
    "        stri = \"adota-se a Ha: distribuições estatisticamente diferentes, statistic = %.3f, p-value = %.3e\"%(chi2, p)\n",
    "        \n",
    "    if verbose:\n",
    "        stri += \"\\nErro total = %d\\nGraus de liberdade (dof) = %d\"%(erro, dof)\n",
    "        print(stri)\n",
    "    \n",
    "    return chi2, p, dof, expected, erro, stri"
   ]
  },
  {
   "cell_type": "code",
   "execution_count": 34,
   "metadata": {},
   "outputs": [
    {
     "name": "stdout",
     "output_type": "stream",
     "text": [
      "adota-se a Ha: distribuições estatisticamente diferentes, statistic = 13.210, p-value = 1.030e-02\n",
      "Erro total = 220\n",
      "Graus de liberdade (dof) = 4\n"
     ]
    }
   ],
   "source": [
    "chi2, p, dof, expected, erro, stri = chi2_text(df, verbose=True)"
   ]
  },
  {
   "cell_type": "markdown",
   "metadata": {},
   "source": [
    "### Simulando um afastamento ..."
   ]
  },
  {
   "cell_type": "code",
   "execution_count": 35,
   "metadata": {},
   "outputs": [
    {
     "data": {
      "text/html": [
       "<div>\n",
       "<style scoped>\n",
       "    .dataframe tbody tr th:only-of-type {\n",
       "        vertical-align: middle;\n",
       "    }\n",
       "\n",
       "    .dataframe tbody tr th {\n",
       "        vertical-align: top;\n",
       "    }\n",
       "\n",
       "    .dataframe thead th {\n",
       "        text-align: right;\n",
       "    }\n",
       "</style>\n",
       "<table border=\"1\" class=\"dataframe\">\n",
       "  <thead>\n",
       "    <tr style=\"text-align: right;\">\n",
       "      <th></th>\n",
       "      <th>alt1200</th>\n",
       "      <th>alt200</th>\n",
       "    </tr>\n",
       "  </thead>\n",
       "  <tbody>\n",
       "    <tr>\n",
       "      <th>32</th>\n",
       "      <td>16</td>\n",
       "      <td>10</td>\n",
       "    </tr>\n",
       "    <tr>\n",
       "      <th>33</th>\n",
       "      <td>18</td>\n",
       "      <td>24</td>\n",
       "    </tr>\n",
       "    <tr>\n",
       "      <th>34</th>\n",
       "      <td>16</td>\n",
       "      <td>27</td>\n",
       "    </tr>\n",
       "    <tr>\n",
       "      <th>35</th>\n",
       "      <td>14</td>\n",
       "      <td>35</td>\n",
       "    </tr>\n",
       "    <tr>\n",
       "      <th>36</th>\n",
       "      <td>12</td>\n",
       "      <td>40</td>\n",
       "    </tr>\n",
       "  </tbody>\n",
       "</table>\n",
       "</div>"
      ],
      "text/plain": [
       "    alt1200  alt200\n",
       "32       16      10\n",
       "33       18      24\n",
       "34       16      27\n",
       "35       14      35\n",
       "36       12      40"
      ]
     },
     "execution_count": 35,
     "metadata": {},
     "output_type": "execute_result"
    }
   ],
   "source": [
    "# scales = observed data\n",
    "scales = np.array([[16, 18, 16, 14, 12], [10, 24, 27, 35, 40]]).T\n",
    "df = pd.DataFrame(scales)\n",
    "df.columns = ['alt1200', 'alt200']\n",
    "df.index = [32, 33, 34, 35, 36]\n",
    "df"
   ]
  },
  {
   "cell_type": "code",
   "execution_count": 36,
   "metadata": {},
   "outputs": [
    {
     "data": {
      "text/html": [
       "<div>\n",
       "<style scoped>\n",
       "    .dataframe tbody tr th:only-of-type {\n",
       "        vertical-align: middle;\n",
       "    }\n",
       "\n",
       "    .dataframe tbody tr th {\n",
       "        vertical-align: top;\n",
       "    }\n",
       "\n",
       "    .dataframe thead th {\n",
       "        text-align: right;\n",
       "    }\n",
       "</style>\n",
       "<table border=\"1\" class=\"dataframe\">\n",
       "  <thead>\n",
       "    <tr style=\"text-align: right;\">\n",
       "      <th></th>\n",
       "      <th>alt1200</th>\n",
       "      <th>alt200</th>\n",
       "    </tr>\n",
       "  </thead>\n",
       "  <tbody>\n",
       "    <tr>\n",
       "      <th>32</th>\n",
       "      <td>16</td>\n",
       "      <td>11</td>\n",
       "    </tr>\n",
       "    <tr>\n",
       "      <th>33</th>\n",
       "      <td>18</td>\n",
       "      <td>25</td>\n",
       "    </tr>\n",
       "    <tr>\n",
       "      <th>34</th>\n",
       "      <td>16</td>\n",
       "      <td>28</td>\n",
       "    </tr>\n",
       "    <tr>\n",
       "      <th>35</th>\n",
       "      <td>14</td>\n",
       "      <td>36</td>\n",
       "    </tr>\n",
       "    <tr>\n",
       "      <th>36</th>\n",
       "      <td>12</td>\n",
       "      <td>41</td>\n",
       "    </tr>\n",
       "  </tbody>\n",
       "</table>\n",
       "</div>"
      ],
      "text/plain": [
       "    alt1200  alt200\n",
       "32       16      11\n",
       "33       18      25\n",
       "34       16      28\n",
       "35       14      36\n",
       "36       12      41"
      ]
     },
     "execution_count": 36,
     "metadata": {},
     "output_type": "execute_result"
    }
   ],
   "source": [
    "df.alt200 = df.alt200 + 1\n",
    "df"
   ]
  },
  {
   "cell_type": "markdown",
   "metadata": {},
   "source": [
    "### Simulação de ir aumentando a col"
   ]
  },
  {
   "cell_type": "code",
   "execution_count": 37,
   "metadata": {},
   "outputs": [
    {
     "name": "stdout",
     "output_type": "stream",
     "text": [
      "%d) 0\n",
      "adota-se a Ha: distribuições estatisticamente diferentes, statistic = 13.949, p-value = 7.458e-03\n",
      "Erro total = 227\n",
      "Graus de liberdade (dof) = 4\n",
      "-----------\n",
      "%d) 1\n",
      "adota-se a Ha: distribuições estatisticamente diferentes, statistic = 14.772, p-value = 5.198e-03\n",
      "Erro total = 235\n",
      "Graus de liberdade (dof) = 4\n",
      "-----------\n",
      "%d) 2\n",
      "adota-se a Ha: distribuições estatisticamente diferentes, statistic = 15.691, p-value = 3.464e-03\n",
      "Erro total = 243\n",
      "Graus de liberdade (dof) = 4\n",
      "-----------\n",
      "%d) 3\n",
      "adota-se a Ha: distribuições estatisticamente diferentes, statistic = 16.722, p-value = 2.189e-03\n",
      "Erro total = 251\n",
      "Graus de liberdade (dof) = 4\n",
      "-----------\n",
      "%d) 4\n",
      "adota-se a Ha: distribuições estatisticamente diferentes, statistic = 17.886, p-value = 1.299e-03\n",
      "Erro total = 260\n",
      "Graus de liberdade (dof) = 4\n",
      "-----------\n"
     ]
    }
   ],
   "source": [
    "# scales = observed data\n",
    "scales = np.array([[16, 18, 16, 14, 12], [10, 24, 27, 35, 40]]).T\n",
    "df = pd.DataFrame(scales)\n",
    "df.columns = ['alt1200', 'alt200']\n",
    "df.index = [32, 33, 34, 35, 36]\n",
    "df\n",
    "\n",
    "for i in range(5):\n",
    "    print('%d)', i)\n",
    "    df.alt200 = df.alt200 -1\n",
    "    chi2, p, dof, expected, erro, stri = chi2_text(df, verbose=True)\n",
    "    print('-----------')\n",
    "    "
   ]
  },
  {
   "cell_type": "code",
   "execution_count": 38,
   "metadata": {},
   "outputs": [
    {
     "data": {
      "text/html": [
       "<div>\n",
       "<style scoped>\n",
       "    .dataframe tbody tr th:only-of-type {\n",
       "        vertical-align: middle;\n",
       "    }\n",
       "\n",
       "    .dataframe tbody tr th {\n",
       "        vertical-align: top;\n",
       "    }\n",
       "\n",
       "    .dataframe thead th {\n",
       "        text-align: right;\n",
       "    }\n",
       "</style>\n",
       "<table border=\"1\" class=\"dataframe\">\n",
       "  <thead>\n",
       "    <tr style=\"text-align: right;\">\n",
       "      <th></th>\n",
       "      <th>alt1200</th>\n",
       "      <th>alt200</th>\n",
       "    </tr>\n",
       "  </thead>\n",
       "  <tbody>\n",
       "    <tr>\n",
       "      <th>32</th>\n",
       "      <td>16</td>\n",
       "      <td>5</td>\n",
       "    </tr>\n",
       "    <tr>\n",
       "      <th>33</th>\n",
       "      <td>18</td>\n",
       "      <td>19</td>\n",
       "    </tr>\n",
       "    <tr>\n",
       "      <th>34</th>\n",
       "      <td>16</td>\n",
       "      <td>22</td>\n",
       "    </tr>\n",
       "    <tr>\n",
       "      <th>35</th>\n",
       "      <td>14</td>\n",
       "      <td>30</td>\n",
       "    </tr>\n",
       "    <tr>\n",
       "      <th>36</th>\n",
       "      <td>12</td>\n",
       "      <td>35</td>\n",
       "    </tr>\n",
       "  </tbody>\n",
       "</table>\n",
       "</div>"
      ],
      "text/plain": [
       "    alt1200  alt200\n",
       "32       16       5\n",
       "33       18      19\n",
       "34       16      22\n",
       "35       14      30\n",
       "36       12      35"
      ]
     },
     "execution_count": 38,
     "metadata": {},
     "output_type": "execute_result"
    }
   ],
   "source": [
    "df"
   ]
  },
  {
   "cell_type": "markdown",
   "metadata": {},
   "source": [
    "### Se eu tiver 3 altitude (0m, 200m, 1200m)\n",
    "### Grau de liberdade vai mudar\n",
    "### Erro tende a aumentar"
   ]
  },
  {
   "cell_type": "code",
   "execution_count": 39,
   "metadata": {},
   "outputs": [
    {
     "name": "stdout",
     "output_type": "stream",
     "text": [
      "[[16 10]\n",
      " [18 24]\n",
      " [16 27]\n",
      " [14 35]\n",
      " [12 40]]\n",
      "adota-se a Ha: distribuições estatisticamente diferentes, statistic = 13.210, p-value = 1.030e-02\n",
      "Erro total = 220\n",
      "Graus de liberdade (dof) = 4\n"
     ]
    }
   ],
   "source": [
    "# scales = observed data\n",
    "scales = np.array([[16, 18, 16, 14, 12], [10, 24, 27, 35, 40]]).T\n",
    "print(scales)\n",
    "\n",
    "df = pd.DataFrame(scales)\n",
    "df.columns = ['alt1200', 'alt200']\n",
    "\n",
    "\n",
    "chi2, p, dof, expected, erro, stri = chi2_text(df, verbose=True)"
   ]
  },
  {
   "cell_type": "code",
   "execution_count": 40,
   "metadata": {},
   "outputs": [
    {
     "name": "stdout",
     "output_type": "stream",
     "text": [
      "[[16 16 10]\n",
      " [15 18 24]\n",
      " [14 16 27]\n",
      " [12 14 35]\n",
      " [15 12 40]]\n",
      "adota-se a Ha: distribuições estatisticamente diferentes, statistic = 17.159, p-value = 2.850e-02\n",
      "Erro total = 325\n",
      "Graus de liberdade (dof) = 8\n"
     ]
    }
   ],
   "source": [
    "# scales = observed data\n",
    "scales = np.array([[16, 15, 14, 12, 15], [16, 18, 16, 14, 12], [10, 24, 27, 35, 40]]).T\n",
    "print(scales)\n",
    "\n",
    "df = pd.DataFrame(scales)\n",
    "df.columns = ['alt0', 'alt1200', 'alt200']\n",
    "\n",
    "chi2, p, dof, expected, erro, stri = chi2_text(df, verbose=True)"
   ]
  },
  {
   "cell_type": "markdown",
   "metadata": {},
   "source": [
    "### Distribuição chi-quadrado"
   ]
  },
  {
   "cell_type": "code",
   "execution_count": 41,
   "metadata": {},
   "outputs": [],
   "source": [
    "# 2 altitudes\n",
    "scales = np.array([[16, 18, 16, 14, 12], [10, 24, 27, 35, 40]]).T\n",
    "df1 = pd.DataFrame(scales)\n",
    "df1.columns = ['alt1200', 'alt200']\n",
    "\n",
    "# 3 altitudes\n",
    "scales = np.array([[16, 15, 14, 12, 15], [16, 18, 16, 14, 12], [10, 24, 27, 35, 40]]).T\n",
    "df2 = pd.DataFrame(scales)\n",
    "df2.columns = ['alt0', 'alt1200', 'alt200']\n",
    "\n",
    "# 5 altitudes\n",
    "scales = np.array([[16, 18, 16, 14, 10], \n",
    "                   [17, 19, 16, 13, 15],\n",
    "                   [32, 24, 18, 11, 12],\n",
    "                   [16, 18, 12, 16, 12],\n",
    "                   [20, 18, 18, 16, 11]]).T\n",
    "df3 = pd.DataFrame(scales)\n",
    "df3.columns = ['alt0', 'alt1', 'alt2', 'alt1200', 'alt200']\n"
   ]
  },
  {
   "cell_type": "code",
   "execution_count": 42,
   "metadata": {},
   "outputs": [
    {
     "name": "stdout",
     "output_type": "stream",
     "text": [
      "0 4 13.209586367265107 blue\n",
      "1 8 17.158639016745646 green\n",
      "2 16 9.412990915319478 red\n"
     ]
    },
    {
     "data": {
      "image/png": "[encoded data removed]",
      "text/plain": [
       "<Figure size 864x432 with 1 Axes>"
      ]
     },
     "metadata": {
      "needs_background": "light"
     },
     "output_type": "display_data"
    }
   ],
   "source": [
    "N = 300\n",
    "colors = ['blue', 'green', 'red']\n",
    "\n",
    "fig = plt.figure(figsize=(12,6))\n",
    "\n",
    "for i in range(3):\n",
    "    if   i == 0: df = df1\n",
    "    elif i == 1: df = df2\n",
    "    else:        df = df3\n",
    "        \n",
    "    color = colors[i]\n",
    "    chi2, p, dof, expected, erro, stri = chi2_text(df, verbose=False)\n",
    "    print(i, dof, chi2, color)\n",
    "\n",
    "    ax = sns.distplot(np.random.chisquare(df=dof, size=N), hist=False, color=color);\n",
    "\n",
    "\n",
    "    ax.annotate('chi2 stat dof=%d, pvalue=%.1e'%(dof, p), xy=(chi2+.21, 0.02), xytext=(chi2+.8, 0.04*(i+1)),\n",
    "                color = color,\n",
    "                arrowprops=dict(arrowstyle=\"->\",\n",
    "                                connectionstyle=\"angle3,angleA=0,angleB=-90\", color=color));\n",
    "    \n",
    "    ax.axvline(x=chi2, ymin=0, ymax=.1, color=color)\n"
   ]
  },
  {
   "cell_type": "code",
   "execution_count": null,
   "metadata": {},
   "outputs": [],
   "source": []
  },
  {
   "cell_type": "markdown",
   "metadata": {},
   "source": [
    "### Adendo da distribuição de chi-quadrado"
   ]
  },
  {
   "cell_type": "code",
   "execution_count": 43,
   "metadata": {},
   "outputs": [
    {
     "data": {
      "text/plain": [
       "(0, 9)"
      ]
     },
     "execution_count": 43,
     "metadata": {},
     "output_type": "execute_result"
    },
    {
     "data": {
      "image/png": "[encoded data removed]",
      "text/plain": [
       "<Figure size 1008x504 with 1 Axes>"
      ]
     },
     "metadata": {
      "needs_background": "light"
     },
     "output_type": "display_data"
    }
   ],
   "source": [
    "mu = 0\n",
    "sdv = 1\n",
    "N = 1000\n",
    "\n",
    "dist1 = np.random.normal(mu, sdv, N)**2\n",
    "dist2 = np.random.normal(mu, sdv, N)**2\n",
    "\n",
    "\n",
    "chi2_2 = dist1 + dist2\n",
    "\n",
    "plt.figure(figsize=(14,7))\n",
    "ax = sns.distplot(dist1, color='blue',  hist=True, kde=False, norm_hist=True, rug=True, rug_kws={\"color\": 'blue', \"alpha\": .2,})\n",
    "ret = sns.distplot(chi2_2, color='red', hist=True, kde=False, norm_hist=True, rug=True, rug_kws={\"color\": 'red', \"alpha\": .2,}, ax=ax)\n",
    "\n",
    "# fit the chi2 distribution\n",
    "from scipy import stats\n",
    "\n",
    "df = 1\n",
    "xseq = np.linspace(stats.chi2.ppf(0.01, df), stats.chi2.ppf(0.99, df), 100)\n",
    "ax.plot(xseq, stats.chi2.pdf(xseq, df), color='navy')\n",
    "\n",
    "df = 2\n",
    "xseq = np.linspace(stats.chi2.ppf(0.01, df), stats.chi2.ppf(0.99, df), 100)\n",
    "ax.plot(xseq, stats.chi2.pdf(xseq, df), color='darkred')\n",
    "\n",
    "plt.ylim(0, 2)\n",
    "plt.xlim(0,9)"
   ]
  },
  {
   "cell_type": "code",
   "execution_count": null,
   "metadata": {},
   "outputs": [],
   "source": []
  },
  {
   "cell_type": "code",
   "execution_count": 44,
   "metadata": {},
   "outputs": [
    {
     "data": {
      "text/plain": [
       "(0, 9)"
      ]
     },
     "execution_count": 44,
     "metadata": {},
     "output_type": "execute_result"
    },
    {
     "data": {
      "image/png": "[encoded data removed]",
      "text/plain": [
       "<Figure size 864x432 with 1 Axes>"
      ]
     },
     "metadata": {
      "needs_background": "light"
     },
     "output_type": "display_data"
    }
   ],
   "source": [
    "dist3 = np.random.normal(mu, sdv, N)**2\n",
    "\n",
    "chi2_3 = dist1 + dist2 + dist3\n",
    "\n",
    "plt.figure(figsize=(12,6))\n",
    "ax  = sns.distplot(dist2,  color='blue',   hist=True, kde=False, norm_hist=True, rug=True, rug_kws={\"color\": 'blue', \"alpha\": .2,})\n",
    "ret = sns.distplot(chi2_2, color='red',    hist=True, kde=False, norm_hist=True, rug=True, rug_kws={\"color\": 'red', \"alpha\": .2,}, ax=ax)\n",
    "ret = sns.distplot(chi2_3, color='yellow', hist=True, kde=False, norm_hist=True, rug=True, rug_kws={\"color\": 'yellow', \"alpha\": .2,}, ax=ax)\n",
    "\n",
    "df = 1\n",
    "xseq = np.linspace(stats.chi2.ppf(0.01, df), stats.chi2.ppf(0.99, df), 100)\n",
    "ax.plot(xseq, stats.chi2.pdf(xseq, df), color='navy')\n",
    "\n",
    "df = 2\n",
    "xseq = np.linspace(stats.chi2.ppf(0.01, df), stats.chi2.ppf(0.99, df), 100)\n",
    "ax.plot(xseq, stats.chi2.pdf(xseq, df), color='darkred')\n",
    "\n",
    "df = 3\n",
    "xseq = np.linspace(stats.chi2.ppf(0.01, df), stats.chi2.ppf(0.99, df), 100)\n",
    "ax.plot(xseq, stats.chi2.pdf(xseq, df), color='orange')\n",
    "\n",
    "plt.ylim(0, 1)\n",
    "plt.xlim(0,9)"
   ]
  },
  {
   "cell_type": "code",
   "execution_count": null,
   "metadata": {},
   "outputs": [],
   "source": []
  }
 ],
 "metadata": {
  "kernelspec": {
   "display_name": "Python 3",
   "language": "python",
   "name": "python3"
  },
  "language_info": {
   "codemirror_mode": {
    "name": "ipython",
    "version": 3
   },
   "file_extension": ".py",
   "mimetype": "text/x-python",
   "name": "python",
   "nbconvert_exporter": "python",
   "pygments_lexer": "ipython3",
   "version": "3.6.9"
  }
 },
 "nbformat": 4,
 "nbformat_minor": 4
}
