{
 "cells": [
  {
   "cell_type": "code",
   "execution_count": null,
   "metadata": {},
   "outputs": [],
   "source": [
    "from scipy import stats\n",
    "import numpy as np\n",
    "import pandas as pd\n",
    "\n",
    "from scipy import stats\n",
    "\n",
    "import seaborn as sns\n",
    "import matplotlib.pyplot as plt\n",
    "%matplotlib inline"
   ]
  },
  {
   "cell_type": "markdown",
   "metadata": {},
   "source": [
    "### Uma distribuição normal - contínua\n",
    "\n",
    " - media - mean - loc\n",
    " - desvio padrão - scale"
   ]
  },
  {
   "cell_type": "code",
   "execution_count": null,
   "metadata": {},
   "outputs": [],
   "source": [
    "mu  = 2\n",
    "sdv = 4\n",
    "N   = 1000\n",
    "\n",
    "samples = np.random.normal(loc=mu, scale=sdv, size=N)\n",
    "len(samples), np.min(samples), np.max(samples)"
   ]
  },
  {
   "cell_type": "markdown",
   "metadata": {},
   "source": [
    "### Média e Desvio Padrão Amostral calculados dos valores obtidos pela máquina randômica"
   ]
  },
  {
   "cell_type": "code",
   "execution_count": null,
   "metadata": {},
   "outputs": [],
   "source": [
    "muc = np.mean(samples)\n",
    "sdvc = np.std(samples)\n",
    "\n",
    "muc, sdvc"
   ]
  },
  {
   "cell_type": "code",
   "execution_count": null,
   "metadata": {},
   "outputs": [],
   "source": [
    "fig = plt.figure(figsize=(12, 6))\n",
    "\n",
    "ax = sns.distplot(samples, kde=False, rug=True, norm_hist=True,);\n",
    "plt.vlines(muc, 0, 0.1, color = 'black');\n",
    "plt.hlines(0.06, muc, muc+sdvc, color = 'red');\n",
    "\n",
    "#--- fitando a distribuição normal com muc e sdvc\n",
    "#---                          Percent Point Function (PPF)\n",
    "seqx = np.linspace(stats.norm.ppf(0.01, muc, sdvc), stats.norm.ppf(0.99, muc, sdvc), 100)\n",
    "sns.lineplot(seqx, stats.norm.pdf(seqx, muc, sdvc), color='navy')\n",
    "\n",
    "title = 'Distribuição normal com média = %.2f e desvio padrão = %.2f'%(mu, sdv)\n",
    "plt.title(title);"
   ]
  },
  {
   "cell_type": "code",
   "execution_count": null,
   "metadata": {},
   "outputs": [],
   "source": []
  },
  {
   "cell_type": "markdown",
   "metadata": {},
   "source": [
    "### O que é uma distribuição Z\n",
    "\n",
    "uma distribuição Z é uma distribuição centrada em 0 e com desvio padrão = 1\n",
    "ou seja é uma distribuição normalizada\n",
    "\n",
    "\n",
    "<font size=\"5\">Z = $\\frac{x -\\mu}{SSD}$</font>"
   ]
  },
  {
   "cell_type": "code",
   "execution_count": null,
   "metadata": {},
   "outputs": [],
   "source": [
    "z = (samples-mu)/sdv\n",
    "\n",
    "muZ = np.mean(z)\n",
    "sdvZ = np.std(z)\n",
    "\n",
    "fig = plt.figure(figsize=(12, 6))\n",
    "\n",
    "ax = sns.distplot(z, kde=False, rug=True, norm_hist=True,);\n",
    "plt.vlines(0, 0, 0.42, color = 'black');\n",
    "plt.hlines(.24, 0, 0+sdvZ, color = 'red');\n",
    "\n",
    "#--- fitando a distribuição normal com muc e sdvc\n",
    "#---                          Percent Point Function (PPF)\n",
    "# seqx = np.linspace(stats.norm.ppf(0.01, muZ, sdvZ), stats.norm.ppf(0.99, muZ, sdvZ), 100)\n",
    "seqx = np.linspace(-4, 4, 100)\n",
    "sns.lineplot(seqx, stats.norm.pdf(seqx, muZ, sdvZ), color='navy')\n",
    "\n",
    "title = 'Distribuição Z sempre tem média = %.2f e desvio padrão = %.2f'%(muZ, sdvZ)\n",
    "plt.title(title);"
   ]
  },
  {
   "cell_type": "code",
   "execution_count": null,
   "metadata": {},
   "outputs": [],
   "source": []
  },
  {
   "cell_type": "markdown",
   "metadata": {},
   "source": [
    "### Como se compara duas distribuições Z?\n",
    "\n",
    "a primeira distribuição é a controle\n",
    "dela obtemos a média e o desvio padrão\n",
    "\n",
    "a segunda distribuição é o case\n",
    "obetmos a distribuição z "
   ]
  },
  {
   "cell_type": "code",
   "execution_count": null,
   "metadata": {},
   "outputs": [],
   "source": [
    "mu1 = 2; sdv1 = 1.5\n",
    "mu2 = 3; sdv2 = 2.0\n",
    "N   = 1000\n",
    "\n",
    "samp1 = np.random.normal(loc=mu1, scale=sdv1, size=N)\n",
    "samp2 = np.random.normal(loc=mu2, scale=sdv2, size=N)\n",
    "print(np.mean(samp2))\n",
    "\n",
    "z1 = (samp1-mu1)/sdv1\n",
    "#-- z2 em relação aos parâmetros de z1 !!!\n",
    "z2 = (samp2-mu1)/sdv1\n",
    "\n",
    "muZ1 = np.mean(z1); sdvZ1 = np.std(z1)\n",
    "muZ2 = np.mean(z2); sdvZ2 = np.std(z2)\n",
    "\n",
    "muc1 = np.mean(z1); sdvc1 = np.std(z1)\n",
    "muc2 = np.mean(z2); sdvc2 = np.std(z2)\n",
    "\n",
    "fig = plt.figure(figsize=(12, 6))\n",
    "\n",
    "ax  = sns.distplot(z1, kde=False, rug=True, norm_hist=True, color='blue', rug_kws={\"color\": 'blue', \"alpha\": .1,})\n",
    "ret = sns.distplot(z2, kde=False, rug=True, norm_hist=True, color='red',  rug_kws={\"color\": 'red',  \"alpha\": .1,}, ax=ax)\n",
    "\n",
    "plt.vlines(  0, 0, 0.42,    color = 'navy')\n",
    "plt.hlines(.23, 0, 0+sdvZ1, color = 'navy');\n",
    "\n",
    "plt.vlines(  muc2, 0, 0.31, color = 'red', linestyle='--')\n",
    "plt.hlines(.18, muc2, muc2+sdvZ2, color = 'red', linestyle='--')\n",
    "\n",
    "plt.vlines(2, 0, 0.1, color = 'black', linestyle='-.')\n",
    "\n",
    "#--- fitando a distribuição normal com muc e sdvc\n",
    "#---                          Percent Point Function (PPF)\n",
    "# seqx = np.linspace(mu1-4*sdv1, mu2+4*sdv2, 100)\n",
    "seqx = np.linspace(-5, 9, 100)\n",
    "sns.lineplot(seqx, stats.norm.pdf(seqx, muZ1, sdvZ1), color='navy')\n",
    "sns.lineplot(seqx, stats.norm.pdf(seqx, muZ2, sdvZ2), color='pink')\n",
    "\n",
    "title = 'Distância entre distribuições Z'\n",
    "title += '\\nZ1 tem mu1 = %.2f e ssd1 = %.2f'%(muc1, sdvc1)\n",
    "title += '\\nZ2 tem mu2 = %.2f e ssd2 = %.2f'%(muc2, sdvc2)\n",
    "plt.title(title);"
   ]
  },
  {
   "cell_type": "markdown",
   "metadata": {},
   "source": [
    "### Pontos em Z2 além de 2 (SSD)"
   ]
  },
  {
   "cell_type": "code",
   "execution_count": null,
   "metadata": {},
   "outputs": [],
   "source": [
    "z2_sig = z2[z2 > 2]\n",
    "len(z2_sig), z2_sig[:10]"
   ]
  },
  {
   "cell_type": "code",
   "execution_count": null,
   "metadata": {},
   "outputs": [],
   "source": []
  },
  {
   "cell_type": "markdown",
   "metadata": {},
   "source": [
    "### Distância entre distribuições - preparação para o teste-t"
   ]
  },
  {
   "cell_type": "code",
   "execution_count": null,
   "metadata": {},
   "outputs": [],
   "source": [
    "mus = [1, 3]\n",
    "sds = [0.3, 0.8]\n",
    "N = 1000\n",
    "\n",
    "samp1 = np.random.normal(mus[0], sds[0], N)\n",
    "samp2 = np.random.normal(mus[1], sds[1], N)\n",
    "\n",
    "df = pd.DataFrame([samp1, samp2]).T\n",
    "df.columns=['dist1', 'dist2']\n",
    "df.head(3)"
   ]
  },
  {
   "cell_type": "markdown",
   "metadata": {},
   "source": [
    "### Duas distribuições sobrepostas"
   ]
  },
  {
   "cell_type": "code",
   "execution_count": null,
   "metadata": {
    "scrolled": false
   },
   "outputs": [],
   "source": [
    "colors = ['red', 'blue']\n",
    "fig = plt.figure(figsize=(12, 6))\n",
    "\n",
    "for i in range(2):\n",
    "    sns.distplot(df['dist%d'%(i+1)], color=colors[i], hist=True, kde=True, rug=True,\n",
    "                rug_kws={\"color\": colors[i], \"alpha\": .2,})\n",
    "\n",
    "mu1 = df.dist1.mean()\n",
    "sd1 = df.dist1.std()\n",
    "\n",
    "mu2 = df.dist2.mean()\n",
    "sd2 = df.dist2.std()\n",
    "\n",
    "    \n",
    "title  =   \"Distribuição 1 (vermelha) tem média = %.1f e SSD = %.2f\"%(mu1, sd1)\n",
    "title += \"\\nDistribuição 2 (azul) tem média = %.1f e SSD = %.2f\"%(mu2, sd2)\n",
    "plt.title(title);"
   ]
  },
  {
   "cell_type": "markdown",
   "metadata": {},
   "source": [
    "### O que é teste de hipótese?\n",
    "\n",
    "Nas diversas áreas do conhecimento da Economia ao Marketing, da Sociologia à Biologia Molecular, sempre se deseja comparar 2 ou mais grupos. \n",
    "\n",
    "Usualmente, se deseja comparar um grupo controle versus um grupo 'alterado'. Por exemplo, convocamos 60 pacientes diabéticos, 30 mulheres e 30 homens, não medicados. Obtemos a média glicêmica 2 horas um café da manhã controlado, por exemplo. Dois dias após o primeiro teste de glicemia, medicamos 50% dos pacientes e oferecemos placebo para os outros 50% dos pacientes (um produto inerte). Denominamos de Teste Duplo Cego caso quem administre o medicamento (ou placebo) não saiba o que está administrando, e caso os pacientes também não saibam. \n",
    "https://en.wikipedia.org/wiki/Blinded_experiment\n",
    "\n",
    "Após 5 dias, p.ex., refazemos o teste de glicemia, e o que podemos comparar?\n",
    "  - Placebo x Medicado \n",
    "  - Placebo x Controle\n",
    "  - Medicado x Controle\n",
    "  - Homens x Mulheres\n",
    "\n",
    "Porém, o que realmente queremos saber? \n",
    "  - **Será que o medicamento fez efeito?**\n",
    "  \n",
    "Para responder esta pergunta o ideal é:\n",
    "  - Fazer a diferença entre as médias de dois grupos (medicados x controle, p.ex.)\n",
    "  - Hipótese 1: a diferença fica próxima a zero \n",
    "    - Neste caso as distribuições devem ser parecidas, mas temoso que analisar o desvio padrão final!\n",
    "  - Hipótese 2: a diferença se afasta de zero:\n",
    "    - Mas, o quato?\n",
    "      - Se muito - as distribuições devem ser diferentes\n",
    "      - Se pouco - as distribuições devem ser similares\n",
    "  - Portanto, precisamos quantificar:\n",
    "    - muito e pouco\n",
    "      - Para isto Gosset criou o teste-t \"de student\" (student era seu codnome, pois ele trabalhava numa cervejaria na Irlanda e não podia publicar um paper trabalhando lá!)\n",
    "      - Logo, o teste-t aleḿ de levar em conta a diferença entre as médias, deve achar uma métrica do quanto acreditamos que diferença se afasta do zero!\n",
    "      - A esta métrica denominamos Intervalo de Confiança (IC).\n",
    "      \n",
    "Portanto, o teste t tem que levar em conta:\n",
    "  - A diferença da média entre as distribuições\n",
    "  - O desvio padrão\n",
    "  - E definir uma métrica para saber o quanto estamos longe do zero.\n",
    "  \n",
    "Por fim, precisamos criar um novo parâmetro matemático, o Desvio Padrão das Médias, e entender no decorrer do desenvolvimento o que ele significa:\n",
    "  - O teste-t depende:\n",
    "    - Da diferença entre as médias\n",
    "    - Relativas ao desvio padrão amostral\n",
    "    - E ele deve funcionar desde números amostrais (n) grandes até pequenos\n",
    "    - Além disto, as distribuições devem ser distribuições normais.\n",
    "    - Caso o n << 30, fica difícil de afirmar que uma distribuição é ou não normal\n",
    "    - Porém, caso seja uma medida pontual, repetida várias vezes, podemos afirmar que esta deve ser normal.\n",
    "    \n",
    "Importante (não demonstraremos aqui)\n",
    "  - Uma médida pontual, tomada repetidamente, tende a uma distribuição normal:\n",
    "    - ora erramos para mais, ora erramos para menos\n",
    "    - ora num intervalo de métrica, observamos valores maiores e ora menores\n",
    "    - a medida que o número amostra cresce: TEMOS MAIS CERTEZA DO VALOR MÉDIO REAL\n",
    "    \n",
    "  - O importante é que esta média pode ser amostrada de qualquer distribuição\n",
    "    - discreta: como binomial, csi-quadrado ou Poisson\n",
    "    - contínua: como normal, beta, gamma, etc\n",
    "    \n",
    "Ou seja se quemos aferir que numa dada avenida há em média 3.5 acidentes por mês (distribuição de Poisson), é só medirmos quantos acidentes tem durante 10 meses seguido, p.ex., e a média tenderá à distribuição normal, independente que a distribuição de acidentes no mês seja poissonica.\n",
    "\n",
    "Isto ficou comprovado com o Teorema Central do Limite.\n",
    "https://en.wikipedia.org/wiki/Central_limit_theorem\n",
    "\n",
    "O Teorema central do limite (ou \"teorema do limite central\") é um importante resultado da estatística ... em teoria das probabilidades, esse teorema afirma que quando o tamanho da amostra aumenta, a distribuição amostral da sua média aproxima-se cada vez mais de uma distribuição normal. Este resultado é fundamental na teoria da inferência estatística.[1] -> copiado de https://pt.wikipedia.org/wiki/Teorema_central_do_limite"
   ]
  },
  {
   "cell_type": "markdown",
   "metadata": {},
   "source": [
    "### Voltando ao teste de hipótese\n",
    "\n",
    "   Teste de Hipótese surge de forma a podermos fazer inferências. Algo é maior que o controle? Os meses de verão são mais úmidos que os de inverno no SE do Brasil? Para tanto, como observamos acima, precisamos de duas hipóteses:\n",
    "   \n",
    "   - sim a distribuição 1 é similar    à dois: Hipótese Nula        ou H0\n",
    "   - não a distribuição 1 é diferente da dois: Hipótese Alternativa ou Ha\n",
    "   \n",
    "https://en.wikipedia.org/wiki/Statistical_hypothesis_testing"
   ]
  },
  {
   "cell_type": "markdown",
   "metadata": {},
   "source": [
    "Lembre-se do problema de encontrarmos pessoas muito altas, numa cidade, ou muito baixas. A distribuição de alturas é regida pela distribuição normal, e as bordas da distribuição espelham, para menos os baixos e para mais os altos. Se ordenarmos os indivíduos por altura, e selecionamos os 2.5% de indivíduos iniciais à esquerda teremos os de baixa estatura, e ao selecionarmos os 2.5% de indivídulos finais à direita teremos os muito altos. \n",
    "\n",
    "O conceito de 2.5% á esquerda e 2.5% à direita é um limiar (threshold) adotado numa distribuição bi-caudal.\n",
    "Numa distribuição onde somente queremos efeitos para à direita (maior que a média) ou para à esquerda (menor que a média) tomamos o valor de limiar de 5%, para uma distribuição mono-caudal."
   ]
  },
  {
   "cell_type": "code",
   "execution_count": null,
   "metadata": {},
   "outputs": [],
   "source": [
    "mu1  = 172\n",
    "sdv1 = 12\n",
    "N   = 1000\n",
    "\n",
    "samp1 = np.random.normal(loc=mu1, scale=sdv1, size=N)\n",
    "muc1 = np.mean(samp1); sdvc1 = np.std(samp1)\n",
    "\n",
    "perc25_inf = stats.norm.ppf(0.025, mu1, sdv1)\n",
    "perc25_sup = stats.norm.ppf(0.975, mu1, sdv1)\n",
    "\n",
    "muc1, sdvc1, perc25_inf, perc25_sup"
   ]
  },
  {
   "cell_type": "code",
   "execution_count": null,
   "metadata": {},
   "outputs": [],
   "source": [
    "print(\"Indívíduos abaixo de %.1f cm são muito baixos\"%(perc25_inf))\n",
    "print(\"Indívíduos acima  de %.1f cm são muito altos\"%(perc25_sup))"
   ]
  },
  {
   "cell_type": "code",
   "execution_count": null,
   "metadata": {},
   "outputs": [],
   "source": [
    "fig = plt.figure(figsize=(12, 6))\n",
    "\n",
    "ax  = sns.distplot(samp1, kde=False, rug=True, norm_hist=True, color='blue', rug_kws={\"color\": 'blue', \"alpha\": .1,})\n",
    "plt.vlines(mu1, 0, 0.06,    color = 'red')\n",
    "plt.vlines(mu1+sdv1, 0, 0.06, color = 'red', linestyle='--')\n",
    "plt.vlines(mu1-sdv1, 0, 0.06, color = 'red', linestyle='--')\n",
    "\n",
    "\n",
    "plt.vlines(perc25_inf, 0, 0.02, color = 'green', linestyle='-.', linewidth=3)\n",
    "plt.vlines(perc25_sup, 0, 0.02, color = 'green', linestyle='-.', linewidth=3)\n",
    "\n",
    "\n",
    "#--- fitando a distribuição normal com muc e sdvc\n",
    "#---                          Percent Point Function (PPF)\n",
    "# seqx = np.linspace(mu1-4*sdv1, mu2+4*sdv2, 100)\n",
    "seqx = np.linspace(120, 220, 100)\n",
    "sns.lineplot(seqx, stats.norm.pdf(seqx, muc1, sdvc1), color='navy')\n",
    "\n",
    "title = 'Distribuição normal de altura de indivíduos em cm'\n",
    "title += '\\ncom media = %.2f e SSD = %.2f cm com n = %d'%(muc1, sdvc1, N)\n",
    "title += \"\\nIndívíduos abaixo de %.1f cm são muito baixos, 2.5 percentil\"%(perc25_inf)\n",
    "title += \"\\nIndívíduos acima  de %.1f cm são muito altos, %.1f percentil\"%(perc25_sup, (1-0.025)*100)\n",
    "plt.title(title);"
   ]
  },
  {
   "cell_type": "code",
   "execution_count": null,
   "metadata": {},
   "outputs": [],
   "source": []
  },
  {
   "cell_type": "markdown",
   "metadata": {},
   "source": [
    "### Teste t\n",
    "\n",
    "statistician William Sealy Gosset \n",
    "\n",
    "<font size=\"6\">t-stat = $\\frac{<X>-\\mu}{\\frac{S}{\\sqrt(n)}}$</font>\n",
    "\n",
    "de forma mais generalizada dadas duas distribuições X1 e X2\n",
    "\n",
    "<font size=\"6\">t-stat = $\\frac{<X1>-<X2>}{\\sqrt( \\frac{var1}{n1} + \\frac{var2}{n2} }$</font>"
   ]
  },
  {
   "cell_type": "markdown",
   "metadata": {},
   "source": [
    "### Distribuição t-student"
   ]
  },
  {
   "cell_type": "code",
   "execution_count": null,
   "metadata": {},
   "outputs": [],
   "source": [
    "from scipy.stats import t\n",
    "\n",
    "df = 3\n",
    "mean, var, skew, kurt = t.stats(df, moments='mvsk')\n",
    "mean, var, skew, kurt"
   ]
  },
  {
   "cell_type": "code",
   "execution_count": null,
   "metadata": {},
   "outputs": [],
   "source": [
    "x = np.linspace(t.ppf(0.01, df), t.ppf(0.99, df), 100)\n",
    "plt.plot(x, t.pdf(x, df), 'r-', lw=5, alpha=0.6, label='t pdf');"
   ]
  },
  {
   "cell_type": "code",
   "execution_count": null,
   "metadata": {},
   "outputs": [],
   "source": [
    "colors = ['blue', 'red', 'green', 'yellow']\n",
    "dfs = [2, 4, 10, 30]\n",
    "\n",
    "plt.figure(figsize=(12,6))\n",
    "for i in range(4):\n",
    "    color = colors[i]\n",
    "    df    = dfs[i]\n",
    "    \n",
    "    x = np.linspace(t.ppf(0.01, df), t.ppf(0.99, df), 100)\n",
    "    plt.plot(x, t.pdf(x, df), 'r-', lw=5, alpha=0.6, label='t df=%d'%df, color=color);\n",
    "\n",
    "seqx = np.linspace(-7, 7, 100)\n",
    "plt.plot(seqx, stats.norm.pdf(seqx, 0, 1), color='black', label='normal dist.')\n",
    "plt.title(\"t-distribution & normal distribution (in black)\")\n",
    "plt.legend();"
   ]
  },
  {
   "cell_type": "code",
   "execution_count": null,
   "metadata": {},
   "outputs": [],
   "source": []
  },
  {
   "cell_type": "markdown",
   "metadata": {},
   "source": [
    "### Coeficiente de variação\n",
    "\n",
    "<font size=\"5\">$CV = \\frac{SD}{mu}$</font>\n",
    "\n",
    "### Tamanho do efeito (effect size)\n",
    "\n",
    "https://en.wikipedia.org/wiki/Effect_size\n",
    "\n",
    "<font size=\"5\">$\\theta = \\frac{\\mu_1 -\\mu_2}{SD}$</font>\n",
    "\n",
    "### Tamanho do efeito (effect size)\n",
    "\n",
    "https://en.wikipedia.org/wiki/Effect_size\n",
    "\n",
    "<font size=\"5\">$\\theta = \\frac{\\mu_1 -\\mu_2}{SD}$</font>\n",
    "\n",
    "\n",
    "### Markdown\n",
    "\n",
    "https://csrgxtu.github.io/2015/03/20/Writing-Mathematic-Fomulars-in-Markdown/ \n",
    "    \n",
    "https://jupyter-notebook.readthedocs.io/en/stable/examples/Notebook/Typesetting%20Equations.html\n",
    "    "
   ]
  },
  {
   "cell_type": "markdown",
   "metadata": {},
   "source": [
    "### Criando o eixo x"
   ]
  },
  {
   "cell_type": "code",
   "execution_count": null,
   "metadata": {},
   "outputs": [],
   "source": [
    "seqxs = []\n",
    "seqx1 = np.linspace(stats.norm.ppf(0.01, mus[0], sds[0]), stats.norm.ppf(0.99, mus[0], sds[0]), 100)\n",
    "seqxs.append(seqx1)\n",
    "seqx1[:5], seqx1[-10:-1]"
   ]
  },
  {
   "cell_type": "code",
   "execution_count": null,
   "metadata": {
    "scrolled": true
   },
   "outputs": [],
   "source": [
    "seqx2 = np.linspace(stats.norm.ppf(0.01, mus[1], sds[1]), stats.norm.ppf(0.99, mus[1], sds[1]), 100)\n",
    "seqxs.append(seqx2)\n",
    "seqx2[:5], seqx2[-10:-1]"
   ]
  },
  {
   "cell_type": "markdown",
   "metadata": {},
   "source": [
    "### Fazendo um stack para o barplot"
   ]
  },
  {
   "cell_type": "code",
   "execution_count": null,
   "metadata": {},
   "outputs": [],
   "source": [
    "mus = [1, 3]\n",
    "sds = [0.3, 0.8]\n",
    "N = 1000\n",
    "\n",
    "samp1 = np.random.normal(mus[0], sds[0], N)\n",
    "samp2 = np.random.normal(mus[1], sds[1], N)\n",
    "\n",
    "df = pd.DataFrame([samp1, samp2]).T\n",
    "df.columns=['dist1', 'dist2']\n",
    "df.head(3)"
   ]
  },
  {
   "cell_type": "code",
   "execution_count": null,
   "metadata": {},
   "outputs": [],
   "source": [
    "df2 = pd.DataFrame(df.dist1)\n",
    "df2['class'] = 'um'\n",
    "df2.columns = ['val', 'class']\n",
    "\n",
    "dfa = pd.DataFrame(df.dist2)\n",
    "dfa['class'] = 'dois'\n",
    "dfa.columns = ['val', 'class']\n",
    "\n",
    "# df2 = pd.concat([df2, dfa])\n",
    "df2 = df2.append(dfa)\n",
    "df2.tail(3)"
   ]
  },
  {
   "cell_type": "markdown",
   "metadata": {},
   "source": [
    "### t-test"
   ]
  },
  {
   "cell_type": "code",
   "execution_count": null,
   "metadata": {},
   "outputs": [],
   "source": [
    "colors = ['red', 'blue']\n",
    "fig = plt.figure(figsize=(14, 7))\n",
    "\n",
    "for i in range(2):\n",
    "    sns.distplot(df['dist%d'%(i+1)], color=colors[i], kde=False, rug=True, norm_hist=True,\n",
    "                rug_kws={\"color\": colors[i], \"alpha\": .2,})\n",
    "    \n",
    "    sns.lineplot(seqxs[i], stats.norm.pdf(seqxs[i], mus[i], sds[i]), color=colors[i])\n",
    "\n",
    "mu1 = df.dist1.mean()\n",
    "sd1 = df.dist1.std()\n",
    "\n",
    "mu2 = df.dist2.mean()\n",
    "sd2 = df.dist2.std()\n",
    "\n",
    "plt.axvline(x=mus[0], ymin=0, ymax=1.4, color='black')\n",
    "plt.axvline(x=mus[0]+sds[0], ymin=0, ymax=1.0, color='black', linestyle='--')\n",
    "plt.axvline(x=mus[0]-sds[0], ymin=0, ymax=1.0, color='black', linestyle='--')\n",
    "\n",
    "plt.axvline(x=mus[1], ymin=0, ymax=.6, color='black')\n",
    "plt.axvline(x=mus[1]+sds[1], ymin=0, ymax=.4, color='black', linestyle='--')\n",
    "plt.axvline(x=mus[1]-sds[1], ymin=0, ymax=.4, color='black', linestyle='--')\n",
    "\n",
    "head_width = 0.05\n",
    "\n",
    "# nsamp = N*sqrt(sds[0]**2/n**2 + sds[1]**2/n**2)\n",
    "SSD     = np.sqrt(sds[0]**2 + sds[1]**2)\n",
    "EffSize = (mus[1] - mus[0]) / SSD\n",
    "\n",
    "diff = mus[1]-mus[0]\n",
    "xdiff = mus[1] - (diff/2)\n",
    "\n",
    "sta, pval = stats.ttest_ind(df.dist1, df.dist2)\n",
    "text_stat = \"estatística t-test = %.2f, p-val = %.2e\"%(sta, pval)\n",
    "    \n",
    "plt.xlabel(\"values\")\n",
    "plt.ylabel(\"percentage (%)\")\n",
    "     \n",
    "title  =   \"Distribuição 1 (vermelha) tem media (SSD) = %.1f (%.2f) e n = %d amostras\"%(mu1, sd1, N)\n",
    "title += \"\\nDistribuição 2 (azul) %.1f (%.2f) e n = %d amostras\"%(mu2, sd2, N)\n",
    "title += '\\n' + text_stat\n",
    "plt.title(title);"
   ]
  },
  {
   "cell_type": "markdown",
   "metadata": {},
   "source": [
    "### Revendo o gráfico com todas as estatísticas"
   ]
  },
  {
   "cell_type": "code",
   "execution_count": null,
   "metadata": {},
   "outputs": [],
   "source": [
    "colors = ['red', 'blue']\n",
    "fig = plt.figure(figsize=(14, 7))\n",
    "\n",
    "for i in range(2):\n",
    "    sns.distplot(df['dist%d'%(i+1)], color=colors[i], kde=False, rug=True, norm_hist=True,\n",
    "                rug_kws={\"color\": colors[i], \"alpha\": .2,})\n",
    "    \n",
    "    sns.lineplot(seqxs[i], stats.norm.pdf(seqxs[i], mus[i], sds[i]), color=colors[i])\n",
    "\n",
    "mu1 = df.dist1.mean()\n",
    "sd1 = df.dist1.std()\n",
    "\n",
    "mu2 = df.dist2.mean()\n",
    "sd2 = df.dist2.std()\n",
    "\n",
    "plt.axvline(x=mus[0], ymin=0, ymax=1.4, color='black')\n",
    "plt.axvline(x=mus[0]+sds[0], ymin=0, ymax=1.0, color='black', linestyle='--')\n",
    "plt.axvline(x=mus[0]-sds[0], ymin=0, ymax=1.0, color='black', linestyle='--')\n",
    "\n",
    "plt.axvline(x=mus[1], ymin=0, ymax=.6, color='black')\n",
    "plt.axvline(x=mus[1]+sds[1], ymin=0, ymax=.4, color='black', linestyle='--')\n",
    "plt.axvline(x=mus[1]-sds[1], ymin=0, ymax=.4, color='black', linestyle='--')\n",
    "\n",
    "head_width = 0.05\n",
    "\n",
    "# nsamp = N*sqrt(sds[0]**2/n**2 + sds[1]**2/n**2)\n",
    "SSD = np.sqrt(sds[0]**2 + sds[1]**2)\n",
    "EffSize = (mus[1] - mus[0]) / SSD\n",
    "\n",
    "diff = mus[1]-mus[0]\n",
    "xdiff = mus[1] - (diff/2)\n",
    "yarrow = 0.7\n",
    "\n",
    "sta, pval = stats.ttest_ind(df.dist1, df.dist2)\n",
    "#text_stat = \"t-test statistics = %.2f, p-val = %.2e\"%(sta, pval)\n",
    "text_stat = \"estatística t-test = %.2f, p-val = %.2e\"%(sta, pval)\n",
    "    \n",
    "plt.arrow(mus[0], yarrow, (diff-2*head_width), 0, head_width=head_width, head_length=0.1, fc='k', ec='k')\n",
    "\n",
    "text = '$\\\\theta$ = %.2f, diff = %.1f, SSD = %.2f'%(EffSize, diff, SSD)\n",
    "plt.text(x=(xdiff-.65), y=(yarrow+.1), s=text)\n",
    "plt.xlabel(\"values\")\n",
    "plt.ylabel(\"percentage (%)\")\n",
    "     \n",
    "title  =   \"Distribuição 1 (vermelha) tem media (SSD) = %.1f (%.2f) e n = %d amostras\"%(mu1, sd1, N)\n",
    "title += \"\\nDistribuição 2 (azul) tem media (SSD) = %.1f (%.2f) e n = %d amostras\"%(mu2, sd2, N)\n",
    "title += '\\n' + text_stat + '\\nTamanho do efeito = %.2f'%(EffSize)\n",
    "plt.title(title);"
   ]
  },
  {
   "cell_type": "markdown",
   "metadata": {},
   "source": [
    "### Barplot invertido"
   ]
  },
  {
   "cell_type": "code",
   "execution_count": null,
   "metadata": {},
   "outputs": [],
   "source": [
    "fig = plt.figure(figsize=(14, 7))\n",
    "#sns.set(rc={\"figure.figsize\": (6,4)})\n",
    "sns.violinplot(x=\"val\", y=\"class\", data=df2, palette=['red', 'blue']) # , saturation=.05)\n",
    "plt.title(\"Distribuições\");"
   ]
  },
  {
   "cell_type": "code",
   "execution_count": null,
   "metadata": {},
   "outputs": [],
   "source": [
    "from matplotlib import gridspec\n",
    "\n",
    "# f, axes = plt.subplots(2, 1, figsize=(14, 16), sharex=True)\n",
    "\n",
    "colors = ['red', 'blue']\n",
    "fig = plt.figure(figsize=(14, 10))\n",
    "gs = gridspec.GridSpec(2, 1, height_ratios=[5, 2])\n",
    "\n",
    "axes = []\n",
    "axes.append(plt.subplot(gs[0]))\n",
    "axes.append(plt.subplot(gs[1]))\n",
    "\n",
    "mu1 = df.dist1.mean()\n",
    "sd1 = df.dist1.std()\n",
    "\n",
    "mu2 = df.dist2.mean()\n",
    "sd2 = df.dist2.std()\n",
    "\n",
    "for i in range(2):\n",
    "    sns.distplot(df['dist%d'%(i+1)], color=colors[i], kde=False, rug=True, norm_hist=True,\n",
    "                rug_kws={\"color\": colors[i], \"alpha\": .2,}, ax=axes[0])\n",
    "    \n",
    "    sns.lineplot(seqxs[i], stats.norm.pdf(seqxs[i], mus[i], sds[i]), color=colors[i], ax=axes[0])\n",
    "\n",
    "\n",
    "\n",
    "axes[0].axvline(x=mus[0], ymin=0, ymax=1.4, color='black')\n",
    "axes[0].axvline(x=mus[0]+sds[0], ymin=0, ymax=1.0, color='black', linestyle='--')\n",
    "axes[0].axvline(x=mus[0]-sds[0], ymin=0, ymax=1.0, color='black', linestyle='--')\n",
    "\n",
    "axes[0].axvline(x=mus[1], ymin=0, ymax=.6, color='black')\n",
    "axes[0].axvline(x=mus[1]+sds[1], ymin=0, ymax=.4, color='black', linestyle='--')\n",
    "axes[0].axvline(x=mus[1]-sds[1], ymin=0, ymax=.4, color='black', linestyle='--')\n",
    "\n",
    "head_width = 0.05\n",
    "\n",
    "# nsamp = N*sqrt(sds[0]**2/n**2 + sds[1]**2/n**2)\n",
    "SSD = np.sqrt(sds[0]**2 + sds[1]**2)\n",
    "EffSize = (mus[1] - mus[0]) / SSD\n",
    "\n",
    "diff = mus[1]-mus[0]\n",
    "xdiff = mus[1] - (diff/2)\n",
    "yarrow = 0.7\n",
    "\n",
    "axes[0].arrow(mus[0], yarrow, (diff-2*head_width), 0, head_width=head_width, head_length=0.1, fc='k', ec='k')\n",
    "\n",
    "text = '$\\\\theta$ = %.2f, diff = %.1f, SSD = %.2f'%(EffSize, diff, SSD)\n",
    "axes[0].text(x=(xdiff-.65), y=(yarrow+.1), s=text)\n",
    "axes[0].set_xlabel(\"values\")\n",
    "axes[0].set_ylabel(\"percentage (%)\")\n",
    "     \n",
    "title  =   \"Distribuição 1 (vermelha) tem media (SSD) = %.1f (%.2f) e n = %d amostras\"%(mu1, sd1, N)\n",
    "title += \"\\nDistribuição 2 (azul) tem media (SSD) = %.1f (%.2f) e n = %d amostras\"%(mu2, sd2, N)\n",
    "title += '\\n' + text_stat + '\\nTamanho do efeito = %.2f'%(EffSize)\n",
    "axes[0].set_title(title);\n",
    "\n",
    "df2 = pd.DataFrame(df.dist1)\n",
    "df2['class'] = 'um'\n",
    "df2.columns = ['val', 'class']\n",
    "\n",
    "dfa = pd.DataFrame(df.dist2)\n",
    "dfa['class'] = 'dois'\n",
    "dfa.columns = ['val', 'class']\n",
    "\n",
    "# df2 = pd.concat([df2, dfa])\n",
    "df2 = df2.append(dfa)\n",
    "\n",
    "sns.violinplot(x=\"val\", y=\"class\", data=df2, palette=['red', 'blue'], ax=axes[1]); # , saturation=.05)"
   ]
  },
  {
   "cell_type": "markdown",
   "metadata": {},
   "source": [
    "### Vamos 'encapsular' tudo numa função em python denominada plot_2_distributions()"
   ]
  },
  {
   "cell_type": "code",
   "execution_count": null,
   "metadata": {},
   "outputs": [],
   "source": [
    "from scipy.stats import norm\n",
    "\n",
    "def plot_2_distributions(mus, sds, N, xlim, alpha=0.05):\n",
    "    # criando as distribuições normais\n",
    "    j0 = np.random.normal(mus[0], sds[0], N)\n",
    "    j1 = np.random.normal(mus[1], sds[1], N)\n",
    "\n",
    "    # transformando duas lista em um Dataframe pandas\n",
    "    df = pd.DataFrame([j0, j1]).T\n",
    "    df.columns=['dist1', 'dist2']\n",
    "\n",
    "    # definindo cores e o tamanho da figura\n",
    "    colors = ['red', 'blue']\n",
    "    fig = plt.figure(figsize=(14, 7))\n",
    "    # como vai ter duas figuras, definindo a proporção de alturas entre as figuras\n",
    "    gs = gridspec.GridSpec(2, 1, height_ratios=[5, 2]) \n",
    "\n",
    "    # definindo os eixos da figura (ax.fig())\n",
    "    axes = []\n",
    "    axes.append(plt.subplot(gs[0]))\n",
    "    axes.append(plt.subplot(gs[1]))\n",
    "\n",
    "\n",
    "    for i in range(2):\n",
    "        # cada distplot (histograma) em seaborn em um axis ax\n",
    "        # repare que norm_hist=True --> então o histograma é normalizado = distribuição\n",
    "        sns.distplot(df['dist%d'%(i+1)], color=colors[i], kde=False, rug=True, norm_hist=True,\n",
    "                    rug_kws={\"color\": colors[i], \"alpha\": .2,}, ax=axes[0])\n",
    "        # plote a distribuição normal - fitting\n",
    "        sns.lineplot(seqxs[i], stats.norm.pdf(seqxs[i], mus[i], sds[i]), color=colors[i], ax=axes[0])\n",
    "\n",
    "        \n",
    "    #----------- statistics --------------------\n",
    "    #-- ttest - como as duas distribuições são normais\n",
    "    #--         será que elas são diferentes?\n",
    "    sta, pval = stats.ttest_ind(df.dist1, df.dist2)\n",
    "    #text_stat = \"t-test statistics = %.2f, p-val = %.2e\"%(sta, pval)\n",
    "    text_stat = \"estatística t-test = %.2f, p-val = %.2e\"%(sta, pval)\n",
    "\n",
    "    if pval < alpha:\n",
    "        # text_stat = 'Statiscally distinct, H0 must be refuted ' + text_stat\n",
    "        text_stat = 'Distribuições estatiscamente diferentes, H0 precisa ser refutado\\n' + text_stat\n",
    "    else:\n",
    "        #text_stat = 'Statiscally similar, H0 must be accepetd ' + text_stat\n",
    "        text_stat = 'Distribuições estatiscamente similar, H0 precisa ser aceito\\n' + text_stat\n",
    "    \n",
    "    #-- recalcule os parâmetros simulados\n",
    "    mu0c = df.dist1.mean()\n",
    "    sd0c = df.dist1.std()\n",
    "\n",
    "    mu1c = df.dist2.mean()\n",
    "    sd1c = df.dist2.std()\n",
    "\n",
    "    # plot linhas verticais de médias e 1 desvio padrão para esquerda e direita\n",
    "    axes[0].axvline(x=mus[0], ymin=0, ymax=1.4, color='black')\n",
    "    axes[0].axvline(x=mus[0]+sds[0], ymin=0, ymax=1.0, color='black', linestyle='--')\n",
    "    axes[0].axvline(x=mus[0]-sds[0], ymin=0, ymax=1.0, color='black', linestyle='--')\n",
    "\n",
    "    axes[0].axvline(x=mus[1], ymin=0, ymax=.6, color='black')\n",
    "    axes[0].axvline(x=mus[1]+sds[1], ymin=0, ymax=.4, color='black', linestyle='--')\n",
    "    axes[0].axvline(x=mus[1]-sds[1], ymin=0, ymax=.4, color='black', linestyle='--')\n",
    "\n",
    "    # cacule o Tamanho de Efeito e a Diferença entre as médias\n",
    "    SSD = np.sqrt(sds[0]**2 + sds[1]**2)\n",
    "    EffSize = (mus[1] - mus[0]) / SSD\n",
    "\n",
    "    diff = mus[1]-mus[0]\n",
    "    xdiff = mus[1] - (diff/2)\n",
    "    yarrow = 0.7\n",
    "\n",
    "    # Tamanho de Efeito = theta\n",
    "    text = '$\\\\theta$ = %.2f, diff = %.1f, SSD = %.2f'%(EffSize, diff, SSD)\n",
    "    # axes[0].text(x=(xdiff-.65), y=(yarrow+.1), s=text)\n",
    "    axes[0].set_xlabel(\"values\")\n",
    "    axes[0].set_ylabel(\"percentage (%)\")\n",
    "    axes[0].set_xlim(xlim);\n",
    "\n",
    "    #-- prepar o titulo da distribuição\n",
    "    #-- no paper tire o título e seu conteúdo vira a legenda\n",
    "    title  =   \"Distribuição 1 (vermelha) tem media (SSD) = %.1f (%.2f) e n = %d amostras\"%(mu0c, sd0c, N)\n",
    "    title += \"\\nDistribuição 2 (azul) tem media (SSD) = %.1f (%.2f) e n = %d amostras\"%(mu1c, sd1c, N)\n",
    "    title += '\\n' + text_stat + '\\nTamanho do efeito = %.2f, distância = %.1f, SSDtot = %.2f'%(EffSize, diff, SSD)\n",
    "    axes[0].set_title(title);\n",
    "    \n",
    "    #--- concatene as duas distribuições dist1, dist2 para desenhar o violin plot\n",
    "    df2 = pd.DataFrame(df.dist1)\n",
    "    df2['class'] = 'um'\n",
    "    df2.columns = ['val', 'class']\n",
    "\n",
    "    dfa = pd.DataFrame(df.dist2)\n",
    "    dfa['class'] = 'dois'\n",
    "    dfa.columns = ['val', 'class']\n",
    "\n",
    "    df2 = df2.append(dfa)\n",
    "\n",
    "    # violin plot\n",
    "    sns.violinplot(x=\"val\", y=\"class\", data=df2, palette=['red', 'blue'], ax=axes[1]); # , saturation=.05)\n",
    "    axes[1].set_xlim(xlim);"
   ]
  },
  {
   "cell_type": "code",
   "execution_count": null,
   "metadata": {},
   "outputs": [],
   "source": [
    "mus = [1, 1.4]\n",
    "sds = [0.4, 0.6]\n",
    "xlim = [mus[0]-4*sds[0], mus[1]+4*sds[1]]\n",
    "N = 12; alpha=0.05\n",
    "\n",
    "plot_2_distributions(mus, sds, N=N, xlim=xlim, alpha=alpha)"
   ]
  },
  {
   "cell_type": "code",
   "execution_count": null,
   "metadata": {},
   "outputs": [],
   "source": []
  },
  {
   "cell_type": "code",
   "execution_count": null,
   "metadata": {},
   "outputs": [],
   "source": []
  }
 ],
 "metadata": {
  "kernelspec": {
   "display_name": "Python 3",
   "language": "python",
   "name": "python3"
  },
  "language_info": {
   "codemirror_mode": {
    "name": "ipython",
    "version": 3
   },
   "file_extension": ".py",
   "mimetype": "text/x-python",
   "name": "python",
   "nbconvert_exporter": "python",
   "pygments_lexer": "ipython3",
   "version": "3.6.9"
  }
 },
 "nbformat": 4,
 "nbformat_minor": 4
}
