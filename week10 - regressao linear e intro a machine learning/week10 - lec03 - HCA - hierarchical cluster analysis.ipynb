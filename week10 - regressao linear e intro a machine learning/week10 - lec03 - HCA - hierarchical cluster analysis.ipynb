{
 "cells": [
  {
   "cell_type": "markdown",
   "metadata": {},
   "source": [
    "### Hierarchical Cluster Analysis\n",
    "\n",
    "  - Dados n elementos\n",
    "  - Dados k grupos\n",
    "  - Calcula-se a distância entre elementos\n",
    "    - a distância calculada é a Euclidiana, mas poderia ser outras (fórmula abaixo) ~ triângulo de Pitagoras."
   ]
  },
  {
   "cell_type": "code",
   "execution_count": 1,
   "metadata": {},
   "outputs": [],
   "source": [
    "import os, sys\n",
    "import pandas as pd # pandas e seu alias pd\n",
    "import numpy as np  # numpy  e seu alias np\n",
    "\n",
    "from   scipy import stats\n",
    "\n",
    "from scipy.cluster.hierarchy import dendrogram, linkage\n",
    "# from sklearn.cluster import AgglomerativeClustering\n",
    "\n",
    "sys.path.insert(1, '../libs/')\n",
    "from stat_lib import *\n",
    "\n",
    "import seaborn as sns\n",
    "\n",
    "import matplotlib.pyplot as plt # matplotlib e seu alias plt\n",
    "%matplotlib inline"
   ]
  },
  {
   "cell_type": "markdown",
   "metadata": {},
   "source": [
    "### Abrindo a tabela de Iris de Fisher & Anderson\n",
    "  - comprimento (largura) das pétalas (sépalas)\n",
    "    - calcula-se a distância:\n",
    "      - presume-se que o quanto mais perto (próximo de zero) será da mesma espécie\n",
    "      - desenha-se o dendrograma\n",
    "        - calcula-se erros\n",
    "        - colore-se as espécies\n",
    "\n",
    "    - Repare que d_ij == d_ji"
   ]
  },
  {
   "cell_type": "code",
   "execution_count": 3,
   "metadata": {},
   "outputs": [
    {
     "name": "stdout",
     "output_type": "stream",
     "text": [
      "(150, 6)\n"
     ]
    },
    {
     "data": {
      "text/html": [
       "<div>\n",
       "<style scoped>\n",
       "    .dataframe tbody tr th:only-of-type {\n",
       "        vertical-align: middle;\n",
       "    }\n",
       "\n",
       "    .dataframe tbody tr th {\n",
       "        vertical-align: top;\n",
       "    }\n",
       "\n",
       "    .dataframe thead th {\n",
       "        text-align: right;\n",
       "    }\n",
       "</style>\n",
       "<table border=\"1\" class=\"dataframe\">\n",
       "  <thead>\n",
       "    <tr style=\"text-align: right;\">\n",
       "      <th></th>\n",
       "      <th>id</th>\n",
       "      <th>sepal_len</th>\n",
       "      <th>sepal_width</th>\n",
       "      <th>petal_len</th>\n",
       "      <th>petal_width</th>\n",
       "      <th>species</th>\n",
       "    </tr>\n",
       "  </thead>\n",
       "  <tbody>\n",
       "    <tr>\n",
       "      <th>0</th>\n",
       "      <td>1</td>\n",
       "      <td>5.1</td>\n",
       "      <td>3.5</td>\n",
       "      <td>1.4</td>\n",
       "      <td>0.2</td>\n",
       "      <td>Iris-setosa</td>\n",
       "    </tr>\n",
       "    <tr>\n",
       "      <th>1</th>\n",
       "      <td>2</td>\n",
       "      <td>4.9</td>\n",
       "      <td>3.0</td>\n",
       "      <td>1.4</td>\n",
       "      <td>0.2</td>\n",
       "      <td>Iris-setosa</td>\n",
       "    </tr>\n",
       "    <tr>\n",
       "      <th>2</th>\n",
       "      <td>3</td>\n",
       "      <td>4.7</td>\n",
       "      <td>3.2</td>\n",
       "      <td>1.3</td>\n",
       "      <td>0.2</td>\n",
       "      <td>Iris-setosa</td>\n",
       "    </tr>\n",
       "    <tr>\n",
       "      <th>3</th>\n",
       "      <td>4</td>\n",
       "      <td>4.6</td>\n",
       "      <td>3.1</td>\n",
       "      <td>1.5</td>\n",
       "      <td>0.2</td>\n",
       "      <td>Iris-setosa</td>\n",
       "    </tr>\n",
       "    <tr>\n",
       "      <th>4</th>\n",
       "      <td>5</td>\n",
       "      <td>5.0</td>\n",
       "      <td>3.6</td>\n",
       "      <td>1.4</td>\n",
       "      <td>0.2</td>\n",
       "      <td>Iris-setosa</td>\n",
       "    </tr>\n",
       "    <tr>\n",
       "      <th>5</th>\n",
       "      <td>6</td>\n",
       "      <td>5.4</td>\n",
       "      <td>3.9</td>\n",
       "      <td>1.7</td>\n",
       "      <td>0.4</td>\n",
       "      <td>Iris-setosa</td>\n",
       "    </tr>\n",
       "  </tbody>\n",
       "</table>\n",
       "</div>"
      ],
      "text/plain": [
       "   id  sepal_len  sepal_width  petal_len  petal_width      species\n",
       "0   1        5.1          3.5        1.4          0.2  Iris-setosa\n",
       "1   2        4.9          3.0        1.4          0.2  Iris-setosa\n",
       "2   3        4.7          3.2        1.3          0.2  Iris-setosa\n",
       "3   4        4.6          3.1        1.5          0.2  Iris-setosa\n",
       "4   5        5.0          3.6        1.4          0.2  Iris-setosa\n",
       "5   6        5.4          3.9        1.7          0.4  Iris-setosa"
      ]
     },
     "execution_count": 3,
     "metadata": {},
     "output_type": "execute_result"
    }
   ],
   "source": [
    "fname = \"../data/Iris.csv\"\n",
    "if os.path.exists(fname):\n",
    "    df = pd.read_csv(fname)\n",
    "else:\n",
    "    print(\"Impossível abrir '%s'\"%(fname))\n",
    "    raise('Error')\n",
    "    \n",
    "print(df.shape)\n",
    "df.columns = ['id', 'sepal_len', 'sepal_width', 'petal_len', 'petal_width', 'species']\n",
    "\n",
    "df.head(6)"
   ]
  },
  {
   "cell_type": "code",
   "execution_count": null,
   "metadata": {},
   "outputs": [],
   "source": [
    "df.iloc[51:53]"
   ]
  },
  {
   "cell_type": "markdown",
   "metadata": {},
   "source": [
    "<center><font size=\"5\">$d_{ij} = \\sqrt( (x_{i} - x_{j})^2$</font></center>"
   ]
  },
  {
   "cell_type": "markdown",
   "metadata": {},
   "source": [
    "### Posso generalizar para K colunas\n",
    "\n",
    "<center><font size=\"5\">$d_{ij} = \\sqrt(\\sum_{k=1}^{K}(x_{ik} - x_{jk})^2$</font></center>\n",
    "\n",
    "onde,\n",
    "   - i, j são linhas diferentes\n",
    "   - k são colunas"
   ]
  },
  {
   "cell_type": "markdown",
   "metadata": {},
   "source": [
    "  - Uma vez calculada a matriz de distância\n",
    "    - Liga-se 2 a dois os elementos mais próximos\n",
    "    - Até se chegar a 2 elementos finais ligados por um nó raiz:\n",
    "      - Este tipo de árvore chama-se **dendrograma**\n",
    "<br><br>\n",
    "  - Esta técnica clusteriza elementos com nomes (labels) e posições espaciais conhecidas\n",
    "    - a diferenca entre as posições espaciais é a distância\n",
    "    - também pode-se usar a correlação como \"uma distância\"\n",
    "<br><br> \n",
    "  - Logo, o HCA é uma Clusterização SUPERVISIONADA\n",
    "  - aqui não separamos dados de treinamento e testes\n",
    "  - a comparação entre Labels (nomes das folhas = extremidades do dendrograma) e a predição da clusterização deve ser calculada, a média de acerto é a acuracidade (ver mais abaixo)m"
   ]
  },
  {
   "cell_type": "markdown",
   "metadata": {},
   "source": [
    "![dendrograma](../figure/dendrogram.png)\n",
    "      \n",
    "      - Em genética, se o comprimento dos ramos for proporcional ao tempo (tempo de especiação):\n",
    "        - Este tipo de árvore chamase Árvore Filogenética\n",
    "        - O nó se chama ancestral\n",
    "        - O nó mais acima, o que junta todas os nós e folhas, chama-se último ancestral comumn\n",
    "        - Se um ramo aparece até os dias presentes: \"tal espécie ainda existe\"\n",
    "        - Se um ramo pára num passado qualquer: \"tal espécie está extinta\"\n",
    "        \n",
    "      - Na árvore da vida o ancestral comum chama-se **LUCA** !\n",
    "   \n",
    "**last universal common ancestor or last universal cellular ancestor (LUCA)**\n",
    "\n",
    "        \n",
    "https://en.wikipedia.org/wiki/Last_universal_common_ancestor\n",
    "\n",
    "\n",
    "### Árovre da Vida de Carl Wöese\n",
    "\n",
    "Carl Wöese\n",
    "\n",
    "https://en.wikipedia.org/wiki/Carl_Woese\n",
    "\n",
    "  - Árvore da vida\n",
    "    - LUCA\n",
    "      - Archaea\n",
    "      - Bacteria\n",
    "      - Eukariota\n",
    "\n",
    "![arvore da vida](../figure/Phylogenetic_tree.png)\n",
    "      "
   ]
  },
  {
   "cell_type": "markdown",
   "metadata": {},
   "source": [
    "### Vamos ver se o drendograma consegue separar bem as 3 espécies de Iris: Setoxa, Versicolor, Virginica"
   ]
  },
  {
   "cell_type": "code",
   "execution_count": null,
   "metadata": {},
   "outputs": [],
   "source": [
    "df.species.unique()"
   ]
  },
  {
   "cell_type": "code",
   "execution_count": null,
   "metadata": {},
   "outputs": [],
   "source": [
    "species = list(df.species)\n",
    "\n",
    "labels = [\"%d - %s\"%(i, species[i]) for i in range(len(species))]\n",
    "labels = ['S']*50 + ['E']*50 + ['I']*50"
   ]
  },
  {
   "cell_type": "code",
   "execution_count": null,
   "metadata": {},
   "outputs": [],
   "source": [
    "df.columns"
   ]
  },
  {
   "cell_type": "code",
   "execution_count": null,
   "metadata": {},
   "outputs": [],
   "source": [
    "data  = df[ ['sepal_len', 'sepal_width', 'petal_len', 'petal_width']]\n",
    "\n",
    "plt.figure(figsize=(24,14))\n",
    "colors = ['red', 'blue', 'green']\n",
    "\n",
    "# https://docs.scipy.org/doc/scipy/reference/generated/scipy.cluster.hierarchy.linkage.html\n",
    "Z = linkage(data, method='single', metric='euclidean')\n",
    "\n",
    "# https://docs.scipy.org/doc/scipy/reference/generated/scipy.cluster.hierarchy.dendrogram.html\n",
    "dicr = dendrogram(Z, labels=labels, leaf_font_size=20, leaf_rotation=0,\n",
    "                  orientation='top', distance_sort='descending', show_leaf_counts=True);"
   ]
  },
  {
   "cell_type": "code",
   "execution_count": null,
   "metadata": {},
   "outputs": [],
   "source": [
    "#-- dicr[0] contém as informações calculadas\n",
    "dicr.keys()"
   ]
  },
  {
   "cell_type": "code",
   "execution_count": null,
   "metadata": {},
   "outputs": [],
   "source": [
    "# predição de espécies ~ nomes (labels) das folhas\n",
    "dicr['ivl'][:10]"
   ]
  },
  {
   "cell_type": "markdown",
   "metadata": {},
   "source": [
    "### Cálculo de acuracidade"
   ]
  },
  {
   "cell_type": "code",
   "execution_count": null,
   "metadata": {},
   "outputs": [],
   "source": [
    "ok = [True if labels[i] == dicr['ivl'][i] else False for i in range(len(labels))]\n",
    "ok[:10], np.mean(ok)"
   ]
  },
  {
   "cell_type": "code",
   "execution_count": null,
   "metadata": {},
   "outputs": [],
   "source": [
    "\"\".join(dicr['ivl'])"
   ]
  },
  {
   "cell_type": "code",
   "execution_count": null,
   "metadata": {},
   "outputs": [],
   "source": [
    "\"\".join(labels)"
   ]
  },
  {
   "cell_type": "markdown",
   "metadata": {},
   "source": [
    "### Posso girar um eixo do dendrograma sem perder nem ganhar informação"
   ]
  },
  {
   "cell_type": "code",
   "execution_count": null,
   "metadata": {},
   "outputs": [],
   "source": [
    "labels2 = ['S']*50 + ['I']*50 + ['E']*50"
   ]
  },
  {
   "cell_type": "code",
   "execution_count": null,
   "metadata": {},
   "outputs": [],
   "source": [
    "ok = [True if labels2[i] == dicr['ivl'][i] else False for i in range(len(labels2))]\n",
    "ok[:10], np.mean(ok)"
   ]
  },
  {
   "cell_type": "code",
   "execution_count": null,
   "metadata": {},
   "outputs": [],
   "source": []
  }
 ],
 "metadata": {
  "kernelspec": {
   "display_name": "Python 3",
   "language": "python",
   "name": "python3"
  },
  "language_info": {
   "codemirror_mode": {
    "name": "ipython",
    "version": 3
   },
   "file_extension": ".py",
   "mimetype": "text/x-python",
   "name": "python",
   "nbconvert_exporter": "python",
   "pygments_lexer": "ipython3",
   "version": "3.7.7"
  }
 },
 "nbformat": 4,
 "nbformat_minor": 4
}
