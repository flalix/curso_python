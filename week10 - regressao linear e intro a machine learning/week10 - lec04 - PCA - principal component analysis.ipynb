{
 "cells": [
  {
   "cell_type": "markdown",
   "metadata": {},
   "source": [
    "### Principal Component Analysis\n",
    "\n",
    "A matemática de Principal Component Analysis (PCA) é um tanto complexa para ser explicada de maneira simples, pois requer conhecimento de Algebra Linear e Cadeias de Markov.\n",
    "<br><br>\n",
    "\n",
    "Aqui vamos tentar explicar na forma geométrica. Lembre-se na regressão linear, depois de predizer a reta com menor erro quadrático, obtinhamos os resíduos. Caso os resíduos se aproximassem-se de uma distribuição normal, a soma dos erros tenderia a zero.\n",
    "\n",
    "Em PCA fazemos, de certa maneira a mesma coisa, fazemos a mesma coisa. A reta verde grande, abaixo, é um regessão na direção de maior variãncia. Após encontrá-la, há resíduos, e podemos fazer uma regessão na direção ortogonal, a reta em verde de menor tamanho.\n",
    "\n",
    "Caso tenhamos n dimensões, fazemos regressões, ou melhor acamos vetores no espaço na maior dispersão, e assim por diante até a menor dispersão, caso haja. Este vetores são todos ortonormais (perpendicurlares) e na Algebra Linear acompanha um auto-valor. Ou seja, para n dimensões temos n autovetores e n autovalores.\n"
   ]
  },
  {
   "cell_type": "markdown",
   "metadata": {},
   "source": [
    "![PCA](../figure/pca.png)"
   ]
  },
  {
   "cell_type": "markdown",
   "metadata": {},
   "source": [
    "Cada vetor pode ser escrito como:\n",
    "    \n",
    "$y_i = a_{i1} * x_1  +  a_{i2} * x_2 + .. a_{in} * x_n$\n",
    "<br><br>\n",
    "como se observa, o autovetor y_i é linear, e é uma combinação linear de todos os eixo x1, x2 .. até xn\n",
    "\n",
    "caso os 3 primeiros autovetores, p.ex., perfizerem a soma de 92% de toda a dispersão dos valores neste espaço amostral de n dimensões, podemos aproximar um regressor com 3 autovetores, dispensando n-3 autovetores. A isto denominamos \"redução de dimensionalidade\".\n",
    "\n",
    "Espera-se que um PCA atinja mais de 90% de dispersão total com 2 ou 3 variávies, neste caso podemos ver os grupos no espaço 2D ou 3D.\n",
    "\n",
    "Vamos ver na prática como isto funciona, não se esquecendo que o PCA é totalmente linear e capaz de fazer redução de dimensionalidade, ou seja, clusterizar grupos com muito menos de n autovetores, também chamados de Principais Componentes."
   ]
  },
  {
   "cell_type": "code",
   "execution_count": 1,
   "metadata": {},
   "outputs": [],
   "source": [
    "import os, sys\n",
    "import pandas as pd # pandas e seu alias pd\n",
    "import numpy as np  # numpy  e seu alias np\n",
    "\n",
    "from   scipy import stats\n",
    "\n",
    "from scipy.cluster.hierarchy import dendrogram, linkage\n",
    "# from sklearn.cluster import AgglomerativeClustering\n",
    "\n",
    "sys.path.insert(1, '../libs/')\n",
    "from stat_lib import *\n",
    "\n",
    "import seaborn as sns\n",
    "\n",
    "import matplotlib.pyplot as plt # matplotlib e seu alias plt\n",
    "%matplotlib inline"
   ]
  },
  {
   "cell_type": "markdown",
   "metadata": {},
   "source": [
    "### Abrindo a tabela de Iris de Fisher & Anderson\n",
    "  - comprimento (largura) das pétalas (sépalas)\n",
    "    - calcula-se a distância:\n",
    "      - presume-se que o quanto mais perto (próximo de zero) será da mesma espécie\n",
    "      - desenha-se o dendrograma\n",
    "        - calcula-se erros\n",
    "        - colore-se as espécies\n",
    "\n",
    "    - Repare que d_ij == d_ji"
   ]
  },
  {
   "cell_type": "code",
   "execution_count": 2,
   "metadata": {},
   "outputs": [
    {
     "name": "stdout",
     "output_type": "stream",
     "text": [
      "(150, 6)\n"
     ]
    },
    {
     "data": {
      "text/html": [
       "<div>\n",
       "<style scoped>\n",
       "    .dataframe tbody tr th:only-of-type {\n",
       "        vertical-align: middle;\n",
       "    }\n",
       "\n",
       "    .dataframe tbody tr th {\n",
       "        vertical-align: top;\n",
       "    }\n",
       "\n",
       "    .dataframe thead th {\n",
       "        text-align: right;\n",
       "    }\n",
       "</style>\n",
       "<table border=\"1\" class=\"dataframe\">\n",
       "  <thead>\n",
       "    <tr style=\"text-align: right;\">\n",
       "      <th></th>\n",
       "      <th>id</th>\n",
       "      <th>sepal_len</th>\n",
       "      <th>sepal_width</th>\n",
       "      <th>petal_len</th>\n",
       "      <th>petal_width</th>\n",
       "      <th>species</th>\n",
       "    </tr>\n",
       "  </thead>\n",
       "  <tbody>\n",
       "    <tr>\n",
       "      <th>0</th>\n",
       "      <td>1</td>\n",
       "      <td>5.1</td>\n",
       "      <td>3.5</td>\n",
       "      <td>1.4</td>\n",
       "      <td>0.2</td>\n",
       "      <td>Iris-setosa</td>\n",
       "    </tr>\n",
       "    <tr>\n",
       "      <th>1</th>\n",
       "      <td>2</td>\n",
       "      <td>4.9</td>\n",
       "      <td>3.0</td>\n",
       "      <td>1.4</td>\n",
       "      <td>0.2</td>\n",
       "      <td>Iris-setosa</td>\n",
       "    </tr>\n",
       "    <tr>\n",
       "      <th>2</th>\n",
       "      <td>3</td>\n",
       "      <td>4.7</td>\n",
       "      <td>3.2</td>\n",
       "      <td>1.3</td>\n",
       "      <td>0.2</td>\n",
       "      <td>Iris-setosa</td>\n",
       "    </tr>\n",
       "  </tbody>\n",
       "</table>\n",
       "</div>"
      ],
      "text/plain": [
       "   id  sepal_len  sepal_width  petal_len  petal_width      species\n",
       "0   1        5.1          3.5        1.4          0.2  Iris-setosa\n",
       "1   2        4.9          3.0        1.4          0.2  Iris-setosa\n",
       "2   3        4.7          3.2        1.3          0.2  Iris-setosa"
      ]
     },
     "execution_count": 2,
     "metadata": {},
     "output_type": "execute_result"
    }
   ],
   "source": [
    "fname = \"../data/Iris.csv\"\n",
    "if os.path.exists(fname):\n",
    "    df = pd.read_csv(fname)\n",
    "else:\n",
    "    print(\"Impossível abrir '%s'\"%(fname))\n",
    "    raise('Error')\n",
    "    \n",
    "print(df.shape)\n",
    "df.columns = ['id', 'sepal_len', 'sepal_width', 'petal_len', 'petal_width', 'species']\n",
    "\n",
    "df.head(3)"
   ]
  },
  {
   "cell_type": "code",
   "execution_count": 3,
   "metadata": {},
   "outputs": [
    {
     "data": {
      "text/html": [
       "<div>\n",
       "<style scoped>\n",
       "    .dataframe tbody tr th:only-of-type {\n",
       "        vertical-align: middle;\n",
       "    }\n",
       "\n",
       "    .dataframe tbody tr th {\n",
       "        vertical-align: top;\n",
       "    }\n",
       "\n",
       "    .dataframe thead th {\n",
       "        text-align: right;\n",
       "    }\n",
       "</style>\n",
       "<table border=\"1\" class=\"dataframe\">\n",
       "  <thead>\n",
       "    <tr style=\"text-align: right;\">\n",
       "      <th></th>\n",
       "      <th>id</th>\n",
       "      <th>sepal_len</th>\n",
       "      <th>sepal_width</th>\n",
       "      <th>petal_len</th>\n",
       "      <th>petal_width</th>\n",
       "      <th>species</th>\n",
       "    </tr>\n",
       "  </thead>\n",
       "  <tbody>\n",
       "    <tr>\n",
       "      <th>51</th>\n",
       "      <td>52</td>\n",
       "      <td>6.4</td>\n",
       "      <td>3.2</td>\n",
       "      <td>4.5</td>\n",
       "      <td>1.5</td>\n",
       "      <td>Iris-versicolor</td>\n",
       "    </tr>\n",
       "    <tr>\n",
       "      <th>52</th>\n",
       "      <td>53</td>\n",
       "      <td>6.9</td>\n",
       "      <td>3.1</td>\n",
       "      <td>4.9</td>\n",
       "      <td>1.5</td>\n",
       "      <td>Iris-versicolor</td>\n",
       "    </tr>\n",
       "  </tbody>\n",
       "</table>\n",
       "</div>"
      ],
      "text/plain": [
       "    id  sepal_len  sepal_width  petal_len  petal_width          species\n",
       "51  52        6.4          3.2        4.5          1.5  Iris-versicolor\n",
       "52  53        6.9          3.1        4.9          1.5  Iris-versicolor"
      ]
     },
     "execution_count": 3,
     "metadata": {},
     "output_type": "execute_result"
    }
   ],
   "source": [
    "df.iloc[51:53]"
   ]
  },
  {
   "cell_type": "markdown",
   "metadata": {},
   "source": [
    "![dendrograma](../figure/dendrogram.png)\n",
    "      \n",
    "      - Em genética, se o comprimento dos ramos for proporcional ao tempo (tempo de especiação):\n",
    "        - Este tipo de árvore chamase Árvore Filogenética\n",
    "        - O nó se chama ancestral\n",
    "        - O nó mais acima, o que junta todas os nós e folhas, chama-se último ancestral comumn\n",
    "        - Se um ramo aparece até os dias presentes: \"tal espécie ainda existe\"\n",
    "        - Se um ramo pára num passado qualquer: \"tal espécie está extinta\"\n",
    "        \n",
    "      - Na árvore da vida o ancestral comum chama-se **LUCA** !\n",
    "   \n",
    "**last universal common ancestor or last universal cellular ancestor (LUCA)**\n",
    "\n",
    "        \n",
    "https://en.wikipedia.org/wiki/Last_universal_common_ancestor\n",
    "\n",
    "\n",
    "### Árovre da Vida de Carl Wöese\n",
    "\n",
    "Carl Wöese\n",
    "\n",
    "https://en.wikipedia.org/wiki/Carl_Woese\n",
    "\n",
    "  - Árvore da vida\n",
    "    - LUCA\n",
    "      - Archaea\n",
    "      - Bacteria\n",
    "      - Eukariota\n",
    "\n",
    "![arvore da vida](../figure/Phylogenetic_tree.png)\n",
    "      "
   ]
  },
  {
   "cell_type": "code",
   "execution_count": 4,
   "metadata": {},
   "outputs": [
    {
     "data": {
      "text/plain": [
       "array(['Iris-setosa', 'Iris-versicolor', 'Iris-virginica'], dtype=object)"
      ]
     },
     "execution_count": 4,
     "metadata": {},
     "output_type": "execute_result"
    }
   ],
   "source": [
    "df.species.unique()"
   ]
  },
  {
   "cell_type": "code",
   "execution_count": 5,
   "metadata": {},
   "outputs": [],
   "source": [
    "species = list(df.species)\n",
    "\n",
    "labels = [\"%d - %s\"%(i, species[i]) for i in range(len(species))]\n",
    "labels = ['S']*50 + ['E']*50 + ['I']*50"
   ]
  },
  {
   "cell_type": "code",
   "execution_count": 6,
   "metadata": {},
   "outputs": [
    {
     "data": {
      "text/plain": [
       "Index(['id', 'sepal_len', 'sepal_width', 'petal_len', 'petal_width',\n",
       "       'species'],\n",
       "      dtype='object')"
      ]
     },
     "execution_count": 6,
     "metadata": {},
     "output_type": "execute_result"
    }
   ],
   "source": [
    "df.columns"
   ]
  },
  {
   "cell_type": "code",
   "execution_count": 7,
   "metadata": {},
   "outputs": [
    {
     "data": {
      "image/png": "[encoded data removed]",
      "text/plain": [
       "<Figure size 1728x1008 with 1 Axes>"
      ]
     },
     "metadata": {
      "needs_background": "light"
     },
     "output_type": "display_data"
    }
   ],
   "source": [
    "data  = df[ ['sepal_len', 'sepal_width', 'petal_len', 'petal_width']]\n",
    "\n",
    "plt.figure(figsize=(24,14))\n",
    "colors = ['red', 'blue', 'green']\n",
    "\n",
    "# https://docs.scipy.org/doc/scipy/reference/generated/scipy.cluster.hierarchy.linkage.html\n",
    "Z = linkage(data, method='single', metric='euclidean')\n",
    "\n",
    "# https://docs.scipy.org/doc/scipy/reference/generated/scipy.cluster.hierarchy.dendrogram.html\n",
    "dicr = dendrogram(Z, labels=labels, leaf_font_size=20, leaf_rotation=0,\n",
    "                  orientation='top', distance_sort='descending', show_leaf_counts=True);"
   ]
  },
  {
   "cell_type": "code",
   "execution_count": 8,
   "metadata": {},
   "outputs": [
    {
     "data": {
      "text/plain": [
       "dict_keys(['icoord', 'dcoord', 'ivl', 'leaves', 'color_list'])"
      ]
     },
     "execution_count": 8,
     "metadata": {},
     "output_type": "execute_result"
    }
   ],
   "source": [
    "#-- dicr[0] contém as informações calculadas\n",
    "dicr.keys()"
   ]
  },
  {
   "cell_type": "code",
   "execution_count": 9,
   "metadata": {},
   "outputs": [
    {
     "data": {
      "text/plain": [
       "['S', 'S', 'S', 'S', 'S', 'S', 'S', 'S', 'S', 'S']"
      ]
     },
     "execution_count": 9,
     "metadata": {},
     "output_type": "execute_result"
    }
   ],
   "source": [
    "# predição de espécies ~ nomes (labels) das folhas\n",
    "dicr['ivl'][:10]"
   ]
  },
  {
   "cell_type": "markdown",
   "metadata": {},
   "source": [
    "### Cálculo de acuracidade"
   ]
  },
  {
   "cell_type": "code",
   "execution_count": 10,
   "metadata": {},
   "outputs": [
    {
     "data": {
      "text/plain": [
       "([True, True, True, True, True, True, True, True, True, True], 0.8)"
      ]
     },
     "execution_count": 10,
     "metadata": {},
     "output_type": "execute_result"
    }
   ],
   "source": [
    "ok = [True if labels[i] == dicr['ivl'][i] else False for i in range(len(labels))]\n",
    "ok[:10], np.mean(ok)"
   ]
  },
  {
   "cell_type": "code",
   "execution_count": 11,
   "metadata": {},
   "outputs": [
    {
     "data": {
      "text/plain": [
       "'SSSSSSSSSSSSSSSSSSSSSSSSSSSSSSSSSSSSSSSSSSSSSSSSSSIIIEEEEIIIIIIIEEEIIIIIEEEEEEEEEEEEEEEEEEEEEEEEEEEEEEEEEEEEEEEEIEIIIIIIIIIEEIIIIIIIIIIIIIIIIIIIIIIIII'"
      ]
     },
     "execution_count": 11,
     "metadata": {},
     "output_type": "execute_result"
    }
   ],
   "source": [
    "\"\".join(dicr['ivl'])"
   ]
  },
  {
   "cell_type": "code",
   "execution_count": 12,
   "metadata": {},
   "outputs": [
    {
     "data": {
      "text/plain": [
       "'SSSSSSSSSSSSSSSSSSSSSSSSSSSSSSSSSSSSSSSSSSSSSSSSSSEEEEEEEEEEEEEEEEEEEEEEEEEEEEEEEEEEEEEEEEEEEEEEEEEEIIIIIIIIIIIIIIIIIIIIIIIIIIIIIIIIIIIIIIIIIIIIIIIIII'"
      ]
     },
     "execution_count": 12,
     "metadata": {},
     "output_type": "execute_result"
    }
   ],
   "source": [
    "\"\".join(labels)"
   ]
  },
  {
   "cell_type": "markdown",
   "metadata": {},
   "source": [
    "### Posso girar um eixo do dendrograma sem perder nem ganhar informação"
   ]
  },
  {
   "cell_type": "code",
   "execution_count": 13,
   "metadata": {},
   "outputs": [],
   "source": [
    "labels2 = ['S']*50 + ['I']*50 + ['E']*50"
   ]
  },
  {
   "cell_type": "code",
   "execution_count": 14,
   "metadata": {},
   "outputs": [
    {
     "data": {
      "text/plain": [
       "([True, True, True, True, True, True, True, True, True, True],\n",
       " 0.5333333333333333)"
      ]
     },
     "execution_count": 14,
     "metadata": {},
     "output_type": "execute_result"
    }
   ],
   "source": [
    "ok = [True if labels2[i] == dicr['ivl'][i] else False for i in range(len(labels2))]\n",
    "ok[:10], np.mean(ok)"
   ]
  },
  {
   "cell_type": "code",
   "execution_count": null,
   "metadata": {},
   "outputs": [],
   "source": []
  }
 ],
 "metadata": {
  "kernelspec": {
   "display_name": "Python 3",
   "language": "python",
   "name": "python3"
  },
  "language_info": {
   "codemirror_mode": {
    "name": "ipython",
    "version": 3
   },
   "file_extension": ".py",
   "mimetype": "text/x-python",
   "name": "python",
   "nbconvert_exporter": "python",
   "pygments_lexer": "ipython3",
   "version": "3.6.9"
  }
 },
 "nbformat": 4,
 "nbformat_minor": 4
}
