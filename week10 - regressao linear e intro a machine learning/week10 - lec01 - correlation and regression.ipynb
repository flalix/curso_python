{
 "cells": [
  {
   "cell_type": "markdown",
   "metadata": {},
   "source": [
    "### Iris-Dataset\n",
    "\n",
    "  - Regressão linear"
   ]
  },
  {
   "cell_type": "code",
   "execution_count": 1,
   "metadata": {},
   "outputs": [],
   "source": [
    "import os, sys\n",
    "import pandas as pd # pandas e seu alias pd\n",
    "import numpy as np  # numpy  e seu alias np\n",
    "\n",
    "from   scipy import stats\n",
    "#-- for ANOVA\n",
    "import statsmodels.api as sm\n",
    "from   statsmodels.formula.api import ols\n",
    "\n",
    "sys.path.insert(1, '../libs/')\n",
    "from stat_lib import *\n",
    "\n",
    "import seaborn as sns\n",
    "\n",
    "import matplotlib.pyplot as plt # matplotlib e seu alias plt\n",
    "%matplotlib inline"
   ]
  },
  {
   "cell_type": "markdown",
   "metadata": {},
   "source": [
    "### Abrir Iris dataset"
   ]
  },
  {
   "cell_type": "code",
   "execution_count": 2,
   "metadata": {},
   "outputs": [
    {
     "data": {
      "text/plain": [
       "['altitude.txt',\n",
       " 'auto-mpg.data',\n",
       " 'stm.txt',\n",
       " 'velocities.txt',\n",
       " 'stars.txt',\n",
       " 'mycars.tsv',\n",
       " 'circular.txt',\n",
       " 'TB_data_dictionary_2020-09-11.csv',\n",
       " 'osteocytes_exp02.xlsx',\n",
       " 'Iris.csv',\n",
       " 'TB_outcomes_2020-09-11.csv',\n",
       " 'auto-mpg.names',\n",
       " 'PBMC_NTC Stim 5hr no Blocker_004.fcs',\n",
       " 'osteocytes_lfc.tsv',\n",
       " '701bc260-f9ac-11ea-835b-2581c48bf88a.pdf',\n",
       " 'database.sqlite',\n",
       " 'auto-mpg.tsv',\n",
       " 'exemplo_estranho.txt',\n",
       " 'Snake Morphotaxonomy.xlsx',\n",
       " 'exemplo.html',\n",
       " 'sunspots.txt',\n",
       " 'COVID clinical trials.csv']"
      ]
     },
     "execution_count": 2,
     "metadata": {},
     "output_type": "execute_result"
    }
   ],
   "source": [
    "os.listdir(\"../data/\")"
   ]
  },
  {
   "cell_type": "code",
   "execution_count": 4,
   "metadata": {},
   "outputs": [
    {
     "name": "stdout",
     "output_type": "stream",
     "text": [
      "(150, 6) ../data/Iris.csv\n"
     ]
    }
   ],
   "source": [
    "fname = \"../data/Iris.csv\"\n",
    "if os.path.exists(fname):\n",
    "    df = pd.read_csv(fname)\n",
    "    print(df.shape, fname)\n",
    "else:\n",
    "    print(\"Impossivel abrir '%s'\"%(fname))"
   ]
  },
  {
   "cell_type": "markdown",
   "metadata": {},
   "source": [
    "### Tabela da Iris de Ronald Fisher & Edgar Anderson (1936)\n",
    "\n",
    "https://en.wikipedia.org/wiki/Iris_flower_data_set\n",
    "\n",
    "### Partes da flor\n",
    "\n",
    "![sepal and petal](../figure/flower-parts.jpg)\n",
    "\n",
    "https://www.britannica.com/science/sepal"
   ]
  },
  {
   "cell_type": "markdown",
   "metadata": {},
   "source": [
    "![sepal and petal](../figure/iris.png)"
   ]
  },
  {
   "cell_type": "markdown",
   "metadata": {},
   "source": [
    "![sepal and petal](../figure/iris_len_width.jpeg)"
   ]
  },
  {
   "cell_type": "code",
   "execution_count": 5,
   "metadata": {},
   "outputs": [
    {
     "name": "stdout",
     "output_type": "stream",
     "text": [
      "(150, 6)\n"
     ]
    },
    {
     "data": {
      "text/html": [
       "<div>\n",
       "<style scoped>\n",
       "    .dataframe tbody tr th:only-of-type {\n",
       "        vertical-align: middle;\n",
       "    }\n",
       "\n",
       "    .dataframe tbody tr th {\n",
       "        vertical-align: top;\n",
       "    }\n",
       "\n",
       "    .dataframe thead th {\n",
       "        text-align: right;\n",
       "    }\n",
       "</style>\n",
       "<table border=\"1\" class=\"dataframe\">\n",
       "  <thead>\n",
       "    <tr style=\"text-align: right;\">\n",
       "      <th></th>\n",
       "      <th>Id</th>\n",
       "      <th>SepalLengthCm</th>\n",
       "      <th>SepalWidthCm</th>\n",
       "      <th>PetalLengthCm</th>\n",
       "      <th>PetalWidthCm</th>\n",
       "      <th>Species</th>\n",
       "    </tr>\n",
       "  </thead>\n",
       "  <tbody>\n",
       "    <tr>\n",
       "      <th>0</th>\n",
       "      <td>1</td>\n",
       "      <td>5.1</td>\n",
       "      <td>3.5</td>\n",
       "      <td>1.4</td>\n",
       "      <td>0.2</td>\n",
       "      <td>Iris-setosa</td>\n",
       "    </tr>\n",
       "    <tr>\n",
       "      <th>1</th>\n",
       "      <td>2</td>\n",
       "      <td>4.9</td>\n",
       "      <td>3.0</td>\n",
       "      <td>1.4</td>\n",
       "      <td>0.2</td>\n",
       "      <td>Iris-setosa</td>\n",
       "    </tr>\n",
       "    <tr>\n",
       "      <th>2</th>\n",
       "      <td>3</td>\n",
       "      <td>4.7</td>\n",
       "      <td>3.2</td>\n",
       "      <td>1.3</td>\n",
       "      <td>0.2</td>\n",
       "      <td>Iris-setosa</td>\n",
       "    </tr>\n",
       "  </tbody>\n",
       "</table>\n",
       "</div>"
      ],
      "text/plain": [
       "   Id  SepalLengthCm  SepalWidthCm  PetalLengthCm  PetalWidthCm      Species\n",
       "0   1            5.1           3.5            1.4           0.2  Iris-setosa\n",
       "1   2            4.9           3.0            1.4           0.2  Iris-setosa\n",
       "2   3            4.7           3.2            1.3           0.2  Iris-setosa"
      ]
     },
     "execution_count": 5,
     "metadata": {},
     "output_type": "execute_result"
    }
   ],
   "source": [
    "print(df.shape)\n",
    "df.head(3)"
   ]
  },
  {
   "cell_type": "code",
   "execution_count": 6,
   "metadata": {},
   "outputs": [
    {
     "data": {
      "text/html": [
       "<div>\n",
       "<style scoped>\n",
       "    .dataframe tbody tr th:only-of-type {\n",
       "        vertical-align: middle;\n",
       "    }\n",
       "\n",
       "    .dataframe tbody tr th {\n",
       "        vertical-align: top;\n",
       "    }\n",
       "\n",
       "    .dataframe thead th {\n",
       "        text-align: right;\n",
       "    }\n",
       "</style>\n",
       "<table border=\"1\" class=\"dataframe\">\n",
       "  <thead>\n",
       "    <tr style=\"text-align: right;\">\n",
       "      <th></th>\n",
       "      <th>id</th>\n",
       "      <th>sepal_len</th>\n",
       "      <th>sepal_width</th>\n",
       "      <th>petal_len</th>\n",
       "      <th>petal_width</th>\n",
       "      <th>species</th>\n",
       "    </tr>\n",
       "  </thead>\n",
       "  <tbody>\n",
       "    <tr>\n",
       "      <th>147</th>\n",
       "      <td>148</td>\n",
       "      <td>6.5</td>\n",
       "      <td>3.0</td>\n",
       "      <td>5.2</td>\n",
       "      <td>2.0</td>\n",
       "      <td>Iris-virginica</td>\n",
       "    </tr>\n",
       "    <tr>\n",
       "      <th>148</th>\n",
       "      <td>149</td>\n",
       "      <td>6.2</td>\n",
       "      <td>3.4</td>\n",
       "      <td>5.4</td>\n",
       "      <td>2.3</td>\n",
       "      <td>Iris-virginica</td>\n",
       "    </tr>\n",
       "    <tr>\n",
       "      <th>149</th>\n",
       "      <td>150</td>\n",
       "      <td>5.9</td>\n",
       "      <td>3.0</td>\n",
       "      <td>5.1</td>\n",
       "      <td>1.8</td>\n",
       "      <td>Iris-virginica</td>\n",
       "    </tr>\n",
       "  </tbody>\n",
       "</table>\n",
       "</div>"
      ],
      "text/plain": [
       "      id  sepal_len  sepal_width  petal_len  petal_width         species\n",
       "147  148        6.5          3.0        5.2          2.0  Iris-virginica\n",
       "148  149        6.2          3.4        5.4          2.3  Iris-virginica\n",
       "149  150        5.9          3.0        5.1          1.8  Iris-virginica"
      ]
     },
     "execution_count": 6,
     "metadata": {},
     "output_type": "execute_result"
    }
   ],
   "source": [
    "df.columns = ['id', 'sepal_len', 'sepal_width', 'petal_len', 'petal_width', 'species']\n",
    "df.tail(3)"
   ]
  },
  {
   "cell_type": "code",
   "execution_count": 7,
   "metadata": {},
   "outputs": [
    {
     "data": {
      "text/plain": [
       "array(['Iris-setosa', 'Iris-versicolor', 'Iris-virginica'], dtype=object)"
      ]
     },
     "execution_count": 7,
     "metadata": {},
     "output_type": "execute_result"
    }
   ],
   "source": [
    "df.species.unique()"
   ]
  },
  {
   "cell_type": "code",
   "execution_count": 8,
   "metadata": {},
   "outputs": [
    {
     "data": {
      "text/plain": [
       "Index(['id', 'sepal_len', 'sepal_width', 'petal_len', 'petal_width',\n",
       "       'species'],\n",
       "      dtype='object')"
      ]
     },
     "execution_count": 8,
     "metadata": {},
     "output_type": "execute_result"
    }
   ],
   "source": [
    "df.columns"
   ]
  },
  {
   "cell_type": "code",
   "execution_count": 9,
   "metadata": {},
   "outputs": [
    {
     "data": {
      "text/plain": [
       "(50, 6)"
      ]
     },
     "execution_count": 9,
     "metadata": {},
     "output_type": "execute_result"
    }
   ],
   "source": [
    "name = 'Iris-setosa'\n",
    "df_seto = df[df.species == name]\n",
    "df_seto.shape"
   ]
  },
  {
   "cell_type": "markdown",
   "metadata": {},
   "source": [
    "### Exercício: mostre por groupby que há 50 amostras por espécie\n",
    "\n",
    "   df.groupby .... variavel .. count()"
   ]
  },
  {
   "cell_type": "markdown",
   "metadata": {},
   "source": [
    "### Matriz de correlação - dim = num variáveis ** 2"
   ]
  },
  {
   "cell_type": "code",
   "execution_count": 10,
   "metadata": {},
   "outputs": [
    {
     "data": {
      "text/html": [
       "<div>\n",
       "<style scoped>\n",
       "    .dataframe tbody tr th:only-of-type {\n",
       "        vertical-align: middle;\n",
       "    }\n",
       "\n",
       "    .dataframe tbody tr th {\n",
       "        vertical-align: top;\n",
       "    }\n",
       "\n",
       "    .dataframe thead th {\n",
       "        text-align: right;\n",
       "    }\n",
       "</style>\n",
       "<table border=\"1\" class=\"dataframe\">\n",
       "  <thead>\n",
       "    <tr style=\"text-align: right;\">\n",
       "      <th></th>\n",
       "      <th>sepal_len</th>\n",
       "      <th>sepal_width</th>\n",
       "      <th>petal_len</th>\n",
       "      <th>petal_width</th>\n",
       "    </tr>\n",
       "  </thead>\n",
       "  <tbody>\n",
       "    <tr>\n",
       "      <th>sepal_len</th>\n",
       "      <td>1.000000</td>\n",
       "      <td>0.746780</td>\n",
       "      <td>0.263874</td>\n",
       "      <td>0.279092</td>\n",
       "    </tr>\n",
       "    <tr>\n",
       "      <th>sepal_width</th>\n",
       "      <td>0.746780</td>\n",
       "      <td>1.000000</td>\n",
       "      <td>0.176695</td>\n",
       "      <td>0.279973</td>\n",
       "    </tr>\n",
       "    <tr>\n",
       "      <th>petal_len</th>\n",
       "      <td>0.263874</td>\n",
       "      <td>0.176695</td>\n",
       "      <td>1.000000</td>\n",
       "      <td>0.306308</td>\n",
       "    </tr>\n",
       "    <tr>\n",
       "      <th>petal_width</th>\n",
       "      <td>0.279092</td>\n",
       "      <td>0.279973</td>\n",
       "      <td>0.306308</td>\n",
       "      <td>1.000000</td>\n",
       "    </tr>\n",
       "  </tbody>\n",
       "</table>\n",
       "</div>"
      ],
      "text/plain": [
       "             sepal_len  sepal_width  petal_len  petal_width\n",
       "sepal_len     1.000000     0.746780   0.263874     0.279092\n",
       "sepal_width   0.746780     1.000000   0.176695     0.279973\n",
       "petal_len     0.263874     0.176695   1.000000     0.306308\n",
       "petal_width   0.279092     0.279973   0.306308     1.000000"
      ]
     },
     "execution_count": 10,
     "metadata": {},
     "output_type": "execute_result"
    }
   ],
   "source": [
    "df_seto[ ['sepal_len', 'sepal_width', 'petal_len', 'petal_width'] ].corr()"
   ]
  },
  {
   "cell_type": "markdown",
   "metadata": {},
   "source": [
    "### corr(x, y) == corr(y, x)"
   ]
  },
  {
   "cell_type": "markdown",
   "metadata": {},
   "source": [
    "### Histograma e Scatter plot entre sépala e pétalas de Iris (orquídea)"
   ]
  },
  {
   "cell_type": "code",
   "execution_count": 11,
   "metadata": {},
   "outputs": [
    {
     "data": {
      "image/png": "[encoded data removed]",
      "text/plain": [
       "<Figure size 576x576 with 16 Axes>"
      ]
     },
     "metadata": {
      "needs_background": "light"
     },
     "output_type": "display_data"
    }
   ],
   "source": [
    "ret = pd.plotting.scatter_matrix(df_seto[ ['sepal_len', 'sepal_width', 'petal_len', 'petal_width'] ], figsize=(8, 8))\n",
    "# plt.title('%s pair correlations'%(name));"
   ]
  },
  {
   "cell_type": "code",
   "execution_count": null,
   "metadata": {},
   "outputs": [],
   "source": [
    "ret"
   ]
  },
  {
   "cell_type": "markdown",
   "metadata": {},
   "source": [
    "### Matriz de correlação na forma de Heatmap"
   ]
  },
  {
   "cell_type": "code",
   "execution_count": 12,
   "metadata": {},
   "outputs": [
    {
     "data": {
      "image/png": "[encoded data removed]",
      "text/plain": [
       "<Figure size 432x288 with 2 Axes>"
      ]
     },
     "metadata": {
      "needs_background": "light"
     },
     "output_type": "display_data"
    }
   ],
   "source": [
    "corr_mat = df_seto[ ['sepal_len', 'sepal_width', 'petal_len', 'petal_width'] ].corr()\n",
    "sns.heatmap(corr_mat, annot = True)\n",
    "plt.title('%s correlation matrix'%(name));"
   ]
  },
  {
   "cell_type": "markdown",
   "metadata": {},
   "source": [
    "### Exercício: fazer a matriz de correlação das outras 2 espécies"
   ]
  },
  {
   "cell_type": "code",
   "execution_count": null,
   "metadata": {},
   "outputs": [],
   "source": []
  },
  {
   "cell_type": "markdown",
   "metadata": {},
   "source": [
    "### As medidas (comprimento (len) and largura (width)) devem se aproximar de uma distribuição normal\n",
    "  - mostre que esta afirmação é verdadeira"
   ]
  },
  {
   "cell_type": "code",
   "execution_count": 13,
   "metadata": {},
   "outputs": [
    {
     "data": {
      "text/plain": [
       "('A distribuição se assemelha a uma distriuição normal (não se rejeita a H0)',\n",
       " 'p-value 4.60e-01 (NS)')"
      ]
     },
     "execution_count": 13,
     "metadata": {},
     "output_type": "execute_result"
    }
   ],
   "source": [
    "ret, text, text_stat, stat, pvalue = test_normality_desc(df_seto.sepal_len)\n",
    "text, text_stat"
   ]
  },
  {
   "cell_type": "code",
   "execution_count": 14,
   "metadata": {},
   "outputs": [
    {
     "data": {
      "text/plain": [
       "('A distribuição se assemelha a uma distriuição normal (não se rejeita a H0)',\n",
       " 'p-value 2.05e-01 (NS)')"
      ]
     },
     "execution_count": 14,
     "metadata": {},
     "output_type": "execute_result"
    }
   ],
   "source": [
    "ret, text, text_stat, stat, pvalue = test_normality_desc(df_seto.sepal_width)\n",
    "text, text_stat"
   ]
  },
  {
   "cell_type": "code",
   "execution_count": 15,
   "metadata": {},
   "outputs": [
    {
     "data": {
      "text/plain": [
       "('A distribuição se assemelha a uma distriuição normal (não se rejeita a H0)',\n",
       " 'p-value 5.46e-02 (NS)')"
      ]
     },
     "execution_count": 15,
     "metadata": {},
     "output_type": "execute_result"
    }
   ],
   "source": [
    "ret, text, text_stat, stat, pvalue = test_normality_desc(df_seto.petal_len)\n",
    "text, text_stat"
   ]
  },
  {
   "cell_type": "code",
   "execution_count": 16,
   "metadata": {},
   "outputs": [
    {
     "data": {
      "text/plain": [
       "('A distribuição não se assemelha a uma distriuição normal (rejeita-se a H0)',\n",
       " 'p-value 1.85e-06 (***)')"
      ]
     },
     "execution_count": 16,
     "metadata": {},
     "output_type": "execute_result"
    }
   ],
   "source": [
    "ret, text, text_stat, stat, pvalue = test_normality_desc(df_seto.petal_width)\n",
    "text, text_stat"
   ]
  },
  {
   "cell_type": "markdown",
   "metadata": {},
   "source": [
    "### Como as distribuições são normais\n",
    "### Teste de Hipótese (t-test) entre comparimentos de pétalas/sépalas entre espécies"
   ]
  },
  {
   "cell_type": "code",
   "execution_count": null,
   "metadata": {},
   "outputs": [],
   "source": []
  },
  {
   "cell_type": "markdown",
   "metadata": {},
   "source": [
    "### Vamos calcular correlação de Pearson entre sepal_len x sepal_width\n",
    "  - a correlação de Pearson é somente entre 2 seguem a distribuição normal (contínua)\n",
    "  - não vamos ver aqui, mas há a correlação de Speerman quando uma ou as duas variávies não segue uma distribuição normal mas podem ser ordenadas\n",
    "\n",
    "referências:\n",
    "  - https://www.statsmodels.org/stable/regression.html\n",
    "  - https://realpython.com/numpy-scipy-pandas-correlation-python/\n",
    "  - https://machinelearningmastery.com/how-to-use-correlation-to-understand-the-relationship-between-variables/\n",
    "  - https://benalexkeen.com/correlation-in-python/\n",
    "  "
   ]
  },
  {
   "cell_type": "markdown",
   "metadata": {},
   "source": [
    "### O que é regressão linear:\n",
    "  - uma regressão linear é calculada através de duas variáveis\n",
    "    - x = variável independente\n",
    "    - y = variável dependente\n",
    "      - dependente: se correlação for boa ou ótima\n",
    "      - independente: se correlação não existir, for fraca\n",
    "    \n",
    "### A correlação mede o quanto uma variável dependente (y) depende (se correlaciona) com uma variável independete (x)    \n",
    "    \n",
    "  - se y depende 100% de x, então a correlação = 1 \n",
    "    - exemplo y = 3 * x\n",
    "  - se y depende 100% de x, mas inversamente, então a correlação = -1\n",
    "    - ou seja, quando x cresce y decresce ou vice-versa\n",
    "    - exemplo y = -3 * x\n",
    "  - se y não depende de x, então a correlação fica próximo a 0\n",
    "    - se duas variáveis são independentes (temperatura, T, da atmosfera e altura das crianças numa escola, h) então dizemos que não há correlação entre T e h\n",
    "    - -0.2 < corr < 0.2 - correlação muito fraca - pode ter sindo encontrada 'ao acaso'\n",
    "  - logo a correlação varia de -1 a +1, passando pelo zero.\n",
    "    \n",
    "### Faixa de correlação\n",
    "  - Na prática 'se diz' que\n",
    "    - [.8 a 1] = ótima correlação (pode ser negativo, também)\n",
    "    - [.6 a .8[ = correlação boa\n",
    "    - [.4 a .6[ = correlação regular\n",
    "    - [.2 a .4[ = correlação ruim\n",
    "    - [0 a .2[ = correlação muito ruim, sem correlação\n",
    "    \n",
    "### Importante! Na Biologia a maioria dos fenômenos são NÃO LINEARES\n",
    "  - devido: complexidade\n",
    "  - devido: fenômenos emergentes\n",
    "    - quando a soma de todos os efetios << que o fenômeno final observado == EMERGÊNCIA\n",
    "    \n",
    "  Y = x * z * t**2 * sqrt(k) + 5"
   ]
  },
  {
   "cell_type": "markdown",
   "metadata": {},
   "source": [
    "### Abaixo, o scattrer plot entre largura e comprimento das sépalas da Iris Setosa\n",
    "\n",
    "  - não vemos ainda a regressão linear que pode ser calcula   \n",
    "  - a regressão linear é uma reta que passa entre os pontos minimizando o erro\n",
    "  - erro = desvio entre o valor Y e seu respectivo ponto na reta f(x), onde f(x) = y, reta predita\n"
   ]
  },
  {
   "cell_type": "code",
   "execution_count": 17,
   "metadata": {},
   "outputs": [
    {
     "data": {
      "image/png": "[encoded data removed]",
      "text/plain": [
       "<Figure size 576x288 with 1 Axes>"
      ]
     },
     "metadata": {
      "needs_background": "light"
     },
     "output_type": "display_data"
    }
   ],
   "source": [
    "plt.figure(figsize=(8,4))\n",
    "plt.scatter(df_seto.sepal_width, df_seto.sepal_len)\n",
    "plt.xlabel('sepal length (cm)')\n",
    "plt.ylabel('sepal width (cm)')\n",
    "plt.title('%s scatter plot'%(name));"
   ]
  },
  {
   "cell_type": "markdown",
   "metadata": {},
   "source": [
    "### A correlação de Pearson só pode ser calculada se os valores forem oriundos de distribuições normais"
   ]
  },
  {
   "cell_type": "code",
   "execution_count": 19,
   "metadata": {},
   "outputs": [
    {
     "data": {
      "text/plain": [
       "'correlação = 0.747 and p-value = 4.75e-10'"
      ]
     },
     "execution_count": 19,
     "metadata": {},
     "output_type": "execute_result"
    }
   ],
   "source": [
    "from scipy.stats import pearsonr\n",
    "\n",
    "cor, pval = pearsonr(df_seto.sepal_width, df_seto.sepal_len)\n",
    "'correlação = %.3f and p-value = %.2e'%(cor, pval)"
   ]
  },
  {
   "cell_type": "markdown",
   "metadata": {},
   "source": [
    "### O p-value é retirado da estatística F de variância within e between"
   ]
  },
  {
   "cell_type": "code",
   "execution_count": 22,
   "metadata": {},
   "outputs": [
    {
     "data": {
      "text/html": [
       "<div>\n",
       "<style scoped>\n",
       "    .dataframe tbody tr th:only-of-type {\n",
       "        vertical-align: middle;\n",
       "    }\n",
       "\n",
       "    .dataframe tbody tr th {\n",
       "        vertical-align: top;\n",
       "    }\n",
       "\n",
       "    .dataframe thead th {\n",
       "        text-align: right;\n",
       "    }\n",
       "</style>\n",
       "<table border=\"1\" class=\"dataframe\">\n",
       "  <thead>\n",
       "    <tr style=\"text-align: right;\">\n",
       "      <th></th>\n",
       "      <th>sum_sq</th>\n",
       "      <th>df</th>\n",
       "      <th>F</th>\n",
       "      <th>PR(&gt;F)</th>\n",
       "    </tr>\n",
       "  </thead>\n",
       "  <tbody>\n",
       "    <tr>\n",
       "      <th>sepal_len</th>\n",
       "      <td>3.967231</td>\n",
       "      <td>1.0</td>\n",
       "      <td>60.518947</td>\n",
       "      <td>4.751987e-10</td>\n",
       "    </tr>\n",
       "    <tr>\n",
       "      <th>Residual</th>\n",
       "      <td>3.146569</td>\n",
       "      <td>48.0</td>\n",
       "      <td>NaN</td>\n",
       "      <td>NaN</td>\n",
       "    </tr>\n",
       "  </tbody>\n",
       "</table>\n",
       "</div>"
      ],
      "text/plain": [
       "             sum_sq    df          F        PR(>F)\n",
       "sepal_len  3.967231   1.0  60.518947  4.751987e-10\n",
       "Residual   3.146569  48.0        NaN           NaN"
      ]
     },
     "execution_count": 22,
     "metadata": {},
     "output_type": "execute_result"
    }
   ],
   "source": [
    "#-- ols = ordinary least square\n",
    "#              largura ~ (depende) de comprimento\n",
    "model = ols('sepal_width ~ sepal_len', data=df_seto)\n",
    "fit = model.fit()\n",
    "aov_table = sm.stats.anova_lm(fit, typ=2)\n",
    "aov_table"
   ]
  },
  {
   "cell_type": "code",
   "execution_count": null,
   "metadata": {},
   "outputs": [],
   "source": [
    "# fit.summary()"
   ]
  },
  {
   "cell_type": "code",
   "execution_count": 21,
   "metadata": {},
   "outputs": [
    {
     "data": {
      "text/plain": [
       "Intercept    2.373925e-01\n",
       "sepal_len    4.751987e-10\n",
       "dtype: float64"
      ]
     },
     "execution_count": 21,
     "metadata": {},
     "output_type": "execute_result"
    }
   ],
   "source": [
    "fit.pvalues"
   ]
  },
  {
   "cell_type": "markdown",
   "metadata": {},
   "source": [
    "### Regressão Linear\n",
    "\n",
    "  - uma reta pode ser descrita da forma:\n",
    "\n",
    "y =  intercept + a * x  \n",
    "(lembre-se y = ax+b)\n",
    "\n",
    "  - ou mais generalizadamente\n",
    "  \n",
    "$y = b_0 + b_1 * x$\n",
    "\n",
    "onde b0 = intercept = coeficiente linear  \n",
    "e    b1 = a         = coeficiente angular\n",
    "  "
   ]
  },
  {
   "cell_type": "markdown",
   "metadata": {},
   "source": [
    "### O fitting calcula os parâmetro 'intercept' e 'a'"
   ]
  },
  {
   "cell_type": "code",
   "execution_count": 23,
   "metadata": {},
   "outputs": [
    {
     "data": {
      "text/plain": [
       "(-0.6230117276042182, 0.8072336651226961)"
      ]
     },
     "execution_count": 23,
     "metadata": {},
     "output_type": "execute_result"
    }
   ],
   "source": [
    "intercept, a = fit.params\n",
    "intercept, a"
   ]
  },
  {
   "cell_type": "markdown",
   "metadata": {},
   "source": [
    "### Agora podemos plotar a regressão\n",
    "  - como já afirmamos, acima: uma regressão linear é um cáculo matemático para se calcular uma reta que passa por entre todos valores (x,y) apresentados, minizando o erro total (distância da reta até cada valor y), ora denominado de resíduo"
   ]
  },
  {
   "cell_type": "code",
   "execution_count": 37,
   "metadata": {},
   "outputs": [
    {
     "data": {
      "image/png": "[encoded data removed]",
      "text/plain": [
       "<Figure size 576x288 with 1 Axes>"
      ]
     },
     "metadata": {
      "needs_background": "light"
     },
     "output_type": "display_data"
    }
   ],
   "source": [
    "xseq = np.linspace(4.2, 6, 22)\n",
    "# fitting --> reta predita y = ax + b = ax + intercepto\n",
    "yseq = intercept + a * xseq\n",
    "\n",
    "cor, pval = pearsonr(df_seto.sepal_width, df_seto.sepal_len)\n",
    "stri = 'correlação = %.3f and p-value = %.2e'%(cor, pval)\n",
    "\n",
    "# reta vermelha --> yhat - preditor que minimiza erros\n",
    "# erros : desvio de um ponto qq (y) de seu valor em yhat\n",
    "# erro: diferença entre valor real - valor estimado (predito)\n",
    "plt.figure(figsize=(8,4))\n",
    "plt.scatter(df_seto.sepal_len, df_seto.sepal_width)\n",
    "plt.plot(xseq, yseq, color='red')\n",
    "plt.xlabel('sepal length (cm)')\n",
    "plt.ylabel('sepal width (cm)')\n",
    "plt.title('regressão entre Largura e Comprimento da sépala da %s\\n%s'%(name, stri));"
   ]
  },
  {
   "cell_type": "markdown",
   "metadata": {},
   "source": [
    "### Resíduos\n",
    "\n",
    "### É a diferença entre cada valor de Y (valores observados) pelo Yhat (valores preditos)\n",
    "\n",
    "![residuals](../figure/residuals.png)"
   ]
  },
  {
   "cell_type": "markdown",
   "metadata": {},
   "source": [
    "### Gráfico de resíduos"
   ]
  },
  {
   "cell_type": "code",
   "execution_count": 30,
   "metadata": {},
   "outputs": [
    {
     "data": {
      "image/png": "[encoded data removed]",
      "text/plain": [
       "<Figure size 576x288 with 1 Axes>"
      ]
     },
     "metadata": {
      "needs_background": "light"
     },
     "output_type": "display_data"
    }
   ],
   "source": [
    "plt.figure(figsize=(8,4))\n",
    "\n",
    "plt.scatter(df_seto.sepal_len, fit.resid, color='red')\n",
    "plt.plot(xseq, [0]*len(xseq), color='black')\n",
    "\n",
    "plt.xlabel('sepal length (cm)')\n",
    "plt.ylabel('residuals (errors) = y - yhat')\n",
    "plt.title('residual plot');"
   ]
  },
  {
   "cell_type": "markdown",
   "metadata": {},
   "source": [
    "### Soma dos resíduos"
   ]
  },
  {
   "cell_type": "code",
   "execution_count": 31,
   "metadata": {},
   "outputs": [
    {
     "data": {
      "text/plain": [
       "6.750155989720952e-14"
      ]
     },
     "execution_count": 31,
     "metadata": {},
     "output_type": "execute_result"
    }
   ],
   "source": [
    "np.sum(fit.resid)"
   ]
  },
  {
   "cell_type": "markdown",
   "metadata": {},
   "source": [
    "### O que boa regressão linear?\n",
    "  - É aquela com cor > 0.6, pvalue muito baixo (<< 0.05)\n",
    "  - soma dos resíduos tenda a zero\n",
    "  - histograma dos resíduos seja uma distribuição Normal"
   ]
  },
  {
   "cell_type": "markdown",
   "metadata": {},
   "source": [
    "### Distribuição dos resíduos"
   ]
  },
  {
   "cell_type": "code",
   "execution_count": 32,
   "metadata": {},
   "outputs": [
    {
     "data": {
      "image/png": "[encoded data removed]",
      "text/plain": [
       "<Figure size 432x288 with 1 Axes>"
      ]
     },
     "metadata": {
      "needs_background": "light"
     },
     "output_type": "display_data"
    }
   ],
   "source": [
    "sns.distplot(fit.resid, kde=True, rug=True, norm_hist=True, color='red', rug_kws={\"color\": 'red', \"alpha\": .1,})\n",
    "plt.title('residual distribution (similar to normal?)');"
   ]
  },
  {
   "cell_type": "code",
   "execution_count": 34,
   "metadata": {},
   "outputs": [
    {
     "data": {
      "text/plain": [
       "('A distribuição se assemelha a uma distriuição normal (não se rejeita a H0)',\n",
       " 'p-value 8.30e-01 (NS)')"
      ]
     },
     "execution_count": 34,
     "metadata": {},
     "output_type": "execute_result"
    }
   ],
   "source": [
    "ret, text, text_stat, stat, pvalue = test_normality_desc(fit.resid)\n",
    "text, text_stat"
   ]
  },
  {
   "cell_type": "markdown",
   "metadata": {},
   "source": [
    "### Não pode haver correlação nos resíduos para uma perfeita regressão linear"
   ]
  },
  {
   "cell_type": "code",
   "execution_count": 39,
   "metadata": {},
   "outputs": [
    {
     "data": {
      "text/plain": [
       "'correlation = 0.000 and p-value = 1.00e+00'"
      ]
     },
     "execution_count": 39,
     "metadata": {},
     "output_type": "execute_result"
    }
   ],
   "source": [
    "cor, pval = pearsonr(fit.resid, df_seto.sepal_len)\n",
    "'correlation = %.3f and p-value = %.2e'%(cor, pval)"
   ]
  },
  {
   "cell_type": "markdown",
   "metadata": {},
   "source": [
    "### Exercício: simule valores para correlação cujo valor se aproxima de +1, -1, e 0 (zero)\n",
    "\n",
    "#### Recomendação:\n",
    "  - nas aulas anteriores aprendemos a gerar números randômicos\n",
    "\n",
    "    a) se x = random.normal(2, 1) e y = 2 * x, então a correlação = +1  \n",
    "    b) se x = random.normal(2, 1) e y = random.normal(3, .9), então a correlação é ??  \n",
    "    c) se x = random.normal(2, 1) e y = -1 * x + random.normal(0, 1), então a correlação é ??  \n",
    "    <br>\n",
    "      - neste último caso random.normal(0, 1) é denominado de erro aleatório ou ruído branco"
   ]
  },
  {
   "cell_type": "code",
   "execution_count": null,
   "metadata": {},
   "outputs": [],
   "source": []
  },
  {
   "cell_type": "markdown",
   "metadata": {},
   "source": [
    "### Exemplo não linear\n",
    "\n",
    "y = 2 * x**2 + 1"
   ]
  },
  {
   "cell_type": "code",
   "execution_count": 61,
   "metadata": {},
   "outputs": [
    {
     "data": {
      "text/plain": [
       "Text(0.5, 1.0, 'Equação de segundo grau')"
      ]
     },
     "execution_count": 61,
     "metadata": {},
     "output_type": "execute_result"
    },
    {
     "data": {
      "image/png": "[encoded data removed]",
      "text/plain": [
       "<Figure size 576x288 with 1 Axes>"
      ]
     },
     "metadata": {
      "needs_background": "light"
     },
     "output_type": "display_data"
    }
   ],
   "source": [
    "xseq = np.linspace(-1, 4, 26)\n",
    "yseq = 2 * xseq**2 + 1\n",
    "\n",
    "plt.figure(figsize=(8,4))\n",
    "plt.plot(xseq, yseq, color='blue')\n",
    "plt.xlabel('x')\n",
    "plt.ylabel('y = 2x**2 + 1')\n",
    "plt.title('Equação de segundo grau')"
   ]
  },
  {
   "cell_type": "code",
   "execution_count": 60,
   "metadata": {},
   "outputs": [
    {
     "data": {
      "text/plain": [
       "'correlation = 0.000 and p-value = 1.00e+00'"
      ]
     },
     "execution_count": 60,
     "metadata": {},
     "output_type": "execute_result"
    }
   ],
   "source": [
    "cor, pval = pearsonr(yseq, xseq)\n",
    "'correlation = %.3f and p-value = %.2e'%(cor, pval)"
   ]
  },
  {
   "cell_type": "code",
   "execution_count": 51,
   "metadata": {},
   "outputs": [
    {
     "data": {
      "text/html": [
       "<div>\n",
       "<style scoped>\n",
       "    .dataframe tbody tr th:only-of-type {\n",
       "        vertical-align: middle;\n",
       "    }\n",
       "\n",
       "    .dataframe tbody tr th {\n",
       "        vertical-align: top;\n",
       "    }\n",
       "\n",
       "    .dataframe thead th {\n",
       "        text-align: right;\n",
       "    }\n",
       "</style>\n",
       "<table border=\"1\" class=\"dataframe\">\n",
       "  <thead>\n",
       "    <tr style=\"text-align: right;\">\n",
       "      <th></th>\n",
       "      <th>x</th>\n",
       "      <th>y</th>\n",
       "    </tr>\n",
       "  </thead>\n",
       "  <tbody>\n",
       "    <tr>\n",
       "      <th>0</th>\n",
       "      <td>-1.0</td>\n",
       "      <td>3.00</td>\n",
       "    </tr>\n",
       "    <tr>\n",
       "      <th>1</th>\n",
       "      <td>-0.8</td>\n",
       "      <td>2.28</td>\n",
       "    </tr>\n",
       "    <tr>\n",
       "      <th>2</th>\n",
       "      <td>-0.6</td>\n",
       "      <td>1.72</td>\n",
       "    </tr>\n",
       "    <tr>\n",
       "      <th>3</th>\n",
       "      <td>-0.4</td>\n",
       "      <td>1.32</td>\n",
       "    </tr>\n",
       "    <tr>\n",
       "      <th>4</th>\n",
       "      <td>-0.2</td>\n",
       "      <td>1.08</td>\n",
       "    </tr>\n",
       "  </tbody>\n",
       "</table>\n",
       "</div>"
      ],
      "text/plain": [
       "     x     y\n",
       "0 -1.0  3.00\n",
       "1 -0.8  2.28\n",
       "2 -0.6  1.72\n",
       "3 -0.4  1.32\n",
       "4 -0.2  1.08"
      ]
     },
     "execution_count": 51,
     "metadata": {},
     "output_type": "execute_result"
    }
   ],
   "source": [
    "df2 = pd.DataFrame([xseq, yseq]).T\n",
    "df2.columns = ['x', 'y']\n",
    "df2.head()"
   ]
  },
  {
   "cell_type": "code",
   "execution_count": 52,
   "metadata": {},
   "outputs": [
    {
     "data": {
      "text/html": [
       "<div>\n",
       "<style scoped>\n",
       "    .dataframe tbody tr th:only-of-type {\n",
       "        vertical-align: middle;\n",
       "    }\n",
       "\n",
       "    .dataframe tbody tr th {\n",
       "        vertical-align: top;\n",
       "    }\n",
       "\n",
       "    .dataframe thead th {\n",
       "        text-align: right;\n",
       "    }\n",
       "</style>\n",
       "<table border=\"1\" class=\"dataframe\">\n",
       "  <thead>\n",
       "    <tr style=\"text-align: right;\">\n",
       "      <th></th>\n",
       "      <th>sum_sq</th>\n",
       "      <th>df</th>\n",
       "      <th>F</th>\n",
       "      <th>PR(&gt;F)</th>\n",
       "    </tr>\n",
       "  </thead>\n",
       "  <tbody>\n",
       "    <tr>\n",
       "      <th>x</th>\n",
       "      <td>2106.000</td>\n",
       "      <td>1.0</td>\n",
       "      <td>120.535714</td>\n",
       "      <td>7.696706e-11</td>\n",
       "    </tr>\n",
       "    <tr>\n",
       "      <th>Residual</th>\n",
       "      <td>419.328</td>\n",
       "      <td>24.0</td>\n",
       "      <td>NaN</td>\n",
       "      <td>NaN</td>\n",
       "    </tr>\n",
       "  </tbody>\n",
       "</table>\n",
       "</div>"
      ],
      "text/plain": [
       "            sum_sq    df           F        PR(>F)\n",
       "x         2106.000   1.0  120.535714  7.696706e-11\n",
       "Residual   419.328  24.0         NaN           NaN"
      ]
     },
     "execution_count": 52,
     "metadata": {},
     "output_type": "execute_result"
    }
   ],
   "source": [
    "model = ols('y ~ x', data=df2)\n",
    "fit = model.fit()\n",
    "aov_table = sm.stats.anova_lm(fit, typ=2)\n",
    "aov_table"
   ]
  },
  {
   "cell_type": "code",
   "execution_count": 53,
   "metadata": {},
   "outputs": [
    {
     "data": {
      "text/plain": [
       "Intercept    3.969051e-01\n",
       "x            7.696706e-11\n",
       "dtype: float64"
      ]
     },
     "execution_count": 53,
     "metadata": {},
     "output_type": "execute_result"
    }
   ],
   "source": [
    "fit.pvalues"
   ]
  },
  {
   "cell_type": "code",
   "execution_count": 54,
   "metadata": {},
   "outputs": [
    {
     "data": {
      "text/plain": [
       "(0.9999999999999987, 6.000000000000002)"
      ]
     },
     "execution_count": 54,
     "metadata": {},
     "output_type": "execute_result"
    }
   ],
   "source": [
    "intercept, a = fit.params\n",
    "intercept, a"
   ]
  },
  {
   "cell_type": "markdown",
   "metadata": {},
   "source": [
    "### Predição "
   ]
  },
  {
   "cell_type": "code",
   "execution_count": 55,
   "metadata": {},
   "outputs": [
    {
     "data": {
      "image/png": "[encoded data removed]",
      "text/plain": [
       "<Figure size 576x288 with 1 Axes>"
      ]
     },
     "metadata": {
      "needs_background": "light"
     },
     "output_type": "display_data"
    }
   ],
   "source": [
    "xseq = np.linspace(-1, 4, 26)\n",
    "yseq = 2 * xseq**2 + 1\n",
    "yhat = a*xseq + intercept\n",
    "\n",
    "plt.figure(figsize=(8,4))\n",
    "plt.plot(xseq, yseq, color='blue')\n",
    "plt.plot(xseq, yhat, color='red')\n",
    "plt.xlabel('x')\n",
    "plt.ylabel('y = 2x**2 + 1')\n",
    "\n",
    "stri = 'correlation = %.3f and p-value = %.2e'%(cor, pval)\n",
    "plt.title('Equação de segundo grau\\n%s'%(stri));"
   ]
  },
  {
   "cell_type": "code",
   "execution_count": 56,
   "metadata": {},
   "outputs": [
    {
     "data": {
      "text/plain": [
       "-2.1316282072803006e-14"
      ]
     },
     "execution_count": 56,
     "metadata": {},
     "output_type": "execute_result"
    }
   ],
   "source": [
    "np.sum(fit.resid)"
   ]
  },
  {
   "cell_type": "markdown",
   "metadata": {},
   "source": [
    "### Gráfico de resíduos"
   ]
  },
  {
   "cell_type": "code",
   "execution_count": 57,
   "metadata": {},
   "outputs": [
    {
     "data": {
      "image/png": "[encoded data removed]",
      "text/plain": [
       "<Figure size 576x288 with 1 Axes>"
      ]
     },
     "metadata": {
      "needs_background": "light"
     },
     "output_type": "display_data"
    }
   ],
   "source": [
    "plt.figure(figsize=(8,4))\n",
    "\n",
    "plt.scatter(df2.x, fit.resid, color='red')\n",
    "plt.plot(xseq, [0]*len(xseq), color='black')\n",
    "\n",
    "plt.xlabel('x')\n",
    "plt.ylabel('residuals (errors) = y - yhat')\n",
    "plt.title('residual plot');"
   ]
  },
  {
   "cell_type": "code",
   "execution_count": 58,
   "metadata": {},
   "outputs": [
    {
     "data": {
      "image/png": "[encoded data removed]",
      "text/plain": [
       "<Figure size 432x288 with 1 Axes>"
      ]
     },
     "metadata": {
      "needs_background": "light"
     },
     "output_type": "display_data"
    }
   ],
   "source": [
    "sns.distplot(fit.resid, kde=True, rug=True, norm_hist=True, color='red', rug_kws={\"color\": 'red', \"alpha\": .1,})\n",
    "plt.title('residual distribution (similar to normal?)');"
   ]
  }
 ],
 "metadata": {
  "kernelspec": {
   "display_name": "Python 3",
   "language": "python",
   "name": "python3"
  },
  "language_info": {
   "codemirror_mode": {
    "name": "ipython",
    "version": 3
   },
   "file_extension": ".py",
   "mimetype": "text/x-python",
   "name": "python",
   "nbconvert_exporter": "python",
   "pygments_lexer": "ipython3",
   "version": "3.7.7"
  }
 },
 "nbformat": 4,
 "nbformat_minor": 4
}
