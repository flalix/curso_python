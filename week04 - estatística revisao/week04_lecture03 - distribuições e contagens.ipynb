{
 "cells": [
  {
   "cell_type": "markdown",
   "metadata": {},
   "source": [
    "### Estatística descritiva\n",
    "  \n",
    "Distribuições discretas:  https://en.wikipedia.org/wiki/List_of_probability_distributions\n",
    "  - Uniform\n",
    "  - Binomial\n",
    "  - Multinomial\n",
    "  - Poisson\n",
    "  - Geométrica\n",
    "  - Hipergeométrica\n",
    "  - Binomial negativa\n",
    "  \n",
    "Distribuições contínuas: https://en.wikipedia.org/wiki/Probability_distribution#Continuous_probability_distribution\n",
    "  - Uniform\n",
    "  - Normal (gaussian)\n",
    "  - Gamma (Exponential)\n",
    "  - Beta\n",
    "  - Logistic\n",
    "\n",
    "and others"
   ]
  },
  {
   "cell_type": "code",
   "execution_count": 2,
   "metadata": {},
   "outputs": [],
   "source": [
    "import os, sys, math\n",
    "import numpy as np\n",
    "import pandas as pd\n",
    "import seaborn as sns\n",
    "from scipy import stats\n",
    "\n",
    "import matplotlib.pyplot as plt # matplotlib e seu alias plt\n",
    "%matplotlib inline"
   ]
  },
  {
   "cell_type": "markdown",
   "metadata": {},
   "source": [
    "### Uniform discrete distribution"
   ]
  },
  {
   "cell_type": "code",
   "execution_count": 9,
   "metadata": {},
   "outputs": [
    {
     "data": {
      "image/png": "[encoded data removed]",
      "text/plain": [
       "<Figure size 720x432 with 1 Axes>"
      ]
     },
     "metadata": {
      "needs_background": "light"
     },
     "output_type": "display_data"
    }
   ],
   "source": [
    "N = 10000\n",
    "limSup = 10\n",
    "nums = np.random.randint(0, limSup, N)\n",
    "\n",
    "fig = plt.figure(figsize=(10,6))\n",
    "ax = sns.distplot(nums, hist=True, kde=False)\n",
    "ax.set_title(\"Distribuição Uniforme Discreta\")\n",
    "ax.set_xticks(np.arange(0, limSup));"
   ]
  },
  {
   "cell_type": "markdown",
   "metadata": {},
   "source": [
    "## Distribuição binomial\n",
    "  - binomial: sim / não, cara / coroa, mutou / não mutou"
   ]
  },
  {
   "cell_type": "markdown",
   "metadata": {},
   "source": [
    "![binomial distribution](../figure/binomial_distribution.jpg)"
   ]
  },
  {
   "cell_type": "code",
   "execution_count": 10,
   "metadata": {},
   "outputs": [
    {
     "data": {
      "image/png": "[encoded data removed]",
      "text/plain": [
       "<Figure size 720x432 with 1 Axes>"
      ]
     },
     "metadata": {
      "needs_background": "light"
     },
     "output_type": "display_data"
    }
   ],
   "source": [
    "from scipy.stats import norm\n",
    "\n",
    "n = 5    # moedas\n",
    "p = 0.5  # dado não viciado p(cara) = p(coroa) = .5\n",
    "N = 1000\n",
    "jogo = np.random.binomial(n, p, N)\n",
    "\n",
    "muj  = np.mean(jogo)\n",
    "ssdj = np.std(jogo)\n",
    "vc = ssdj/muj\n",
    "\n",
    "fig = plt.figure(figsize=(10,6))\n",
    "ax = sns.distplot(jogo, hist=True, kde=False, fit=norm)\n",
    "ax.axvline(n/2, color='red')\n",
    "ax.set_title(\"Uma distribuição binomial discreta\\nmédia = %.2f (%.2f) e CV = %.2f%%\"%(muj, ssdj, vc*100));"
   ]
  },
  {
   "cell_type": "markdown",
   "metadata": {},
   "source": [
    "## Distribuição multinomial\n",
    "  - multinomial: p(cor dos olhos), trânsito: vazio, livre, médio, congestionado, parado"
   ]
  },
  {
   "cell_type": "markdown",
   "metadata": {},
   "source": [
    "![binomial distribution](../figure/multinomial_distribution.jpg)"
   ]
  },
  {
   "cell_type": "code",
   "execution_count": 17,
   "metadata": {},
   "outputs": [],
   "source": [
    "from scipy.stats import multinomial"
   ]
  },
  {
   "cell_type": "code",
   "execution_count": 31,
   "metadata": {},
   "outputs": [
    {
     "data": {
      "text/plain": [
       "1.0"
      ]
     },
     "execution_count": 31,
     "metadata": {},
     "output_type": "execute_result"
    }
   ],
   "source": [
    "pVazio = 0.01\n",
    "pPouco = 0.10\n",
    "pMedio = 0.4\n",
    "pConge = 0.44\n",
    "pParad = 0.05\n",
    "\n",
    "pVazio + pPouco + pMedio + pConge + pParad"
   ]
  },
  {
   "cell_type": "code",
   "execution_count": 32,
   "metadata": {},
   "outputs": [],
   "source": [
    "## numero de dias verificados pela Cia de Transito\n",
    "n = 10"
   ]
  },
  {
   "cell_type": "code",
   "execution_count": 33,
   "metadata": {},
   "outputs": [],
   "source": [
    "rv = multinomial(n, [pVazio, pPouco, pMedio, pConge, pParad])"
   ]
  },
  {
   "cell_type": "code",
   "execution_count": 34,
   "metadata": {},
   "outputs": [
    {
     "data": {
      "text/plain": [
       "2.5200000000000054e-13"
      ]
     },
     "execution_count": 34,
     "metadata": {},
     "output_type": "execute_result"
    }
   ],
   "source": [
    "# qual a probabilidade e 5 dias vazios e 5 dias Baixo\n",
    "rv.pmf([5, 5, 0, 0, 0])"
   ]
  },
  {
   "cell_type": "code",
   "execution_count": 37,
   "metadata": {},
   "outputs": [
    {
     "data": {
      "text/plain": [
       "0.053195377213440004"
      ]
     },
     "execution_count": 37,
     "metadata": {},
     "output_type": "execute_result"
    }
   ],
   "source": [
    "# qual a probabilidade e 0 dias vazios, 1 dia Baixo, 4 dias Medio, 5 dia Congestionados, 0 dia parado\n",
    "rv.pmf([0, 1, 4, 5, 0])"
   ]
  },
  {
   "cell_type": "code",
   "execution_count": 38,
   "metadata": {},
   "outputs": [
    {
     "data": {
      "text/plain": [
       "0.030224646144000108"
      ]
     },
     "execution_count": 38,
     "metadata": {},
     "output_type": "execute_result"
    }
   ],
   "source": [
    "# qual a probabilidade e 0 dias vazios, 1 dia Baixo, 4 dias Medio, 4 dia Congestionados, 1 dia parado\n",
    "rv.pmf([0, 1, 4, 4, 1])"
   ]
  },
  {
   "cell_type": "code",
   "execution_count": null,
   "metadata": {},
   "outputs": [],
   "source": []
  },
  {
   "cell_type": "markdown",
   "metadata": {},
   "source": [
    "### De quantas forma posso colocar 5 tipos de transito em 10 dias\n",
    "  - 5^10 = 9765625"
   ]
  },
  {
   "cell_type": "markdown",
   "metadata": {},
   "source": [
    "### Neste caso a forma mais dificil é 10 dias com transito vazio:\n",
    "   - 0.01 ** 10 ~  10^-20 (impossível, muito raro)"
   ]
  },
  {
   "cell_type": "markdown",
   "metadata": {},
   "source": [
    "### Já a combinação de transito médio (0.4) e congestionado (.44) é muito provável\n",
    "### Permutação 10 | 2 = 10 * 9 = 90 formas "
   ]
  },
  {
   "cell_type": "code",
   "execution_count": 66,
   "metadata": {},
   "outputs": [
    {
     "name": "stdout",
     "output_type": "stream",
     "text": [
      "1 ) 1  combinações 0 10 0.0002719736093841819\n",
      "2 ) 10  combinações 1 9 0.002472487358038018\n",
      "3 ) 45  combinações 2 8 0.010114721010155526\n",
      "4 ) 120  combinações 3 7 0.024520535782195214\n",
      "5 ) 210  combinações 4 6 0.03900994328985606\n",
      "6 ) 252  combinações 5 5 0.04255630177075204\n",
      "7 ) 210  combinações 6 4 0.032239622553599995\n",
      "8 ) 120  combinações 7 3 0.016747855872000016\n",
      "9 ) 45  combinações 8 2 0.005709496320000016\n",
      "10 ) 10  combinações 9 1 0.0011534336000000017\n"
     ]
    }
   ],
   "source": [
    "count = 0\n",
    "for i in range(0, 10):\n",
    "    count += 1\n",
    "    j = 10-i\n",
    "    \n",
    "    comb = combinations([1, 2, 3, 4, 5, 6, 7, 8, 9, 10], j)\n",
    "    ncomb = len(list(comb))\n",
    "\n",
    "    print(count, \")\", ncomb, \" combinações\", i, j, rv.pmf([0, 0, i, j, 0]) )"
   ]
  },
  {
   "cell_type": "code",
   "execution_count": 65,
   "metadata": {},
   "outputs": [
    {
     "name": "stdout",
     "output_type": "stream",
     "text": [
      "120\n"
     ]
    }
   ],
   "source": [
    "from itertools import combinations \n",
    "\n",
    "comb = combinations([1, 2, 3, 4, 5, 6, 7, 8, 9, 10], 3)\n",
    "print( len(list(comb)))"
   ]
  },
  {
   "cell_type": "markdown",
   "metadata": {},
   "source": [
    "### De quantas formas posso colocar 3 ovos coloridos em 2 buracos\n",
    "3 > 2"
   ]
  },
  {
   "cell_type": "markdown",
   "metadata": {},
   "source": [
    "### Quando a ordem não importa (1,2) == (2,1) usa-se combinação"
   ]
  },
  {
   "cell_type": "code",
   "execution_count": 41,
   "metadata": {},
   "outputs": [
    {
     "name": "stdout",
     "output_type": "stream",
     "text": [
      "(1, 2)\n",
      "(1, 3)\n",
      "(2, 3)\n"
     ]
    }
   ],
   "source": [
    "from itertools import combinations \n",
    "\n",
    "for comb in combinations([1,2,3], 2):\n",
    "    print(comb)"
   ]
  },
  {
   "cell_type": "markdown",
   "metadata": {},
   "source": [
    "### Quando a ordem importa (1,2) != (2,1) usa-se permutação"
   ]
  },
  {
   "cell_type": "code",
   "execution_count": 50,
   "metadata": {},
   "outputs": [
    {
     "name": "stdout",
     "output_type": "stream",
     "text": [
      "(1, 2)\n",
      "(1, 3)\n",
      "(2, 1)\n",
      "(2, 3)\n",
      "(3, 1)\n",
      "(3, 2)\n"
     ]
    }
   ],
   "source": [
    "from itertools import permutations \n",
    "\n",
    "perm = permutations([1, 2, 3], 2)\n",
    "\n",
    "for i in perm: \n",
    "    print(i)\n"
   ]
  },
  {
   "cell_type": "markdown",
   "metadata": {},
   "source": [
    "### de quantas formas de transito (5) posso colocar em 10 dias: combinação de 10, 5 a 5 = (10 | 5)\n",
    "5 < 10  \n",
    "\n",
    "10 dias livres ... nada  \n",
    " 9 dias livres ... 1 em cada outro  \n",
    " 8 dias livres ....2 em cada outro  \n",
    "               ....1 + 1 em cada outro  \n",
    "               \n",
    "### Problema dos elevadores\n",
    "\n",
    "  - tenho várias entradas\n",
    "  - entro várias vezes\n",
    "  \n",
    "### Exemplo: 3 elevadores (do térreo até 10o andar), no 10o andar tenho 2 elevadores\n",
    "### De quantas formas chego no 15o andar?\n",
    "\n",
    "3 * 2 = 6"
   ]
  },
  {
   "cell_type": "markdown",
   "metadata": {},
   "source": [
    "### vamos pensar somente em dois tipos de transito, M, C (medio e congestionado)\n",
    "### vamos pensar em 3 dias possíveis\n",
    "\n",
    "### Problema do DNA\n",
    "  - 4 nucleotideos\n",
    "  - sequências de 5\n",
    "  - quantas formas?\n",
    "    - 4**5\n",
    "    \n",
    "    \n",
    "### Problema do formas x dias\n",
    "  - 2 formas\n",
    "  - 3 dias\n",
    "  - quantas formas?\n",
    "    - 2**3 = 2 * 2 * 2 (duas possíveis formas em cada dia)\n",
    "    \n",
    "    \n",
    "de quantas formas posso colocar M e C em 3 buracos\n",
    "\n",
    "MMM  \n",
    "MMC  \n",
    "\n",
    "MCM  \n",
    "MCC  \n",
    " \n",
    "CMM  \n",
    "CMC  \n",
    "\n",
    "CCM  \n",
    "CCC  \n",
    "\n",
    "### 2 formas em cada 3 dias\n",
    "2 * 2 * 2  \n",
    "\n",
    "2^3"
   ]
  },
  {
   "cell_type": "markdown",
   "metadata": {},
   "source": [
    "### 2 formas em 4 dias\n",
    "\n",
    "\n",
    "MMMM  \n",
    "MMMC  \n",
    "\n",
    "MMCM  \n",
    "MMCC  \n",
    "\n",
    "MCMM  \n",
    "MCMC  \n",
    "\n",
    "MCCM  \n",
    "MCCC  \n",
    "\n",
    "CMMM  \n",
    "CMMC  \n",
    "\n",
    "CMCM  \n",
    "CMCC  \n",
    "\n",
    "CCMM  \n",
    "CCMC  \n",
    "\n",
    "CCCM  \n",
    "CCCC  \n",
    "\n",
    "2 * 2 * 2 * 2 = 16\n",
    "2^4 (dias)"
   ]
  },
  {
   "cell_type": "markdown",
   "metadata": {},
   "source": [
    "### 5 formas x 10 dias\n",
    "### similar a 4 nucleotídeos numa sequência de 10 pb\n",
    "  \n",
    "5^10 uauuuu"
   ]
  },
  {
   "cell_type": "code",
   "execution_count": null,
   "metadata": {},
   "outputs": [],
   "source": []
  },
  {
   "cell_type": "code",
   "execution_count": null,
   "metadata": {},
   "outputs": [],
   "source": []
  }
 ],
 "metadata": {
  "kernelspec": {
   "display_name": "Python 3",
   "language": "python",
   "name": "python3"
  },
  "language_info": {
   "codemirror_mode": {
    "name": "ipython",
    "version": 3
   },
   "file_extension": ".py",
   "mimetype": "text/x-python",
   "name": "python",
   "nbconvert_exporter": "python",
   "pygments_lexer": "ipython3",
   "version": "3.7.7"
  }
 },
 "nbformat": 4,
 "nbformat_minor": 4
}
