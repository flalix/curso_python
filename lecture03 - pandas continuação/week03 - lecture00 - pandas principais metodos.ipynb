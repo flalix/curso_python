{
 "cells": [
  {
   "cell_type": "markdown",
   "metadata": {},
   "source": [
    "### Pandas x Dictionary\n",
    "\n",
    "Nós terminamos a aula anterior apresentando um dictionário (dictionary) para vocês.\n",
    "\n",
    "Há dois tipos de dicionário:\n",
    "  - Não ordenado\n",
    "  - Ordenado"
   ]
  },
  {
   "cell_type": "code",
   "execution_count": 11,
   "metadata": {},
   "outputs": [],
   "source": [
    "import os, sys\n",
    "import pandas as pd # pandas e seu alias pd\n",
    "import numpy as np  # numpy  e seu alias np\n",
    "\n",
    "import matplotlib.pyplot as plt # matplotlib e seu alias plt\n",
    "%matplotlib inline"
   ]
  },
  {
   "cell_type": "markdown",
   "metadata": {},
   "source": [
    "### Dicionário não ordenado\n",
    "\n",
    "você pode inicializá-lo de duas formas:\n",
    "  - meu_dic = dict()\n",
    "  - meu_dic = {}\n",
    "  \n",
    "abaixo crio um dictionary com nome 'dic' não confunda com o método 'dict()' que tem um t a mais."
   ]
  },
  {
   "cell_type": "code",
   "execution_count": 1,
   "metadata": {},
   "outputs": [
    {
     "data": {
      "text/plain": [
       "3"
      ]
     },
     "execution_count": 1,
     "metadata": {},
     "output_type": "execute_result"
    }
   ],
   "source": [
    "dic = {}\n",
    "dic['a'] = 0\n",
    "dic['b'] = 1\n",
    "dic['c'] = 2\n",
    "\n",
    "len(dic)"
   ]
  },
  {
   "cell_type": "markdown",
   "metadata": {},
   "source": [
    "### Outra forma de construir um dicionário"
   ]
  },
  {
   "cell_type": "code",
   "execution_count": 5,
   "metadata": {},
   "outputs": [
    {
     "data": {
      "text/plain": [
       "(dict, {'a': 0, 'b': 1, 'c': 2})"
      ]
     },
     "execution_count": 5,
     "metadata": {},
     "output_type": "execute_result"
    }
   ],
   "source": [
    "dic = {'a':0, 'b':1, 'c':2}\n",
    "type(dic), dic"
   ]
  },
  {
   "cell_type": "markdown",
   "metadata": {},
   "source": [
    "### Olhando o conteúdo usando a chave (key)"
   ]
  },
  {
   "cell_type": "code",
   "execution_count": 6,
   "metadata": {},
   "outputs": [
    {
     "name": "stdout",
     "output_type": "stream",
     "text": [
      "a\n",
      "b\n",
      "c\n"
     ]
    }
   ],
   "source": [
    "for key in dic.keys():\n",
    "    print(key)"
   ]
  },
  {
   "cell_type": "markdown",
   "metadata": {},
   "source": [
    "### Pesquisando 'chave' (key) e 'valor' (dic[key])"
   ]
  },
  {
   "cell_type": "code",
   "execution_count": 7,
   "metadata": {},
   "outputs": [
    {
     "name": "stdout",
     "output_type": "stream",
     "text": [
      "a 0\n",
      "b 1\n",
      "c 2\n"
     ]
    }
   ],
   "source": [
    "for key in dic.keys():\n",
    "    print(key, dic[key])"
   ]
  },
  {
   "cell_type": "markdown",
   "metadata": {},
   "source": [
    "### Usando items() - mais fácil, rápido e seguro"
   ]
  },
  {
   "cell_type": "code",
   "execution_count": 8,
   "metadata": {},
   "outputs": [
    {
     "name": "stdout",
     "output_type": "stream",
     "text": [
      "a 0\n",
      "b 1\n",
      "c 2\n"
     ]
    }
   ],
   "source": [
    "for key, val in dic.items():\n",
    "    print(key, val)"
   ]
  },
  {
   "cell_type": "markdown",
   "metadata": {},
   "source": [
    "### Porque um dicionário é importante para o Pandas?\n",
    "### Vamos construir um dicionário mais complexo e tranformá-lo numa tabela Pandas"
   ]
  },
  {
   "cell_type": "code",
   "execution_count": 9,
   "metadata": {},
   "outputs": [
    {
     "data": {
      "text/plain": [
       "(4, dict_keys(['a1', 'a2', 'a3', 'a4']))"
      ]
     },
     "execution_count": 9,
     "metadata": {},
     "output_type": "execute_result"
    }
   ],
   "source": [
    "## 4 animais, a1 ... a4\n",
    "\n",
    "dic = {}\n",
    "dic['a1'] = [3.26, 'cm', 'cinza', '223.4', 'g']\n",
    "dic['a2'] = [4.26, 'cm', 'cinza rajado', '242.3', 'g']\n",
    "dic['a3'] = [3.76, 'cm', 'cinza', '278.8', 'g']\n",
    "dic['a4'] = [4.58, 'cm', 'cinza, preto e laranja', '305.1', 'g']\n",
    "len(dic), dic.keys()"
   ]
  },
  {
   "cell_type": "markdown",
   "metadata": {},
   "source": [
    "### Veja pandas to_dict()\n",
    "\n",
    "https://pandas.pydata.org/pandas-docs/stable/reference/api/pandas.DataFrame.from_dict.html  \n",
    "https://stackoverflow.com/questions/18837262/convert-python-dict-into-a-dataframe"
   ]
  },
  {
   "cell_type": "code",
   "execution_count": 12,
   "metadata": {},
   "outputs": [
    {
     "data": {
      "text/html": [
       "<div>\n",
       "<style scoped>\n",
       "    .dataframe tbody tr th:only-of-type {\n",
       "        vertical-align: middle;\n",
       "    }\n",
       "\n",
       "    .dataframe tbody tr th {\n",
       "        vertical-align: top;\n",
       "    }\n",
       "\n",
       "    .dataframe thead th {\n",
       "        text-align: right;\n",
       "    }\n",
       "</style>\n",
       "<table border=\"1\" class=\"dataframe\">\n",
       "  <thead>\n",
       "    <tr style=\"text-align: right;\">\n",
       "      <th></th>\n",
       "      <th>a1</th>\n",
       "      <th>a2</th>\n",
       "      <th>a3</th>\n",
       "      <th>a4</th>\n",
       "    </tr>\n",
       "  </thead>\n",
       "  <tbody>\n",
       "    <tr>\n",
       "      <th>0</th>\n",
       "      <td>3.26</td>\n",
       "      <td>4.26</td>\n",
       "      <td>3.76</td>\n",
       "      <td>4.58</td>\n",
       "    </tr>\n",
       "    <tr>\n",
       "      <th>1</th>\n",
       "      <td>cm</td>\n",
       "      <td>cm</td>\n",
       "      <td>cm</td>\n",
       "      <td>cm</td>\n",
       "    </tr>\n",
       "    <tr>\n",
       "      <th>2</th>\n",
       "      <td>cinza</td>\n",
       "      <td>cinza rajado</td>\n",
       "      <td>cinza</td>\n",
       "      <td>cinza, preto e laranja</td>\n",
       "    </tr>\n",
       "    <tr>\n",
       "      <th>3</th>\n",
       "      <td>223.4</td>\n",
       "      <td>242.3</td>\n",
       "      <td>278.8</td>\n",
       "      <td>305.1</td>\n",
       "    </tr>\n",
       "    <tr>\n",
       "      <th>4</th>\n",
       "      <td>g</td>\n",
       "      <td>g</td>\n",
       "      <td>g</td>\n",
       "      <td>g</td>\n",
       "    </tr>\n",
       "  </tbody>\n",
       "</table>\n",
       "</div>"
      ],
      "text/plain": [
       "      a1            a2     a3                      a4\n",
       "0   3.26          4.26   3.76                    4.58\n",
       "1     cm            cm     cm                      cm\n",
       "2  cinza  cinza rajado  cinza  cinza, preto e laranja\n",
       "3  223.4         242.3  278.8                   305.1\n",
       "4      g             g      g                       g"
      ]
     },
     "execution_count": 12,
     "metadata": {},
     "output_type": "execute_result"
    }
   ],
   "source": [
    "df = pd.DataFrame.from_dict(dic)\n",
    "df"
   ]
  },
  {
   "cell_type": "markdown",
   "metadata": {},
   "source": [
    "### Transpondo a tabela (rodando 90 graus)"
   ]
  },
  {
   "cell_type": "code",
   "execution_count": 13,
   "metadata": {},
   "outputs": [
    {
     "data": {
      "text/html": [
       "<div>\n",
       "<style scoped>\n",
       "    .dataframe tbody tr th:only-of-type {\n",
       "        vertical-align: middle;\n",
       "    }\n",
       "\n",
       "    .dataframe tbody tr th {\n",
       "        vertical-align: top;\n",
       "    }\n",
       "\n",
       "    .dataframe thead th {\n",
       "        text-align: right;\n",
       "    }\n",
       "</style>\n",
       "<table border=\"1\" class=\"dataframe\">\n",
       "  <thead>\n",
       "    <tr style=\"text-align: right;\">\n",
       "      <th></th>\n",
       "      <th>0</th>\n",
       "      <th>1</th>\n",
       "      <th>2</th>\n",
       "      <th>3</th>\n",
       "      <th>4</th>\n",
       "    </tr>\n",
       "  </thead>\n",
       "  <tbody>\n",
       "    <tr>\n",
       "      <th>a1</th>\n",
       "      <td>3.26</td>\n",
       "      <td>cm</td>\n",
       "      <td>cinza</td>\n",
       "      <td>223.4</td>\n",
       "      <td>g</td>\n",
       "    </tr>\n",
       "    <tr>\n",
       "      <th>a2</th>\n",
       "      <td>4.26</td>\n",
       "      <td>cm</td>\n",
       "      <td>cinza rajado</td>\n",
       "      <td>242.3</td>\n",
       "      <td>g</td>\n",
       "    </tr>\n",
       "    <tr>\n",
       "      <th>a3</th>\n",
       "      <td>3.76</td>\n",
       "      <td>cm</td>\n",
       "      <td>cinza</td>\n",
       "      <td>278.8</td>\n",
       "      <td>g</td>\n",
       "    </tr>\n",
       "    <tr>\n",
       "      <th>a4</th>\n",
       "      <td>4.58</td>\n",
       "      <td>cm</td>\n",
       "      <td>cinza, preto e laranja</td>\n",
       "      <td>305.1</td>\n",
       "      <td>g</td>\n",
       "    </tr>\n",
       "  </tbody>\n",
       "</table>\n",
       "</div>"
      ],
      "text/plain": [
       "       0   1                       2      3  4\n",
       "a1  3.26  cm                   cinza  223.4  g\n",
       "a2  4.26  cm            cinza rajado  242.3  g\n",
       "a3  3.76  cm                   cinza  278.8  g\n",
       "a4  4.58  cm  cinza, preto e laranja  305.1  g"
      ]
     },
     "execution_count": 13,
     "metadata": {},
     "output_type": "execute_result"
    }
   ],
   "source": [
    "df = pd.DataFrame.from_dict(dic).T\n",
    "df"
   ]
  },
  {
   "cell_type": "markdown",
   "metadata": {},
   "source": [
    "### Clocando nomes"
   ]
  },
  {
   "cell_type": "code",
   "execution_count": 14,
   "metadata": {},
   "outputs": [
    {
     "data": {
      "text/html": [
       "<div>\n",
       "<style scoped>\n",
       "    .dataframe tbody tr th:only-of-type {\n",
       "        vertical-align: middle;\n",
       "    }\n",
       "\n",
       "    .dataframe tbody tr th {\n",
       "        vertical-align: top;\n",
       "    }\n",
       "\n",
       "    .dataframe thead th {\n",
       "        text-align: right;\n",
       "    }\n",
       "</style>\n",
       "<table border=\"1\" class=\"dataframe\">\n",
       "  <thead>\n",
       "    <tr style=\"text-align: right;\">\n",
       "      <th></th>\n",
       "      <th>comprimento</th>\n",
       "      <th>uni_comp</th>\n",
       "      <th>cor</th>\n",
       "      <th>peso</th>\n",
       "      <th>uni_peso</th>\n",
       "    </tr>\n",
       "  </thead>\n",
       "  <tbody>\n",
       "    <tr>\n",
       "      <th>a1</th>\n",
       "      <td>3.26</td>\n",
       "      <td>cm</td>\n",
       "      <td>cinza</td>\n",
       "      <td>223.4</td>\n",
       "      <td>g</td>\n",
       "    </tr>\n",
       "    <tr>\n",
       "      <th>a2</th>\n",
       "      <td>4.26</td>\n",
       "      <td>cm</td>\n",
       "      <td>cinza rajado</td>\n",
       "      <td>242.3</td>\n",
       "      <td>g</td>\n",
       "    </tr>\n",
       "    <tr>\n",
       "      <th>a3</th>\n",
       "      <td>3.76</td>\n",
       "      <td>cm</td>\n",
       "      <td>cinza</td>\n",
       "      <td>278.8</td>\n",
       "      <td>g</td>\n",
       "    </tr>\n",
       "    <tr>\n",
       "      <th>a4</th>\n",
       "      <td>4.58</td>\n",
       "      <td>cm</td>\n",
       "      <td>cinza, preto e laranja</td>\n",
       "      <td>305.1</td>\n",
       "      <td>g</td>\n",
       "    </tr>\n",
       "  </tbody>\n",
       "</table>\n",
       "</div>"
      ],
      "text/plain": [
       "   comprimento uni_comp                     cor   peso uni_peso\n",
       "a1        3.26       cm                   cinza  223.4        g\n",
       "a2        4.26       cm            cinza rajado  242.3        g\n",
       "a3        3.76       cm                   cinza  278.8        g\n",
       "a4        4.58       cm  cinza, preto e laranja  305.1        g"
      ]
     },
     "execution_count": 14,
     "metadata": {},
     "output_type": "execute_result"
    }
   ],
   "source": [
    "df = pd.DataFrame.from_dict(dic).T\n",
    "df.columns = ['comprimento', 'uni_comp', 'cor', 'peso', 'uni_peso']\n",
    "df"
   ]
  },
  {
   "cell_type": "markdown",
   "metadata": {},
   "source": [
    "### Outra forma de usar dicionário x tabela Pandas\n",
    "\n",
    "vendo conteúdo do index e de colunas (pd.Series)"
   ]
  },
  {
   "cell_type": "code",
   "execution_count": 17,
   "metadata": {},
   "outputs": [
    {
     "data": {
      "text/plain": [
       "Index(['a1', 'a2', 'a3', 'a4'], dtype='object')"
      ]
     },
     "execution_count": 17,
     "metadata": {},
     "output_type": "execute_result"
    }
   ],
   "source": [
    "df.index"
   ]
  },
  {
   "cell_type": "code",
   "execution_count": 22,
   "metadata": {},
   "outputs": [
    {
     "data": {
      "text/plain": [
       "['g', 'g', 'g', 'g']"
      ]
     },
     "execution_count": 22,
     "metadata": {},
     "output_type": "execute_result"
    }
   ],
   "source": [
    "list(df.uni_peso)"
   ]
  },
  {
   "cell_type": "code",
   "execution_count": 23,
   "metadata": {},
   "outputs": [
    {
     "data": {
      "text/html": [
       "<div>\n",
       "<style scoped>\n",
       "    .dataframe tbody tr th:only-of-type {\n",
       "        vertical-align: middle;\n",
       "    }\n",
       "\n",
       "    .dataframe tbody tr th {\n",
       "        vertical-align: top;\n",
       "    }\n",
       "\n",
       "    .dataframe thead th {\n",
       "        text-align: right;\n",
       "    }\n",
       "</style>\n",
       "<table border=\"1\" class=\"dataframe\">\n",
       "  <thead>\n",
       "    <tr style=\"text-align: right;\">\n",
       "      <th></th>\n",
       "      <th>animal</th>\n",
       "      <th>peso</th>\n",
       "      <th>uni_comp</th>\n",
       "      <th>cor</th>\n",
       "      <th>uni_peso</th>\n",
       "    </tr>\n",
       "  </thead>\n",
       "  <tbody>\n",
       "    <tr>\n",
       "      <th>0</th>\n",
       "      <td>a1</td>\n",
       "      <td>223.4</td>\n",
       "      <td>cm</td>\n",
       "      <td>cinza</td>\n",
       "      <td>g</td>\n",
       "    </tr>\n",
       "    <tr>\n",
       "      <th>1</th>\n",
       "      <td>a2</td>\n",
       "      <td>242.3</td>\n",
       "      <td>cm</td>\n",
       "      <td>cinza rajado</td>\n",
       "      <td>g</td>\n",
       "    </tr>\n",
       "    <tr>\n",
       "      <th>2</th>\n",
       "      <td>a3</td>\n",
       "      <td>278.8</td>\n",
       "      <td>cm</td>\n",
       "      <td>cinza</td>\n",
       "      <td>g</td>\n",
       "    </tr>\n",
       "    <tr>\n",
       "      <th>3</th>\n",
       "      <td>a4</td>\n",
       "      <td>305.1</td>\n",
       "      <td>cm</td>\n",
       "      <td>cinza, preto e laranja</td>\n",
       "      <td>g</td>\n",
       "    </tr>\n",
       "  </tbody>\n",
       "</table>\n",
       "</div>"
      ],
      "text/plain": [
       "  animal   peso uni_comp                     cor uni_peso\n",
       "0     a1  223.4       cm                   cinza        g\n",
       "1     a2  242.3       cm            cinza rajado        g\n",
       "2     a3  278.8       cm                   cinza        g\n",
       "3     a4  305.1       cm  cinza, preto e laranja        g"
      ]
     },
     "execution_count": 23,
     "metadata": {},
     "output_type": "execute_result"
    }
   ],
   "source": [
    "dic = {}\n",
    "dic['animal'] = ['a1', 'a2', 'a3', 'a4']\n",
    "dic['peso'] = [3.26, 4.26, 3.76, 4.48]\n",
    "dic['uni_comp'] = ['cm', 'cm', 'cm', 'cm']\n",
    "dic['cor'] = ['cinza', 'cinza rajado', 'cinza', 'cinza, preto e laranja']\n",
    "dic['peso'] = [223.4, 242.3, 278.8, 305.1]\n",
    "dic['uni_peso'] = ['g', 'g', 'g', 'g']\n",
    "\n",
    "df = pd.DataFrame.from_dict(dic)\n",
    "df"
   ]
  },
  {
   "cell_type": "code",
   "execution_count": null,
   "metadata": {},
   "outputs": [],
   "source": []
  },
  {
   "cell_type": "markdown",
   "metadata": {},
   "source": [
    "### Peso médio, desvio padrão amostral, mediana"
   ]
  },
  {
   "cell_type": "code",
   "execution_count": 24,
   "metadata": {},
   "outputs": [
    {
     "data": {
      "text/plain": [
       "262.4"
      ]
     },
     "execution_count": 24,
     "metadata": {},
     "output_type": "execute_result"
    }
   ],
   "source": [
    "df.peso.mean()"
   ]
  },
  {
   "cell_type": "code",
   "execution_count": 25,
   "metadata": {},
   "outputs": [
    {
     "data": {
      "text/plain": [
       "36.59353312631437"
      ]
     },
     "execution_count": 25,
     "metadata": {},
     "output_type": "execute_result"
    }
   ],
   "source": [
    "df.peso.std()"
   ]
  },
  {
   "cell_type": "code",
   "execution_count": 26,
   "metadata": {},
   "outputs": [
    {
     "data": {
      "text/plain": [
       "260.55"
      ]
     },
     "execution_count": 26,
     "metadata": {},
     "output_type": "execute_result"
    }
   ],
   "source": [
    "df.peso.median()"
   ]
  },
  {
   "cell_type": "markdown",
   "metadata": {},
   "source": [
    "### Desafio:\n",
    "  - o que é:\n",
    "        - Média?\n",
    "        - Desvio padrão amostral?\n",
    "        - Mediana?"
   ]
  },
  {
   "cell_type": "code",
   "execution_count": 29,
   "metadata": {},
   "outputs": [
    {
     "data": {
      "text/plain": [
       "'O peso médio das 4 cobras é 262.4 (36.6)'"
      ]
     },
     "execution_count": 29,
     "metadata": {},
     "output_type": "execute_result"
    }
   ],
   "source": [
    "\"O peso médio das %d cobras é %.1f (%.1f)\"%(len(df), df.peso.mean(), df.peso.std())"
   ]
  },
  {
   "cell_type": "code",
   "execution_count": null,
   "metadata": {},
   "outputs": [],
   "source": []
  },
  {
   "cell_type": "markdown",
   "metadata": {},
   "source": [
    "### Criando cobras com a distribuição normal"
   ]
  },
  {
   "cell_type": "code",
   "execution_count": 37,
   "metadata": {},
   "outputs": [
    {
     "data": {
      "text/html": [
       "<div>\n",
       "<style scoped>\n",
       "    .dataframe tbody tr th:only-of-type {\n",
       "        vertical-align: middle;\n",
       "    }\n",
       "\n",
       "    .dataframe tbody tr th {\n",
       "        vertical-align: top;\n",
       "    }\n",
       "\n",
       "    .dataframe thead th {\n",
       "        text-align: right;\n",
       "    }\n",
       "</style>\n",
       "<table border=\"1\" class=\"dataframe\">\n",
       "  <thead>\n",
       "    <tr style=\"text-align: right;\">\n",
       "      <th></th>\n",
       "      <th>id</th>\n",
       "      <th>peso</th>\n",
       "      <th>comprimento</th>\n",
       "    </tr>\n",
       "  </thead>\n",
       "  <tbody>\n",
       "    <tr>\n",
       "      <th>0</th>\n",
       "      <td>0</td>\n",
       "      <td>5.446755</td>\n",
       "      <td>2.241839</td>\n",
       "    </tr>\n",
       "    <tr>\n",
       "      <th>1</th>\n",
       "      <td>1</td>\n",
       "      <td>4.455565</td>\n",
       "      <td>1.947098</td>\n",
       "    </tr>\n",
       "    <tr>\n",
       "      <th>2</th>\n",
       "      <td>2</td>\n",
       "      <td>4.530182</td>\n",
       "      <td>1.970758</td>\n",
       "    </tr>\n",
       "    <tr>\n",
       "      <th>3</th>\n",
       "      <td>3</td>\n",
       "      <td>4.860173</td>\n",
       "      <td>1.451676</td>\n",
       "    </tr>\n",
       "    <tr>\n",
       "      <th>4</th>\n",
       "      <td>4</td>\n",
       "      <td>4.708041</td>\n",
       "      <td>1.858474</td>\n",
       "    </tr>\n",
       "  </tbody>\n",
       "</table>\n",
       "</div>"
      ],
      "text/plain": [
       "   id      peso  comprimento\n",
       "0   0  5.446755     2.241839\n",
       "1   1  4.455565     1.947098\n",
       "2   2  4.530182     1.970758\n",
       "3   3  4.860173     1.451676\n",
       "4   4  4.708041     1.858474"
      ]
     },
     "execution_count": 37,
     "metadata": {},
     "output_type": "execute_result"
    }
   ],
   "source": [
    "dic = {}\n",
    "N = 30\n",
    "\n",
    "dic['id'] = np.arange(0, N)\n",
    "dic['peso'] = np.random.normal(5, .5, N)\n",
    "dic['comprimento'] = np.random.normal(2, .4, N)\n",
    "\n",
    "df = pd.DataFrame.from_dict(dic)\n",
    "df.head()"
   ]
  },
  {
   "cell_type": "code",
   "execution_count": 38,
   "metadata": {},
   "outputs": [
    {
     "data": {
      "text/plain": [
       "'O peso médio das 30 cobras é 5.0 (0.5)'"
      ]
     },
     "execution_count": 38,
     "metadata": {},
     "output_type": "execute_result"
    }
   ],
   "source": [
    "\"O peso médio das %d cobras é %.1f (%.1f)\"%(len(df), df.peso.mean(), df.peso.std())"
   ]
  },
  {
   "cell_type": "code",
   "execution_count": 39,
   "metadata": {},
   "outputs": [
    {
     "data": {
      "text/plain": [
       "'O comprimento médio das 30 cobras é 2.0 (0.4)'"
      ]
     },
     "execution_count": 39,
     "metadata": {},
     "output_type": "execute_result"
    }
   ],
   "source": [
    "\"O comprimento médio das %d cobras é %.1f (%.1f)\"%(len(df), df.comprimento.mean(), df.comprimento.std())"
   ]
  },
  {
   "cell_type": "markdown",
   "metadata": {},
   "source": [
    "### E aí? Os número 'bateram'? Algo a comentar?\n",
    "  - Se sim, porquê?\n",
    "  - Se não, porquê?"
   ]
  },
  {
   "cell_type": "markdown",
   "metadata": {},
   "source": [
    "### Filtrando dados\n",
    "\n",
    "filtrando 2 desvios padrões para mais e para menos"
   ]
  },
  {
   "cell_type": "code",
   "execution_count": 40,
   "metadata": {},
   "outputs": [
    {
     "data": {
      "text/plain": [
       "0     False\n",
       "1     False\n",
       "2     False\n",
       "3     False\n",
       "4     False\n",
       "5     False\n",
       "6     False\n",
       "7     False\n",
       "8     False\n",
       "9     False\n",
       "10    False\n",
       "11    False\n",
       "12    False\n",
       "13    False\n",
       "14    False\n",
       "15    False\n",
       "16    False\n",
       "17    False\n",
       "18    False\n",
       "19     True\n",
       "20    False\n",
       "21    False\n",
       "22    False\n",
       "23    False\n",
       "24    False\n",
       "25    False\n",
       "26    False\n",
       "27    False\n",
       "28    False\n",
       "29    False\n",
       "Name: peso, dtype: bool"
      ]
     },
     "execution_count": 40,
     "metadata": {},
     "output_type": "execute_result"
    }
   ],
   "source": [
    "df.peso > df.peso.mean() + 2*df.peso.std()"
   ]
  },
  {
   "cell_type": "code",
   "execution_count": 41,
   "metadata": {},
   "outputs": [
    {
     "data": {
      "text/plain": [
       "1"
      ]
     },
     "execution_count": 41,
     "metadata": {},
     "output_type": "execute_result"
    }
   ],
   "source": [
    "np.sum(df.peso > df.peso.mean() + 2*df.peso.std())"
   ]
  },
  {
   "cell_type": "code",
   "execution_count": 42,
   "metadata": {},
   "outputs": [
    {
     "data": {
      "text/html": [
       "<div>\n",
       "<style scoped>\n",
       "    .dataframe tbody tr th:only-of-type {\n",
       "        vertical-align: middle;\n",
       "    }\n",
       "\n",
       "    .dataframe tbody tr th {\n",
       "        vertical-align: top;\n",
       "    }\n",
       "\n",
       "    .dataframe thead th {\n",
       "        text-align: right;\n",
       "    }\n",
       "</style>\n",
       "<table border=\"1\" class=\"dataframe\">\n",
       "  <thead>\n",
       "    <tr style=\"text-align: right;\">\n",
       "      <th></th>\n",
       "      <th>id</th>\n",
       "      <th>peso</th>\n",
       "      <th>comprimento</th>\n",
       "    </tr>\n",
       "  </thead>\n",
       "  <tbody>\n",
       "    <tr>\n",
       "      <th>19</th>\n",
       "      <td>19</td>\n",
       "      <td>6.278185</td>\n",
       "      <td>2.354281</td>\n",
       "    </tr>\n",
       "  </tbody>\n",
       "</table>\n",
       "</div>"
      ],
      "text/plain": [
       "    id      peso  comprimento\n",
       "19  19  6.278185     2.354281"
      ]
     },
     "execution_count": 42,
     "metadata": {},
     "output_type": "execute_result"
    }
   ],
   "source": [
    "df[df.peso > df.peso.mean() + 2*df.peso.std()]"
   ]
  },
  {
   "cell_type": "markdown",
   "metadata": {},
   "source": [
    "### Vamos melhorar"
   ]
  },
  {
   "cell_type": "code",
   "execution_count": 45,
   "metadata": {},
   "outputs": [
    {
     "data": {
      "text/plain": [
       "'A média é 5.0 (ssd=0.5), e os limites são [4.1, 5.9]'"
      ]
     },
     "execution_count": 45,
     "metadata": {},
     "output_type": "execute_result"
    }
   ],
   "source": [
    "mu  = df.peso.mean()\n",
    "# sample standard deviation\n",
    "ssd = df.peso.std()\n",
    "\n",
    "limite_sup = mu + 2*ssd\n",
    "limite_inf = mu - 2*ssd\n",
    "\n",
    "\"A média é %.1f (ssd=%.1f), e os limites são [%.1f, %.1f]\"%(mu, ssd, limite_inf, limite_sup)"
   ]
  },
  {
   "cell_type": "markdown",
   "metadata": {},
   "source": [
    "### Dentro do esperado?"
   ]
  },
  {
   "cell_type": "code",
   "execution_count": null,
   "metadata": {},
   "outputs": [],
   "source": []
  },
  {
   "cell_type": "markdown",
   "metadata": {},
   "source": [
    "### Filtrar acima e abaixo da média (Pandas usa notação diferente!)"
   ]
  },
  {
   "cell_type": "code",
   "execution_count": 46,
   "metadata": {},
   "outputs": [
    {
     "data": {
      "text/html": [
       "<div>\n",
       "<style scoped>\n",
       "    .dataframe tbody tr th:only-of-type {\n",
       "        vertical-align: middle;\n",
       "    }\n",
       "\n",
       "    .dataframe tbody tr th {\n",
       "        vertical-align: top;\n",
       "    }\n",
       "\n",
       "    .dataframe thead th {\n",
       "        text-align: right;\n",
       "    }\n",
       "</style>\n",
       "<table border=\"1\" class=\"dataframe\">\n",
       "  <thead>\n",
       "    <tr style=\"text-align: right;\">\n",
       "      <th></th>\n",
       "      <th>id</th>\n",
       "      <th>peso</th>\n",
       "      <th>comprimento</th>\n",
       "    </tr>\n",
       "  </thead>\n",
       "  <tbody>\n",
       "  </tbody>\n",
       "</table>\n",
       "</div>"
      ],
      "text/plain": [
       "Empty DataFrame\n",
       "Columns: [id, peso, comprimento]\n",
       "Index: []"
      ]
     },
     "execution_count": 46,
     "metadata": {},
     "output_type": "execute_result"
    }
   ],
   "source": [
    "# Está errado? qual o erro\n",
    "# and = & - and bitwise, notação binária \n",
    "\n",
    "df[(df.peso > limite_sup) & (df.peso < limite_inf)]"
   ]
  },
  {
   "cell_type": "markdown",
   "metadata": {},
   "source": [
    "### Tinha que dar vazio, certo? Porque?"
   ]
  },
  {
   "cell_type": "code",
   "execution_count": 47,
   "metadata": {},
   "outputs": [
    {
     "data": {
      "text/html": [
       "<div>\n",
       "<style scoped>\n",
       "    .dataframe tbody tr th:only-of-type {\n",
       "        vertical-align: middle;\n",
       "    }\n",
       "\n",
       "    .dataframe tbody tr th {\n",
       "        vertical-align: top;\n",
       "    }\n",
       "\n",
       "    .dataframe thead th {\n",
       "        text-align: right;\n",
       "    }\n",
       "</style>\n",
       "<table border=\"1\" class=\"dataframe\">\n",
       "  <thead>\n",
       "    <tr style=\"text-align: right;\">\n",
       "      <th></th>\n",
       "      <th>id</th>\n",
       "      <th>peso</th>\n",
       "      <th>comprimento</th>\n",
       "    </tr>\n",
       "  </thead>\n",
       "  <tbody>\n",
       "    <tr>\n",
       "      <th>19</th>\n",
       "      <td>19</td>\n",
       "      <td>6.278185</td>\n",
       "      <td>2.354281</td>\n",
       "    </tr>\n",
       "  </tbody>\n",
       "</table>\n",
       "</div>"
      ],
      "text/plain": [
       "    id      peso  comprimento\n",
       "19  19  6.278185     2.354281"
      ]
     },
     "execution_count": 47,
     "metadata": {},
     "output_type": "execute_result"
    }
   ],
   "source": [
    "### or = | - or bitwise, notação binária \n",
    "\n",
    "df[(df.peso > limite_sup) | (df.peso < limite_inf)]"
   ]
  },
  {
   "cell_type": "code",
   "execution_count": null,
   "metadata": {},
   "outputs": [],
   "source": []
  },
  {
   "cell_type": "markdown",
   "metadata": {},
   "source": [
    "### Animais grandes: apenas 1 desvio padrão"
   ]
  },
  {
   "cell_type": "code",
   "execution_count": 49,
   "metadata": {},
   "outputs": [
    {
     "data": {
      "text/html": [
       "<div>\n",
       "<style scoped>\n",
       "    .dataframe tbody tr th:only-of-type {\n",
       "        vertical-align: middle;\n",
       "    }\n",
       "\n",
       "    .dataframe tbody tr th {\n",
       "        vertical-align: top;\n",
       "    }\n",
       "\n",
       "    .dataframe thead th {\n",
       "        text-align: right;\n",
       "    }\n",
       "</style>\n",
       "<table border=\"1\" class=\"dataframe\">\n",
       "  <thead>\n",
       "    <tr style=\"text-align: right;\">\n",
       "      <th></th>\n",
       "      <th>id</th>\n",
       "      <th>peso</th>\n",
       "      <th>comprimento</th>\n",
       "    </tr>\n",
       "  </thead>\n",
       "  <tbody>\n",
       "  </tbody>\n",
       "</table>\n",
       "</div>"
      ],
      "text/plain": [
       "Empty DataFrame\n",
       "Columns: [id, peso, comprimento]\n",
       "Index: []"
      ]
     },
     "execution_count": 49,
     "metadata": {},
     "output_type": "execute_result"
    }
   ],
   "source": [
    "lim_peso_sup =  df.peso.mean() + df.peso.std()\n",
    "lim_comp_sup =  df.comprimento.mean() + df.comprimento.std()\n",
    "\n",
    "# aqui uso & (and)\n",
    "df[(df.peso >= lim_peso_sup) & (df.comprimento >= lim_comp_sup)]"
   ]
  },
  {
   "cell_type": "markdown",
   "metadata": {},
   "source": [
    "### Animais pequenos: apenas 1 desvio padrão"
   ]
  },
  {
   "cell_type": "code",
   "execution_count": 53,
   "metadata": {},
   "outputs": [
    {
     "name": "stdout",
     "output_type": "stream",
     "text": [
      "4.52 kg .... 1.64 m\n"
     ]
    },
    {
     "data": {
      "text/html": [
       "<div>\n",
       "<style scoped>\n",
       "    .dataframe tbody tr th:only-of-type {\n",
       "        vertical-align: middle;\n",
       "    }\n",
       "\n",
       "    .dataframe tbody tr th {\n",
       "        vertical-align: top;\n",
       "    }\n",
       "\n",
       "    .dataframe thead th {\n",
       "        text-align: right;\n",
       "    }\n",
       "</style>\n",
       "<table border=\"1\" class=\"dataframe\">\n",
       "  <thead>\n",
       "    <tr style=\"text-align: right;\">\n",
       "      <th></th>\n",
       "      <th>id</th>\n",
       "      <th>peso</th>\n",
       "      <th>comprimento</th>\n",
       "    </tr>\n",
       "  </thead>\n",
       "  <tbody>\n",
       "  </tbody>\n",
       "</table>\n",
       "</div>"
      ],
      "text/plain": [
       "Empty DataFrame\n",
       "Columns: [id, peso, comprimento]\n",
       "Index: []"
      ]
     },
     "execution_count": 53,
     "metadata": {},
     "output_type": "execute_result"
    }
   ],
   "source": [
    "lim_peso_inf =  df.peso.mean() - df.peso.std()\n",
    "lim_comp_inf =  df.comprimento.mean() - df.comprimento.std()\n",
    "\n",
    "print(np.round(lim_peso_inf,2), 'kg ....', np.round(lim_comp_inf,2), 'm')\n",
    "\n",
    "# aqui uso & (and)\n",
    "df[(df.peso <= lim_peso_inf) & (df.comprimento <= lim_comp_inf)]"
   ]
  },
  {
   "cell_type": "code",
   "execution_count": 51,
   "metadata": {},
   "outputs": [
    {
     "data": {
      "text/html": [
       "<div>\n",
       "<style scoped>\n",
       "    .dataframe tbody tr th:only-of-type {\n",
       "        vertical-align: middle;\n",
       "    }\n",
       "\n",
       "    .dataframe tbody tr th {\n",
       "        vertical-align: top;\n",
       "    }\n",
       "\n",
       "    .dataframe thead th {\n",
       "        text-align: right;\n",
       "    }\n",
       "</style>\n",
       "<table border=\"1\" class=\"dataframe\">\n",
       "  <thead>\n",
       "    <tr style=\"text-align: right;\">\n",
       "      <th></th>\n",
       "      <th>id</th>\n",
       "      <th>peso</th>\n",
       "      <th>comprimento</th>\n",
       "    </tr>\n",
       "  </thead>\n",
       "  <tbody>\n",
       "    <tr>\n",
       "      <th>1</th>\n",
       "      <td>1</td>\n",
       "      <td>4.455565</td>\n",
       "      <td>1.947098</td>\n",
       "    </tr>\n",
       "    <tr>\n",
       "      <th>6</th>\n",
       "      <td>6</td>\n",
       "      <td>4.449553</td>\n",
       "      <td>1.847380</td>\n",
       "    </tr>\n",
       "    <tr>\n",
       "      <th>16</th>\n",
       "      <td>16</td>\n",
       "      <td>4.380576</td>\n",
       "      <td>1.722793</td>\n",
       "    </tr>\n",
       "    <tr>\n",
       "      <th>17</th>\n",
       "      <td>17</td>\n",
       "      <td>4.067439</td>\n",
       "      <td>3.023735</td>\n",
       "    </tr>\n",
       "    <tr>\n",
       "      <th>21</th>\n",
       "      <td>21</td>\n",
       "      <td>4.470886</td>\n",
       "      <td>2.798945</td>\n",
       "    </tr>\n",
       "  </tbody>\n",
       "</table>\n",
       "</div>"
      ],
      "text/plain": [
       "    id      peso  comprimento\n",
       "1    1  4.455565     1.947098\n",
       "6    6  4.449553     1.847380\n",
       "16  16  4.380576     1.722793\n",
       "17  17  4.067439     3.023735\n",
       "21  21  4.470886     2.798945"
      ]
     },
     "execution_count": 51,
     "metadata": {},
     "output_type": "execute_result"
    }
   ],
   "source": [
    "df[(df.peso <= lim_peso_inf)]"
   ]
  },
  {
   "cell_type": "code",
   "execution_count": 54,
   "metadata": {},
   "outputs": [
    {
     "data": {
      "text/html": [
       "<div>\n",
       "<style scoped>\n",
       "    .dataframe tbody tr th:only-of-type {\n",
       "        vertical-align: middle;\n",
       "    }\n",
       "\n",
       "    .dataframe tbody tr th {\n",
       "        vertical-align: top;\n",
       "    }\n",
       "\n",
       "    .dataframe thead th {\n",
       "        text-align: right;\n",
       "    }\n",
       "</style>\n",
       "<table border=\"1\" class=\"dataframe\">\n",
       "  <thead>\n",
       "    <tr style=\"text-align: right;\">\n",
       "      <th></th>\n",
       "      <th>id</th>\n",
       "      <th>peso</th>\n",
       "      <th>comprimento</th>\n",
       "    </tr>\n",
       "  </thead>\n",
       "  <tbody>\n",
       "    <tr>\n",
       "      <th>3</th>\n",
       "      <td>3</td>\n",
       "      <td>4.860173</td>\n",
       "      <td>1.451676</td>\n",
       "    </tr>\n",
       "    <tr>\n",
       "      <th>15</th>\n",
       "      <td>15</td>\n",
       "      <td>4.854809</td>\n",
       "      <td>1.618666</td>\n",
       "    </tr>\n",
       "    <tr>\n",
       "      <th>18</th>\n",
       "      <td>18</td>\n",
       "      <td>4.814969</td>\n",
       "      <td>1.510666</td>\n",
       "    </tr>\n",
       "    <tr>\n",
       "      <th>22</th>\n",
       "      <td>22</td>\n",
       "      <td>5.348228</td>\n",
       "      <td>1.479348</td>\n",
       "    </tr>\n",
       "    <tr>\n",
       "      <th>28</th>\n",
       "      <td>28</td>\n",
       "      <td>5.266798</td>\n",
       "      <td>1.597743</td>\n",
       "    </tr>\n",
       "  </tbody>\n",
       "</table>\n",
       "</div>"
      ],
      "text/plain": [
       "    id      peso  comprimento\n",
       "3    3  4.860173     1.451676\n",
       "15  15  4.854809     1.618666\n",
       "18  18  4.814969     1.510666\n",
       "22  22  5.348228     1.479348\n",
       "28  28  5.266798     1.597743"
      ]
     },
     "execution_count": 54,
     "metadata": {},
     "output_type": "execute_result"
    }
   ],
   "source": [
    "df[(df.comprimento <= lim_comp_inf)]"
   ]
  },
  {
   "cell_type": "markdown",
   "metadata": {},
   "source": [
    "### A maquina randômica não criou animais super pequenos ou super grandes. Porque?"
   ]
  },
  {
   "cell_type": "markdown",
   "metadata": {},
   "source": [
    "### O que é uma máquina randômica?"
   ]
  },
  {
   "cell_type": "markdown",
   "metadata": {},
   "source": [
    "### Como você pode mostrar que é uma máquina randômica?"
   ]
  },
  {
   "cell_type": "code",
   "execution_count": 61,
   "metadata": {},
   "outputs": [
    {
     "name": "stdout",
     "output_type": "stream",
     "text": [
      "1) <peso> = 5.0 (0.5),  <comp> = 2.1 (0.4), peso sup = 6.0 kg, comp sup = 2.9 m\n",
      "2) <peso> = 4.9 (0.5),  <comp> = 2.1 (0.3), peso sup = 6.0 kg, comp sup = 2.7 m\n",
      "3) <peso> = 5.0 (0.5),  <comp> = 2.0 (0.5), peso sup = 6.0 kg, comp sup = 2.9 m\n",
      "4) <peso> = 5.2 (0.5),  <comp> = 2.1 (0.4), peso sup = 6.2 kg, comp sup = 2.8 m\n",
      "5) <peso> = 4.9 (0.5),  <comp> = 2.1 (0.4), peso sup = 5.9 kg, comp sup = 2.9 m\n",
      "6) <peso> = 5.1 (0.6),  <comp> = 2.0 (0.3), peso sup = 6.3 kg, comp sup = 2.7 m\n",
      "7) <peso> = 5.1 (0.5),  <comp> = 2.1 (0.5), peso sup = 6.1 kg, comp sup = 3.1 m\n",
      "8) <peso> = 5.0 (0.5),  <comp> = 2.1 (0.4), peso sup = 6.0 kg, comp sup = 2.8 m\n",
      "9) <peso> = 5.1 (0.4),  <comp> = 2.0 (0.5), peso sup = 5.9 kg, comp sup = 2.9 m\n",
      "10) <peso> = 5.1 (0.3),  <comp> = 2.0 (0.4), peso sup = 5.8 kg, comp sup = 2.8 m\n",
      "11) <peso> = 4.9 (0.5),  <comp> = 2.1 (0.3), peso sup = 6.0 kg, comp sup = 2.7 m\n",
      "12) <peso> = 5.0 (0.6),  <comp> = 2.0 (0.5), peso sup = 6.2 kg, comp sup = 2.9 m\n",
      "13) <peso> = 5.0 (0.5),  <comp> = 2.1 (0.4), peso sup = 6.1 kg, comp sup = 2.8 m\n",
      "14) <peso> = 5.0 (0.4),  <comp> = 1.9 (0.5), peso sup = 5.9 kg, comp sup = 2.8 m\n",
      "15) <peso> = 4.9 (0.5),  <comp> = 2.0 (0.4), peso sup = 6.0 kg, comp sup = 2.8 m\n",
      "16) <peso> = 5.1 (0.5),  <comp> = 2.1 (0.3), peso sup = 6.0 kg, comp sup = 2.7 m\n",
      "17) <peso> = 5.0 (0.4),  <comp> = 2.0 (0.3), peso sup = 5.8 kg, comp sup = 2.7 m\n",
      "18) <peso> = 4.9 (0.5),  <comp> = 2.0 (0.4), peso sup = 5.9 kg, comp sup = 2.7 m\n",
      "19) <peso> = 5.0 (0.4),  <comp> = 1.9 (0.4), peso sup = 5.8 kg, comp sup = 2.6 m\n",
      "20) <peso> = 5.1 (0.5),  <comp> = 2.0 (0.4), peso sup = 6.1 kg, comp sup = 2.8 m\n",
      "21) <peso> = 5.0 (0.5),  <comp> = 2.0 (0.4), peso sup = 6.0 kg, comp sup = 2.8 m\n",
      "22) <peso> = 4.9 (0.5),  <comp> = 2.0 (0.3), peso sup = 5.9 kg, comp sup = 2.6 m\n",
      "23) <peso> = 5.2 (0.5),  <comp> = 1.9 (0.3), peso sup = 6.3 kg, comp sup = 2.6 m\n",
      "24) <peso> = 5.0 (0.4),  <comp> = 2.0 (0.4), peso sup = 5.9 kg, comp sup = 2.7 m\n",
      "25) <peso> = 5.0 (0.4),  <comp> = 2.0 (0.4), peso sup = 5.8 kg, comp sup = 2.8 m\n",
      "26) <peso> = 5.1 (0.5),  <comp> = 1.9 (0.4), peso sup = 6.0 kg, comp sup = 2.8 m\n",
      "27) <peso> = 5.0 (0.6),  <comp> = 2.0 (0.4), peso sup = 6.3 kg, comp sup = 2.7 m\n",
      "28) <peso> = 5.0 (0.6),  <comp> = 1.8 (0.4), peso sup = 6.2 kg, comp sup = 2.6 m\n",
      "29) <peso> = 5.0 (0.4),  <comp> = 2.1 (0.4), peso sup = 5.9 kg, comp sup = 2.9 m\n",
      "30) <peso> = 5.0 (0.4),  <comp> = 2.0 (0.4), peso sup = 5.9 kg, comp sup = 2.8 m\n",
      "31) <peso> = 5.2 (0.5),  <comp> = 1.9 (0.4), peso sup = 6.2 kg, comp sup = 2.6 m\n",
      "32) <peso> = 5.0 (0.5),  <comp> = 2.0 (0.5), peso sup = 6.0 kg, comp sup = 2.9 m\n",
      "33) <peso> = 5.2 (0.4),  <comp> = 1.8 (0.3), peso sup = 6.0 kg, comp sup = 2.5 m\n",
      "34) <peso> = 5.0 (0.5),  <comp> = 2.0 (0.3), peso sup = 6.0 kg, comp sup = 2.6 m\n",
      "35) <peso> = 5.0 (0.5),  <comp> = 2.2 (0.4), peso sup = 6.1 kg, comp sup = 3.0 m\n",
      "36) <peso> = 5.1 (0.4),  <comp> = 2.0 (0.5), peso sup = 5.9 kg, comp sup = 2.9 m\n",
      "37) <peso> = 5.0 (0.4),  <comp> = 2.1 (0.3), peso sup = 5.8 kg, comp sup = 2.7 m\n",
      "38) <peso> = 5.0 (0.5),  <comp> = 2.0 (0.5), peso sup = 6.0 kg, comp sup = 3.0 m\n",
      "39) <peso> = 5.1 (0.5),  <comp> = 2.1 (0.5), peso sup = 6.1 kg, comp sup = 3.1 m\n",
      "40) <peso> = 5.1 (0.6),  <comp> = 2.1 (0.5), peso sup = 6.3 kg, comp sup = 3.1 m\n",
      "41) <peso> = 4.9 (0.4),  <comp> = 2.0 (0.4), peso sup = 5.7 kg, comp sup = 2.8 m\n",
      "42) <peso> = 5.1 (0.5),  <comp> = 2.0 (0.4), peso sup = 6.2 kg, comp sup = 2.9 m\n",
      "43) <peso> = 4.9 (0.5),  <comp> = 1.9 (0.5), peso sup = 5.8 kg, comp sup = 2.9 m\n",
      "44) <peso> = 5.0 (0.5),  <comp> = 1.9 (0.3), peso sup = 6.0 kg, comp sup = 2.5 m\n",
      "45) <peso> = 5.2 (0.5),  <comp> = 2.1 (0.3), peso sup = 6.1 kg, comp sup = 2.8 m\n",
      "46) <peso> = 5.1 (0.5),  <comp> = 2.0 (0.4), peso sup = 6.1 kg, comp sup = 2.8 m\n",
      "47) <peso> = 4.9 (0.5),  <comp> = 2.1 (0.3), peso sup = 5.8 kg, comp sup = 2.7 m\n",
      "48) <peso> = 5.0 (0.6),  <comp> = 2.1 (0.4), peso sup = 6.2 kg, comp sup = 2.8 m\n",
      "49) <peso> = 5.0 (0.5),  <comp> = 2.0 (0.4), peso sup = 6.0 kg, comp sup = 2.9 m\n",
      "50) <peso> = 5.0 (0.4),  <comp> = 2.1 (0.3), peso sup = 5.7 kg, comp sup = 2.7 m\n",
      "51) <peso> = 4.8 (0.5),  <comp> = 2.0 (0.4), peso sup = 5.8 kg, comp sup = 2.8 m\n",
      "52) <peso> = 5.0 (0.5),  <comp> = 2.0 (0.4), peso sup = 6.0 kg, comp sup = 2.8 m\n",
      "53) <peso> = 5.1 (0.5),  <comp> = 2.1 (0.4), peso sup = 6.1 kg, comp sup = 2.8 m\n",
      "54) <peso> = 5.1 (0.4),  <comp> = 1.9 (0.4), peso sup = 5.9 kg, comp sup = 2.6 m\n",
      "55) <peso> = 5.0 (0.6),  <comp> = 2.0 (0.3), peso sup = 6.2 kg, comp sup = 2.6 m\n",
      "56) <peso> = 4.8 (0.6),  <comp> = 2.0 (0.4), peso sup = 6.0 kg, comp sup = 2.9 m\n",
      "57) <peso> = 5.0 (0.5),  <comp> = 2.0 (0.4), peso sup = 6.0 kg, comp sup = 2.8 m\n",
      "58) <peso> = 5.0 (0.5),  <comp> = 2.0 (0.4), peso sup = 6.0 kg, comp sup = 2.7 m\n",
      "59) <peso> = 5.0 (0.5),  <comp> = 2.0 (0.3), peso sup = 6.1 kg, comp sup = 2.7 m\n",
      "60) <peso> = 5.0 (0.6),  <comp> = 1.9 (0.3), peso sup = 6.2 kg, comp sup = 2.4 m\n",
      "61) <peso> = 5.1 (0.6),  <comp> = 2.0 (0.4), peso sup = 6.2 kg, comp sup = 2.9 m\n",
      "62) <peso> = 5.1 (0.6),  <comp> = 2.0 (0.4), peso sup = 6.4 kg, comp sup = 2.7 m\n",
      "63) <peso> = 4.9 (0.5),  <comp> = 2.0 (0.4), peso sup = 5.8 kg, comp sup = 2.7 m\n",
      "64) <peso> = 5.1 (0.4),  <comp> = 1.9 (0.5), peso sup = 5.8 kg, comp sup = 2.9 m\n",
      "65) <peso> = 5.0 (0.4),  <comp> = 2.0 (0.4), peso sup = 5.8 kg, comp sup = 2.7 m\n",
      "66) <peso> = 5.1 (0.5),  <comp> = 1.8 (0.4), peso sup = 6.1 kg, comp sup = 2.7 m\n",
      "67) <peso> = 5.0 (0.4),  <comp> = 2.0 (0.4), peso sup = 5.9 kg, comp sup = 2.7 m\n",
      "68) <peso> = 4.9 (0.5),  <comp> = 2.0 (0.4), peso sup = 5.8 kg, comp sup = 2.9 m\n",
      "69) <peso> = 4.9 (0.5),  <comp> = 2.1 (0.4), peso sup = 5.9 kg, comp sup = 2.9 m\n",
      "70) <peso> = 5.0 (0.5),  <comp> = 2.0 (0.3), peso sup = 6.0 kg, comp sup = 2.7 m\n",
      "71) <peso> = 5.0 (0.4),  <comp> = 2.1 (0.4), peso sup = 5.8 kg, comp sup = 3.0 m\n",
      "72) <peso> = 4.9 (0.5),  <comp> = 1.9 (0.4), peso sup = 5.9 kg, comp sup = 2.8 m\n",
      "73) <peso> = 4.9 (0.6),  <comp> = 2.0 (0.4), peso sup = 6.1 kg, comp sup = 2.8 m\n",
      "74) <peso> = 5.2 (0.5),  <comp> = 2.0 (0.3), peso sup = 6.2 kg, comp sup = 2.6 m\n",
      "75) <peso> = 5.1 (0.6),  <comp> = 2.1 (0.4), peso sup = 6.2 kg, comp sup = 2.9 m\n",
      "76) <peso> = 5.1 (0.5),  <comp> = 2.0 (0.4), peso sup = 6.2 kg, comp sup = 2.7 m\n",
      "77) <peso> = 4.9 (0.4),  <comp> = 2.0 (0.4), peso sup = 5.8 kg, comp sup = 2.8 m\n",
      "78) <peso> = 5.0 (0.5),  <comp> = 2.0 (0.4), peso sup = 6.0 kg, comp sup = 2.8 m\n",
      "79) <peso> = 5.0 (0.5),  <comp> = 1.9 (0.5), peso sup = 5.9 kg, comp sup = 2.9 m\n",
      "80) <peso> = 4.9 (0.6),  <comp> = 2.1 (0.4), peso sup = 6.1 kg, comp sup = 2.9 m\n",
      "81) <peso> = 4.9 (0.5),  <comp> = 2.1 (0.4), peso sup = 5.9 kg, comp sup = 2.9 m\n",
      "82) <peso> = 5.0 (0.5),  <comp> = 2.0 (0.4), peso sup = 6.1 kg, comp sup = 2.8 m\n",
      "83) <peso> = 5.1 (0.6),  <comp> = 2.2 (0.4), peso sup = 6.2 kg, comp sup = 2.9 m\n",
      "84) <peso> = 5.2 (0.4),  <comp> = 2.1 (0.4), peso sup = 5.9 kg, comp sup = 2.9 m\n",
      "85) <peso> = 5.0 (0.5),  <comp> = 2.1 (0.3), peso sup = 6.0 kg, comp sup = 2.8 m\n",
      "86) <peso> = 4.9 (0.5),  <comp> = 2.0 (0.4), peso sup = 5.9 kg, comp sup = 2.9 m\n",
      "87) <peso> = 4.9 (0.4),  <comp> = 2.0 (0.3), peso sup = 5.8 kg, comp sup = 2.6 m\n",
      "88) <peso> = 4.9 (0.6),  <comp> = 1.9 (0.4), peso sup = 6.0 kg, comp sup = 2.7 m\n",
      "89) <peso> = 5.0 (0.7),  <comp> = 2.0 (0.3), peso sup = 6.5 kg, comp sup = 2.7 m\n",
      "90) <peso> = 5.0 (0.4),  <comp> = 2.1 (0.5), peso sup = 5.9 kg, comp sup = 3.0 m\n",
      "91) <peso> = 4.9 (0.5),  <comp> = 2.1 (0.4), peso sup = 5.9 kg, comp sup = 2.9 m\n",
      "92) <peso> = 5.0 (0.6),  <comp> = 1.9 (0.4), peso sup = 6.1 kg, comp sup = 2.7 m\n",
      "93) <peso> = 5.0 (0.5),  <comp> = 2.0 (0.4), peso sup = 6.0 kg, comp sup = 2.8 m\n",
      "94) <peso> = 5.1 (0.5),  <comp> = 1.9 (0.4), peso sup = 6.1 kg, comp sup = 2.7 m\n",
      "95) <peso> = 5.0 (0.5),  <comp> = 2.0 (0.4), peso sup = 6.0 kg, comp sup = 2.9 m\n",
      "96) <peso> = 5.0 (0.4),  <comp> = 2.1 (0.4), peso sup = 5.9 kg, comp sup = 2.9 m\n",
      "97) <peso> = 5.0 (0.5),  <comp> = 2.0 (0.4), peso sup = 6.0 kg, comp sup = 2.8 m\n",
      "98) <peso> = 5.0 (0.5),  <comp> = 2.1 (0.4), peso sup = 6.0 kg, comp sup = 2.8 m\n",
      "99) <peso> = 4.9 (0.4),  <comp> = 2.1 (0.5), peso sup = 5.7 kg, comp sup = 3.0 m\n",
      "100) <peso> = 5.0 (0.6),  <comp> = 2.0 (0.4), peso sup = 6.3 kg, comp sup = 2.7 m\n",
      "101) <peso> = 5.1 (0.5),  <comp> = 2.0 (0.3), peso sup = 6.0 kg, comp sup = 2.7 m\n",
      "102) <peso> = 4.9 (0.5),  <comp> = 1.9 (0.4), peso sup = 6.0 kg, comp sup = 2.6 m\n",
      "103) <peso> = 5.0 (0.6),  <comp> = 1.9 (0.4), peso sup = 6.2 kg, comp sup = 2.7 m\n",
      "104) <peso> = 4.9 (0.7),  <comp> = 2.0 (0.4), peso sup = 6.2 kg, comp sup = 2.8 m\n",
      "105) <peso> = 5.1 (0.5),  <comp> = 2.1 (0.4), peso sup = 6.1 kg, comp sup = 2.8 m\n",
      "106) <peso> = 5.0 (0.5),  <comp> = 1.9 (0.4), peso sup = 6.0 kg, comp sup = 2.7 m\n",
      "107) <peso> = 5.1 (0.5),  <comp> = 2.0 (0.4), peso sup = 6.2 kg, comp sup = 2.8 m\n",
      "108) <peso> = 5.1 (0.5),  <comp> = 2.0 (0.5), peso sup = 6.1 kg, comp sup = 2.9 m\n",
      "109) <peso> = 5.2 (0.6),  <comp> = 2.0 (0.3), peso sup = 6.4 kg, comp sup = 2.7 m\n",
      "110) <peso> = 5.0 (0.5),  <comp> = 2.0 (0.3), peso sup = 6.0 kg, comp sup = 2.7 m\n",
      "111) <peso> = 5.0 (0.4),  <comp> = 2.1 (0.4), peso sup = 5.8 kg, comp sup = 2.8 m\n",
      "112) <peso> = 5.0 (0.4),  <comp> = 2.1 (0.4), peso sup = 5.7 kg, comp sup = 2.8 m\n",
      "113) <peso> = 4.9 (0.5),  <comp> = 2.1 (0.4), peso sup = 5.9 kg, comp sup = 2.8 m\n",
      "114) <peso> = 5.0 (0.5),  <comp> = 1.9 (0.3), peso sup = 6.0 kg, comp sup = 2.5 m\n",
      "115) <peso> = 4.9 (0.5),  <comp> = 1.8 (0.5), peso sup = 5.9 kg, comp sup = 2.8 m\n",
      "116) <peso> = 5.1 (0.4),  <comp> = 1.9 (0.3), peso sup = 5.9 kg, comp sup = 2.5 m\n",
      "117) <peso> = 5.1 (0.4),  <comp> = 2.0 (0.4), peso sup = 6.0 kg, comp sup = 2.9 m\n",
      "118) <peso> = 5.1 (0.6),  <comp> = 2.0 (0.4), peso sup = 6.2 kg, comp sup = 2.8 m\n",
      "119) <peso> = 5.1 (0.6),  <comp> = 2.0 (0.3), peso sup = 6.2 kg, comp sup = 2.6 m\n",
      "120) <peso> = 5.0 (0.5),  <comp> = 2.1 (0.3), peso sup = 6.0 kg, comp sup = 2.8 m\n",
      "121) <peso> = 5.0 (0.6),  <comp> = 2.0 (0.4), peso sup = 6.1 kg, comp sup = 2.8 m\n",
      "122) <peso> = 5.1 (0.3),  <comp> = 2.0 (0.4), peso sup = 5.8 kg, comp sup = 2.9 m\n",
      "123) <peso> = 5.0 (0.5),  <comp> = 2.0 (0.4), peso sup = 5.9 kg, comp sup = 2.8 m\n",
      "124) <peso> = 5.0 (0.5),  <comp> = 2.0 (0.5), peso sup = 6.0 kg, comp sup = 3.0 m\n",
      "125) <peso> = 5.0 (0.5),  <comp> = 2.0 (0.4), peso sup = 6.0 kg, comp sup = 2.7 m\n",
      "126) <peso> = 5.0 (0.4),  <comp> = 1.9 (0.4), peso sup = 5.9 kg, comp sup = 2.7 m\n",
      "127) <peso> = 4.9 (0.5),  <comp> = 2.1 (0.4), peso sup = 6.0 kg, comp sup = 2.8 m\n",
      "128) <peso> = 5.2 (0.6),  <comp> = 1.9 (0.4), peso sup = 6.4 kg, comp sup = 2.7 m\n",
      "129) <peso> = 5.0 (0.4),  <comp> = 1.9 (0.4), peso sup = 5.9 kg, comp sup = 2.6 m\n",
      "130) <peso> = 5.0 (0.6),  <comp> = 2.0 (0.3), peso sup = 6.1 kg, comp sup = 2.7 m\n",
      "131) <peso> = 4.9 (0.6),  <comp> = 2.2 (0.4), peso sup = 6.1 kg, comp sup = 3.0 m\n",
      "132) <peso> = 5.0 (0.5),  <comp> = 2.1 (0.3), peso sup = 6.0 kg, comp sup = 2.7 m\n",
      "133) <peso> = 5.1 (0.5),  <comp> = 2.1 (0.4), peso sup = 6.1 kg, comp sup = 2.8 m\n",
      "134) <peso> = 4.9 (0.5),  <comp> = 2.0 (0.3), peso sup = 5.9 kg, comp sup = 2.7 m\n",
      "135) <peso> = 5.0 (0.4),  <comp> = 2.0 (0.4), peso sup = 5.8 kg, comp sup = 2.8 m\n",
      "136) <peso> = 5.0 (0.5),  <comp> = 1.9 (0.3), peso sup = 6.1 kg, comp sup = 2.6 m\n",
      "137) <peso> = 5.1 (0.5),  <comp> = 2.1 (0.5), peso sup = 6.0 kg, comp sup = 3.1 m\n",
      "138) <peso> = 5.1 (0.6),  <comp> = 2.0 (0.3), peso sup = 6.4 kg, comp sup = 2.6 m\n",
      "139) <peso> = 5.0 (0.5),  <comp> = 1.9 (0.4), peso sup = 6.1 kg, comp sup = 2.7 m\n",
      "140) <peso> = 5.0 (0.6),  <comp> = 2.1 (0.4), peso sup = 6.2 kg, comp sup = 2.8 m\n",
      "141) <peso> = 5.1 (0.5),  <comp> = 2.1 (0.4), peso sup = 6.0 kg, comp sup = 2.9 m\n",
      "142) <peso> = 5.1 (0.4),  <comp> = 2.0 (0.5), peso sup = 6.0 kg, comp sup = 3.0 m\n",
      "143) <peso> = 4.9 (0.6),  <comp> = 2.0 (0.4), peso sup = 6.1 kg, comp sup = 2.8 m\n"
     ]
    },
    {
     "name": "stdout",
     "output_type": "stream",
     "text": [
      "144) <peso> = 5.0 (0.5),  <comp> = 2.0 (0.4), peso sup = 6.1 kg, comp sup = 2.8 m\n",
      "145) <peso> = 5.1 (0.5),  <comp> = 2.0 (0.3), peso sup = 6.1 kg, comp sup = 2.6 m\n",
      "146) <peso> = 4.9 (0.4),  <comp> = 2.0 (0.4), peso sup = 5.8 kg, comp sup = 2.7 m\n",
      "147) <peso> = 5.0 (0.6),  <comp> = 2.0 (0.5), peso sup = 6.2 kg, comp sup = 2.9 m\n",
      "148) <peso> = 4.8 (0.5),  <comp> = 2.0 (0.4), peso sup = 5.9 kg, comp sup = 2.8 m\n",
      "149) <peso> = 5.1 (0.6),  <comp> = 2.0 (0.4), peso sup = 6.3 kg, comp sup = 2.9 m\n",
      "150) <peso> = 5.0 (0.4),  <comp> = 2.0 (0.3), peso sup = 5.8 kg, comp sup = 2.7 m\n",
      "151) <peso> = 4.9 (0.5),  <comp> = 2.2 (0.4), peso sup = 6.0 kg, comp sup = 2.9 m\n",
      "152) <peso> = 4.9 (0.6),  <comp> = 2.1 (0.4), peso sup = 6.1 kg, comp sup = 2.9 m\n",
      "153) <peso> = 5.1 (0.5),  <comp> = 2.1 (0.4), peso sup = 6.0 kg, comp sup = 2.8 m\n",
      "154) <peso> = 4.9 (0.5),  <comp> = 2.1 (0.5), peso sup = 6.0 kg, comp sup = 3.0 m\n",
      "155) <peso> = 4.7 (0.5),  <comp> = 2.0 (0.3), peso sup = 5.7 kg, comp sup = 2.7 m\n",
      "156) <peso> = 5.1 (0.5),  <comp> = 1.9 (0.4), peso sup = 6.0 kg, comp sup = 2.8 m\n",
      "157) <peso> = 5.1 (0.4),  <comp> = 2.1 (0.4), peso sup = 6.0 kg, comp sup = 3.0 m\n",
      "158) <peso> = 5.0 (0.4),  <comp> = 2.1 (0.5), peso sup = 5.8 kg, comp sup = 3.1 m\n",
      "159) <peso> = 5.0 (0.6),  <comp> = 2.0 (0.4), peso sup = 6.1 kg, comp sup = 2.7 m\n",
      "160) <peso> = 5.2 (0.5),  <comp> = 2.1 (0.3), peso sup = 6.2 kg, comp sup = 2.8 m\n",
      "161) <peso> = 5.1 (0.5),  <comp> = 2.0 (0.3), peso sup = 6.1 kg, comp sup = 2.7 m\n",
      "162) <peso> = 5.0 (0.4),  <comp> = 1.9 (0.5), peso sup = 5.8 kg, comp sup = 2.8 m\n",
      "163) <peso> = 5.2 (0.6),  <comp> = 2.0 (0.4), peso sup = 6.4 kg, comp sup = 2.7 m\n",
      "164) <peso> = 5.0 (0.6),  <comp> = 2.2 (0.4), peso sup = 6.2 kg, comp sup = 2.9 m\n",
      "165) <peso> = 5.0 (0.5),  <comp> = 2.0 (0.4), peso sup = 6.0 kg, comp sup = 2.8 m\n",
      "166) <peso> = 4.9 (0.4),  <comp> = 2.1 (0.5), peso sup = 5.8 kg, comp sup = 3.0 m\n",
      "167) <peso> = 5.0 (0.4),  <comp> = 2.0 (0.4), peso sup = 5.9 kg, comp sup = 2.9 m\n",
      "168) <peso> = 5.1 (0.6),  <comp> = 2.2 (0.4), peso sup = 6.2 kg, comp sup = 3.0 m\n",
      "169) <peso> = 5.0 (0.5),  <comp> = 2.0 (0.3), peso sup = 6.0 kg, comp sup = 2.7 m\n",
      "170) <peso> = 4.9 (0.4),  <comp> = 1.9 (0.4), peso sup = 5.7 kg, comp sup = 2.7 m\n",
      "171) <peso> = 4.9 (0.6),  <comp> = 2.1 (0.4), peso sup = 6.1 kg, comp sup = 2.9 m\n",
      "172) <peso> = 5.0 (0.4),  <comp> = 2.0 (0.4), peso sup = 5.8 kg, comp sup = 2.9 m\n",
      "173) <peso> = 5.1 (0.5),  <comp> = 2.0 (0.4), peso sup = 6.1 kg, comp sup = 2.8 m\n",
      "174) <peso> = 4.9 (0.5),  <comp> = 2.0 (0.5), peso sup = 5.9 kg, comp sup = 3.0 m\n",
      "175) <peso> = 5.0 (0.5),  <comp> = 2.0 (0.3), peso sup = 6.0 kg, comp sup = 2.7 m\n",
      "176) <peso> = 5.1 (0.5),  <comp> = 2.0 (0.5), peso sup = 6.2 kg, comp sup = 3.0 m\n",
      "177) <peso> = 5.0 (0.5),  <comp> = 2.0 (0.4), peso sup = 6.0 kg, comp sup = 2.8 m\n",
      "178) <peso> = 5.0 (0.5),  <comp> = 2.1 (0.4), peso sup = 6.1 kg, comp sup = 2.9 m\n",
      "179) <peso> = 5.1 (0.4),  <comp> = 2.1 (0.3), peso sup = 5.9 kg, comp sup = 2.7 m\n",
      "180) <peso> = 5.1 (0.4),  <comp> = 2.1 (0.4), peso sup = 5.9 kg, comp sup = 2.9 m\n",
      "181) <peso> = 5.0 (0.5),  <comp> = 1.9 (0.4), peso sup = 6.0 kg, comp sup = 2.6 m\n",
      "182) <peso> = 5.0 (0.4),  <comp> = 2.0 (0.4), peso sup = 5.8 kg, comp sup = 2.7 m\n",
      "183) <peso> = 4.9 (0.5),  <comp> = 2.1 (0.3), peso sup = 5.8 kg, comp sup = 2.8 m\n",
      "184) <peso> = 5.1 (0.6),  <comp> = 2.0 (0.4), peso sup = 6.2 kg, comp sup = 2.8 m\n",
      "185) <peso> = 5.1 (0.5),  <comp> = 2.0 (0.4), peso sup = 6.0 kg, comp sup = 2.8 m\n",
      "186) <peso> = 4.9 (0.6),  <comp> = 2.1 (0.4), peso sup = 6.1 kg, comp sup = 2.8 m\n",
      "187) <peso> = 5.0 (0.4),  <comp> = 2.1 (0.3), peso sup = 5.8 kg, comp sup = 2.7 m\n",
      "188) <peso> = 5.1 (0.5),  <comp> = 2.0 (0.4), peso sup = 6.0 kg, comp sup = 2.9 m\n",
      "189) <peso> = 4.9 (0.4),  <comp> = 2.1 (0.5), peso sup = 5.7 kg, comp sup = 3.1 m\n",
      "190) <peso> = 5.0 (0.5),  <comp> = 2.1 (0.4), peso sup = 6.0 kg, comp sup = 2.9 m\n",
      "191) <peso> = 5.1 (0.5),  <comp> = 2.0 (0.4), peso sup = 6.1 kg, comp sup = 2.8 m\n",
      "192) <peso> = 5.1 (0.5),  <comp> = 2.0 (0.4), peso sup = 6.1 kg, comp sup = 2.9 m\n",
      "193) <peso> = 5.0 (0.5),  <comp> = 1.9 (0.4), peso sup = 6.0 kg, comp sup = 2.8 m\n",
      "194) <peso> = 5.1 (0.5),  <comp> = 2.2 (0.4), peso sup = 6.1 kg, comp sup = 3.0 m\n",
      "195) <peso> = 5.1 (0.5),  <comp> = 2.1 (0.3), peso sup = 6.2 kg, comp sup = 2.7 m\n",
      "196) <peso> = 5.1 (0.5),  <comp> = 2.0 (0.4), peso sup = 6.0 kg, comp sup = 2.9 m\n",
      "197) <peso> = 5.0 (0.5),  <comp> = 1.9 (0.4), peso sup = 5.9 kg, comp sup = 2.7 m\n",
      "198) <peso> = 4.7 (0.5),  <comp> = 2.1 (0.5), peso sup = 5.7 kg, comp sup = 3.0 m\n",
      "199) <peso> = 5.0 (0.5),  <comp> = 1.9 (0.5), peso sup = 6.0 kg, comp sup = 2.9 m\n",
      "200) <peso> = 4.9 (0.4),  <comp> = 2.0 (0.4), peso sup = 5.7 kg, comp sup = 2.8 m\n",
      "201) <peso> = 5.0 (0.4),  <comp> = 2.0 (0.4), peso sup = 5.9 kg, comp sup = 2.8 m\n",
      "202) <peso> = 5.0 (0.5),  <comp> = 2.1 (0.4), peso sup = 5.9 kg, comp sup = 2.8 m\n",
      "203) <peso> = 5.0 (0.4),  <comp> = 2.1 (0.4), peso sup = 5.8 kg, comp sup = 2.9 m\n",
      "204) <peso> = 5.1 (0.6),  <comp> = 1.9 (0.5), peso sup = 6.3 kg, comp sup = 2.9 m\n",
      "205) <peso> = 5.0 (0.5),  <comp> = 2.0 (0.4), peso sup = 5.9 kg, comp sup = 2.9 m\n",
      "206) <peso> = 4.9 (0.4),  <comp> = 2.1 (0.4), peso sup = 5.7 kg, comp sup = 2.9 m\n",
      "207) <peso> = 4.8 (0.4),  <comp> = 2.0 (0.3), peso sup = 5.7 kg, comp sup = 2.7 m\n",
      "208) <peso> = 5.0 (0.4),  <comp> = 2.0 (0.4), peso sup = 5.9 kg, comp sup = 2.8 m\n",
      "209) <peso> = 4.9 (0.5),  <comp> = 1.9 (0.4), peso sup = 5.9 kg, comp sup = 2.8 m\n",
      "210) <peso> = 5.0 (0.5),  <comp> = 2.1 (0.5), peso sup = 6.1 kg, comp sup = 3.1 m\n",
      "211) <peso> = 4.9 (0.4),  <comp> = 2.2 (0.5), peso sup = 5.8 kg, comp sup = 3.1 m\n",
      "212) <peso> = 4.9 (0.6),  <comp> = 2.0 (0.4), peso sup = 6.0 kg, comp sup = 2.8 m\n",
      "213) <peso> = 5.1 (0.5),  <comp> = 2.0 (0.4), peso sup = 6.2 kg, comp sup = 2.8 m\n",
      "214) <peso> = 4.8 (0.6),  <comp> = 2.1 (0.5), peso sup = 6.1 kg, comp sup = 3.1 m\n",
      "215) <peso> = 4.8 (0.4),  <comp> = 1.9 (0.4), peso sup = 5.5 kg, comp sup = 2.7 m\n",
      "216) <peso> = 5.0 (0.5),  <comp> = 2.0 (0.4), peso sup = 6.0 kg, comp sup = 2.9 m\n",
      "217) <peso> = 5.0 (0.5),  <comp> = 2.0 (0.4), peso sup = 6.0 kg, comp sup = 2.8 m\n",
      "218) <peso> = 5.0 (0.5),  <comp> = 2.0 (0.3), peso sup = 6.0 kg, comp sup = 2.6 m\n",
      "219) <peso> = 5.0 (0.4),  <comp> = 2.1 (0.4), peso sup = 5.8 kg, comp sup = 2.9 m\n",
      "220) <peso> = 4.8 (0.5),  <comp> = 2.0 (0.4), peso sup = 5.8 kg, comp sup = 2.9 m\n",
      "221) <peso> = 5.1 (0.4),  <comp> = 1.9 (0.4), peso sup = 5.8 kg, comp sup = 2.7 m\n",
      "222) <peso> = 5.0 (0.6),  <comp> = 1.8 (0.4), peso sup = 6.3 kg, comp sup = 2.7 m\n",
      "223) <peso> = 4.8 (0.5),  <comp> = 2.0 (0.4), peso sup = 5.9 kg, comp sup = 2.8 m\n",
      "224) <peso> = 5.1 (0.6),  <comp> = 2.1 (0.5), peso sup = 6.2 kg, comp sup = 3.1 m\n",
      "225) <peso> = 5.1 (0.5),  <comp> = 2.0 (0.4), peso sup = 6.0 kg, comp sup = 2.8 m\n",
      "226) <peso> = 5.1 (0.6),  <comp> = 2.0 (0.3), peso sup = 6.3 kg, comp sup = 2.6 m\n",
      "227) <peso> = 5.0 (0.5),  <comp> = 2.2 (0.4), peso sup = 6.0 kg, comp sup = 3.0 m\n",
      "228) <peso> = 5.0 (0.5),  <comp> = 2.0 (0.4), peso sup = 5.9 kg, comp sup = 2.9 m\n",
      "229) <peso> = 5.1 (0.4),  <comp> = 2.1 (0.4), peso sup = 6.0 kg, comp sup = 2.8 m\n",
      "230) <peso> = 5.0 (0.4),  <comp> = 2.1 (0.3), peso sup = 5.8 kg, comp sup = 2.6 m\n",
      "231) <peso> = 5.0 (0.6),  <comp> = 2.1 (0.4), peso sup = 6.2 kg, comp sup = 2.9 m\n",
      "232) <peso> = 5.0 (0.4),  <comp> = 2.0 (0.4), peso sup = 5.9 kg, comp sup = 2.7 m\n",
      "233) <peso> = 5.0 (0.5),  <comp> = 2.0 (0.3), peso sup = 5.9 kg, comp sup = 2.6 m\n",
      "234) <peso> = 5.1 (0.5),  <comp> = 1.9 (0.3), peso sup = 6.0 kg, comp sup = 2.6 m\n",
      "235) <peso> = 5.1 (0.5),  <comp> = 2.1 (0.4), peso sup = 6.0 kg, comp sup = 2.9 m\n",
      "236) <peso> = 5.1 (0.5),  <comp> = 2.0 (0.3), peso sup = 6.1 kg, comp sup = 2.6 m\n",
      "237) <peso> = 5.1 (0.6),  <comp> = 2.0 (0.4), peso sup = 6.2 kg, comp sup = 2.9 m\n",
      "238) <peso> = 4.9 (0.5),  <comp> = 1.9 (0.3), peso sup = 5.8 kg, comp sup = 2.5 m\n",
      "239) <peso> = 5.1 (0.5),  <comp> = 2.0 (0.4), peso sup = 6.1 kg, comp sup = 2.7 m\n",
      "240) <peso> = 5.1 (0.5),  <comp> = 2.0 (0.5), peso sup = 6.1 kg, comp sup = 3.0 m\n",
      "241) <peso> = 5.2 (0.5),  <comp> = 2.0 (0.4), peso sup = 6.1 kg, comp sup = 2.8 m\n",
      "242) <peso> = 5.1 (0.4),  <comp> = 2.1 (0.5), peso sup = 6.0 kg, comp sup = 3.0 m\n",
      "243) <peso> = 4.9 (0.5),  <comp> = 1.9 (0.3), peso sup = 6.0 kg, comp sup = 2.6 m\n",
      "244) <peso> = 5.1 (0.5),  <comp> = 2.1 (0.3), peso sup = 6.2 kg, comp sup = 2.7 m\n",
      "245) <peso> = 5.0 (0.5),  <comp> = 1.9 (0.4), peso sup = 6.0 kg, comp sup = 2.7 m\n",
      "246) <peso> = 5.0 (0.5),  <comp> = 2.2 (0.4), peso sup = 6.0 kg, comp sup = 3.0 m\n",
      "247) <peso> = 5.0 (0.4),  <comp> = 2.0 (0.4), peso sup = 5.9 kg, comp sup = 2.8 m\n",
      "248) <peso> = 5.1 (0.5),  <comp> = 2.0 (0.4), peso sup = 6.1 kg, comp sup = 2.8 m\n",
      "249) <peso> = 5.0 (0.5),  <comp> = 2.0 (0.4), peso sup = 6.0 kg, comp sup = 2.9 m\n",
      "250) <peso> = 5.0 (0.6),  <comp> = 1.9 (0.5), peso sup = 6.1 kg, comp sup = 2.9 m\n",
      "251) <peso> = 4.8 (0.5),  <comp> = 2.0 (0.5), peso sup = 5.7 kg, comp sup = 3.0 m\n",
      "252) <peso> = 5.1 (0.5),  <comp> = 2.0 (0.4), peso sup = 6.1 kg, comp sup = 2.9 m\n",
      "253) <peso> = 5.0 (0.5),  <comp> = 1.9 (0.3), peso sup = 5.9 kg, comp sup = 2.5 m\n",
      "254) <peso> = 5.0 (0.6),  <comp> = 1.9 (0.3), peso sup = 6.1 kg, comp sup = 2.6 m\n",
      "255) <peso> = 5.1 (0.4),  <comp> = 2.0 (0.4), peso sup = 6.0 kg, comp sup = 2.8 m\n",
      "256) <peso> = 5.0 (0.4),  <comp> = 2.0 (0.3), peso sup = 5.9 kg, comp sup = 2.6 m\n",
      "257) <peso> = 4.9 (0.4),  <comp> = 2.0 (0.4), peso sup = 5.8 kg, comp sup = 2.8 m\n"
     ]
    },
    {
     "data": {
      "text/html": [
       "<div>\n",
       "<style scoped>\n",
       "    .dataframe tbody tr th:only-of-type {\n",
       "        vertical-align: middle;\n",
       "    }\n",
       "\n",
       "    .dataframe tbody tr th {\n",
       "        vertical-align: top;\n",
       "    }\n",
       "\n",
       "    .dataframe thead th {\n",
       "        text-align: right;\n",
       "    }\n",
       "</style>\n",
       "<table border=\"1\" class=\"dataframe\">\n",
       "  <thead>\n",
       "    <tr style=\"text-align: right;\">\n",
       "      <th></th>\n",
       "      <th>id</th>\n",
       "      <th>peso</th>\n",
       "      <th>comprimento</th>\n",
       "    </tr>\n",
       "  </thead>\n",
       "  <tbody>\n",
       "    <tr>\n",
       "      <th>26</th>\n",
       "      <td>26</td>\n",
       "      <td>5.949074</td>\n",
       "      <td>2.83956</td>\n",
       "    </tr>\n",
       "  </tbody>\n",
       "</table>\n",
       "</div>"
      ],
      "text/plain": [
       "    id      peso  comprimento\n",
       "26  26  5.949074      2.83956"
      ]
     },
     "execution_count": 61,
     "metadata": {},
     "output_type": "execute_result"
    }
   ],
   "source": [
    "N = 30; i = 0\n",
    "\n",
    "while(True):\n",
    "    i += 1\n",
    "    \n",
    "    dic = {}\n",
    "\n",
    "    dic['id'] = np.arange(0, N)\n",
    "    dic['peso'] = np.random.normal(5, .5, N)\n",
    "    dic['comprimento'] = np.random.normal(2, .4, N)\n",
    "\n",
    "    df = pd.DataFrame.from_dict(dic)\n",
    "    \n",
    "    mu_peso  = df.peso.mean()\n",
    "    ssd_peso = df.peso.std()\n",
    "    \n",
    "    mu_comp  = df.comprimento.mean()\n",
    "    ssd_comp = df.comprimento.std()\n",
    "    \n",
    "    lim_peso_sup = mu_peso + 2*ssd_peso\n",
    "    lim_comp_sup = mu_comp + 2*ssd_comp\n",
    "\n",
    "    print(\"%d) <peso> = %.1f (%.1f),  <comp> = %.1f (%.1f), peso sup = %.1f kg, comp sup = %.1f m\"%(i, \n",
    "                                                                             mu_peso, ssd_peso, mu_comp, ssd_comp,\n",
    "                                                                             lim_peso_sup, lim_comp_sup) )\n",
    "    \n",
    "    df = df[(df.peso > lim_peso_sup) & (df.comprimento > lim_comp_sup)]\n",
    "    \n",
    "    if len(df) > 0: break\n",
    "        \n",
    "df         "
   ]
  },
  {
   "cell_type": "markdown",
   "metadata": {},
   "source": [
    "### Qual o erro de peformance no meu algoritmo?"
   ]
  },
  {
   "cell_type": "markdown",
   "metadata": {},
   "source": [
    "### Isto np.random.normal() é uma máquina estocástica? gerador de números numa distribuição normal?"
   ]
  },
  {
   "cell_type": "markdown",
   "metadata": {},
   "source": [
    "### O que significa que consegui um valor após 257 tentativas?"
   ]
  },
  {
   "cell_type": "code",
   "execution_count": 62,
   "metadata": {},
   "outputs": [
    {
     "data": {
      "text/plain": [
       "0.38910505836575876"
      ]
     },
     "execution_count": 62,
     "metadata": {},
     "output_type": "execute_result"
    }
   ],
   "source": [
    "100/257"
   ]
  },
  {
   "cell_type": "code",
   "execution_count": 63,
   "metadata": {},
   "outputs": [
    {
     "data": {
      "text/plain": [
       "6.237828615518053"
      ]
     },
     "execution_count": 63,
     "metadata": {},
     "output_type": "execute_result"
    }
   ],
   "source": [
    "100/np.sqrt(257)"
   ]
  },
  {
   "cell_type": "markdown",
   "metadata": {},
   "source": [
    "### 6% de chance de um fenomeno grande (ou pequeno ocorrer)"
   ]
  },
  {
   "cell_type": "code",
   "execution_count": 65,
   "metadata": {},
   "outputs": [
    {
     "data": {
      "text/plain": [
       "0.0038937599999999996"
      ]
     },
     "execution_count": 65,
     "metadata": {},
     "output_type": "execute_result"
    }
   ],
   "source": [
    "0.0624*0.0624"
   ]
  },
  {
   "cell_type": "code",
   "execution_count": 67,
   "metadata": {},
   "outputs": [
    {
     "data": {
      "text/plain": [
       "256.82117028270875"
      ]
     },
     "execution_count": 67,
     "metadata": {},
     "output_type": "execute_result"
    }
   ],
   "source": [
    "1./(0.0624*0.0624)"
   ]
  },
  {
   "cell_type": "markdown",
   "metadata": {},
   "source": [
    "### p(raro) * p(raro) = p(raro) ^ 2\n",
    "### 6.24% * 6.24% ~ 0.39% de dois fenômecnos ocorrerem"
   ]
  },
  {
   "cell_type": "markdown",
   "metadata": {},
   "source": [
    "### Por isto que Ronald Fischer escolheu 5% como corte \"do raro\"?\n",
    "\n",
    "https://en.wikipedia.org/wiki/P-value\n",
    "\n",
    "https://en.wikipedia.org/wiki/Ronald_Fisher\n",
    "\n",
    "\n",
    "### Markdown command: >> \\![Ronald Fisher]\\(../figure/ronald_fisher.jpg)\n",
    "\n",
    "https://github.com/adam-p/markdown-here/wiki/Markdown-Cheatsheet"
   ]
  },
  {
   "cell_type": "markdown",
   "metadata": {},
   "source": [
    "![Ronald Fisher](../figure/ronald_fisher.jpg)"
   ]
  },
  {
   "cell_type": "code",
   "execution_count": 69,
   "metadata": {},
   "outputs": [
    {
     "data": {
      "text/plain": [
       "['ronald_fisher.jpg',\n",
       " 'carro_rendimento_por_cilindro.png',\n",
       " 'meucarro.png',\n",
       " 'carro_rendimento_por_cilindro_better_font.png']"
      ]
     },
     "execution_count": 69,
     "metadata": {},
     "output_type": "execute_result"
    }
   ],
   "source": [
    "os.listdir(\"../figure\")"
   ]
  }
 ],
 "metadata": {
  "kernelspec": {
   "display_name": "Python 3",
   "language": "python",
   "name": "python3"
  },
  "language_info": {
   "codemirror_mode": {
    "name": "ipython",
    "version": 3
   },
   "file_extension": ".py",
   "mimetype": "text/x-python",
   "name": "python",
   "nbconvert_exporter": "python",
   "pygments_lexer": "ipython3",
   "version": "3.7.7"
  }
 },
 "nbformat": 4,
 "nbformat_minor": 4
}
