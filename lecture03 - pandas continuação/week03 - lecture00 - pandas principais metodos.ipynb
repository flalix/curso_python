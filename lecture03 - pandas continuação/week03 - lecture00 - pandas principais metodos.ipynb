{
 "cells": [
  {
   "cell_type": "markdown",
   "metadata": {},
   "source": [
    "### Pandas x Dictionary\n",
    "\n",
    "Nós terminamos a aula anterior apresentando um dictionário (dictionary) para vocês.\n",
    "\n",
    "Há dois tipos de dicionário:\n",
    "  - Não ordenado\n",
    "  - Ordenado"
   ]
  },
  {
   "cell_type": "code",
   "execution_count": 1,
   "metadata": {},
   "outputs": [],
   "source": [
    "import os, sys\n",
    "import pandas as pd # pandas e seu alias pd\n",
    "import numpy as np  # numpy  e seu alias np\n",
    "\n",
    "import matplotlib.pyplot as plt # matplotlib e seu alias plt\n",
    "%matplotlib inline"
   ]
  },
  {
   "cell_type": "markdown",
   "metadata": {},
   "source": [
    "### Dicionário não ordenado\n",
    "\n",
    "você pode inicializá-lo de duas formas:\n",
    "  - meu_dic = dict()\n",
    "  - meu_dic = {}\n",
    "  \n",
    "abaixo crio um dictionary com nome 'dic' não confunda com o método 'dict()' que tem um t a mais."
   ]
  },
  {
   "cell_type": "code",
   "execution_count": 2,
   "metadata": {},
   "outputs": [
    {
     "data": {
      "text/plain": [
       "3"
      ]
     },
     "execution_count": 2,
     "metadata": {},
     "output_type": "execute_result"
    }
   ],
   "source": [
    "dic = {}\n",
    "dic['a'] = 0\n",
    "dic['b'] = 1\n",
    "dic['c'] = 2\n",
    "\n",
    "len(dic)"
   ]
  },
  {
   "cell_type": "markdown",
   "metadata": {},
   "source": [
    "### Outra forma de construir um dicionário"
   ]
  },
  {
   "cell_type": "code",
   "execution_count": 3,
   "metadata": {},
   "outputs": [
    {
     "data": {
      "text/plain": [
       "(dict, {'a': 0, 'b': 1, 'c': 2})"
      ]
     },
     "execution_count": 3,
     "metadata": {},
     "output_type": "execute_result"
    }
   ],
   "source": [
    "dic = {'a':0, 'b':1, 'c':2}\n",
    "type(dic), dic"
   ]
  },
  {
   "cell_type": "markdown",
   "metadata": {},
   "source": [
    "### Olhando o conteúdo usando a chave (key)"
   ]
  },
  {
   "cell_type": "code",
   "execution_count": 4,
   "metadata": {},
   "outputs": [
    {
     "name": "stdout",
     "output_type": "stream",
     "text": [
      "a\n",
      "b\n",
      "c\n"
     ]
    }
   ],
   "source": [
    "for key in dic.keys():\n",
    "    print(key)"
   ]
  },
  {
   "cell_type": "markdown",
   "metadata": {},
   "source": [
    "### Pesquisando 'chave' (key) e 'valor' (dic[key])"
   ]
  },
  {
   "cell_type": "code",
   "execution_count": 5,
   "metadata": {},
   "outputs": [
    {
     "name": "stdout",
     "output_type": "stream",
     "text": [
      "a 0\n",
      "b 1\n",
      "c 2\n"
     ]
    }
   ],
   "source": [
    "for key in dic.keys():\n",
    "    print(key, dic[key])"
   ]
  },
  {
   "cell_type": "markdown",
   "metadata": {},
   "source": [
    "### Usando items() - mais fácil, rápido e seguro"
   ]
  },
  {
   "cell_type": "code",
   "execution_count": 6,
   "metadata": {},
   "outputs": [
    {
     "name": "stdout",
     "output_type": "stream",
     "text": [
      "a 0\n",
      "b 1\n",
      "c 2\n"
     ]
    }
   ],
   "source": [
    "for key, val in dic.items():\n",
    "    print(key, val)"
   ]
  },
  {
   "cell_type": "markdown",
   "metadata": {},
   "source": [
    "### Porque um dicionário é importante para o Pandas?\n",
    "### Vamos construir um dicionário mais complexo e tranformá-lo numa tabela Pandas"
   ]
  },
  {
   "cell_type": "code",
   "execution_count": 7,
   "metadata": {},
   "outputs": [
    {
     "data": {
      "text/plain": [
       "(4, dict_keys(['a1', 'a2', 'a3', 'a4']))"
      ]
     },
     "execution_count": 7,
     "metadata": {},
     "output_type": "execute_result"
    }
   ],
   "source": [
    "## 4 animais, a1 ... a4\n",
    "\n",
    "dic = {}\n",
    "dic['a1'] = [3.26, 'cm', 'cinza', '223.4', 'g']\n",
    "dic['a2'] = [4.26, 'cm', 'cinza rajado', '242.3', 'g']\n",
    "dic['a3'] = [3.76, 'cm', 'cinza', '278.8', 'g']\n",
    "dic['a4'] = [4.58, 'cm', 'cinza, preto e laranja', '305.1', 'g']\n",
    "len(dic), dic.keys()"
   ]
  },
  {
   "cell_type": "markdown",
   "metadata": {},
   "source": [
    "### Veja pandas to_dict()\n",
    "\n",
    "https://pandas.pydata.org/pandas-docs/stable/reference/api/pandas.DataFrame.from_dict.html  \n",
    "https://stackoverflow.com/questions/18837262/convert-python-dict-into-a-dataframe"
   ]
  },
  {
   "cell_type": "code",
   "execution_count": 8,
   "metadata": {},
   "outputs": [
    {
     "data": {
      "text/html": [
       "<div>\n",
       "<style scoped>\n",
       "    .dataframe tbody tr th:only-of-type {\n",
       "        vertical-align: middle;\n",
       "    }\n",
       "\n",
       "    .dataframe tbody tr th {\n",
       "        vertical-align: top;\n",
       "    }\n",
       "\n",
       "    .dataframe thead th {\n",
       "        text-align: right;\n",
       "    }\n",
       "</style>\n",
       "<table border=\"1\" class=\"dataframe\">\n",
       "  <thead>\n",
       "    <tr style=\"text-align: right;\">\n",
       "      <th></th>\n",
       "      <th>a1</th>\n",
       "      <th>a2</th>\n",
       "      <th>a3</th>\n",
       "      <th>a4</th>\n",
       "    </tr>\n",
       "  </thead>\n",
       "  <tbody>\n",
       "    <tr>\n",
       "      <th>0</th>\n",
       "      <td>3.26</td>\n",
       "      <td>4.26</td>\n",
       "      <td>3.76</td>\n",
       "      <td>4.58</td>\n",
       "    </tr>\n",
       "    <tr>\n",
       "      <th>1</th>\n",
       "      <td>cm</td>\n",
       "      <td>cm</td>\n",
       "      <td>cm</td>\n",
       "      <td>cm</td>\n",
       "    </tr>\n",
       "    <tr>\n",
       "      <th>2</th>\n",
       "      <td>cinza</td>\n",
       "      <td>cinza rajado</td>\n",
       "      <td>cinza</td>\n",
       "      <td>cinza, preto e laranja</td>\n",
       "    </tr>\n",
       "    <tr>\n",
       "      <th>3</th>\n",
       "      <td>223.4</td>\n",
       "      <td>242.3</td>\n",
       "      <td>278.8</td>\n",
       "      <td>305.1</td>\n",
       "    </tr>\n",
       "    <tr>\n",
       "      <th>4</th>\n",
       "      <td>g</td>\n",
       "      <td>g</td>\n",
       "      <td>g</td>\n",
       "      <td>g</td>\n",
       "    </tr>\n",
       "  </tbody>\n",
       "</table>\n",
       "</div>"
      ],
      "text/plain": [
       "      a1            a2     a3                      a4\n",
       "0   3.26          4.26   3.76                    4.58\n",
       "1     cm            cm     cm                      cm\n",
       "2  cinza  cinza rajado  cinza  cinza, preto e laranja\n",
       "3  223.4         242.3  278.8                   305.1\n",
       "4      g             g      g                       g"
      ]
     },
     "execution_count": 8,
     "metadata": {},
     "output_type": "execute_result"
    }
   ],
   "source": [
    "df = pd.DataFrame.from_dict(dic)\n",
    "df"
   ]
  },
  {
   "cell_type": "markdown",
   "metadata": {},
   "source": [
    "### Transpondo a tabela (rodando 90 graus)"
   ]
  },
  {
   "cell_type": "code",
   "execution_count": 9,
   "metadata": {},
   "outputs": [
    {
     "data": {
      "text/html": [
       "<div>\n",
       "<style scoped>\n",
       "    .dataframe tbody tr th:only-of-type {\n",
       "        vertical-align: middle;\n",
       "    }\n",
       "\n",
       "    .dataframe tbody tr th {\n",
       "        vertical-align: top;\n",
       "    }\n",
       "\n",
       "    .dataframe thead th {\n",
       "        text-align: right;\n",
       "    }\n",
       "</style>\n",
       "<table border=\"1\" class=\"dataframe\">\n",
       "  <thead>\n",
       "    <tr style=\"text-align: right;\">\n",
       "      <th></th>\n",
       "      <th>0</th>\n",
       "      <th>1</th>\n",
       "      <th>2</th>\n",
       "      <th>3</th>\n",
       "      <th>4</th>\n",
       "    </tr>\n",
       "  </thead>\n",
       "  <tbody>\n",
       "    <tr>\n",
       "      <th>a1</th>\n",
       "      <td>3.26</td>\n",
       "      <td>cm</td>\n",
       "      <td>cinza</td>\n",
       "      <td>223.4</td>\n",
       "      <td>g</td>\n",
       "    </tr>\n",
       "    <tr>\n",
       "      <th>a2</th>\n",
       "      <td>4.26</td>\n",
       "      <td>cm</td>\n",
       "      <td>cinza rajado</td>\n",
       "      <td>242.3</td>\n",
       "      <td>g</td>\n",
       "    </tr>\n",
       "    <tr>\n",
       "      <th>a3</th>\n",
       "      <td>3.76</td>\n",
       "      <td>cm</td>\n",
       "      <td>cinza</td>\n",
       "      <td>278.8</td>\n",
       "      <td>g</td>\n",
       "    </tr>\n",
       "    <tr>\n",
       "      <th>a4</th>\n",
       "      <td>4.58</td>\n",
       "      <td>cm</td>\n",
       "      <td>cinza, preto e laranja</td>\n",
       "      <td>305.1</td>\n",
       "      <td>g</td>\n",
       "    </tr>\n",
       "  </tbody>\n",
       "</table>\n",
       "</div>"
      ],
      "text/plain": [
       "       0   1                       2      3  4\n",
       "a1  3.26  cm                   cinza  223.4  g\n",
       "a2  4.26  cm            cinza rajado  242.3  g\n",
       "a3  3.76  cm                   cinza  278.8  g\n",
       "a4  4.58  cm  cinza, preto e laranja  305.1  g"
      ]
     },
     "execution_count": 9,
     "metadata": {},
     "output_type": "execute_result"
    }
   ],
   "source": [
    "df = pd.DataFrame.from_dict(dic).T\n",
    "df"
   ]
  },
  {
   "cell_type": "markdown",
   "metadata": {},
   "source": [
    "### Clocando nomes"
   ]
  },
  {
   "cell_type": "code",
   "execution_count": 10,
   "metadata": {},
   "outputs": [
    {
     "data": {
      "text/html": [
       "<div>\n",
       "<style scoped>\n",
       "    .dataframe tbody tr th:only-of-type {\n",
       "        vertical-align: middle;\n",
       "    }\n",
       "\n",
       "    .dataframe tbody tr th {\n",
       "        vertical-align: top;\n",
       "    }\n",
       "\n",
       "    .dataframe thead th {\n",
       "        text-align: right;\n",
       "    }\n",
       "</style>\n",
       "<table border=\"1\" class=\"dataframe\">\n",
       "  <thead>\n",
       "    <tr style=\"text-align: right;\">\n",
       "      <th></th>\n",
       "      <th>comprimento</th>\n",
       "      <th>uni_comp</th>\n",
       "      <th>cor</th>\n",
       "      <th>peso</th>\n",
       "      <th>uni_peso</th>\n",
       "    </tr>\n",
       "  </thead>\n",
       "  <tbody>\n",
       "    <tr>\n",
       "      <th>a1</th>\n",
       "      <td>3.26</td>\n",
       "      <td>cm</td>\n",
       "      <td>cinza</td>\n",
       "      <td>223.4</td>\n",
       "      <td>g</td>\n",
       "    </tr>\n",
       "    <tr>\n",
       "      <th>a2</th>\n",
       "      <td>4.26</td>\n",
       "      <td>cm</td>\n",
       "      <td>cinza rajado</td>\n",
       "      <td>242.3</td>\n",
       "      <td>g</td>\n",
       "    </tr>\n",
       "    <tr>\n",
       "      <th>a3</th>\n",
       "      <td>3.76</td>\n",
       "      <td>cm</td>\n",
       "      <td>cinza</td>\n",
       "      <td>278.8</td>\n",
       "      <td>g</td>\n",
       "    </tr>\n",
       "    <tr>\n",
       "      <th>a4</th>\n",
       "      <td>4.58</td>\n",
       "      <td>cm</td>\n",
       "      <td>cinza, preto e laranja</td>\n",
       "      <td>305.1</td>\n",
       "      <td>g</td>\n",
       "    </tr>\n",
       "  </tbody>\n",
       "</table>\n",
       "</div>"
      ],
      "text/plain": [
       "   comprimento uni_comp                     cor   peso uni_peso\n",
       "a1        3.26       cm                   cinza  223.4        g\n",
       "a2        4.26       cm            cinza rajado  242.3        g\n",
       "a3        3.76       cm                   cinza  278.8        g\n",
       "a4        4.58       cm  cinza, preto e laranja  305.1        g"
      ]
     },
     "execution_count": 10,
     "metadata": {},
     "output_type": "execute_result"
    }
   ],
   "source": [
    "df = pd.DataFrame.from_dict(dic).T\n",
    "df.columns = ['comprimento', 'uni_comp', 'cor', 'peso', 'uni_peso']\n",
    "df"
   ]
  },
  {
   "cell_type": "markdown",
   "metadata": {},
   "source": [
    "### Outra forma de usar dicionário x tabela Pandas\n",
    "\n",
    "vendo conteúdo do index e de colunas (pd.Series)"
   ]
  },
  {
   "cell_type": "code",
   "execution_count": 11,
   "metadata": {},
   "outputs": [
    {
     "data": {
      "text/plain": [
       "Index(['a1', 'a2', 'a3', 'a4'], dtype='object')"
      ]
     },
     "execution_count": 11,
     "metadata": {},
     "output_type": "execute_result"
    }
   ],
   "source": [
    "df.index"
   ]
  },
  {
   "cell_type": "code",
   "execution_count": 12,
   "metadata": {},
   "outputs": [
    {
     "data": {
      "text/plain": [
       "['g', 'g', 'g', 'g']"
      ]
     },
     "execution_count": 12,
     "metadata": {},
     "output_type": "execute_result"
    }
   ],
   "source": [
    "list(df.uni_peso)"
   ]
  },
  {
   "cell_type": "code",
   "execution_count": 13,
   "metadata": {},
   "outputs": [
    {
     "data": {
      "text/html": [
       "<div>\n",
       "<style scoped>\n",
       "    .dataframe tbody tr th:only-of-type {\n",
       "        vertical-align: middle;\n",
       "    }\n",
       "\n",
       "    .dataframe tbody tr th {\n",
       "        vertical-align: top;\n",
       "    }\n",
       "\n",
       "    .dataframe thead th {\n",
       "        text-align: right;\n",
       "    }\n",
       "</style>\n",
       "<table border=\"1\" class=\"dataframe\">\n",
       "  <thead>\n",
       "    <tr style=\"text-align: right;\">\n",
       "      <th></th>\n",
       "      <th>animal</th>\n",
       "      <th>peso</th>\n",
       "      <th>uni_comp</th>\n",
       "      <th>cor</th>\n",
       "      <th>uni_peso</th>\n",
       "    </tr>\n",
       "  </thead>\n",
       "  <tbody>\n",
       "    <tr>\n",
       "      <th>0</th>\n",
       "      <td>a1</td>\n",
       "      <td>223.4</td>\n",
       "      <td>cm</td>\n",
       "      <td>cinza</td>\n",
       "      <td>g</td>\n",
       "    </tr>\n",
       "    <tr>\n",
       "      <th>1</th>\n",
       "      <td>a2</td>\n",
       "      <td>242.3</td>\n",
       "      <td>cm</td>\n",
       "      <td>cinza rajado</td>\n",
       "      <td>g</td>\n",
       "    </tr>\n",
       "    <tr>\n",
       "      <th>2</th>\n",
       "      <td>a3</td>\n",
       "      <td>278.8</td>\n",
       "      <td>cm</td>\n",
       "      <td>cinza</td>\n",
       "      <td>g</td>\n",
       "    </tr>\n",
       "    <tr>\n",
       "      <th>3</th>\n",
       "      <td>a4</td>\n",
       "      <td>305.1</td>\n",
       "      <td>cm</td>\n",
       "      <td>cinza, preto e laranja</td>\n",
       "      <td>g</td>\n",
       "    </tr>\n",
       "  </tbody>\n",
       "</table>\n",
       "</div>"
      ],
      "text/plain": [
       "  animal   peso uni_comp                     cor uni_peso\n",
       "0     a1  223.4       cm                   cinza        g\n",
       "1     a2  242.3       cm            cinza rajado        g\n",
       "2     a3  278.8       cm                   cinza        g\n",
       "3     a4  305.1       cm  cinza, preto e laranja        g"
      ]
     },
     "execution_count": 13,
     "metadata": {},
     "output_type": "execute_result"
    }
   ],
   "source": [
    "dic = {}\n",
    "dic['animal'] = ['a1', 'a2', 'a3', 'a4']\n",
    "dic['peso'] = [3.26, 4.26, 3.76, 4.48]\n",
    "dic['uni_comp'] = ['cm', 'cm', 'cm', 'cm']\n",
    "dic['cor'] = ['cinza', 'cinza rajado', 'cinza', 'cinza, preto e laranja']\n",
    "dic['peso'] = [223.4, 242.3, 278.8, 305.1]\n",
    "dic['uni_peso'] = ['g', 'g', 'g', 'g']\n",
    "\n",
    "df = pd.DataFrame.from_dict(dic)\n",
    "df"
   ]
  },
  {
   "cell_type": "code",
   "execution_count": null,
   "metadata": {},
   "outputs": [],
   "source": []
  },
  {
   "cell_type": "markdown",
   "metadata": {},
   "source": [
    "### Peso médio, desvio padrão amostral, mediana"
   ]
  },
  {
   "cell_type": "code",
   "execution_count": 14,
   "metadata": {},
   "outputs": [
    {
     "data": {
      "text/plain": [
       "262.4"
      ]
     },
     "execution_count": 14,
     "metadata": {},
     "output_type": "execute_result"
    }
   ],
   "source": [
    "df.peso.mean()"
   ]
  },
  {
   "cell_type": "code",
   "execution_count": 15,
   "metadata": {},
   "outputs": [
    {
     "data": {
      "text/plain": [
       "36.59353312631437"
      ]
     },
     "execution_count": 15,
     "metadata": {},
     "output_type": "execute_result"
    }
   ],
   "source": [
    "df.peso.std()"
   ]
  },
  {
   "cell_type": "code",
   "execution_count": 16,
   "metadata": {},
   "outputs": [
    {
     "data": {
      "text/plain": [
       "260.55"
      ]
     },
     "execution_count": 16,
     "metadata": {},
     "output_type": "execute_result"
    }
   ],
   "source": [
    "df.peso.median()"
   ]
  },
  {
   "cell_type": "markdown",
   "metadata": {},
   "source": [
    "### Desafio:\n",
    "  - o que é:\n",
    "        - Média?\n",
    "        - Desvio padrão amostral?\n",
    "        - Mediana?"
   ]
  },
  {
   "cell_type": "code",
   "execution_count": 17,
   "metadata": {},
   "outputs": [
    {
     "data": {
      "text/plain": [
       "'O peso médio das 4 cobras é 262.4 (36.6)'"
      ]
     },
     "execution_count": 17,
     "metadata": {},
     "output_type": "execute_result"
    }
   ],
   "source": [
    "\"O peso médio das %d cobras é %.1f (%.1f)\"%(len(df), df.peso.mean(), df.peso.std())"
   ]
  },
  {
   "cell_type": "code",
   "execution_count": null,
   "metadata": {},
   "outputs": [],
   "source": []
  },
  {
   "cell_type": "markdown",
   "metadata": {},
   "source": [
    "### Criando cobras com a distribuição normal"
   ]
  },
  {
   "cell_type": "code",
   "execution_count": 18,
   "metadata": {},
   "outputs": [
    {
     "data": {
      "text/html": [
       "<div>\n",
       "<style scoped>\n",
       "    .dataframe tbody tr th:only-of-type {\n",
       "        vertical-align: middle;\n",
       "    }\n",
       "\n",
       "    .dataframe tbody tr th {\n",
       "        vertical-align: top;\n",
       "    }\n",
       "\n",
       "    .dataframe thead th {\n",
       "        text-align: right;\n",
       "    }\n",
       "</style>\n",
       "<table border=\"1\" class=\"dataframe\">\n",
       "  <thead>\n",
       "    <tr style=\"text-align: right;\">\n",
       "      <th></th>\n",
       "      <th>id</th>\n",
       "      <th>peso</th>\n",
       "      <th>comprimento</th>\n",
       "    </tr>\n",
       "  </thead>\n",
       "  <tbody>\n",
       "    <tr>\n",
       "      <th>0</th>\n",
       "      <td>0</td>\n",
       "      <td>4.672961</td>\n",
       "      <td>1.985819</td>\n",
       "    </tr>\n",
       "    <tr>\n",
       "      <th>1</th>\n",
       "      <td>1</td>\n",
       "      <td>4.209098</td>\n",
       "      <td>1.700818</td>\n",
       "    </tr>\n",
       "    <tr>\n",
       "      <th>2</th>\n",
       "      <td>2</td>\n",
       "      <td>5.922821</td>\n",
       "      <td>1.046637</td>\n",
       "    </tr>\n",
       "    <tr>\n",
       "      <th>3</th>\n",
       "      <td>3</td>\n",
       "      <td>4.712433</td>\n",
       "      <td>1.847114</td>\n",
       "    </tr>\n",
       "    <tr>\n",
       "      <th>4</th>\n",
       "      <td>4</td>\n",
       "      <td>4.656770</td>\n",
       "      <td>2.033226</td>\n",
       "    </tr>\n",
       "  </tbody>\n",
       "</table>\n",
       "</div>"
      ],
      "text/plain": [
       "   id      peso  comprimento\n",
       "0   0  4.672961     1.985819\n",
       "1   1  4.209098     1.700818\n",
       "2   2  5.922821     1.046637\n",
       "3   3  4.712433     1.847114\n",
       "4   4  4.656770     2.033226"
      ]
     },
     "execution_count": 18,
     "metadata": {},
     "output_type": "execute_result"
    }
   ],
   "source": [
    "dic = {}\n",
    "N = 30\n",
    "\n",
    "dic['id'] = np.arange(0, N)\n",
    "dic['peso'] = np.random.normal(5, .5, N)\n",
    "dic['comprimento'] = np.random.normal(2, .4, N)\n",
    "\n",
    "df = pd.DataFrame.from_dict(dic)\n",
    "df.head()"
   ]
  },
  {
   "cell_type": "code",
   "execution_count": 19,
   "metadata": {},
   "outputs": [
    {
     "data": {
      "text/plain": [
       "'O peso médio das 30 cobras é 5.0 (0.4)'"
      ]
     },
     "execution_count": 19,
     "metadata": {},
     "output_type": "execute_result"
    }
   ],
   "source": [
    "\"O peso médio das %d cobras é %.1f (%.1f)\"%(len(df), df.peso.mean(), df.peso.std())"
   ]
  },
  {
   "cell_type": "code",
   "execution_count": 20,
   "metadata": {},
   "outputs": [
    {
     "data": {
      "text/plain": [
       "'O comprimento médio das 30 cobras é 1.8 (0.4)'"
      ]
     },
     "execution_count": 20,
     "metadata": {},
     "output_type": "execute_result"
    }
   ],
   "source": [
    "\"O comprimento médio das %d cobras é %.1f (%.1f)\"%(len(df), df.comprimento.mean(), df.comprimento.std())"
   ]
  },
  {
   "cell_type": "markdown",
   "metadata": {},
   "source": [
    "### N=30 aproximando da normalidade (distribuição normal)"
   ]
  },
  {
   "cell_type": "code",
   "execution_count": 21,
   "metadata": {},
   "outputs": [
    {
     "data": {
      "text/plain": [
       "(array([2., 1., 0., 6., 4., 7., 5., 3., 1., 1.]),\n",
       " array([0.92010029, 1.10190983, 1.28371937, 1.46552891, 1.64733845,\n",
       "        1.82914798, 2.01095752, 2.19276706, 2.3745766 , 2.55638614,\n",
       "        2.73819568]),\n",
       " <BarContainer object of 10 artists>)"
      ]
     },
     "execution_count": 21,
     "metadata": {},
     "output_type": "execute_result"
    },
    {
     "data": {
      "image/png": "[encoded data removed]",
      "text/plain": [
       "<Figure size 432x288 with 1 Axes>"
      ]
     },
     "metadata": {
      "needs_background": "light"
     },
     "output_type": "display_data"
    }
   ],
   "source": [
    "plt.hist(df.peso)\n",
    "plt.hist(df.comprimento)"
   ]
  },
  {
   "cell_type": "markdown",
   "metadata": {},
   "source": [
    "### Aumentando N ... faça simulações"
   ]
  },
  {
   "cell_type": "code",
   "execution_count": 22,
   "metadata": {},
   "outputs": [
    {
     "data": {
      "text/plain": [
       "(array([ 1.,  3.,  3.,  9.,  9., 20., 24., 28., 29., 26., 22.,  9.,  9.,\n",
       "         3.,  5.]),\n",
       " array([0.88340068, 1.02492256, 1.16644444, 1.30796632, 1.44948819,\n",
       "        1.59101007, 1.73253195, 1.87405383, 2.01557571, 2.15709759,\n",
       "        2.29861947, 2.44014135, 2.58166323, 2.72318511, 2.86470698,\n",
       "        3.00622886]),\n",
       " <BarContainer object of 15 artists>)"
      ]
     },
     "execution_count": 22,
     "metadata": {},
     "output_type": "execute_result"
    },
    {
     "data": {
      "image/png": "[encoded data removed]",
      "text/plain": [
       "<Figure size 432x288 with 1 Axes>"
      ]
     },
     "metadata": {
      "needs_background": "light"
     },
     "output_type": "display_data"
    }
   ],
   "source": [
    "dic = {}\n",
    "N = 200\n",
    "\n",
    "dic['id'] = np.arange(0, N)\n",
    "dic['peso'] = np.random.normal(5, .5, N)\n",
    "dic['comprimento'] = np.random.normal(2, .4, N)\n",
    "\n",
    "df = pd.DataFrame.from_dict(dic)\n",
    "\n",
    "# o que são bins??\n",
    "plt.hist(df.peso, bins=15, color='orange')\n",
    "plt.hist(df.comprimento, bins=15, color='blue')"
   ]
  },
  {
   "cell_type": "code",
   "execution_count": 23,
   "metadata": {},
   "outputs": [
    {
     "data": {
      "text/plain": [
       "(array([ 5., 20., 59., 68., 36., 12.]),\n",
       " array([0.88340068, 1.23720538, 1.59101007, 1.94481477, 2.29861947,\n",
       "        2.65242417, 3.00622886]),\n",
       " <BarContainer object of 6 artists>)"
      ]
     },
     "execution_count": 23,
     "metadata": {},
     "output_type": "execute_result"
    },
    {
     "data": {
      "image/png": "[encoded data removed]",
      "text/plain": [
       "<Figure size 432x288 with 1 Axes>"
      ]
     },
     "metadata": {
      "needs_background": "light"
     },
     "output_type": "display_data"
    }
   ],
   "source": [
    "plt.hist(df.peso, bins=6, color='orange')\n",
    "plt.hist(df.comprimento, bins=6, color='blue')"
   ]
  },
  {
   "cell_type": "code",
   "execution_count": 24,
   "metadata": {},
   "outputs": [
    {
     "data": {
      "image/png": "[encoded data removed]",
      "text/plain": [
       "<Figure size 432x288 with 1 Axes>"
      ]
     },
     "metadata": {
      "needs_background": "light"
     },
     "output_type": "display_data"
    }
   ],
   "source": [
    "plt.hist(df.peso, bins=40, color='orange')\n",
    "plt.hist(df.comprimento, bins=40, color='blue')\n",
    "plt.title(\"peso (kg) - comprimento (m)\");"
   ]
  },
  {
   "cell_type": "markdown",
   "metadata": {},
   "source": [
    "### Na aula de gráficos veremos como criar vários frames (quadros)"
   ]
  },
  {
   "cell_type": "markdown",
   "metadata": {},
   "source": [
    "### E aí? Os número 'bateram'? Algo a comentar?\n",
    "  - Se sim, porquê?\n",
    "  - Se não, porquê?"
   ]
  },
  {
   "cell_type": "markdown",
   "metadata": {},
   "source": [
    "### Filtrando dados\n",
    "\n",
    "filtrando 2 desvios padrões para mais e para menos"
   ]
  },
  {
   "cell_type": "code",
   "execution_count": 25,
   "metadata": {},
   "outputs": [
    {
     "data": {
      "text/plain": [
       "0      False\n",
       "1      False\n",
       "2      False\n",
       "3      False\n",
       "4      False\n",
       "       ...  \n",
       "195    False\n",
       "196    False\n",
       "197    False\n",
       "198    False\n",
       "199    False\n",
       "Name: peso, Length: 200, dtype: bool"
      ]
     },
     "execution_count": 25,
     "metadata": {},
     "output_type": "execute_result"
    }
   ],
   "source": [
    "df.peso > df.peso.mean() + 2*df.peso.std()"
   ]
  },
  {
   "cell_type": "code",
   "execution_count": 26,
   "metadata": {},
   "outputs": [
    {
     "data": {
      "text/plain": [
       "2"
      ]
     },
     "execution_count": 26,
     "metadata": {},
     "output_type": "execute_result"
    }
   ],
   "source": [
    "np.sum(df.peso > df.peso.mean() + 2*df.peso.std())"
   ]
  },
  {
   "cell_type": "code",
   "execution_count": 27,
   "metadata": {},
   "outputs": [
    {
     "data": {
      "text/html": [
       "<div>\n",
       "<style scoped>\n",
       "    .dataframe tbody tr th:only-of-type {\n",
       "        vertical-align: middle;\n",
       "    }\n",
       "\n",
       "    .dataframe tbody tr th {\n",
       "        vertical-align: top;\n",
       "    }\n",
       "\n",
       "    .dataframe thead th {\n",
       "        text-align: right;\n",
       "    }\n",
       "</style>\n",
       "<table border=\"1\" class=\"dataframe\">\n",
       "  <thead>\n",
       "    <tr style=\"text-align: right;\">\n",
       "      <th></th>\n",
       "      <th>id</th>\n",
       "      <th>peso</th>\n",
       "      <th>comprimento</th>\n",
       "    </tr>\n",
       "  </thead>\n",
       "  <tbody>\n",
       "    <tr>\n",
       "      <th>51</th>\n",
       "      <td>51</td>\n",
       "      <td>6.187239</td>\n",
       "      <td>1.437151</td>\n",
       "    </tr>\n",
       "    <tr>\n",
       "      <th>109</th>\n",
       "      <td>109</td>\n",
       "      <td>6.342149</td>\n",
       "      <td>1.634754</td>\n",
       "    </tr>\n",
       "  </tbody>\n",
       "</table>\n",
       "</div>"
      ],
      "text/plain": [
       "      id      peso  comprimento\n",
       "51    51  6.187239     1.437151\n",
       "109  109  6.342149     1.634754"
      ]
     },
     "execution_count": 27,
     "metadata": {},
     "output_type": "execute_result"
    }
   ],
   "source": [
    "df[df.peso > df.peso.mean() + 2*df.peso.std()]"
   ]
  },
  {
   "cell_type": "markdown",
   "metadata": {},
   "source": [
    "### Vamos melhorar"
   ]
  },
  {
   "cell_type": "code",
   "execution_count": 28,
   "metadata": {},
   "outputs": [
    {
     "data": {
      "text/plain": [
       "'A média é 5.0 (ssd=0.5), e os limites são [4.0, 5.9]'"
      ]
     },
     "execution_count": 28,
     "metadata": {},
     "output_type": "execute_result"
    }
   ],
   "source": [
    "mu  = df.peso.mean()\n",
    "# sample standard deviation\n",
    "ssd = df.peso.std()\n",
    "\n",
    "limite_sup = mu + 2*ssd\n",
    "limite_inf = mu - 2*ssd\n",
    "\n",
    "\"A média é %.1f (ssd=%.1f), e os limites são [%.1f, %.1f]\"%(mu, ssd, limite_inf, limite_sup)"
   ]
  },
  {
   "cell_type": "markdown",
   "metadata": {},
   "source": [
    "### Dentro do esperado?"
   ]
  },
  {
   "cell_type": "code",
   "execution_count": null,
   "metadata": {},
   "outputs": [],
   "source": []
  },
  {
   "cell_type": "markdown",
   "metadata": {},
   "source": [
    "### Filtrar acima e abaixo da média (Pandas usa notação diferente!)"
   ]
  },
  {
   "cell_type": "code",
   "execution_count": 29,
   "metadata": {},
   "outputs": [
    {
     "data": {
      "text/html": [
       "<div>\n",
       "<style scoped>\n",
       "    .dataframe tbody tr th:only-of-type {\n",
       "        vertical-align: middle;\n",
       "    }\n",
       "\n",
       "    .dataframe tbody tr th {\n",
       "        vertical-align: top;\n",
       "    }\n",
       "\n",
       "    .dataframe thead th {\n",
       "        text-align: right;\n",
       "    }\n",
       "</style>\n",
       "<table border=\"1\" class=\"dataframe\">\n",
       "  <thead>\n",
       "    <tr style=\"text-align: right;\">\n",
       "      <th></th>\n",
       "      <th>id</th>\n",
       "      <th>peso</th>\n",
       "      <th>comprimento</th>\n",
       "    </tr>\n",
       "  </thead>\n",
       "  <tbody>\n",
       "  </tbody>\n",
       "</table>\n",
       "</div>"
      ],
      "text/plain": [
       "Empty DataFrame\n",
       "Columns: [id, peso, comprimento]\n",
       "Index: []"
      ]
     },
     "execution_count": 29,
     "metadata": {},
     "output_type": "execute_result"
    }
   ],
   "source": [
    "# Está errado? qual o erro\n",
    "# and = & - and bitwise, notação binária \n",
    "\n",
    "df[(df.peso > limite_sup) & (df.peso < limite_inf)]"
   ]
  },
  {
   "cell_type": "markdown",
   "metadata": {},
   "source": [
    "### Tinha que dar vazio, certo? Porque?"
   ]
  },
  {
   "cell_type": "code",
   "execution_count": 30,
   "metadata": {},
   "outputs": [
    {
     "data": {
      "text/html": [
       "<div>\n",
       "<style scoped>\n",
       "    .dataframe tbody tr th:only-of-type {\n",
       "        vertical-align: middle;\n",
       "    }\n",
       "\n",
       "    .dataframe tbody tr th {\n",
       "        vertical-align: top;\n",
       "    }\n",
       "\n",
       "    .dataframe thead th {\n",
       "        text-align: right;\n",
       "    }\n",
       "</style>\n",
       "<table border=\"1\" class=\"dataframe\">\n",
       "  <thead>\n",
       "    <tr style=\"text-align: right;\">\n",
       "      <th></th>\n",
       "      <th>id</th>\n",
       "      <th>peso</th>\n",
       "      <th>comprimento</th>\n",
       "    </tr>\n",
       "  </thead>\n",
       "  <tbody>\n",
       "    <tr>\n",
       "      <th>28</th>\n",
       "      <td>28</td>\n",
       "      <td>3.886539</td>\n",
       "      <td>1.719199</td>\n",
       "    </tr>\n",
       "    <tr>\n",
       "      <th>50</th>\n",
       "      <td>50</td>\n",
       "      <td>3.888884</td>\n",
       "      <td>1.839490</td>\n",
       "    </tr>\n",
       "    <tr>\n",
       "      <th>51</th>\n",
       "      <td>51</td>\n",
       "      <td>6.187239</td>\n",
       "      <td>1.437151</td>\n",
       "    </tr>\n",
       "    <tr>\n",
       "      <th>75</th>\n",
       "      <td>75</td>\n",
       "      <td>3.967975</td>\n",
       "      <td>1.703023</td>\n",
       "    </tr>\n",
       "    <tr>\n",
       "      <th>109</th>\n",
       "      <td>109</td>\n",
       "      <td>6.342149</td>\n",
       "      <td>1.634754</td>\n",
       "    </tr>\n",
       "    <tr>\n",
       "      <th>140</th>\n",
       "      <td>140</td>\n",
       "      <td>3.657045</td>\n",
       "      <td>1.389543</td>\n",
       "    </tr>\n",
       "    <tr>\n",
       "      <th>155</th>\n",
       "      <td>155</td>\n",
       "      <td>3.852520</td>\n",
       "      <td>1.735735</td>\n",
       "    </tr>\n",
       "    <tr>\n",
       "      <th>178</th>\n",
       "      <td>178</td>\n",
       "      <td>3.619962</td>\n",
       "      <td>2.431199</td>\n",
       "    </tr>\n",
       "    <tr>\n",
       "      <th>199</th>\n",
       "      <td>199</td>\n",
       "      <td>3.848594</td>\n",
       "      <td>2.336493</td>\n",
       "    </tr>\n",
       "  </tbody>\n",
       "</table>\n",
       "</div>"
      ],
      "text/plain": [
       "      id      peso  comprimento\n",
       "28    28  3.886539     1.719199\n",
       "50    50  3.888884     1.839490\n",
       "51    51  6.187239     1.437151\n",
       "75    75  3.967975     1.703023\n",
       "109  109  6.342149     1.634754\n",
       "140  140  3.657045     1.389543\n",
       "155  155  3.852520     1.735735\n",
       "178  178  3.619962     2.431199\n",
       "199  199  3.848594     2.336493"
      ]
     },
     "execution_count": 30,
     "metadata": {},
     "output_type": "execute_result"
    }
   ],
   "source": [
    "### or = | - or bitwise, notação binária \n",
    "\n",
    "df[(df.peso > limite_sup) | (df.peso < limite_inf)]"
   ]
  },
  {
   "cell_type": "code",
   "execution_count": null,
   "metadata": {},
   "outputs": [],
   "source": []
  },
  {
   "cell_type": "markdown",
   "metadata": {},
   "source": [
    "### Animais grandes: apenas 1 desvio padrão"
   ]
  },
  {
   "cell_type": "code",
   "execution_count": 31,
   "metadata": {},
   "outputs": [
    {
     "data": {
      "text/html": [
       "<div>\n",
       "<style scoped>\n",
       "    .dataframe tbody tr th:only-of-type {\n",
       "        vertical-align: middle;\n",
       "    }\n",
       "\n",
       "    .dataframe tbody tr th {\n",
       "        vertical-align: top;\n",
       "    }\n",
       "\n",
       "    .dataframe thead th {\n",
       "        text-align: right;\n",
       "    }\n",
       "</style>\n",
       "<table border=\"1\" class=\"dataframe\">\n",
       "  <thead>\n",
       "    <tr style=\"text-align: right;\">\n",
       "      <th></th>\n",
       "      <th>id</th>\n",
       "      <th>peso</th>\n",
       "      <th>comprimento</th>\n",
       "    </tr>\n",
       "  </thead>\n",
       "  <tbody>\n",
       "    <tr>\n",
       "      <th>39</th>\n",
       "      <td>39</td>\n",
       "      <td>5.648459</td>\n",
       "      <td>3.006229</td>\n",
       "    </tr>\n",
       "    <tr>\n",
       "      <th>61</th>\n",
       "      <td>61</td>\n",
       "      <td>5.746212</td>\n",
       "      <td>2.941454</td>\n",
       "    </tr>\n",
       "    <tr>\n",
       "      <th>130</th>\n",
       "      <td>130</td>\n",
       "      <td>5.450247</td>\n",
       "      <td>2.495656</td>\n",
       "    </tr>\n",
       "  </tbody>\n",
       "</table>\n",
       "</div>"
      ],
      "text/plain": [
       "      id      peso  comprimento\n",
       "39    39  5.648459     3.006229\n",
       "61    61  5.746212     2.941454\n",
       "130  130  5.450247     2.495656"
      ]
     },
     "execution_count": 31,
     "metadata": {},
     "output_type": "execute_result"
    }
   ],
   "source": [
    "lim_peso_sup =  df.peso.mean() + df.peso.std()\n",
    "lim_comp_sup =  df.comprimento.mean() + df.comprimento.std()\n",
    "\n",
    "# aqui uso & (and)\n",
    "df[(df.peso >= lim_peso_sup) & (df.comprimento >= lim_comp_sup)]"
   ]
  },
  {
   "cell_type": "markdown",
   "metadata": {},
   "source": [
    "### Animais pequenos: apenas 1 desvio padrão"
   ]
  },
  {
   "cell_type": "code",
   "execution_count": 32,
   "metadata": {},
   "outputs": [
    {
     "name": "stdout",
     "output_type": "stream",
     "text": [
      "4.5 kg .... 1.63 m\n"
     ]
    },
    {
     "data": {
      "text/html": [
       "<div>\n",
       "<style scoped>\n",
       "    .dataframe tbody tr th:only-of-type {\n",
       "        vertical-align: middle;\n",
       "    }\n",
       "\n",
       "    .dataframe tbody tr th {\n",
       "        vertical-align: top;\n",
       "    }\n",
       "\n",
       "    .dataframe thead th {\n",
       "        text-align: right;\n",
       "    }\n",
       "</style>\n",
       "<table border=\"1\" class=\"dataframe\">\n",
       "  <thead>\n",
       "    <tr style=\"text-align: right;\">\n",
       "      <th></th>\n",
       "      <th>id</th>\n",
       "      <th>peso</th>\n",
       "      <th>comprimento</th>\n",
       "    </tr>\n",
       "  </thead>\n",
       "  <tbody>\n",
       "    <tr>\n",
       "      <th>19</th>\n",
       "      <td>19</td>\n",
       "      <td>4.135882</td>\n",
       "      <td>1.536004</td>\n",
       "    </tr>\n",
       "    <tr>\n",
       "      <th>89</th>\n",
       "      <td>89</td>\n",
       "      <td>4.470537</td>\n",
       "      <td>1.626469</td>\n",
       "    </tr>\n",
       "    <tr>\n",
       "      <th>140</th>\n",
       "      <td>140</td>\n",
       "      <td>3.657045</td>\n",
       "      <td>1.389543</td>\n",
       "    </tr>\n",
       "    <tr>\n",
       "      <th>142</th>\n",
       "      <td>142</td>\n",
       "      <td>4.367627</td>\n",
       "      <td>1.589945</td>\n",
       "    </tr>\n",
       "    <tr>\n",
       "      <th>145</th>\n",
       "      <td>145</td>\n",
       "      <td>4.200741</td>\n",
       "      <td>1.518419</td>\n",
       "    </tr>\n",
       "  </tbody>\n",
       "</table>\n",
       "</div>"
      ],
      "text/plain": [
       "      id      peso  comprimento\n",
       "19    19  4.135882     1.536004\n",
       "89    89  4.470537     1.626469\n",
       "140  140  3.657045     1.389543\n",
       "142  142  4.367627     1.589945\n",
       "145  145  4.200741     1.518419"
      ]
     },
     "execution_count": 32,
     "metadata": {},
     "output_type": "execute_result"
    }
   ],
   "source": [
    "lim_peso_inf =  df.peso.mean() - df.peso.std()\n",
    "lim_comp_inf =  df.comprimento.mean() - df.comprimento.std()\n",
    "\n",
    "print(np.round(lim_peso_inf,2), 'kg ....', np.round(lim_comp_inf,2), 'm')\n",
    "\n",
    "# aqui uso & (and)\n",
    "df[(df.peso <= lim_peso_inf) & (df.comprimento <= lim_comp_inf)]"
   ]
  },
  {
   "cell_type": "code",
   "execution_count": 33,
   "metadata": {},
   "outputs": [
    {
     "data": {
      "text/html": [
       "<div>\n",
       "<style scoped>\n",
       "    .dataframe tbody tr th:only-of-type {\n",
       "        vertical-align: middle;\n",
       "    }\n",
       "\n",
       "    .dataframe tbody tr th {\n",
       "        vertical-align: top;\n",
       "    }\n",
       "\n",
       "    .dataframe thead th {\n",
       "        text-align: right;\n",
       "    }\n",
       "</style>\n",
       "<table border=\"1\" class=\"dataframe\">\n",
       "  <thead>\n",
       "    <tr style=\"text-align: right;\">\n",
       "      <th></th>\n",
       "      <th>id</th>\n",
       "      <th>peso</th>\n",
       "      <th>comprimento</th>\n",
       "    </tr>\n",
       "  </thead>\n",
       "  <tbody>\n",
       "    <tr>\n",
       "      <th>7</th>\n",
       "      <td>7</td>\n",
       "      <td>4.363107</td>\n",
       "      <td>1.766348</td>\n",
       "    </tr>\n",
       "    <tr>\n",
       "      <th>9</th>\n",
       "      <td>9</td>\n",
       "      <td>4.224798</td>\n",
       "      <td>1.678347</td>\n",
       "    </tr>\n",
       "    <tr>\n",
       "      <th>10</th>\n",
       "      <td>10</td>\n",
       "      <td>4.465145</td>\n",
       "      <td>2.085304</td>\n",
       "    </tr>\n",
       "    <tr>\n",
       "      <th>19</th>\n",
       "      <td>19</td>\n",
       "      <td>4.135882</td>\n",
       "      <td>1.536004</td>\n",
       "    </tr>\n",
       "    <tr>\n",
       "      <th>20</th>\n",
       "      <td>20</td>\n",
       "      <td>4.183612</td>\n",
       "      <td>2.214392</td>\n",
       "    </tr>\n",
       "    <tr>\n",
       "      <th>25</th>\n",
       "      <td>25</td>\n",
       "      <td>4.283218</td>\n",
       "      <td>2.290263</td>\n",
       "    </tr>\n",
       "    <tr>\n",
       "      <th>28</th>\n",
       "      <td>28</td>\n",
       "      <td>3.886539</td>\n",
       "      <td>1.719199</td>\n",
       "    </tr>\n",
       "    <tr>\n",
       "      <th>45</th>\n",
       "      <td>45</td>\n",
       "      <td>4.479964</td>\n",
       "      <td>2.576376</td>\n",
       "    </tr>\n",
       "    <tr>\n",
       "      <th>46</th>\n",
       "      <td>46</td>\n",
       "      <td>4.379008</td>\n",
       "      <td>2.671310</td>\n",
       "    </tr>\n",
       "    <tr>\n",
       "      <th>47</th>\n",
       "      <td>47</td>\n",
       "      <td>4.385111</td>\n",
       "      <td>2.120169</td>\n",
       "    </tr>\n",
       "    <tr>\n",
       "      <th>50</th>\n",
       "      <td>50</td>\n",
       "      <td>3.888884</td>\n",
       "      <td>1.839490</td>\n",
       "    </tr>\n",
       "    <tr>\n",
       "      <th>52</th>\n",
       "      <td>52</td>\n",
       "      <td>4.362357</td>\n",
       "      <td>1.820576</td>\n",
       "    </tr>\n",
       "    <tr>\n",
       "      <th>71</th>\n",
       "      <td>71</td>\n",
       "      <td>4.385123</td>\n",
       "      <td>1.882880</td>\n",
       "    </tr>\n",
       "    <tr>\n",
       "      <th>75</th>\n",
       "      <td>75</td>\n",
       "      <td>3.967975</td>\n",
       "      <td>1.703023</td>\n",
       "    </tr>\n",
       "    <tr>\n",
       "      <th>85</th>\n",
       "      <td>85</td>\n",
       "      <td>4.293919</td>\n",
       "      <td>2.389436</td>\n",
       "    </tr>\n",
       "    <tr>\n",
       "      <th>89</th>\n",
       "      <td>89</td>\n",
       "      <td>4.470537</td>\n",
       "      <td>1.626469</td>\n",
       "    </tr>\n",
       "    <tr>\n",
       "      <th>100</th>\n",
       "      <td>100</td>\n",
       "      <td>4.093251</td>\n",
       "      <td>1.954106</td>\n",
       "    </tr>\n",
       "    <tr>\n",
       "      <th>103</th>\n",
       "      <td>103</td>\n",
       "      <td>4.464776</td>\n",
       "      <td>1.671838</td>\n",
       "    </tr>\n",
       "    <tr>\n",
       "      <th>125</th>\n",
       "      <td>125</td>\n",
       "      <td>4.495677</td>\n",
       "      <td>1.923926</td>\n",
       "    </tr>\n",
       "    <tr>\n",
       "      <th>133</th>\n",
       "      <td>133</td>\n",
       "      <td>4.404094</td>\n",
       "      <td>1.991207</td>\n",
       "    </tr>\n",
       "    <tr>\n",
       "      <th>140</th>\n",
       "      <td>140</td>\n",
       "      <td>3.657045</td>\n",
       "      <td>1.389543</td>\n",
       "    </tr>\n",
       "    <tr>\n",
       "      <th>142</th>\n",
       "      <td>142</td>\n",
       "      <td>4.367627</td>\n",
       "      <td>1.589945</td>\n",
       "    </tr>\n",
       "    <tr>\n",
       "      <th>145</th>\n",
       "      <td>145</td>\n",
       "      <td>4.200741</td>\n",
       "      <td>1.518419</td>\n",
       "    </tr>\n",
       "    <tr>\n",
       "      <th>146</th>\n",
       "      <td>146</td>\n",
       "      <td>4.100554</td>\n",
       "      <td>2.172268</td>\n",
       "    </tr>\n",
       "    <tr>\n",
       "      <th>155</th>\n",
       "      <td>155</td>\n",
       "      <td>3.852520</td>\n",
       "      <td>1.735735</td>\n",
       "    </tr>\n",
       "    <tr>\n",
       "      <th>178</th>\n",
       "      <td>178</td>\n",
       "      <td>3.619962</td>\n",
       "      <td>2.431199</td>\n",
       "    </tr>\n",
       "    <tr>\n",
       "      <th>188</th>\n",
       "      <td>188</td>\n",
       "      <td>4.145368</td>\n",
       "      <td>1.774649</td>\n",
       "    </tr>\n",
       "    <tr>\n",
       "      <th>191</th>\n",
       "      <td>191</td>\n",
       "      <td>4.456076</td>\n",
       "      <td>2.617836</td>\n",
       "    </tr>\n",
       "    <tr>\n",
       "      <th>195</th>\n",
       "      <td>195</td>\n",
       "      <td>4.489030</td>\n",
       "      <td>2.538388</td>\n",
       "    </tr>\n",
       "    <tr>\n",
       "      <th>199</th>\n",
       "      <td>199</td>\n",
       "      <td>3.848594</td>\n",
       "      <td>2.336493</td>\n",
       "    </tr>\n",
       "  </tbody>\n",
       "</table>\n",
       "</div>"
      ],
      "text/plain": [
       "      id      peso  comprimento\n",
       "7      7  4.363107     1.766348\n",
       "9      9  4.224798     1.678347\n",
       "10    10  4.465145     2.085304\n",
       "19    19  4.135882     1.536004\n",
       "20    20  4.183612     2.214392\n",
       "25    25  4.283218     2.290263\n",
       "28    28  3.886539     1.719199\n",
       "45    45  4.479964     2.576376\n",
       "46    46  4.379008     2.671310\n",
       "47    47  4.385111     2.120169\n",
       "50    50  3.888884     1.839490\n",
       "52    52  4.362357     1.820576\n",
       "71    71  4.385123     1.882880\n",
       "75    75  3.967975     1.703023\n",
       "85    85  4.293919     2.389436\n",
       "89    89  4.470537     1.626469\n",
       "100  100  4.093251     1.954106\n",
       "103  103  4.464776     1.671838\n",
       "125  125  4.495677     1.923926\n",
       "133  133  4.404094     1.991207\n",
       "140  140  3.657045     1.389543\n",
       "142  142  4.367627     1.589945\n",
       "145  145  4.200741     1.518419\n",
       "146  146  4.100554     2.172268\n",
       "155  155  3.852520     1.735735\n",
       "178  178  3.619962     2.431199\n",
       "188  188  4.145368     1.774649\n",
       "191  191  4.456076     2.617836\n",
       "195  195  4.489030     2.538388\n",
       "199  199  3.848594     2.336493"
      ]
     },
     "execution_count": 33,
     "metadata": {},
     "output_type": "execute_result"
    }
   ],
   "source": [
    "df[(df.peso <= lim_peso_inf)]"
   ]
  },
  {
   "cell_type": "code",
   "execution_count": 34,
   "metadata": {},
   "outputs": [
    {
     "data": {
      "text/html": [
       "<div>\n",
       "<style scoped>\n",
       "    .dataframe tbody tr th:only-of-type {\n",
       "        vertical-align: middle;\n",
       "    }\n",
       "\n",
       "    .dataframe tbody tr th {\n",
       "        vertical-align: top;\n",
       "    }\n",
       "\n",
       "    .dataframe thead th {\n",
       "        text-align: right;\n",
       "    }\n",
       "</style>\n",
       "<table border=\"1\" class=\"dataframe\">\n",
       "  <thead>\n",
       "    <tr style=\"text-align: right;\">\n",
       "      <th></th>\n",
       "      <th>id</th>\n",
       "      <th>peso</th>\n",
       "      <th>comprimento</th>\n",
       "    </tr>\n",
       "  </thead>\n",
       "  <tbody>\n",
       "    <tr>\n",
       "      <th>0</th>\n",
       "      <td>0</td>\n",
       "      <td>5.704284</td>\n",
       "      <td>1.138428</td>\n",
       "    </tr>\n",
       "    <tr>\n",
       "      <th>19</th>\n",
       "      <td>19</td>\n",
       "      <td>4.135882</td>\n",
       "      <td>1.536004</td>\n",
       "    </tr>\n",
       "    <tr>\n",
       "      <th>32</th>\n",
       "      <td>32</td>\n",
       "      <td>4.883271</td>\n",
       "      <td>1.406745</td>\n",
       "    </tr>\n",
       "    <tr>\n",
       "      <th>41</th>\n",
       "      <td>41</td>\n",
       "      <td>5.186470</td>\n",
       "      <td>1.562885</td>\n",
       "    </tr>\n",
       "    <tr>\n",
       "      <th>51</th>\n",
       "      <td>51</td>\n",
       "      <td>6.187239</td>\n",
       "      <td>1.437151</td>\n",
       "    </tr>\n",
       "    <tr>\n",
       "      <th>66</th>\n",
       "      <td>66</td>\n",
       "      <td>5.567078</td>\n",
       "      <td>1.617440</td>\n",
       "    </tr>\n",
       "    <tr>\n",
       "      <th>79</th>\n",
       "      <td>79</td>\n",
       "      <td>5.109054</td>\n",
       "      <td>1.268666</td>\n",
       "    </tr>\n",
       "    <tr>\n",
       "      <th>81</th>\n",
       "      <td>81</td>\n",
       "      <td>4.628605</td>\n",
       "      <td>1.275551</td>\n",
       "    </tr>\n",
       "    <tr>\n",
       "      <th>83</th>\n",
       "      <td>83</td>\n",
       "      <td>5.105190</td>\n",
       "      <td>1.124964</td>\n",
       "    </tr>\n",
       "    <tr>\n",
       "      <th>89</th>\n",
       "      <td>89</td>\n",
       "      <td>4.470537</td>\n",
       "      <td>1.626469</td>\n",
       "    </tr>\n",
       "    <tr>\n",
       "      <th>95</th>\n",
       "      <td>95</td>\n",
       "      <td>4.635690</td>\n",
       "      <td>1.486993</td>\n",
       "    </tr>\n",
       "    <tr>\n",
       "      <th>98</th>\n",
       "      <td>98</td>\n",
       "      <td>5.485718</td>\n",
       "      <td>1.512181</td>\n",
       "    </tr>\n",
       "    <tr>\n",
       "      <th>99</th>\n",
       "      <td>99</td>\n",
       "      <td>5.123203</td>\n",
       "      <td>1.406620</td>\n",
       "    </tr>\n",
       "    <tr>\n",
       "      <th>104</th>\n",
       "      <td>104</td>\n",
       "      <td>4.632372</td>\n",
       "      <td>1.598108</td>\n",
       "    </tr>\n",
       "    <tr>\n",
       "      <th>111</th>\n",
       "      <td>111</td>\n",
       "      <td>4.522495</td>\n",
       "      <td>1.371761</td>\n",
       "    </tr>\n",
       "    <tr>\n",
       "      <th>114</th>\n",
       "      <td>114</td>\n",
       "      <td>5.003629</td>\n",
       "      <td>0.883401</td>\n",
       "    </tr>\n",
       "    <tr>\n",
       "      <th>118</th>\n",
       "      <td>118</td>\n",
       "      <td>5.362677</td>\n",
       "      <td>1.187944</td>\n",
       "    </tr>\n",
       "    <tr>\n",
       "      <th>123</th>\n",
       "      <td>123</td>\n",
       "      <td>4.835703</td>\n",
       "      <td>1.586217</td>\n",
       "    </tr>\n",
       "    <tr>\n",
       "      <th>124</th>\n",
       "      <td>124</td>\n",
       "      <td>4.900683</td>\n",
       "      <td>1.443257</td>\n",
       "    </tr>\n",
       "    <tr>\n",
       "      <th>132</th>\n",
       "      <td>132</td>\n",
       "      <td>5.401196</td>\n",
       "      <td>1.346877</td>\n",
       "    </tr>\n",
       "    <tr>\n",
       "      <th>140</th>\n",
       "      <td>140</td>\n",
       "      <td>3.657045</td>\n",
       "      <td>1.389543</td>\n",
       "    </tr>\n",
       "    <tr>\n",
       "      <th>142</th>\n",
       "      <td>142</td>\n",
       "      <td>4.367627</td>\n",
       "      <td>1.589945</td>\n",
       "    </tr>\n",
       "    <tr>\n",
       "      <th>145</th>\n",
       "      <td>145</td>\n",
       "      <td>4.200741</td>\n",
       "      <td>1.518419</td>\n",
       "    </tr>\n",
       "    <tr>\n",
       "      <th>148</th>\n",
       "      <td>148</td>\n",
       "      <td>5.002233</td>\n",
       "      <td>1.507300</td>\n",
       "    </tr>\n",
       "    <tr>\n",
       "      <th>153</th>\n",
       "      <td>153</td>\n",
       "      <td>4.948370</td>\n",
       "      <td>1.596576</td>\n",
       "    </tr>\n",
       "    <tr>\n",
       "      <th>165</th>\n",
       "      <td>165</td>\n",
       "      <td>5.222485</td>\n",
       "      <td>1.316538</td>\n",
       "    </tr>\n",
       "    <tr>\n",
       "      <th>170</th>\n",
       "      <td>170</td>\n",
       "      <td>5.493144</td>\n",
       "      <td>1.137245</td>\n",
       "    </tr>\n",
       "    <tr>\n",
       "      <th>173</th>\n",
       "      <td>173</td>\n",
       "      <td>5.359869</td>\n",
       "      <td>1.589993</td>\n",
       "    </tr>\n",
       "    <tr>\n",
       "      <th>190</th>\n",
       "      <td>190</td>\n",
       "      <td>4.874707</td>\n",
       "      <td>1.399992</td>\n",
       "    </tr>\n",
       "  </tbody>\n",
       "</table>\n",
       "</div>"
      ],
      "text/plain": [
       "      id      peso  comprimento\n",
       "0      0  5.704284     1.138428\n",
       "19    19  4.135882     1.536004\n",
       "32    32  4.883271     1.406745\n",
       "41    41  5.186470     1.562885\n",
       "51    51  6.187239     1.437151\n",
       "66    66  5.567078     1.617440\n",
       "79    79  5.109054     1.268666\n",
       "81    81  4.628605     1.275551\n",
       "83    83  5.105190     1.124964\n",
       "89    89  4.470537     1.626469\n",
       "95    95  4.635690     1.486993\n",
       "98    98  5.485718     1.512181\n",
       "99    99  5.123203     1.406620\n",
       "104  104  4.632372     1.598108\n",
       "111  111  4.522495     1.371761\n",
       "114  114  5.003629     0.883401\n",
       "118  118  5.362677     1.187944\n",
       "123  123  4.835703     1.586217\n",
       "124  124  4.900683     1.443257\n",
       "132  132  5.401196     1.346877\n",
       "140  140  3.657045     1.389543\n",
       "142  142  4.367627     1.589945\n",
       "145  145  4.200741     1.518419\n",
       "148  148  5.002233     1.507300\n",
       "153  153  4.948370     1.596576\n",
       "165  165  5.222485     1.316538\n",
       "170  170  5.493144     1.137245\n",
       "173  173  5.359869     1.589993\n",
       "190  190  4.874707     1.399992"
      ]
     },
     "execution_count": 34,
     "metadata": {},
     "output_type": "execute_result"
    }
   ],
   "source": [
    "df[(df.comprimento <= lim_comp_inf)]"
   ]
  },
  {
   "cell_type": "markdown",
   "metadata": {},
   "source": [
    "### A maquina randômica não criou animais super pequenos ou super grandes. Porque?"
   ]
  },
  {
   "cell_type": "markdown",
   "metadata": {},
   "source": [
    "### O que é uma máquina randômica?"
   ]
  },
  {
   "cell_type": "markdown",
   "metadata": {},
   "source": [
    "### Como você pode mostrar que é uma máquina randômica?"
   ]
  },
  {
   "cell_type": "code",
   "execution_count": 35,
   "metadata": {},
   "outputs": [
    {
     "name": "stdout",
     "output_type": "stream",
     "text": [
      "91) <peso> = 5.1 (0.6),  <comp> = 2.0 (0.4), peso sup = 6.2 kg, comp sup = 2.7 m\n"
     ]
    },
    {
     "data": {
      "text/html": [
       "<div>\n",
       "<style scoped>\n",
       "    .dataframe tbody tr th:only-of-type {\n",
       "        vertical-align: middle;\n",
       "    }\n",
       "\n",
       "    .dataframe tbody tr th {\n",
       "        vertical-align: top;\n",
       "    }\n",
       "\n",
       "    .dataframe thead th {\n",
       "        text-align: right;\n",
       "    }\n",
       "</style>\n",
       "<table border=\"1\" class=\"dataframe\">\n",
       "  <thead>\n",
       "    <tr style=\"text-align: right;\">\n",
       "      <th></th>\n",
       "      <th>id</th>\n",
       "      <th>peso</th>\n",
       "      <th>comprimento</th>\n",
       "    </tr>\n",
       "  </thead>\n",
       "  <tbody>\n",
       "    <tr>\n",
       "      <th>25</th>\n",
       "      <td>25</td>\n",
       "      <td>6.565135</td>\n",
       "      <td>2.845237</td>\n",
       "    </tr>\n",
       "  </tbody>\n",
       "</table>\n",
       "</div>"
      ],
      "text/plain": [
       "    id      peso  comprimento\n",
       "25  25  6.565135     2.845237"
      ]
     },
     "execution_count": 35,
     "metadata": {},
     "output_type": "execute_result"
    }
   ],
   "source": [
    "N = 30; i = 0\n",
    "\n",
    "while(True):\n",
    "    i += 1\n",
    "    \n",
    "    dic = {}\n",
    "\n",
    "    dic['id'] = np.arange(0, N)\n",
    "    dic['peso'] = np.random.normal(5, .5, N)\n",
    "    dic['comprimento'] = np.random.normal(2, .4, N)\n",
    "\n",
    "    df = pd.DataFrame.from_dict(dic)\n",
    "    \n",
    "    mu_peso  = df.peso.mean()\n",
    "    ssd_peso = df.peso.std()\n",
    "    \n",
    "    mu_comp  = df.comprimento.mean()\n",
    "    ssd_comp = df.comprimento.std()\n",
    "    \n",
    "    lim_peso_sup = mu_peso + 2*ssd_peso\n",
    "    lim_comp_sup = mu_comp + 2*ssd_comp\n",
    "\n",
    "   \n",
    "    df = df[(df.peso > lim_peso_sup) & (df.comprimento > lim_comp_sup)]\n",
    "    \n",
    "    if len(df) > 0: \n",
    "        print(\"%d) <peso> = %.1f (%.1f),  <comp> = %.1f (%.1f), peso sup = %.1f kg, comp sup = %.1f m\"%(i, \n",
    "               mu_peso, ssd_peso, mu_comp, ssd_comp, lim_peso_sup, lim_comp_sup) )\n",
    "        break\n",
    "        \n",
    "df         "
   ]
  },
  {
   "cell_type": "markdown",
   "metadata": {},
   "source": [
    "### Qual o erro de peformance no meu algoritmo?"
   ]
  },
  {
   "cell_type": "markdown",
   "metadata": {},
   "source": [
    "### Isto np.random.normal() é uma máquina estocástica? gerador de números numa distribuição normal?"
   ]
  },
  {
   "cell_type": "markdown",
   "metadata": {},
   "source": [
    "### O que significa que consegui um valor após 257 tentativas?"
   ]
  },
  {
   "cell_type": "code",
   "execution_count": 36,
   "metadata": {},
   "outputs": [
    {
     "data": {
      "text/plain": [
       "0.38910505836575876"
      ]
     },
     "execution_count": 36,
     "metadata": {},
     "output_type": "execute_result"
    }
   ],
   "source": [
    "100/257"
   ]
  },
  {
   "cell_type": "code",
   "execution_count": 37,
   "metadata": {},
   "outputs": [
    {
     "data": {
      "text/plain": [
       "6.237828615518053"
      ]
     },
     "execution_count": 37,
     "metadata": {},
     "output_type": "execute_result"
    }
   ],
   "source": [
    "100/np.sqrt(257)"
   ]
  },
  {
   "cell_type": "markdown",
   "metadata": {},
   "source": [
    "### 6% de chance de um fenomeno grande (ou pequeno ocorrer)"
   ]
  },
  {
   "cell_type": "code",
   "execution_count": 38,
   "metadata": {},
   "outputs": [
    {
     "data": {
      "text/plain": [
       "0.0038937599999999996"
      ]
     },
     "execution_count": 38,
     "metadata": {},
     "output_type": "execute_result"
    }
   ],
   "source": [
    "0.0624*0.0624"
   ]
  },
  {
   "cell_type": "code",
   "execution_count": 39,
   "metadata": {},
   "outputs": [
    {
     "data": {
      "text/plain": [
       "256.82117028270875"
      ]
     },
     "execution_count": 39,
     "metadata": {},
     "output_type": "execute_result"
    }
   ],
   "source": [
    "1./(0.0624*0.0624)"
   ]
  },
  {
   "cell_type": "markdown",
   "metadata": {},
   "source": [
    "### p(raro) * p(raro) = p(raro) ^ 2\n",
    "### 6.24% * 6.24% ~ 0.39% de dois fenômecnos ocorrerem"
   ]
  },
  {
   "cell_type": "markdown",
   "metadata": {},
   "source": [
    "### Por isto que Ronald Fischer escolheu 5% como corte \"do raro\"?\n",
    "\n",
    "https://en.wikipedia.org/wiki/P-value\n",
    "\n",
    "https://en.wikipedia.org/wiki/Ronald_Fisher\n",
    "\n",
    "\n",
    "### Markdown command: >> \\![Ronald Fisher]\\(../figure/ronald_fisher.jpg)\n",
    "\n",
    "https://github.com/adam-p/markdown-here/wiki/Markdown-Cheatsheet"
   ]
  },
  {
   "cell_type": "markdown",
   "metadata": {},
   "source": [
    "![Ronald Fisher](../figure/ronald_fisher.jpg)"
   ]
  },
  {
   "cell_type": "code",
   "execution_count": 40,
   "metadata": {},
   "outputs": [
    {
     "data": {
      "text/plain": [
       "['ronald_fisher.jpg',\n",
       " 'carro_rendimento_por_cilindro.png',\n",
       " 'meucarro.png',\n",
       " 'carro_rendimento_por_cilindro_better_font.png']"
      ]
     },
     "execution_count": 40,
     "metadata": {},
     "output_type": "execute_result"
    }
   ],
   "source": [
    "os.listdir(\"../figure\")"
   ]
  },
  {
   "cell_type": "markdown",
   "metadata": {},
   "source": [
    "### Localizando linhas e colunas"
   ]
  },
  {
   "cell_type": "code",
   "execution_count": 41,
   "metadata": {},
   "outputs": [
    {
     "data": {
      "text/html": [
       "<div>\n",
       "<style scoped>\n",
       "    .dataframe tbody tr th:only-of-type {\n",
       "        vertical-align: middle;\n",
       "    }\n",
       "\n",
       "    .dataframe tbody tr th {\n",
       "        vertical-align: top;\n",
       "    }\n",
       "\n",
       "    .dataframe thead th {\n",
       "        text-align: right;\n",
       "    }\n",
       "</style>\n",
       "<table border=\"1\" class=\"dataframe\">\n",
       "  <thead>\n",
       "    <tr style=\"text-align: right;\">\n",
       "      <th></th>\n",
       "      <th>id</th>\n",
       "      <th>peso</th>\n",
       "      <th>comprimento</th>\n",
       "      <th>comp_cabeca</th>\n",
       "    </tr>\n",
       "  </thead>\n",
       "  <tbody>\n",
       "    <tr>\n",
       "      <th>0</th>\n",
       "      <td>0</td>\n",
       "      <td>5.476803</td>\n",
       "      <td>1.151864</td>\n",
       "      <td>0.405688</td>\n",
       "    </tr>\n",
       "    <tr>\n",
       "      <th>1</th>\n",
       "      <td>1</td>\n",
       "      <td>5.783827</td>\n",
       "      <td>1.969364</td>\n",
       "      <td>0.407632</td>\n",
       "    </tr>\n",
       "    <tr>\n",
       "      <th>2</th>\n",
       "      <td>2</td>\n",
       "      <td>4.661859</td>\n",
       "      <td>1.702380</td>\n",
       "      <td>0.400773</td>\n",
       "    </tr>\n",
       "    <tr>\n",
       "      <th>3</th>\n",
       "      <td>3</td>\n",
       "      <td>4.999547</td>\n",
       "      <td>1.967113</td>\n",
       "      <td>0.364346</td>\n",
       "    </tr>\n",
       "    <tr>\n",
       "      <th>4</th>\n",
       "      <td>4</td>\n",
       "      <td>5.644419</td>\n",
       "      <td>2.283718</td>\n",
       "      <td>0.425285</td>\n",
       "    </tr>\n",
       "  </tbody>\n",
       "</table>\n",
       "</div>"
      ],
      "text/plain": [
       "   id      peso  comprimento  comp_cabeca\n",
       "0   0  5.476803     1.151864     0.405688\n",
       "1   1  5.783827     1.969364     0.407632\n",
       "2   2  4.661859     1.702380     0.400773\n",
       "3   3  4.999547     1.967113     0.364346\n",
       "4   4  5.644419     2.283718     0.425285"
      ]
     },
     "execution_count": 41,
     "metadata": {},
     "output_type": "execute_result"
    }
   ],
   "source": [
    "N = 20\n",
    "dic = {}\n",
    "\n",
    "dic['id'] = np.arange(0, N)\n",
    "dic['peso'] = np.random.normal(5, .5, N)\n",
    "dic['comprimento'] = np.random.normal(2, .4, N)\n",
    "dic['comp_cabeca'] = np.random.normal(.4, .02, N)\n",
    "\n",
    "df = pd.DataFrame.from_dict(dic)\n",
    "\n",
    "df.head()"
   ]
  },
  {
   "cell_type": "markdown",
   "metadata": {},
   "source": [
    "### Filtrando linhas 1,3 e 5 com df.iloc[ ]"
   ]
  },
  {
   "cell_type": "code",
   "execution_count": 42,
   "metadata": {},
   "outputs": [
    {
     "data": {
      "text/html": [
       "<div>\n",
       "<style scoped>\n",
       "    .dataframe tbody tr th:only-of-type {\n",
       "        vertical-align: middle;\n",
       "    }\n",
       "\n",
       "    .dataframe tbody tr th {\n",
       "        vertical-align: top;\n",
       "    }\n",
       "\n",
       "    .dataframe thead th {\n",
       "        text-align: right;\n",
       "    }\n",
       "</style>\n",
       "<table border=\"1\" class=\"dataframe\">\n",
       "  <thead>\n",
       "    <tr style=\"text-align: right;\">\n",
       "      <th></th>\n",
       "      <th>id</th>\n",
       "      <th>peso</th>\n",
       "      <th>comprimento</th>\n",
       "      <th>comp_cabeca</th>\n",
       "    </tr>\n",
       "  </thead>\n",
       "  <tbody>\n",
       "    <tr>\n",
       "      <th>1</th>\n",
       "      <td>1</td>\n",
       "      <td>5.783827</td>\n",
       "      <td>1.969364</td>\n",
       "      <td>0.407632</td>\n",
       "    </tr>\n",
       "    <tr>\n",
       "      <th>3</th>\n",
       "      <td>3</td>\n",
       "      <td>4.999547</td>\n",
       "      <td>1.967113</td>\n",
       "      <td>0.364346</td>\n",
       "    </tr>\n",
       "    <tr>\n",
       "      <th>5</th>\n",
       "      <td>5</td>\n",
       "      <td>4.049759</td>\n",
       "      <td>1.305365</td>\n",
       "      <td>0.359322</td>\n",
       "    </tr>\n",
       "  </tbody>\n",
       "</table>\n",
       "</div>"
      ],
      "text/plain": [
       "   id      peso  comprimento  comp_cabeca\n",
       "1   1  5.783827     1.969364     0.407632\n",
       "3   3  4.999547     1.967113     0.364346\n",
       "5   5  4.049759     1.305365     0.359322"
      ]
     },
     "execution_count": 42,
     "metadata": {},
     "output_type": "execute_result"
    }
   ],
   "source": [
    "df.iloc[[1,3,5]]"
   ]
  },
  {
   "cell_type": "markdown",
   "metadata": {},
   "source": [
    "### Colunas"
   ]
  },
  {
   "cell_type": "code",
   "execution_count": 43,
   "metadata": {},
   "outputs": [
    {
     "data": {
      "text/plain": [
       "Index(['id', 'peso', 'comprimento', 'comp_cabeca'], dtype='object')"
      ]
     },
     "execution_count": 43,
     "metadata": {},
     "output_type": "execute_result"
    }
   ],
   "source": [
    "df.columns"
   ]
  },
  {
   "cell_type": "markdown",
   "metadata": {},
   "source": [
    "### Selecionando colunas"
   ]
  },
  {
   "cell_type": "code",
   "execution_count": 44,
   "metadata": {},
   "outputs": [
    {
     "data": {
      "text/html": [
       "<div>\n",
       "<style scoped>\n",
       "    .dataframe tbody tr th:only-of-type {\n",
       "        vertical-align: middle;\n",
       "    }\n",
       "\n",
       "    .dataframe tbody tr th {\n",
       "        vertical-align: top;\n",
       "    }\n",
       "\n",
       "    .dataframe thead th {\n",
       "        text-align: right;\n",
       "    }\n",
       "</style>\n",
       "<table border=\"1\" class=\"dataframe\">\n",
       "  <thead>\n",
       "    <tr style=\"text-align: right;\">\n",
       "      <th></th>\n",
       "      <th>peso</th>\n",
       "      <th>comprimento</th>\n",
       "    </tr>\n",
       "  </thead>\n",
       "  <tbody>\n",
       "    <tr>\n",
       "      <th>0</th>\n",
       "      <td>5.476803</td>\n",
       "      <td>1.151864</td>\n",
       "    </tr>\n",
       "    <tr>\n",
       "      <th>1</th>\n",
       "      <td>5.783827</td>\n",
       "      <td>1.969364</td>\n",
       "    </tr>\n",
       "    <tr>\n",
       "      <th>2</th>\n",
       "      <td>4.661859</td>\n",
       "      <td>1.702380</td>\n",
       "    </tr>\n",
       "  </tbody>\n",
       "</table>\n",
       "</div>"
      ],
      "text/plain": [
       "       peso  comprimento\n",
       "0  5.476803     1.151864\n",
       "1  5.783827     1.969364\n",
       "2  4.661859     1.702380"
      ]
     },
     "execution_count": 44,
     "metadata": {},
     "output_type": "execute_result"
    }
   ],
   "source": [
    "df[ ['peso', 'comprimento'] ].head(3)"
   ]
  },
  {
   "cell_type": "markdown",
   "metadata": {},
   "source": [
    "### Selecionando as mesmas colunas 1 e 2 com df.iloc[ ]\n",
    "\n",
    "os ':' selecionam todas as linhas\\!   \n",
    "mas, o head(3) filtra as primeiras 3 linhas  "
   ]
  },
  {
   "cell_type": "code",
   "execution_count": 45,
   "metadata": {
    "scrolled": true
   },
   "outputs": [
    {
     "data": {
      "text/html": [
       "<div>\n",
       "<style scoped>\n",
       "    .dataframe tbody tr th:only-of-type {\n",
       "        vertical-align: middle;\n",
       "    }\n",
       "\n",
       "    .dataframe tbody tr th {\n",
       "        vertical-align: top;\n",
       "    }\n",
       "\n",
       "    .dataframe thead th {\n",
       "        text-align: right;\n",
       "    }\n",
       "</style>\n",
       "<table border=\"1\" class=\"dataframe\">\n",
       "  <thead>\n",
       "    <tr style=\"text-align: right;\">\n",
       "      <th></th>\n",
       "      <th>peso</th>\n",
       "      <th>comprimento</th>\n",
       "    </tr>\n",
       "  </thead>\n",
       "  <tbody>\n",
       "    <tr>\n",
       "      <th>0</th>\n",
       "      <td>5.476803</td>\n",
       "      <td>1.151864</td>\n",
       "    </tr>\n",
       "    <tr>\n",
       "      <th>1</th>\n",
       "      <td>5.783827</td>\n",
       "      <td>1.969364</td>\n",
       "    </tr>\n",
       "    <tr>\n",
       "      <th>2</th>\n",
       "      <td>4.661859</td>\n",
       "      <td>1.702380</td>\n",
       "    </tr>\n",
       "  </tbody>\n",
       "</table>\n",
       "</div>"
      ],
      "text/plain": [
       "       peso  comprimento\n",
       "0  5.476803     1.151864\n",
       "1  5.783827     1.969364\n",
       "2  4.661859     1.702380"
      ]
     },
     "execution_count": 45,
     "metadata": {},
     "output_type": "execute_result"
    }
   ],
   "source": [
    "df.iloc[:, 1:3].head(3)"
   ]
  },
  {
   "cell_type": "markdown",
   "metadata": {},
   "source": [
    "### Com df.loc não precisa do parênteses interno\n",
    "\n",
    "Access a group of rows and columns by label(s) or a boolean array.\n",
    "https://pandas.pydata.org/pandas-docs/stable/reference/api/pandas.DataFrame.loc.html"
   ]
  },
  {
   "cell_type": "code",
   "execution_count": 46,
   "metadata": {},
   "outputs": [
    {
     "data": {
      "text/html": [
       "<div>\n",
       "<style scoped>\n",
       "    .dataframe tbody tr th:only-of-type {\n",
       "        vertical-align: middle;\n",
       "    }\n",
       "\n",
       "    .dataframe tbody tr th {\n",
       "        vertical-align: top;\n",
       "    }\n",
       "\n",
       "    .dataframe thead th {\n",
       "        text-align: right;\n",
       "    }\n",
       "</style>\n",
       "<table border=\"1\" class=\"dataframe\">\n",
       "  <thead>\n",
       "    <tr style=\"text-align: right;\">\n",
       "      <th></th>\n",
       "      <th>id</th>\n",
       "      <th>peso</th>\n",
       "      <th>comprimento</th>\n",
       "      <th>comp_cabeca</th>\n",
       "    </tr>\n",
       "  </thead>\n",
       "  <tbody>\n",
       "    <tr>\n",
       "      <th>1</th>\n",
       "      <td>1</td>\n",
       "      <td>5.783827</td>\n",
       "      <td>1.969364</td>\n",
       "      <td>0.407632</td>\n",
       "    </tr>\n",
       "    <tr>\n",
       "      <th>2</th>\n",
       "      <td>2</td>\n",
       "      <td>4.661859</td>\n",
       "      <td>1.702380</td>\n",
       "      <td>0.400773</td>\n",
       "    </tr>\n",
       "    <tr>\n",
       "      <th>3</th>\n",
       "      <td>3</td>\n",
       "      <td>4.999547</td>\n",
       "      <td>1.967113</td>\n",
       "      <td>0.364346</td>\n",
       "    </tr>\n",
       "    <tr>\n",
       "      <th>4</th>\n",
       "      <td>4</td>\n",
       "      <td>5.644419</td>\n",
       "      <td>2.283718</td>\n",
       "      <td>0.425285</td>\n",
       "    </tr>\n",
       "    <tr>\n",
       "      <th>5</th>\n",
       "      <td>5</td>\n",
       "      <td>4.049759</td>\n",
       "      <td>1.305365</td>\n",
       "      <td>0.359322</td>\n",
       "    </tr>\n",
       "  </tbody>\n",
       "</table>\n",
       "</div>"
      ],
      "text/plain": [
       "   id      peso  comprimento  comp_cabeca\n",
       "1   1  5.783827     1.969364     0.407632\n",
       "2   2  4.661859     1.702380     0.400773\n",
       "3   3  4.999547     1.967113     0.364346\n",
       "4   4  5.644419     2.283718     0.425285\n",
       "5   5  4.049759     1.305365     0.359322"
      ]
     },
     "execution_count": 46,
     "metadata": {},
     "output_type": "execute_result"
    }
   ],
   "source": [
    "df.loc[1:5]"
   ]
  },
  {
   "cell_type": "code",
   "execution_count": 47,
   "metadata": {},
   "outputs": [
    {
     "data": {
      "text/html": [
       "<div>\n",
       "<style scoped>\n",
       "    .dataframe tbody tr th:only-of-type {\n",
       "        vertical-align: middle;\n",
       "    }\n",
       "\n",
       "    .dataframe tbody tr th {\n",
       "        vertical-align: top;\n",
       "    }\n",
       "\n",
       "    .dataframe thead th {\n",
       "        text-align: right;\n",
       "    }\n",
       "</style>\n",
       "<table border=\"1\" class=\"dataframe\">\n",
       "  <thead>\n",
       "    <tr style=\"text-align: right;\">\n",
       "      <th></th>\n",
       "      <th>peso</th>\n",
       "      <th>comprimento</th>\n",
       "    </tr>\n",
       "  </thead>\n",
       "  <tbody>\n",
       "    <tr>\n",
       "      <th>1</th>\n",
       "      <td>5.783827</td>\n",
       "      <td>1.969364</td>\n",
       "    </tr>\n",
       "    <tr>\n",
       "      <th>2</th>\n",
       "      <td>4.661859</td>\n",
       "      <td>1.702380</td>\n",
       "    </tr>\n",
       "    <tr>\n",
       "      <th>3</th>\n",
       "      <td>4.999547</td>\n",
       "      <td>1.967113</td>\n",
       "    </tr>\n",
       "    <tr>\n",
       "      <th>4</th>\n",
       "      <td>5.644419</td>\n",
       "      <td>2.283718</td>\n",
       "    </tr>\n",
       "    <tr>\n",
       "      <th>5</th>\n",
       "      <td>4.049759</td>\n",
       "      <td>1.305365</td>\n",
       "    </tr>\n",
       "  </tbody>\n",
       "</table>\n",
       "</div>"
      ],
      "text/plain": [
       "       peso  comprimento\n",
       "1  5.783827     1.969364\n",
       "2  4.661859     1.702380\n",
       "3  4.999547     1.967113\n",
       "4  5.644419     2.283718\n",
       "5  4.049759     1.305365"
      ]
     },
     "execution_count": 47,
     "metadata": {},
     "output_type": "execute_result"
    }
   ],
   "source": [
    "df.loc[1:5, ['peso', 'comprimento']]"
   ]
  },
  {
   "cell_type": "code",
   "execution_count": 48,
   "metadata": {},
   "outputs": [
    {
     "data": {
      "text/html": [
       "<div>\n",
       "<style scoped>\n",
       "    .dataframe tbody tr th:only-of-type {\n",
       "        vertical-align: middle;\n",
       "    }\n",
       "\n",
       "    .dataframe tbody tr th {\n",
       "        vertical-align: top;\n",
       "    }\n",
       "\n",
       "    .dataframe thead th {\n",
       "        text-align: right;\n",
       "    }\n",
       "</style>\n",
       "<table border=\"1\" class=\"dataframe\">\n",
       "  <thead>\n",
       "    <tr style=\"text-align: right;\">\n",
       "      <th></th>\n",
       "      <th>peso</th>\n",
       "      <th>comprimento</th>\n",
       "    </tr>\n",
       "  </thead>\n",
       "  <tbody>\n",
       "    <tr>\n",
       "      <th>1</th>\n",
       "      <td>5.783827</td>\n",
       "      <td>1.969364</td>\n",
       "    </tr>\n",
       "    <tr>\n",
       "      <th>3</th>\n",
       "      <td>4.999547</td>\n",
       "      <td>1.967113</td>\n",
       "    </tr>\n",
       "    <tr>\n",
       "      <th>5</th>\n",
       "      <td>4.049759</td>\n",
       "      <td>1.305365</td>\n",
       "    </tr>\n",
       "  </tbody>\n",
       "</table>\n",
       "</div>"
      ],
      "text/plain": [
       "       peso  comprimento\n",
       "1  5.783827     1.969364\n",
       "3  4.999547     1.967113\n",
       "5  4.049759     1.305365"
      ]
     },
     "execution_count": 48,
     "metadata": {},
     "output_type": "execute_result"
    }
   ],
   "source": [
    "df.loc[[1,3,5], ['peso', 'comprimento']]"
   ]
  },
  {
   "cell_type": "markdown",
   "metadata": {},
   "source": [
    "### Index"
   ]
  },
  {
   "cell_type": "code",
   "execution_count": 119,
   "metadata": {},
   "outputs": [
    {
     "data": {
      "text/html": [
       "<div>\n",
       "<style scoped>\n",
       "    .dataframe tbody tr th:only-of-type {\n",
       "        vertical-align: middle;\n",
       "    }\n",
       "\n",
       "    .dataframe tbody tr th {\n",
       "        vertical-align: top;\n",
       "    }\n",
       "\n",
       "    .dataframe thead th {\n",
       "        text-align: right;\n",
       "    }\n",
       "</style>\n",
       "<table border=\"1\" class=\"dataframe\">\n",
       "  <thead>\n",
       "    <tr style=\"text-align: right;\">\n",
       "      <th></th>\n",
       "      <th>id</th>\n",
       "      <th>peso</th>\n",
       "      <th>comprimento</th>\n",
       "      <th>comp_cabeca</th>\n",
       "    </tr>\n",
       "  </thead>\n",
       "  <tbody>\n",
       "    <tr>\n",
       "      <th>0</th>\n",
       "      <td>0</td>\n",
       "      <td>4.873455</td>\n",
       "      <td>1.368404</td>\n",
       "      <td>0.428007</td>\n",
       "    </tr>\n",
       "    <tr>\n",
       "      <th>1</th>\n",
       "      <td>1</td>\n",
       "      <td>4.325118</td>\n",
       "      <td>2.101066</td>\n",
       "      <td>0.400641</td>\n",
       "    </tr>\n",
       "    <tr>\n",
       "      <th>2</th>\n",
       "      <td>2</td>\n",
       "      <td>5.269329</td>\n",
       "      <td>2.418236</td>\n",
       "      <td>0.411073</td>\n",
       "    </tr>\n",
       "    <tr>\n",
       "      <th>3</th>\n",
       "      <td>3</td>\n",
       "      <td>5.789979</td>\n",
       "      <td>1.980724</td>\n",
       "      <td>0.419016</td>\n",
       "    </tr>\n",
       "    <tr>\n",
       "      <th>4</th>\n",
       "      <td>4</td>\n",
       "      <td>5.686710</td>\n",
       "      <td>3.093493</td>\n",
       "      <td>0.389742</td>\n",
       "    </tr>\n",
       "  </tbody>\n",
       "</table>\n",
       "</div>"
      ],
      "text/plain": [
       "   id      peso  comprimento  comp_cabeca\n",
       "0   0  4.873455     1.368404     0.428007\n",
       "1   1  4.325118     2.101066     0.400641\n",
       "2   2  5.269329     2.418236     0.411073\n",
       "3   3  5.789979     1.980724     0.419016\n",
       "4   4  5.686710     3.093493     0.389742"
      ]
     },
     "execution_count": 119,
     "metadata": {},
     "output_type": "execute_result"
    }
   ],
   "source": [
    "N = 5\n",
    "dic = {}\n",
    "\n",
    "dic['id'] = np.arange(0, N)\n",
    "dic['peso'] = np.random.normal(5, .5, N)\n",
    "dic['comprimento'] = np.random.normal(2, .4, N)\n",
    "dic['comp_cabeca'] = np.random.normal(.4, .02, N)\n",
    "\n",
    "df = pd.DataFrame.from_dict(dic)\n",
    "df"
   ]
  },
  {
   "cell_type": "markdown",
   "metadata": {},
   "source": [
    "### São objetos diferentes?"
   ]
  },
  {
   "cell_type": "code",
   "execution_count": 120,
   "metadata": {},
   "outputs": [
    {
     "data": {
      "text/plain": [
       "(140470431133648, 140470432748048, True)"
      ]
     },
     "execution_count": 120,
     "metadata": {},
     "output_type": "execute_result"
    }
   ],
   "source": [
    "id(df), id(df2), id(df) != id(df2)"
   ]
  },
  {
   "cell_type": "markdown",
   "metadata": {},
   "source": [
    "### Dando nome para cada linha (índice, index)"
   ]
  },
  {
   "cell_type": "code",
   "execution_count": 121,
   "metadata": {},
   "outputs": [],
   "source": [
    "df.index = ['Indian cobra', 'Coral', 'False coral', 'Bothrops jararaca', 'Bothrops terrificus']"
   ]
  },
  {
   "cell_type": "code",
   "execution_count": 122,
   "metadata": {},
   "outputs": [
    {
     "data": {
      "text/html": [
       "<div>\n",
       "<style scoped>\n",
       "    .dataframe tbody tr th:only-of-type {\n",
       "        vertical-align: middle;\n",
       "    }\n",
       "\n",
       "    .dataframe tbody tr th {\n",
       "        vertical-align: top;\n",
       "    }\n",
       "\n",
       "    .dataframe thead th {\n",
       "        text-align: right;\n",
       "    }\n",
       "</style>\n",
       "<table border=\"1\" class=\"dataframe\">\n",
       "  <thead>\n",
       "    <tr style=\"text-align: right;\">\n",
       "      <th></th>\n",
       "      <th>id</th>\n",
       "      <th>peso</th>\n",
       "      <th>comprimento</th>\n",
       "      <th>comp_cabeca</th>\n",
       "    </tr>\n",
       "  </thead>\n",
       "  <tbody>\n",
       "    <tr>\n",
       "      <th>Indian cobra</th>\n",
       "      <td>0</td>\n",
       "      <td>4.873455</td>\n",
       "      <td>1.368404</td>\n",
       "      <td>0.428007</td>\n",
       "    </tr>\n",
       "    <tr>\n",
       "      <th>Coral</th>\n",
       "      <td>1</td>\n",
       "      <td>4.325118</td>\n",
       "      <td>2.101066</td>\n",
       "      <td>0.400641</td>\n",
       "    </tr>\n",
       "    <tr>\n",
       "      <th>False coral</th>\n",
       "      <td>2</td>\n",
       "      <td>5.269329</td>\n",
       "      <td>2.418236</td>\n",
       "      <td>0.411073</td>\n",
       "    </tr>\n",
       "    <tr>\n",
       "      <th>Bothrops jararaca</th>\n",
       "      <td>3</td>\n",
       "      <td>5.789979</td>\n",
       "      <td>1.980724</td>\n",
       "      <td>0.419016</td>\n",
       "    </tr>\n",
       "    <tr>\n",
       "      <th>Bothrops terrificus</th>\n",
       "      <td>4</td>\n",
       "      <td>5.686710</td>\n",
       "      <td>3.093493</td>\n",
       "      <td>0.389742</td>\n",
       "    </tr>\n",
       "  </tbody>\n",
       "</table>\n",
       "</div>"
      ],
      "text/plain": [
       "                     id      peso  comprimento  comp_cabeca\n",
       "Indian cobra          0  4.873455     1.368404     0.428007\n",
       "Coral                 1  4.325118     2.101066     0.400641\n",
       "False coral           2  5.269329     2.418236     0.411073\n",
       "Bothrops jararaca     3  5.789979     1.980724     0.419016\n",
       "Bothrops terrificus   4  5.686710     3.093493     0.389742"
      ]
     },
     "execution_count": 122,
     "metadata": {},
     "output_type": "execute_result"
    }
   ],
   "source": [
    "df"
   ]
  },
  {
   "cell_type": "markdown",
   "metadata": {},
   "source": [
    "### Copiando uma tabela, para usar mais para frente"
   ]
  },
  {
   "cell_type": "code",
   "execution_count": 123,
   "metadata": {},
   "outputs": [],
   "source": [
    "df2 = df.copy()"
   ]
  },
  {
   "cell_type": "markdown",
   "metadata": {},
   "source": [
    "### Comparando dataframes = comparando matrizes (np.arrays)"
   ]
  },
  {
   "cell_type": "code",
   "execution_count": 125,
   "metadata": {},
   "outputs": [
    {
     "data": {
      "text/html": [
       "<div>\n",
       "<style scoped>\n",
       "    .dataframe tbody tr th:only-of-type {\n",
       "        vertical-align: middle;\n",
       "    }\n",
       "\n",
       "    .dataframe tbody tr th {\n",
       "        vertical-align: top;\n",
       "    }\n",
       "\n",
       "    .dataframe thead th {\n",
       "        text-align: right;\n",
       "    }\n",
       "</style>\n",
       "<table border=\"1\" class=\"dataframe\">\n",
       "  <thead>\n",
       "    <tr style=\"text-align: right;\">\n",
       "      <th></th>\n",
       "      <th>id</th>\n",
       "      <th>peso</th>\n",
       "      <th>comprimento</th>\n",
       "      <th>comp_cabeca</th>\n",
       "    </tr>\n",
       "  </thead>\n",
       "  <tbody>\n",
       "    <tr>\n",
       "      <th>Indian cobra</th>\n",
       "      <td>True</td>\n",
       "      <td>True</td>\n",
       "      <td>True</td>\n",
       "      <td>True</td>\n",
       "    </tr>\n",
       "    <tr>\n",
       "      <th>Coral</th>\n",
       "      <td>True</td>\n",
       "      <td>True</td>\n",
       "      <td>True</td>\n",
       "      <td>True</td>\n",
       "    </tr>\n",
       "    <tr>\n",
       "      <th>False coral</th>\n",
       "      <td>True</td>\n",
       "      <td>True</td>\n",
       "      <td>True</td>\n",
       "      <td>True</td>\n",
       "    </tr>\n",
       "    <tr>\n",
       "      <th>Bothrops jararaca</th>\n",
       "      <td>True</td>\n",
       "      <td>True</td>\n",
       "      <td>True</td>\n",
       "      <td>True</td>\n",
       "    </tr>\n",
       "    <tr>\n",
       "      <th>Bothrops terrificus</th>\n",
       "      <td>True</td>\n",
       "      <td>True</td>\n",
       "      <td>True</td>\n",
       "      <td>True</td>\n",
       "    </tr>\n",
       "  </tbody>\n",
       "</table>\n",
       "</div>"
      ],
      "text/plain": [
       "                       id  peso  comprimento  comp_cabeca\n",
       "Indian cobra         True  True         True         True\n",
       "Coral                True  True         True         True\n",
       "False coral          True  True         True         True\n",
       "Bothrops jararaca    True  True         True         True\n",
       "Bothrops terrificus  True  True         True         True"
      ]
     },
     "execution_count": 125,
     "metadata": {},
     "output_type": "execute_result"
    }
   ],
   "source": [
    "df2 == df"
   ]
  },
  {
   "cell_type": "markdown",
   "metadata": {},
   "source": [
    "### Usando loc nos índices"
   ]
  },
  {
   "cell_type": "code",
   "execution_count": 126,
   "metadata": {},
   "outputs": [
    {
     "data": {
      "text/html": [
       "<div>\n",
       "<style scoped>\n",
       "    .dataframe tbody tr th:only-of-type {\n",
       "        vertical-align: middle;\n",
       "    }\n",
       "\n",
       "    .dataframe tbody tr th {\n",
       "        vertical-align: top;\n",
       "    }\n",
       "\n",
       "    .dataframe thead th {\n",
       "        text-align: right;\n",
       "    }\n",
       "</style>\n",
       "<table border=\"1\" class=\"dataframe\">\n",
       "  <thead>\n",
       "    <tr style=\"text-align: right;\">\n",
       "      <th></th>\n",
       "      <th>id</th>\n",
       "      <th>peso</th>\n",
       "      <th>comprimento</th>\n",
       "      <th>comp_cabeca</th>\n",
       "    </tr>\n",
       "  </thead>\n",
       "  <tbody>\n",
       "    <tr>\n",
       "      <th>Coral</th>\n",
       "      <td>1</td>\n",
       "      <td>4.325118</td>\n",
       "      <td>2.101066</td>\n",
       "      <td>0.400641</td>\n",
       "    </tr>\n",
       "    <tr>\n",
       "      <th>False coral</th>\n",
       "      <td>2</td>\n",
       "      <td>5.269329</td>\n",
       "      <td>2.418236</td>\n",
       "      <td>0.411073</td>\n",
       "    </tr>\n",
       "  </tbody>\n",
       "</table>\n",
       "</div>"
      ],
      "text/plain": [
       "             id      peso  comprimento  comp_cabeca\n",
       "Coral         1  4.325118     2.101066     0.400641\n",
       "False coral   2  5.269329     2.418236     0.411073"
      ]
     },
     "execution_count": 126,
     "metadata": {},
     "output_type": "execute_result"
    }
   ],
   "source": [
    "df.loc[['Coral', 'False coral']]"
   ]
  },
  {
   "cell_type": "code",
   "execution_count": 127,
   "metadata": {},
   "outputs": [
    {
     "data": {
      "text/html": [
       "<div>\n",
       "<style scoped>\n",
       "    .dataframe tbody tr th:only-of-type {\n",
       "        vertical-align: middle;\n",
       "    }\n",
       "\n",
       "    .dataframe tbody tr th {\n",
       "        vertical-align: top;\n",
       "    }\n",
       "\n",
       "    .dataframe thead th {\n",
       "        text-align: right;\n",
       "    }\n",
       "</style>\n",
       "<table border=\"1\" class=\"dataframe\">\n",
       "  <thead>\n",
       "    <tr style=\"text-align: right;\">\n",
       "      <th></th>\n",
       "      <th>id</th>\n",
       "      <th>peso</th>\n",
       "      <th>comprimento</th>\n",
       "      <th>comp_cabeca</th>\n",
       "    </tr>\n",
       "  </thead>\n",
       "  <tbody>\n",
       "    <tr>\n",
       "      <th>Indian cobra</th>\n",
       "      <td>0</td>\n",
       "      <td>4.873455</td>\n",
       "      <td>1.368404</td>\n",
       "      <td>0.428007</td>\n",
       "    </tr>\n",
       "    <tr>\n",
       "      <th>Bothrops jararaca</th>\n",
       "      <td>3</td>\n",
       "      <td>5.789979</td>\n",
       "      <td>1.980724</td>\n",
       "      <td>0.419016</td>\n",
       "    </tr>\n",
       "    <tr>\n",
       "      <th>Bothrops terrificus</th>\n",
       "      <td>4</td>\n",
       "      <td>5.686710</td>\n",
       "      <td>3.093493</td>\n",
       "      <td>0.389742</td>\n",
       "    </tr>\n",
       "  </tbody>\n",
       "</table>\n",
       "</div>"
      ],
      "text/plain": [
       "                     id      peso  comprimento  comp_cabeca\n",
       "Indian cobra          0  4.873455     1.368404     0.428007\n",
       "Bothrops jararaca     3  5.789979     1.980724     0.419016\n",
       "Bothrops terrificus   4  5.686710     3.093493     0.389742"
      ]
     },
     "execution_count": 127,
     "metadata": {},
     "output_type": "execute_result"
    }
   ],
   "source": [
    "df.loc[[True, False, False, True, True]]"
   ]
  },
  {
   "cell_type": "code",
   "execution_count": 128,
   "metadata": {},
   "outputs": [
    {
     "data": {
      "text/plain": [
       "['Indian cobra', 'Bothrops jararaca', 'Bothrops terrificus']"
      ]
     },
     "execution_count": 128,
     "metadata": {},
     "output_type": "execute_result"
    }
   ],
   "source": [
    "not_coral = [x for x in df.index if 'coral' not in x.lower()]\n",
    "not_coral"
   ]
  },
  {
   "cell_type": "code",
   "execution_count": 129,
   "metadata": {},
   "outputs": [
    {
     "data": {
      "text/html": [
       "<div>\n",
       "<style scoped>\n",
       "    .dataframe tbody tr th:only-of-type {\n",
       "        vertical-align: middle;\n",
       "    }\n",
       "\n",
       "    .dataframe tbody tr th {\n",
       "        vertical-align: top;\n",
       "    }\n",
       "\n",
       "    .dataframe thead th {\n",
       "        text-align: right;\n",
       "    }\n",
       "</style>\n",
       "<table border=\"1\" class=\"dataframe\">\n",
       "  <thead>\n",
       "    <tr style=\"text-align: right;\">\n",
       "      <th></th>\n",
       "      <th>id</th>\n",
       "      <th>peso</th>\n",
       "      <th>comprimento</th>\n",
       "      <th>comp_cabeca</th>\n",
       "    </tr>\n",
       "  </thead>\n",
       "  <tbody>\n",
       "    <tr>\n",
       "      <th>Indian cobra</th>\n",
       "      <td>0</td>\n",
       "      <td>4.873455</td>\n",
       "      <td>1.368404</td>\n",
       "      <td>0.428007</td>\n",
       "    </tr>\n",
       "    <tr>\n",
       "      <th>Bothrops jararaca</th>\n",
       "      <td>3</td>\n",
       "      <td>5.789979</td>\n",
       "      <td>1.980724</td>\n",
       "      <td>0.419016</td>\n",
       "    </tr>\n",
       "    <tr>\n",
       "      <th>Bothrops terrificus</th>\n",
       "      <td>4</td>\n",
       "      <td>5.686710</td>\n",
       "      <td>3.093493</td>\n",
       "      <td>0.389742</td>\n",
       "    </tr>\n",
       "  </tbody>\n",
       "</table>\n",
       "</div>"
      ],
      "text/plain": [
       "                     id      peso  comprimento  comp_cabeca\n",
       "Indian cobra          0  4.873455     1.368404     0.428007\n",
       "Bothrops jararaca     3  5.789979     1.980724     0.419016\n",
       "Bothrops terrificus   4  5.686710     3.093493     0.389742"
      ]
     },
     "execution_count": 129,
     "metadata": {},
     "output_type": "execute_result"
    }
   ],
   "source": [
    "df.loc[not_coral]"
   ]
  },
  {
   "cell_type": "markdown",
   "metadata": {},
   "source": [
    "### Resetando índices (index)"
   ]
  },
  {
   "cell_type": "code",
   "execution_count": 130,
   "metadata": {},
   "outputs": [
    {
     "data": {
      "text/html": [
       "<div>\n",
       "<style scoped>\n",
       "    .dataframe tbody tr th:only-of-type {\n",
       "        vertical-align: middle;\n",
       "    }\n",
       "\n",
       "    .dataframe tbody tr th {\n",
       "        vertical-align: top;\n",
       "    }\n",
       "\n",
       "    .dataframe thead th {\n",
       "        text-align: right;\n",
       "    }\n",
       "</style>\n",
       "<table border=\"1\" class=\"dataframe\">\n",
       "  <thead>\n",
       "    <tr style=\"text-align: right;\">\n",
       "      <th></th>\n",
       "      <th>index</th>\n",
       "      <th>id</th>\n",
       "      <th>peso</th>\n",
       "      <th>comprimento</th>\n",
       "      <th>comp_cabeca</th>\n",
       "    </tr>\n",
       "  </thead>\n",
       "  <tbody>\n",
       "    <tr>\n",
       "      <th>0</th>\n",
       "      <td>Indian cobra</td>\n",
       "      <td>0</td>\n",
       "      <td>4.873455</td>\n",
       "      <td>1.368404</td>\n",
       "      <td>0.428007</td>\n",
       "    </tr>\n",
       "    <tr>\n",
       "      <th>1</th>\n",
       "      <td>Coral</td>\n",
       "      <td>1</td>\n",
       "      <td>4.325118</td>\n",
       "      <td>2.101066</td>\n",
       "      <td>0.400641</td>\n",
       "    </tr>\n",
       "    <tr>\n",
       "      <th>2</th>\n",
       "      <td>False coral</td>\n",
       "      <td>2</td>\n",
       "      <td>5.269329</td>\n",
       "      <td>2.418236</td>\n",
       "      <td>0.411073</td>\n",
       "    </tr>\n",
       "    <tr>\n",
       "      <th>3</th>\n",
       "      <td>Bothrops jararaca</td>\n",
       "      <td>3</td>\n",
       "      <td>5.789979</td>\n",
       "      <td>1.980724</td>\n",
       "      <td>0.419016</td>\n",
       "    </tr>\n",
       "    <tr>\n",
       "      <th>4</th>\n",
       "      <td>Bothrops terrificus</td>\n",
       "      <td>4</td>\n",
       "      <td>5.686710</td>\n",
       "      <td>3.093493</td>\n",
       "      <td>0.389742</td>\n",
       "    </tr>\n",
       "  </tbody>\n",
       "</table>\n",
       "</div>"
      ],
      "text/plain": [
       "                 index  id      peso  comprimento  comp_cabeca\n",
       "0         Indian cobra   0  4.873455     1.368404     0.428007\n",
       "1                Coral   1  4.325118     2.101066     0.400641\n",
       "2          False coral   2  5.269329     2.418236     0.411073\n",
       "3    Bothrops jararaca   3  5.789979     1.980724     0.419016\n",
       "4  Bothrops terrificus   4  5.686710     3.093493     0.389742"
      ]
     },
     "execution_count": 130,
     "metadata": {},
     "output_type": "execute_result"
    }
   ],
   "source": [
    "df = df.reset_index()\n",
    "df"
   ]
  },
  {
   "cell_type": "markdown",
   "metadata": {},
   "source": [
    "### Voltando os dados originais"
   ]
  },
  {
   "cell_type": "code",
   "execution_count": 131,
   "metadata": {},
   "outputs": [
    {
     "data": {
      "text/html": [
       "<div>\n",
       "<style scoped>\n",
       "    .dataframe tbody tr th:only-of-type {\n",
       "        vertical-align: middle;\n",
       "    }\n",
       "\n",
       "    .dataframe tbody tr th {\n",
       "        vertical-align: top;\n",
       "    }\n",
       "\n",
       "    .dataframe thead th {\n",
       "        text-align: right;\n",
       "    }\n",
       "</style>\n",
       "<table border=\"1\" class=\"dataframe\">\n",
       "  <thead>\n",
       "    <tr style=\"text-align: right;\">\n",
       "      <th></th>\n",
       "      <th>id</th>\n",
       "      <th>peso</th>\n",
       "      <th>comprimento</th>\n",
       "      <th>comp_cabeca</th>\n",
       "    </tr>\n",
       "  </thead>\n",
       "  <tbody>\n",
       "    <tr>\n",
       "      <th>Indian cobra</th>\n",
       "      <td>0</td>\n",
       "      <td>4.873455</td>\n",
       "      <td>1.368404</td>\n",
       "      <td>0.428007</td>\n",
       "    </tr>\n",
       "    <tr>\n",
       "      <th>Coral</th>\n",
       "      <td>1</td>\n",
       "      <td>4.325118</td>\n",
       "      <td>2.101066</td>\n",
       "      <td>0.400641</td>\n",
       "    </tr>\n",
       "    <tr>\n",
       "      <th>False coral</th>\n",
       "      <td>2</td>\n",
       "      <td>5.269329</td>\n",
       "      <td>2.418236</td>\n",
       "      <td>0.411073</td>\n",
       "    </tr>\n",
       "    <tr>\n",
       "      <th>Bothrops jararaca</th>\n",
       "      <td>3</td>\n",
       "      <td>5.789979</td>\n",
       "      <td>1.980724</td>\n",
       "      <td>0.419016</td>\n",
       "    </tr>\n",
       "    <tr>\n",
       "      <th>Bothrops terrificus</th>\n",
       "      <td>4</td>\n",
       "      <td>5.686710</td>\n",
       "      <td>3.093493</td>\n",
       "      <td>0.389742</td>\n",
       "    </tr>\n",
       "  </tbody>\n",
       "</table>\n",
       "</div>"
      ],
      "text/plain": [
       "                     id      peso  comprimento  comp_cabeca\n",
       "Indian cobra          0  4.873455     1.368404     0.428007\n",
       "Coral                 1  4.325118     2.101066     0.400641\n",
       "False coral           2  5.269329     2.418236     0.411073\n",
       "Bothrops jararaca     3  5.789979     1.980724     0.419016\n",
       "Bothrops terrificus   4  5.686710     3.093493     0.389742"
      ]
     },
     "execution_count": 131,
     "metadata": {},
     "output_type": "execute_result"
    }
   ],
   "source": [
    "df2"
   ]
  },
  {
   "cell_type": "code",
   "execution_count": 132,
   "metadata": {},
   "outputs": [
    {
     "data": {
      "text/html": [
       "<div>\n",
       "<style scoped>\n",
       "    .dataframe tbody tr th:only-of-type {\n",
       "        vertical-align: middle;\n",
       "    }\n",
       "\n",
       "    .dataframe tbody tr th {\n",
       "        vertical-align: top;\n",
       "    }\n",
       "\n",
       "    .dataframe thead th {\n",
       "        text-align: right;\n",
       "    }\n",
       "</style>\n",
       "<table border=\"1\" class=\"dataframe\">\n",
       "  <thead>\n",
       "    <tr style=\"text-align: right;\">\n",
       "      <th></th>\n",
       "      <th>cobra</th>\n",
       "      <th>id</th>\n",
       "      <th>peso</th>\n",
       "      <th>comprimento</th>\n",
       "      <th>comp_cabeca</th>\n",
       "    </tr>\n",
       "  </thead>\n",
       "  <tbody>\n",
       "    <tr>\n",
       "      <th>0</th>\n",
       "      <td>Indian cobra</td>\n",
       "      <td>0</td>\n",
       "      <td>4.873455</td>\n",
       "      <td>1.368404</td>\n",
       "      <td>0.428007</td>\n",
       "    </tr>\n",
       "    <tr>\n",
       "      <th>1</th>\n",
       "      <td>Coral</td>\n",
       "      <td>1</td>\n",
       "      <td>4.325118</td>\n",
       "      <td>2.101066</td>\n",
       "      <td>0.400641</td>\n",
       "    </tr>\n",
       "    <tr>\n",
       "      <th>2</th>\n",
       "      <td>False coral</td>\n",
       "      <td>2</td>\n",
       "      <td>5.269329</td>\n",
       "      <td>2.418236</td>\n",
       "      <td>0.411073</td>\n",
       "    </tr>\n",
       "    <tr>\n",
       "      <th>3</th>\n",
       "      <td>Bothrops jararaca</td>\n",
       "      <td>3</td>\n",
       "      <td>5.789979</td>\n",
       "      <td>1.980724</td>\n",
       "      <td>0.419016</td>\n",
       "    </tr>\n",
       "    <tr>\n",
       "      <th>4</th>\n",
       "      <td>Bothrops terrificus</td>\n",
       "      <td>4</td>\n",
       "      <td>5.686710</td>\n",
       "      <td>3.093493</td>\n",
       "      <td>0.389742</td>\n",
       "    </tr>\n",
       "  </tbody>\n",
       "</table>\n",
       "</div>"
      ],
      "text/plain": [
       "                 cobra  id      peso  comprimento  comp_cabeca\n",
       "0         Indian cobra   0  4.873455     1.368404     0.428007\n",
       "1                Coral   1  4.325118     2.101066     0.400641\n",
       "2          False coral   2  5.269329     2.418236     0.411073\n",
       "3    Bothrops jararaca   3  5.789979     1.980724     0.419016\n",
       "4  Bothrops terrificus   4  5.686710     3.093493     0.389742"
      ]
     },
     "execution_count": 132,
     "metadata": {},
     "output_type": "execute_result"
    }
   ],
   "source": [
    "df = df2.copy()\n",
    "df = df.reset_index().rename(columns={'index': 'cobra'})\n",
    "df"
   ]
  },
  {
   "cell_type": "code",
   "execution_count": 137,
   "metadata": {},
   "outputs": [
    {
     "data": {
      "text/html": [
       "<div>\n",
       "<style scoped>\n",
       "    .dataframe tbody tr th:only-of-type {\n",
       "        vertical-align: middle;\n",
       "    }\n",
       "\n",
       "    .dataframe tbody tr th {\n",
       "        vertical-align: top;\n",
       "    }\n",
       "\n",
       "    .dataframe thead th {\n",
       "        text-align: right;\n",
       "    }\n",
       "</style>\n",
       "<table border=\"1\" class=\"dataframe\">\n",
       "  <thead>\n",
       "    <tr style=\"text-align: right;\">\n",
       "      <th></th>\n",
       "      <th>id</th>\n",
       "      <th>peso</th>\n",
       "      <th>comprimento</th>\n",
       "      <th>comp_cabeca</th>\n",
       "    </tr>\n",
       "  </thead>\n",
       "  <tbody>\n",
       "    <tr>\n",
       "      <th>Indian cobra</th>\n",
       "      <td>0</td>\n",
       "      <td>4.873455</td>\n",
       "      <td>1.368404</td>\n",
       "      <td>0.428007</td>\n",
       "    </tr>\n",
       "    <tr>\n",
       "      <th>Coral</th>\n",
       "      <td>1</td>\n",
       "      <td>4.325118</td>\n",
       "      <td>2.101066</td>\n",
       "      <td>0.400641</td>\n",
       "    </tr>\n",
       "    <tr>\n",
       "      <th>False coral</th>\n",
       "      <td>2</td>\n",
       "      <td>5.269329</td>\n",
       "      <td>2.418236</td>\n",
       "      <td>0.411073</td>\n",
       "    </tr>\n",
       "    <tr>\n",
       "      <th>Bothrops jararaca</th>\n",
       "      <td>3</td>\n",
       "      <td>5.789979</td>\n",
       "      <td>1.980724</td>\n",
       "      <td>0.419016</td>\n",
       "    </tr>\n",
       "    <tr>\n",
       "      <th>Bothrops terrificus</th>\n",
       "      <td>4</td>\n",
       "      <td>5.686710</td>\n",
       "      <td>3.093493</td>\n",
       "      <td>0.389742</td>\n",
       "    </tr>\n",
       "  </tbody>\n",
       "</table>\n",
       "</div>"
      ],
      "text/plain": [
       "                     id      peso  comprimento  comp_cabeca\n",
       "Indian cobra          0  4.873455     1.368404     0.428007\n",
       "Coral                 1  4.325118     2.101066     0.400641\n",
       "False coral           2  5.269329     2.418236     0.411073\n",
       "Bothrops jararaca     3  5.789979     1.980724     0.419016\n",
       "Bothrops terrificus   4  5.686710     3.093493     0.389742"
      ]
     },
     "execution_count": 137,
     "metadata": {},
     "output_type": "execute_result"
    }
   ],
   "source": [
    "df = df2.copy()\n",
    "df.reset_index().rename(columns={'index': 'cobra'}, inplace=True)\n",
    "df"
   ]
  },
  {
   "cell_type": "code",
   "execution_count": 136,
   "metadata": {},
   "outputs": [
    {
     "data": {
      "text/plain": [
       "NoneType"
      ]
     },
     "execution_count": 136,
     "metadata": {},
     "output_type": "execute_result"
    }
   ],
   "source": [
    "type(df)"
   ]
  }
 ],
 "metadata": {
  "kernelspec": {
   "display_name": "Python 3",
   "language": "python",
   "name": "python3"
  },
  "language_info": {
   "codemirror_mode": {
    "name": "ipython",
    "version": 3
   },
   "file_extension": ".py",
   "mimetype": "text/x-python",
   "name": "python",
   "nbconvert_exporter": "python",
   "pygments_lexer": "ipython3",
   "version": "3.7.7"
  }
 },
 "nbformat": 4,
 "nbformat_minor": 4
}
