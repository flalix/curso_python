{
 "cells": [
  {
   "cell_type": "markdown",
   "metadata": {},
   "source": [
    "## Lendo arquivo formatados em Excel\n",
    "  - Formatado: todo ele tem m colunas uniformes\n",
    "  - Nã formatado: tem estruturas de colunas distintas que precisam ser lidas separamente\n",
    "  \n",
    "### Um arquivo excel pode ser:\n",
    "  - xls ou xlsx\n",
    "  - uma aba, ou multi-abas\n",
    "\n",
    "### Deu um erro ao tentar ler Excel com Pandas:\n",
    "  - XLRDError"
   ]
  },
  {
   "cell_type": "code",
   "execution_count": 2,
   "metadata": {},
   "outputs": [],
   "source": [
    "import os\n",
    "# se o pandas, abaixo, não consegui ler o arquivo Excel, é por que falta o pacote XLRD\n",
    "# remova o comentário na frente de os.system(), e corra esta célula\n",
    "\n",
    "# os.system(\"conda install -c anaconda xlrd\")"
   ]
  },
  {
   "cell_type": "code",
   "execution_count": 3,
   "metadata": {},
   "outputs": [],
   "source": [
    "import os, sys\n",
    "import numpy as np\n",
    "import pandas as pd\n",
    "\n",
    "import matplotlib.pyplot as plt # matplotlib e seu alias plt\n",
    "%matplotlib inline"
   ]
  },
  {
   "cell_type": "code",
   "execution_count": 4,
   "metadata": {},
   "outputs": [],
   "source": [
    "root_data = '../data/'\n",
    "# alguém me mando este arquivo\n",
    "filename = 'Snake Morphotaxonomy.xlsx'"
   ]
  },
  {
   "cell_type": "markdown",
   "metadata": {},
   "source": [
    "### A maneira correta de juntar path + filename"
   ]
  },
  {
   "cell_type": "code",
   "execution_count": 5,
   "metadata": {},
   "outputs": [
    {
     "data": {
      "text/plain": [
       "True"
      ]
     },
     "execution_count": 5,
     "metadata": {},
     "output_type": "execute_result"
    }
   ],
   "source": [
    "fullpath = os.path.join(root_data, filename)\n",
    "os.path.exists(fullpath)"
   ]
  },
  {
   "cell_type": "code",
   "execution_count": 6,
   "metadata": {},
   "outputs": [
    {
     "name": "stdout",
     "output_type": "stream",
     "text": [
      "Read '../data/Snake Morphotaxonomy.xlsx'\n"
     ]
    }
   ],
   "source": [
    "try:\n",
    "    df = pd.read_excel(fullpath)\n",
    "    print(\"Read '%s'\"%fullpath)\n",
    "except:\n",
    "    print(\"Could not read '%s'\"%fullpath)"
   ]
  },
  {
   "cell_type": "code",
   "execution_count": 7,
   "metadata": {},
   "outputs": [
    {
     "data": {
      "text/html": [
       "<div>\n",
       "<style scoped>\n",
       "    .dataframe tbody tr th:only-of-type {\n",
       "        vertical-align: middle;\n",
       "    }\n",
       "\n",
       "    .dataframe tbody tr th {\n",
       "        vertical-align: top;\n",
       "    }\n",
       "\n",
       "    .dataframe thead th {\n",
       "        text-align: right;\n",
       "    }\n",
       "</style>\n",
       "<table border=\"1\" class=\"dataframe\">\n",
       "  <thead>\n",
       "    <tr style=\"text-align: right;\">\n",
       "      <th></th>\n",
       "      <th>species</th>\n",
       "      <th>population</th>\n",
       "      <th>sex</th>\n",
       "      <th>RDS</th>\n",
       "      <th>VS</th>\n",
       "      <th>HL</th>\n",
       "      <th>TaL</th>\n",
       "      <th>temperature</th>\n",
       "      <th>elevation</th>\n",
       "    </tr>\n",
       "  </thead>\n",
       "  <tbody>\n",
       "    <tr>\n",
       "      <th>0</th>\n",
       "      <td>B_jararaca</td>\n",
       "      <td>RJ_serra</td>\n",
       "      <td>Female</td>\n",
       "      <td>23</td>\n",
       "      <td>144</td>\n",
       "      <td>25.0</td>\n",
       "      <td>34.0</td>\n",
       "      <td>20.3</td>\n",
       "      <td>894</td>\n",
       "    </tr>\n",
       "    <tr>\n",
       "      <th>1</th>\n",
       "      <td>B_jararaca</td>\n",
       "      <td>RJ_serra</td>\n",
       "      <td>Female</td>\n",
       "      <td>23</td>\n",
       "      <td>145</td>\n",
       "      <td>25.0</td>\n",
       "      <td>43.0</td>\n",
       "      <td>20.3</td>\n",
       "      <td>894</td>\n",
       "    </tr>\n",
       "    <tr>\n",
       "      <th>2</th>\n",
       "      <td>B_jararaca</td>\n",
       "      <td>RJ_serra</td>\n",
       "      <td>Female</td>\n",
       "      <td>23</td>\n",
       "      <td>144</td>\n",
       "      <td>17.0</td>\n",
       "      <td>18.0</td>\n",
       "      <td>23.2</td>\n",
       "      <td>173</td>\n",
       "    </tr>\n",
       "    <tr>\n",
       "      <th>3</th>\n",
       "      <td>B_jararaca</td>\n",
       "      <td>RJ_serra</td>\n",
       "      <td>Female</td>\n",
       "      <td>23</td>\n",
       "      <td>144</td>\n",
       "      <td>31.0</td>\n",
       "      <td>51.0</td>\n",
       "      <td>23.2</td>\n",
       "      <td>173</td>\n",
       "    </tr>\n",
       "    <tr>\n",
       "      <th>4</th>\n",
       "      <td>B_jararaca</td>\n",
       "      <td>RJ_serra</td>\n",
       "      <td>Female</td>\n",
       "      <td>25</td>\n",
       "      <td>143</td>\n",
       "      <td>30.0</td>\n",
       "      <td>41.0</td>\n",
       "      <td>24.4</td>\n",
       "      <td>59</td>\n",
       "    </tr>\n",
       "  </tbody>\n",
       "</table>\n",
       "</div>"
      ],
      "text/plain": [
       "      species population     sex  RDS   VS    HL   TaL  temperature  elevation\n",
       "0  B_jararaca   RJ_serra  Female   23  144  25.0  34.0         20.3        894\n",
       "1  B_jararaca   RJ_serra  Female   23  145  25.0  43.0         20.3        894\n",
       "2  B_jararaca   RJ_serra  Female   23  144  17.0  18.0         23.2        173\n",
       "3  B_jararaca   RJ_serra  Female   23  144  31.0  51.0         23.2        173\n",
       "4  B_jararaca   RJ_serra  Female   25  143  30.0  41.0         24.4         59"
      ]
     },
     "execution_count": 7,
     "metadata": {},
     "output_type": "execute_result"
    }
   ],
   "source": [
    "df.head()"
   ]
  },
  {
   "cell_type": "code",
   "execution_count": 8,
   "metadata": {},
   "outputs": [
    {
     "data": {
      "text/html": [
       "<div>\n",
       "<style scoped>\n",
       "    .dataframe tbody tr th:only-of-type {\n",
       "        vertical-align: middle;\n",
       "    }\n",
       "\n",
       "    .dataframe tbody tr th {\n",
       "        vertical-align: top;\n",
       "    }\n",
       "\n",
       "    .dataframe thead th {\n",
       "        text-align: right;\n",
       "    }\n",
       "</style>\n",
       "<table border=\"1\" class=\"dataframe\">\n",
       "  <thead>\n",
       "    <tr style=\"text-align: right;\">\n",
       "      <th></th>\n",
       "      <th>species</th>\n",
       "      <th>population</th>\n",
       "      <th>sex</th>\n",
       "      <th>RDS</th>\n",
       "      <th>VS</th>\n",
       "      <th>HL</th>\n",
       "      <th>TaL</th>\n",
       "      <th>temperature</th>\n",
       "      <th>elevation</th>\n",
       "    </tr>\n",
       "  </thead>\n",
       "  <tbody>\n",
       "    <tr>\n",
       "      <th>235</th>\n",
       "      <td>B_new</td>\n",
       "      <td>Colombia</td>\n",
       "      <td>Female</td>\n",
       "      <td>25</td>\n",
       "      <td>145</td>\n",
       "      <td>32.0</td>\n",
       "      <td>53.0</td>\n",
       "      <td>21.5</td>\n",
       "      <td>1173</td>\n",
       "    </tr>\n",
       "    <tr>\n",
       "      <th>236</th>\n",
       "      <td>B_new</td>\n",
       "      <td>Colombia</td>\n",
       "      <td>Female</td>\n",
       "      <td>25</td>\n",
       "      <td>146</td>\n",
       "      <td>29.0</td>\n",
       "      <td>42.0</td>\n",
       "      <td>21.5</td>\n",
       "      <td>1173</td>\n",
       "    </tr>\n",
       "    <tr>\n",
       "      <th>237</th>\n",
       "      <td>B_new</td>\n",
       "      <td>Colombia</td>\n",
       "      <td>Female</td>\n",
       "      <td>23</td>\n",
       "      <td>146</td>\n",
       "      <td>29.0</td>\n",
       "      <td>43.0</td>\n",
       "      <td>26.0</td>\n",
       "      <td>587</td>\n",
       "    </tr>\n",
       "    <tr>\n",
       "      <th>238</th>\n",
       "      <td>B_new</td>\n",
       "      <td>Colombia</td>\n",
       "      <td>Female</td>\n",
       "      <td>23</td>\n",
       "      <td>150</td>\n",
       "      <td>36.0</td>\n",
       "      <td>50.0</td>\n",
       "      <td>22.0</td>\n",
       "      <td>1065</td>\n",
       "    </tr>\n",
       "    <tr>\n",
       "      <th>239</th>\n",
       "      <td>B_new</td>\n",
       "      <td>Colombia</td>\n",
       "      <td>Female</td>\n",
       "      <td>23</td>\n",
       "      <td>147</td>\n",
       "      <td>30.0</td>\n",
       "      <td>50.0</td>\n",
       "      <td>21.5</td>\n",
       "      <td>1176</td>\n",
       "    </tr>\n",
       "  </tbody>\n",
       "</table>\n",
       "</div>"
      ],
      "text/plain": [
       "    species population     sex  RDS   VS    HL   TaL  temperature  elevation\n",
       "235   B_new   Colombia  Female   25  145  32.0  53.0         21.5       1173\n",
       "236   B_new   Colombia  Female   25  146  29.0  42.0         21.5       1173\n",
       "237   B_new   Colombia  Female   23  146  29.0  43.0         26.0        587\n",
       "238   B_new   Colombia  Female   23  150  36.0  50.0         22.0       1065\n",
       "239   B_new   Colombia  Female   23  147  30.0  50.0         21.5       1176"
      ]
     },
     "execution_count": 8,
     "metadata": {},
     "output_type": "execute_result"
    }
   ],
   "source": [
    "df.tail()"
   ]
  },
  {
   "cell_type": "code",
   "execution_count": 9,
   "metadata": {},
   "outputs": [
    {
     "data": {
      "text/plain": [
       "Index(['species', 'population', 'sex', 'RDS', 'VS', 'HL', 'TaL', 'temperature',\n",
       "       'elevation'],\n",
       "      dtype='object')"
      ]
     },
     "execution_count": 9,
     "metadata": {},
     "output_type": "execute_result"
    }
   ],
   "source": [
    "df.columns"
   ]
  },
  {
   "cell_type": "markdown",
   "metadata": {},
   "source": [
    "###  Columns\n",
    "  - sex - genero\n",
    "  - RDS - half body number scales\n",
    "  - VS  - Ventral scales\n",
    "  - HL  - head length\n",
    "  - TaL - tail length\n",
    "  - temperature - graus Celsius\n",
    "  - elevation - altitude (m)"
   ]
  },
  {
   "cell_type": "markdown",
   "metadata": {},
   "source": [
    "### Quantas espécies?"
   ]
  },
  {
   "cell_type": "code",
   "execution_count": 10,
   "metadata": {},
   "outputs": [
    {
     "data": {
      "text/plain": [
       "(3, array(['B_jararaca', 'B_terrificus', 'B_new'], dtype=object))"
      ]
     },
     "execution_count": 10,
     "metadata": {},
     "output_type": "execute_result"
    }
   ],
   "source": [
    "specList = df.species.unique()\n",
    "len(specList), specList"
   ]
  },
  {
   "cell_type": "markdown",
   "metadata": {},
   "source": [
    "### Quantas regiões?"
   ]
  },
  {
   "cell_type": "code",
   "execution_count": 11,
   "metadata": {},
   "outputs": [
    {
     "data": {
      "text/plain": [
       "(9,\n",
       " array(['RJ_serra', 'RJ_costa', 'Chile_costa', 'Chile_serra',\n",
       "        'SP_planalto', 'SP_costa', 'Nordeste', 'Centro-oeste', 'Colombia'],\n",
       "       dtype=object))"
      ]
     },
     "execution_count": 11,
     "metadata": {},
     "output_type": "execute_result"
    }
   ],
   "source": [
    "popList = df.population.unique()\n",
    "len(popList), popList"
   ]
  },
  {
   "cell_type": "code",
   "execution_count": null,
   "metadata": {},
   "outputs": [],
   "source": []
  }
 ],
 "metadata": {
  "kernelspec": {
   "display_name": "Python 3",
   "language": "python",
   "name": "python3"
  },
  "language_info": {
   "codemirror_mode": {
    "name": "ipython",
    "version": 3
   },
   "file_extension": ".py",
   "mimetype": "text/x-python",
   "name": "python",
   "nbconvert_exporter": "python",
   "pygments_lexer": "ipython3",
   "version": "3.7.7"
  }
 },
 "nbformat": 4,
 "nbformat_minor": 4
}
