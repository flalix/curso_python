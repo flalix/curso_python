{
 "cells": [
  {
   "cell_type": "markdown",
   "metadata": {},
   "source": [
    "## Lendo arquivo formatados em Excel\n",
    "  - Formatado: todo ele tem m colunas uniformes\n",
    "  - Nã formatado: tem estruturas de colunas distintas que precisam ser lidas separamente\n",
    "  \n",
    "### Um arquivo excel pode ser:\n",
    "  - xls ou xlsx\n",
    "  - uma aba, ou multi-abas\n",
    "\n",
    "### Deu um erro ao tentar ler Excel com Pandas:\n",
    "  - XLRDError"
   ]
  },
  {
   "cell_type": "code",
   "execution_count": 1,
   "metadata": {},
   "outputs": [],
   "source": [
    "import os\n",
    "# se o pandas, abaixo, não consegui ler o arquivo Excel, é por que falta o pacote XLRD\n",
    "# remova o comentário na frente de os.system(), e corra esta célula\n",
    "\n",
    "# os.system(\"conda install -c anaconda xlrd\")"
   ]
  },
  {
   "cell_type": "code",
   "execution_count": 2,
   "metadata": {},
   "outputs": [],
   "source": [
    "import os, sys\n",
    "import numpy as np\n",
    "import pandas as pd\n",
    "\n",
    "import matplotlib.pyplot as plt # matplotlib e seu alias plt\n",
    "%matplotlib inline"
   ]
  },
  {
   "cell_type": "code",
   "execution_count": 3,
   "metadata": {},
   "outputs": [],
   "source": [
    "root_data = '../data/'\n",
    "# alguém me mando este arquivo\n",
    "filename = 'Snake Morphotaxonomy.xlsx'"
   ]
  },
  {
   "cell_type": "markdown",
   "metadata": {},
   "source": [
    "### A maneira correta de juntar path + filename"
   ]
  },
  {
   "cell_type": "code",
   "execution_count": 4,
   "metadata": {},
   "outputs": [
    {
     "name": "stdout",
     "output_type": "stream",
     "text": [
      "../data/Snake Morphotaxonomy.xlsx\n"
     ]
    },
    {
     "data": {
      "text/plain": [
       "True"
      ]
     },
     "execution_count": 4,
     "metadata": {},
     "output_type": "execute_result"
    }
   ],
   "source": [
    "fullpath = os.path.join(root_data, filename)\n",
    "print(fullpath)\n",
    "os.path.exists(fullpath)"
   ]
  },
  {
   "cell_type": "markdown",
   "metadata": {},
   "source": [
    "### Lendo direto, tabela formatada, com 1 só aba"
   ]
  },
  {
   "cell_type": "code",
   "execution_count": 5,
   "metadata": {},
   "outputs": [
    {
     "name": "stdout",
     "output_type": "stream",
     "text": [
      "Read '../data/Snake Morphotaxonomy.xlsx'\n"
     ]
    }
   ],
   "source": [
    "try:\n",
    "    df = pd.read_excel(fullpath)\n",
    "    print(\"Read '%s'\"%fullpath)\n",
    "except:\n",
    "    print(\"Could not read '%s'\"%fullpath)"
   ]
  },
  {
   "cell_type": "code",
   "execution_count": 6,
   "metadata": {},
   "outputs": [
    {
     "data": {
      "text/html": [
       "<div>\n",
       "<style scoped>\n",
       "    .dataframe tbody tr th:only-of-type {\n",
       "        vertical-align: middle;\n",
       "    }\n",
       "\n",
       "    .dataframe tbody tr th {\n",
       "        vertical-align: top;\n",
       "    }\n",
       "\n",
       "    .dataframe thead th {\n",
       "        text-align: right;\n",
       "    }\n",
       "</style>\n",
       "<table border=\"1\" class=\"dataframe\">\n",
       "  <thead>\n",
       "    <tr style=\"text-align: right;\">\n",
       "      <th></th>\n",
       "      <th>species</th>\n",
       "      <th>population</th>\n",
       "      <th>sex</th>\n",
       "      <th>RDS</th>\n",
       "      <th>VS</th>\n",
       "      <th>HL</th>\n",
       "      <th>TaL</th>\n",
       "      <th>temperature</th>\n",
       "      <th>elevation</th>\n",
       "    </tr>\n",
       "  </thead>\n",
       "  <tbody>\n",
       "    <tr>\n",
       "      <th>0</th>\n",
       "      <td>B_jararaca</td>\n",
       "      <td>RJ_serra</td>\n",
       "      <td>Female</td>\n",
       "      <td>23</td>\n",
       "      <td>144</td>\n",
       "      <td>25.0</td>\n",
       "      <td>34.0</td>\n",
       "      <td>20.3</td>\n",
       "      <td>894</td>\n",
       "    </tr>\n",
       "    <tr>\n",
       "      <th>1</th>\n",
       "      <td>B_jararaca</td>\n",
       "      <td>RJ_serra</td>\n",
       "      <td>Female</td>\n",
       "      <td>23</td>\n",
       "      <td>145</td>\n",
       "      <td>25.0</td>\n",
       "      <td>43.0</td>\n",
       "      <td>20.3</td>\n",
       "      <td>894</td>\n",
       "    </tr>\n",
       "    <tr>\n",
       "      <th>2</th>\n",
       "      <td>B_jararaca</td>\n",
       "      <td>RJ_serra</td>\n",
       "      <td>Female</td>\n",
       "      <td>23</td>\n",
       "      <td>144</td>\n",
       "      <td>17.0</td>\n",
       "      <td>18.0</td>\n",
       "      <td>23.2</td>\n",
       "      <td>173</td>\n",
       "    </tr>\n",
       "    <tr>\n",
       "      <th>3</th>\n",
       "      <td>B_jararaca</td>\n",
       "      <td>RJ_serra</td>\n",
       "      <td>Female</td>\n",
       "      <td>23</td>\n",
       "      <td>144</td>\n",
       "      <td>31.0</td>\n",
       "      <td>51.0</td>\n",
       "      <td>23.2</td>\n",
       "      <td>173</td>\n",
       "    </tr>\n",
       "    <tr>\n",
       "      <th>4</th>\n",
       "      <td>B_jararaca</td>\n",
       "      <td>RJ_serra</td>\n",
       "      <td>Female</td>\n",
       "      <td>25</td>\n",
       "      <td>143</td>\n",
       "      <td>30.0</td>\n",
       "      <td>41.0</td>\n",
       "      <td>24.4</td>\n",
       "      <td>59</td>\n",
       "    </tr>\n",
       "  </tbody>\n",
       "</table>\n",
       "</div>"
      ],
      "text/plain": [
       "      species population     sex  RDS   VS    HL   TaL  temperature  elevation\n",
       "0  B_jararaca   RJ_serra  Female   23  144  25.0  34.0         20.3        894\n",
       "1  B_jararaca   RJ_serra  Female   23  145  25.0  43.0         20.3        894\n",
       "2  B_jararaca   RJ_serra  Female   23  144  17.0  18.0         23.2        173\n",
       "3  B_jararaca   RJ_serra  Female   23  144  31.0  51.0         23.2        173\n",
       "4  B_jararaca   RJ_serra  Female   25  143  30.0  41.0         24.4         59"
      ]
     },
     "execution_count": 6,
     "metadata": {},
     "output_type": "execute_result"
    }
   ],
   "source": [
    "df.head()"
   ]
  },
  {
   "cell_type": "code",
   "execution_count": 7,
   "metadata": {},
   "outputs": [
    {
     "data": {
      "text/html": [
       "<div>\n",
       "<style scoped>\n",
       "    .dataframe tbody tr th:only-of-type {\n",
       "        vertical-align: middle;\n",
       "    }\n",
       "\n",
       "    .dataframe tbody tr th {\n",
       "        vertical-align: top;\n",
       "    }\n",
       "\n",
       "    .dataframe thead th {\n",
       "        text-align: right;\n",
       "    }\n",
       "</style>\n",
       "<table border=\"1\" class=\"dataframe\">\n",
       "  <thead>\n",
       "    <tr style=\"text-align: right;\">\n",
       "      <th></th>\n",
       "      <th>species</th>\n",
       "      <th>population</th>\n",
       "      <th>sex</th>\n",
       "      <th>RDS</th>\n",
       "      <th>VS</th>\n",
       "      <th>HL</th>\n",
       "      <th>TaL</th>\n",
       "      <th>temperature</th>\n",
       "      <th>elevation</th>\n",
       "    </tr>\n",
       "  </thead>\n",
       "  <tbody>\n",
       "    <tr>\n",
       "      <th>235</th>\n",
       "      <td>B_new</td>\n",
       "      <td>Colombia</td>\n",
       "      <td>Female</td>\n",
       "      <td>25</td>\n",
       "      <td>145</td>\n",
       "      <td>32.0</td>\n",
       "      <td>53.0</td>\n",
       "      <td>21.5</td>\n",
       "      <td>1173</td>\n",
       "    </tr>\n",
       "    <tr>\n",
       "      <th>236</th>\n",
       "      <td>B_new</td>\n",
       "      <td>Colombia</td>\n",
       "      <td>Female</td>\n",
       "      <td>25</td>\n",
       "      <td>146</td>\n",
       "      <td>29.0</td>\n",
       "      <td>42.0</td>\n",
       "      <td>21.5</td>\n",
       "      <td>1173</td>\n",
       "    </tr>\n",
       "    <tr>\n",
       "      <th>237</th>\n",
       "      <td>B_new</td>\n",
       "      <td>Colombia</td>\n",
       "      <td>Female</td>\n",
       "      <td>23</td>\n",
       "      <td>146</td>\n",
       "      <td>29.0</td>\n",
       "      <td>43.0</td>\n",
       "      <td>26.0</td>\n",
       "      <td>587</td>\n",
       "    </tr>\n",
       "    <tr>\n",
       "      <th>238</th>\n",
       "      <td>B_new</td>\n",
       "      <td>Colombia</td>\n",
       "      <td>Female</td>\n",
       "      <td>23</td>\n",
       "      <td>150</td>\n",
       "      <td>36.0</td>\n",
       "      <td>50.0</td>\n",
       "      <td>22.0</td>\n",
       "      <td>1065</td>\n",
       "    </tr>\n",
       "    <tr>\n",
       "      <th>239</th>\n",
       "      <td>B_new</td>\n",
       "      <td>Colombia</td>\n",
       "      <td>Female</td>\n",
       "      <td>23</td>\n",
       "      <td>147</td>\n",
       "      <td>30.0</td>\n",
       "      <td>50.0</td>\n",
       "      <td>21.5</td>\n",
       "      <td>1176</td>\n",
       "    </tr>\n",
       "  </tbody>\n",
       "</table>\n",
       "</div>"
      ],
      "text/plain": [
       "    species population     sex  RDS   VS    HL   TaL  temperature  elevation\n",
       "235   B_new   Colombia  Female   25  145  32.0  53.0         21.5       1173\n",
       "236   B_new   Colombia  Female   25  146  29.0  42.0         21.5       1173\n",
       "237   B_new   Colombia  Female   23  146  29.0  43.0         26.0        587\n",
       "238   B_new   Colombia  Female   23  150  36.0  50.0         22.0       1065\n",
       "239   B_new   Colombia  Female   23  147  30.0  50.0         21.5       1176"
      ]
     },
     "execution_count": 7,
     "metadata": {},
     "output_type": "execute_result"
    }
   ],
   "source": [
    "df.tail()"
   ]
  },
  {
   "cell_type": "code",
   "execution_count": null,
   "metadata": {},
   "outputs": [],
   "source": [
    "df.columns"
   ]
  },
  {
   "cell_type": "markdown",
   "metadata": {},
   "source": [
    "###  Columns\n",
    "  - sex - genero\n",
    "  - RDS - half body number scales\n",
    "  - VS  - Ventral scales\n",
    "  - HL  - head length\n",
    "  - TaL - tail length\n",
    "  - temperature - graus Celsius\n",
    "  - elevation - altitude (m)"
   ]
  },
  {
   "cell_type": "markdown",
   "metadata": {},
   "source": [
    "### Quantas espécies?\n",
    "\n",
    "df.\\<coluna>.unique()"
   ]
  },
  {
   "cell_type": "code",
   "execution_count": 9,
   "metadata": {},
   "outputs": [
    {
     "data": {
      "text/plain": [
       "(3, ['B_jararaca', 'B_terrificus', 'B_new'])"
      ]
     },
     "execution_count": 9,
     "metadata": {},
     "output_type": "execute_result"
    }
   ],
   "source": [
    "specList = df.species.unique()\n",
    "len(specList), list(specList)"
   ]
  },
  {
   "cell_type": "markdown",
   "metadata": {},
   "source": [
    "### Quantas regiões?"
   ]
  },
  {
   "cell_type": "code",
   "execution_count": 10,
   "metadata": {},
   "outputs": [
    {
     "data": {
      "text/plain": [
       "(9,\n",
       " ['RJ_serra',\n",
       "  'RJ_costa',\n",
       "  'Chile_costa',\n",
       "  'Chile_serra',\n",
       "  'SP_planalto',\n",
       "  'SP_costa',\n",
       "  'Nordeste',\n",
       "  'Centro-oeste',\n",
       "  'Colombia'])"
      ]
     },
     "execution_count": 10,
     "metadata": {},
     "output_type": "execute_result"
    }
   ],
   "source": [
    "popList = df.population.unique()\n",
    "len(popList), list(popList)"
   ]
  },
  {
   "cell_type": "markdown",
   "metadata": {},
   "source": [
    "### Estatística clássica descritiva\n",
    "\n",
    "  - média, ssd, count (n), se, median, max, min\n",
    "  - summary() or describe()\n",
    "\n",
    "  - parâmetros:\n",
    "    - mu = $\\mu$ = média populacional\n",
    "    - sigma = $\\sigma$ = standard deviation populacional\n",
    "\n",
    "    - mu = sample mean\n",
    "    - ssd = desvio padrão amostral (*sample standard error*)\n",
    "    - **se ou sem** = desvio padrão da média (standard error of the mean)"
   ]
  },
  {
   "cell_type": "code",
   "execution_count": 12,
   "metadata": {},
   "outputs": [
    {
     "name": "stdout",
     "output_type": "stream",
     "text": [
      "['species', 'population', 'sex', 'RDS', 'VS', 'HL', 'TaL', 'temperature', 'elevation']\n"
     ]
    },
    {
     "data": {
      "text/html": [
       "<div>\n",
       "<style scoped>\n",
       "    .dataframe tbody tr th:only-of-type {\n",
       "        vertical-align: middle;\n",
       "    }\n",
       "\n",
       "    .dataframe tbody tr th {\n",
       "        vertical-align: top;\n",
       "    }\n",
       "\n",
       "    .dataframe thead th {\n",
       "        text-align: right;\n",
       "    }\n",
       "</style>\n",
       "<table border=\"1\" class=\"dataframe\">\n",
       "  <thead>\n",
       "    <tr style=\"text-align: right;\">\n",
       "      <th></th>\n",
       "      <th>species</th>\n",
       "      <th>population</th>\n",
       "      <th>sex</th>\n",
       "      <th>RDS</th>\n",
       "      <th>VS</th>\n",
       "      <th>HL</th>\n",
       "      <th>TaL</th>\n",
       "      <th>temperature</th>\n",
       "      <th>elevation</th>\n",
       "    </tr>\n",
       "  </thead>\n",
       "  <tbody>\n",
       "    <tr>\n",
       "      <th>0</th>\n",
       "      <td>B_jararaca</td>\n",
       "      <td>RJ_serra</td>\n",
       "      <td>Female</td>\n",
       "      <td>23</td>\n",
       "      <td>144</td>\n",
       "      <td>25.0</td>\n",
       "      <td>34.0</td>\n",
       "      <td>20.3</td>\n",
       "      <td>894</td>\n",
       "    </tr>\n",
       "    <tr>\n",
       "      <th>1</th>\n",
       "      <td>B_jararaca</td>\n",
       "      <td>RJ_serra</td>\n",
       "      <td>Female</td>\n",
       "      <td>23</td>\n",
       "      <td>145</td>\n",
       "      <td>25.0</td>\n",
       "      <td>43.0</td>\n",
       "      <td>20.3</td>\n",
       "      <td>894</td>\n",
       "    </tr>\n",
       "    <tr>\n",
       "      <th>2</th>\n",
       "      <td>B_jararaca</td>\n",
       "      <td>RJ_serra</td>\n",
       "      <td>Female</td>\n",
       "      <td>23</td>\n",
       "      <td>144</td>\n",
       "      <td>17.0</td>\n",
       "      <td>18.0</td>\n",
       "      <td>23.2</td>\n",
       "      <td>173</td>\n",
       "    </tr>\n",
       "    <tr>\n",
       "      <th>3</th>\n",
       "      <td>B_jararaca</td>\n",
       "      <td>RJ_serra</td>\n",
       "      <td>Female</td>\n",
       "      <td>23</td>\n",
       "      <td>144</td>\n",
       "      <td>31.0</td>\n",
       "      <td>51.0</td>\n",
       "      <td>23.2</td>\n",
       "      <td>173</td>\n",
       "    </tr>\n",
       "    <tr>\n",
       "      <th>4</th>\n",
       "      <td>B_jararaca</td>\n",
       "      <td>RJ_serra</td>\n",
       "      <td>Female</td>\n",
       "      <td>25</td>\n",
       "      <td>143</td>\n",
       "      <td>30.0</td>\n",
       "      <td>41.0</td>\n",
       "      <td>24.4</td>\n",
       "      <td>59</td>\n",
       "    </tr>\n",
       "  </tbody>\n",
       "</table>\n",
       "</div>"
      ],
      "text/plain": [
       "      species population     sex  RDS   VS    HL   TaL  temperature  elevation\n",
       "0  B_jararaca   RJ_serra  Female   23  144  25.0  34.0         20.3        894\n",
       "1  B_jararaca   RJ_serra  Female   23  145  25.0  43.0         20.3        894\n",
       "2  B_jararaca   RJ_serra  Female   23  144  17.0  18.0         23.2        173\n",
       "3  B_jararaca   RJ_serra  Female   23  144  31.0  51.0         23.2        173\n",
       "4  B_jararaca   RJ_serra  Female   25  143  30.0  41.0         24.4         59"
      ]
     },
     "execution_count": 12,
     "metadata": {},
     "output_type": "execute_result"
    }
   ],
   "source": [
    "print(list(df.columns))\n",
    "df.head()"
   ]
  },
  {
   "cell_type": "markdown",
   "metadata": {},
   "source": [
    "### O pandas.describe() só usa colunas numéricas"
   ]
  },
  {
   "cell_type": "code",
   "execution_count": 13,
   "metadata": {},
   "outputs": [
    {
     "data": {
      "text/html": [
       "<div>\n",
       "<style scoped>\n",
       "    .dataframe tbody tr th:only-of-type {\n",
       "        vertical-align: middle;\n",
       "    }\n",
       "\n",
       "    .dataframe tbody tr th {\n",
       "        vertical-align: top;\n",
       "    }\n",
       "\n",
       "    .dataframe thead th {\n",
       "        text-align: right;\n",
       "    }\n",
       "</style>\n",
       "<table border=\"1\" class=\"dataframe\">\n",
       "  <thead>\n",
       "    <tr style=\"text-align: right;\">\n",
       "      <th></th>\n",
       "      <th>RDS</th>\n",
       "      <th>VS</th>\n",
       "      <th>HL</th>\n",
       "      <th>TaL</th>\n",
       "      <th>temperature</th>\n",
       "      <th>elevation</th>\n",
       "    </tr>\n",
       "  </thead>\n",
       "  <tbody>\n",
       "    <tr>\n",
       "      <th>count</th>\n",
       "      <td>240.000000</td>\n",
       "      <td>240.000000</td>\n",
       "      <td>240.000000</td>\n",
       "      <td>240.000000</td>\n",
       "      <td>240.000000</td>\n",
       "      <td>240.000000</td>\n",
       "    </tr>\n",
       "    <tr>\n",
       "      <th>mean</th>\n",
       "      <td>23.925000</td>\n",
       "      <td>147.116667</td>\n",
       "      <td>25.305375</td>\n",
       "      <td>40.146250</td>\n",
       "      <td>24.801250</td>\n",
       "      <td>355.983333</td>\n",
       "    </tr>\n",
       "    <tr>\n",
       "      <th>std</th>\n",
       "      <td>1.186835</td>\n",
       "      <td>9.095664</td>\n",
       "      <td>7.451746</td>\n",
       "      <td>13.287027</td>\n",
       "      <td>2.816783</td>\n",
       "      <td>435.795372</td>\n",
       "    </tr>\n",
       "    <tr>\n",
       "      <th>min</th>\n",
       "      <td>21.000000</td>\n",
       "      <td>130.000000</td>\n",
       "      <td>11.000000</td>\n",
       "      <td>12.000000</td>\n",
       "      <td>9.100000</td>\n",
       "      <td>0.000000</td>\n",
       "    </tr>\n",
       "    <tr>\n",
       "      <th>25%</th>\n",
       "      <td>23.000000</td>\n",
       "      <td>139.000000</td>\n",
       "      <td>19.000000</td>\n",
       "      <td>26.750000</td>\n",
       "      <td>22.900000</td>\n",
       "      <td>50.000000</td>\n",
       "    </tr>\n",
       "    <tr>\n",
       "      <th>50%</th>\n",
       "      <td>23.000000</td>\n",
       "      <td>146.000000</td>\n",
       "      <td>26.000000</td>\n",
       "      <td>43.000000</td>\n",
       "      <td>25.600000</td>\n",
       "      <td>80.000000</td>\n",
       "    </tr>\n",
       "    <tr>\n",
       "      <th>75%</th>\n",
       "      <td>25.000000</td>\n",
       "      <td>155.000000</td>\n",
       "      <td>31.000000</td>\n",
       "      <td>51.000000</td>\n",
       "      <td>27.000000</td>\n",
       "      <td>761.000000</td>\n",
       "    </tr>\n",
       "    <tr>\n",
       "      <th>max</th>\n",
       "      <td>27.000000</td>\n",
       "      <td>166.000000</td>\n",
       "      <td>44.000000</td>\n",
       "      <td>73.000000</td>\n",
       "      <td>30.000000</td>\n",
       "      <td>1432.000000</td>\n",
       "    </tr>\n",
       "  </tbody>\n",
       "</table>\n",
       "</div>"
      ],
      "text/plain": [
       "              RDS          VS          HL         TaL  temperature  \\\n",
       "count  240.000000  240.000000  240.000000  240.000000   240.000000   \n",
       "mean    23.925000  147.116667   25.305375   40.146250    24.801250   \n",
       "std      1.186835    9.095664    7.451746   13.287027     2.816783   \n",
       "min     21.000000  130.000000   11.000000   12.000000     9.100000   \n",
       "25%     23.000000  139.000000   19.000000   26.750000    22.900000   \n",
       "50%     23.000000  146.000000   26.000000   43.000000    25.600000   \n",
       "75%     25.000000  155.000000   31.000000   51.000000    27.000000   \n",
       "max     27.000000  166.000000   44.000000   73.000000    30.000000   \n",
       "\n",
       "         elevation  \n",
       "count   240.000000  \n",
       "mean    355.983333  \n",
       "std     435.795372  \n",
       "min       0.000000  \n",
       "25%      50.000000  \n",
       "50%      80.000000  \n",
       "75%     761.000000  \n",
       "max    1432.000000  "
      ]
     },
     "execution_count": 13,
     "metadata": {},
     "output_type": "execute_result"
    }
   ],
   "source": [
    "df.describe()"
   ]
  },
  {
   "cell_type": "code",
   "execution_count": 15,
   "metadata": {},
   "outputs": [
    {
     "data": {
      "text/plain": [
       "array(['Female'], dtype=object)"
      ]
     },
     "execution_count": 15,
     "metadata": {},
     "output_type": "execute_result"
    }
   ],
   "source": [
    "#-- nesta tabela só tem fêmeas\n",
    "df.sex.unique()"
   ]
  },
  {
   "cell_type": "markdown",
   "metadata": {},
   "source": [
    "### Repare que há 240 linhas (indivíduos)\n",
    "  - vamos supor que as 100 primeiras o pesquisador se equivocou e disse que são machos\n",
    "  - qual a porcentagem de machos e fêmeas?\n",
    "  \n",
    "sabemos que,"
   ]
  },
  {
   "cell_type": "code",
   "execution_count": 16,
   "metadata": {},
   "outputs": [
    {
     "data": {
      "text/plain": [
       "['male', 'male', 'male']"
      ]
     },
     "execution_count": 16,
     "metadata": {},
     "output_type": "execute_result"
    }
   ],
   "source": [
    "['male']*3"
   ]
  },
  {
   "cell_type": "code",
   "execution_count": 17,
   "metadata": {},
   "outputs": [],
   "source": [
    "df.sex = ['male']*100 + ['female'] * 140"
   ]
  },
  {
   "cell_type": "code",
   "execution_count": 18,
   "metadata": {},
   "outputs": [
    {
     "data": {
      "text/html": [
       "<div>\n",
       "<style scoped>\n",
       "    .dataframe tbody tr th:only-of-type {\n",
       "        vertical-align: middle;\n",
       "    }\n",
       "\n",
       "    .dataframe tbody tr th {\n",
       "        vertical-align: top;\n",
       "    }\n",
       "\n",
       "    .dataframe thead th {\n",
       "        text-align: right;\n",
       "    }\n",
       "</style>\n",
       "<table border=\"1\" class=\"dataframe\">\n",
       "  <thead>\n",
       "    <tr style=\"text-align: right;\">\n",
       "      <th></th>\n",
       "      <th>species</th>\n",
       "      <th>population</th>\n",
       "      <th>sex</th>\n",
       "      <th>RDS</th>\n",
       "      <th>VS</th>\n",
       "      <th>HL</th>\n",
       "      <th>TaL</th>\n",
       "      <th>temperature</th>\n",
       "      <th>elevation</th>\n",
       "    </tr>\n",
       "  </thead>\n",
       "  <tbody>\n",
       "    <tr>\n",
       "      <th>0</th>\n",
       "      <td>B_jararaca</td>\n",
       "      <td>RJ_serra</td>\n",
       "      <td>male</td>\n",
       "      <td>23</td>\n",
       "      <td>144</td>\n",
       "      <td>25.0</td>\n",
       "      <td>34.0</td>\n",
       "      <td>20.3</td>\n",
       "      <td>894</td>\n",
       "    </tr>\n",
       "    <tr>\n",
       "      <th>1</th>\n",
       "      <td>B_jararaca</td>\n",
       "      <td>RJ_serra</td>\n",
       "      <td>male</td>\n",
       "      <td>23</td>\n",
       "      <td>145</td>\n",
       "      <td>25.0</td>\n",
       "      <td>43.0</td>\n",
       "      <td>20.3</td>\n",
       "      <td>894</td>\n",
       "    </tr>\n",
       "    <tr>\n",
       "      <th>2</th>\n",
       "      <td>B_jararaca</td>\n",
       "      <td>RJ_serra</td>\n",
       "      <td>male</td>\n",
       "      <td>23</td>\n",
       "      <td>144</td>\n",
       "      <td>17.0</td>\n",
       "      <td>18.0</td>\n",
       "      <td>23.2</td>\n",
       "      <td>173</td>\n",
       "    </tr>\n",
       "  </tbody>\n",
       "</table>\n",
       "</div>"
      ],
      "text/plain": [
       "      species population   sex  RDS   VS    HL   TaL  temperature  elevation\n",
       "0  B_jararaca   RJ_serra  male   23  144  25.0  34.0         20.3        894\n",
       "1  B_jararaca   RJ_serra  male   23  145  25.0  43.0         20.3        894\n",
       "2  B_jararaca   RJ_serra  male   23  144  17.0  18.0         23.2        173"
      ]
     },
     "execution_count": 18,
     "metadata": {},
     "output_type": "execute_result"
    }
   ],
   "source": [
    "df.head(3)"
   ]
  },
  {
   "cell_type": "code",
   "execution_count": 19,
   "metadata": {},
   "outputs": [
    {
     "data": {
      "text/html": [
       "<div>\n",
       "<style scoped>\n",
       "    .dataframe tbody tr th:only-of-type {\n",
       "        vertical-align: middle;\n",
       "    }\n",
       "\n",
       "    .dataframe tbody tr th {\n",
       "        vertical-align: top;\n",
       "    }\n",
       "\n",
       "    .dataframe thead th {\n",
       "        text-align: right;\n",
       "    }\n",
       "</style>\n",
       "<table border=\"1\" class=\"dataframe\">\n",
       "  <thead>\n",
       "    <tr style=\"text-align: right;\">\n",
       "      <th></th>\n",
       "      <th>species</th>\n",
       "      <th>population</th>\n",
       "      <th>sex</th>\n",
       "      <th>RDS</th>\n",
       "      <th>VS</th>\n",
       "      <th>HL</th>\n",
       "      <th>TaL</th>\n",
       "      <th>temperature</th>\n",
       "      <th>elevation</th>\n",
       "    </tr>\n",
       "  </thead>\n",
       "  <tbody>\n",
       "    <tr>\n",
       "      <th>237</th>\n",
       "      <td>B_new</td>\n",
       "      <td>Colombia</td>\n",
       "      <td>female</td>\n",
       "      <td>23</td>\n",
       "      <td>146</td>\n",
       "      <td>29.0</td>\n",
       "      <td>43.0</td>\n",
       "      <td>26.0</td>\n",
       "      <td>587</td>\n",
       "    </tr>\n",
       "    <tr>\n",
       "      <th>238</th>\n",
       "      <td>B_new</td>\n",
       "      <td>Colombia</td>\n",
       "      <td>female</td>\n",
       "      <td>23</td>\n",
       "      <td>150</td>\n",
       "      <td>36.0</td>\n",
       "      <td>50.0</td>\n",
       "      <td>22.0</td>\n",
       "      <td>1065</td>\n",
       "    </tr>\n",
       "    <tr>\n",
       "      <th>239</th>\n",
       "      <td>B_new</td>\n",
       "      <td>Colombia</td>\n",
       "      <td>female</td>\n",
       "      <td>23</td>\n",
       "      <td>147</td>\n",
       "      <td>30.0</td>\n",
       "      <td>50.0</td>\n",
       "      <td>21.5</td>\n",
       "      <td>1176</td>\n",
       "    </tr>\n",
       "  </tbody>\n",
       "</table>\n",
       "</div>"
      ],
      "text/plain": [
       "    species population     sex  RDS   VS    HL   TaL  temperature  elevation\n",
       "237   B_new   Colombia  female   23  146  29.0  43.0         26.0        587\n",
       "238   B_new   Colombia  female   23  150  36.0  50.0         22.0       1065\n",
       "239   B_new   Colombia  female   23  147  30.0  50.0         21.5       1176"
      ]
     },
     "execution_count": 19,
     "metadata": {},
     "output_type": "execute_result"
    }
   ],
   "source": [
    "df.tail(3)"
   ]
  },
  {
   "cell_type": "markdown",
   "metadata": {},
   "source": [
    "### Qual a porcentagem de machos e de fêmeas?\n",
    "  - vamos mostrar a maneira mais correta e elegante\n",
    "  - há várias formas de se fazer este cálculo"
   ]
  },
  {
   "cell_type": "markdown",
   "metadata": {},
   "source": [
    "### factorize: esta é a forma de passar variáveis nominais, ordinais ... para fatores (números)"
   ]
  },
  {
   "cell_type": "code",
   "execution_count": 20,
   "metadata": {},
   "outputs": [
    {
     "data": {
      "text/plain": [
       "(array([0, 0, 0, 0, 0, 0, 0, 0, 0, 0, 0, 0, 0, 0, 0, 0, 0, 0, 0, 0, 0, 0,\n",
       "        0, 0, 0, 0, 0, 0, 0, 0, 0, 0, 0, 0, 0, 0, 0, 0, 0, 0, 0, 0, 0, 0,\n",
       "        0, 0, 0, 0, 0, 0, 0, 0, 0, 0, 0, 0, 0, 0, 0, 0, 0, 0, 0, 0, 0, 0,\n",
       "        0, 0, 0, 0, 0, 0, 0, 0, 0, 0, 0, 0, 0, 0, 0, 0, 0, 0, 0, 0, 0, 0,\n",
       "        0, 0, 0, 0, 0, 0, 0, 0, 0, 0, 0, 0, 1, 1, 1, 1, 1, 1, 1, 1, 1, 1,\n",
       "        1, 1, 1, 1, 1, 1, 1, 1, 1, 1, 1, 1, 1, 1, 1, 1, 1, 1, 1, 1, 1, 1,\n",
       "        1, 1, 1, 1, 1, 1, 1, 1, 1, 1, 1, 1, 1, 1, 1, 1, 1, 1, 1, 1, 1, 1,\n",
       "        1, 1, 1, 1, 1, 1, 1, 1, 1, 1, 1, 1, 1, 1, 1, 1, 1, 1, 1, 1, 1, 1,\n",
       "        1, 1, 1, 1, 1, 1, 1, 1, 1, 1, 1, 1, 1, 1, 1, 1, 1, 1, 1, 1, 1, 1,\n",
       "        1, 1, 1, 1, 1, 1, 1, 1, 1, 1, 1, 1, 1, 1, 1, 1, 1, 1, 1, 1, 1, 1,\n",
       "        1, 1, 1, 1, 1, 1, 1, 1, 1, 1, 1, 1, 1, 1, 1, 1, 1, 1, 1, 1]),\n",
       " Index(['male', 'female'], dtype='object'))"
      ]
     },
     "execution_count": 20,
     "metadata": {},
     "output_type": "execute_result"
    }
   ],
   "source": [
    "pd.factorize(df.sex)"
   ]
  },
  {
   "cell_type": "code",
   "execution_count": 22,
   "metadata": {},
   "outputs": [],
   "source": [
    "## criando uma nova coluna 'gender'\n",
    "df['gender'] = pd.factorize(df.sex)[0]"
   ]
  },
  {
   "cell_type": "code",
   "execution_count": 23,
   "metadata": {},
   "outputs": [
    {
     "data": {
      "text/html": [
       "<div>\n",
       "<style scoped>\n",
       "    .dataframe tbody tr th:only-of-type {\n",
       "        vertical-align: middle;\n",
       "    }\n",
       "\n",
       "    .dataframe tbody tr th {\n",
       "        vertical-align: top;\n",
       "    }\n",
       "\n",
       "    .dataframe thead th {\n",
       "        text-align: right;\n",
       "    }\n",
       "</style>\n",
       "<table border=\"1\" class=\"dataframe\">\n",
       "  <thead>\n",
       "    <tr style=\"text-align: right;\">\n",
       "      <th></th>\n",
       "      <th>species</th>\n",
       "      <th>population</th>\n",
       "      <th>sex</th>\n",
       "      <th>RDS</th>\n",
       "      <th>VS</th>\n",
       "      <th>HL</th>\n",
       "      <th>TaL</th>\n",
       "      <th>temperature</th>\n",
       "      <th>elevation</th>\n",
       "      <th>gender</th>\n",
       "    </tr>\n",
       "  </thead>\n",
       "  <tbody>\n",
       "    <tr>\n",
       "      <th>0</th>\n",
       "      <td>B_jararaca</td>\n",
       "      <td>RJ_serra</td>\n",
       "      <td>male</td>\n",
       "      <td>23</td>\n",
       "      <td>144</td>\n",
       "      <td>25.0</td>\n",
       "      <td>34.0</td>\n",
       "      <td>20.3</td>\n",
       "      <td>894</td>\n",
       "      <td>0</td>\n",
       "    </tr>\n",
       "    <tr>\n",
       "      <th>1</th>\n",
       "      <td>B_jararaca</td>\n",
       "      <td>RJ_serra</td>\n",
       "      <td>male</td>\n",
       "      <td>23</td>\n",
       "      <td>145</td>\n",
       "      <td>25.0</td>\n",
       "      <td>43.0</td>\n",
       "      <td>20.3</td>\n",
       "      <td>894</td>\n",
       "      <td>0</td>\n",
       "    </tr>\n",
       "    <tr>\n",
       "      <th>2</th>\n",
       "      <td>B_jararaca</td>\n",
       "      <td>RJ_serra</td>\n",
       "      <td>male</td>\n",
       "      <td>23</td>\n",
       "      <td>144</td>\n",
       "      <td>17.0</td>\n",
       "      <td>18.0</td>\n",
       "      <td>23.2</td>\n",
       "      <td>173</td>\n",
       "      <td>0</td>\n",
       "    </tr>\n",
       "  </tbody>\n",
       "</table>\n",
       "</div>"
      ],
      "text/plain": [
       "      species population   sex  RDS   VS    HL   TaL  temperature  elevation  \\\n",
       "0  B_jararaca   RJ_serra  male   23  144  25.0  34.0         20.3        894   \n",
       "1  B_jararaca   RJ_serra  male   23  145  25.0  43.0         20.3        894   \n",
       "2  B_jararaca   RJ_serra  male   23  144  17.0  18.0         23.2        173   \n",
       "\n",
       "   gender  \n",
       "0       0  \n",
       "1       0  \n",
       "2       0  "
      ]
     },
     "execution_count": 23,
     "metadata": {},
     "output_type": "execute_result"
    }
   ],
   "source": [
    "df.head(3)"
   ]
  },
  {
   "cell_type": "code",
   "execution_count": 24,
   "metadata": {},
   "outputs": [
    {
     "data": {
      "text/html": [
       "<div>\n",
       "<style scoped>\n",
       "    .dataframe tbody tr th:only-of-type {\n",
       "        vertical-align: middle;\n",
       "    }\n",
       "\n",
       "    .dataframe tbody tr th {\n",
       "        vertical-align: top;\n",
       "    }\n",
       "\n",
       "    .dataframe thead th {\n",
       "        text-align: right;\n",
       "    }\n",
       "</style>\n",
       "<table border=\"1\" class=\"dataframe\">\n",
       "  <thead>\n",
       "    <tr style=\"text-align: right;\">\n",
       "      <th></th>\n",
       "      <th>species</th>\n",
       "      <th>population</th>\n",
       "      <th>sex</th>\n",
       "      <th>RDS</th>\n",
       "      <th>VS</th>\n",
       "      <th>HL</th>\n",
       "      <th>TaL</th>\n",
       "      <th>temperature</th>\n",
       "      <th>elevation</th>\n",
       "      <th>gender</th>\n",
       "    </tr>\n",
       "  </thead>\n",
       "  <tbody>\n",
       "    <tr>\n",
       "      <th>237</th>\n",
       "      <td>B_new</td>\n",
       "      <td>Colombia</td>\n",
       "      <td>female</td>\n",
       "      <td>23</td>\n",
       "      <td>146</td>\n",
       "      <td>29.0</td>\n",
       "      <td>43.0</td>\n",
       "      <td>26.0</td>\n",
       "      <td>587</td>\n",
       "      <td>1</td>\n",
       "    </tr>\n",
       "    <tr>\n",
       "      <th>238</th>\n",
       "      <td>B_new</td>\n",
       "      <td>Colombia</td>\n",
       "      <td>female</td>\n",
       "      <td>23</td>\n",
       "      <td>150</td>\n",
       "      <td>36.0</td>\n",
       "      <td>50.0</td>\n",
       "      <td>22.0</td>\n",
       "      <td>1065</td>\n",
       "      <td>1</td>\n",
       "    </tr>\n",
       "    <tr>\n",
       "      <th>239</th>\n",
       "      <td>B_new</td>\n",
       "      <td>Colombia</td>\n",
       "      <td>female</td>\n",
       "      <td>23</td>\n",
       "      <td>147</td>\n",
       "      <td>30.0</td>\n",
       "      <td>50.0</td>\n",
       "      <td>21.5</td>\n",
       "      <td>1176</td>\n",
       "      <td>1</td>\n",
       "    </tr>\n",
       "  </tbody>\n",
       "</table>\n",
       "</div>"
      ],
      "text/plain": [
       "    species population     sex  RDS   VS    HL   TaL  temperature  elevation  \\\n",
       "237   B_new   Colombia  female   23  146  29.0  43.0         26.0        587   \n",
       "238   B_new   Colombia  female   23  150  36.0  50.0         22.0       1065   \n",
       "239   B_new   Colombia  female   23  147  30.0  50.0         21.5       1176   \n",
       "\n",
       "     gender  \n",
       "237       1  \n",
       "238       1  \n",
       "239       1  "
      ]
     },
     "execution_count": 24,
     "metadata": {},
     "output_type": "execute_result"
    }
   ],
   "source": [
    "df.tail(3)"
   ]
  },
  {
   "cell_type": "markdown",
   "metadata": {},
   "source": [
    "### E agora? como fica a função describe?"
   ]
  },
  {
   "cell_type": "code",
   "execution_count": 25,
   "metadata": {},
   "outputs": [
    {
     "data": {
      "text/html": [
       "<div>\n",
       "<style scoped>\n",
       "    .dataframe tbody tr th:only-of-type {\n",
       "        vertical-align: middle;\n",
       "    }\n",
       "\n",
       "    .dataframe tbody tr th {\n",
       "        vertical-align: top;\n",
       "    }\n",
       "\n",
       "    .dataframe thead th {\n",
       "        text-align: right;\n",
       "    }\n",
       "</style>\n",
       "<table border=\"1\" class=\"dataframe\">\n",
       "  <thead>\n",
       "    <tr style=\"text-align: right;\">\n",
       "      <th></th>\n",
       "      <th>RDS</th>\n",
       "      <th>VS</th>\n",
       "      <th>HL</th>\n",
       "      <th>TaL</th>\n",
       "      <th>temperature</th>\n",
       "      <th>elevation</th>\n",
       "      <th>gender</th>\n",
       "    </tr>\n",
       "  </thead>\n",
       "  <tbody>\n",
       "    <tr>\n",
       "      <th>count</th>\n",
       "      <td>240.000000</td>\n",
       "      <td>240.000000</td>\n",
       "      <td>240.000000</td>\n",
       "      <td>240.000000</td>\n",
       "      <td>240.000000</td>\n",
       "      <td>240.000000</td>\n",
       "      <td>240.000000</td>\n",
       "    </tr>\n",
       "    <tr>\n",
       "      <th>mean</th>\n",
       "      <td>23.925000</td>\n",
       "      <td>147.116667</td>\n",
       "      <td>25.305375</td>\n",
       "      <td>40.146250</td>\n",
       "      <td>24.801250</td>\n",
       "      <td>355.983333</td>\n",
       "      <td>0.583333</td>\n",
       "    </tr>\n",
       "    <tr>\n",
       "      <th>std</th>\n",
       "      <td>1.186835</td>\n",
       "      <td>9.095664</td>\n",
       "      <td>7.451746</td>\n",
       "      <td>13.287027</td>\n",
       "      <td>2.816783</td>\n",
       "      <td>435.795372</td>\n",
       "      <td>0.494037</td>\n",
       "    </tr>\n",
       "    <tr>\n",
       "      <th>min</th>\n",
       "      <td>21.000000</td>\n",
       "      <td>130.000000</td>\n",
       "      <td>11.000000</td>\n",
       "      <td>12.000000</td>\n",
       "      <td>9.100000</td>\n",
       "      <td>0.000000</td>\n",
       "      <td>0.000000</td>\n",
       "    </tr>\n",
       "    <tr>\n",
       "      <th>25%</th>\n",
       "      <td>23.000000</td>\n",
       "      <td>139.000000</td>\n",
       "      <td>19.000000</td>\n",
       "      <td>26.750000</td>\n",
       "      <td>22.900000</td>\n",
       "      <td>50.000000</td>\n",
       "      <td>0.000000</td>\n",
       "    </tr>\n",
       "    <tr>\n",
       "      <th>50%</th>\n",
       "      <td>23.000000</td>\n",
       "      <td>146.000000</td>\n",
       "      <td>26.000000</td>\n",
       "      <td>43.000000</td>\n",
       "      <td>25.600000</td>\n",
       "      <td>80.000000</td>\n",
       "      <td>1.000000</td>\n",
       "    </tr>\n",
       "    <tr>\n",
       "      <th>75%</th>\n",
       "      <td>25.000000</td>\n",
       "      <td>155.000000</td>\n",
       "      <td>31.000000</td>\n",
       "      <td>51.000000</td>\n",
       "      <td>27.000000</td>\n",
       "      <td>761.000000</td>\n",
       "      <td>1.000000</td>\n",
       "    </tr>\n",
       "    <tr>\n",
       "      <th>max</th>\n",
       "      <td>27.000000</td>\n",
       "      <td>166.000000</td>\n",
       "      <td>44.000000</td>\n",
       "      <td>73.000000</td>\n",
       "      <td>30.000000</td>\n",
       "      <td>1432.000000</td>\n",
       "      <td>1.000000</td>\n",
       "    </tr>\n",
       "  </tbody>\n",
       "</table>\n",
       "</div>"
      ],
      "text/plain": [
       "              RDS          VS          HL         TaL  temperature  \\\n",
       "count  240.000000  240.000000  240.000000  240.000000   240.000000   \n",
       "mean    23.925000  147.116667   25.305375   40.146250    24.801250   \n",
       "std      1.186835    9.095664    7.451746   13.287027     2.816783   \n",
       "min     21.000000  130.000000   11.000000   12.000000     9.100000   \n",
       "25%     23.000000  139.000000   19.000000   26.750000    22.900000   \n",
       "50%     23.000000  146.000000   26.000000   43.000000    25.600000   \n",
       "75%     25.000000  155.000000   31.000000   51.000000    27.000000   \n",
       "max     27.000000  166.000000   44.000000   73.000000    30.000000   \n",
       "\n",
       "         elevation      gender  \n",
       "count   240.000000  240.000000  \n",
       "mean    355.983333    0.583333  \n",
       "std     435.795372    0.494037  \n",
       "min       0.000000    0.000000  \n",
       "25%      50.000000    0.000000  \n",
       "50%      80.000000    1.000000  \n",
       "75%     761.000000    1.000000  \n",
       "max    1432.000000    1.000000  "
      ]
     },
     "execution_count": 25,
     "metadata": {},
     "output_type": "execute_result"
    }
   ],
   "source": [
    "df.describe()"
   ]
  },
  {
   "cell_type": "markdown",
   "metadata": {},
   "source": [
    "### Vamos usar um pouco do seaborn para ver estas estatísticas"
   ]
  },
  {
   "cell_type": "code",
   "execution_count": 26,
   "metadata": {},
   "outputs": [],
   "source": [
    "import seaborn as sns"
   ]
  },
  {
   "cell_type": "code",
   "execution_count": null,
   "metadata": {},
   "outputs": [],
   "source": [
    "# os.system(\"conda install -c anaconda seaborn\")"
   ]
  },
  {
   "cell_type": "code",
   "execution_count": 27,
   "metadata": {},
   "outputs": [
    {
     "data": {
      "text/plain": [
       "25.305375"
      ]
     },
     "execution_count": 27,
     "metadata": {},
     "output_type": "execute_result"
    }
   ],
   "source": [
    "df.HL.mean()"
   ]
  },
  {
   "cell_type": "code",
   "execution_count": 28,
   "metadata": {},
   "outputs": [
    {
     "data": {
      "text/plain": [
       "25.3"
      ]
     },
     "execution_count": 28,
     "metadata": {},
     "output_type": "execute_result"
    }
   ],
   "source": [
    "np.round(df.HL.mean(),1)"
   ]
  },
  {
   "cell_type": "markdown",
   "metadata": {},
   "source": [
    "### Para desenhar um histograma usa-se:  distplot()"
   ]
  },
  {
   "cell_type": "code",
   "execution_count": 30,
   "metadata": {},
   "outputs": [
    {
     "data": {
      "image/png": "[encoded data removed]",
      "text/plain": [
       "<Figure size 432x288 with 1 Axes>"
      ]
     },
     "metadata": {
      "needs_background": "light"
     },
     "output_type": "display_data"
    }
   ],
   "source": [
    "ax = sns.distplot(df[\"HL\"])"
   ]
  },
  {
   "cell_type": "markdown",
   "metadata": {},
   "source": [
    "### Vamos supor que a cabe dos machos é 80% das fêmeas"
   ]
  },
  {
   "cell_type": "code",
   "execution_count": 31,
   "metadata": {},
   "outputs": [
    {
     "data": {
      "text/plain": [
       "[1, 2, 3, 4, 4, 5, 6, 7]"
      ]
     },
     "execution_count": 31,
     "metadata": {},
     "output_type": "execute_result"
    }
   ],
   "source": [
    "[1,2,3,4] + [4,5,6,7]"
   ]
  },
  {
   "cell_type": "code",
   "execution_count": 32,
   "metadata": {},
   "outputs": [],
   "source": [
    "df.HL = list(df.iloc[:100].HL * 0.8) + list(df.iloc[100:].HL)"
   ]
  },
  {
   "cell_type": "markdown",
   "metadata": {},
   "source": [
    "### Uauuu ! Que tipo de gráfico é este?"
   ]
  },
  {
   "cell_type": "code",
   "execution_count": 35,
   "metadata": {},
   "outputs": [
    {
     "data": {
      "text/plain": [
       "Text(0.5, 1.0, 'Uma dist. tem 2 picos = 2 modas\\ndistribuição bimodal')"
      ]
     },
     "execution_count": 35,
     "metadata": {},
     "output_type": "execute_result"
    },
    {
     "data": {
      "image/png": "[encoded data removed]",
      "text/plain": [
       "<Figure size 432x288 with 1 Axes>"
      ]
     },
     "metadata": {
      "needs_background": "light"
     },
     "output_type": "display_data"
    }
   ],
   "source": [
    "ax = sns.distplot(df[\"HL\"])\n",
    "ax.set_title(\"Uma dist. tem 2 picos = 2 modas\\ndistribuição bimodal\")"
   ]
  },
  {
   "cell_type": "markdown",
   "metadata": {},
   "source": [
    "### Separando machos e fêmeas"
   ]
  },
  {
   "cell_type": "code",
   "execution_count": 37,
   "metadata": {},
   "outputs": [
    {
     "data": {
      "text/html": [
       "<div>\n",
       "<style scoped>\n",
       "    .dataframe tbody tr th:only-of-type {\n",
       "        vertical-align: middle;\n",
       "    }\n",
       "\n",
       "    .dataframe tbody tr th {\n",
       "        vertical-align: top;\n",
       "    }\n",
       "\n",
       "    .dataframe thead th {\n",
       "        text-align: right;\n",
       "    }\n",
       "</style>\n",
       "<table border=\"1\" class=\"dataframe\">\n",
       "  <thead>\n",
       "    <tr style=\"text-align: right;\">\n",
       "      <th></th>\n",
       "      <th>species</th>\n",
       "      <th>population</th>\n",
       "      <th>sex</th>\n",
       "      <th>RDS</th>\n",
       "      <th>VS</th>\n",
       "      <th>HL</th>\n",
       "      <th>TaL</th>\n",
       "      <th>temperature</th>\n",
       "      <th>elevation</th>\n",
       "      <th>gender</th>\n",
       "    </tr>\n",
       "  </thead>\n",
       "  <tbody>\n",
       "    <tr>\n",
       "      <th>100</th>\n",
       "      <td>B_jararaca</td>\n",
       "      <td>Chile_serra</td>\n",
       "      <td>female</td>\n",
       "      <td>23</td>\n",
       "      <td>134</td>\n",
       "      <td>14.0</td>\n",
       "      <td>23.0</td>\n",
       "      <td>25.3</td>\n",
       "      <td>1</td>\n",
       "      <td>1</td>\n",
       "    </tr>\n",
       "    <tr>\n",
       "      <th>101</th>\n",
       "      <td>B_jararaca</td>\n",
       "      <td>Chile_serra</td>\n",
       "      <td>female</td>\n",
       "      <td>23</td>\n",
       "      <td>138</td>\n",
       "      <td>31.0</td>\n",
       "      <td>51.0</td>\n",
       "      <td>22.3</td>\n",
       "      <td>636</td>\n",
       "      <td>1</td>\n",
       "    </tr>\n",
       "  </tbody>\n",
       "</table>\n",
       "</div>"
      ],
      "text/plain": [
       "        species   population     sex  RDS   VS    HL   TaL  temperature  \\\n",
       "100  B_jararaca  Chile_serra  female   23  134  14.0  23.0         25.3   \n",
       "101  B_jararaca  Chile_serra  female   23  138  31.0  51.0         22.3   \n",
       "\n",
       "     elevation  gender  \n",
       "100          1       1  \n",
       "101        636       1  "
      ]
     },
     "execution_count": 37,
     "metadata": {},
     "output_type": "execute_result"
    }
   ],
   "source": [
    "# dataframe males\n",
    "dfm = df[df.gender == 0]\n",
    "# df das females\n",
    "dff = df[df.gender == 1]\n",
    "\n",
    "dff.head(2)"
   ]
  },
  {
   "cell_type": "code",
   "execution_count": 38,
   "metadata": {},
   "outputs": [
    {
     "data": {
      "image/png": "[encoded data removed]",
      "text/plain": [
       "<Figure size 432x288 with 1 Axes>"
      ]
     },
     "metadata": {
      "needs_background": "light"
     },
     "output_type": "display_data"
    }
   ],
   "source": [
    "fig, ax = plt.subplots()\n",
    "\n",
    "for i in range(2):\n",
    "    if i == 0:\n",
    "        data = dfm.HL\n",
    "        label = 'males'\n",
    "        color = 'blue'\n",
    "    if i == 1:\n",
    "        data = dff.HL\n",
    "        label = 'females'\n",
    "        color = 'red'\n",
    "        \n",
    "    g = sns.distplot(data,ax=ax, kde=False)\n",
    " "
   ]
  },
  {
   "cell_type": "code",
   "execution_count": 39,
   "metadata": {},
   "outputs": [
    {
     "data": {
      "image/png": "[encoded data removed]",
      "text/plain": [
       "<Figure size 432x288 with 1 Axes>"
      ]
     },
     "metadata": {
      "needs_background": "light"
     },
     "output_type": "display_data"
    }
   ],
   "source": [
    "fig, ax = plt.subplots()\n",
    "for i in range(2):\n",
    "    if i == 0:\n",
    "        data = dfm.HL\n",
    "        label = 'males'\n",
    "        color = 'cyan'\n",
    "    if i == 1:\n",
    "        data = dff.HL\n",
    "        label = 'females'\n",
    "        color = 'brown'\n",
    "        \n",
    "    g = sns.distplot(data,ax=ax, kde=False, label=label, color=color)\n",
    "    \n",
    "ax.legend();  "
   ]
  },
  {
   "cell_type": "code",
   "execution_count": 43,
   "metadata": {},
   "outputs": [
    {
     "data": {
      "image/png": "[encoded data removed]",
      "text/plain": [
       "<Figure size 432x288 with 1 Axes>"
      ]
     },
     "metadata": {
      "needs_background": "light"
     },
     "output_type": "display_data"
    }
   ],
   "source": [
    "fig, ax = plt.subplots()\n",
    "for i in range(2):\n",
    "    if i == 0:\n",
    "        data = dfm.HL\n",
    "        label = 'males'\n",
    "        color = 'cyan'\n",
    "    if i == 1:\n",
    "        data = dff.HL\n",
    "        label = 'females'\n",
    "        color = 'brown'\n",
    "        \n",
    "    # alpha: transparencia 1 a 0  (1 solido, 0 total//  transparente)\n",
    "    g = sns.distplot(data,ax=ax, kde=False, label=label, \n",
    "                     hist_kws = {'color':color, 'edgecolor':'black', 'linewidth':2,\n",
    "                                 'linestyle':'-', 'alpha':0.2})\n",
    "    \n",
    "ax.legend();  "
   ]
  },
  {
   "cell_type": "code",
   "execution_count": 44,
   "metadata": {},
   "outputs": [
    {
     "data": {
      "image/png": "[encoded data removed]",
      "text/plain": [
       "<Figure size 432x288 with 1 Axes>"
      ]
     },
     "metadata": {
      "needs_background": "light"
     },
     "output_type": "display_data"
    }
   ],
   "source": [
    "fig, ax = plt.subplots()\n",
    "for i in range(2):\n",
    "    if i == 0:\n",
    "        data = dfm.HL\n",
    "        label = 'males'\n",
    "        color = 'cyan'\n",
    "    if i == 1:\n",
    "        data = dff.HL\n",
    "        label = 'females'\n",
    "        color = 'brown'\n",
    "        \n",
    "    g = sns.distplot(data,ax=ax, kde=True, label=label, \n",
    "                     hist_kws = {'color':color, 'alpha':0.3})\n",
    "    \n",
    "ax.legend();"
   ]
  },
  {
   "cell_type": "markdown",
   "metadata": {},
   "source": [
    "### O que você conclui?\n",
    "### Qual a proposta de trabalho?"
   ]
  },
  {
   "cell_type": "code",
   "execution_count": null,
   "metadata": {},
   "outputs": [],
   "source": []
  },
  {
   "cell_type": "markdown",
   "metadata": {},
   "source": [
    "### Boxplot x mediana + quartis"
   ]
  },
  {
   "cell_type": "code",
   "execution_count": 47,
   "metadata": {},
   "outputs": [
    {
     "data": {
      "image/png": "[encoded data removed]",
      "text/plain": [
       "<Figure size 432x288 with 1 Axes>"
      ]
     },
     "metadata": {
      "needs_background": "light"
     },
     "output_type": "display_data"
    }
   ],
   "source": [
    "sns.boxplot(  x=\"sex\", y=\"HL\", palette=[\"cyan\", \"brown\"], data=df); # alpha=0.3\n",
    "#sns.despine(offset=10, trim=True)"
   ]
  },
  {
   "cell_type": "code",
   "execution_count": 48,
   "metadata": {},
   "outputs": [
    {
     "data": {
      "image/png": "[encoded data removed]",
      "text/plain": [
       "<Figure size 432x288 with 1 Axes>"
      ]
     },
     "metadata": {
      "needs_background": "light"
     },
     "output_type": "display_data"
    }
   ],
   "source": [
    "sns.boxplot(  x=\"sex\", y=\"HL\", palette=[\"cyan\", \"brown\"], data=df) # alpha=0.3\n",
    "sns.stripplot(x=\"sex\", y=\"HL\", color='black', data=df);\n",
    "# sns.despine(offset=10, trim=True)"
   ]
  },
  {
   "cell_type": "code",
   "execution_count": 49,
   "metadata": {},
   "outputs": [
    {
     "data": {
      "image/png": "[encoded data removed]",
      "text/plain": [
       "<Figure size 432x288 with 1 Axes>"
      ]
     },
     "metadata": {
      "needs_background": "light"
     },
     "output_type": "display_data"
    }
   ],
   "source": [
    "sns.boxplot(  x=\"sex\", y=\"HL\", palette=[\"cyan\", \"brown\"], data=df) # alpha=0.3\n",
    "sns.stripplot(x=\"sex\", y=\"HL\", color='black',alpha=0.3,   data=df)\n",
    "sns.despine(offset=10, trim=True)"
   ]
  },
  {
   "cell_type": "markdown",
   "metadata": {},
   "source": [
    "### Uma das propostas é 'quebrar' os dados por espécie ou população"
   ]
  },
  {
   "cell_type": "code",
   "execution_count": 50,
   "metadata": {},
   "outputs": [
    {
     "data": {
      "image/png": "[encoded data removed]",
      "text/plain": [
       "<Figure size 432x288 with 1 Axes>"
      ]
     },
     "metadata": {
      "needs_background": "light"
     },
     "output_type": "display_data"
    }
   ],
   "source": [
    "ax = sns.boxplot( x=\"sex\", y=\"HL\", hue=\"species\", palette=[\"cyan\", \"brown\", \"green\"], data=df) # alpha=0.3\n",
    "ax = sns.stripplot( x=\"sex\", y=\"HL\", hue=\"species\", color='black', data=df)\n",
    "\n",
    "# sns.despine(offset=10, trim=True)\n",
    "\n",
    "ax.legend(loc='right', bbox_to_anchor=(1.5, 0.5));"
   ]
  },
  {
   "cell_type": "code",
   "execution_count": 51,
   "metadata": {},
   "outputs": [
    {
     "data": {
      "image/png": "[encoded data removed]",
      "text/plain": [
       "<Figure size 432x288 with 1 Axes>"
      ]
     },
     "metadata": {
      "needs_background": "light"
     },
     "output_type": "display_data"
    }
   ],
   "source": [
    "ax = sns.violinplot( x=\"sex\", y=\"HL\", hue=\"species\", palette=[\"cyan\", \"brown\", \"green\"], data=df) # alpha=0.3\n",
    "ax = sns.stripplot( x=\"sex\", y=\"HL\", hue=\"species\", color='black', data=df, alpha=.3)\n",
    "\n",
    "# sns.despine(offset=10, trim=True)\n",
    "\n",
    "ax.legend(loc='right', bbox_to_anchor=(1.5, 0.5));"
   ]
  },
  {
   "cell_type": "code",
   "execution_count": 52,
   "metadata": {},
   "outputs": [
    {
     "data": {
      "image/png": "[encoded data removed]",
      "text/plain": [
       "<Figure size 432x288 with 1 Axes>"
      ]
     },
     "metadata": {
      "needs_background": "light"
     },
     "output_type": "display_data"
    }
   ],
   "source": [
    "ax = sns.violinplot( x=\"sex\", y=\"HL\", hue=\"species\", palette=[\"cyan\", \"brown\", \"green\"], inner=None, data=df) # alpha=0.3\n",
    "ax = sns.stripplot( x=\"sex\", y=\"HL\", hue=\"species\", color='black', data=df, alpha=.3)\n",
    "\n",
    "# sns.despine(offset=10, trim=True)\n",
    "\n",
    "ax.legend(loc='right', bbox_to_anchor=(1.5, 0.5));"
   ]
  },
  {
   "cell_type": "code",
   "execution_count": 53,
   "metadata": {},
   "outputs": [
    {
     "data": {
      "image/png": "[encoded data removed]",
      "text/plain": [
       "<Figure size 432x288 with 1 Axes>"
      ]
     },
     "metadata": {
      "needs_background": "light"
     },
     "output_type": "display_data"
    }
   ],
   "source": [
    "ax = sns.violinplot( x=\"species\", y=\"HL\", palette=[\"cyan\", \"brown\", \"green\"], inner=None, data=df) # alpha=0.3\n",
    "ax = sns.stripplot( x=\"species\", y=\"HL\",  color='black', data=df, alpha=.3)\n",
    "\n",
    "# sns.despine(offset=10, trim=True)\n",
    "\n",
    "# ax.legend(loc='right', bbox_to_anchor=(1.5, 0.5));"
   ]
  },
  {
   "cell_type": "code",
   "execution_count": 54,
   "metadata": {},
   "outputs": [
    {
     "data": {
      "image/png": "[encoded data removed]",
      "text/plain": [
       "<Figure size 432x288 with 1 Axes>"
      ]
     },
     "metadata": {
      "needs_background": "light"
     },
     "output_type": "display_data"
    }
   ],
   "source": [
    "ax = sns.violinplot( x=\"species\", y=\"HL\", hue='sex', palette=[\"cyan\", \"brown\"], inner=None, data=df) # alpha=0.3\n",
    "ax = sns.stripplot( x=\"species\", y=\"HL\",  hue='sex', color='black', data=df, alpha=.3)\n",
    "\n",
    "# sns.despine(offset=10, trim=True)\n",
    "\n",
    "ax.legend(loc='right', bbox_to_anchor=(1.5, 0.5));"
   ]
  },
  {
   "cell_type": "code",
   "execution_count": null,
   "metadata": {},
   "outputs": [],
   "source": []
  },
  {
   "cell_type": "markdown",
   "metadata": {},
   "source": [
    "### Exercite com dados do seaborn"
   ]
  },
  {
   "cell_type": "code",
   "execution_count": 55,
   "metadata": {},
   "outputs": [
    {
     "data": {
      "text/plain": [
       "pandas.core.frame.DataFrame"
      ]
     },
     "execution_count": 55,
     "metadata": {},
     "output_type": "execute_result"
    }
   ],
   "source": [
    "penguins = sns.load_dataset(\"penguins\")\n",
    "type(penguins)"
   ]
  },
  {
   "cell_type": "code",
   "execution_count": 59,
   "metadata": {},
   "outputs": [
    {
     "data": {
      "text/html": [
       "<div>\n",
       "<style scoped>\n",
       "    .dataframe tbody tr th:only-of-type {\n",
       "        vertical-align: middle;\n",
       "    }\n",
       "\n",
       "    .dataframe tbody tr th {\n",
       "        vertical-align: top;\n",
       "    }\n",
       "\n",
       "    .dataframe thead th {\n",
       "        text-align: right;\n",
       "    }\n",
       "</style>\n",
       "<table border=\"1\" class=\"dataframe\">\n",
       "  <thead>\n",
       "    <tr style=\"text-align: right;\">\n",
       "      <th></th>\n",
       "      <th>bill_length_mm</th>\n",
       "      <th>bill_depth_mm</th>\n",
       "      <th>flipper_length_mm</th>\n",
       "      <th>body_mass_g</th>\n",
       "    </tr>\n",
       "  </thead>\n",
       "  <tbody>\n",
       "    <tr>\n",
       "      <th>count</th>\n",
       "      <td>342.000000</td>\n",
       "      <td>342.000000</td>\n",
       "      <td>342.000000</td>\n",
       "      <td>342.000000</td>\n",
       "    </tr>\n",
       "    <tr>\n",
       "      <th>mean</th>\n",
       "      <td>43.921930</td>\n",
       "      <td>17.151170</td>\n",
       "      <td>200.915205</td>\n",
       "      <td>4201.754386</td>\n",
       "    </tr>\n",
       "    <tr>\n",
       "      <th>std</th>\n",
       "      <td>5.459584</td>\n",
       "      <td>1.974793</td>\n",
       "      <td>14.061714</td>\n",
       "      <td>801.954536</td>\n",
       "    </tr>\n",
       "    <tr>\n",
       "      <th>min</th>\n",
       "      <td>32.100000</td>\n",
       "      <td>13.100000</td>\n",
       "      <td>172.000000</td>\n",
       "      <td>2700.000000</td>\n",
       "    </tr>\n",
       "    <tr>\n",
       "      <th>25%</th>\n",
       "      <td>39.225000</td>\n",
       "      <td>15.600000</td>\n",
       "      <td>190.000000</td>\n",
       "      <td>3550.000000</td>\n",
       "    </tr>\n",
       "    <tr>\n",
       "      <th>50%</th>\n",
       "      <td>44.450000</td>\n",
       "      <td>17.300000</td>\n",
       "      <td>197.000000</td>\n",
       "      <td>4050.000000</td>\n",
       "    </tr>\n",
       "    <tr>\n",
       "      <th>75%</th>\n",
       "      <td>48.500000</td>\n",
       "      <td>18.700000</td>\n",
       "      <td>213.000000</td>\n",
       "      <td>4750.000000</td>\n",
       "    </tr>\n",
       "    <tr>\n",
       "      <th>max</th>\n",
       "      <td>59.600000</td>\n",
       "      <td>21.500000</td>\n",
       "      <td>231.000000</td>\n",
       "      <td>6300.000000</td>\n",
       "    </tr>\n",
       "  </tbody>\n",
       "</table>\n",
       "</div>"
      ],
      "text/plain": [
       "       bill_length_mm  bill_depth_mm  flipper_length_mm  body_mass_g\n",
       "count      342.000000     342.000000         342.000000   342.000000\n",
       "mean        43.921930      17.151170         200.915205  4201.754386\n",
       "std          5.459584       1.974793          14.061714   801.954536\n",
       "min         32.100000      13.100000         172.000000  2700.000000\n",
       "25%         39.225000      15.600000         190.000000  3550.000000\n",
       "50%         44.450000      17.300000         197.000000  4050.000000\n",
       "75%         48.500000      18.700000         213.000000  4750.000000\n",
       "max         59.600000      21.500000         231.000000  6300.000000"
      ]
     },
     "execution_count": 59,
     "metadata": {},
     "output_type": "execute_result"
    }
   ],
   "source": [
    "penguins.describe()"
   ]
  },
  {
   "cell_type": "code",
   "execution_count": 56,
   "metadata": {},
   "outputs": [
    {
     "data": {
      "text/plain": [
       "Index(['species', 'island', 'bill_length_mm', 'bill_depth_mm',\n",
       "       'flipper_length_mm', 'body_mass_g', 'sex'],\n",
       "      dtype='object')"
      ]
     },
     "execution_count": 56,
     "metadata": {},
     "output_type": "execute_result"
    }
   ],
   "source": [
    "penguins.columns"
   ]
  },
  {
   "cell_type": "code",
   "execution_count": 57,
   "metadata": {},
   "outputs": [
    {
     "data": {
      "text/plain": [
       "(344, 7)"
      ]
     },
     "execution_count": 57,
     "metadata": {},
     "output_type": "execute_result"
    }
   ],
   "source": [
    "penguins.shape"
   ]
  },
  {
   "cell_type": "markdown",
   "metadata": {},
   "source": [
    "### Histograma"
   ]
  },
  {
   "cell_type": "code",
   "execution_count": 58,
   "metadata": {},
   "outputs": [
    {
     "data": {
      "image/png": "[encoded data removed]",
      "text/plain": [
       "<Figure size 432x288 with 1 Axes>"
      ]
     },
     "metadata": {
      "needs_background": "light"
     },
     "output_type": "display_data"
    }
   ],
   "source": [
    "ax = sns.distplot(penguins[\"flipper_length_mm\"])"
   ]
  }
 ],
 "metadata": {
  "kernelspec": {
   "display_name": "Python 3",
   "language": "python",
   "name": "python3"
  },
  "language_info": {
   "codemirror_mode": {
    "name": "ipython",
    "version": 3
   },
   "file_extension": ".py",
   "mimetype": "text/x-python",
   "name": "python",
   "nbconvert_exporter": "python",
   "pygments_lexer": "ipython3",
   "version": "3.7.7"
  }
 },
 "nbformat": 4,
 "nbformat_minor": 4
}
