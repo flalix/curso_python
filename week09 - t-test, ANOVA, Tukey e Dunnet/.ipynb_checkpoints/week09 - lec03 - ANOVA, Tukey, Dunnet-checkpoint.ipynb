{
 "cells": [
  {
   "cell_type": "code",
   "execution_count": null,
   "metadata": {},
   "outputs": [],
   "source": [
    "import os, sys\n",
    "from scipy import stats\n",
    "import numpy as np\n",
    "import pandas as pd\n",
    "\n",
    "from   scipy import stats\n",
    "#-- for ANOVA\n",
    "import statsmodels.api as sm\n",
    "from   statsmodels.formula.api import ols\n",
    "\n",
    "#-- for Tukey\n",
    "from statsmodels.stats.multicomp import MultiComparison\n",
    "\n",
    "sys.path.insert(1, '../libs/')\n",
    "from stat_lib import *\n",
    "\n",
    "import seaborn as sns\n",
    "import matplotlib.pyplot as plt\n",
    "%matplotlib inline"
   ]
  },
  {
   "cell_type": "markdown",
   "metadata": {},
   "source": [
    "### Comparando-se o mesmo grupo muitas vezes\n",
    "\n",
    "  - ANOVA\n",
    "  - Tukey\n",
    "  - Dunnett"
   ]
  },
  {
   "cell_type": "markdown",
   "metadata": {},
   "source": [
    "### ANOVA - Analysis of variance\n",
    "\n",
    "H0: Test for Equality of all means \n",
    "  - all random variable are drawn from the same distribution\n",
    "  \n",
    "Ha: At least one distribution has different mean (expectation)  \n",
    "  - at least on random variable is drawn from a different distribution\n",
    "\n",
    "https://en.wikipedia.org/wiki/One-way_analysis_of_variance"
   ]
  },
  {
   "cell_type": "markdown",
   "metadata": {},
   "source": [
    "### ANOVA - uses the F-statistics to calculate if the sum of errors between and withing groups are similar (H0)\n",
    "\n",
    "\n",
    "<font size=\"5\">$F-stat = \\frac{MS_B}{MS_W}$</font>\n",
    "\n",
    "<br>\n",
    "\n",
    "where\n",
    "\n",
    "<font size=\"5\">$Mean\\ Square = MS = \\frac{SS}{dof}$</font>\n",
    "\n",
    "<br>\n",
    "therefore,\n",
    "\n",
    "\n",
    "<font size=\"5\">$MS_B = \\frac{SSE_B}{dof_B}$</font>\n",
    "\n",
    "<font size=\"5\">$MS_W = \\frac{SSE_W}{dof_W}$</font>\n",
    "\n",
    "<br> \n",
    "\n",
    "#### F-distribution\n",
    "\n",
    "![f_distribuition wiki](../figure/f_distribuition_wiki.png)\n"
   ]
  },
  {
   "cell_type": "markdown",
   "metadata": {},
   "source": [
    "### ANOVA - sum of erros within x between groups are the same?\n",
    "\n",
    "  - What do you mean by error?\n",
    "    - Error is the diference between a cell (single value) and each group mean\n",
    "    - Another error is the difference between a group mean and the overall mean\n",
    "\n",
    "### How to calculate it?\n",
    "\n",
    "  - Calculate the means for each group (column) and overall mean\n",
    "    \n",
    "<br>  \n",
    "\n",
    "![anova1](../figure/anova01.png)"
   ]
  },
  {
   "cell_type": "markdown",
   "metadata": {},
   "source": [
    "<br>\n",
    "\n",
    "### Lets calculate the means for each group (columns) (\\<Yj>)\n",
    "### and the overall mean - mean of all groups (\\<Y>)\n",
    "\n",
    "![anova1](../figure/anova02.png)"
   ]
  },
  {
   "cell_type": "markdown",
   "metadata": {},
   "source": [
    "<br>\n",
    "\n",
    "## Lets calculate the between groups sum of squared differences\n",
    "  - is the sum, for each group, \n",
    "    - of the squared difference between the group mean less the overall mean\n",
    "    - times the number of lines to achieve the group total difference\n",
    " \n",
    "### Degree of freedom (dof or S)\n",
    "  - number of groups - 1\n",
    "\n",
    "<br>\n",
    "\n",
    "![between groups](../figure/anova03.png)"
   ]
  },
  {
   "cell_type": "markdown",
   "metadata": {},
   "source": [
    "## Lets calculate the within squared sum of errors\n",
    "  - for each cell - its value - group mean\n",
    "  - thereafter, you sum for each column, the squared values\n",
    "  \n",
    "### Degree of freedom (dof or f)\n",
    "  - is the number of grous * (lines - 1)\n",
    "\n",
    "<br>\n",
    "\n",
    "![within sum of errors](../figure/anova04.png)\n",
    "\n",
    "![within sum of errors](../figure/anova04b.png)"
   ]
  },
  {
   "cell_type": "markdown",
   "metadata": {},
   "source": [
    "<br>\n",
    "\n",
    "## Lets calculate the F-statistics for between over within groups\n",
    "\n",
    "<br>\n",
    "\n",
    "![anova1](../figure/anova05.png)"
   ]
  },
  {
   "cell_type": "markdown",
   "metadata": {},
   "source": [
    "<br>\n",
    "\n",
    "## Lets see the F-distribution \n",
    "  - dof = (2, 15)\n",
    "\n",
    "<br>\n",
    "\n",
    "![anova1](../figure/f-stat_result.png)"
   ]
  },
  {
   "cell_type": "markdown",
   "metadata": {},
   "source": [
    "### Exercício:\n",
    "  - Como você estimaria o p-value?\n",
    "  - O que signfica este p-value?\n",
    "  - Você consegue desenhar as 3 distribuições (3 grupos)?"
   ]
  },
  {
   "cell_type": "code",
   "execution_count": null,
   "metadata": {},
   "outputs": [],
   "source": []
  },
  {
   "cell_type": "markdown",
   "metadata": {},
   "source": [
    "### Novos exemplos\n",
    "  - dadas 5 hipotéticas amostras\n",
    "  - com media 140 e variando de 140 a 144\n",
    "  - com SSD 10, variando de 10 a 10.4"
   ]
  },
  {
   "cell_type": "code",
   "execution_count": null,
   "metadata": {},
   "outputs": [],
   "source": [
    "samps=[]; mus = []; sdvs = []\n",
    "N   = 30\n",
    "samples = 5\n",
    "hline = 0.03; colors = ['red', 'blue', 'green', 'brown', 'black']\n",
    "\n",
    "mu = 140; delmu = 1\n",
    "sdv = 10; delsdv = .1\n",
    "\n",
    "for i in range(samples):\n",
    "    samps.append(np.random.normal(loc=mu, scale=sdv, size=N))\n",
    "    mu += delmu\n",
    "    sdv += delsdv\n",
    "\n",
    "    mus.append(np.mean(samps[i]))\n",
    "    sdvs.append(np.std(samps[i]))\n",
    "\n",
    "fig = plt.figure(figsize=(12, 6))\n",
    "seqx = np.linspace(100, 180, 100)\n",
    "\n",
    "for i in range(samples):\n",
    "    if i == 0:\n",
    "        ax  = sns.distplot(samps[i], kde=False, rug=True, norm_hist=True, color=colors[i], rug_kws={\"color\": 'blue', \"alpha\": .1,})\n",
    "    else:\n",
    "        ret = sns.distplot(samps[i], kde=False, rug=True, norm_hist=True, color=colors[i], rug_kws={\"color\": 'red',  \"alpha\": .1,}, ax=ax)\n",
    "\n",
    "    plt.vlines(mus[i], 0, hline, color = 'navy')\n",
    "    \n",
    "    sns.lineplot(seqx, stats.norm.pdf(seqx, mus[i], sdvs[i]), color=colors[i])\n",
    "\n",
    "title = 'Distribuições'\n",
    "plt.title(title);"
   ]
  },
  {
   "cell_type": "markdown",
   "metadata": {},
   "source": [
    "### As distribuições são nomais? teste de Shaprio-Wilkis"
   ]
  },
  {
   "cell_type": "code",
   "execution_count": null,
   "metadata": {},
   "outputs": [],
   "source": [
    "for i in range(samples):\n",
    "    ret1, text1, text_stat1, stat1, pvalue1 = test_normality_desc(samps[i])\n",
    "    print(text1, text_stat1)"
   ]
  },
  {
   "cell_type": "markdown",
   "metadata": {},
   "source": [
    "### Alguma distribuição tem média diferente? one-way ANOVA"
   ]
  },
  {
   "cell_type": "code",
   "execution_count": null,
   "metadata": {},
   "outputs": [],
   "source": [
    "def test_one_way_ANOVA5 (samp1, samp2, samp3, samp4, samp5, alpha = 0.05):\n",
    "    # teste de variancias de Fisher - one way ANOVA (analysis of variance)\n",
    "    stat, pvalue = stats.f_oneway(samp1, samp2, samp3, samp4, samp5)\n",
    "\n",
    "    if pvalue > alpha:\n",
    "        text = 'As distribuições tem variâncias similares (não se rejeita a H0)'\n",
    "        ret = True\n",
    "    else:\n",
    "        text = 'As distribuições não têm variâncias similares (rejeita-se a H0)'\n",
    "        ret = False\n",
    "\n",
    "    text_stat = 'p-value %.2e (%s)'%(pvalue, stat_asteristics(pvalue))\n",
    "\n",
    "    return ret, text, text_stat, stat, pvalue"
   ]
  },
  {
   "cell_type": "code",
   "execution_count": null,
   "metadata": {},
   "outputs": [],
   "source": [
    "ret, text, text_stat, stat, pvalue = test_one_way_ANOVA5(samps[0],samps[1],samps[2],samps[3],samps[4])\n",
    "text, text_stat"
   ]
  },
  {
   "cell_type": "markdown",
   "metadata": {},
   "source": [
    "### Alterando somente a variância das distribuições:\n",
    "  - as medias ficam inalteradas\n",
    "  - os SSD variam [10, 30, 50, 70, 90]\n",
    "  - o resultado é similar ao anterior!!!\n",
    "  - porque?"
   ]
  },
  {
   "cell_type": "code",
   "execution_count": null,
   "metadata": {},
   "outputs": [],
   "source": [
    "samps=[]; mus = []; sdvs = []\n",
    "N   = 30\n",
    "samples = 5\n",
    "hline = 0.03; colors = ['red', 'blue', 'green', 'brown', 'black']\n",
    "\n",
    "mu = 140; delmu = .5\n",
    "sdv = 10; delsdv = 20\n",
    "\n",
    "for i in range(samples):\n",
    "    samps.append(np.random.normal(loc=mu, scale=sdv, size=N))\n",
    "    mu += delmu\n",
    "    sdv += delsdv\n",
    "\n",
    "    mus.append(np.mean(samps[i]))\n",
    "    sdvs.append(np.std(samps[i]))\n",
    "\n",
    "fig = plt.figure(figsize=(12, 6))\n",
    "seqx = np.linspace(80, 240, 100)\n",
    "\n",
    "for i in range(samples):\n",
    "    if i == 0:\n",
    "        ax  = sns.distplot(samps[i], kde=False, rug=True, norm_hist=True, color=colors[i], rug_kws={\"color\": 'blue', \"alpha\": .1,})\n",
    "    else:\n",
    "        ret = sns.distplot(samps[i], kde=False, rug=True, norm_hist=True, color=colors[i], rug_kws={\"color\": 'red',  \"alpha\": .1,}, ax=ax)\n",
    "\n",
    "    plt.vlines(mus[i], 0, hline, color = 'navy')\n",
    "    \n",
    "    sns.lineplot(seqx, stats.norm.pdf(seqx, mus[i], sdvs[i]), color=colors[i])\n",
    "\n",
    "title = 'Distribuições'\n",
    "plt.title(title);"
   ]
  },
  {
   "cell_type": "code",
   "execution_count": null,
   "metadata": {},
   "outputs": [],
   "source": [
    "ret, text, text_stat, stat, pvalue = test_one_way_ANOVA5(samps[0],samps[1],samps[2],samps[3],samps[4])\n",
    "text, text_stat"
   ]
  },
  {
   "cell_type": "markdown",
   "metadata": {},
   "source": [
    "### Alterando somente as medias das distribuições:\n",
    "  - os SSD ficam inalterados\n",
    "  - as medias variam [140, 150, 160, 170, 180]\n",
    "  - o resultado é totalmente diferente\n",
    "  - porque?"
   ]
  },
  {
   "cell_type": "code",
   "execution_count": null,
   "metadata": {},
   "outputs": [],
   "source": [
    "samps=[]; mus = []; sdvs = []\n",
    "N   = 30\n",
    "samples = 5\n",
    "hline = 0.03; colors = ['red', 'blue', 'green', 'brown', 'black']\n",
    "\n",
    "mu = 140; delmu = 10\n",
    "sdv = 10; delsdv = .6\n",
    "\n",
    "for i in range(samples):\n",
    "    samps.append(np.random.normal(loc=mu, scale=sdv, size=N))\n",
    "    mu += delmu\n",
    "    sdv += delsdv\n",
    "\n",
    "    mus.append(np.mean(samps[i]))\n",
    "    sdvs.append(np.std(samps[i]))\n",
    "\n",
    "fig = plt.figure(figsize=(12, 6))\n",
    "seqx = np.linspace(80, 240, 100)\n",
    "\n",
    "for i in range(samples):\n",
    "    if i == 0:\n",
    "        ax  = sns.distplot(samps[i], kde=False, rug=True, norm_hist=True, color=colors[i], rug_kws={\"color\": 'blue', \"alpha\": .1,})\n",
    "    else:\n",
    "        ret = sns.distplot(samps[i], kde=False, rug=True, norm_hist=True, color=colors[i], rug_kws={\"color\": 'red',  \"alpha\": .1,}, ax=ax)\n",
    "\n",
    "    plt.vlines(mus[i], 0, hline, color = 'navy')\n",
    "    \n",
    "    sns.lineplot(seqx, stats.norm.pdf(seqx, mus[i], sdvs[i]), color=colors[i])\n",
    "\n",
    "title = 'Distribuições'\n",
    "plt.title(title);"
   ]
  },
  {
   "cell_type": "code",
   "execution_count": null,
   "metadata": {},
   "outputs": [],
   "source": [
    "ret, text, text_stat, stat, pvalue = test_one_way_ANOVA5(samps[0],samps[1],samps[2],samps[3],samps[4])\n",
    "text, text_stat"
   ]
  },
  {
   "cell_type": "code",
   "execution_count": null,
   "metadata": {},
   "outputs": [],
   "source": [
    "df = pd.DataFrame([samps[0], [0]*N]).T\n",
    "df.columns = ['val', 'group']\n",
    "\n",
    "for i in range(1,5):\n",
    "    dfa = pd.DataFrame([samps[i], [i]*N]).T\n",
    "    dfa.columns = ['val', 'group']\n",
    "    \n",
    "    df = df.append(dfa)\n",
    "\n",
    "df.shape, df.group.unique()"
   ]
  },
  {
   "cell_type": "code",
   "execution_count": null,
   "metadata": {},
   "outputs": [],
   "source": [
    "df.head(2)"
   ]
  },
  {
   "cell_type": "code",
   "execution_count": null,
   "metadata": {},
   "outputs": [],
   "source": [
    "model = ols('val ~ group', data=df).fit()\n",
    "aov_table = sm.stats.anova_lm(model, typ=2)\n",
    "aov_table"
   ]
  },
  {
   "cell_type": "markdown",
   "metadata": {},
   "source": [
    "#### F-statistics x summary table"
   ]
  },
  {
   "cell_type": "code",
   "execution_count": null,
   "metadata": {},
   "outputs": [],
   "source": [
    "(29681.66/1) / (20468.15/148)"
   ]
  },
  {
   "cell_type": "code",
   "execution_count": null,
   "metadata": {},
   "outputs": [],
   "source": []
  },
  {
   "cell_type": "markdown",
   "metadata": {},
   "source": [
    "### Tukey test - Post-hoc test \n",
    "\n",
    "É chamado de test de Tukey, ou método de Tukey, ou teste de significância honesta de Tukey\n",
    " \n",
    "**POST-HOC** - depois disto\n",
    "\n",
    "**ANOVA** diz se as distribuições são diferentes mas não diz qual e quanto.\n",
    "\n",
    "https://en.wikipedia.org/wiki/Tukey%27s_range_test"
   ]
  },
  {
   "cell_type": "code",
   "execution_count": null,
   "metadata": {},
   "outputs": [],
   "source": [
    "plt.figure(figsize=(12,8), dpi=300)\n",
    "\n",
    "cardata = MultiComparison(df.val, df.group)\n",
    "results = cardata.tukeyhsd()\n",
    "\n",
    "title  = \"Tukey test: multiple comparisons between all pairs\"\n",
    "\n",
    "results.plot_simultaneous()\n",
    "plt.title(title);"
   ]
  },
  {
   "cell_type": "markdown",
   "metadata": {},
   "source": [
    "### Combinações"
   ]
  },
  {
   "cell_type": "code",
   "execution_count": null,
   "metadata": {},
   "outputs": [],
   "source": [
    "for i in range(samples-1):\n",
    "    for j in range(i+1, samples):\n",
    "        print(i, j)"
   ]
  },
  {
   "cell_type": "code",
   "execution_count": null,
   "metadata": {},
   "outputs": [],
   "source": [
    "results.meandiffs"
   ]
  },
  {
   "cell_type": "code",
   "execution_count": null,
   "metadata": {},
   "outputs": [],
   "source": [
    "results.confint"
   ]
  },
  {
   "cell_type": "code",
   "execution_count": null,
   "metadata": {},
   "outputs": [],
   "source": [
    "results.pvalues"
   ]
  },
  {
   "cell_type": "code",
   "execution_count": null,
   "metadata": {},
   "outputs": [],
   "source": [
    "print(results.summary())"
   ]
  },
  {
   "cell_type": "markdown",
   "metadata": {},
   "source": [
    "### Dunnett test\n",
    "\n",
    "  - Um único controle\n",
    "  - Múltiplos cases\n",
    "  \n",
    "Este é o caso quando queremos fazer um experimento de processo anti-inflamatório:\n",
    "  - Temos uma cultura de células em PBS\n",
    "  - Adicionamos um sinal inflmatório e medimos TNF após 30 min\n",
    "  - Após uma hora adicionamos dexametasona e medimos TNF-A após 2 horas\n",
    "  - Repetimos o experimento acima adicionando uma dada droga e medindo o TNF-A após 2 horas\n",
    "  \n",
    "    - Controle: PBS\n",
    "    - Case: controle positivo - inflamação\n",
    "    - Case: controle negativo - dexametazona\n",
    "    - Cases: mais 3 cases com 3 outras drogas\n",
    "  "
   ]
  },
  {
   "cell_type": "code",
   "execution_count": null,
   "metadata": {},
   "outputs": [],
   "source": [
    "samps=[]; mus = []; sdvs = []\n",
    "N   = 30\n",
    "hline = 0.03; colors = ['red', 'blue', 'green', 'brown', 'black', 'gold']\n",
    "sampNames = ['control', 'ctrl-pos', 'ctrl-neg', 'drg1', 'drg2', 'drg3']\n",
    "\n",
    "mus  = [20, 400, 40, 420, 240,90]\n",
    "sdvs = [10, 25,  10,  25,  20, 11]\n",
    "samples = len(mus)\n",
    "\n",
    "for i in range(samples):\n",
    "    samps.append(np.random.normal(loc=mus[i], scale=sdvs[i], size=N))\n",
    "\n",
    "\n",
    "fig = plt.figure(figsize=(12, 6))\n",
    "seqx = np.linspace(-20, 480, 100)\n",
    "\n",
    "for i in range(samples):\n",
    "    if i == 0:\n",
    "        ax  = sns.distplot(samps[i], kde=False, rug=True, norm_hist=True, label=sampNames[i], color=colors[i], rug_kws={\"color\": 'blue', \"alpha\": .1,})\n",
    "    else:\n",
    "        ret = sns.distplot(samps[i], kde=False, rug=True, norm_hist=True, label=sampNames[i], color=colors[i], rug_kws={\"color\": 'red',  \"alpha\": .1,}, ax=ax)\n",
    "\n",
    "    plt.vlines(mus[i], 0, hline, color = 'navy')\n",
    "    \n",
    "    sns.lineplot(seqx, stats.norm.pdf(seqx, mus[i], sdvs[i]), color=colors[i])\n",
    "\n",
    "title = 'Distribuições'\n",
    "plt.title(title)\n",
    "plt.legend;"
   ]
  },
  {
   "cell_type": "markdown",
   "metadata": {},
   "source": [
    "### Barplot"
   ]
  },
  {
   "cell_type": "code",
   "execution_count": null,
   "metadata": {},
   "outputs": [],
   "source": [
    "df2 = pd.DataFrame([samps[0], [sampNames[0]]*N]).T\n",
    "df2.columns = ['val', 'group']\n",
    "\n",
    "for i in range(1,samples):\n",
    "    dfa = pd.DataFrame([samps[i], [sampNames[i]]*N]).T\n",
    "    dfa.columns = ['val', 'group']\n",
    "    \n",
    "    df2 = df2.append(dfa)\n",
    "\n",
    "df2.shape, df2.group.unique()"
   ]
  },
  {
   "cell_type": "code",
   "execution_count": null,
   "metadata": {},
   "outputs": [],
   "source": [
    "plt.figure(figsize=(12,6))\n",
    "ci = 95\n",
    "\n",
    "ax = sns.barplot(x=\"group\", y=\"val\", data=df2, saturation=0.6, palette=colors, ci=ci)\n",
    "\n",
    "for i in range(3):\n",
    "    mu = np.mean(samps[i])\n",
    "    plt.hlines(mu, 0, 6, color = colors[i])\n",
    "\n",
    "plt.title(\"Teste de 3 drogas x controle pos e neg\")\n",
    "plt.ylabel('TNF-A (pmol)')\n",
    "plt.xlabel('')"
   ]
  },
  {
   "cell_type": "code",
   "execution_count": null,
   "metadata": {},
   "outputs": [],
   "source": [
    "sns.boxplot(x=\"group\", y=\"val\", data=df2, saturation=0.6, palette=colors);"
   ]
  },
  {
   "cell_type": "markdown",
   "metadata": {},
   "source": [
    "### 3 gráficos juntos"
   ]
  },
  {
   "cell_type": "code",
   "execution_count": null,
   "metadata": {},
   "outputs": [],
   "source": [
    "ci = 95\n",
    "\n",
    "fig, ax = plt.subplots(nrows=1, ncols=3, figsize=(20,10), sharey=True)\n",
    "\n",
    "ret = sns.barplot(x=\"group\", y=\"val\", data=df2, saturation=0.6, palette=colors, ci=ci, ax=ax[0])\n",
    "    \n",
    "ax[0].set_ylabel('TNF-A (pmol)')\n",
    "ax[0].set_xlabel('')\n",
    "ax[0].set_title(\"Distribuições com n = %d\"%(N))\n",
    "\n",
    "seqx = np.linspace(-20, 480, 100)\n",
    "\n",
    "for i in range(samples):\n",
    "    retQ = sns.distplot(samps[i], kde=True, rug=True, norm_hist=True, label=sampNames[i], color=colors[i], vertical=True, rug_kws={\"color\": 'blue', \"alpha\": .1,}, ax=ax[1])\n",
    "    # ax[1].vlines(mus[i], 0, hline, color = 'navy')\n",
    "    \n",
    "    # sns.lineplot(seqx, stats.norm.pdf(seqx, mus[i], sdvs[i]), color=colors[i], ax=ax[1])\n",
    "\n",
    "ax[1].legend()\n",
    "\n",
    "sns.boxplot(x=\"group\", y=\"val\", data=df2, saturation=0.6, palette=colors, ax=ax[2])\n",
    "ax[2].set_ylabel('')\n",
    "ax[2].set_xlabel('')\n",
    "ax[2].set_title(\"box-plot\");"
   ]
  },
  {
   "cell_type": "code",
   "execution_count": null,
   "metadata": {},
   "outputs": [],
   "source": [
    "df2.group.unique()"
   ]
  },
  {
   "cell_type": "code",
   "execution_count": null,
   "metadata": {},
   "outputs": [],
   "source": [
    "df2.head()"
   ]
  },
  {
   "cell_type": "code",
   "execution_count": null,
   "metadata": {},
   "outputs": [],
   "source": [
    "try:\n",
    "    os.mkdir('../tmp')\n",
    "except:\n",
    "    pass\n",
    "\n",
    "df2.to_csv('../tmp/table.tsv', sep='\\t', index=False)"
   ]
  },
  {
   "cell_type": "code",
   "execution_count": null,
   "metadata": {
    "scrolled": true
   },
   "outputs": [],
   "source": [
    "df3 = pd.read_csv('../tmp/table.tsv', sep='\\t')\n",
    "df3.head(3)"
   ]
  },
  {
   "cell_type": "markdown",
   "metadata": {},
   "source": [
    "### Interfaceando R"
   ]
  },
  {
   "cell_type": "code",
   "execution_count": null,
   "metadata": {},
   "outputs": [],
   "source": [
    "os.system(\"Rscript calcd.R\")"
   ]
  },
  {
   "cell_type": "code",
   "execution_count": null,
   "metadata": {},
   "outputs": [],
   "source": [
    "fname = 'dunnet_result.tsv'\n",
    "filefull = os.path.join('../tmp/', fname)\n",
    "    \n",
    "dfd = pd.read_csv(filefull, sep='\\t')\n",
    "dfd"
   ]
  },
  {
   "cell_type": "code",
   "execution_count": null,
   "metadata": {},
   "outputs": [],
   "source": [
    "gamma = stats.t.ppf(0.025, N-1)\n",
    "gamma"
   ]
  },
  {
   "cell_type": "code",
   "execution_count": null,
   "metadata": {},
   "outputs": [],
   "source": [
    "ci = 95\n",
    "\n",
    "fig, ax = plt.subplots(nrows=1, ncols=3, figsize=(20,10), sharey=True)\n",
    "\n",
    "ret = sns.barplot(x=\"group\", y=\"val\", data=df2, saturation=0.6, palette=colors, ci=ci, ax=ax[0])\n",
    "\n",
    "ax[0].set_ylabel('TNF-A (pmol)')\n",
    "ax[0].set_xlabel('')\n",
    "ax[0].set_title(\"Distribuições com n = %d\\nDunnett-test, comparações contra controle positivo\"%(N))\n",
    "\n",
    "y1 = 380; dely = 32\n",
    "\n",
    "#-- barras de erros\n",
    "for j in [0,1,2,3, 4]:\n",
    "    y1 += dely\n",
    "    x1 = 0 if j==0 else j+1\n",
    "    xt = j if j<=1 else 1.5\n",
    "\n",
    "    ax[0].hlines(y=y1, xmin=1, xmax=x1, colors='black')\n",
    "    text = 'pval %.1e'%(dfd.iloc[j].pvalue)\n",
    "\n",
    "    ax[0].text(x=xt, y=y1+10, s=text)\n",
    "\n",
    "seqx = np.linspace(-20, 480, 100)\n",
    "\n",
    "for i in range(samples):\n",
    "    retQ = sns.distplot(samps[i], kde=True, rug=True, norm_hist=True, label=sampNames[i], color=colors[i], vertical=True, rug_kws={\"color\": 'blue', \"alpha\": .1,}, ax=ax[1])\n",
    "\n",
    "ax[1].legend()\n",
    "xerror = 0.02; delxerror = 0.0025\n",
    "\n",
    "#--- medias e barra de erro na distribuição\n",
    "for i in range(samples):\n",
    "    mu    = np.mean(samps[i])\n",
    "    SEM   = np.std(samps[i])/np.sqrt(N)\n",
    "    error = gamma * SEM\n",
    "\n",
    "    xerror += delxerror\n",
    "\n",
    "    ax[1].hlines(y=mu, xmin=0, xmax=0.04, colors='black')\n",
    "    ax[1].vlines(x=xerror, ymin=mu+error, ymax=mu-error, colors='black')\n",
    "\n",
    "ax[1].set_ylabel('')\n",
    "ax[1].set_xlabel('percentagem (%)')\n",
    "ax[1].set_title(\"distribuições\");\n",
    "\n",
    "\n",
    "sns.boxplot(x=\"group\", y=\"val\", data=df2, saturation=0.6, palette=colors, ax=ax[2])\n",
    "ax[2].set_ylabel('')\n",
    "ax[2].set_xlabel('')\n",
    "ax[2].set_title(\"box-plot\");"
   ]
  }
 ],
 "metadata": {
  "kernelspec": {
   "display_name": "Python 3",
   "language": "python",
   "name": "python3"
  },
  "language_info": {
   "codemirror_mode": {
    "name": "ipython",
    "version": 3
   },
   "file_extension": ".py",
   "mimetype": "text/x-python",
   "name": "python",
   "nbconvert_exporter": "python",
   "pygments_lexer": "ipython3",
   "version": "3.6.9"
  }
 },
 "nbformat": 4,
 "nbformat_minor": 4
}
