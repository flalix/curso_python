{
 "cells": [
  {
   "cell_type": "code",
   "execution_count": null,
   "metadata": {},
   "outputs": [],
   "source": [
    "import os, sys\n",
    "from scipy import stats\n",
    "import numpy as np\n",
    "import pandas as pd\n",
    "\n",
    "from scipy import stats\n",
    "\n",
    "sys.path.insert(1, '../libs/')\n",
    "from stat_lib import *\n",
    "\n",
    "import seaborn as sns\n",
    "import matplotlib.pyplot as plt\n",
    "%matplotlib inline"
   ]
  },
  {
   "cell_type": "code",
   "execution_count": null,
   "metadata": {},
   "outputs": [],
   "source": [
    "# em stat_lib --> definição do que é colors\n",
    "colors"
   ]
  },
  {
   "cell_type": "markdown",
   "metadata": {},
   "source": [
    "### Medido a glicemina no lab e apresentando resultados\n",
    "\n",
    "O que você faz no lab?\n",
    "\n",
    "Primeiro, você convoca 30 pacientes (escolher - critérios inclusão x exclusão)   \n",
    "Explica o experimento que está fazendo e pede autorização (consentimento assistido).  \n",
    "Em um determinado dia você recolhe amostras para exame de glicemia, pós-jejum.  \n",
    "Depois, medica os pacientes.  \n",
    "Passados 24 h você recolhe novas amostras, pós-jejum, e faz a comparação.\n",
    "\n",
    "**Qual o erro neste desenho experimental???**\n",
    "\n",
    "Faltou o placebo ! O falso medicamento  \n",
    "Effeito \"psicológico\"  \n",
    "Tem que demonstrar que os Pacientes que tomaram Placebo estão próximos do Controle  \n",
    "Os medicados longe do Controle e do Placebo.\n",
    "\n",
    "Ainda poderia ter um Controle Positivo: uma droga anti-glicêmica de mercado!"
   ]
  },
  {
   "cell_type": "code",
   "execution_count": null,
   "metadata": {},
   "outputs": [],
   "source": [
    "muC = 140; sdvC = 15\n",
    "muH = 110; sdvH = 15\n",
    "muM = 105; sdvM = 12\n",
    "N   = 30\n",
    "\n",
    "sampC = np.random.normal(loc=muC, scale=sdvC, size=N)\n",
    "sampH = np.random.normal(loc=muH, scale=sdvH, size=N)\n",
    "sampM = np.random.normal(loc=muM, scale=sdvM, size=N)\n",
    "\n",
    "mucC = np.mean(sampC); sdvcC = np.std(sampC)\n",
    "mucH = np.mean(sampH); sdvcH = np.std(sampH)\n",
    "mucM = np.mean(sampM); sdvcM = np.std(sampM)"
   ]
  },
  {
   "cell_type": "markdown",
   "metadata": {},
   "source": [
    "### O que vocẽ faz no lab? No Prisma ..."
   ]
  },
  {
   "cell_type": "code",
   "execution_count": null,
   "metadata": {},
   "outputs": [],
   "source": [
    "df = pd.DataFrame([sampC, sampH, sampM]).T\n",
    "df.columns = ['control', 'masc', 'fem']\n",
    "df.head()"
   ]
  },
  {
   "cell_type": "markdown",
   "metadata": {},
   "source": [
    "## Empilhamento (stack) - valor x classe"
   ]
  },
  {
   "cell_type": "code",
   "execution_count": null,
   "metadata": {},
   "outputs": [],
   "source": [
    "dfs = pd.DataFrame([sampC, ['control']*len(sampC)]).T\n",
    "dfs.columns = ['val', '_class']\n",
    "\n",
    "dfa = pd.DataFrame([sampH, ['masc']*len(sampC)]).T\n",
    "dfa.columns = ['val', '_class']\n",
    "dfs = dfs.append(dfa)\n",
    "\n",
    "dfa = pd.DataFrame([sampM, ['fem']*len(sampC)]).T\n",
    "dfa.columns = ['val', '_class']\n",
    "dfs = dfs.append(dfa)\n",
    "\n",
    "dfs.shape, dfs['_class'].unique()                   "
   ]
  },
  {
   "cell_type": "code",
   "execution_count": null,
   "metadata": {},
   "outputs": [],
   "source": [
    "dfs.head(3)"
   ]
  },
  {
   "cell_type": "code",
   "execution_count": null,
   "metadata": {},
   "outputs": [],
   "source": [
    "dfs.tail(3)"
   ]
  },
  {
   "cell_type": "markdown",
   "metadata": {},
   "source": [
    "### Barplot com Seaborn\n",
    "\n",
    "https://seaborn.pydata.org/generated/seaborn.barplot.html"
   ]
  },
  {
   "cell_type": "code",
   "execution_count": null,
   "metadata": {},
   "outputs": [],
   "source": [
    "plt.figure(figsize=(12,6))\n",
    "\n",
    "colors = ['yellow', 'blue', 'red']\n",
    "ci = 95\n",
    "\n",
    "ax = sns.barplot(x=\"_class\", y=\"val\", data=dfs, saturation=0.6, palette=colors, ci=ci)\n",
    "plt.title(\"Tratamento de Glicemia\")\n",
    "plt.ylabel('glicemia (mg/dl)')\n",
    "plt.xlabel('')"
   ]
  },
  {
   "cell_type": "code",
   "execution_count": null,
   "metadata": {},
   "outputs": [],
   "source": [
    "retH, textH, text_statH, statH, pvalueH = ttest(sampC, sampH, equal_var=False)\n",
    "textH, text_statH"
   ]
  },
  {
   "cell_type": "code",
   "execution_count": null,
   "metadata": {},
   "outputs": [],
   "source": [
    "retM, textM, text_statM, statM, pvalueM = ttest(sampC, sampM, equal_var=False)\n",
    "textM, text_statM"
   ]
  },
  {
   "cell_type": "code",
   "execution_count": null,
   "metadata": {},
   "outputs": [],
   "source": [
    "retx, textx, text_statx, statx, pvaluex = ttest(sampH, sampM, equal_var=False)\n",
    "textx, text_statx"
   ]
  },
  {
   "cell_type": "markdown",
   "metadata": {},
   "source": [
    "### Karamba!!! aonde estão as funções?\n",
    "\n",
    "  - Porque não declarei as funções no Jupyter Notebook\n",
    "  - as funções estão em stat_lib.py (../libs/)"
   ]
  },
  {
   "cell_type": "markdown",
   "metadata": {},
   "source": [
    "### Significância"
   ]
  },
  {
   "cell_type": "code",
   "execution_count": null,
   "metadata": {},
   "outputs": [],
   "source": [
    "plt.figure(figsize=(12,6))\n",
    "\n",
    "colors = ['yellow', 'blue', 'red']\n",
    "ci = 95\n",
    "\n",
    "ax = sns.barplot(x=\"_class\", y=\"val\", data=dfs, saturation=0.6, palette=colors, ci=ci)\n",
    "plt.title(\"Tratamento de Glicemia com n = %d\"%(N))\n",
    "plt.ylabel('glicemia (mg/dl)')\n",
    "plt.xlabel('')\n",
    "\n",
    "y1 = 150; del_y1 = 5; xmin=0; xmax=1\n",
    "plt.hlines(y=y1, xmin=xmin, xmax=xmax, colors='black')\n",
    "plt.text(x=.3, y=y1+del_y1, s=text_statH)\n",
    "\n",
    "y2 = 170; del_y2 = 5; xmin=0; xmax=2\n",
    "plt.hlines(y=y2, xmin=xmin, xmax=xmax, colors='black')\n",
    "plt.text(x=1+.3, y=y2+del_y2, s=text_statM)\n",
    "\n",
    "plt.ylim(0, 200);"
   ]
  },
  {
   "cell_type": "markdown",
   "metadata": {},
   "source": [
    "### As distribuições são nomais? teste de Shapiro-Wilkis"
   ]
  },
  {
   "cell_type": "code",
   "execution_count": null,
   "metadata": {},
   "outputs": [],
   "source": [
    "retNormC, textNormC, text_statNormC, statNormC, pvalueNormC = test_normality_desc(sampC, 0.05)\n",
    "textNormC, text_statNormC"
   ]
  },
  {
   "cell_type": "code",
   "execution_count": null,
   "metadata": {},
   "outputs": [],
   "source": [
    "retNormH, textNormH, text_statNormH, statNormH, pvalueNormH = test_normality_desc(sampH, 0.05)\n",
    "textNormH, text_statNormH"
   ]
  },
  {
   "cell_type": "code",
   "execution_count": null,
   "metadata": {},
   "outputs": [],
   "source": [
    "retNormM, textNormM, text_statNormM, statNormM, pvalueNormM = test_normality_desc(sampM, 0.05)\n",
    "textNormM, text_statNormM"
   ]
  },
  {
   "cell_type": "markdown",
   "metadata": {},
   "source": [
    "### ANOVA - análise de variância (Ronald Fisher)"
   ]
  },
  {
   "cell_type": "code",
   "execution_count": null,
   "metadata": {},
   "outputs": [],
   "source": [
    "stats.f_oneway(sampC, sampH, sampM)"
   ]
  },
  {
   "cell_type": "code",
   "execution_count": null,
   "metadata": {},
   "outputs": [],
   "source": [
    "# está no stat_lib\n",
    "ret, text, text_stat, stat, pvalue = test_one_way_ANOVA3(sampC, sampH, sampM, alpha = 0.05)\n",
    "text, text_stat"
   ]
  },
  {
   "cell_type": "markdown",
   "metadata": {},
   "source": [
    "### Mas quem é diferente???"
   ]
  },
  {
   "cell_type": "code",
   "execution_count": null,
   "metadata": {},
   "outputs": [],
   "source": [
    "plt.figure(figsize=(10,8))\n",
    "ax   = sns.distplot(sampC, kde=True, rug=True, norm_hist=True, color='yellow', label='controle', vertical=True, rug_kws={\"color\": 'yellow', \"alpha\": .1,})\n",
    "retH = sns.distplot(sampH, kde=True, rug=True, norm_hist=True, color='blue',   label='homem',    vertical=True, rug_kws={\"color\": 'blue',  \"alpha\": .1,}, ax=ax)\n",
    "retM = sns.distplot(sampM, kde=True, rug=True, norm_hist=True, color='red',    label='mulher',   vertical=True, rug_kws={\"color\": 'red',  \"alpha\": .1,}, ax=ax)\n",
    "plt.legend();"
   ]
  },
  {
   "cell_type": "code",
   "execution_count": null,
   "metadata": {},
   "outputs": [],
   "source": [
    "colors = ['yellow', 'blue', 'red']\n",
    "ci = 95\n",
    "\n",
    "# plt.figure(figsize=(12,6))\n",
    "fig, ax = plt.subplots(nrows=1, ncols=2, figsize=(14,6), sharey=True)\n",
    "\n",
    "ret = sns.barplot(x=\"_class\", y=\"val\", data=dfs, saturation=0.6, palette=colors, ci=ci, ax=ax[0])\n",
    "\n",
    "ax[0].set_ylabel('glicemia (mg/dl)')\n",
    "ax[0].set_xlabel('')\n",
    "\n",
    "ax[0].set_title(\"Tratamento de Glicemia com n = %d\"%(N))\n",
    "\n",
    "\n",
    "y1 = 150; del_y1 = 5; xmin=0; xmax=1\n",
    "ax[0].hlines(y=y1, xmin=xmin, xmax=xmax, colors='black')\n",
    "ax[0].text(x=.3, y=y1+del_y1, s=text_statH)\n",
    "\n",
    "y2 = 170; del_y2 = 5; xmin=1; xmax=2\n",
    "ax[0].hlines(y=y2, xmin=0, xmax=xmax, colors='black')\n",
    "ax[0].text(x=1+.3, y=y2+del_y2, s=text_statM)\n",
    "\n",
    "ax[0].set_ylim(45, 230);\n",
    "\n",
    "'''\n",
    "retC = sns.distplot(sampC, kde=True, rug=True, norm_hist=True, color='yellow', vertical=True, rug_kws={\"color\": 'yellow', \"alpha\": .1,}, ax=ax[1])\n",
    "retH = sns.distplot(sampH, kde=True, rug=True, norm_hist=True, color='blue',   vertical=True, rug_kws={\"color\": 'blue',  \"alpha\": .1,}, ax=ax[1])\n",
    "retM = sns.distplot(sampM, kde=True, rug=True, norm_hist=True, color='red',    vertical=True, rug_kws={\"color\": 'red',  \"alpha\": .1,}, ax=ax[1])\n",
    "'''\n",
    "retC = sns.distplot(sampC, kde=True, rug=True, norm_hist=True, color='yellow', label='controle', vertical=True, rug_kws={\"color\": 'yellow', \"alpha\": .1,}, ax=ax[1])\n",
    "retH = sns.distplot(sampH, kde=True, rug=True, norm_hist=True, color='blue',   label='homem',    vertical=True, rug_kws={\"color\": 'blue',  \"alpha\": .1,}, ax=ax[1])\n",
    "retM = sns.distplot(sampM, kde=True, rug=True, norm_hist=True, color='red',    label='mulher',   vertical=True, rug_kws={\"color\": 'red',  \"alpha\": .1,}, ax=ax[1])\n",
    "\n",
    "ax[1].legend()\n",
    "\n",
    "ax[1].hlines(y=muC, xmin=0, xmax=0.035, colors='black')\n",
    "ax[1].hlines(y=muH, xmin=0, xmax=0.030, colors='navy')\n",
    "ax[1].hlines(y=muM, xmin=0, xmax=0.030, colors='darkred')\n",
    "\n",
    "ax[1].set_ylabel('')\n",
    "ax[1].set_xlabel('percentagem (%)')\n",
    "ax[1].set_title(\"distribuições\")\n"
   ]
  },
  {
   "cell_type": "markdown",
   "metadata": {},
   "source": [
    "### SEM = SSD / sqrt(n)"
   ]
  },
  {
   "cell_type": "markdown",
   "metadata": {},
   "source": [
    "### Intervalo de confiança"
   ]
  },
  {
   "cell_type": "code",
   "execution_count": null,
   "metadata": {},
   "outputs": [],
   "source": [
    "alpha=.05\n",
    "\n",
    "CI1, SEM1, nC, nH, effect_size1, diff1 = calc_intervalo_confianca(sampC, sampH, alpha=alpha)\n",
    "\n",
    "delIC1 = (CI1[0]-CI1[1])/2\n",
    "list(np.round(CI1,2)), np.round(delIC1,1)"
   ]
  },
  {
   "cell_type": "code",
   "execution_count": null,
   "metadata": {},
   "outputs": [],
   "source": [
    "CI2, SEM2, nC, nH, effect_size2, diff2 = calc_intervalo_confianca(sampC, sampM, alpha=alpha)\n",
    "\n",
    "delIC2 = (CI2[0]-CI2[1])/2\n",
    "list(np.round(CI2,2)), np.round(delIC2,1)"
   ]
  },
  {
   "cell_type": "code",
   "execution_count": null,
   "metadata": {},
   "outputs": [],
   "source": [
    "N"
   ]
  },
  {
   "cell_type": "code",
   "execution_count": null,
   "metadata": {},
   "outputs": [],
   "source": [
    "# alpha = a comparação é somente se diminuiu ! - é monocaudal\n",
    "gamma = stats.t.ppf(0.025, N-1)\n",
    "gamma"
   ]
  },
  {
   "cell_type": "code",
   "execution_count": null,
   "metadata": {},
   "outputs": [],
   "source": [
    "gamma = stats.t.ppf(0.975, N-1)\n",
    "gamma"
   ]
  },
  {
   "cell_type": "markdown",
   "metadata": {},
   "source": [
    "### Como calcula-se a barra de erro:\n",
    "\n",
    "metade altura = gamma * SEM  \n",
    "  \n",
    "gamma ~  2  \n",
    "  \n",
    "SEM = SSD / sqrt(n) ~ 15 / sqrt(n=30) ~ 15 / 5 = 3  \n",
    "\n",
    "metade altura ~ 2 * 3  = 6\n",
    "\n"
   ]
  },
  {
   "cell_type": "code",
   "execution_count": null,
   "metadata": {},
   "outputs": [],
   "source": []
  },
  {
   "cell_type": "code",
   "execution_count": null,
   "metadata": {},
   "outputs": [],
   "source": [
    "SEM0 = sdvcC/np.sqrt(N)\n",
    "SEM1 = sdvcH/np.sqrt(N)\n",
    "SEM2 = sdvcM/np.sqrt(N)\n",
    "\n",
    "erro0 = gamma * SEM0\n",
    "erro1 = gamma * SEM1\n",
    "erro2 = gamma * SEM2\n",
    "\n",
    "erro0, erro1, erro2"
   ]
  },
  {
   "cell_type": "code",
   "execution_count": null,
   "metadata": {},
   "outputs": [],
   "source": []
  },
  {
   "cell_type": "code",
   "execution_count": null,
   "metadata": {},
   "outputs": [],
   "source": [
    "# colors = ['yellow', 'blue', 'red']\n",
    "ci = 95\n",
    "\n",
    "fig, ax = plt.subplots(nrows=1, ncols=2, figsize=(14,6), sharey=True)\n",
    "\n",
    "ret = sns.barplot(x=\"_class\", y=\"val\", data=dfs, saturation=0.6, palette=colors, ci=ci, ax=ax[0])\n",
    "ax[0].set_ylim(0, 230);\n",
    "\n",
    "ax[0].set_ylabel('glicemia (mg/dl)')\n",
    "ax[0].set_xlabel('')\n",
    "\n",
    "ax[0].set_title(\"Tratamento de Glicemia com n = %d\"%(N))\n",
    "\n",
    "\n",
    "y1 = 150; del_y1 = 5; xmin=0; xmax=1\n",
    "ax[0].hlines(y=y1, xmin=xmin, xmax=xmax, colors='black')\n",
    "ax[0].text(x=.3, y=y1+del_y1, s=text_statH)\n",
    "\n",
    "y2 = 170; del_y2 = 5; xmin=1; xmax=2\n",
    "ax[0].hlines(y=y2, xmin=0, xmax=xmax, colors='black')\n",
    "ax[0].text(x=1+.3, y=y2+del_y2, s=text_statM)\n",
    "\n",
    "'''\n",
    "retC = sns.distplot(sampC, kde=True, rug=True, norm_hist=True, color='yellow', vertical=True, rug_kws={\"color\": 'yellow', \"alpha\": .1,}, ax=ax[1])\n",
    "retH = sns.distplot(sampH, kde=True, rug=True, norm_hist=True, color='blue',   vertical=True, rug_kws={\"color\": 'blue',  \"alpha\": .1,}, ax=ax[1])\n",
    "retM = sns.distplot(sampM, kde=True, rug=True, norm_hist=True, color='red',    vertical=True, rug_kws={\"color\": 'red',  \"alpha\": .1,}, ax=ax[1])\n",
    "'''\n",
    "retC = sns.distplot(sampC, kde=True, rug=True, norm_hist=True, color='yellow', label='controle', vertical=True, rug_kws={\"color\": 'yellow', \"alpha\": .1,}, ax=ax[1])\n",
    "retH = sns.distplot(sampH, kde=True, rug=True, norm_hist=True, color='blue',   label='homem',    vertical=True, rug_kws={\"color\": 'blue',  \"alpha\": .1,}, ax=ax[1])\n",
    "retM = sns.distplot(sampM, kde=True, rug=True, norm_hist=True, color='red',    label='mulher',   vertical=True, rug_kws={\"color\": 'red',  \"alpha\": .1,}, ax=ax[1])\n",
    "\n",
    "ax[1].legend()\n",
    "\n",
    "ax[1].hlines(y=muC, xmin=0, xmax=0.035, colors='black')\n",
    "ax[1].hlines(y=muH, xmin=0, xmax=0.03,  colors='black')\n",
    "ax[1].hlines(y=muM, xmin=0, xmax=0.03,  colors='black')\n",
    "\n",
    "# barra de erro corresponde fi*SEM\n",
    "\n",
    "ax[1].vlines(x=0.030, ymin=muC+erro0, ymax=muC-erro0, colors='black')\n",
    "ax[1].vlines(x=0.025, ymin=muH+erro1, ymax=muH-erro1, colors='black')\n",
    "ax[1].vlines(x=0.020, ymin=muM+erro2, ymax=muM-erro2, colors='black')\n",
    "\n",
    "ax[1].set_ylabel('')\n",
    "ax[1].set_xlabel('percentagem (%)')\n",
    "ax[1].set_title(\"distribuições\");\n"
   ]
  },
  {
   "cell_type": "code",
   "execution_count": null,
   "metadata": {},
   "outputs": [],
   "source": [
    "dfs.head()"
   ]
  },
  {
   "cell_type": "code",
   "execution_count": null,
   "metadata": {},
   "outputs": [],
   "source": [
    "sns.boxplot(x=\"_class\", y=\"val\", data=dfs, saturation=0.6, palette=colors)"
   ]
  },
  {
   "cell_type": "markdown",
   "metadata": {},
   "source": [
    "### Tudo junto e misturado"
   ]
  },
  {
   "cell_type": "code",
   "execution_count": null,
   "metadata": {},
   "outputs": [],
   "source": [
    "ci = 95\n",
    "\n",
    "fig, ax = plt.subplots(nrows=1, ncols=3, figsize=(19,6), sharey=True)\n",
    "\n",
    "ret = sns.barplot(x=\"_class\", y=\"val\", data=dfs, saturation=0.6, palette=colors, ci=ci, ax=ax[0])\n",
    "ax[0].set_ylim(0, 230);\n",
    "\n",
    "ax[0].set_ylabel('glicemia (mg/dl)')\n",
    "ax[0].set_xlabel('')\n",
    "\n",
    "ax[0].set_title(\"Tratamento de Glicemia com n = %d\"%(N))\n",
    "\n",
    "\n",
    "y1 = 150; del_y1 = 5; xmin=0; xmax=1\n",
    "ax[0].hlines(y=y1, xmin=xmin, xmax=xmax, colors='black')\n",
    "ax[0].text(x=.3, y=y1+del_y1, s=text_statH)\n",
    "\n",
    "y2 = 170; del_y2 = 5; xmin=1; xmax=2\n",
    "ax[0].hlines(y=y2, xmin=0, xmax=xmax, colors='black')\n",
    "ax[0].text(x=1+.3, y=y2+del_y2, s=text_statM)\n",
    "\n",
    "#-- ampliar o grafico\n",
    "ax[0].set_ylim(45,200)\n",
    "\n",
    "retC = sns.distplot(sampC, kde=True, rug=True, norm_hist=True, color='yellow', vertical=True, rug_kws={\"color\": 'yellow', \"alpha\": .1,}, ax=ax[1])\n",
    "retH = sns.distplot(sampH, kde=True, rug=True, norm_hist=True, color='blue',   vertical=True, rug_kws={\"color\": 'blue',  \"alpha\": .1,}, ax=ax[1])\n",
    "retM = sns.distplot(sampM, kde=True, rug=True, norm_hist=True, color='red',    vertical=True, rug_kws={\"color\": 'red',  \"alpha\": .1,}, ax=ax[1])\n",
    "\n",
    "ax[1].hlines(y=muC, xmin=0, xmax=0.035, colors='black')\n",
    "ax[1].hlines(y=muH, xmin=0, xmax=0.03,  colors='black')\n",
    "ax[1].hlines(y=muM, xmin=0, xmax=0.03,  colors='black')\n",
    "\n",
    "# barra de erro corresponde fi*SEM\n",
    "\n",
    "ax[1].vlines(x=0.032, ymin=muC+erro0, ymax=muC-erro0, colors='black')\n",
    "ax[1].vlines(x=0.028, ymin=muH+erro1, ymax=muH-erro1, colors='black')\n",
    "ax[1].vlines(x=0.026, ymin=muM+erro2, ymax=muM-erro2, colors='black')\n",
    "\n",
    "ax[1].set_ylabel('')\n",
    "ax[1].set_xlabel('percentagem (%)')\n",
    "ax[1].set_title(\"distribuições\");\n",
    "\n",
    "\n",
    "sns.boxplot(x=\"_class\", y=\"val\", data=dfs, saturation=0.6, palette=colors, ax=ax[2])\n",
    "ax[2].set_ylabel('')\n",
    "ax[2].set_xlabel('')\n",
    "ax[2].set_title(\"box-plot\");"
   ]
  },
  {
   "cell_type": "code",
   "execution_count": null,
   "metadata": {},
   "outputs": [],
   "source": []
  },
  {
   "cell_type": "code",
   "execution_count": null,
   "metadata": {},
   "outputs": [],
   "source": []
  }
 ],
 "metadata": {
  "kernelspec": {
   "display_name": "Python 3",
   "language": "python",
   "name": "python3"
  },
  "language_info": {
   "codemirror_mode": {
    "name": "ipython",
    "version": 3
   },
   "file_extension": ".py",
   "mimetype": "text/x-python",
   "name": "python",
   "nbconvert_exporter": "python",
   "pygments_lexer": "ipython3",
   "version": "3.6.9"
  }
 },
 "nbformat": 4,
 "nbformat_minor": 4
}
