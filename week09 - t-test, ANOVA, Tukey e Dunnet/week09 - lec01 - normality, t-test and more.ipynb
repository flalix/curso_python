{
 "cells": [
  {
   "cell_type": "code",
   "execution_count": null,
   "metadata": {},
   "outputs": [],
   "source": [
    "import sys, os\n",
    "from scipy import stats\n",
    "import numpy as np\n",
    "import pandas as pd\n",
    "\n",
    "from scipy import stats\n",
    "\n",
    "sys.path.insert(1, '../libs/')\n",
    "from stat_lib import *\n",
    "\n",
    "import seaborn as sns\n",
    "import matplotlib.pyplot as plt\n",
    "%matplotlib inline"
   ]
  },
  {
   "cell_type": "markdown",
   "metadata": {},
   "source": [
    "### Comparando-se o mesmo grupo duas vezes (pareado)\n",
    "\n",
    "Vamos supor que temos um grupo de pacientes que vão ser medicados. Medimos um determinado marcador (p.ex. glicemia) antes da medicação e depois da medicação. ** Desenho experimental e cálculo de número amostral (N).\n",
    "\n",
    "A principal pergunta: - O medicmaento fez efeito\n",
    "\n",
    "Caso a distribuição do biomarcador seja normal, podemos fazer o teste t-student para comparar os dois grupos.\n",
    "\n",
    "Glicose no sangue (mg/dl)\n",
    "  - normal: < 99 mg/dl\n",
    "  - pré-diabético: [100, 125] mg/dl\n",
    "  - diabético: > 125 mg/dl"
   ]
  },
  {
   "cell_type": "code",
   "execution_count": null,
   "metadata": {},
   "outputs": [],
   "source": [
    "mu1 = 140; sdv1 = 15\n",
    "mu2 = 110; sdv2 = 25\n",
    "N   = 30\n",
    "\n",
    "samp1 = np.random.normal(loc=mu1, scale=sdv1, size=N)\n",
    "samp2 = np.random.normal(loc=mu2, scale=sdv2, size=N)\n",
    "\n",
    "muc1 = np.mean(samp1); sdvc1 = np.std(samp1)\n",
    "muc2 = np.mean(samp2); sdvc2 = np.std(samp2)\n",
    "\n",
    "fig = plt.figure(figsize=(12, 6))\n",
    "\n",
    "#-- se mesmo eixo - figuras estão sobrepostas\n",
    "ax  = sns.distplot(samp1, kde=False, rug=True, norm_hist=True, color='blue', rug_kws={\"color\": 'blue', \"alpha\": .1,})\n",
    "ret = sns.distplot(samp2, kde=False, rug=True, norm_hist=True, color='red',  rug_kws={\"color\": 'red',  \"alpha\": .1,}, ax=ax)\n",
    "\n",
    "hline = 0.03\n",
    "\n",
    "plt.vlines(muc1, 0, hline, color = 'navy')\n",
    "plt.hlines(.015, muc1, muc1+sdvc1, color = 'navy');\n",
    "\n",
    "plt.vlines(muc2, 0, hline, color = 'red', linestyle='--')\n",
    "plt.hlines(.010, muc2, muc2+sdvc2, color = 'red', linestyle='--')\n",
    "\n",
    "plt.vlines(muc1, 0, hline, color = 'black', linestyle='-.')\n",
    "\n",
    "#--- fitando a distribuição normal com muc e sdvc\n",
    "#---                          Percent Point Function (PPF)\n",
    "# seqx = np.linspace(mu1-4*sdv1, mu2+4*sdv2, 100)\n",
    "seqx = np.linspace(40, 180, 100)\n",
    "sns.lineplot(seqx, stats.norm.pdf(seqx, muc1, sdvc1), color='navy')\n",
    "sns.lineplot(seqx, stats.norm.pdf(seqx, muc2, sdvc2), color='pink')\n",
    "\n",
    "title = 'Distância entre distribuições'\n",
    "title += '\\nnão medicados tem mu1 = %.2f e ssd1 = %.2f'%(muc1, sdvc1)\n",
    "title += '\\nmdicados tem mu2 = %.2f e ssd2 = %.2f'%(muc2, sdvc2)\n",
    "plt.title(title);"
   ]
  },
  {
   "cell_type": "code",
   "execution_count": null,
   "metadata": {},
   "outputs": [],
   "source": [
    "mu1, mu2"
   ]
  },
  {
   "cell_type": "code",
   "execution_count": null,
   "metadata": {},
   "outputs": [],
   "source": [
    "muc1, muc2"
   ]
  },
  {
   "cell_type": "markdown",
   "metadata": {},
   "source": [
    "### As distribuições são nomais? teste de Shaprio-Wilkis"
   ]
  },
  {
   "cell_type": "code",
   "execution_count": null,
   "metadata": {},
   "outputs": [],
   "source": [
    "def stat_asteristics(pval, NS='NS'):\n",
    "    if pval >= 0.05:   return NS\n",
    "    if pval > 0.01:    return '*'\n",
    "    if pval > 0.001:   return '**'\n",
    "    if pval > 0.0001:  return '***'\n",
    "    return '****'\n",
    "\n",
    "def test_normality_desc(series, alpha = 0.05, NS='NS'):\n",
    "    # teste de normalidade de Shapiro-Wilkis\n",
    "    stat, pvalue = stats.shapiro(series)\n",
    "\n",
    "    if pvalue > alpha:\n",
    "        text = 'A distribuição se assemelha a uma distribuição normal (não se rejeita a H0)'\n",
    "        ret = True\n",
    "    else:\n",
    "        text = 'A distribuição não se assemelha a uma distribuição normal (rejeita-se a H0)'\n",
    "        ret = False\n",
    "\n",
    "    text_stat = 'p-value %.2e (%s)'%(pvalue, stat_asteristics(pvalue, NS))\n",
    "\n",
    "    return ret, text, text_stat, stat, pvalue"
   ]
  },
  {
   "cell_type": "markdown",
   "metadata": {},
   "source": [
    "### Para controle"
   ]
  },
  {
   "cell_type": "code",
   "execution_count": null,
   "metadata": {},
   "outputs": [],
   "source": [
    "ret1, text1, text_stat1, stat1, pvalue1 = test_normality_desc(samp1, 0.05, NS='---')\n",
    "text1, text_stat1"
   ]
  },
  {
   "cell_type": "markdown",
   "metadata": {},
   "source": [
    "### Para tratado"
   ]
  },
  {
   "cell_type": "code",
   "execution_count": null,
   "metadata": {},
   "outputs": [],
   "source": [
    "ret2, text2, text_stat2, stat2, pvalue2 = test_normality_desc(samp2, 0.05, NS='---')\n",
    "text2, text_stat2"
   ]
  },
  {
   "cell_type": "markdown",
   "metadata": {},
   "source": [
    "### As variâncias iguais?"
   ]
  },
  {
   "cell_type": "code",
   "execution_count": null,
   "metadata": {},
   "outputs": [],
   "source": [
    "np.round(sdvc1,1), np.round(sdvc2,1)"
   ]
  },
  {
   "cell_type": "markdown",
   "metadata": {},
   "source": [
    "## ERRATA\n",
    "  - para setar equal_var não utilizamos ANOVA\n",
    "  - para saber se SSDs são diferentes podemos usar t-test também\n",
    "    - t-test(SSD1, SSD2)\n",
    "    - caso os valores pontuais se expressem em distribuições normais\n",
    "    - todo parâmetro tem uma média e um desvio padrão TAMBÉM !!! complicado?"
   ]
  },
  {
   "cell_type": "code",
   "execution_count": null,
   "metadata": {},
   "outputs": [],
   "source": []
  },
  {
   "cell_type": "markdown",
   "metadata": {},
   "source": [
    "### Teste-t\n",
    "\n",
    "**equal-var** \n",
    "If True (default), perform a standard independent 2 sample test that assumes equal population variances [1]. \n",
    "If False, perform Welch’s t-test, which does not assume equal population variance [2].\n",
    "\n",
    "https://docs.scipy.org/doc/scipy/reference/generated/scipy.stats.ttest_ind.html"
   ]
  },
  {
   "cell_type": "code",
   "execution_count": null,
   "metadata": {},
   "outputs": [],
   "source": [
    "def ttest(samp1, samp2, alpha = 0.05, equal_var=False):\n",
    "\n",
    "    stat, pvalue = stats.ttest_ind(samp1, samp2, equal_var = equal_var)\n",
    "\n",
    "    if pvalue > alpha:\n",
    "        text = 'As distribuições são similares (não se rejeita a H0)'\n",
    "        ret = True\n",
    "    else:\n",
    "        text = 'As distribuições não são similares (rejeita-se a H0)'\n",
    "        ret = False\n",
    "\n",
    "    text_stat = 'p-value %.2e (%s)'%(pvalue, stat_asteristics(pvalue))\n",
    "\n",
    "    return ret, text, text_stat, stat, pvalue"
   ]
  },
  {
   "cell_type": "code",
   "execution_count": null,
   "metadata": {},
   "outputs": [],
   "source": [
    "ret, text, text_stat, stat, pvalue = ttest(samp1, samp2, equal_var=False)\n",
    "text, text_stat"
   ]
  },
  {
   "cell_type": "markdown",
   "metadata": {},
   "source": [
    "### Como entendemos este resultado?\n",
    "\n",
    "  - Controle: pacientes não medicados\n",
    "  - Case:     pacientes medicados\n",
    "  \n",
    "  \n",
    "  - Se distriuições similares (t-test, diferença próxima a zero - e o intervalo de confiança passa pelo zero) significa que a droga não fez efeito\n",
    "  - Se distriuições distantes (t-test, intervalo de confiança (IC) longe do zero) significa que a droga fez efeito\n",
    "    - ter um efeito DESASTROSO, neste caso, se a diferença for positiva\n",
    "    - ter um efeito BENÉFICO  , neste caso, se a diferença for negativa\n",
    "  "
   ]
  },
  {
   "cell_type": "markdown",
   "metadata": {},
   "source": [
    "### O quão distante estão as distribuições???\n",
    "\n",
    "  - Vamos calcular:\n",
    "    - Intervalo de confiança\n",
    "    - Tamanho do efeito (effect size)\n",
    "    - A diferença entre as médias\n",
    "    - Mostrar como se apresenta estes resultados"
   ]
  },
  {
   "cell_type": "markdown",
   "metadata": {},
   "source": [
    "### Relembrando conceitos\n",
    "\n",
    "#### Teste t\n",
    "\n",
    "statistician William Sealy Gosset \n",
    "\n",
    "<font size=\"6\">t-stat = $\\frac{<X>-\\mu}{\\frac{SSD}{\\sqrt(n)}}$</font>\n",
    "\n",
    "de forma mais generalizada dadas duas distribuições X1 e X2\n",
    "\n",
    "<font size=\"6\">t-stat = $\\frac{<X1>-<X2>}{\\sqrt( \\frac{var1}{n1} + \\frac{var2}{n2}) }$</font>\n",
    "\n",
    "\n",
    "#### Tamanho do efeito (effect size)\n",
    "\n",
    "<font size=\"5\">$\\theta = \\frac{media_1 - media_2}{SSD}$</font>\n",
    "\n",
    "https://en.wikipedia.org/wiki/Effect_size\n",
    "\n",
    "\n",
    "#### Distância entre médias\n",
    "\n",
    "<font size=\"5\">$diff = media_1 - media_2$</font>\n",
    "\n",
    "\n",
    "#### SEM\n",
    "\n",
    "<font size=\"5\">$SEM = \\frac{SSD}{\\sqrt{n}}$</font>\n",
    "\n",
    "\n",
    "### Intervalo de confiança (confidence interval CI)\n",
    "\n",
    "<font size=\"5\">$CI = [mean - \\gamma_{inf} * SEM, mean + \\gamma_{sup} * SEM]$</font>\n",
    "\n",
    "onde $\\gamma$ é a cumulativa da distribuição paa uma dada probabilidade (p.ex. 95% confiança alpha = .025 para esquerda e 0.025 para a direita, quando bicaudal.\n",
    "\n",
    "\n",
    "  - ***Desafio*** - nosso estudo é bicaudal??\n"
   ]
  },
  {
   "cell_type": "code",
   "execution_count": null,
   "metadata": {},
   "outputs": [],
   "source": [
    "#-- função fi --> calcula o Gamma que um fator de \"confiança\" (~95%) da estatística\n",
    "# disribuição bi-caudal --> correto - intervalo de confiança\n",
    "\n",
    "# confiança é de 95% --> alpha = 0.05\n",
    "# confiança é de 99% --> alpha = 0.01\n",
    "\n",
    "def calc_fi(dof, is_normal=False, alpha=.05):\n",
    "    \n",
    "    alpha /= 2\n",
    "    if is_normal:\n",
    "        fi_inf = stats.norm.ppf(alpha, 0, 1)\n",
    "        fi_sup = stats.norm.ppf(1-alpha, 0, 1)\n",
    "    else:\n",
    "        fi_inf = stats.t.ppf( alpha, dof)\n",
    "        fi_sup = stats.t.ppf( (1-alpha), dof)\n",
    "\n",
    "    return np.array( [fi_inf, fi_sup])\n",
    "\n",
    "# samp1 = controle\n",
    "# samp2 = case\n",
    "def calc_intervalo_confianca(samp1, samp2, alpha=.05):\n",
    "    \n",
    "    n1 = len(samp1); n2 = len(samp2)\n",
    "    if n1 >= n2:\n",
    "        N = n1\n",
    "    else:\n",
    "        N = n2\n",
    "    dof = N-1\n",
    "\n",
    "    x = np.linspace(stats.t.ppf(0.01, dof), stats.t.ppf(0.99, dof), 100)\n",
    "    \n",
    "    muc1 = np.mean(samp1); sdvc1 = np.std(samp1)\n",
    "    muc2 = np.mean(samp2); sdvc2 = np.std(samp2)\n",
    "\n",
    "    diff = muc2 - muc1\n",
    "    sd_diff = np.sqrt(sdvc1**2 + sdvc2**2)\n",
    "    \n",
    "    effect_size = diff / sd_diff\n",
    "\n",
    "    # simulação\n",
    "    # gammas [-1.96, +1.96]\n",
    "    # gammas * SEM = [-1.96, +1.96] * 2 --> ~[-4 , 4]\n",
    "    # IC = diff + gamas * SEM --> 3 + ~[-4 , 4] --> [-1, 7]\n",
    "    # como não passa pelo zero --> p-value < 0.05\n",
    "    gammas = calc_fi(dof, alpha=alpha, is_normal=False)\n",
    "    SEM = np.sqrt(sdvc1**2/n1 + sdvc2**2/n2)\n",
    "    CI = (gammas * SEM) + diff\n",
    "    \n",
    "    return CI, SEM, n1, n2, effect_size, diff\n",
    "\n"
   ]
  },
  {
   "cell_type": "code",
   "execution_count": null,
   "metadata": {},
   "outputs": [],
   "source": [
    "alpha=.05\n",
    "\n",
    "CI, SEM, n1, n2, effect_size, diff = calc_intervalo_confianca(samp1, samp2, alpha=alpha)\n",
    "list(np.round(CI,2)), np.mean(list(np.round(CI,2)))"
   ]
  },
  {
   "cell_type": "code",
   "execution_count": null,
   "metadata": {},
   "outputs": [],
   "source": [
    "n1, n2, np.round(effect_size,2), np.round(diff,2)"
   ]
  },
  {
   "cell_type": "markdown",
   "metadata": {},
   "source": [
    "### Perguntas\n",
    "\n",
    "  - Porque a diferença deu negativa?\n",
    "  - Porque o Tamanho de Efeito é menor que a diferença?\n",
    "  - O que significa os valores do intervalo de confiança?\n"
   ]
  },
  {
   "cell_type": "markdown",
   "metadata": {},
   "source": [
    "### Como devo apresentar meus resultados?"
   ]
  },
  {
   "cell_type": "code",
   "execution_count": null,
   "metadata": {},
   "outputs": [],
   "source": [
    "print(\"Pacientes (n=%d) controle apresentaram média de glicemia de %.2f (%.2f) mg/dl e após tratamento a mesma foi para %.2f (%.2f) mg/dl\" %(N, muc1, sdvc1, muc2, sdvc2 ))\n",
    "print(\"O intervalo de confiança, para um coeficiente de confiança de %.1f%%, foi de [%.2f, %.2f] mg/dl\"%( 100*(1-alpha), CI[0], CI[1]))\n",
    "print(\"Utilizando-se t-test, com variâncias diferentes, o p-value calculado foi de %.1e%% o que indica um efeito positivo do medicamento.\"%(pvalue))\n",
    "print(\"Uma vez que o tamanho do efeito foi de %.2f mg/dl e a diferença das medias foi de %.2f mg/dl, apresentando uma diminuição na glicemia pós-tratamento\"%(effect_size, diff))"
   ]
  },
  {
   "cell_type": "markdown",
   "metadata": {},
   "source": [
    "### Exercício:\n",
    "\n",
    "  - Crie 2 grupos\n",
    "    - 30 homens\n",
    "    - 30 mulheres\n",
    "    \n",
    "  - Simule as glicemias e os resultados dos tratamentos\n",
    "  - Compare homens x mulheres:\n",
    "    - Antes do tratamento\n",
    "    - Depois do tratamento\n",
    "  - Compare todos os pacientes:\n",
    "    - Antes x Depois do tratamento\n",
    "  - Compare somente mulheres (depois somente homens):\n",
    "    - Antes x Depois do tratamento\n",
    "  - Análise seus resultados\n",
    "  - Descreva seus resultados\n",
    " \n",
    " \n",
    "#### Pergunta:\n",
    "\n",
    "  - O que fizemos de diferente com relação ao estudo anterior?\n",
    "    - a diferença é MÚLTIPLAS COMPARAÇÕES\n",
    "  - Posso comparar todos os pacientes antes e depois do tratamento? - independente de sexo (gênero)\n",
    "    - Responder: **desafio**  "
   ]
  },
  {
   "cell_type": "code",
   "execution_count": null,
   "metadata": {},
   "outputs": [],
   "source": [
    "Nh = 30; Nm = 28\n",
    "\n",
    "#-- media de homens antes do tratamento (controle) e depois do tratamento\n",
    "muha = 140; sdha = 15\n",
    "muhd = 110; sdhd = 25\n",
    "\n",
    "muma = 155; sdma = 13\n",
    "mumd = 121; sdmd = 18\n",
    "\n",
    "sampha = np.random.normal(loc=muha, scale=sdha, size=Nh)\n",
    "samphd = np.random.normal(loc=muhd, scale=sdhd, size=Nh)\n",
    "\n",
    "sampma = np.random.normal(loc=muma, scale=sdma, size=Nm)\n",
    "sampmd = np.random.normal(loc=mumd, scale=sdmd, size=Nm)"
   ]
  },
  {
   "cell_type": "code",
   "execution_count": null,
   "metadata": {},
   "outputs": [],
   "source": [
    "np.round(np.mean(sampha),2), np.round(np.mean(samphd),2)"
   ]
  },
  {
   "cell_type": "code",
   "execution_count": null,
   "metadata": {},
   "outputs": [],
   "source": [
    "np.round(np.mean(sampma),2), np.round(np.mean(sampmd),2)"
   ]
  },
  {
   "cell_type": "code",
   "execution_count": null,
   "metadata": {},
   "outputs": [],
   "source": []
  }
 ],
 "metadata": {
  "kernelspec": {
   "display_name": "Python 3",
   "language": "python",
   "name": "python3"
  },
  "language_info": {
   "codemirror_mode": {
    "name": "ipython",
    "version": 3
   },
   "file_extension": ".py",
   "mimetype": "text/x-python",
   "name": "python",
   "nbconvert_exporter": "python",
   "pygments_lexer": "ipython3",
   "version": "3.6.9"
  }
 },
 "nbformat": 4,
 "nbformat_minor": 4
}
