{
 "cells": [
  {
   "cell_type": "markdown",
   "metadata": {},
   "source": [
    "### R-project\n",
    "\n",
    "### How to install?\n",
    "\n",
    " - -c r = R channel\n",
    " \n",
    " - Veja a versão do R\n",
    "\n",
    "conda update -n base -c defaults conda\n",
    " \n",
    "conda install -c r r-essentials"
   ]
  },
  {
   "cell_type": "markdown",
   "metadata": {},
   "source": [
    "![R-project](../figure/nowwehaveR.png)"
   ]
  },
  {
   "cell_type": "markdown",
   "metadata": {},
   "source": [
    "### Ver se R funciona"
   ]
  },
  {
   "cell_type": "code",
   "execution_count": null,
   "metadata": {},
   "outputs": [],
   "source": [
    "a <- 3\n",
    "a**2"
   ]
  },
  {
   "cell_type": "markdown",
   "metadata": {},
   "source": [
    "### Instalando a library DescTools"
   ]
  },
  {
   "cell_type": "code",
   "execution_count": null,
   "metadata": {},
   "outputs": [],
   "source": [
    "version"
   ]
  },
  {
   "cell_type": "code",
   "execution_count": null,
   "metadata": {},
   "outputs": [],
   "source": [
    "# install.packages('multcomp')\n",
    "suppressMessages(suppressWarnings(library(multcomp)))"
   ]
  },
  {
   "cell_type": "code",
   "execution_count": null,
   "metadata": {},
   "outputs": [],
   "source": [
    "calc_dunnet <- function(fname='table.tsv', path = '../tmp/',\n",
    "                        groups=c(\"ctrl-pos\", \"control\", \"ctrl-neg\", 'drg1', 'drg2', 'drg3')) {\n",
    "    \n",
    "    df <- read.delim(paste0(path,fname), sep='\\t')\n",
    "    \n",
    "    df$group <- factor(df$group, levels = groups)\n",
    "    \n",
    "    fit <- aov(val ~ group, df)\n",
    "    dunnet <- glht(fit, linfct=mcp(group=\"Dunnett\"))\n",
    "    \n",
    "    summ <- summary(dunnet)\n",
    "    \n",
    "    dfr <- data.frame(summ$test$coefficients, summ$test$tstat, summ$test$pvalues)\n",
    "    colnames(dfr) <- c(\"estimate\", \"tstat\", \"pvalue\")\n",
    "\n",
    "    fname = 'dunnet_result.tsv'\n",
    "    write.table(dfr, file=paste0(path,fname), quote=FALSE, sep='\\t')\n",
    "}"
   ]
  },
  {
   "cell_type": "code",
   "execution_count": null,
   "metadata": {},
   "outputs": [],
   "source": [
    "calc_dunnet()"
   ]
  },
  {
   "cell_type": "markdown",
   "metadata": {},
   "source": [
    "### Runing R script"
   ]
  },
  {
   "cell_type": "code",
   "execution_count": null,
   "metadata": {},
   "outputs": [],
   "source": [
    "file.exists('rtest.R')"
   ]
  },
  {
   "cell_type": "code",
   "execution_count": null,
   "metadata": {},
   "outputs": [],
   "source": [
    "system(\"Rscript rtest.R\")"
   ]
  },
  {
   "cell_type": "code",
   "execution_count": null,
   "metadata": {},
   "outputs": [],
   "source": [
    "system(\"Rscript calcd.R\")"
   ]
  },
  {
   "cell_type": "code",
   "execution_count": null,
   "metadata": {},
   "outputs": [],
   "source": []
  }
 ],
 "metadata": {
  "kernelspec": {
   "display_name": "R",
   "language": "R",
   "name": "ir"
  },
  "language_info": {
   "codemirror_mode": "r",
   "file_extension": ".r",
   "mimetype": "text/x-r-source",
   "name": "R",
   "pygments_lexer": "r",
   "version": "3.5.1"
  }
 },
 "nbformat": 4,
 "nbformat_minor": 4
}
