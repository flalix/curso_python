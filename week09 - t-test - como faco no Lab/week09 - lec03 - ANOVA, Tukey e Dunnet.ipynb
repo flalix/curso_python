{
 "cells": [
  {
   "cell_type": "code",
   "execution_count": 2,
   "metadata": {},
   "outputs": [],
   "source": [
    "import os, sys\n",
    "from scipy import stats\n",
    "import numpy as np\n",
    "import pandas as pd\n",
    "\n",
    "from scipy import stats\n",
    "\n",
    "sys.path.insert(1, '../libs/')\n",
    "from stat_lib import *\n",
    "\n",
    "import seaborn as sns\n",
    "import matplotlib.pyplot as plt\n",
    "%matplotlib inline"
   ]
  },
  {
   "cell_type": "markdown",
   "metadata": {},
   "source": [
    "### Medido a glicemina no lab e apresentando resultados\n",
    "\n",
    "O que você faz no lab?\n",
    "\n",
    "Primeiro, você convoca 30 pacientes.  \n",
    "Explica o experimento que está fazendo e pede autorização (consentimento assistido).  \n",
    "Em um determinado dia você recolhe amostras para exame de glicemia, pós-jejum.  \n",
    "Depois, medica os pacientes.  \n",
    "Passados 24 h você recolhe novas amostras, pós-jejum, e faz a comparação."
   ]
  },
  {
   "cell_type": "code",
   "execution_count": 3,
   "metadata": {},
   "outputs": [],
   "source": [
    "muC  = 140; sdvC  = 15\n",
    "muH  = 110; sdvH  = 15\n",
    "muHO = 130; sdvHO = 20\n",
    "muM  = 105; sdvM  = 12\n",
    "muMO = 120; sdvMO = 15\n",
    "N   = 30\n",
    "\n",
    "sampC  = np.random.normal(loc=muC,  scale=sdvC,  size=N)\n",
    "sampH  = np.random.normal(loc=muH,  scale=sdvH,  size=N)\n",
    "sampHO = np.random.normal(loc=muHO, scale=sdvHO, size=N)\n",
    "sampM  = np.random.normal(loc=muM,  scale=sdvM,  size=N)\n",
    "sampMO = np.random.normal(loc=muMO, scale=sdvMO, size=N)\n",
    "\n",
    "mucC  = np.mean(sampC);  sdvcC  = np.std(sampC)\n",
    "mucH  = np.mean(sampH);  sdvcH  = np.std(sampH)\n",
    "mucHO = np.mean(sampHO); sdvcHO = np.std(sampHO)\n",
    "mucM  = np.mean(sampM);  sdvcM  = np.std(sampM)\n",
    "mucMO = np.mean(sampMO); sdvcMO = np.std(sampMO)"
   ]
  },
  {
   "cell_type": "markdown",
   "metadata": {},
   "source": [
    "### O que vocẽ faz no lab? No Prisma ..."
   ]
  },
  {
   "cell_type": "code",
   "execution_count": 5,
   "metadata": {},
   "outputs": [
    {
     "data": {
      "text/html": [
       "<div>\n",
       "<style scoped>\n",
       "    .dataframe tbody tr th:only-of-type {\n",
       "        vertical-align: middle;\n",
       "    }\n",
       "\n",
       "    .dataframe tbody tr th {\n",
       "        vertical-align: top;\n",
       "    }\n",
       "\n",
       "    .dataframe thead th {\n",
       "        text-align: right;\n",
       "    }\n",
       "</style>\n",
       "<table border=\"1\" class=\"dataframe\">\n",
       "  <thead>\n",
       "    <tr style=\"text-align: right;\">\n",
       "      <th></th>\n",
       "      <th>control</th>\n",
       "      <th>masc</th>\n",
       "      <th>mascObeso</th>\n",
       "      <th>fem</th>\n",
       "      <th>femObeso</th>\n",
       "    </tr>\n",
       "  </thead>\n",
       "  <tbody>\n",
       "    <tr>\n",
       "      <th>0</th>\n",
       "      <td>145.163985</td>\n",
       "      <td>89.895937</td>\n",
       "      <td>157.489683</td>\n",
       "      <td>98.896785</td>\n",
       "      <td>111.651331</td>\n",
       "    </tr>\n",
       "    <tr>\n",
       "      <th>1</th>\n",
       "      <td>151.105904</td>\n",
       "      <td>118.109033</td>\n",
       "      <td>126.618391</td>\n",
       "      <td>98.208665</td>\n",
       "      <td>113.207313</td>\n",
       "    </tr>\n",
       "    <tr>\n",
       "      <th>2</th>\n",
       "      <td>147.144394</td>\n",
       "      <td>119.497035</td>\n",
       "      <td>142.041717</td>\n",
       "      <td>98.102908</td>\n",
       "      <td>129.920881</td>\n",
       "    </tr>\n",
       "    <tr>\n",
       "      <th>3</th>\n",
       "      <td>147.612592</td>\n",
       "      <td>82.896431</td>\n",
       "      <td>118.090281</td>\n",
       "      <td>83.839713</td>\n",
       "      <td>103.083760</td>\n",
       "    </tr>\n",
       "    <tr>\n",
       "      <th>4</th>\n",
       "      <td>146.658696</td>\n",
       "      <td>108.362732</td>\n",
       "      <td>95.547882</td>\n",
       "      <td>86.191212</td>\n",
       "      <td>93.687392</td>\n",
       "    </tr>\n",
       "  </tbody>\n",
       "</table>\n",
       "</div>"
      ],
      "text/plain": [
       "      control        masc   mascObeso        fem    femObeso\n",
       "0  145.163985   89.895937  157.489683  98.896785  111.651331\n",
       "1  151.105904  118.109033  126.618391  98.208665  113.207313\n",
       "2  147.144394  119.497035  142.041717  98.102908  129.920881\n",
       "3  147.612592   82.896431  118.090281  83.839713  103.083760\n",
       "4  146.658696  108.362732   95.547882  86.191212   93.687392"
      ]
     },
     "execution_count": 5,
     "metadata": {},
     "output_type": "execute_result"
    }
   ],
   "source": [
    "df = pd.DataFrame([sampC, sampH, sampHO, sampM, sampMO]).T\n",
    "df.columns = ['control', 'masc', 'mascObeso', 'fem', 'femObeso']\n",
    "df.head()"
   ]
  },
  {
   "cell_type": "code",
   "execution_count": 6,
   "metadata": {},
   "outputs": [
    {
     "data": {
      "text/plain": [
       "((150, 2),\n",
       " array(['control', 'masc', 'mascObeso', 'fem', 'femObesa'], dtype=object))"
      ]
     },
     "execution_count": 6,
     "metadata": {},
     "output_type": "execute_result"
    }
   ],
   "source": [
    "dfs = pd.DataFrame([sampC, ['control']*N]).T\n",
    "dfs.columns = ['val', '_class']\n",
    "\n",
    "dfa = pd.DataFrame([sampH, ['masc']*N]).T\n",
    "dfa.columns = ['val', '_class']\n",
    "dfs = dfs.append(dfa)\n",
    "\n",
    "dfa = pd.DataFrame([sampHO, ['mascObeso']*N]).T\n",
    "dfa.columns = ['val', '_class']\n",
    "dfs = dfs.append(dfa)\n",
    "\n",
    "dfa = pd.DataFrame([sampM, ['fem']*N]).T\n",
    "dfa.columns = ['val', '_class']\n",
    "dfs = dfs.append(dfa)\n",
    "\n",
    "dfa = pd.DataFrame([sampMO, ['femObesa']*N]).T\n",
    "dfa.columns = ['val', '_class']\n",
    "dfs = dfs.append(dfa)\n",
    "\n",
    "dfs.shape, dfs['_class'].unique()                   "
   ]
  },
  {
   "cell_type": "markdown",
   "metadata": {},
   "source": [
    "### Barplot com Seaborn\n",
    "\n",
    "https://seaborn.pydata.org/generated/seaborn.barplot.html"
   ]
  },
  {
   "cell_type": "code",
   "execution_count": 7,
   "metadata": {},
   "outputs": [
    {
     "data": {
      "text/plain": [
       "Text(0.5, 0, '')"
      ]
     },
     "execution_count": 7,
     "metadata": {},
     "output_type": "execute_result"
    },
    {
     "data": {
      "image/png": "[encoded data removed]",
      "text/plain": [
       "<Figure size 864x432 with 1 Axes>"
      ]
     },
     "metadata": {
      "needs_background": "light"
     },
     "output_type": "display_data"
    }
   ],
   "source": [
    "plt.figure(figsize=(12,6))\n",
    "\n",
    "colors = ['yellow', 'blue', 'red']\n",
    "ci = 95\n",
    "\n",
    "ax = sns.barplot(x=\"_class\", y=\"val\", data=dfs, saturation=0.6, palette=colors, ci=ci)\n",
    "plt.title(\"Tratamento de Glicemia\")\n",
    "plt.ylabel('glicemia (mg/dl)')\n",
    "plt.xlabel('')"
   ]
  },
  {
   "cell_type": "code",
   "execution_count": 9,
   "metadata": {},
   "outputs": [
    {
     "data": {
      "text/plain": [
       "('As distribuições não são similares (rejeita-se a H0)',\n",
       " 'p-value 1.53e-10 (***)')"
      ]
     },
     "execution_count": 9,
     "metadata": {},
     "output_type": "execute_result"
    }
   ],
   "source": [
    "retH, textH, text_statH, statH, pvalueH = ttest(sampC, sampH, equal_var=False)\n",
    "textH, text_statH"
   ]
  },
  {
   "cell_type": "code",
   "execution_count": 8,
   "metadata": {},
   "outputs": [
    {
     "data": {
      "text/plain": [
       "('As distribuições não são similares (rejeita-se a H0)',\n",
       " 'p-value 3.41e-04 (***)')"
      ]
     },
     "execution_count": 8,
     "metadata": {},
     "output_type": "execute_result"
    }
   ],
   "source": [
    "retHHO, textHHO, text_statHHO, statHHO, pvalueHHO = ttest(sampH, sampHO, equal_var=False)\n",
    "textHHO, text_statHHO"
   ]
  },
  {
   "cell_type": "code",
   "execution_count": 10,
   "metadata": {},
   "outputs": [
    {
     "data": {
      "text/plain": [
       "('As distribuições não são similares (rejeita-se a H0)',\n",
       " 'p-value 6.37e-18 (***)')"
      ]
     },
     "execution_count": 10,
     "metadata": {},
     "output_type": "execute_result"
    }
   ],
   "source": [
    "retM, textM, text_statM, statM, pvalueM = ttest(sampC, sampM, equal_var=False)\n",
    "textM, text_statM"
   ]
  },
  {
   "cell_type": "code",
   "execution_count": 12,
   "metadata": {},
   "outputs": [
    {
     "data": {
      "text/plain": [
       "('As distribuições não são similares (rejeita-se a H0)',\n",
       " 'p-value 6.65e-05 (***)')"
      ]
     },
     "execution_count": 12,
     "metadata": {},
     "output_type": "execute_result"
    }
   ],
   "source": [
    "retMMO, textMMO, text_statMMO, statMMO, pvalueMMO = ttest(sampM, sampMO, equal_var=False)\n",
    "textMMO, text_statMMO"
   ]
  },
  {
   "cell_type": "code",
   "execution_count": 13,
   "metadata": {},
   "outputs": [
    {
     "data": {
      "image/png": "[encoded data removed]",
      "text/plain": [
       "<Figure size 864x432 with 1 Axes>"
      ]
     },
     "metadata": {
      "needs_background": "light"
     },
     "output_type": "display_data"
    }
   ],
   "source": [
    "plt.figure(figsize=(12,6))\n",
    "\n",
    "colors = ['yellow', 'blue', 'red']\n",
    "ci = 95\n",
    "\n",
    "ax = sns.barplot(x=\"_class\", y=\"val\", data=dfs, saturation=0.6, palette=colors, ci=ci)\n",
    "plt.title(\"Tratamento de Glicemia com n = %d\"%(N))\n",
    "plt.ylabel('glicemia (mg/dl)')\n",
    "plt.xlabel('')\n",
    "\n",
    "y1 = 150; del_y1 = 5; xmin=0; xmax=1\n",
    "plt.hlines(y=y1, xmin=xmin, xmax=xmax, colors='black')\n",
    "plt.text(x=.3, y=y1+del_y1, s=text_statH)\n",
    "\n",
    "y2 = 170; del_y2 = 5; xmin=1; xmax=2\n",
    "plt.hlines(y=y2, xmin=0, xmax=xmax, colors='black')\n",
    "plt.text(x=1+.3, y=y2+del_y2, s=text_statM)\n",
    "\n",
    "plt.ylim(0, 200);"
   ]
  },
  {
   "cell_type": "markdown",
   "metadata": {},
   "source": [
    "### Exercício\n",
    "  - Terminar as outras barras de significância"
   ]
  },
  {
   "cell_type": "code",
   "execution_count": null,
   "metadata": {},
   "outputs": [],
   "source": []
  },
  {
   "cell_type": "markdown",
   "metadata": {},
   "source": [
    "### As distribuiões são nomais? teste de Shaprio-Wilkis"
   ]
  },
  {
   "cell_type": "code",
   "execution_count": 14,
   "metadata": {},
   "outputs": [
    {
     "data": {
      "text/plain": [
       "('A distribuição se assemelha a uma distriuição normal (não se rejeita a H0)',\n",
       " 'p-value 9.48e-02 (NS)')"
      ]
     },
     "execution_count": 14,
     "metadata": {},
     "output_type": "execute_result"
    }
   ],
   "source": [
    "retNormC, textNormC, text_statNormC, statNormC, pvalueNormC = test_normality_desc(sampC, 0.05)\n",
    "textNormC, text_statNormC"
   ]
  },
  {
   "cell_type": "code",
   "execution_count": 15,
   "metadata": {},
   "outputs": [
    {
     "data": {
      "text/plain": [
       "('A distribuição se assemelha a uma distriuição normal (não se rejeita a H0)',\n",
       " 'p-value 1.53e-01 (NS)')"
      ]
     },
     "execution_count": 15,
     "metadata": {},
     "output_type": "execute_result"
    }
   ],
   "source": [
    "retNormH, textNormH, text_statNormH, statNormH, pvalueNormH = test_normality_desc(sampH, 0.05)\n",
    "textNormH, text_statNormH"
   ]
  },
  {
   "cell_type": "code",
   "execution_count": 16,
   "metadata": {},
   "outputs": [
    {
     "data": {
      "text/plain": [
       "('A distribuição se assemelha a uma distriuição normal (não se rejeita a H0)',\n",
       " 'p-value 5.34e-01 (NS)')"
      ]
     },
     "execution_count": 16,
     "metadata": {},
     "output_type": "execute_result"
    }
   ],
   "source": [
    "retNormM, textNormM, text_statNormM, statNormM, pvalueNormM = test_normality_desc(sampM, 0.05)\n",
    "textNormM, text_statNormM"
   ]
  },
  {
   "cell_type": "markdown",
   "metadata": {},
   "source": [
    "### Exercício\n",
    "  - Fazer para os obesos"
   ]
  },
  {
   "cell_type": "code",
   "execution_count": null,
   "metadata": {},
   "outputs": [],
   "source": []
  },
  {
   "cell_type": "code",
   "execution_count": null,
   "metadata": {},
   "outputs": [],
   "source": []
  },
  {
   "cell_type": "markdown",
   "metadata": {},
   "source": [
    "### ANOVA - análise de variância (Ronald Fisher)"
   ]
  },
  {
   "cell_type": "code",
   "execution_count": 17,
   "metadata": {},
   "outputs": [
    {
     "data": {
      "text/plain": [
       "F_onewayResult(statistic=69.62442758565842, pvalue=8.801962406789696e-19)"
      ]
     },
     "execution_count": 17,
     "metadata": {},
     "output_type": "execute_result"
    }
   ],
   "source": [
    "stats.f_oneway(sampC, sampH, sampM)"
   ]
  },
  {
   "cell_type": "code",
   "execution_count": 18,
   "metadata": {},
   "outputs": [
    {
     "data": {
      "text/plain": [
       "('As distribuições não têm variâncias similares (rejeita-se a H0)',\n",
       " 'p-value 8.80e-19 (***)')"
      ]
     },
     "execution_count": 18,
     "metadata": {},
     "output_type": "execute_result"
    }
   ],
   "source": [
    "ret, text, text_stat, stat, pvalue = test_one_way_ANOVA3(sampC, sampH, sampM, alpha = 0.05)\n",
    "text, text_stat"
   ]
  },
  {
   "cell_type": "markdown",
   "metadata": {},
   "source": [
    "### Exercícios\n",
    "  - Fazer ANOVA para as 5 distribuições"
   ]
  },
  {
   "cell_type": "code",
   "execution_count": null,
   "metadata": {},
   "outputs": [],
   "source": []
  },
  {
   "cell_type": "code",
   "execution_count": null,
   "metadata": {},
   "outputs": [],
   "source": []
  },
  {
   "cell_type": "markdown",
   "metadata": {},
   "source": [
    "### Mas quem é diferente???"
   ]
  },
  {
   "cell_type": "markdown",
   "metadata": {},
   "source": [
    "### Há diferenças entre as distribuições\n",
    "  - Estamos comparando mais de 2 distribuições\n",
    "  - As distribuições são normais\n",
    "  - ANOVA\n",
    "  "
   ]
  },
  {
   "cell_type": "code",
   "execution_count": null,
   "metadata": {},
   "outputs": [],
   "source": [
    "### exercício anterior\n",
    "\n"
   ]
  },
  {
   "cell_type": "markdown",
   "metadata": {},
   "source": [
    "### Problema da ANOVA\n",
    "  - diz se há ao menos uma distribuição diferente\n",
    "  - mas não diz qual nem quanto (pvalue para cada comparação)"
   ]
  },
  {
   "cell_type": "markdown",
   "metadata": {},
   "source": [
    "### Comparando-se todas as distribuições x todas\n",
    "  - Teste de Tukey\n",
    "  \n",
    "https://www.statsmodels.org/stable/generated/statsmodels.stats.multicomp.pairwise_tukeyhsd.html  \n",
    " https://www.statsmodels.org/stable/generated/statsmodels.sandbox.stats.multicomp.TukeyHSDResults.html#statsmodels.sandbox.stats.multicomp.TukeyHSDResults  \n"
   ]
  },
  {
   "cell_type": "code",
   "execution_count": 21,
   "metadata": {},
   "outputs": [
    {
     "data": {
      "text/html": [
       "<div>\n",
       "<style scoped>\n",
       "    .dataframe tbody tr th:only-of-type {\n",
       "        vertical-align: middle;\n",
       "    }\n",
       "\n",
       "    .dataframe tbody tr th {\n",
       "        vertical-align: top;\n",
       "    }\n",
       "\n",
       "    .dataframe thead th {\n",
       "        text-align: right;\n",
       "    }\n",
       "</style>\n",
       "<table border=\"1\" class=\"dataframe\">\n",
       "  <thead>\n",
       "    <tr style=\"text-align: right;\">\n",
       "      <th></th>\n",
       "      <th>control</th>\n",
       "      <th>masc</th>\n",
       "      <th>mascObeso</th>\n",
       "      <th>fem</th>\n",
       "      <th>femObeso</th>\n",
       "    </tr>\n",
       "  </thead>\n",
       "  <tbody>\n",
       "    <tr>\n",
       "      <th>0</th>\n",
       "      <td>145.163985</td>\n",
       "      <td>89.895937</td>\n",
       "      <td>157.489683</td>\n",
       "      <td>98.896785</td>\n",
       "      <td>111.651331</td>\n",
       "    </tr>\n",
       "    <tr>\n",
       "      <th>1</th>\n",
       "      <td>151.105904</td>\n",
       "      <td>118.109033</td>\n",
       "      <td>126.618391</td>\n",
       "      <td>98.208665</td>\n",
       "      <td>113.207313</td>\n",
       "    </tr>\n",
       "    <tr>\n",
       "      <th>2</th>\n",
       "      <td>147.144394</td>\n",
       "      <td>119.497035</td>\n",
       "      <td>142.041717</td>\n",
       "      <td>98.102908</td>\n",
       "      <td>129.920881</td>\n",
       "    </tr>\n",
       "  </tbody>\n",
       "</table>\n",
       "</div>"
      ],
      "text/plain": [
       "      control        masc   mascObeso        fem    femObeso\n",
       "0  145.163985   89.895937  157.489683  98.896785  111.651331\n",
       "1  151.105904  118.109033  126.618391  98.208665  113.207313\n",
       "2  147.144394  119.497035  142.041717  98.102908  129.920881"
      ]
     },
     "execution_count": 21,
     "metadata": {},
     "output_type": "execute_result"
    }
   ],
   "source": [
    "from statsmodels.stats.multicomp import MultiComparison  # Tukey\n",
    "\n",
    "df.head(3)"
   ]
  },
  {
   "cell_type": "code",
   "execution_count": 24,
   "metadata": {},
   "outputs": [
    {
     "data": {
      "text/plain": [
       "['control', 'masc', 'mascObeso', 'fem', 'femObeso']"
      ]
     },
     "execution_count": 24,
     "metadata": {},
     "output_type": "execute_result"
    }
   ],
   "source": [
    "groups = list(df.columns)\n",
    "groups"
   ]
  },
  {
   "cell_type": "code",
   "execution_count": 28,
   "metadata": {},
   "outputs": [
    {
     "name": "stderr",
     "output_type": "stream",
     "text": [
      "/media/flalix/5c1ba0b4-f897-451c-9068-ac5e57194590/flalix/anaconda3/envs/py_env37/lib/python3.7/site-packages/numpy/core/fromnumeric.py:3622: RuntimeWarning: Degrees of freedom <= 0 for slice\n",
      "  **kwargs)\n",
      "/media/flalix/5c1ba0b4-f897-451c-9068-ac5e57194590/flalix/anaconda3/envs/py_env37/lib/python3.7/site-packages/numpy/core/_methods.py:226: RuntimeWarning: invalid value encountered in double_scalars\n",
      "  ret = ret.dtype.type(ret / rcount)\n"
     ]
    },
    {
     "ename": "ValueError",
     "evalue": "v must be > 1 when p >= .9",
     "output_type": "error",
     "traceback": [
      "\u001b[0;31m---------------------------------------------------------------------------\u001b[0m",
      "\u001b[0;31mValueError\u001b[0m                                Traceback (most recent call last)",
      "\u001b[0;32m<ipython-input-28-ae7df7337506>\u001b[0m in \u001b[0;36m<module>\u001b[0;34m\u001b[0m\n\u001b[1;32m      1\u001b[0m \u001b[0mcardata\u001b[0m \u001b[0;34m=\u001b[0m \u001b[0mMultiComparison\u001b[0m\u001b[0;34m(\u001b[0m\u001b[0mdf\u001b[0m\u001b[0;34m.\u001b[0m\u001b[0mT\u001b[0m\u001b[0;34m,\u001b[0m \u001b[0mgroups\u001b[0m\u001b[0;34m)\u001b[0m\u001b[0;34m\u001b[0m\u001b[0;34m\u001b[0m\u001b[0m\n\u001b[0;32m----> 2\u001b[0;31m \u001b[0mresults\u001b[0m \u001b[0;34m=\u001b[0m \u001b[0mcardata\u001b[0m\u001b[0;34m.\u001b[0m\u001b[0mtukeyhsd\u001b[0m\u001b[0;34m(\u001b[0m\u001b[0;34m)\u001b[0m\u001b[0;34m\u001b[0m\u001b[0;34m\u001b[0m\u001b[0m\n\u001b[0m\u001b[1;32m      3\u001b[0m \u001b[0mresults_summary_to_dataframe\u001b[0m\u001b[0;34m(\u001b[0m\u001b[0mresults\u001b[0m\u001b[0;34m)\u001b[0m\u001b[0;34m\u001b[0m\u001b[0;34m\u001b[0m\u001b[0m\n",
      "\u001b[0;32m/media/flalix/5c1ba0b4-f897-451c-9068-ac5e57194590/flalix/anaconda3/envs/py_env37/lib/python3.7/site-packages/statsmodels/sandbox/stats/multicomp.py\u001b[0m in \u001b[0;36mtukeyhsd\u001b[0;34m(self, alpha)\u001b[0m\n\u001b[1;32m    985\u001b[0m         \u001b[0;31m# res contains: 0:(idx1, idx2), 1:reject, 2:meandiffs, 3: std_pairs,\u001b[0m\u001b[0;34m\u001b[0m\u001b[0;34m\u001b[0m\u001b[0;34m\u001b[0m\u001b[0m\n\u001b[1;32m    986\u001b[0m         \u001b[0;31m# 4:confint, 5:q_crit, 6:df_total, 7:reject2, 8: pvals\u001b[0m\u001b[0;34m\u001b[0m\u001b[0;34m\u001b[0m\u001b[0;34m\u001b[0m\u001b[0m\n\u001b[0;32m--> 987\u001b[0;31m         \u001b[0mres\u001b[0m \u001b[0;34m=\u001b[0m \u001b[0mtukeyhsd\u001b[0m\u001b[0;34m(\u001b[0m\u001b[0mgmeans\u001b[0m\u001b[0;34m,\u001b[0m \u001b[0mgnobs\u001b[0m\u001b[0;34m,\u001b[0m \u001b[0mvar_\u001b[0m\u001b[0;34m,\u001b[0m \u001b[0mdf\u001b[0m\u001b[0;34m=\u001b[0m\u001b[0;32mNone\u001b[0m\u001b[0;34m,\u001b[0m \u001b[0malpha\u001b[0m\u001b[0;34m=\u001b[0m\u001b[0malpha\u001b[0m\u001b[0;34m,\u001b[0m \u001b[0mq_crit\u001b[0m\u001b[0;34m=\u001b[0m\u001b[0;32mNone\u001b[0m\u001b[0;34m)\u001b[0m\u001b[0;34m\u001b[0m\u001b[0;34m\u001b[0m\u001b[0m\n\u001b[0m\u001b[1;32m    988\u001b[0m \u001b[0;34m\u001b[0m\u001b[0m\n\u001b[1;32m    989\u001b[0m         resarr = np.array(lzip(self.groupsunique[res[0][0]],\n",
      "\u001b[0;32m/media/flalix/5c1ba0b4-f897-451c-9068-ac5e57194590/flalix/anaconda3/envs/py_env37/lib/python3.7/site-packages/statsmodels/sandbox/stats/multicomp.py\u001b[0m in \u001b[0;36mtukeyhsd\u001b[0;34m(mean_all, nobs_all, var_all, df, alpha, q_crit)\u001b[0m\n\u001b[1;32m   1293\u001b[0m     \u001b[0mdf_total_\u001b[0m \u001b[0;34m=\u001b[0m \u001b[0mmax\u001b[0m\u001b[0;34m(\u001b[0m\u001b[0mdf_total\u001b[0m\u001b[0;34m,\u001b[0m \u001b[0;36m5\u001b[0m\u001b[0;34m)\u001b[0m  \u001b[0;31m#TODO: smallest df in table\u001b[0m\u001b[0;34m\u001b[0m\u001b[0;34m\u001b[0m\u001b[0m\n\u001b[1;32m   1294\u001b[0m     \u001b[0;32mif\u001b[0m \u001b[0mq_crit\u001b[0m \u001b[0;32mis\u001b[0m \u001b[0;32mNone\u001b[0m\u001b[0;34m:\u001b[0m\u001b[0;34m\u001b[0m\u001b[0;34m\u001b[0m\u001b[0m\n\u001b[0;32m-> 1295\u001b[0;31m         \u001b[0mq_crit\u001b[0m \u001b[0;34m=\u001b[0m \u001b[0mget_tukeyQcrit2\u001b[0m\u001b[0;34m(\u001b[0m\u001b[0mn_means\u001b[0m\u001b[0;34m,\u001b[0m \u001b[0mdf_total\u001b[0m\u001b[0;34m,\u001b[0m \u001b[0malpha\u001b[0m\u001b[0;34m=\u001b[0m\u001b[0malpha\u001b[0m\u001b[0;34m)\u001b[0m\u001b[0;34m\u001b[0m\u001b[0;34m\u001b[0m\u001b[0m\n\u001b[0m\u001b[1;32m   1296\u001b[0m \u001b[0;34m\u001b[0m\u001b[0m\n\u001b[1;32m   1297\u001b[0m     \u001b[0mpvalues\u001b[0m \u001b[0;34m=\u001b[0m \u001b[0mget_tukey_pvalue\u001b[0m\u001b[0;34m(\u001b[0m\u001b[0mn_means\u001b[0m\u001b[0;34m,\u001b[0m \u001b[0mdf_total\u001b[0m\u001b[0;34m,\u001b[0m \u001b[0mst_range\u001b[0m\u001b[0;34m)\u001b[0m\u001b[0;34m\u001b[0m\u001b[0;34m\u001b[0m\u001b[0m\n",
      "\u001b[0;32m/media/flalix/5c1ba0b4-f897-451c-9068-ac5e57194590/flalix/anaconda3/envs/py_env37/lib/python3.7/site-packages/statsmodels/sandbox/stats/multicomp.py\u001b[0m in \u001b[0;36mget_tukeyQcrit2\u001b[0;34m(k, df, alpha)\u001b[0m\n\u001b[1;32m    155\u001b[0m     '''\n\u001b[1;32m    156\u001b[0m     \u001b[0;32mfrom\u001b[0m \u001b[0mstatsmodels\u001b[0m\u001b[0;34m.\u001b[0m\u001b[0mstats\u001b[0m\u001b[0;34m.\u001b[0m\u001b[0mlibqsturng\u001b[0m \u001b[0;32mimport\u001b[0m \u001b[0mqsturng\u001b[0m\u001b[0;34m\u001b[0m\u001b[0;34m\u001b[0m\u001b[0m\n\u001b[0;32m--> 157\u001b[0;31m     \u001b[0;32mreturn\u001b[0m \u001b[0mqsturng\u001b[0m\u001b[0;34m(\u001b[0m\u001b[0;36m1\u001b[0m\u001b[0;34m-\u001b[0m\u001b[0malpha\u001b[0m\u001b[0;34m,\u001b[0m \u001b[0mk\u001b[0m\u001b[0;34m,\u001b[0m \u001b[0mdf\u001b[0m\u001b[0;34m)\u001b[0m\u001b[0;34m\u001b[0m\u001b[0;34m\u001b[0m\u001b[0m\n\u001b[0m\u001b[1;32m    158\u001b[0m \u001b[0;34m\u001b[0m\u001b[0m\n\u001b[1;32m    159\u001b[0m \u001b[0;34m\u001b[0m\u001b[0m\n",
      "\u001b[0;32m/media/flalix/5c1ba0b4-f897-451c-9068-ac5e57194590/flalix/anaconda3/envs/py_env37/lib/python3.7/site-packages/statsmodels/stats/libqsturng/qsturng_.py\u001b[0m in \u001b[0;36mqsturng\u001b[0;34m(p, r, v)\u001b[0m\n\u001b[1;32m    789\u001b[0m \u001b[0;34m\u001b[0m\u001b[0m\n\u001b[1;32m    790\u001b[0m     \u001b[0;32mif\u001b[0m \u001b[0mall\u001b[0m\u001b[0;34m(\u001b[0m\u001b[0mmap\u001b[0m\u001b[0;34m(\u001b[0m\u001b[0m_isfloat\u001b[0m\u001b[0;34m,\u001b[0m \u001b[0;34m[\u001b[0m\u001b[0mp\u001b[0m\u001b[0;34m,\u001b[0m \u001b[0mr\u001b[0m\u001b[0;34m,\u001b[0m \u001b[0mv\u001b[0m\u001b[0;34m]\u001b[0m\u001b[0;34m)\u001b[0m\u001b[0;34m)\u001b[0m\u001b[0;34m:\u001b[0m\u001b[0;34m\u001b[0m\u001b[0;34m\u001b[0m\u001b[0m\n\u001b[0;32m--> 791\u001b[0;31m         \u001b[0;32mreturn\u001b[0m \u001b[0m_qsturng\u001b[0m\u001b[0;34m(\u001b[0m\u001b[0mp\u001b[0m\u001b[0;34m,\u001b[0m \u001b[0mr\u001b[0m\u001b[0;34m,\u001b[0m \u001b[0mv\u001b[0m\u001b[0;34m)\u001b[0m\u001b[0;34m\u001b[0m\u001b[0;34m\u001b[0m\u001b[0m\n\u001b[0m\u001b[1;32m    792\u001b[0m     \u001b[0;32mreturn\u001b[0m \u001b[0m_vqsturng\u001b[0m\u001b[0;34m(\u001b[0m\u001b[0mp\u001b[0m\u001b[0;34m,\u001b[0m \u001b[0mr\u001b[0m\u001b[0;34m,\u001b[0m \u001b[0mv\u001b[0m\u001b[0;34m)\u001b[0m\u001b[0;34m\u001b[0m\u001b[0;34m\u001b[0m\u001b[0m\n\u001b[1;32m    793\u001b[0m \u001b[0;34m\u001b[0m\u001b[0m\n",
      "\u001b[0;32m/media/flalix/5c1ba0b4-f897-451c-9068-ac5e57194590/flalix/anaconda3/envs/py_env37/lib/python3.7/site-packages/statsmodels/stats/libqsturng/qsturng_.py\u001b[0m in \u001b[0;36m_qsturng\u001b[0;34m(p, r, v)\u001b[0m\n\u001b[1;32m    682\u001b[0m     \u001b[0;32melse\u001b[0m\u001b[0;34m:\u001b[0m\u001b[0;34m\u001b[0m\u001b[0;34m\u001b[0m\u001b[0m\n\u001b[1;32m    683\u001b[0m         \u001b[0;32mif\u001b[0m \u001b[0mv\u001b[0m \u001b[0;34m<\u001b[0m \u001b[0;36m1\u001b[0m\u001b[0;34m:\u001b[0m\u001b[0;34m\u001b[0m\u001b[0;34m\u001b[0m\u001b[0m\n\u001b[0;32m--> 684\u001b[0;31m             \u001b[0;32mraise\u001b[0m \u001b[0mValueError\u001b[0m\u001b[0;34m(\u001b[0m\u001b[0;34m'v must be > 1 when p >= .9'\u001b[0m\u001b[0;34m)\u001b[0m\u001b[0;34m\u001b[0m\u001b[0;34m\u001b[0m\u001b[0m\n\u001b[0m\u001b[1;32m    685\u001b[0m \u001b[0;34m\u001b[0m\u001b[0m\n\u001b[1;32m    686\u001b[0m     \u001b[0;31m# The easy case. A tabled value is requested.\u001b[0m\u001b[0;34m\u001b[0m\u001b[0;34m\u001b[0m\u001b[0;34m\u001b[0m\u001b[0m\n",
      "\u001b[0;31mValueError\u001b[0m: v must be > 1 when p >= .9"
     ]
    }
   ],
   "source": [
    "cardata = MultiComparison(dfs, groups)\n",
    "results = cardata.tukeyhsd()\n",
    "results_summary_to_dataframe(results)"
   ]
  }
 ],
 "metadata": {
  "kernelspec": {
   "display_name": "Python 3",
   "language": "python",
   "name": "python3"
  },
  "language_info": {
   "codemirror_mode": {
    "name": "ipython",
    "version": 3
   },
   "file_extension": ".py",
   "mimetype": "text/x-python",
   "name": "python",
   "nbconvert_exporter": "python",
   "pygments_lexer": "ipython3",
   "version": "3.7.7"
  }
 },
 "nbformat": 4,
 "nbformat_minor": 4
}
