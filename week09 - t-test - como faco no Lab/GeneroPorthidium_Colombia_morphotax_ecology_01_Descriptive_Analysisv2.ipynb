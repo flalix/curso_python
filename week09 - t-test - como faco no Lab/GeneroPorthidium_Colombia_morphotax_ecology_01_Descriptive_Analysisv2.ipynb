{
 "cells": [
  {
   "cell_type": "markdown",
   "metadata": {},
   "source": [
    "### Machine Learning - Genero Porthidium Colombia only females (July 2020)\n",
    "### Morphotax & Ecology data"
   ]
  },
  {
   "cell_type": "code",
   "execution_count": null,
   "metadata": {},
   "outputs": [],
   "source": [
    "import pandas as pd\n",
    "import numpy as np\n",
    "import scipy, os, sys\n",
    "import collections\n",
    "\n",
    "from sklearn.model_selection import train_test_split\n",
    "from sklearn import datasets\n",
    "from sklearn.svm import SVC\n",
    "from sklearn.metrics import classification_report, confusion_matrix\n",
    "from sklearn.ensemble import RandomForestClassifier\n",
    "\n",
    "from sklearn.linear_model import LinearRegression\n",
    "from sklearn.decomposition import PCA\n",
    "\n",
    "from IPython.display import HTML, display\n",
    "\n",
    "import plotly.express as px\n",
    "import plotly.graph_objs as go\n",
    "\n",
    "sys.path.insert(1, '../../src/')\n",
    "from Basic import *\n",
    "import snake_lib as slib\n",
    "from stat_lib import *\n",
    "\n",
    "import statsmodels.api as sm\n",
    "from statsmodels.stats.multicomp import MultiComparison  # Tukey\n",
    "from statsmodels.formula.api import ols\n",
    "from statsmodels.sandbox.regression.predstd import wls_prediction_std\n",
    "\n",
    "import matplotlib.pyplot as plt\n",
    "import matplotlib.gridspec as gridspec  # need for Tukey plot\n",
    "\n",
    "import seaborn as sns\n",
    "%matplotlib inline"
   ]
  },
  {
   "cell_type": "markdown",
   "metadata": {},
   "source": [
    "#  Columns\n",
    "- Voucher - id collection\n",
    "- RDS - HEMC - half body number scales\n",
    "- VS  - Ventral scales\n",
    "- StS - subTail scales\n",
    "- SRS - supra-right scales\n",
    "- SLS - supra-left scales\n",
    "- IRS - infra-right scales\n",
    "- ILS - infra-left scales\n",
    "- TL  - total length\n",
    "- HL  - head length\n",
    "- TaL - tail length"
   ]
  },
  {
   "cell_type": "code",
   "execution_count": null,
   "metadata": {},
   "outputs": [],
   "source": [
    "all_fields = ['species', 'ecopop', 'voucher', 'gender', 'RDS', 'VS', 'StS', 'SRS', 'SLS', 'IRS', 'ILS', 'TL', 'HL', 'TaL', 'temperature', 'elevation']\n",
    "all_fields2 = ['species', 'ecopop', 'voucher', 'gender', 'gender2', 'RDS', 'VS', 'StS', 'SRS', 'SLS', 'IRS', 'ILS', 'TL', 'HL', 'TaL', 'temperature', 'elevation']\n",
    "numfields = ['RDS', 'VS', 'StS', 'SRS', 'SLS', 'IRS', 'ILS', 'TL', 'HL', 'TaL', 'temperature', 'elevation']\n",
    "typefields = ['D', 'D', 'D', 'D', 'D', 'D', 'D', 'C', 'C', 'C', 'C', 'C']\n",
    "\n",
    "floatfields = ['HL', 'TaL', 'TL', 'temperature', 'elevation']\n",
    "intfields   = ['RDS', 'VS', 'StS', 'SRS', 'SLS', 'IRS', 'ILS']"
   ]
  },
  {
   "cell_type": "code",
   "execution_count": null,
   "metadata": {},
   "outputs": [],
   "source": [
    "root0     = \"../../../colaboracoes/sergio_cubides_cubillos/\"\n",
    "root_data = os.path.join(root0, 'data2020/')\n",
    "root_res  = os.path.join(root0, 'results/')\n",
    "\n",
    "root_html   = os.path.join(root_res, 'html/')\n",
    "root_figure = os.path.join(root_res, 'figures/')\n",
    "root_maps   = os.path.join(root_res, 'maps/')\n",
    "root_table  = os.path.join(root_res, 'tables/')\n"
   ]
  },
  {
   "cell_type": "code",
   "execution_count": null,
   "metadata": {},
   "outputs": [],
   "source": [
    "filedata = \"Porthidium Morphotaxonomy_20200530.csv\"\n",
    "filefull = os.path.join(root_data, filedata)\n",
    "prefix = \"Porthidium Morphotaxonomy\"\n",
    "sufix = 'porthidium_morphotaxonomy'\n",
    "\n",
    "data = pdreadcsv(filedata, root_data)\n",
    "print(data.columns)\n",
    "\n",
    "all_fields = ['species', 'ecopop', 'voucher', 'sex', \n",
    "              'RDS', 'VS', 'StS', 'SRS', 'SLS', 'IRS', 'ILS', 'TL', 'HL', 'TaL', 'temperature', 'elevation']\n",
    "\n",
    "data.columns = all_fields\n",
    "\n",
    "data.species = data.species.str.strip()\n",
    "data.ecopop  = data.ecopop.str.strip()\n",
    "data.sex  = data.sex.str.strip().str.lower()\n",
    "\n",
    "data[\"gender\"] = [0 if sex == 'female' else 1 for sex in data.sex]\n",
    "data.head()"
   ]
  },
  {
   "cell_type": "code",
   "execution_count": null,
   "metadata": {},
   "outputs": [],
   "source": [
    "data.isnull().any()"
   ]
  },
  {
   "cell_type": "code",
   "execution_count": null,
   "metadata": {},
   "outputs": [],
   "source": [
    "data.columns[data.isnull().any()]"
   ]
  },
  {
   "cell_type": "code",
   "execution_count": null,
   "metadata": {},
   "outputs": [],
   "source": [
    "pd.isnull(data).any(axis=0)"
   ]
  },
  {
   "cell_type": "code",
   "execution_count": null,
   "metadata": {},
   "outputs": [],
   "source": [
    "pd.isnull(data).any(axis=1)"
   ]
  },
  {
   "cell_type": "code",
   "execution_count": null,
   "metadata": {},
   "outputs": [],
   "source": [
    "data[pd.isnull(data).any(axis=1)]"
   ]
  },
  {
   "cell_type": "markdown",
   "metadata": {},
   "source": [
    "### Filter gender, how many?"
   ]
  },
  {
   "cell_type": "code",
   "execution_count": null,
   "metadata": {},
   "outputs": [],
   "source": [
    "ngender = 0\n",
    "\n",
    "if ngender == 0:\n",
    "    sufix_gender = \"female\"\n",
    "else:\n",
    "    sufix_gender = \"male\"\n",
    "    \n",
    "    \n",
    "df = data.copy()\n",
    "df = df[df.gender == ngender]\n",
    "\n",
    "nanimals = data.shape[0]\n",
    "nmales   = np.sum(data.sex == 'male')\n",
    "nfemales = np.sum(data.sex == 'female')\n",
    "\n",
    "print(\"From %d snakes, there are %d males, and %d females in data.\"%(nanimals, nmales, nfemales))\n",
    "print(\"There are %d %s in df.\"%(df.shape[0], sufix_gender))\n",
    "df.head()"
   ]
  },
  {
   "cell_type": "code",
   "execution_count": null,
   "metadata": {},
   "outputs": [],
   "source": [
    "df[df.gender == 1]  # no males"
   ]
  },
  {
   "cell_type": "markdown",
   "metadata": {},
   "source": [
    "### Group by"
   ]
  },
  {
   "cell_type": "markdown",
   "metadata": {},
   "source": [
    "### data == all data"
   ]
  },
  {
   "cell_type": "code",
   "execution_count": null,
   "metadata": {},
   "outputs": [],
   "source": [
    "data.groupby('species').count().voucher"
   ]
  },
  {
   "cell_type": "code",
   "execution_count": null,
   "metadata": {},
   "outputs": [],
   "source": [
    "data.groupby('ecopop').count().voucher"
   ]
  },
  {
   "cell_type": "code",
   "execution_count": null,
   "metadata": {},
   "outputs": [],
   "source": [
    "dg = data.groupby(['ecopop', 'species', 'gender']).count().voucher\n",
    "dg"
   ]
  },
  {
   "cell_type": "code",
   "execution_count": null,
   "metadata": {},
   "outputs": [],
   "source": [
    "pdwritecsv(dg, 'groups.tsv', root_table, index=True)"
   ]
  },
  {
   "cell_type": "code",
   "execution_count": null,
   "metadata": {},
   "outputs": [],
   "source": [
    "df.groupby('species').count().voucher"
   ]
  },
  {
   "cell_type": "markdown",
   "metadata": {},
   "source": [
    "### df = determined gender"
   ]
  },
  {
   "cell_type": "code",
   "execution_count": null,
   "metadata": {},
   "outputs": [],
   "source": [
    "df.groupby('species').count().voucher"
   ]
  },
  {
   "cell_type": "code",
   "execution_count": null,
   "metadata": {},
   "outputs": [],
   "source": [
    "df.groupby('ecopop').count().voucher"
   ]
  },
  {
   "cell_type": "code",
   "execution_count": null,
   "metadata": {},
   "outputs": [],
   "source": []
  },
  {
   "cell_type": "markdown",
   "metadata": {},
   "source": [
    "### Sample SD are differents!"
   ]
  },
  {
   "cell_type": "code",
   "execution_count": null,
   "metadata": {},
   "outputs": [],
   "source": [
    "pd.concat([df.groupby('species').temperature.mean().round(1), df.groupby('species').temperature.std().round(1)], axis=1, sort=False)"
   ]
  },
  {
   "cell_type": "code",
   "execution_count": null,
   "metadata": {},
   "outputs": [],
   "source": [
    "df.groupby('species').temperature.agg(['mean', 'std', 'count']).round(2)"
   ]
  },
  {
   "cell_type": "code",
   "execution_count": null,
   "metadata": {},
   "outputs": [],
   "source": []
  },
  {
   "cell_type": "code",
   "execution_count": null,
   "metadata": {},
   "outputs": [],
   "source": [
    "specList = data.species.unique()\n",
    "popList  = data.ecopop.unique()"
   ]
  },
  {
   "cell_type": "code",
   "execution_count": null,
   "metadata": {},
   "outputs": [],
   "source": [
    "specList"
   ]
  },
  {
   "cell_type": "code",
   "execution_count": null,
   "metadata": {},
   "outputs": [],
   "source": [
    "popList"
   ]
  },
  {
   "cell_type": "code",
   "execution_count": null,
   "metadata": {},
   "outputs": [],
   "source": [
    "dfstat_specpop = slib.calc_snake_params_per_species_pop(data, numfields, typefields, sufix, root_table, force=False)\n",
    "dfstat_specpop.head(3)"
   ]
  },
  {
   "cell_type": "code",
   "execution_count": null,
   "metadata": {
    "scrolled": false
   },
   "outputs": [],
   "source": [
    "dfstat_spec = slib.calc_snake_params_per_species(data, numfields, typefields, sufix, root_table, force=False)\n",
    "dfstat_spec.head(3)"
   ]
  },
  {
   "cell_type": "code",
   "execution_count": null,
   "metadata": {},
   "outputs": [],
   "source": []
  },
  {
   "cell_type": "markdown",
   "metadata": {},
   "source": [
    "### Inter species-population"
   ]
  },
  {
   "cell_type": "code",
   "execution_count": null,
   "metadata": {},
   "outputs": [],
   "source": [
    "dfisp = slib.htest_inter_species_population(data, numfields, typefields, root_table, force=False)\n",
    "print(dfisp.shape)\n",
    "dfisp.head(3)"
   ]
  },
  {
   "cell_type": "markdown",
   "metadata": {},
   "source": [
    "#### Which are the most significat inter species-population"
   ]
  },
  {
   "cell_type": "code",
   "execution_count": null,
   "metadata": {},
   "outputs": [],
   "source": [
    "dfisp2 = dfisp[dfisp.stat_significant == True]\n",
    "dfisp2.head(3)"
   ]
  },
  {
   "cell_type": "code",
   "execution_count": null,
   "metadata": {},
   "outputs": [],
   "source": [
    "dfisp2.measure.unique()"
   ]
  },
  {
   "cell_type": "markdown",
   "metadata": {},
   "source": [
    "### Tukey test"
   ]
  },
  {
   "cell_type": "code",
   "execution_count": null,
   "metadata": {},
   "outputs": [],
   "source": [
    "from statsmodels.stats.multicomp import MultiComparison\n",
    "import matplotlib.gridspec as gridspec\n",
    "\n",
    "units = [\"cm\", \"cm\",  \"cm\", \"°C\", \"m\"]\n",
    "print(floatfields)\n",
    "print(units)\n",
    "sufix_gender"
   ]
  },
  {
   "cell_type": "code",
   "execution_count": null,
   "metadata": {},
   "outputs": [],
   "source": [
    "df.head(2)"
   ]
  },
  {
   "cell_type": "code",
   "execution_count": null,
   "metadata": {
    "scrolled": true
   },
   "outputs": [],
   "source": [
    "# https://www.statsmodels.org/stable/generated/statsmodels.stats.multicomp.pairwise_tukeyhsd.html\n",
    "# https://www.statsmodels.org/stable/generated/statsmodels.sandbox.stats.multicomp.TukeyHSDResults.html#statsmodels.sandbox.stats.multicomp.TukeyHSDResults\n",
    "numfig = 0; verbose = False; dpi=300; force=False\n",
    "\n",
    "for line in range(len(floatfields)):\n",
    "    var = floatfields[numfig]\n",
    "    unit = units[numfig]\n",
    "    numfig += 1\n",
    "    title = \"%s for %s\"%(var, sufix_gender)\n",
    "    fig = plt.figure(figsize=(18,80), dpi=300, constrained_layout=False);\n",
    "    \n",
    "    dfa = data[ ['species', 'gender', 'sex', var]].copy()\n",
    "    dfa['group'] = dfa.species + '-' + dfa.sex\n",
    "\n",
    "    model = ols('%s ~ group'%(var), data=dfa).fit()\n",
    "    aov_table = sm.stats.anova_lm(model, typ=2) # typ=2  # Type 2 Anova DataFrame\n",
    "\n",
    "    cardata = MultiComparison(dfa[var], dfa.group)\n",
    "    results = cardata.tukeyhsd()\n",
    "    # print(results.summary())\n",
    "    dfa = results_summary_to_dataframe(results)\n",
    "    dfa = dfa.sort_values(\"pvalue_adj\", ascending=True)\n",
    "    filestatresult = \"tukey_stat_between_species_and_gender_for_'%s'.tsv\"%(var)\n",
    "    if not os.path.exists(os.path.join(root_table, filestatresult)) or force:\n",
    "        ret = pdwritecsv(dfa, filestatresult, root_table)\n",
    "    \n",
    "    if verbose:\n",
    "        print(var, \"ANOVA\")\n",
    "        print(aov_table)\n",
    "        print(\"\")\n",
    "        print(\"MultiComparison results\")\n",
    "        print(dfa[dfa.pvalue_adj < 0.05])\n",
    "    \n",
    "    title  = \"Species + Gender ~ '%s' - Tukey test: multiple comparisons between all pairs\"%(var)\n",
    "    xlabel = \"%s (%s)\"%(var,unit)\n",
    "    \n",
    "    results.plot_simultaneous();\n",
    "    plt.title(title);\n",
    "    plt.xlabel(xlabel);\n",
    "    \n",
    "    filefig = filestatresult.replace(\".tsv\", \".png\")\n",
    "    fname = os.path.join(root_figure, filefig)\n",
    "    if not os.path.exists(fname) or force:\n",
    "        plt.savefig(fname, dpi=dpi, facecolor='w', edgecolor='w', orientation='landscape')\n",
    "        print(\"Figure saved at '%s'\"%(fname))\n",
    "    \n",
    "    if verbose: print(\"\") \n",
    "    \n",
    "# plt.subplots_adjust(left=0.10, right=0.95, bottom=0.05, top=0.95, hspace=1.2) "
   ]
  },
  {
   "cell_type": "code",
   "execution_count": null,
   "metadata": {},
   "outputs": [],
   "source": []
  },
  {
   "cell_type": "markdown",
   "metadata": {},
   "source": [
    "### Inter-species"
   ]
  },
  {
   "cell_type": "code",
   "execution_count": null,
   "metadata": {},
   "outputs": [],
   "source": [
    "dfis = slib.htest_inter_species(data, numfields, typefields, root_table, force=False)\n",
    "print(dfis.shape)\n",
    "dfis.head(3)"
   ]
  },
  {
   "cell_type": "code",
   "execution_count": null,
   "metadata": {},
   "outputs": [],
   "source": [
    "dfis2 = dfis[dfis.stat_significant == True]\n",
    "dfis2.head(3)"
   ]
  },
  {
   "cell_type": "code",
   "execution_count": null,
   "metadata": {},
   "outputs": [],
   "source": [
    "dfis2.measure.unique()"
   ]
  },
  {
   "cell_type": "code",
   "execution_count": null,
   "metadata": {},
   "outputs": [],
   "source": []
  },
  {
   "cell_type": "markdown",
   "metadata": {},
   "source": [
    "### Inter-population"
   ]
  },
  {
   "cell_type": "code",
   "execution_count": null,
   "metadata": {},
   "outputs": [],
   "source": [
    "dfip = slib.htest_inter_population(data, numfields, typefields, root_table, force=False)\n",
    "print(dfip.shape)\n",
    "dfip.head(3)"
   ]
  },
  {
   "cell_type": "code",
   "execution_count": null,
   "metadata": {},
   "outputs": [],
   "source": [
    "dfip2 = dfip[dfip.stat_significant == True]\n",
    "dfip2.head(3)"
   ]
  },
  {
   "cell_type": "code",
   "execution_count": null,
   "metadata": {},
   "outputs": [],
   "source": [
    "dfip2.measure.unique()"
   ]
  },
  {
   "cell_type": "code",
   "execution_count": null,
   "metadata": {},
   "outputs": [],
   "source": []
  },
  {
   "cell_type": "markdown",
   "metadata": {},
   "source": [
    "### Preparing data for plots"
   ]
  },
  {
   "cell_type": "code",
   "execution_count": null,
   "metadata": {},
   "outputs": [],
   "source": [
    "colorGender = [\"gainsboro\", 'limegreen' ]  # 'ivory'\n",
    "colorGender = ['lightpink', 'lightseagreen' ]\n",
    "colorGender = ['lightcoral', 'lightskyblue' ]\n",
    "colorGender = ['palevioletred', 'lightcyan' ]\n",
    "colorGender = ['palevioletred', 'lightskyblue' ]\n",
    "colorGender = ['lightcoral', 'lightsteelblue' ]\n",
    "\n",
    "template = 'plotly_white'\n",
    "template = \"plotly_dark\"\n",
    "template = \"ggplot2\"\n",
    "template = \"seaborn\"\n",
    "template = \"plotly_white\"\n",
    "template = 'plotly'\n",
    "template = 'plotly_white'"
   ]
  },
  {
   "cell_type": "code",
   "execution_count": null,
   "metadata": {},
   "outputs": [],
   "source": [
    "pops = data[\"ecopop\"].unique().tolist()\n",
    "popColors = [\"green\", \"saddlebrown\", \"orange\", \"blue\", \"red\", \"lightblue\", \"silver\",\"darkgoldenrod\", \"yellow\"]\n",
    "print(len(pops), len(popColors))\n",
    "dicPopColors = {pops[i]: popColors[i]  for i in range(len(pops))}\n",
    "dicPopColors"
   ]
  },
  {
   "cell_type": "code",
   "execution_count": null,
   "metadata": {},
   "outputs": [],
   "source": [
    "dfSpecPopList = data[ ['species', 'ecopop'] ].drop_duplicates()"
   ]
  },
  {
   "cell_type": "code",
   "execution_count": null,
   "metadata": {},
   "outputs": [],
   "source": [
    "markers = ['circle', 'circle-open', 'square', 'square-open', 'diamond', 'diamond-open', 'cross', 'x']\n",
    "\n",
    "def species_marker(species):\n",
    "    if species == specList[0]: return \"circle\"\n",
    "    if species == specList[1]: return \"square\"\n",
    "    if species == specList[2]: return \"diamond\"\n",
    "    return \"x\"\n",
    "    \n",
    "def whichSpeciesMarkers(speciesSeries):\n",
    "    return [species_marker(species) for species in speciesSeries]"
   ]
  },
  {
   "cell_type": "markdown",
   "metadata": {},
   "source": [
    "### 3D Scatter plots (float fields)"
   ]
  },
  {
   "cell_type": "code",
   "execution_count": null,
   "metadata": {},
   "outputs": [],
   "source": [
    "floatfields"
   ]
  },
  {
   "cell_type": "code",
   "execution_count": null,
   "metadata": {
    "scrolled": true
   },
   "outputs": [],
   "source": [
    "# symbols: https://plotly.com/python/reference/#scatter\n",
    "from plotly.graph_objs import *\n",
    "\n",
    "varx = 'HL'\n",
    "vary = 'TaL'\n",
    "varz = 'elevation'\n",
    "variables = [varx, vary, varz]\n",
    "units     = ['mm', 'mm', 'm']\n",
    "\n",
    "ngender = 1\n",
    "if ngender == 0:\n",
    "    gender = \"females\"\n",
    "elif ngender == 1:\n",
    "    gender = 'males'\n",
    "else:\n",
    "    gender = 'both genders'\n",
    "    \n",
    "title = \"Scatterplot %s x %s x %s for %s\"%(varx, vary, varz, gender)\n",
    "\n",
    "# fig = go.Figure()\n",
    "traces = []\n",
    "\n",
    "# https://stackoverflow.com/questions/47539539/separate-symbol-and-color-in-plotly-legend\n",
    "n = dfSpecPopList.shape[0]\n",
    "\n",
    "for i in range(n):\n",
    "    pop     = dfSpecPopList.iloc[i].ecopop\n",
    "    species = dfSpecPopList.iloc[i].species\n",
    "    \n",
    "    mark = species_marker(species)\n",
    "    \n",
    "    if ngender == 0 or ngender == 1:\n",
    "        dfi = data.loc[(data.ecopop == pop) & (data.species == species) & (data.gender == ngender)]\n",
    "    else:\n",
    "        dfi = data.loc[(data.ecopop == pop) & (data.species == species) ]\n",
    "\n",
    "    for igender in range(2):  \n",
    "        dfi2 = dfi[dfi.gender == igender]\n",
    "        if dfi2.shape[0] == 0: continue\n",
    "        \n",
    "        x = dfi2[varx]\n",
    "        y = dfi2[vary]\n",
    "        z = dfi2[varz]\n",
    "\n",
    "        text =  [\"%.1f oC and %.1f m<br>%s<br>%s\"%(dfi.iloc[i].temperature, dfi.iloc[i].elevation, species, pop) \n",
    "                 for i in range(dfi.shape[0])]\n",
    "\n",
    "\n",
    "        traces.append(go.Scatter3d(x=x, y=y, z=z, name = species,text=text, \n",
    "                                 mode='markers',\n",
    "                                 marker={'size':8, 'color': colorGender[igender], 'symbol': mark} ))\n",
    "        traces.append(go.Scatter3d(x=x, y=y, z=z, name = pop,text=text, \n",
    "                                 mode='markers',\n",
    "                                 marker={'size':4, 'color':dicPopColors[pop], 'symbol': \"circle\"} ))\n",
    "\n",
    "\n",
    "dummy_trace = go.Scatter(\n",
    "    x=[None], y=[None],\n",
    "    name='<b>Population</b>',\n",
    "    # set opacity = 0\n",
    "    line={'color': 'rgba(0, 0, 0, 0)'}\n",
    ")\n",
    "\n",
    "fig = go.Figure([dummy_trace] + traces)\n",
    "\n",
    "fig.update_layout(\n",
    "    autosize=False,\n",
    "    width=1400,\n",
    "    height=800,\n",
    "    template=template,\n",
    "    margin=dict( l=20, r=20, b=100, t=100, pad=4),\n",
    "    title = title,\n",
    "    font=dict(\n",
    "        family=\"Arial, monospace\",\n",
    "        size=18,\n",
    "        color=\"#7f7f7f\",\n",
    "    ),\n",
    "    scene=Scene(\n",
    "        xaxis=XAxis(title=\"%s (%s)\"%(variables[0], units[0])),\n",
    "        yaxis=YAxis(title=\"%s (%s)\"%(variables[1], units[2])),\n",
    "        zaxis=ZAxis(title=\"%s (%s)\"%(variables[2], units[2])) ),\n",
    "    legend= {'itemsizing': 'constant'},\n",
    "    paper_bgcolor=\"whitesmoke\",\n",
    "    plot_bgcolor= \"whitesmoke\", # lightgrey ivory gainsboro whitesmoke lightsteelblue 'lightcyan' 'azure', white, lightgrey, snow ivory beige powderblue\n",
    "    showlegend = True\n",
    ")\n",
    "\n",
    "filename = os.path.join(root_html, title_replace(title) + \".html\")\n",
    "fig.write_html(filename)\n",
    "\n",
    "fig.show();"
   ]
  },
  {
   "cell_type": "markdown",
   "metadata": {},
   "source": [
    "### 3D scatterplot - scales"
   ]
  },
  {
   "cell_type": "code",
   "execution_count": null,
   "metadata": {},
   "outputs": [],
   "source": [
    "data.head(2)"
   ]
  },
  {
   "cell_type": "code",
   "execution_count": null,
   "metadata": {},
   "outputs": [],
   "source": [
    "# symbols: https://plotly.com/python/reference/#scatter\n",
    "from plotly.graph_objs import *\n",
    "\n",
    "varx = 'RDS'\n",
    "vary = 'VS'\n",
    "varz = 'elevation'\n",
    "variables = [varx, vary, varz]\n",
    "units     = ['count', 'count', 'm']\n",
    "\n",
    "ngender = 2\n",
    "if ngender == 0:\n",
    "    gender = \"females\"\n",
    "elif ngender == 1:\n",
    "    gender = 'males'\n",
    "else:\n",
    "    gender = 'both genders'\n",
    "    \n",
    "title = \"Scatterplot %s x %s x %s for %s\"%(varx, vary, varz, gender)\n",
    "\n",
    "# fig = go.Figure()\n",
    "traces = []\n",
    "\n",
    "# https://stackoverflow.com/questions/47539539/separate-symbol-and-color-in-plotly-legend\n",
    "n = dfSpecPopList.shape[0]\n",
    "\n",
    "for i in range(n):\n",
    "    pop     = dfSpecPopList.iloc[i].ecopop\n",
    "    species = dfSpecPopList.iloc[i].species\n",
    "    \n",
    "    mark = species_marker(species)\n",
    "    \n",
    "    if ngender == 0 or ngender == 1:\n",
    "        dfi = data.loc[(data.ecopop == pop) & (data.species == species) & (data.gender == ngender)]\n",
    "    else:\n",
    "        dfi = data.loc[(data.ecopop == pop) & (data.species == species) ]\n",
    "\n",
    "    for igender in range(2):  \n",
    "        dfi2 = dfi[dfi.gender == igender]\n",
    "        if dfi2.shape[0] == 0: continue\n",
    "        \n",
    "        x = dfi2[varx]\n",
    "        y = dfi2[vary]\n",
    "        z = dfi2[varz]\n",
    "\n",
    "        text =  [\"%.1f oC and %.1f m<br>%s<br>%s\"%(dfi.iloc[i].temperature, dfi.iloc[i].elevation, species, pop) \n",
    "                 for i in range(dfi.shape[0])]\n",
    "\n",
    "\n",
    "        traces.append(go.Scatter3d(x=x, y=y, z=z, name = species,text=text, \n",
    "                                 mode='markers',\n",
    "                                 marker={'size':8, 'color': colorGender[igender], 'symbol': mark} ))\n",
    "        traces.append(go.Scatter3d(x=x, y=y, z=z, name = pop,text=text, \n",
    "                                 mode='markers',\n",
    "                                 marker={'size':4, 'color':dicPopColors[pop], 'symbol': \"circle\"} ))\n",
    "\n",
    "\n",
    "dummy_trace = go.Scatter(\n",
    "    x=[None], y=[None],\n",
    "    name='<b>Population</b>',\n",
    "    # set opacity = 0\n",
    "    line={'color': 'rgba(0, 0, 0, 0)'}\n",
    ")\n",
    "\n",
    "fig = go.Figure([dummy_trace] + traces)\n",
    "\n",
    "fig.update_layout(\n",
    "    autosize=False,\n",
    "    width=1400,\n",
    "    height=800,\n",
    "    template=template,\n",
    "    margin=dict( l=20, r=20, b=100, t=100, pad=4),\n",
    "    title = title,\n",
    "    font=dict(\n",
    "        family=\"Arial, monospace\",\n",
    "        size=18,\n",
    "        color=\"#7f7f7f\",\n",
    "    ),\n",
    "    scene=Scene(\n",
    "        xaxis=XAxis(title=\"%s (%s)\"%(variables[0], units[0])),\n",
    "        yaxis=YAxis(title=\"%s (%s)\"%(variables[1], units[2])),\n",
    "        zaxis=ZAxis(title=\"%s (%s)\"%(variables[2], units[2])) ),\n",
    "    legend= {'itemsizing': 'constant'},\n",
    "    paper_bgcolor=\"whitesmoke\",\n",
    "    plot_bgcolor= \"whitesmoke\", # lightgrey ivory gainsboro whitesmoke lightsteelblue 'lightcyan' 'azure', white, lightgrey, snow ivory beige powderblue\n",
    "    showlegend = True\n",
    ")\n",
    "\n",
    "filename = os.path.join(root_html, title_replace(title) + \".html\")\n",
    "fig.write_html(filename)\n",
    "\n",
    "fig.show();"
   ]
  },
  {
   "cell_type": "code",
   "execution_count": null,
   "metadata": {},
   "outputs": [],
   "source": []
  },
  {
   "cell_type": "markdown",
   "metadata": {},
   "source": [
    "### Boxplots"
   ]
  },
  {
   "cell_type": "code",
   "execution_count": null,
   "metadata": {},
   "outputs": [],
   "source": [
    "vars = ['RDS', 'VS', 'StS', 'SRS', 'SLS', 'IRS', 'ILS', 'TL', 'HL', 'TaL', 'temperature', 'elevation']\n",
    "names = ['Rows dorsal scales', 'Ventral scale', 'SubTail scale', 'supra-right lips', 'supra-left lips', \n",
    "         'infra-right lips', 'infra-left lips', 'total length', 'head length', 'tail length', 'temperature', 'elevation']\n",
    "paramtypes = ['int', 'int', 'int', 'int', 'int', 'int', 'int', 'float', 'float', 'float', 'float', 'float']\n",
    "deltas = [1,1,1,1,1,1,1,1,1,1,1,100]\n",
    "units = ['count', 'count', 'count', 'count', 'count', 'count', 'count', 'cm', 'cm', 'cm', '°C', 'm']\n",
    "len(vars)"
   ]
  },
  {
   "cell_type": "code",
   "execution_count": null,
   "metadata": {},
   "outputs": [],
   "source": [
    "br = '<br>'; L = len(specList); M = len(popList)\n",
    "discretes = [0, 1]\n",
    "\n",
    "for iloop in discretes:\n",
    "    var = vars[iloop]; varname = names[iloop]; paramtype = paramtypes[iloop]; \n",
    "    unit = units[iloop]; delta = deltas[iloop]\n",
    "    \n",
    "    if var != varname:\n",
    "        title = \"Porthidium var='%s' (%s) per species - %s - both genders\"%(var, unit, varname)\n",
    "    else:\n",
    "        title = \"Porthidium var='%s' (%s) per species - both genders\"%(var, unit)\n",
    "\n",
    "       \n",
    "    dfa = data[['species', var]].copy()\n",
    "    # https://plotly.github.io/plotly.py-docs/generated/plotly.express.box.html\n",
    "    fig = px.box(dfa, x=\"species\", y=var, color=\"species\", notched=False, \n",
    "                 points = 'all', color_discrete_sequence = ['green', 'turquoise', 'palevioletred'])\n",
    "\n",
    "\n",
    "    fig.update_layout(\n",
    "        title = title,\n",
    "        autosize=False,\n",
    "        width=900, height=600,\n",
    "        yaxis_title = \"%s (%s)\"%(var, unit),\n",
    "        margin=dict(l=50, r=50, b=100, t=100, pad=4),\n",
    "        showlegend = False,\n",
    "        paper_bgcolor=\"white\",\n",
    "        font=dict(\n",
    "            family=\"Arial\",\n",
    "            size=18,\n",
    "            color=\"#7f7f7f\"\n",
    "        ),\n",
    "    )\n",
    "    \n",
    "    fig.show();\n",
    "    filehtml = os.path.join(root_html, title_replace(title) + \".html\")\n",
    "    fig.write_html(filehtml)"
   ]
  },
  {
   "cell_type": "code",
   "execution_count": null,
   "metadata": {},
   "outputs": [],
   "source": [
    "# https://plotly.com/python/subplots/\n",
    "\n",
    "genders = ['female', 'male']\n",
    "br = '<br>'; L = len(specList); M = len(popList)\n",
    "colors = [\"Tomato\", \"MediumBlue\"]\n",
    "discretes = [0, 1]\n",
    "\n",
    "for iloop in discretes:\n",
    "    var = vars[iloop]; varname = names[iloop]; paramtype = paramtypes[iloop]; \n",
    "    unit = units[iloop]; delta = deltas[iloop]\n",
    "    \n",
    "    if var != varname:\n",
    "        title = \"Porthidium var='%s' (%s) per species - %s - females x males\"%(var, unit, varname)\n",
    "    else:\n",
    "        title = \"Porthidium var='%s' (%s) per species - females x males\"%(var, unit)\n",
    "\n",
    "       \n",
    "    dfa = data[['species',\"gender\", var]].copy()\n",
    "    # https://plotly.github.io/plotly.py-docs/generated/plotly.express.box.html\n",
    "    fig = px.box(dfa, x=\"species\", y=var, color=\"gender\", notched=False, \n",
    "                 points = 'all', color_discrete_sequence = colors)\n",
    "\n",
    "\n",
    "    fig.update_layout(\n",
    "        title = title,\n",
    "        autosize=False,\n",
    "        width=1200, height=800,\n",
    "        yaxis_title = \"%s (%s)\"%(var, unit),\n",
    "        margin=dict(l=50, r=50, b=100, t=100, pad=4),\n",
    "        paper_bgcolor=\"white\",\n",
    "        showlegend = True,\n",
    "        font=dict(\n",
    "            family=\"Arial\",\n",
    "            size=18,\n",
    "            color=\"#7f7f7f\"\n",
    "        ),\n",
    "    )\n",
    "    \n",
    "    fig.show();\n",
    "    filehtml = os.path.join(root_html, title_replace(title) + \".html\")\n",
    "    fig.write_html(filehtml)"
   ]
  },
  {
   "cell_type": "code",
   "execution_count": null,
   "metadata": {},
   "outputs": [],
   "source": [
    "genders = ['female', 'male']\n",
    "br = '<br>'\n",
    "colors = [\"Tomato\", \"MediumBlue\"]\n",
    "discretes = [0, 1]\n",
    "\n",
    "for iloop in discretes:\n",
    "    var = vars[iloop]; varname = names[iloop]; paramtype = paramtypes[iloop]; \n",
    "    unit = units[iloop]; delta = deltas[iloop]\n",
    "    \n",
    "    if var != varname:\n",
    "        title = \"Porthidium var='%s' (%s) per species-ecopop - %s - females x males\"%(var, unit, varname)\n",
    "    else:\n",
    "        title = \"Porthidium var='%s' (%s) per species-ecopop - females x males\"%(var, unit)\n",
    "\n",
    "       \n",
    "    dfa = data[['species', 'ecopop', \"gender\", var]].copy()\n",
    "    dfa[\"species-ecopop\"] = [dfa.iloc[i].species + '-' + dfa.iloc[i].ecopop for i in range(dfa.shape[0])]\n",
    "\n",
    "    # https://plotly.github.io/plotly.py-docs/generated/plotly.express.box.html\n",
    "    fig = px.box(dfa, x=\"species-ecopop\", y=var, color=\"gender\", notched=False, \n",
    "                 points = 'all', color_discrete_sequence = colors)\n",
    "\n",
    "\n",
    "    fig.update_layout(\n",
    "        title = title,\n",
    "        autosize=False,\n",
    "        width=1200, height=800,\n",
    "        yaxis_title = \"%s (%s)\"%(var, unit),\n",
    "        margin=dict(l=50, r=50, b=100, t=100, pad=4),\n",
    "        paper_bgcolor=\"white\",\n",
    "        showlegend = True,\n",
    "        font=dict(\n",
    "            family=\"Arial\",\n",
    "            size=18,\n",
    "            color=\"#7f7f7f\"\n",
    "        ),\n",
    "    )\n",
    "    \n",
    "    fig.show();\n",
    "    filehtml = os.path.join(root_html, title_replace(title) + \".html\")\n",
    "    fig.write_html(filehtml)"
   ]
  },
  {
   "cell_type": "markdown",
   "metadata": {},
   "source": [
    "### Float vars"
   ]
  },
  {
   "cell_type": "code",
   "execution_count": null,
   "metadata": {},
   "outputs": [],
   "source": [
    "genders = ['female', 'male']\n",
    "br = '<br>'; L = len(specList); M = len(popList)\n",
    "colors = [\"Tomato\", \"MediumBlue\"]\n",
    "floats = [7,8,9,10,11]\n",
    "\n",
    "for iloop in floats:\n",
    "    var = vars[iloop]; varname = names[iloop]; paramtype = paramtypes[iloop]; \n",
    "    unit = units[iloop]; delta = deltas[iloop]\n",
    "    \n",
    "    if var != varname:\n",
    "        title = \"Porthidium var='%s' (%s) per ecopop-species - %s - females x males\"%(var, unit, varname)\n",
    "    else:\n",
    "        title = \"Porthidium var='%s' (%s) per ecopop-species - females x males\"%(var, unit)\n",
    "\n",
    "       \n",
    "    dfa = data[['species', 'ecopop', \"gender\", var]].copy()\n",
    "    dfa[\"species-ecopop\"] = [dfa.iloc[i].species + '-' + dfa.iloc[i].ecopop for i in range(dfa.shape[0])]\n",
    "\n",
    "    # https://plotly.github.io/plotly.py-docs/generated/plotly.express.box.html\n",
    "    fig = px.box(dfa, x=\"species-ecopop\", y=var, color=\"gender\", notched=False, \n",
    "                 points = 'all', color_discrete_sequence = colors)\n",
    "\n",
    "\n",
    "    fig.update_layout(\n",
    "        title = title,\n",
    "        autosize=False,\n",
    "        width=1200, height=800,\n",
    "        yaxis_title = \"%s (%s)\"%(var, unit),\n",
    "        margin=dict(l=50, r=50, b=100, t=100, pad=4),\n",
    "        paper_bgcolor=\"white\",\n",
    "        font=dict(\n",
    "            family=\"Arial\",\n",
    "            size=18,\n",
    "            color=\"#7f7f7f\"\n",
    "        ),\n",
    "    )\n",
    "    \n",
    "    fig.show();\n",
    "    filehtml = os.path.join(root_html, title_replace(title) + \".html\")\n",
    "    fig.write_html(filehtml)"
   ]
  },
  {
   "cell_type": "code",
   "execution_count": null,
   "metadata": {},
   "outputs": [],
   "source": []
  },
  {
   "cell_type": "markdown",
   "metadata": {},
   "source": [
    "### Tukey test plots"
   ]
  },
  {
   "cell_type": "code",
   "execution_count": null,
   "metadata": {},
   "outputs": [],
   "source": [
    "from statsmodels.stats.multicomp import MultiComparison\n",
    "import matplotlib.gridspec as gridspec"
   ]
  },
  {
   "cell_type": "code",
   "execution_count": null,
   "metadata": {},
   "outputs": [],
   "source": [
    "print(floatfields)\n",
    "sufix_gender"
   ]
  },
  {
   "cell_type": "code",
   "execution_count": null,
   "metadata": {},
   "outputs": [],
   "source": [
    "fig2 = plt.figure(figsize=(16,40), dpi=300, constrained_layout=False)\n",
    "spec2 = gridspec.GridSpec(ncols=1, nrows=4, figure=fig2)\n",
    "axes = []\n",
    "axes.append(fig2.add_subplot(spec2[0]))\n",
    "axes.append(fig2.add_subplot(spec2[1]))\n",
    "axes.append(fig2.add_subplot(spec2[2]))\n",
    "axes.append(fig2.add_subplot(spec2[3]))\n",
    "\n",
    "units = [\"cm\", \"cm\", \"oC\", \"m\"]\n",
    "\n",
    "numfig = 0\n",
    "for line in range(4):\n",
    "    var = floatfields[numfig]\n",
    "    unit = units[numfig]\n",
    "    numfig += 1\n",
    "    title = \"%s for %s\"%(var, sufix_gender)\n",
    "    ax = axes[line]\n",
    "\n",
    "    model = ols('%s ~ ecopop'%(var), data=dfa).fit()\n",
    "    aov_table = sm.stats.anova_lm(model, typ=2)\n",
    "    print(var, \"ANOVA\")\n",
    "    print(aov_table)\n",
    "    print(\"\")\n",
    "\n",
    "    cardata = MultiComparison(dfa[var], dfa.ecopop)\n",
    "    results = cardata.tukeyhsd()\n",
    "    \n",
    "    title  = \"Species '%s' '%s' - Tukey test: multiple comparisons between all pairs\"%(species, var)\n",
    "    xlabel = \"%s (%s)\"%(var,unit)\n",
    "    \n",
    "    results.plot_simultaneous(ax=ax, xlabel=xlabel)\n",
    "    ax.set_title(title)\n",
    "    \n",
    "    print(\"\") \n",
    "    \n",
    "plt.subplots_adjust(left=0.10, right=0.95, bottom=0.05, top=0.95, hspace=2) "
   ]
  },
  {
   "cell_type": "code",
   "execution_count": null,
   "metadata": {},
   "outputs": [],
   "source": []
  },
  {
   "cell_type": "markdown",
   "metadata": {},
   "source": [
    "## Tests and Development"
   ]
  },
  {
   "cell_type": "markdown",
   "metadata": {},
   "source": [
    "### Inter species-population"
   ]
  },
  {
   "cell_type": "code",
   "execution_count": null,
   "metadata": {},
   "outputs": [],
   "source": [
    "dfSpecPopList = data[ ['species', 'ecopop'] ].drop_duplicates()\n",
    "dic = collections.OrderedDict()\n",
    "count = 0\n",
    "\n",
    "n = dfSpecPopList.shape[0]\n",
    "\n",
    "for i in range(0,n-1):\n",
    "    for k in range(i+1, n):\n",
    "        df1 = dfSpecPopList.iloc[i]\n",
    "        df2 = dfSpecPopList.iloc[k]\n",
    "        \n",
    "        species1 = df1.species\n",
    "        ecopop1  = df1.ecopop\n",
    "        prompt1  = species1 + '|'+ ecopop1\n",
    "        \n",
    "        species2 = df2.species\n",
    "        ecopop2  = df2.ecopop\n",
    "        prompt2  = species2 + '|'+ ecopop2\n",
    "\n",
    "        dfv1 = data[ (data.species == species1) & (data.ecopop == ecopop1)]\n",
    "        dfv2 = data[ (data.species == species2) & (data.ecopop == ecopop2)]\n",
    "        \n",
    "        for j in range(len(numfields)):\n",
    "            measure = numfields[j]\n",
    "            type    = 'discrete' if typefields[j] == 'D' else 'continuous'\n",
    "\n",
    "            for gender in range(2):\n",
    "                count += 1\n",
    "                dic[count] = collections.OrderedDict()\n",
    "                dic2 = dic[count]\n",
    "                \n",
    "                df1 = dfv1[ (dfv1.gender == gender)]\n",
    "                df2 = dfv2[ (dfv2.gender == gender)]\n",
    "                \n",
    "                if d1.shape[0] < 2:\n",
    "                    print(\"No data for %s, %s\"%(species1, ecopop2))\n",
    "                    continue                \n",
    "                if d2.shape[0] < 2:\n",
    "                    print(\"No data for %s, %s\"%(species2, ecopop2))\n",
    "                    continue    \n",
    "                    \n",
    "                    \n",
    "                if type == 'discrete':\n",
    "                    ret, typetest, dfgender, ns, add5, dof, stat, pvalue, stri_stat = chisquare_2series(df1, df2, measure)\n",
    "                    if ret is None:\n",
    "                        print(\"No data for gender or error for gender %d\"%(gender))\n",
    "                        continue\n",
    "                        \n",
    "                    dic2['stat_test'] = typetest\n",
    "                    dic2['table'] = dfgender\n",
    "                    dic2['ns'] = ns\n",
    "                    dic2['add5'] = add5\n",
    "                    dic2['dof'] = dof\n",
    "                else:\n",
    "                    ret, mat_vals, ns, stat, pvalue, stri_stat = ttest_2series(df1, df2, measure)\n",
    "                    dic2['stat_test'] = 'ttest'\n",
    "                    dic2['table'] = mat_vals\n",
    "                    dic2['ns'] = ns\n",
    "                    dic2['add5'] = False\n",
    "                    dic2['dof'] = np.sum(ns) - 2\n",
    "\n",
    "\n",
    "                dic2['species1'] = species1\n",
    "                dic2['ecopop1']  = ecopop1\n",
    "                dic2['species2'] = species2\n",
    "                dic2['ecopop2']  = ecopop2\n",
    "                dic2['gender']   = gender\n",
    "                dic2['measure']  = measure\n",
    "                dic2['type'] = type\n",
    "                dic2['stat_significant'] = ret\n",
    "                dic2['stat'] = stat\n",
    "                dic2['pvalue'] = pvalue\n",
    "                dic2['stri_stat'] = stri_stat\n",
    " \n",
    "dfs = pd.DataFrame.from_dict(dic).T\n",
    "dfs['fdr'] = fdr(dfs.pvalue)\n",
    "dfs['stat_significant'] = dfs.fdr < 0.05\n",
    "\n",
    "dfs = dfs[ ['species1', 'ecopop1','species2', 'ecopop2', 'gender', 'measure', 'type', \n",
    "            'ns', 'add5', 'dof', 'table',\n",
    "            'stat_test', 'stat_significant', 'fdr', 'pvalue', 'stri_stat', 'stat'] ]\n",
    "filechis = 'stat_chisquare_between_species_ecopops.tsv'\n",
    "ret = pdwritecsv(dfs, filechis, root_table)"
   ]
  },
  {
   "cell_type": "markdown",
   "metadata": {},
   "source": [
    "### Inter-species"
   ]
  },
  {
   "cell_type": "code",
   "execution_count": null,
   "metadata": {},
   "outputs": [],
   "source": [
    "specList = data.species.unique()\n",
    "dic = collections.OrderedDict()\n",
    "count = 0\n",
    "\n",
    "n = len(specList)\n",
    "\n",
    "for i in range(0,n-1):\n",
    "    for k in range(i+1, n):\n",
    "        species1 = specList[i]\n",
    "        species2 = specList[k]\n",
    "\n",
    "        dfv1 = data[ (data.species == species1) ]\n",
    "        dfv2 = data[ (data.species == species2) ]\n",
    "        \n",
    "        for j in range(len(numfields)):\n",
    "            measure = numfields[j]\n",
    "            type    = 'discrete' if typefields[j] == 'D' else 'continuous'\n",
    "            \n",
    "            for gender in range(2):\n",
    "                count += 1\n",
    "                dic[count] = collections.OrderedDict()\n",
    "                dic2 = dic[count]\n",
    "                \n",
    "                df1 = dfv1[ (dfv1.gender == gender)]\n",
    "                df2 = dfv2[ (dfv2.gender == gender)]\n",
    "                \n",
    "                if df1.shape[0] < 2:\n",
    "                    print(\"No data for %s, %s\"%(species1))\n",
    "                    continue                \n",
    "                if df2.shape[0] < 2:\n",
    "                    print(\"No data for %s, %s\"%(species2))\n",
    "                    continue    \n",
    "                    \n",
    "                    \n",
    "                if type == 'discrete':\n",
    "                    ret, typetest, dfgender, ns, add5, dof, stat, pvalue, stri_stat = chisquare_2series(df1, df2, measure)\n",
    "                    if ret is None:\n",
    "                        print(\"No data for gender or error for gender %d\"%(gender))\n",
    "                        continue\n",
    "                        \n",
    "                    dic2['stat_test'] = typetest\n",
    "                    dic2['table'] = dfgender\n",
    "                    dic2['ns'] = ns\n",
    "                    dic2['add5'] = add5\n",
    "                    dic2['dof'] = dof\n",
    "                else:\n",
    "                    ret, mat_vals, ns, stat, pvalue, stri_stat = ttest_2series(df1, df2, measure)\n",
    "                    dic2['stat_test'] = 'ttest'\n",
    "                    dic2['table'] = mat_vals\n",
    "                    dic2['ns'] = ns\n",
    "                    dic2['add5'] = False\n",
    "                    dic2['dof'] = np.sum(ns) - 2\n",
    "\n",
    "\n",
    "                dic2['species1'] = species1\n",
    "                dic2['species2'] = species2\n",
    "                dic2['gender']   = gender\n",
    "                dic2['measure']  = measure\n",
    "                dic2['type'] = type\n",
    "                dic2['stat_significant'] = ret\n",
    "                dic2['stat'] = stat\n",
    "                dic2['pvalue'] = pvalue\n",
    "                dic2['stri_stat'] = stri_stat\n",
    " \n",
    "dfs = pd.DataFrame.from_dict(dic).T\n",
    "dfs['fdr'] = fdr(dfs.pvalue)\n",
    "dfs['stat_significant'] = dfs.fdr < 0.05\n",
    "\n",
    "dfs = dfs[ ['species1', 'species2', 'gender', 'measure', 'type', \n",
    "            'ns', 'add5', 'dof', 'table',\n",
    "            'stat_test', 'stat_significant', 'fdr', 'pvalue', 'stri_stat', 'stat'] ]\n",
    "filechis = 'stat_chisquare_between_species.tsv'\n",
    "ret = pdwritecsv(dfs, filechis, root_table)"
   ]
  },
  {
   "cell_type": "code",
   "execution_count": null,
   "metadata": {},
   "outputs": [],
   "source": [
    "dfs.head()"
   ]
  },
  {
   "cell_type": "code",
   "execution_count": null,
   "metadata": {},
   "outputs": [],
   "source": []
  },
  {
   "cell_type": "markdown",
   "metadata": {},
   "source": [
    "### Inter-population"
   ]
  },
  {
   "cell_type": "code",
   "execution_count": null,
   "metadata": {},
   "outputs": [],
   "source": [
    "ecopopList = data.ecopop.unique()\n",
    "dic = collections.OrderedDict()\n",
    "count = 0\n",
    "\n",
    "n = len(ecopopList)\n",
    "\n",
    "for i in range(0,n-1):\n",
    "    for k in range(i+1, n):\n",
    "        ecopop1 = ecopopList[i]\n",
    "        ecopop2 = ecopopList[k]\n",
    "\n",
    "        dfv1 = data[ (data.ecopop == ecopop1) ]\n",
    "        dfv2 = data[ (data.ecopop == ecopop2) ]\n",
    "        \n",
    "        for j in range(len(numfields)):\n",
    "            measure = numfields[j]\n",
    "            type    = 'discrete' if typefields[j] == 'D' else 'continuous'\n",
    "            \n",
    "            for gender in range(2):\n",
    "                count += 1\n",
    "                dic[count] = collections.OrderedDict()\n",
    "                dic2 = dic[count]\n",
    "                \n",
    "                df1 = dfv1[ (dfv1.gender == gender)]\n",
    "                df2 = dfv2[ (dfv2.gender == gender)]\n",
    "                \n",
    "                if df1.shape[0] < 2:\n",
    "                    print(\"No data for %s, %s\"%(ecopop1))\n",
    "                    continue                \n",
    "                if df2.shape[0] < 2:\n",
    "                    print(\"No data for %s, %s\"%(ecopop2))\n",
    "                    continue    \n",
    "                    \n",
    "                    \n",
    "                if type == 'discrete':\n",
    "                    ret, typetest, dfgender, ns, add5, dof, stat, pvalue, stri_stat = chisquare_2series(df1, df2, measure)\n",
    "                    if ret is None:\n",
    "                        print(\"No data for gender or error for gender %d\"%(gender))\n",
    "                        continue\n",
    "                        \n",
    "                    dic2['stat_test'] = typetest\n",
    "                    dic2['table'] = dfgender\n",
    "                    dic2['ns'] = ns\n",
    "                    dic2['add5'] = add5\n",
    "                    dic2['dof'] = dof\n",
    "                else:\n",
    "                    ret, mat_vals, ns, stat, pvalue, stri_stat = ttest_2series(df1, df2, measure)\n",
    "                    dic2['stat_test'] = 'ttest'\n",
    "                    dic2['table'] = mat_vals\n",
    "                    dic2['ns'] = ns\n",
    "                    dic2['add5'] = False\n",
    "                    dic2['dof'] = np.sum(ns) - 2\n",
    "\n",
    "\n",
    "                dic2['ecopop1'] = ecopop1\n",
    "                dic2['ecopop2'] = ecopop2\n",
    "                dic2['gender']   = gender\n",
    "                dic2['measure']  = measure\n",
    "                dic2['type'] = type\n",
    "                dic2['stat_significant'] = ret\n",
    "                dic2['stat'] = stat\n",
    "                dic2['pvalue'] = pvalue\n",
    "                dic2['stri_stat'] = stri_stat\n",
    " \n",
    "dfs = pd.DataFrame.from_dict(dic).T\n",
    "dfs['fdr'] = fdr(dfs.pvalue)\n",
    "dfs['stat_significant'] = dfs.fdr < 0.05\n",
    "\n",
    "dfs = dfs[ ['ecopop1', 'ecopop2', 'gender', 'measure', 'type', \n",
    "            'ns', 'add5', 'dof', 'table',\n",
    "            'stat_test', 'stat_significant', 'fdr', 'pvalue', 'stri_stat', 'stat'] ]\n",
    "filechis = 'stat_chisquare_between_ecopops.tsv'\n",
    "ret = pdwritecsv(dfs, filechis, root_table)"
   ]
  },
  {
   "cell_type": "markdown",
   "metadata": {},
   "source": [
    "### Anova"
   ]
  },
  {
   "cell_type": "code",
   "execution_count": null,
   "metadata": {},
   "outputs": [],
   "source": [
    "import statsmodels.api as sm\n",
    "from statsmodels.formula.api import ols\n",
    "\n",
    "for var in floatfields:\n",
    "    model = ols('%s ~ ecopop'%(var), data=dfa).fit()\n",
    "    aov_table = sm.stats.anova_lm(model, typ=2)\n",
    "    print(var)\n",
    "    print(aov_table)\n",
    "    print(\"\")"
   ]
  },
  {
   "cell_type": "markdown",
   "metadata": {},
   "source": [
    "### Tukey test"
   ]
  },
  {
   "cell_type": "code",
   "execution_count": null,
   "metadata": {},
   "outputs": [],
   "source": [
    "from statsmodels.stats.multicomp import MultiComparison"
   ]
  },
  {
   "cell_type": "code",
   "execution_count": null,
   "metadata": {},
   "outputs": [],
   "source": [
    "floatfields"
   ]
  },
  {
   "cell_type": "code",
   "execution_count": null,
   "metadata": {},
   "outputs": [],
   "source": [
    "import matplotlib.gridspec as gridspec\n",
    "\n",
    "fig2 = plt.figure(figsize=(16,40), dpi=300, constrained_layout=False)\n",
    "spec2 = gridspec.GridSpec(ncols=1, nrows=4, figure=fig2)\n",
    "axes = []\n",
    "axes.append(fig2.add_subplot(spec2[0]))\n",
    "axes.append(fig2.add_subplot(spec2[1]))\n",
    "axes.append(fig2.add_subplot(spec2[2]))\n",
    "axes.append(fig2.add_subplot(spec2[3]))\n",
    "\n",
    "units = [\"cm\", \"cm\", \"oC\", \"m\"]\n",
    "\n",
    "numfig = 0\n",
    "for line in range(4):\n",
    "    var = floatfields[numfig]\n",
    "    unit = units[numfig]\n",
    "    numfig += 1\n",
    "    title = \"%s for %s\"%(var, sufix_filter)\n",
    "    ax = axes[line]\n",
    "\n",
    "    model = ols('%s ~ ecopop'%(var), data=dfa).fit()\n",
    "    aov_table = sm.stats.anova_lm(model, typ=2)\n",
    "    print(var, \"ANOVA\")\n",
    "    print(aov_table)\n",
    "    print(\"\")\n",
    "\n",
    "    cardata = MultiComparison(dfa[var], dfa.ecopop)\n",
    "    results = cardata.tukeyhsd()\n",
    "    \n",
    "    title  = \"Species '%s' '%s' - Tukey test: multiple comparisons between all pairs\"%(species, var)\n",
    "    xlabel = \"%s (%s)\"%(var,unit)\n",
    "    \n",
    "    results.plot_simultaneous(ax=ax, xlabel=xlabel)\n",
    "    ax.set_title(title)\n",
    "    \n",
    "    print(\"\") \n",
    "    \n",
    "plt.subplots_adjust(left=0.10, right=0.95, bottom=0.05, top=0.95, hspace=2) \n",
    "\n"
   ]
  },
  {
   "cell_type": "code",
   "execution_count": null,
   "metadata": {},
   "outputs": [],
   "source": [
    "var = \"HL\"; unit='cm'\n",
    "fig, axes = plt.subplots(4,1, figsize=(16,24), dpi=300)\n",
    "\n",
    "numfig = 0\n",
    "for line in range(4):\n",
    "    var = floatfields[numfig]\n",
    "    numfig += 1\n",
    "    title = \"%s for %s\"%(var, sufix_filter)\n",
    "    ax = axes[line]\n",
    "\n",
    "    model = ols('%s ~ ecopop'%(var), data=dfa).fit()\n",
    "    aov_table = sm.stats.anova_lm(model, typ=2)\n",
    "    print(var, \"ANOVA\")\n",
    "    print(aov_table)\n",
    "    print(\"\")\n",
    "\n",
    "    cardata = MultiComparison(dfa[var], dfa.ecopop)\n",
    "    results = cardata.tukeyhsd()\n",
    "    \n",
    "    title  = \"Species '%s' '%s' - Tukey test: multiple comparisons between all pairs\"%(species, var)\n",
    "    xlabel = \"%s (%s)\"%(var,unit)\n",
    "    \n",
    "    results.plot_simultaneous(ax=ax, xlabel=xlabel)\n",
    "    ax.set_title(title)\n",
    "    \n",
    "    print(\"\") \n",
    "    \n",
    "plt.subplots_adjust(left=0.10, right=0.95, bottom=0.05, top=0.95, hspace=2)    "
   ]
  },
  {
   "cell_type": "code",
   "execution_count": null,
   "metadata": {},
   "outputs": [],
   "source": [
    "numfig = 0\n",
    "for line in range(2):\n",
    "    for col in range(2):\n",
    "        var = floatfields[numfig]\n",
    "        numfig += 1\n",
    "        title = \"%s for %s\"%(var, sufix_filter)\n",
    "        ax = axes[line][cols]\n",
    "        \n",
    "        model = ols('%s ~ ecopop'%(var), data=dfa).fit()\n",
    "        aov_table = sm.stats.anova_lm(model, typ=2)\n",
    "        print(var, \"ANOVA\")\n",
    "        print(aov_table)\n",
    "        print(\"\")\n",
    "\n",
    "        cardata = MultiComparison(dfa[var], dfa.ecopop, ax=ax)\n",
    "        results = cardata.tukeyhsd()\n",
    "        results.plot_simultaneous(ax=ax)\n",
    "        plt.title(\"Species '%s' - Tukey test: multiple comparisons between all pairs\"%(species))\n",
    "        plt.xlabel(\"%s (%s)\"%(var,unit))\n",
    "        print(\"\")"
   ]
  },
  {
   "cell_type": "code",
   "execution_count": null,
   "metadata": {},
   "outputs": [],
   "source": [
    "numfig = 0\n",
    "for line in range(2):\n",
    "    for col in range(2):\n",
    "        var = floatfields[numfig]\n",
    "        numfig += 1\n",
    "        title = \"%s for %s\"%(var, sufix_filter)\n",
    "        fig, ax = plt.subplot(6, 2, numfig)\n",
    "        \n",
    "        model = ols('%s ~ ecopop'%(var), data=dfa).fit()\n",
    "        aov_table = sm.stats.anova_lm(model, typ=2)\n",
    "        print(var, \"ANOVA\")\n",
    "        print(aov_table)\n",
    "        print(\"\")\n",
    "\n",
    "        cardata = MultiComparison(dfa[var], dfa.ecopop, ax=ax)\n",
    "        results = cardata.tukeyhsd()\n",
    "        results.plot_simultaneous()\n",
    "        plt.title(\"Species '%s' - Tukey test: multiple comparisons between all pairs\"%(species))\n",
    "        plt.xlabel(\"%s (%s)\"%(var,unit))\n",
    "        print(\"\")"
   ]
  },
  {
   "cell_type": "code",
   "execution_count": null,
   "metadata": {},
   "outputs": [],
   "source": [
    "results.summary()"
   ]
  },
  {
   "cell_type": "code",
   "execution_count": null,
   "metadata": {},
   "outputs": [],
   "source": [
    "        for i in range(n-1):\n",
    "            pop1 = ecopopList[i]\n",
    "\n",
    "            if pop1 not in dic.keys():\n",
    "                dic[pop1] = {}results\n",
    "                dic[pop1]['mean'] = df.loc[(df.ecopop == pop1) & (df.species == species), var].mean()\n",
    "                dic[pop1]['sd']   = df.loc[(df.ecopop == pop1) & (df.species == species), var].std()\n",
    "                dic[pop1]['n']    = df.loc[(df.ecopop == pop1) & (df.species == species), var].count()\n",
    "\n",
    "            if dic[pop1]['n'] == 0:\n",
    "                    continue\n",
    "\n",
    "            for j in range(i+1, n):\n",
    "                pop2 = ecopopList[j]\n",
    "                if pop2 not in dic.keys():\n",
    "                    dic[pop2] = {}\n",
    "                    dic[pop2]['mean'] = df.loc[(df.ecopop == pop2) & (df.species == species), var].mean()\n",
    "                    dic[pop2]['sd']   = df.loc[(df.ecopop == pop2) & (df.species == species), var].std()\n",
    "                    dic[pop2]['n']    = df.loc[(df.ecopop == pop2) & (df.species == species), var].count()\n",
    "\n",
    "\n",
    "                if dic[pop2]['n'] == 0:\n",
    "                        continue\n",
    "\n",
    "                if verbose: print('\\t',pop1, pop2)\n",
    "\n",
    "                stat, pval = ttest_ind(df[(df.ecopop == pop1) & (df.species == species)][var],\n",
    "                                       df[(df.ecopop == pop2) & (df.species == species)][var])\n",
    "\n",
    "                dfa = pd.DataFrame({'species': [species], 'variable': [var],\n",
    "                       'pop1': [pop1], 'n1': [dic[pop1]['n']], 'mean1': [dic[pop1]['mean']], 'sdv1': [dic[pop1]['sd']],\n",
    "                       'pop2': [pop2], 'n2': [dic[pop2]['n']], 'mean2': [dic[pop2]['mean']], 'sdv2': [dic[pop2]['sd']],\n",
    "                       'pval' : [pval], 'stat' : [stat]})\n",
    "\n",
    "                dfpop_tt = dfpop_tt.append(dfa.iloc[0], ignore_index=True)\n"
   ]
  },
  {
   "cell_type": "code",
   "execution_count": null,
   "metadata": {},
   "outputs": [],
   "source": []
  },
  {
   "cell_type": "code",
   "execution_count": null,
   "metadata": {},
   "outputs": [],
   "source": []
  },
  {
   "cell_type": "code",
   "execution_count": null,
   "metadata": {},
   "outputs": [],
   "source": []
  },
  {
   "cell_type": "code",
   "execution_count": null,
   "metadata": {},
   "outputs": [],
   "source": []
  },
  {
   "cell_type": "markdown",
   "metadata": {},
   "source": [
    "# Data analysis"
   ]
  },
  {
   "cell_type": "code",
   "execution_count": null,
   "metadata": {},
   "outputs": [],
   "source": [
    "myColors = [\"green\", \"blue\", \"red\", \"darkgoldenrod\", \"brown\", \"yellow\", \"orange\", \"gray\", \"navy\", \"pink\"]\n",
    "# colors = myColors[1:len(pops)]"
   ]
  },
  {
   "cell_type": "code",
   "execution_count": null,
   "metadata": {},
   "outputs": [],
   "source": [
    "speciesList\n",
    "['P_nasutum', 'P_lansbergii', 'P_sp']"
   ]
  },
  {
   "cell_type": "code",
   "execution_count": null,
   "metadata": {},
   "outputs": [],
   "source": [
    "palette = [\"green\", \"blue\", \"red\"]"
   ]
  },
  {
   "cell_type": "code",
   "execution_count": null,
   "metadata": {},
   "outputs": [],
   "source": []
  },
  {
   "cell_type": "code",
   "execution_count": null,
   "metadata": {},
   "outputs": [],
   "source": [
    "title = \"%s, morpho + temperature and elevation, not sex adjusted, by species\"\n",
    "title.replace(\" \", \"_\").replace(\"/\",\"-\").replace(\",\", \"\")"
   ]
  },
  {
   "cell_type": "code",
   "execution_count": null,
   "metadata": {},
   "outputs": [],
   "source": [
    "df.columns"
   ]
  },
  {
   "cell_type": "code",
   "execution_count": null,
   "metadata": {},
   "outputs": [],
   "source": [
    "popColors = [\"green\", \"saddlebrown\", \"orange\", \"blue\", \"red\", \"lightblue\", \"silver\",\"darkgoldenrod\", \"yellow\"]\n",
    "\n",
    "dicPopColors = {populationList[i]: popColors[i]  for i in range(len(populationList))}\n",
    "dicPopColors"
   ]
  },
  {
   "cell_type": "code",
   "execution_count": null,
   "metadata": {},
   "outputs": [],
   "source": [
    "markers = ['circle', 'circle-open', 'square', 'square-open', 'diamond', 'diamond-open', 'cross', 'x']\n",
    "\n",
    "def species_marker(species):\n",
    "    if species == speciesList[0]: return \"circle\"\n",
    "    if species == speciesList[1]: return \"square\"\n",
    "    if species == speciesList[2]: return \"diamond\"\n",
    "    return \"x\"\n",
    "    \n",
    "def whichSpeciesMarkers(speciesSeries):\n",
    "    return [species_marker(species) for species in speciesSeries]"
   ]
  },
  {
   "cell_type": "code",
   "execution_count": null,
   "metadata": {},
   "outputs": [],
   "source": [
    "# symbols: https://plotly.com/python/reference/#scatter\n",
    "\n",
    "title = \"Scatterplot for %s, VS x StS (not adjusted)\"%(sufix_filter)\n",
    "\n",
    "# fig = go.Figure()\n",
    "traces = []\n",
    "\n",
    "# https://stackoverflow.com/questions/47539539/separate-symbol-and-color-in-plotly-legend\n",
    "for i in range(len(populationList)):\n",
    "    pop = populationList[i]\n",
    "    \n",
    "    for species in speciesList:\n",
    "        mark = species_marker(species)\n",
    "\n",
    "        dfi = df.loc[(df.population == pop) & (df.species == species)]\n",
    "        x = dfi.VS\n",
    "        y = dfi.StS\n",
    "        # speciesSeries = dfi.species\n",
    "        # markList = whichSpeciesMarkers(speciesSeries)\n",
    "\n",
    "        text =  [\"%.1f m - %.1f oC<br>%s<br>%s\"%(dfi.iloc[i].elevation, dfi.iloc[i].temperature, species, pop) for i in range(dfi.shape[0])]\n",
    "\n",
    "        # fig = px.scatter_3d(df, x='sepal_length', y='sepal_width', z='petal_width', color='species')\n",
    "        \n",
    "        traces.append(go.Scatter(x=x, y=y,name = species,text=text,\n",
    "                                 mode='markers',\n",
    "                                 marker={'size':14, 'color':\"silver\", 'symbol': mark} ))\n",
    "        traces.append(go.Scatter(x=x, y=y,name = pop,text=text,\n",
    "                                 mode='markers',\n",
    "                                 marker={'size':5, 'color':dicPopColors[pop], 'symbol': \"circle\"} ))\n",
    "\n",
    "        \n",
    "dummy_trace = go.Scatter(\n",
    "    x=[None], y=[None],\n",
    "    name='<b>Population</b>',\n",
    "    # set opacity = 0\n",
    "    line={'color': 'rgba(0, 0, 0, 0)'}\n",
    ")\n",
    "\n",
    "fig = go.Figure([dummy_trace] + traces)\n",
    "\n",
    "fig.update_layout(\n",
    "    autosize=False,\n",
    "    width=1000,\n",
    "    height=800,\n",
    "    margin=dict( l=50, r=50, b=100, t=100, pad=4),\n",
    "    paper_bgcolor=\"white\",\n",
    "    plot_bgcolor= \"whitesmoke\", # 'lightcyan' 'azure', whitesmoke', white, lightgrey, snow ivory beige powderblue\n",
    "    title = title,\n",
    "    xaxis_title=\"VS\",\n",
    "    yaxis_title=\"StS\",\n",
    "    font=dict(\n",
    "        family=\"Arial, monospace\",\n",
    "        size=18,\n",
    "        color=\"#7f7f7f\"\n",
    "    )\n",
    "    \n",
    ")\n",
    "\n",
    "fig.show();"
   ]
  },
  {
   "cell_type": "markdown",
   "metadata": {},
   "source": [
    "### 3D"
   ]
  },
  {
   "cell_type": "code",
   "execution_count": null,
   "metadata": {
    "scrolled": false
   },
   "outputs": [],
   "source": [
    "from plotly.graph_objs import *\n",
    "\n",
    "# symbols: https://plotly.com/python/reference/#scatter\n",
    "\n",
    "title = \"Scatterplot for %s, VS x StS (not adjusted)\"%(sufix_filter)\n",
    "# fig = go.Figure()\n",
    "traces = []\n",
    "\n",
    "# https://stackoverflow.com/questions/47539539/separate-symbol-and-color-in-plotly-legend\n",
    "for i in range(len(populationList)):\n",
    "    pop = populationList[i]\n",
    "    \n",
    "    for species in speciesList:\n",
    "        mark = species_marker(species)\n",
    "\n",
    "        dfi = df.loc[(df.population == pop) & (df.species == species)]\n",
    "        x = dfi.VS\n",
    "        y = dfi.StS\n",
    "        z = dfi.elevation\n",
    "        # speciesSeries = dfi.species\n",
    "        # markList = whichSpeciesMarkers(speciesSeries)\n",
    "\n",
    "        text =  [\"%.1f oC and %.1f m<br>%s<br>%s\"%(dfi.iloc[i].temperature, dfi.iloc[i].elevation, species, pop) \n",
    "                 for i in range(dfi.shape[0])]\n",
    "\n",
    "        \n",
    "        traces.append(go.Scatter3d(x=x, y=y, z=z, name = species,text=text,\n",
    "                                 mode='markers',\n",
    "                                 marker={'size':8, 'color':\"gainsboro\", 'symbol': mark} ))  # lightsteelblue beige\n",
    "        traces.append(go.Scatter3d(x=x, y=y, z=z, name = pop,text=text,\n",
    "                                 mode='markers',\n",
    "                                 marker={'size':4, 'color':dicPopColors[pop], 'symbol': \"circle\"} ))\n",
    "\n",
    "        \n",
    "dummy_trace = go.Scatter(\n",
    "    x=[None], y=[None],\n",
    "    name='<b>Population</b>',\n",
    "    # set opacity = 0\n",
    "    line={'color': 'rgba(0, 0, 0, 0)'}\n",
    ")\n",
    "\n",
    "fig = go.Figure([dummy_trace] + traces)\n",
    "\n",
    "fig.update_layout(\n",
    "    autosize=False,\n",
    "    width=1000,\n",
    "    height=800,\n",
    "    margin=dict( l=20, r=20, b=100, t=100, pad=4),\n",
    "    title = title,\n",
    "    font=dict(\n",
    "        family=\"Arial, monospace\",\n",
    "        size=18,\n",
    "        color=\"#7f7f7f\",\n",
    "    ),\n",
    "    scene=Scene(\n",
    "        xaxis=XAxis(title='VS'),\n",
    "        yaxis=YAxis(title='StS'),\n",
    "        zaxis=ZAxis(title='altitude (m)'),\n",
    "    ),\n",
    "    legend= {'itemsizing': 'constant'},\n",
    "    paper_bgcolor=\"whitesmoke\",\n",
    "    plot_bgcolor= \"whitesmoke\", # gainsboro whitesmoke lightsteelblue 'lightcyan' 'azure', whitesmoke', white, lightgrey, snow ivory beige powderblue\n",
    "    showlegend = True\n",
    ")\n",
    "\n",
    "filename = rootHTML + title.replace(\" \", \"_\").replace(\"/\",\"-\").replace(\",\", \"\") + \".html\"\n",
    "fig.write_html(filename)\n",
    "\n",
    "fig.show();"
   ]
  },
  {
   "cell_type": "code",
   "execution_count": null,
   "metadata": {},
   "outputs": [],
   "source": []
  },
  {
   "cell_type": "code",
   "execution_count": null,
   "metadata": {},
   "outputs": [],
   "source": [
    "# g = sns.pairplot(df3, hue='species', height=6, aspect=1, size=2.5)\n",
    "plt.figure(figsize=(16,14))\n",
    "sns.set(font_scale=1.3)\n",
    "title = \"Scatterplot for %s, VS x StS x temperature level (not adjusted)\"%(sufix_filter)\n",
    "\n",
    "g = sns.scatterplot(x = \"VS\", y= \"StS\", style='tempLevel', hue='population', data=df, \n",
    "                    legend='full', palette=popColors, s=200)\n",
    "\n",
    "plt.xlabel(\"Ventral scales (VS)\")\n",
    "plt.ylabel(\"Subtail scales (StS)\")\n",
    "plt.title(title)\n",
    "# Put the legend out of the figure\n",
    "plt.legend(bbox_to_anchor=(1.05, 1), loc=2, borderaxespad=0.)\n",
    "\n",
    "filename = root + title.replace(\" \", \"_\").replace(\"/\",\"-\").replace(\",\", \"\") + \".png\"\n",
    "plt.savefig(filename, bbox_inches='tight')"
   ]
  },
  {
   "cell_type": "code",
   "execution_count": null,
   "metadata": {},
   "outputs": [],
   "source": []
  },
  {
   "cell_type": "code",
   "execution_count": null,
   "metadata": {},
   "outputs": [],
   "source": [
    "# g = sns.pairplot(df3, hue='species', height=6, aspect=1, size=2.5)\n",
    "plt.figure(figsize=(16,14))\n",
    "sns.set(font_scale=1.3)\n",
    "title = \"Scatterplot for %s, VS x StS x elevation level (not adjusted)\"%(sufix_filter)\n",
    "\n",
    "g = sns.scatterplot(x = \"VS\", y= \"StS\", style='elevLevel', hue='population', data=df, \n",
    "                    legend='full', palette=popColors, s=200)\n",
    "\n",
    "plt.xlabel(\"Ventral scales (VS)\")\n",
    "plt.ylabel(\"Subtail scales (StS)\")\n",
    "plt.title(title)\n",
    "# Put the legend out of the figure\n",
    "plt.legend(bbox_to_anchor=(1.05, 1), loc=2, borderaxespad=0.)\n",
    "\n",
    "filename = root + title.replace(\" \", \"_\").replace(\"/\",\"-\").replace(\",\", \"\") + \".png\"\n",
    "plt.savefig(filename, bbox_inches='tight')"
   ]
  },
  {
   "cell_type": "markdown",
   "metadata": {},
   "source": [
    "### Random Forest \n",
    "\n",
    "https://stackoverflow.com/questions/8961586/do-i-need-to-normalize-or-scale-data-for-randomforest-r-package\n",
    "\n",
    "do I need to normalize (or scale) data for randomForest?\n",
    "\n",
    "Hong Ooi:  \n",
    "No, scaling is not necessary for random forests.  \n",
    "\n",
    "The nature of RF is such that convergence and numerical precision issues, which can sometimes trip up the algorithms used in logistic and linear regression, as well as neural networks, aren't so important. Because of this, you don't need to transform variables to a common scale like you might with a NN.  \n",
    "\n",
    "You're don't get any analogue of a regression coefficient, which measures the relationship between each predictor variable and the response. Because of this, you also don't need to consider how to interpret such coefficients which is something that is affected by variable measurement scales.\n"
   ]
  },
  {
   "cell_type": "code",
   "execution_count": null,
   "metadata": {},
   "outputs": [],
   "source": [
    "factors = pd.factorize(df[\"population\"])[0]\n",
    "set(factors)"
   ]
  },
  {
   "cell_type": "code",
   "execution_count": null,
   "metadata": {},
   "outputs": [],
   "source": [
    "factors"
   ]
  },
  {
   "cell_type": "code",
   "execution_count": null,
   "metadata": {},
   "outputs": [],
   "source": [
    "n = len(factors)\n",
    "ntrain = int(n*.6)\n",
    "ntest  = int(n*.4)\n",
    "n, ntrain, ntest"
   ]
  },
  {
   "cell_type": "code",
   "execution_count": null,
   "metadata": {},
   "outputs": [],
   "source": [
    "df.index.tolist()[:8]"
   ]
  },
  {
   "cell_type": "code",
   "execution_count": null,
   "metadata": {},
   "outputs": [],
   "source": [
    "df[ df.population == populationList[1] ].index.tolist()[:8]"
   ]
  },
  {
   "cell_type": "code",
   "execution_count": null,
   "metadata": {},
   "outputs": [],
   "source": [
    "all = np.arange(162,169+1)\n",
    "print(all)\n",
    "np.random.shuffle(all)\n",
    "print(all)"
   ]
  },
  {
   "cell_type": "markdown",
   "metadata": {},
   "source": [
    "### Random Forest Population"
   ]
  },
  {
   "cell_type": "code",
   "execution_count": null,
   "metadata": {},
   "outputs": [],
   "source": [
    "df2 = df[ [\"species\", 'population'] + numfields]\n",
    "df2.head()"
   ]
  },
  {
   "cell_type": "code",
   "execution_count": null,
   "metadata": {},
   "outputs": [],
   "source": [
    "dic = {}\n",
    "trains = []; tests = []\n",
    "\n",
    "for pop in set(populationList):\n",
    "    m = np.array(df2[ df2.population == pop ].index.tolist())\n",
    "    np.random.shuffle(m)\n",
    "    n = len(m)\n",
    "    ntrain = int(n*.6)\n",
    "   \n",
    "    train = m[:ntrain]\n",
    "    test  = m[ntrain:]\n",
    "    # print(pop, train, test)\n",
    "    dic[pop] = {}\n",
    "    dic[pop][\"train\"] = train\n",
    "    dic[pop][\"test\"] = test\n",
    "    \n",
    "    trains += list(train)\n",
    "    tests += list(test)\n",
    "    \n",
    "trains.sort()\n",
    "tests.sort()\n",
    "\n",
    "print(trains)\n",
    "print(tests)\n",
    "print(len(trains)+len(tests))\n",
    "df2.shape"
   ]
  },
  {
   "cell_type": "code",
   "execution_count": null,
   "metadata": {},
   "outputs": [],
   "source": [
    "df2.iloc[tests]"
   ]
  },
  {
   "cell_type": "code",
   "execution_count": null,
   "metadata": {},
   "outputs": [],
   "source": [
    "start_at = 2\n",
    "# df, df2, only one sex\n",
    "dfTrain = df2.iloc[trains]\n",
    "X_train = dfTrain[ dfTrain.columns[start_at:] ]\n",
    "y_train = pd.factorize(dfTrain[\"population\"])[0]\n",
    "\n",
    "dfTest = df2.iloc[tests]\n",
    "X_test = dfTest[ dfTest.columns[start_at:] ]\n",
    "y_test = pd.factorize(dfTest[\"population\"])[0]\n",
    "\n",
    "print(\"Train (pop):\", X_train.shape[0], len(y_train), y_train[:30])\n",
    "print(\"\")\n",
    "print(\"Test  (pop):\", X_Test.shape[0], len(y_test), y_test[:30])\n",
    "X_train.head()"
   ]
  },
  {
   "cell_type": "code",
   "execution_count": null,
   "metadata": {},
   "outputs": [],
   "source": [
    "print(y_test)\n",
    "print(len(y_test))\n",
    "print(X_test.shape[0])\n",
    "X_test.head()"
   ]
  },
  {
   "cell_type": "code",
   "execution_count": null,
   "metadata": {},
   "outputs": [],
   "source": [
    "# Create a random forest Classifier. By convention, clf means 'Classifier'\n",
    "# https://chrisalbon.com/machine_learning/trees_and_forests/random_forest_classifier_example/\n",
    "\n",
    "model = RandomForestClassifier(random_state=0, n_estimators=5000, n_jobs=6)\n",
    "\n",
    "# Train the Classifier to take the training features and learn how they relate\n",
    "# to the training y (the species)\n",
    "f = model.fit(X_train, y_train)"
   ]
  },
  {
   "cell_type": "code",
   "execution_count": null,
   "metadata": {},
   "outputs": [],
   "source": [
    "prediction = model.predict(X_test)\n",
    "prediction"
   ]
  },
  {
   "cell_type": "code",
   "execution_count": null,
   "metadata": {},
   "outputs": [],
   "source": [
    "np.array([True if x == 0 else False for x in (prediction - y_test)]).sum()"
   ]
  },
  {
   "cell_type": "code",
   "execution_count": null,
   "metadata": {},
   "outputs": [],
   "source": [
    "nTest = X_test.shape[0]\n",
    "np.array([True if x == 0 else False for x in (prediction - y_test)]).sum() / nTest"
   ]
  },
  {
   "cell_type": "code",
   "execution_count": null,
   "metadata": {},
   "outputs": [],
   "source": [
    "# View the predicted probabilities of the first 10 observations\n",
    "model.predict_proba(X_test)[0:10]"
   ]
  },
  {
   "cell_type": "code",
   "execution_count": null,
   "metadata": {},
   "outputs": [],
   "source": []
  },
  {
   "cell_type": "code",
   "execution_count": null,
   "metadata": {},
   "outputs": [],
   "source": [
    "# Create actual english names for the plants for each predicted plant class\n",
    "dfpred = df.iloc[prediction]\n",
    "dfpred.index = list(range(dfpred.shape[0]))\n",
    "dfpred.head(3)"
   ]
  },
  {
   "cell_type": "code",
   "execution_count": null,
   "metadata": {},
   "outputs": [],
   "source": [
    "dfTest.index = list(range(dfTest.shape[0]))\n",
    "dfTest.head(3)"
   ]
  },
  {
   "cell_type": "code",
   "execution_count": null,
   "metadata": {},
   "outputs": [],
   "source": [
    "dfTest.shape[0], dfpred.shape[0]"
   ]
  },
  {
   "cell_type": "code",
   "execution_count": null,
   "metadata": {},
   "outputs": [],
   "source": [
    "pd.crosstab(dfTest.population, dfTest.population.unique()[prediction], rownames=['actual population'], colnames=['predicted poputlation'], margins=True)"
   ]
  },
  {
   "cell_type": "code",
   "execution_count": null,
   "metadata": {},
   "outputs": [],
   "source": [
    "feature_names = X_test.columns\n",
    "feature_names"
   ]
  },
  {
   "cell_type": "code",
   "execution_count": null,
   "metadata": {},
   "outputs": [],
   "source": [
    "str(model)"
   ]
  },
  {
   "cell_type": "code",
   "execution_count": null,
   "metadata": {},
   "outputs": [],
   "source": [
    "model.estimators_[100]"
   ]
  },
  {
   "cell_type": "markdown",
   "metadata": {},
   "source": [
    "### Lasso\n",
    "\n",
    "http://www.science.smith.edu/~jcrouser/SDS293/labs/lab10-py.html\n",
    "\n",
    "We saw that ridge regression with a wise choice of alpha can outperform least squares as well as the null model on the our data set. We now ask whether the lasso can yield either a more accurate or a more interpretable model than ridge regression. In order to fit a lasso model, we'll use the Lasso() function; however, this time we'll need to include the argument max_iter = 10000. Other than that change, we proceed just as we did in fitting a ridge model"
   ]
  },
  {
   "cell_type": "code",
   "execution_count": null,
   "metadata": {},
   "outputs": [],
   "source": [
    "from sklearn.linear_model import Lasso, LassoCV\n",
    "from sklearn.preprocessing import scale\n",
    "from sklearn.metrics import mean_squared_error"
   ]
  },
  {
   "cell_type": "code",
   "execution_count": null,
   "metadata": {},
   "outputs": [],
   "source": [
    "alphas = 10**np.linspace(1,-2,100)*0.5\n",
    "alphas"
   ]
  },
  {
   "cell_type": "code",
   "execution_count": null,
   "metadata": {},
   "outputs": [],
   "source": [
    "dfa = df[[\"species\"] + numfields]\n",
    "dfa.head()"
   ]
  },
  {
   "cell_type": "code",
   "execution_count": null,
   "metadata": {},
   "outputs": [],
   "source": [
    "(dfa[numfields] == 0).any(axis=0)"
   ]
  },
  {
   "cell_type": "code",
   "execution_count": null,
   "metadata": {},
   "outputs": [],
   "source": []
  },
  {
   "cell_type": "code",
   "execution_count": null,
   "metadata": {},
   "outputs": [],
   "source": [
    "df3 = df2\n",
    "\n",
    "\n",
    "    \n",
    "df3.head()"
   ]
  },
  {
   "cell_type": "code",
   "execution_count": null,
   "metadata": {},
   "outputs": [],
   "source": [
    "# Split data into training and test sets\n",
    "# X_train, X_test , y_train, y_test = train_test_split(X, y, test_size=0.5, random_state=1)\n",
    "\n",
    "dic = {}\n",
    "trains = []; tests = []\n",
    "\n",
    "for species in set(speciesList):\n",
    "    m = np.array(df3[ df3.species == species ].index.tolist())\n",
    "    np.random.shuffle(m)\n",
    "    n = len(m)\n",
    "    ntrain = int(n*.6)\n",
    "   \n",
    "    train = m[:ntrain]\n",
    "    test  = m[ntrain:]\n",
    "    # print(pop, train, test)\n",
    "    dic[pop] = {}\n",
    "    dic[pop][\"train\"] = train\n",
    "    dic[pop][\"test\"] = test\n",
    "    \n",
    "    trains += list(train)\n",
    "    tests += list(test)\n",
    "\n",
    "\n",
    "start_at = 2\n",
    "# df, df2, only one sex\n",
    "dfTrain = df2.iloc[trains]\n",
    "X_train = dfTrain[ dfTrain.columns[start_at:] ]\n",
    "y_train = pd.factorize(dfTrain[\"species\"])[0]\n",
    "\n",
    "dfTest = df2.iloc[tests]\n",
    "X_test = dfTest[ dfTest.columns[start_at:] ]\n",
    "y_test = pd.factorize(dfTest[\"species\"])[0]\n",
    "\n",
    "print(\"Train (pop):\", X_train.shape[0], len(y_train), y_train[:30])\n",
    "print(\"\")\n",
    "print(\"Test  (pop):\", X_Test.shape[0], len(y_test), y_test[:30])\n",
    "X_train.head()"
   ]
  },
  {
   "cell_type": "code",
   "execution_count": null,
   "metadata": {},
   "outputs": [],
   "source": [
    "y_train"
   ]
  },
  {
   "cell_type": "code",
   "execution_count": null,
   "metadata": {},
   "outputs": [],
   "source": [
    "y_test"
   ]
  },
  {
   "cell_type": "code",
   "execution_count": null,
   "metadata": {},
   "outputs": [],
   "source": [
    "lasso = Lasso(max_iter = 10000, normalize = True)\n",
    "coefs = []\n",
    "\n",
    "for a in alphas:\n",
    "    lasso.set_params(alpha=a)\n",
    "    lasso.fit(scale(X_train), y_train)\n",
    "    coefs.append(lasso.coef_)\n",
    "    \n",
    "ax = plt.gca()\n",
    "ax.plot(alphas*2, coefs)\n",
    "ax.set_xscale('log')\n",
    "plt.axis('tight')\n",
    "plt.xlabel('alpha')\n",
    "plt.ylabel('weights')"
   ]
  },
  {
   "cell_type": "markdown",
   "metadata": {},
   "source": [
    "Notice that in the coefficient plot that depending on the choice of tuning parameter, some of the coefficients are exactly equal to zero. We now perform 10-fold cross-validation to choose the best alpha, refit the model, and compute the associated test error:"
   ]
  },
  {
   "cell_type": "code",
   "execution_count": null,
   "metadata": {},
   "outputs": [],
   "source": [
    "lassocv = LassoCV(alphas = None, cv = 10, max_iter = 100000, normalize = True)\n",
    "lassocv.fit(X_train, y_train)\n",
    "\n",
    "lasso.set_params(alpha=lassocv.alpha_)\n",
    "lasso.fit(X_train, y_train)\n",
    "mean_squared_error(y_test, lasso.predict(X_test))"
   ]
  },
  {
   "cell_type": "code",
   "execution_count": null,
   "metadata": {},
   "outputs": [],
   "source": [
    "X_train.columns"
   ]
  },
  {
   "cell_type": "markdown",
   "metadata": {},
   "source": [
    "This is substantially lower than the test set MSE of the null model and of least squares, and only a little worse than the test MSE of ridge regression with alpha chosen by cross-validation.  \n",
    "\n",
    "However, the lasso has a substantial advantage over ridge regression in that the resulting coefficient estimates are sparse. Here we see that 13 of the 19 coefficient estimates are exactly zero:"
   ]
  },
  {
   "cell_type": "code",
   "execution_count": null,
   "metadata": {
    "scrolled": true
   },
   "outputs": [],
   "source": [
    "# Some of the coefficients are now reduced to exactly zero.\n",
    "pd.Series(lasso.coef_, index=X_train.columns)"
   ]
  },
  {
   "cell_type": "code",
   "execution_count": null,
   "metadata": {
    "scrolled": true
   },
   "outputs": [],
   "source": [
    "# ser = pd.Series(lasso.coef_, index=numfields)\n",
    "dic = {X_train.columns[i]: [lasso.coef_[i]] for i in range(len(X_train.columns))}\n",
    "dfl = pd.DataFrame(dic).T\n",
    "dfl.reset_index(level=0, inplace=True)\n",
    "dfl.columns = [\"param\", \"coef\"]\n",
    "dfl"
   ]
  },
  {
   "cell_type": "code",
   "execution_count": null,
   "metadata": {},
   "outputs": [],
   "source": [
    "dfl = dfl[dfl.coef != 0]\n",
    "dfl = dfl.sort_values(\"coef\", ascending=False)\n",
    "dfl"
   ]
  },
  {
   "cell_type": "markdown",
   "metadata": {},
   "source": [
    "### Lasso another example\n",
    "\n",
    "https://www.kirenz.com/post/2019-08-12-python-lasso-regression-auto"
   ]
  },
  {
   "cell_type": "code",
   "execution_count": null,
   "metadata": {},
   "outputs": [],
   "source": [
    "reg = Lasso(alpha=0.001, max_iter=1000000, fit_intercept=False)\n",
    "reg.fit(X_train, y_train)"
   ]
  },
  {
   "cell_type": "code",
   "execution_count": null,
   "metadata": {},
   "outputs": [],
   "source": [
    "print('Lasso Regression: R^2 score on training set', reg.score(X_train, y_train)*100)\n",
    "print('Lasso Regression: R^2 score on test set', reg.score(X_test, y_test)*100)"
   ]
  },
  {
   "cell_type": "markdown",
   "metadata": {},
   "source": [
    "#### Lasso with different lambdas\n",
    "\n",
    "Apply the Lasso regression on the training set with the following λ parameters: (0.001, 0.01, 0.1, 0.5, 1, 2, 10). Evaluate the R^2 score for all the models you obtain on both the train and test sets."
   ]
  },
  {
   "cell_type": "code",
   "execution_count": null,
   "metadata": {},
   "outputs": [],
   "source": [
    "lambdas = [0.001, 0.005, 0.01, 0.05, 0.1, 0.5, 1, 2]\n",
    "l_num = len(lambdas)\n",
    "pred_num = len(X_train.columns)\n",
    "l_num, pred_num"
   ]
  },
  {
   "cell_type": "code",
   "execution_count": null,
   "metadata": {},
   "outputs": [],
   "source": [
    "# prepare data for enumerate\n",
    "coeff_a = np.zeros((l_num, pred_num))\n",
    "train_r_squared = np.zeros(l_num)\n",
    "test_r_squared = np.zeros(l_num)"
   ]
  },
  {
   "cell_type": "code",
   "execution_count": null,
   "metadata": {},
   "outputs": [],
   "source": [
    "X_train.columns"
   ]
  },
  {
   "cell_type": "code",
   "execution_count": null,
   "metadata": {},
   "outputs": [],
   "source": [
    "X_test.columns"
   ]
  },
  {
   "cell_type": "code",
   "execution_count": null,
   "metadata": {},
   "outputs": [],
   "source": [
    "y_test"
   ]
  },
  {
   "cell_type": "code",
   "execution_count": null,
   "metadata": {},
   "outputs": [],
   "source": [
    "# enumerate through lambdas with index and i\n",
    "for ind, i in enumerate(lambdas):    \n",
    "    reg = Lasso(alpha = i, max_iter=100000, fit_intercept=True)\n",
    "    reg.fit(X_train, y_train)\n",
    "\n",
    "    coeff_a[ind,:] = reg.coef_\n",
    "    train_r_squared[ind] = reg.score(X_train, y_train)\n",
    "    test_r_squared[ind] = reg.score(X_test, y_test)"
   ]
  },
  {
   "cell_type": "code",
   "execution_count": null,
   "metadata": {},
   "outputs": [],
   "source": [
    "# Plotting\n",
    "plt.figure(figsize=(18, 8))\n",
    "plt.plot(train_r_squared, 'bo-', label=r'$R^2$ Training set', color=\"darkblue\", alpha=0.6, linewidth=3)\n",
    "plt.plot(test_r_squared, 'bo-', label=r'$R^2$ Test set', color=\"darkred\", alpha=0.6, linewidth=3)\n",
    "plt.xlabel('Lamda index'); plt.ylabel(r'$R^2$')\n",
    "plt.xlim(0, 6)\n",
    "plt.title(r'Evaluate lasso regression with lamdas: 0 = 0.001, 1= 0.01, 2 = 0.1, 3 = 0.5, 4= 1, 5= 2, 6 = 10')\n",
    "plt.legend(loc='best')\n",
    "plt.grid()"
   ]
  },
  {
   "cell_type": "code",
   "execution_count": null,
   "metadata": {},
   "outputs": [],
   "source": []
  },
  {
   "cell_type": "code",
   "execution_count": null,
   "metadata": {},
   "outputs": [],
   "source": []
  },
  {
   "cell_type": "markdown",
   "metadata": {},
   "source": [
    "### Random forest tree"
   ]
  },
  {
   "cell_type": "code",
   "execution_count": null,
   "metadata": {},
   "outputs": [],
   "source": [
    "from sklearn.tree import export_graphviz\n",
    "from subprocess import call"
   ]
  },
  {
   "cell_type": "code",
   "execution_count": null,
   "metadata": {},
   "outputs": [],
   "source": [
    "estimator = model.estimators_[4]\n",
    "estimator"
   ]
  },
  {
   "cell_type": "code",
   "execution_count": null,
   "metadata": {},
   "outputs": [],
   "source": [
    "rootpng = '../data2020/png/'\n",
    "name = \"rf_colombia_prothidium_population\"\n",
    "filedot = os.path.join(root+\"png/\", name+'.dot')\n",
    "\n",
    "filedot = name+'.dot'\n",
    "filepng = filedot.replace(\".dot\", \".png\")\n",
    "\n",
    "filedot, filepng"
   ]
  },
  {
   "cell_type": "code",
   "execution_count": null,
   "metadata": {},
   "outputs": [],
   "source": [
    "# Extract single tree\n",
    "estimator = model.estimators_[5]\n",
    "\n",
    "from sklearn.tree import export_graphviz\n",
    "# Export as dot file\n",
    "export_graphviz(estimator, out_file='tree.dot', \n",
    "                feature_names = feature_names,\n",
    "                class_names = dfTest.population.unique(),\n",
    "                rounded = True, proportion = False, \n",
    "                precision = 2, filled = True)\n",
    "# Convert to png using system command (requires Graphviz)\n",
    "from subprocess import call\n",
    "call(['dot', '-Tpng', 'tree.dot', '-o', 'tree.png', '-Gdpi=600'])\n",
    "\n",
    "# Display in jupyter notebook\n",
    "from IPython.display import Image\n",
    "Image(filename = 'tree.png')"
   ]
  },
  {
   "cell_type": "code",
   "execution_count": null,
   "metadata": {
    "scrolled": true
   },
   "outputs": [],
   "source": [
    "estimator = model.estimators_[4]\n",
    "\n",
    "print(filedot, filepng)\n",
    "\n",
    "# Export as dot file\n",
    "export_graphviz(estimator, out_file=filedot, \n",
    "                feature_names = feature_names,\n",
    "                class_names = dfTest.population.unique(),\n",
    "                rounded = True, proportion = False, \n",
    "                precision = 2, filled = True)\n",
    "\n",
    "# Convert to png using system command (requires Graphviz)\n",
    "# call(['dot', '-Tpng', 'tree.dot', '-o', 'tree.png', '-Gdpi=600'])\n",
    "subprocess.call(['dot', '-Tpng', filedot, '-o', filepng, '-Gdpi=200'])\n",
    "\n",
    "# Display in jupyter notebook\n",
    "from IPython.display import Image\n",
    "\n",
    "Image(filename = filename)\n"
   ]
  },
  {
   "cell_type": "code",
   "execution_count": null,
   "metadata": {},
   "outputs": [],
   "source": []
  },
  {
   "cell_type": "code",
   "execution_count": null,
   "metadata": {},
   "outputs": [],
   "source": []
  },
  {
   "cell_type": "markdown",
   "metadata": {},
   "source": [
    "### Random Forest Species"
   ]
  },
  {
   "cell_type": "code",
   "execution_count": null,
   "metadata": {},
   "outputs": [],
   "source": [
    "dic = {}\n",
    "trains = []; tests = []\n",
    "\n",
    "for species in set(speciesList):\n",
    "    m = np.array(df[ df.species == species ].index.tolist())\n",
    "    np.random.shuffle(m)\n",
    "    n = len(m)\n",
    "    ntrain = int(n*.6)\n",
    "   \n",
    "    train = m[:ntrain]\n",
    "    test  = m[ntrain:]\n",
    "    # print(pop, train, test)\n",
    "    dic[pop] = {}\n",
    "    dic[pop][\"train\"] = train\n",
    "    dic[pop][\"test\"] = test\n",
    "    \n",
    "    trains += list(train)\n",
    "    tests += list(test)\n",
    "    \n",
    "trains.sort()\n",
    "tests.sort()\n",
    "\n",
    "print(trains)\n",
    "print(tests)\n",
    "print(len(trains)+len(tests))\n",
    "df.shape"
   ]
  },
  {
   "cell_type": "code",
   "execution_count": null,
   "metadata": {},
   "outputs": [],
   "source": [
    "start_at = 2\n",
    "# df, df2, only one sex\n",
    "dfTrain = df2.iloc[trains]\n",
    "X_train = dfTrain[ dfTrain.columns[start_at:] ]\n",
    "y_train = pd.factorize(dfTrain[\"species\"])[0]\n",
    "\n",
    "dfTest = df2.iloc[tests]\n",
    "X_test = dfTest[ dfTest.columns[start_at:] ]\n",
    "y_test = pd.factorize(dfTest[\"species\"])[0]\n",
    "\n",
    "print(\"Train (pop):\", X_train.shape[0], len(y_train), y_train[:30])\n",
    "print(\"\")\n",
    "print(\"Test  (pop):\", X_Test.shape[0], len(y_test), y_test[:30])\n",
    "X_train.head()"
   ]
  },
  {
   "cell_type": "code",
   "execution_count": null,
   "metadata": {},
   "outputs": [],
   "source": [
    "# Create a random forest Classifier. By convention, clf means 'Classifier'\n",
    "# https://chrisalbon.com/machine_learning/trees_and_forests/random_forest_classifier_example/\n",
    "\n",
    "modelspec = RandomForestClassifier(random_state=0, n_estimators=12000, n_jobs=6)\n",
    "\n",
    "# Train the Classifier to take the training features and learn how they relate\n",
    "# to the training y (the species)\n",
    "f = modelspec.fit(X_train, y_train)"
   ]
  },
  {
   "cell_type": "code",
   "execution_count": null,
   "metadata": {},
   "outputs": [],
   "source": [
    "X_train.shape, X_test.shape"
   ]
  },
  {
   "cell_type": "code",
   "execution_count": null,
   "metadata": {},
   "outputs": [],
   "source": [
    "prediction = modelspec.predict(X_test)\n",
    "len(prediction), prediction"
   ]
  },
  {
   "cell_type": "code",
   "execution_count": null,
   "metadata": {},
   "outputs": [],
   "source": [
    "pd.crosstab(dfTest.species, dfTest.species.unique()[prediction], rownames=['actual population'], colnames=['predicted poputlation'], margins=True)"
   ]
  },
  {
   "cell_type": "code",
   "execution_count": null,
   "metadata": {},
   "outputs": [],
   "source": [
    "nTest = X_test.shape[0]\n",
    "1-np.array([True if x == 0 else False for x in (prediction - y_test)]).sum() / nTest"
   ]
  },
  {
   "cell_type": "code",
   "execution_count": null,
   "metadata": {},
   "outputs": [],
   "source": [
    "feature_names = X_test.columns\n",
    "feature_names"
   ]
  },
  {
   "cell_type": "code",
   "execution_count": null,
   "metadata": {},
   "outputs": [],
   "source": [
    "model.estimators_[1000]"
   ]
  },
  {
   "cell_type": "code",
   "execution_count": null,
   "metadata": {},
   "outputs": [],
   "source": [
    "estimator = modelspec.estimators_[4]\n",
    "\n",
    "name = \"rf_colombia_prothidium_by_species\"\n",
    "filedot = os.path.join(root+\"png/\", name+'.dot')\n",
    "\n",
    "from sklearn.tree import export_graphviz\n",
    "# Export as dot file\n",
    "export_graphviz(estimator, out_file=filedot, \n",
    "                feature_names = feature_names,\n",
    "                class_names = dfTest.species.unique(),\n",
    "                rounded = True, proportion = False, \n",
    "                precision = 2, filled = True)\n",
    "\n",
    "filename = os.path.join(root+\"png/\", name+'.png')\n",
    "\n",
    "# Convert to png using system command (requires Graphviz)\n",
    "from subprocess import call\n",
    "call(['dot', '-Tpng', name+'.dot', '-o',filename, '-Gdpi=200'])\n",
    "\n",
    "# Display in jupyter notebook\n",
    "from IPython.display import Image\n",
    "\n",
    "print(filename)\n",
    "Image(filename = filename)"
   ]
  },
  {
   "cell_type": "code",
   "execution_count": null,
   "metadata": {},
   "outputs": [],
   "source": []
  },
  {
   "cell_type": "markdown",
   "metadata": {},
   "source": [
    "### PCA - principal component analysis - Vent Subc LT"
   ]
  },
  {
   "cell_type": "code",
   "execution_count": null,
   "metadata": {},
   "outputs": [],
   "source": [
    "df.columns"
   ]
  },
  {
   "cell_type": "code",
   "execution_count": null,
   "metadata": {},
   "outputs": [],
   "source": [
    "df2 = df[fieldsNorm]"
   ]
  },
  {
   "cell_type": "code",
   "execution_count": null,
   "metadata": {},
   "outputs": [],
   "source": [
    "colors = [dicColors[pop] for pop in df2.population]\n",
    "np.array(colors)[1:50]"
   ]
  },
  {
   "cell_type": "code",
   "execution_count": null,
   "metadata": {},
   "outputs": [],
   "source": [
    "fields2 = ['sex', 'RDS', 'VS', 'StS', 'SRS', 'SLS', 'IRS', 'ILS', 'GsS', 'PvS', 'LevR', 'DP']"
   ]
  },
  {
   "cell_type": "code",
   "execution_count": null,
   "metadata": {},
   "outputs": [],
   "source": [
    "df2['sex'] = [1 if x=='male' else 2 for x in df2['sex'] ]"
   ]
  },
  {
   "cell_type": "code",
   "execution_count": null,
   "metadata": {},
   "outputs": [],
   "source": [
    "df2[fields2].head()"
   ]
  },
  {
   "cell_type": "code",
   "execution_count": null,
   "metadata": {},
   "outputs": [],
   "source": [
    "pca = PCA()\n",
    "fit = pca.fit_transform(df2[fields2])"
   ]
  },
  {
   "cell_type": "code",
   "execution_count": null,
   "metadata": {},
   "outputs": [],
   "source": [
    "%matplotlib inline\n",
    "import matplotlib.patches as mpatches\n",
    "# fig = plt.figure(figsize=(10,10))\n",
    "\n",
    "fig, ax = plt.subplots(figsize=(15,10))\n",
    "plt.scatter(fit[:,0], fit[:,1], s=100, c=colors, alpha=1)\n",
    "\n",
    "# ax.legend(lines[:2], ['line A', 'line B'], loc='upper right', frameon=False)\n",
    "# for pop in dicColors.keys():\n",
    "patches = [ mpatches.Patch(color=dicColors[pop], label=pop) for pop in dicColors.keys() ]\n",
    "\n",
    "plt.ylabel(\"PC2\")\n",
    "plt.xlabel(\"PC1\")\n",
    "plt.title(\"PCA is a bad clusterization model - 3 vars reache less then 70% exp.var.\")\n",
    "plt.legend(handles=patches, loc=\"lower right\")"
   ]
  },
  {
   "cell_type": "code",
   "execution_count": null,
   "metadata": {},
   "outputs": [],
   "source": []
  },
  {
   "cell_type": "code",
   "execution_count": null,
   "metadata": {},
   "outputs": [],
   "source": [
    "pca.explained_variance_ratio_"
   ]
  },
  {
   "cell_type": "code",
   "execution_count": null,
   "metadata": {},
   "outputs": [],
   "source": [
    "soma = 0; vals = []\n",
    "for val in pca.explained_variance_ratio_:\n",
    "    soma += val\n",
    "    vals.append(soma)"
   ]
  },
  {
   "cell_type": "code",
   "execution_count": null,
   "metadata": {},
   "outputs": [],
   "source": [
    "soma=np.cumsum(np.round(pca.explained_variance_ratio_, decimals=3)*100)"
   ]
  },
  {
   "cell_type": "code",
   "execution_count": null,
   "metadata": {},
   "outputs": [],
   "source": [
    "plt.plot(vals)\n",
    "plt.ylabel(\"Explained variance (%)\")\n",
    "plt.xlabel(\"Eigenvectors\")\n",
    "plt.title(\"PCA is a bad clusterization model with 3 vars it reaches ~.7\")"
   ]
  },
  {
   "cell_type": "code",
   "execution_count": null,
   "metadata": {},
   "outputs": [],
   "source": [
    "# pca.components_"
   ]
  },
  {
   "cell_type": "code",
   "execution_count": null,
   "metadata": {},
   "outputs": [],
   "source": [
    "from mpl_toolkits.mplot3d import Axes3D\n",
    "%matplotlib notebook\n",
    "\n",
    "fig = plt.figure(figsize=(12,10))\n",
    "ax = Axes3D(fig)\n",
    "\n",
    "# PCA 3 first components\n",
    "varx = fit[:,0]\n",
    "vary = fit[:,1]\n",
    "varz = fit[:,2]\n",
    "\n",
    "ax.scatter( varx, vary, varz, c=colors)\n",
    "\n",
    "ax.set_xlabel(\"pc1\")\n",
    "ax.set_ylabel(\"pc2\")\n",
    "ax.set_zlabel(\"pc3\")\n",
    "\n",
    "# label=df2.Population\n",
    "# ax.legend(loc=\"upper right\", title=\"regions\")"
   ]
  },
  {
   "cell_type": "code",
   "execution_count": null,
   "metadata": {},
   "outputs": [],
   "source": [
    "pops"
   ]
  },
  {
   "cell_type": "code",
   "execution_count": null,
   "metadata": {},
   "outputs": [],
   "source": []
  },
  {
   "cell_type": "code",
   "execution_count": null,
   "metadata": {},
   "outputs": [],
   "source": [
    "def chisquare_gender01_female_male(df2, measure, field):\n",
    "    valsf = df2[df2[field] == 0].groupby(measure).count().iloc[:,0:1]\n",
    "    valsf['class'] = valsf.index\n",
    "    valsf.columns = ['count', 'class']\n",
    "    valsf = valsf[['class', 'count']].T\n",
    "\n",
    "    valsm = df2[df2.gender == 1].groupby(measure).count().iloc[:,0:1]\n",
    "    valsm['class'] = valsm.index\n",
    "    valsm.columns = ['count', 'class']\n",
    "    valsm = valsm[['class', 'count']].T\n",
    "    \n",
    "    cols = np.unique(list(valsf.columns) + list(valsm.columns))\n",
    "    cols = np.sort(cols)\n",
    "    dic = {}\n",
    "    for col in cols:\n",
    "        dic[col] = []\n",
    "\n",
    "        try:\n",
    "            dic[col].append(valsf[col][1])\n",
    "        except:\n",
    "            dic[col].append(0)\n",
    "\n",
    "        try:\n",
    "            dic[col].append(valsm[col][1])\n",
    "        except:\n",
    "            dic[col].append(0)   \n",
    "\n",
    "    dfgender = pd.DataFrame.from_dict(dic)\n",
    "    dfgender.index = ['female', 'male']\n",
    "    print(dfgender)   \n",
    "    \n",
    "    stat, pvalue = scipy.stats.chisquare(np.array([ dfgender.iloc[0].to_list(), dfgender.iloc[1].to_list()]), axis=None)\n",
    "    return stat, pvalue\n"
   ]
  },
  {
   "cell_type": "code",
   "execution_count": null,
   "metadata": {},
   "outputs": [],
   "source": [
    "\n",
    "def results_summary_to_dataframe(results):\n",
    "    '''take the result of an statsmodel results table and transforms it into a dataframe'''\n",
    "    mat = []\n",
    "    groups = results.groupsunique\n",
    "    for i in range(len(groups)-1):\n",
    "        for j in range(i+1, len(groups)):\n",
    "            mat.append((groups[i], groups[j]))\n",
    "\n",
    "    mat = np.array(mat)\n",
    "    group1 = np.array(mat)[:, 0]\n",
    "    group2 = np.array(mat)[:, 1]\n",
    "\n",
    "    pvals = results.pvalues\n",
    "    meandiffs = results.meandiffs\n",
    "    conf_lower = np.array(results.confint)[:, 0]\n",
    "    conf_higher = np.array(results.confint)[:, 1]\n",
    "    reject = results.reject\n",
    "\n",
    "    results_df = pd.DataFrame({\"group1\": group1,\n",
    "                               \"group2\": group2,\n",
    "                               \"pvalue_adj\":pvals,\n",
    "                               \"meandiffs\":meandiffs,\n",
    "                               \"conf_lower\":conf_lower,\n",
    "                               \"conf_higher\":conf_higher,\n",
    "                               \"reject\": reject })\n",
    "\n",
    "    #Reordering...\n",
    "    results_df = results_df[[\"group1\", \"group2\", \"meandiffs\",\"pvalue_adj\",\"conf_lower\",\"conf_higher\"]]\n",
    "    return results_df\n",
    "    "
   ]
  },
  {
   "cell_type": "code",
   "execution_count": null,
   "metadata": {},
   "outputs": [],
   "source": []
  }
 ],
 "metadata": {
  "kernelspec": {
   "display_name": "Python 3",
   "language": "python",
   "name": "python3"
  },
  "language_info": {
   "codemirror_mode": {
    "name": "ipython",
    "version": 3
   },
   "file_extension": ".py",
   "mimetype": "text/x-python",
   "name": "python",
   "nbconvert_exporter": "python",
   "pygments_lexer": "ipython3",
   "version": "3.7.7"
  }
 },
 "nbformat": 4,
 "nbformat_minor": 2
}
