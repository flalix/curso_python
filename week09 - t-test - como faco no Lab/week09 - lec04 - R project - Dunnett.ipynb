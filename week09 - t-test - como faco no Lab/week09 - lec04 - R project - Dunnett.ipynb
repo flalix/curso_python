{
 "cells": [
  {
   "cell_type": "markdown",
   "metadata": {},
   "source": [
    "### R-project\n",
    "\n",
    "### How to install?\n",
    "\n",
    " - -c r = R channel\n",
    " \n",
    " - Veja a versão do R\n",
    "\n",
    "conda update -n base -c defaults conda\n",
    " \n",
    "conda install -c r r-essentials"
   ]
  },
  {
   "cell_type": "markdown",
   "metadata": {},
   "source": [
    "![R-project](../figure/nowwehaveR.png)"
   ]
  },
  {
   "cell_type": "markdown",
   "metadata": {},
   "source": [
    "### Ver se R funciona"
   ]
  },
  {
   "cell_type": "code",
   "execution_count": 1,
   "metadata": {},
   "outputs": [
    {
     "data": {
      "text/html": [
       "9"
      ],
      "text/latex": [
       "9"
      ],
      "text/markdown": [
       "9"
      ],
      "text/plain": [
       "[1] 9"
      ]
     },
     "metadata": {},
     "output_type": "display_data"
    }
   ],
   "source": [
    "a <- 3\n",
    "a**2"
   ]
  },
  {
   "cell_type": "markdown",
   "metadata": {},
   "source": [
    "### Instalando a library DescTools"
   ]
  },
  {
   "cell_type": "code",
   "execution_count": 2,
   "metadata": {},
   "outputs": [
    {
     "data": {
      "text/plain": [
       "               _                           \n",
       "platform       x86_64-conda_cos6-linux-gnu \n",
       "arch           x86_64                      \n",
       "os             linux-gnu                   \n",
       "system         x86_64, linux-gnu           \n",
       "status                                     \n",
       "major          3                           \n",
       "minor          5.1                         \n",
       "year           2018                        \n",
       "month          07                          \n",
       "day            02                          \n",
       "svn rev        74947                       \n",
       "language       R                           \n",
       "version.string R version 3.5.1 (2018-07-02)\n",
       "nickname       Feather Spray               "
      ]
     },
     "metadata": {},
     "output_type": "display_data"
    }
   ],
   "source": [
    "version"
   ]
  },
  {
   "cell_type": "code",
   "execution_count": null,
   "metadata": {},
   "outputs": [],
   "source": []
  },
  {
   "cell_type": "code",
   "execution_count": 15,
   "metadata": {},
   "outputs": [],
   "source": [
    "# install.packages('multcomp')"
   ]
  },
  {
   "cell_type": "code",
   "execution_count": 14,
   "metadata": {},
   "outputs": [],
   "source": [
    "library(multcomp)"
   ]
  },
  {
   "cell_type": "code",
   "execution_count": 12,
   "metadata": {},
   "outputs": [
    {
     "data": {
      "text/plain": [
       "\n",
       "\t Simultaneous Tests for General Linear Hypotheses\n",
       "\n",
       "Multiple Comparisons of Means: Dunnett Contrasts\n",
       "\n",
       "\n",
       "Fit: aov(formula = Value ~ Group, data = data)\n",
       "\n",
       "Linear Hypotheses:\n",
       "           Estimate Std. Error t value Pr(>|t|)   \n",
       "B - A == 0 -0.35990    0.37009  -0.972  0.76536   \n",
       "C - A == 0 -0.26896    0.37009  -0.727  0.90012   \n",
       "D - A == 0 -0.09026    0.37009  -0.244  0.99895   \n",
       "E - A == 0  1.46052    0.40541   3.603  0.01794 * \n",
       "F - A == 0  2.02814    0.37009   5.480  0.00112 **\n",
       "---\n",
       "Signif. codes:  0 ‘***’ 0.001 ‘**’ 0.01 ‘*’ 0.05 ‘.’ 0.1 ‘ ’ 1\n",
       "(Adjusted p values reported -- single-step method)\n"
      ]
     },
     "metadata": {},
     "output_type": "display_data"
    }
   ],
   "source": [
    "Group <- factor(c(\"A\",\"A\",\"B\",\"B\",\"B\",\"C\",\"C\",\"C\",\"D\",\"D\",\"D\",\"E\",\"E\",\"F\",\"F\",\"F\"))\n",
    "Value <- c(5,5.09901951359278,4.69041575982343,4.58257569495584,4.79583152331272,5,5.09901951359278,4.24264068711928,5.09901951359278,5.19615242270663,4.58257569495584,6.16441400296898,6.85565460040104,7.68114574786861,7.07106781186548,6.48074069840786)\n",
    "data <- data.frame(Group, Value)\n",
    "\n",
    "fit <- aov(Value ~ Group, data)\n",
    "\n",
    "set.seed(20140123)\n",
    "Dunnet <- glht(fit, linfct=mcp(Group=\"Dunnett\"))\n",
    "summary(Dunnet)"
   ]
  },
  {
   "cell_type": "code",
   "execution_count": 86,
   "metadata": {},
   "outputs": [],
   "source": [
    "calc_dunnet <- function(fname='table.tsv', path = '../tmp/',\n",
    "                        groups=c(\"ctrl-pos\", \"control\", \"ctrl-neg\", 'drg1', 'drg2', 'drg3')) {\n",
    "    \n",
    "    df <- read.delim(paste0(path,fname), sep='\\t')\n",
    "    \n",
    "    df$group <- factor(df$group, levels = groups)\n",
    "    \n",
    "    fit <- aov(val ~ group, df)\n",
    "    dunnet <- glht(fit, linfct=mcp(group=\"Dunnett\"))\n",
    "    \n",
    "    dfr <- data.frame(summ$test$coefficients, summ$test$tstat, summ$test$pvalues)\n",
    "    colnames(dfr) <- c(\"estimate\", \"tstat\", \"pvalue\")\n",
    "\n",
    "    fname = 'dunnet_result.tsv'\n",
    "    write.table(dfr, file=paste0(path,fname), quote=FALSE, sep='\\t')\n",
    "}"
   ]
  },
  {
   "cell_type": "code",
   "execution_count": 87,
   "metadata": {},
   "outputs": [],
   "source": [
    "calc_dunnet()"
   ]
  },
  {
   "cell_type": "code",
   "execution_count": null,
   "metadata": {},
   "outputs": [],
   "source": []
  },
  {
   "cell_type": "code",
   "execution_count": 76,
   "metadata": {},
   "outputs": [
    {
     "data": {
      "text/html": [
       "<table>\n",
       "<thead><tr><th></th><th scope=col>estimate</th><th scope=col>tstat</th><th scope=col>pvalue</th></tr></thead>\n",
       "<tbody>\n",
       "\t<tr><th scope=row>control - ctrl-pos</th><td>-380.27134</td><td>-81.63352 </td><td>0.00000000</td></tr>\n",
       "\t<tr><th scope=row>ctrl-neg - ctrl-pos</th><td>-358.54321</td><td>-76.96911 </td><td>0.00000000</td></tr>\n",
       "\t<tr><th scope=row>drg1 - ctrl-pos</th><td>  15.74934</td><td>  3.38094 </td><td>0.00408586</td></tr>\n",
       "\t<tr><th scope=row>drg2 - ctrl-pos</th><td>-161.57319</td><td>-34.68520 </td><td>0.00000000</td></tr>\n",
       "\t<tr><th scope=row>drg3 - ctrl-pos</th><td>-305.84443</td><td>-65.65617 </td><td>0.00000000</td></tr>\n",
       "</tbody>\n",
       "</table>\n"
      ],
      "text/latex": [
       "\\begin{tabular}{r|lll}\n",
       "  & estimate & tstat & pvalue\\\\\n",
       "\\hline\n",
       "\tcontrol - ctrl-pos & -380.27134 & -81.63352  & 0.00000000\\\\\n",
       "\tctrl-neg - ctrl-pos & -358.54321 & -76.96911  & 0.00000000\\\\\n",
       "\tdrg1 - ctrl-pos &   15.74934 &   3.38094  & 0.00408586\\\\\n",
       "\tdrg2 - ctrl-pos & -161.57319 & -34.68520  & 0.00000000\\\\\n",
       "\tdrg3 - ctrl-pos & -305.84443 & -65.65617  & 0.00000000\\\\\n",
       "\\end{tabular}\n"
      ],
      "text/markdown": [
       "\n",
       "| <!--/--> | estimate | tstat | pvalue | \n",
       "|---|---|---|---|---|\n",
       "| control - ctrl-pos | -380.27134 | -81.63352  | 0.00000000 | \n",
       "| ctrl-neg - ctrl-pos | -358.54321 | -76.96911  | 0.00000000 | \n",
       "| drg1 - ctrl-pos |   15.74934 |   3.38094  | 0.00408586 | \n",
       "| drg2 - ctrl-pos | -161.57319 | -34.68520  | 0.00000000 | \n",
       "| drg3 - ctrl-pos | -305.84443 | -65.65617  | 0.00000000 | \n",
       "\n",
       "\n"
      ],
      "text/plain": [
       "                    estimate   tstat     pvalue    \n",
       "control - ctrl-pos  -380.27134 -81.63352 0.00000000\n",
       "ctrl-neg - ctrl-pos -358.54321 -76.96911 0.00000000\n",
       "drg1 - ctrl-pos       15.74934   3.38094 0.00408586\n",
       "drg2 - ctrl-pos     -161.57319 -34.68520 0.00000000\n",
       "drg3 - ctrl-pos     -305.84443 -65.65617 0.00000000"
      ]
     },
     "metadata": {},
     "output_type": "display_data"
    }
   ],
   "source": [
    "dfr <- data.frame(summ$test$coefficients, \n",
    "                  summ$test$tstat, summ$test$pvalues)\n",
    "\n",
    "colnames(dfr) <- c(\"estimate\", \"tstat\", \"pvalue\")\n",
    "\n",
    "fname = 'dunnet_result.tsv'\n",
    "write.table(dfr, file=path+fname, quote=FALSE, sep='\\t', col.names = NA)\n",
    "\n",
    "\n"
   ]
  },
  {
   "cell_type": "code",
   "execution_count": null,
   "metadata": {},
   "outputs": [],
   "source": []
  },
  {
   "cell_type": "code",
   "execution_count": 18,
   "metadata": {},
   "outputs": [
    {
     "data": {
      "text/html": [
       "<table>\n",
       "<thead><tr><th scope=col>val</th><th scope=col>group</th></tr></thead>\n",
       "<tbody>\n",
       "\t<tr><td>23.80424</td><td>control </td></tr>\n",
       "\t<tr><td>27.47838</td><td>control </td></tr>\n",
       "\t<tr><td>17.26530</td><td>control </td></tr>\n",
       "</tbody>\n",
       "</table>\n"
      ],
      "text/latex": [
       "\\begin{tabular}{r|ll}\n",
       " val & group\\\\\n",
       "\\hline\n",
       "\t 23.80424 & control \\\\\n",
       "\t 27.47838 & control \\\\\n",
       "\t 17.26530 & control \\\\\n",
       "\\end{tabular}\n"
      ],
      "text/markdown": [
       "\n",
       "val | group | \n",
       "|---|---|---|\n",
       "| 23.80424 | control  | \n",
       "| 27.47838 | control  | \n",
       "| 17.26530 | control  | \n",
       "\n",
       "\n"
      ],
      "text/plain": [
       "  val      group  \n",
       "1 23.80424 control\n",
       "2 27.47838 control\n",
       "3 17.26530 control"
      ]
     },
     "metadata": {},
     "output_type": "display_data"
    }
   ],
   "source": [
    "df <- read.delim('../tmp/table.tsv', sep='\\t')\n",
    "head(df, 3)"
   ]
  },
  {
   "cell_type": "code",
   "execution_count": 62,
   "metadata": {},
   "outputs": [
    {
     "data": {
      "text/html": [
       "<ol class=list-inline>\n",
       "\t<li>'control'</li>\n",
       "\t<li>'ctrl-neg'</li>\n",
       "\t<li>'ctrl-pos'</li>\n",
       "\t<li>'drg1'</li>\n",
       "\t<li>'drg2'</li>\n",
       "\t<li>'drg3'</li>\n",
       "</ol>\n"
      ],
      "text/latex": [
       "\\begin{enumerate*}\n",
       "\\item 'control'\n",
       "\\item 'ctrl-neg'\n",
       "\\item 'ctrl-pos'\n",
       "\\item 'drg1'\n",
       "\\item 'drg2'\n",
       "\\item 'drg3'\n",
       "\\end{enumerate*}\n"
      ],
      "text/markdown": [
       "1. 'control'\n",
       "2. 'ctrl-neg'\n",
       "3. 'ctrl-pos'\n",
       "4. 'drg1'\n",
       "5. 'drg2'\n",
       "6. 'drg3'\n",
       "\n",
       "\n"
      ],
      "text/plain": [
       "[1] \"control\"  \"ctrl-neg\" \"ctrl-pos\" \"drg1\"     \"drg2\"     \"drg3\"    "
      ]
     },
     "metadata": {},
     "output_type": "display_data"
    }
   ],
   "source": [
    "levels(df$group)"
   ]
  },
  {
   "cell_type": "code",
   "execution_count": 64,
   "metadata": {
    "scrolled": true
   },
   "outputs": [
    {
     "data": {
      "text/html": [
       "<ol class=list-inline>\n",
       "\t<li>control</li>\n",
       "\t<li>control</li>\n",
       "\t<li>control</li>\n",
       "\t<li>control</li>\n",
       "\t<li>control</li>\n",
       "\t<li>control</li>\n",
       "\t<li>control</li>\n",
       "\t<li>control</li>\n",
       "\t<li>control</li>\n",
       "\t<li>control</li>\n",
       "\t<li>control</li>\n",
       "\t<li>control</li>\n",
       "\t<li>control</li>\n",
       "\t<li>control</li>\n",
       "\t<li>control</li>\n",
       "\t<li>control</li>\n",
       "\t<li>control</li>\n",
       "\t<li>control</li>\n",
       "\t<li>control</li>\n",
       "\t<li>control</li>\n",
       "\t<li>control</li>\n",
       "\t<li>control</li>\n",
       "\t<li>control</li>\n",
       "\t<li>control</li>\n",
       "\t<li>control</li>\n",
       "\t<li>control</li>\n",
       "\t<li>control</li>\n",
       "\t<li>control</li>\n",
       "\t<li>control</li>\n",
       "\t<li>control</li>\n",
       "\t<li>ctrl-pos</li>\n",
       "\t<li>ctrl-pos</li>\n",
       "\t<li>ctrl-pos</li>\n",
       "\t<li>ctrl-pos</li>\n",
       "\t<li>ctrl-pos</li>\n",
       "\t<li>ctrl-pos</li>\n",
       "\t<li>ctrl-pos</li>\n",
       "\t<li>ctrl-pos</li>\n",
       "\t<li>ctrl-pos</li>\n",
       "\t<li>ctrl-pos</li>\n",
       "\t<li>ctrl-pos</li>\n",
       "\t<li>ctrl-pos</li>\n",
       "\t<li>ctrl-pos</li>\n",
       "\t<li>ctrl-pos</li>\n",
       "\t<li>ctrl-pos</li>\n",
       "\t<li>ctrl-pos</li>\n",
       "\t<li>ctrl-pos</li>\n",
       "\t<li>ctrl-pos</li>\n",
       "\t<li>ctrl-pos</li>\n",
       "\t<li>ctrl-pos</li>\n",
       "\t<li>ctrl-pos</li>\n",
       "\t<li>ctrl-pos</li>\n",
       "\t<li>ctrl-pos</li>\n",
       "\t<li>ctrl-pos</li>\n",
       "\t<li>ctrl-pos</li>\n",
       "\t<li>ctrl-pos</li>\n",
       "\t<li>ctrl-pos</li>\n",
       "\t<li>ctrl-pos</li>\n",
       "\t<li>ctrl-pos</li>\n",
       "\t<li>ctrl-pos</li>\n",
       "\t<li>ctrl-neg</li>\n",
       "\t<li>ctrl-neg</li>\n",
       "\t<li>ctrl-neg</li>\n",
       "\t<li>ctrl-neg</li>\n",
       "\t<li>ctrl-neg</li>\n",
       "\t<li>ctrl-neg</li>\n",
       "\t<li>ctrl-neg</li>\n",
       "\t<li>ctrl-neg</li>\n",
       "\t<li>ctrl-neg</li>\n",
       "\t<li>ctrl-neg</li>\n",
       "\t<li>ctrl-neg</li>\n",
       "\t<li>ctrl-neg</li>\n",
       "\t<li>ctrl-neg</li>\n",
       "\t<li>ctrl-neg</li>\n",
       "\t<li>ctrl-neg</li>\n",
       "\t<li>ctrl-neg</li>\n",
       "\t<li>ctrl-neg</li>\n",
       "\t<li>ctrl-neg</li>\n",
       "\t<li>ctrl-neg</li>\n",
       "\t<li>ctrl-neg</li>\n",
       "\t<li>ctrl-neg</li>\n",
       "\t<li>ctrl-neg</li>\n",
       "\t<li>ctrl-neg</li>\n",
       "\t<li>ctrl-neg</li>\n",
       "\t<li>ctrl-neg</li>\n",
       "\t<li>ctrl-neg</li>\n",
       "\t<li>ctrl-neg</li>\n",
       "\t<li>ctrl-neg</li>\n",
       "\t<li>ctrl-neg</li>\n",
       "\t<li>ctrl-neg</li>\n",
       "\t<li>drg1</li>\n",
       "\t<li>drg1</li>\n",
       "\t<li>drg1</li>\n",
       "\t<li>drg1</li>\n",
       "\t<li>drg1</li>\n",
       "\t<li>drg1</li>\n",
       "\t<li>drg1</li>\n",
       "\t<li>drg1</li>\n",
       "\t<li>drg1</li>\n",
       "\t<li>drg1</li>\n",
       "\t<li>drg1</li>\n",
       "\t<li>drg1</li>\n",
       "\t<li>drg1</li>\n",
       "\t<li>drg1</li>\n",
       "\t<li>drg1</li>\n",
       "\t<li>drg1</li>\n",
       "\t<li>drg1</li>\n",
       "\t<li>drg1</li>\n",
       "\t<li>drg1</li>\n",
       "\t<li>drg1</li>\n",
       "\t<li>drg1</li>\n",
       "\t<li>drg1</li>\n",
       "\t<li>drg1</li>\n",
       "\t<li>drg1</li>\n",
       "\t<li>drg1</li>\n",
       "\t<li>drg1</li>\n",
       "\t<li>drg1</li>\n",
       "\t<li>drg1</li>\n",
       "\t<li>drg1</li>\n",
       "\t<li>drg1</li>\n",
       "\t<li>drg2</li>\n",
       "\t<li>drg2</li>\n",
       "\t<li>drg2</li>\n",
       "\t<li>drg2</li>\n",
       "\t<li>drg2</li>\n",
       "\t<li>drg2</li>\n",
       "\t<li>drg2</li>\n",
       "\t<li>drg2</li>\n",
       "\t<li>drg2</li>\n",
       "\t<li>drg2</li>\n",
       "\t<li>drg2</li>\n",
       "\t<li>drg2</li>\n",
       "\t<li>drg2</li>\n",
       "\t<li>drg2</li>\n",
       "\t<li>drg2</li>\n",
       "\t<li>drg2</li>\n",
       "\t<li>drg2</li>\n",
       "\t<li>drg2</li>\n",
       "\t<li>drg2</li>\n",
       "\t<li>drg2</li>\n",
       "\t<li>drg2</li>\n",
       "\t<li>drg2</li>\n",
       "\t<li>drg2</li>\n",
       "\t<li>drg2</li>\n",
       "\t<li>drg2</li>\n",
       "\t<li>drg2</li>\n",
       "\t<li>drg2</li>\n",
       "\t<li>drg2</li>\n",
       "\t<li>drg2</li>\n",
       "\t<li>drg2</li>\n",
       "\t<li>drg3</li>\n",
       "\t<li>drg3</li>\n",
       "\t<li>drg3</li>\n",
       "\t<li>drg3</li>\n",
       "\t<li>drg3</li>\n",
       "\t<li>drg3</li>\n",
       "\t<li>drg3</li>\n",
       "\t<li>drg3</li>\n",
       "\t<li>drg3</li>\n",
       "\t<li>drg3</li>\n",
       "\t<li>drg3</li>\n",
       "\t<li>drg3</li>\n",
       "\t<li>drg3</li>\n",
       "\t<li>drg3</li>\n",
       "\t<li>drg3</li>\n",
       "\t<li>drg3</li>\n",
       "\t<li>drg3</li>\n",
       "\t<li>drg3</li>\n",
       "\t<li>drg3</li>\n",
       "\t<li>drg3</li>\n",
       "\t<li>drg3</li>\n",
       "\t<li>drg3</li>\n",
       "\t<li>drg3</li>\n",
       "\t<li>drg3</li>\n",
       "\t<li>drg3</li>\n",
       "\t<li>drg3</li>\n",
       "\t<li>drg3</li>\n",
       "\t<li>drg3</li>\n",
       "\t<li>drg3</li>\n",
       "\t<li>drg3</li>\n",
       "</ol>\n",
       "\n",
       "<details>\n",
       "\t<summary style=display:list-item;cursor:pointer>\n",
       "\t\t<strong>Levels</strong>:\n",
       "\t</summary>\n",
       "\t<ol class=list-inline>\n",
       "\t\t<li>'ctrl-pos'</li>\n",
       "\t\t<li>'control'</li>\n",
       "\t\t<li>'ctrl-neg'</li>\n",
       "\t\t<li>'drg1'</li>\n",
       "\t\t<li>'drg2'</li>\n",
       "\t\t<li>'drg3'</li>\n",
       "\t</ol>\n",
       "</details>"
      ],
      "text/latex": [
       "\\begin{enumerate*}\n",
       "\\item control\n",
       "\\item control\n",
       "\\item control\n",
       "\\item control\n",
       "\\item control\n",
       "\\item control\n",
       "\\item control\n",
       "\\item control\n",
       "\\item control\n",
       "\\item control\n",
       "\\item control\n",
       "\\item control\n",
       "\\item control\n",
       "\\item control\n",
       "\\item control\n",
       "\\item control\n",
       "\\item control\n",
       "\\item control\n",
       "\\item control\n",
       "\\item control\n",
       "\\item control\n",
       "\\item control\n",
       "\\item control\n",
       "\\item control\n",
       "\\item control\n",
       "\\item control\n",
       "\\item control\n",
       "\\item control\n",
       "\\item control\n",
       "\\item control\n",
       "\\item ctrl-pos\n",
       "\\item ctrl-pos\n",
       "\\item ctrl-pos\n",
       "\\item ctrl-pos\n",
       "\\item ctrl-pos\n",
       "\\item ctrl-pos\n",
       "\\item ctrl-pos\n",
       "\\item ctrl-pos\n",
       "\\item ctrl-pos\n",
       "\\item ctrl-pos\n",
       "\\item ctrl-pos\n",
       "\\item ctrl-pos\n",
       "\\item ctrl-pos\n",
       "\\item ctrl-pos\n",
       "\\item ctrl-pos\n",
       "\\item ctrl-pos\n",
       "\\item ctrl-pos\n",
       "\\item ctrl-pos\n",
       "\\item ctrl-pos\n",
       "\\item ctrl-pos\n",
       "\\item ctrl-pos\n",
       "\\item ctrl-pos\n",
       "\\item ctrl-pos\n",
       "\\item ctrl-pos\n",
       "\\item ctrl-pos\n",
       "\\item ctrl-pos\n",
       "\\item ctrl-pos\n",
       "\\item ctrl-pos\n",
       "\\item ctrl-pos\n",
       "\\item ctrl-pos\n",
       "\\item ctrl-neg\n",
       "\\item ctrl-neg\n",
       "\\item ctrl-neg\n",
       "\\item ctrl-neg\n",
       "\\item ctrl-neg\n",
       "\\item ctrl-neg\n",
       "\\item ctrl-neg\n",
       "\\item ctrl-neg\n",
       "\\item ctrl-neg\n",
       "\\item ctrl-neg\n",
       "\\item ctrl-neg\n",
       "\\item ctrl-neg\n",
       "\\item ctrl-neg\n",
       "\\item ctrl-neg\n",
       "\\item ctrl-neg\n",
       "\\item ctrl-neg\n",
       "\\item ctrl-neg\n",
       "\\item ctrl-neg\n",
       "\\item ctrl-neg\n",
       "\\item ctrl-neg\n",
       "\\item ctrl-neg\n",
       "\\item ctrl-neg\n",
       "\\item ctrl-neg\n",
       "\\item ctrl-neg\n",
       "\\item ctrl-neg\n",
       "\\item ctrl-neg\n",
       "\\item ctrl-neg\n",
       "\\item ctrl-neg\n",
       "\\item ctrl-neg\n",
       "\\item ctrl-neg\n",
       "\\item drg1\n",
       "\\item drg1\n",
       "\\item drg1\n",
       "\\item drg1\n",
       "\\item drg1\n",
       "\\item drg1\n",
       "\\item drg1\n",
       "\\item drg1\n",
       "\\item drg1\n",
       "\\item drg1\n",
       "\\item drg1\n",
       "\\item drg1\n",
       "\\item drg1\n",
       "\\item drg1\n",
       "\\item drg1\n",
       "\\item drg1\n",
       "\\item drg1\n",
       "\\item drg1\n",
       "\\item drg1\n",
       "\\item drg1\n",
       "\\item drg1\n",
       "\\item drg1\n",
       "\\item drg1\n",
       "\\item drg1\n",
       "\\item drg1\n",
       "\\item drg1\n",
       "\\item drg1\n",
       "\\item drg1\n",
       "\\item drg1\n",
       "\\item drg1\n",
       "\\item drg2\n",
       "\\item drg2\n",
       "\\item drg2\n",
       "\\item drg2\n",
       "\\item drg2\n",
       "\\item drg2\n",
       "\\item drg2\n",
       "\\item drg2\n",
       "\\item drg2\n",
       "\\item drg2\n",
       "\\item drg2\n",
       "\\item drg2\n",
       "\\item drg2\n",
       "\\item drg2\n",
       "\\item drg2\n",
       "\\item drg2\n",
       "\\item drg2\n",
       "\\item drg2\n",
       "\\item drg2\n",
       "\\item drg2\n",
       "\\item drg2\n",
       "\\item drg2\n",
       "\\item drg2\n",
       "\\item drg2\n",
       "\\item drg2\n",
       "\\item drg2\n",
       "\\item drg2\n",
       "\\item drg2\n",
       "\\item drg2\n",
       "\\item drg2\n",
       "\\item drg3\n",
       "\\item drg3\n",
       "\\item drg3\n",
       "\\item drg3\n",
       "\\item drg3\n",
       "\\item drg3\n",
       "\\item drg3\n",
       "\\item drg3\n",
       "\\item drg3\n",
       "\\item drg3\n",
       "\\item drg3\n",
       "\\item drg3\n",
       "\\item drg3\n",
       "\\item drg3\n",
       "\\item drg3\n",
       "\\item drg3\n",
       "\\item drg3\n",
       "\\item drg3\n",
       "\\item drg3\n",
       "\\item drg3\n",
       "\\item drg3\n",
       "\\item drg3\n",
       "\\item drg3\n",
       "\\item drg3\n",
       "\\item drg3\n",
       "\\item drg3\n",
       "\\item drg3\n",
       "\\item drg3\n",
       "\\item drg3\n",
       "\\item drg3\n",
       "\\end{enumerate*}\n",
       "\n",
       "\\emph{Levels}: \\begin{enumerate*}\n",
       "\\item 'ctrl-pos'\n",
       "\\item 'control'\n",
       "\\item 'ctrl-neg'\n",
       "\\item 'drg1'\n",
       "\\item 'drg2'\n",
       "\\item 'drg3'\n",
       "\\end{enumerate*}\n"
      ],
      "text/markdown": [
       "1. control\n",
       "2. control\n",
       "3. control\n",
       "4. control\n",
       "5. control\n",
       "6. control\n",
       "7. control\n",
       "8. control\n",
       "9. control\n",
       "10. control\n",
       "11. control\n",
       "12. control\n",
       "13. control\n",
       "14. control\n",
       "15. control\n",
       "16. control\n",
       "17. control\n",
       "18. control\n",
       "19. control\n",
       "20. control\n",
       "21. control\n",
       "22. control\n",
       "23. control\n",
       "24. control\n",
       "25. control\n",
       "26. control\n",
       "27. control\n",
       "28. control\n",
       "29. control\n",
       "30. control\n",
       "31. ctrl-pos\n",
       "32. ctrl-pos\n",
       "33. ctrl-pos\n",
       "34. ctrl-pos\n",
       "35. ctrl-pos\n",
       "36. ctrl-pos\n",
       "37. ctrl-pos\n",
       "38. ctrl-pos\n",
       "39. ctrl-pos\n",
       "40. ctrl-pos\n",
       "41. ctrl-pos\n",
       "42. ctrl-pos\n",
       "43. ctrl-pos\n",
       "44. ctrl-pos\n",
       "45. ctrl-pos\n",
       "46. ctrl-pos\n",
       "47. ctrl-pos\n",
       "48. ctrl-pos\n",
       "49. ctrl-pos\n",
       "50. ctrl-pos\n",
       "51. ctrl-pos\n",
       "52. ctrl-pos\n",
       "53. ctrl-pos\n",
       "54. ctrl-pos\n",
       "55. ctrl-pos\n",
       "56. ctrl-pos\n",
       "57. ctrl-pos\n",
       "58. ctrl-pos\n",
       "59. ctrl-pos\n",
       "60. ctrl-pos\n",
       "61. ctrl-neg\n",
       "62. ctrl-neg\n",
       "63. ctrl-neg\n",
       "64. ctrl-neg\n",
       "65. ctrl-neg\n",
       "66. ctrl-neg\n",
       "67. ctrl-neg\n",
       "68. ctrl-neg\n",
       "69. ctrl-neg\n",
       "70. ctrl-neg\n",
       "71. ctrl-neg\n",
       "72. ctrl-neg\n",
       "73. ctrl-neg\n",
       "74. ctrl-neg\n",
       "75. ctrl-neg\n",
       "76. ctrl-neg\n",
       "77. ctrl-neg\n",
       "78. ctrl-neg\n",
       "79. ctrl-neg\n",
       "80. ctrl-neg\n",
       "81. ctrl-neg\n",
       "82. ctrl-neg\n",
       "83. ctrl-neg\n",
       "84. ctrl-neg\n",
       "85. ctrl-neg\n",
       "86. ctrl-neg\n",
       "87. ctrl-neg\n",
       "88. ctrl-neg\n",
       "89. ctrl-neg\n",
       "90. ctrl-neg\n",
       "91. drg1\n",
       "92. drg1\n",
       "93. drg1\n",
       "94. drg1\n",
       "95. drg1\n",
       "96. drg1\n",
       "97. drg1\n",
       "98. drg1\n",
       "99. drg1\n",
       "100. drg1\n",
       "101. drg1\n",
       "102. drg1\n",
       "103. drg1\n",
       "104. drg1\n",
       "105. drg1\n",
       "106. drg1\n",
       "107. drg1\n",
       "108. drg1\n",
       "109. drg1\n",
       "110. drg1\n",
       "111. drg1\n",
       "112. drg1\n",
       "113. drg1\n",
       "114. drg1\n",
       "115. drg1\n",
       "116. drg1\n",
       "117. drg1\n",
       "118. drg1\n",
       "119. drg1\n",
       "120. drg1\n",
       "121. drg2\n",
       "122. drg2\n",
       "123. drg2\n",
       "124. drg2\n",
       "125. drg2\n",
       "126. drg2\n",
       "127. drg2\n",
       "128. drg2\n",
       "129. drg2\n",
       "130. drg2\n",
       "131. drg2\n",
       "132. drg2\n",
       "133. drg2\n",
       "134. drg2\n",
       "135. drg2\n",
       "136. drg2\n",
       "137. drg2\n",
       "138. drg2\n",
       "139. drg2\n",
       "140. drg2\n",
       "141. drg2\n",
       "142. drg2\n",
       "143. drg2\n",
       "144. drg2\n",
       "145. drg2\n",
       "146. drg2\n",
       "147. drg2\n",
       "148. drg2\n",
       "149. drg2\n",
       "150. drg2\n",
       "151. drg3\n",
       "152. drg3\n",
       "153. drg3\n",
       "154. drg3\n",
       "155. drg3\n",
       "156. drg3\n",
       "157. drg3\n",
       "158. drg3\n",
       "159. drg3\n",
       "160. drg3\n",
       "161. drg3\n",
       "162. drg3\n",
       "163. drg3\n",
       "164. drg3\n",
       "165. drg3\n",
       "166. drg3\n",
       "167. drg3\n",
       "168. drg3\n",
       "169. drg3\n",
       "170. drg3\n",
       "171. drg3\n",
       "172. drg3\n",
       "173. drg3\n",
       "174. drg3\n",
       "175. drg3\n",
       "176. drg3\n",
       "177. drg3\n",
       "178. drg3\n",
       "179. drg3\n",
       "180. drg3\n",
       "\n",
       "\n",
       "\n",
       "**Levels**: 1. 'ctrl-pos'\n",
       "2. 'control'\n",
       "3. 'ctrl-neg'\n",
       "4. 'drg1'\n",
       "5. 'drg2'\n",
       "6. 'drg3'\n",
       "\n",
       "\n"
      ],
      "text/plain": [
       "  [1] control  control  control  control  control  control  control  control \n",
       "  [9] control  control  control  control  control  control  control  control \n",
       " [17] control  control  control  control  control  control  control  control \n",
       " [25] control  control  control  control  control  control  ctrl-pos ctrl-pos\n",
       " [33] ctrl-pos ctrl-pos ctrl-pos ctrl-pos ctrl-pos ctrl-pos ctrl-pos ctrl-pos\n",
       " [41] ctrl-pos ctrl-pos ctrl-pos ctrl-pos ctrl-pos ctrl-pos ctrl-pos ctrl-pos\n",
       " [49] ctrl-pos ctrl-pos ctrl-pos ctrl-pos ctrl-pos ctrl-pos ctrl-pos ctrl-pos\n",
       " [57] ctrl-pos ctrl-pos ctrl-pos ctrl-pos ctrl-neg ctrl-neg ctrl-neg ctrl-neg\n",
       " [65] ctrl-neg ctrl-neg ctrl-neg ctrl-neg ctrl-neg ctrl-neg ctrl-neg ctrl-neg\n",
       " [73] ctrl-neg ctrl-neg ctrl-neg ctrl-neg ctrl-neg ctrl-neg ctrl-neg ctrl-neg\n",
       " [81] ctrl-neg ctrl-neg ctrl-neg ctrl-neg ctrl-neg ctrl-neg ctrl-neg ctrl-neg\n",
       " [89] ctrl-neg ctrl-neg drg1     drg1     drg1     drg1     drg1     drg1    \n",
       " [97] drg1     drg1     drg1     drg1     drg1     drg1     drg1     drg1    \n",
       "[105] drg1     drg1     drg1     drg1     drg1     drg1     drg1     drg1    \n",
       "[113] drg1     drg1     drg1     drg1     drg1     drg1     drg1     drg1    \n",
       "[121] drg2     drg2     drg2     drg2     drg2     drg2     drg2     drg2    \n",
       "[129] drg2     drg2     drg2     drg2     drg2     drg2     drg2     drg2    \n",
       "[137] drg2     drg2     drg2     drg2     drg2     drg2     drg2     drg2    \n",
       "[145] drg2     drg2     drg2     drg2     drg2     drg2     drg3     drg3    \n",
       "[153] drg3     drg3     drg3     drg3     drg3     drg3     drg3     drg3    \n",
       "[161] drg3     drg3     drg3     drg3     drg3     drg3     drg3     drg3    \n",
       "[169] drg3     drg3     drg3     drg3     drg3     drg3     drg3     drg3    \n",
       "[177] drg3     drg3     drg3     drg3    \n",
       "Levels: ctrl-pos control ctrl-neg drg1 drg2 drg3"
      ]
     },
     "metadata": {},
     "output_type": "display_data"
    }
   ],
   "source": [
    "df$group <- factor(df$group, levels = c(\"ctrl-pos\", \"control\", \"ctrl-neg\", 'drg1', 'drg2', 'drg3'))\n",
    "df$group"
   ]
  },
  {
   "cell_type": "code",
   "execution_count": 65,
   "metadata": {},
   "outputs": [
    {
     "data": {
      "text/plain": [
       "             Df  Sum Sq Mean Sq F value Pr(>F)    \n",
       "group         5 4705381  941076    2891 <2e-16 ***\n",
       "Residuals   174   56636     325                   \n",
       "---\n",
       "Signif. codes:  0 ‘***’ 0.001 ‘**’ 0.01 ‘*’ 0.05 ‘.’ 0.1 ‘ ’ 1"
      ]
     },
     "metadata": {},
     "output_type": "display_data"
    }
   ],
   "source": [
    "fit <- aov(val ~ group, df)\n",
    "summary(fit)"
   ]
  },
  {
   "cell_type": "code",
   "execution_count": 66,
   "metadata": {},
   "outputs": [
    {
     "data": {
      "text/plain": [
       "\n",
       "\t Simultaneous Tests for General Linear Hypotheses\n",
       "\n",
       "Multiple Comparisons of Means: Dunnett Contrasts\n",
       "\n",
       "\n",
       "Fit: aov(formula = val ~ group, data = df)\n",
       "\n",
       "Linear Hypotheses:\n",
       "                         Estimate Std. Error t value Pr(>|t|)    \n",
       "control - ctrl-pos == 0  -380.271      4.658 -81.634  < 0.001 ***\n",
       "ctrl-neg - ctrl-pos == 0 -358.543      4.658 -76.969  < 0.001 ***\n",
       "drg1 - ctrl-pos == 0       15.749      4.658   3.381  0.00407 ** \n",
       "drg2 - ctrl-pos == 0     -161.573      4.658 -34.685  < 0.001 ***\n",
       "drg3 - ctrl-pos == 0     -305.844      4.658 -65.656  < 0.001 ***\n",
       "---\n",
       "Signif. codes:  0 ‘***’ 0.001 ‘**’ 0.01 ‘*’ 0.05 ‘.’ 0.1 ‘ ’ 1\n",
       "(Adjusted p values reported -- single-step method)\n"
      ]
     },
     "metadata": {},
     "output_type": "display_data"
    }
   ],
   "source": [
    "dunnet <- glht(fit, linfct=mcp(group=\"Dunnett\"))\n",
    "summary(dunnet)"
   ]
  },
  {
   "cell_type": "code",
   "execution_count": 67,
   "metadata": {},
   "outputs": [
    {
     "data": {
      "text/html": [
       "<dl class=dl-horizontal>\n",
       "\t<dt>control - ctrl-pos</dt>\n",
       "\t\t<dd>-380.271336264651</dd>\n",
       "\t<dt>ctrl-neg - ctrl-pos</dt>\n",
       "\t\t<dd>-358.543205188288</dd>\n",
       "\t<dt>drg1 - ctrl-pos</dt>\n",
       "\t\t<dd>15.7493440424408</dd>\n",
       "\t<dt>drg2 - ctrl-pos</dt>\n",
       "\t\t<dd>-161.573193605504</dd>\n",
       "\t<dt>drg3 - ctrl-pos</dt>\n",
       "\t\t<dd>-305.844433170773</dd>\n",
       "</dl>\n"
      ],
      "text/latex": [
       "\\begin{description*}\n",
       "\\item[control - ctrl-pos] -380.271336264651\n",
       "\\item[ctrl-neg - ctrl-pos] -358.543205188288\n",
       "\\item[drg1 - ctrl-pos] 15.7493440424408\n",
       "\\item[drg2 - ctrl-pos] -161.573193605504\n",
       "\\item[drg3 - ctrl-pos] -305.844433170773\n",
       "\\end{description*}\n"
      ],
      "text/markdown": [
       "control - ctrl-pos\n",
       ":   -380.271336264651ctrl-neg - ctrl-pos\n",
       ":   -358.543205188288drg1 - ctrl-pos\n",
       ":   15.7493440424408drg2 - ctrl-pos\n",
       ":   -161.573193605504drg3 - ctrl-pos\n",
       ":   -305.844433170773\n",
       "\n"
      ],
      "text/plain": [
       " control - ctrl-pos ctrl-neg - ctrl-pos     drg1 - ctrl-pos     drg2 - ctrl-pos \n",
       "         -380.27134          -358.54321            15.74934          -161.57319 \n",
       "    drg3 - ctrl-pos \n",
       "         -305.84443 "
      ]
     },
     "metadata": {},
     "output_type": "display_data"
    }
   ],
   "source": [
    "coefficients(dunnet)"
   ]
  },
  {
   "cell_type": "code",
   "execution_count": 68,
   "metadata": {},
   "outputs": [
    {
     "data": {
      "text/plain": [
       "\n",
       "\t Simultaneous Tests for General Linear Hypotheses\n",
       "\n",
       "Multiple Comparisons of Means: Dunnett Contrasts\n",
       "\n",
       "\n",
       "Fit: aov(formula = val ~ group, data = df)\n",
       "\n",
       "Linear Hypotheses:\n",
       "                         Estimate Std. Error t value Pr(>|t|)    \n",
       "control - ctrl-pos == 0  -380.271      4.658 -81.634  < 0.001 ***\n",
       "ctrl-neg - ctrl-pos == 0 -358.543      4.658 -76.969  < 0.001 ***\n",
       "drg1 - ctrl-pos == 0       15.749      4.658   3.381  0.00409 ** \n",
       "drg2 - ctrl-pos == 0     -161.573      4.658 -34.685  < 0.001 ***\n",
       "drg3 - ctrl-pos == 0     -305.844      4.658 -65.656  < 0.001 ***\n",
       "---\n",
       "Signif. codes:  0 ‘***’ 0.001 ‘**’ 0.01 ‘*’ 0.05 ‘.’ 0.1 ‘ ’ 1\n",
       "(Adjusted p values reported -- single-step method)\n"
      ]
     },
     "metadata": {},
     "output_type": "display_data"
    }
   ],
   "source": [
    "summ <- summary(dunnet)\n",
    "summ"
   ]
  },
  {
   "cell_type": "code",
   "execution_count": 69,
   "metadata": {},
   "outputs": [],
   "source": [
    "# str(summ)"
   ]
  },
  {
   "cell_type": "code",
   "execution_count": 70,
   "metadata": {},
   "outputs": [
    {
     "data": {
      "text/html": [
       "<dl class=dl-horizontal>\n",
       "\t<dt>control - ctrl-pos</dt>\n",
       "\t\t<dd>-380.271336264651</dd>\n",
       "\t<dt>ctrl-neg - ctrl-pos</dt>\n",
       "\t\t<dd>-358.543205188288</dd>\n",
       "\t<dt>drg1 - ctrl-pos</dt>\n",
       "\t\t<dd>15.7493440424408</dd>\n",
       "\t<dt>drg2 - ctrl-pos</dt>\n",
       "\t\t<dd>-161.573193605504</dd>\n",
       "\t<dt>drg3 - ctrl-pos</dt>\n",
       "\t\t<dd>-305.844433170773</dd>\n",
       "</dl>\n"
      ],
      "text/latex": [
       "\\begin{description*}\n",
       "\\item[control - ctrl-pos] -380.271336264651\n",
       "\\item[ctrl-neg - ctrl-pos] -358.543205188288\n",
       "\\item[drg1 - ctrl-pos] 15.7493440424408\n",
       "\\item[drg2 - ctrl-pos] -161.573193605504\n",
       "\\item[drg3 - ctrl-pos] -305.844433170773\n",
       "\\end{description*}\n"
      ],
      "text/markdown": [
       "control - ctrl-pos\n",
       ":   -380.271336264651ctrl-neg - ctrl-pos\n",
       ":   -358.543205188288drg1 - ctrl-pos\n",
       ":   15.7493440424408drg2 - ctrl-pos\n",
       ":   -161.573193605504drg3 - ctrl-pos\n",
       ":   -305.844433170773\n",
       "\n"
      ],
      "text/plain": [
       " control - ctrl-pos ctrl-neg - ctrl-pos     drg1 - ctrl-pos     drg2 - ctrl-pos \n",
       "         -380.27134          -358.54321            15.74934          -161.57319 \n",
       "    drg3 - ctrl-pos \n",
       "         -305.84443 "
      ]
     },
     "metadata": {},
     "output_type": "display_data"
    }
   ],
   "source": [
    "summ$test$coefficients"
   ]
  },
  {
   "cell_type": "code",
   "execution_count": 71,
   "metadata": {},
   "outputs": [
    {
     "data": {
      "text/html": [
       "<dl class=dl-horizontal>\n",
       "\t<dt>control - ctrl-pos</dt>\n",
       "\t\t<dd>-81.6335215191503</dd>\n",
       "\t<dt>ctrl-neg - ctrl-pos</dt>\n",
       "\t\t<dd>-76.9691051231726</dd>\n",
       "\t<dt>drg1 - ctrl-pos</dt>\n",
       "\t\t<dd>3.38093959021494</dd>\n",
       "\t<dt>drg2 - ctrl-pos</dt>\n",
       "\t\t<dd>-34.6852037460254</dd>\n",
       "\t<dt>drg3 - ctrl-pos</dt>\n",
       "\t\t<dd>-65.6561663627013</dd>\n",
       "</dl>\n"
      ],
      "text/latex": [
       "\\begin{description*}\n",
       "\\item[control - ctrl-pos] -81.6335215191503\n",
       "\\item[ctrl-neg - ctrl-pos] -76.9691051231726\n",
       "\\item[drg1 - ctrl-pos] 3.38093959021494\n",
       "\\item[drg2 - ctrl-pos] -34.6852037460254\n",
       "\\item[drg3 - ctrl-pos] -65.6561663627013\n",
       "\\end{description*}\n"
      ],
      "text/markdown": [
       "control - ctrl-pos\n",
       ":   -81.6335215191503ctrl-neg - ctrl-pos\n",
       ":   -76.9691051231726drg1 - ctrl-pos\n",
       ":   3.38093959021494drg2 - ctrl-pos\n",
       ":   -34.6852037460254drg3 - ctrl-pos\n",
       ":   -65.6561663627013\n",
       "\n"
      ],
      "text/plain": [
       " control - ctrl-pos ctrl-neg - ctrl-pos     drg1 - ctrl-pos     drg2 - ctrl-pos \n",
       "          -81.63352           -76.96911             3.38094           -34.68520 \n",
       "    drg3 - ctrl-pos \n",
       "          -65.65617 "
      ]
     },
     "metadata": {},
     "output_type": "display_data"
    }
   ],
   "source": [
    "summ$test$tstat"
   ]
  },
  {
   "cell_type": "code",
   "execution_count": 72,
   "metadata": {},
   "outputs": [
    {
     "data": {
      "text/html": [
       "<ol class=list-inline>\n",
       "\t<li>0</li>\n",
       "\t<li>0</li>\n",
       "\t<li>0.00408586009534462</li>\n",
       "\t<li>0</li>\n",
       "\t<li>0</li>\n",
       "</ol>\n"
      ],
      "text/latex": [
       "\\begin{enumerate*}\n",
       "\\item 0\n",
       "\\item 0\n",
       "\\item 0.00408586009534462\n",
       "\\item 0\n",
       "\\item 0\n",
       "\\end{enumerate*}\n"
      ],
      "text/markdown": [
       "1. 0\n",
       "2. 0\n",
       "3. 0.00408586009534462\n",
       "4. 0\n",
       "5. 0\n",
       "\n",
       "\n"
      ],
      "text/plain": [
       "[1] 0.00000000 0.00000000 0.00408586 0.00000000 0.00000000\n",
       "attr(,\"error\")\n",
       "[1] 0.0001941018"
      ]
     },
     "metadata": {},
     "output_type": "display_data"
    }
   ],
   "source": [
    "summ$test$pvalues"
   ]
  },
  {
   "cell_type": "code",
   "execution_count": null,
   "metadata": {},
   "outputs": [],
   "source": []
  },
  {
   "cell_type": "code",
   "execution_count": 35,
   "metadata": {},
   "outputs": [
    {
     "ename": "ERROR",
     "evalue": "Error in model(dunnet): could not find function \"model\"\n",
     "output_type": "error",
     "traceback": [
      "Error in model(dunnet): could not find function \"model\"\nTraceback:\n"
     ]
    }
   ],
   "source": [
    "model(dunnet)"
   ]
  },
  {
   "cell_type": "code",
   "execution_count": 74,
   "metadata": {},
   "outputs": [],
   "source": [
    "# str(dunnet)"
   ]
  },
  {
   "cell_type": "code",
   "execution_count": 40,
   "metadata": {},
   "outputs": [
    {
     "data": {
      "text/plain": [
       "$model\n",
       "Call:\n",
       "   aov(formula = val ~ group, data = df)\n",
       "\n",
       "Terms:\n",
       "                  group Residuals\n",
       "Sum of Squares  4705381     56636\n",
       "Deg. of Freedom       5       174\n",
       "\n",
       "Residual standard error: 18.04142\n",
       "Estimated effects may be unbalanced\n"
      ]
     },
     "metadata": {},
     "output_type": "display_data"
    }
   ],
   "source": [
    "dunnet[1]"
   ]
  },
  {
   "cell_type": "code",
   "execution_count": 41,
   "metadata": {},
   "outputs": [
    {
     "data": {
      "text/html": [
       "<strong>$linfct</strong> = <table>\n",
       "<thead><tr><th></th><th scope=col>(Intercept)</th><th scope=col>groupctrl-neg</th><th scope=col>groupctrl-pos</th><th scope=col>groupdrg1</th><th scope=col>groupdrg2</th><th scope=col>groupdrg3</th></tr></thead>\n",
       "<tbody>\n",
       "\t<tr><th scope=row>ctrl-neg - control</th><td>0</td><td>1</td><td>0</td><td>0</td><td>0</td><td>0</td></tr>\n",
       "\t<tr><th scope=row>ctrl-pos - control</th><td>0</td><td>0</td><td>1</td><td>0</td><td>0</td><td>0</td></tr>\n",
       "\t<tr><th scope=row>drg1 - control</th><td>0</td><td>0</td><td>0</td><td>1</td><td>0</td><td>0</td></tr>\n",
       "\t<tr><th scope=row>drg2 - control</th><td>0</td><td>0</td><td>0</td><td>0</td><td>1</td><td>0</td></tr>\n",
       "\t<tr><th scope=row>drg3 - control</th><td>0</td><td>0</td><td>0</td><td>0</td><td>0</td><td>1</td></tr>\n",
       "</tbody>\n",
       "</table>\n"
      ],
      "text/latex": [
       "\\textbf{\\$linfct} = \\begin{tabular}{r|llllll}\n",
       "  & (Intercept) & groupctrl-neg & groupctrl-pos & groupdrg1 & groupdrg2 & groupdrg3\\\\\n",
       "\\hline\n",
       "\tctrl-neg - control & 0 & 1 & 0 & 0 & 0 & 0\\\\\n",
       "\tctrl-pos - control & 0 & 0 & 1 & 0 & 0 & 0\\\\\n",
       "\tdrg1 - control & 0 & 0 & 0 & 1 & 0 & 0\\\\\n",
       "\tdrg2 - control & 0 & 0 & 0 & 0 & 1 & 0\\\\\n",
       "\tdrg3 - control & 0 & 0 & 0 & 0 & 0 & 1\\\\\n",
       "\\end{tabular}\n"
      ],
      "text/markdown": [
       "**$linfct** = \n",
       "| <!--/--> | (Intercept) | groupctrl-neg | groupctrl-pos | groupdrg1 | groupdrg2 | groupdrg3 | \n",
       "|---|---|---|---|---|\n",
       "| ctrl-neg - control | 0 | 1 | 0 | 0 | 0 | 0 | \n",
       "| ctrl-pos - control | 0 | 0 | 1 | 0 | 0 | 0 | \n",
       "| drg1 - control | 0 | 0 | 0 | 1 | 0 | 0 | \n",
       "| drg2 - control | 0 | 0 | 0 | 0 | 1 | 0 | \n",
       "| drg3 - control | 0 | 0 | 0 | 0 | 0 | 1 | \n",
       "\n",
       "\n"
      ],
      "text/plain": [
       "$linfct\n",
       "                   (Intercept) groupctrl-neg groupctrl-pos groupdrg1 groupdrg2\n",
       "ctrl-neg - control           0             1             0         0         0\n",
       "ctrl-pos - control           0             0             1         0         0\n",
       "drg1 - control               0             0             0         1         0\n",
       "drg2 - control               0             0             0         0         1\n",
       "drg3 - control               0             0             0         0         0\n",
       "                   groupdrg3\n",
       "ctrl-neg - control         0\n",
       "ctrl-pos - control         0\n",
       "drg1 - control             0\n",
       "drg2 - control             0\n",
       "drg3 - control             1\n",
       "attr(,\"type\")\n",
       "[1] \"Dunnett\"\n"
      ]
     },
     "metadata": {},
     "output_type": "display_data"
    }
   ],
   "source": [
    "dunnet[2]"
   ]
  },
  {
   "cell_type": "code",
   "execution_count": 42,
   "metadata": {},
   "outputs": [
    {
     "data": {
      "text/html": [
       "<strong>$rhs</strong> = <ol class=list-inline>\n",
       "\t<li>0</li>\n",
       "\t<li>0</li>\n",
       "\t<li>0</li>\n",
       "\t<li>0</li>\n",
       "\t<li>0</li>\n",
       "</ol>\n"
      ],
      "text/latex": [
       "\\textbf{\\$rhs} = \\begin{enumerate*}\n",
       "\\item 0\n",
       "\\item 0\n",
       "\\item 0\n",
       "\\item 0\n",
       "\\item 0\n",
       "\\end{enumerate*}\n"
      ],
      "text/markdown": [
       "**$rhs** = 1. 0\n",
       "2. 0\n",
       "3. 0\n",
       "4. 0\n",
       "5. 0\n",
       "\n",
       "\n"
      ],
      "text/plain": [
       "$rhs\n",
       "[1] 0 0 0 0 0\n"
      ]
     },
     "metadata": {},
     "output_type": "display_data"
    }
   ],
   "source": [
    "dunnet[3]"
   ]
  },
  {
   "cell_type": "code",
   "execution_count": 43,
   "metadata": {},
   "outputs": [
    {
     "data": {
      "text/html": [
       "<strong>$coef</strong> = <dl class=dl-horizontal>\n",
       "\t<dt>(Intercept)</dt>\n",
       "\t\t<dd>18.4591360762117</dd>\n",
       "\t<dt>groupctrl-neg</dt>\n",
       "\t\t<dd>21.7281310763626</dd>\n",
       "\t<dt>groupctrl-pos</dt>\n",
       "\t\t<dd>380.271336264651</dd>\n",
       "\t<dt>groupdrg1</dt>\n",
       "\t\t<dd>396.020680307091</dd>\n",
       "\t<dt>groupdrg2</dt>\n",
       "\t\t<dd>218.698142659147</dd>\n",
       "\t<dt>groupdrg3</dt>\n",
       "\t\t<dd>74.4269030938775</dd>\n",
       "</dl>\n"
      ],
      "text/latex": [
       "\\textbf{\\$coef} = \\begin{description*}\n",
       "\\item[(Intercept)] 18.4591360762117\n",
       "\\item[groupctrl-neg] 21.7281310763626\n",
       "\\item[groupctrl-pos] 380.271336264651\n",
       "\\item[groupdrg1] 396.020680307091\n",
       "\\item[groupdrg2] 218.698142659147\n",
       "\\item[groupdrg3] 74.4269030938775\n",
       "\\end{description*}\n"
      ],
      "text/markdown": [
       "**$coef** = (Intercept)\n",
       ":   18.4591360762117groupctrl-neg\n",
       ":   21.7281310763626groupctrl-pos\n",
       ":   380.271336264651groupdrg1\n",
       ":   396.020680307091groupdrg2\n",
       ":   218.698142659147groupdrg3\n",
       ":   74.4269030938775\n",
       "\n"
      ],
      "text/plain": [
       "$coef\n",
       "  (Intercept) groupctrl-neg groupctrl-pos     groupdrg1     groupdrg2 \n",
       "     18.45914      21.72813     380.27134     396.02068     218.69814 \n",
       "    groupdrg3 \n",
       "     74.42690 \n"
      ]
     },
     "metadata": {},
     "output_type": "display_data"
    }
   ],
   "source": [
    "dunnet[4]"
   ]
  },
  {
   "cell_type": "code",
   "execution_count": 44,
   "metadata": {},
   "outputs": [
    {
     "data": {
      "text/html": [
       "<strong>$vcov</strong> = <table>\n",
       "<thead><tr><th></th><th scope=col>(Intercept)</th><th scope=col>groupctrl-neg</th><th scope=col>groupctrl-pos</th><th scope=col>groupdrg1</th><th scope=col>groupdrg2</th><th scope=col>groupdrg3</th></tr></thead>\n",
       "<tbody>\n",
       "\t<tr><th scope=row>(Intercept)</th><td> 10.84976</td><td>-10.84976</td><td>-10.84976</td><td>-10.84976</td><td>-10.84976</td><td>-10.84976</td></tr>\n",
       "\t<tr><th scope=row>groupctrl-neg</th><td>-10.84976</td><td> 21.69952</td><td> 10.84976</td><td> 10.84976</td><td> 10.84976</td><td> 10.84976</td></tr>\n",
       "\t<tr><th scope=row>groupctrl-pos</th><td>-10.84976</td><td> 10.84976</td><td> 21.69952</td><td> 10.84976</td><td> 10.84976</td><td> 10.84976</td></tr>\n",
       "\t<tr><th scope=row>groupdrg1</th><td>-10.84976</td><td> 10.84976</td><td> 10.84976</td><td> 21.69952</td><td> 10.84976</td><td> 10.84976</td></tr>\n",
       "\t<tr><th scope=row>groupdrg2</th><td>-10.84976</td><td> 10.84976</td><td> 10.84976</td><td> 10.84976</td><td> 21.69952</td><td> 10.84976</td></tr>\n",
       "\t<tr><th scope=row>groupdrg3</th><td>-10.84976</td><td> 10.84976</td><td> 10.84976</td><td> 10.84976</td><td> 10.84976</td><td> 21.69952</td></tr>\n",
       "</tbody>\n",
       "</table>\n"
      ],
      "text/latex": [
       "\\textbf{\\$vcov} = \\begin{tabular}{r|llllll}\n",
       "  & (Intercept) & groupctrl-neg & groupctrl-pos & groupdrg1 & groupdrg2 & groupdrg3\\\\\n",
       "\\hline\n",
       "\t(Intercept) &  10.84976 & -10.84976 & -10.84976 & -10.84976 & -10.84976 & -10.84976\\\\\n",
       "\tgroupctrl-neg & -10.84976 &  21.69952 &  10.84976 &  10.84976 &  10.84976 &  10.84976\\\\\n",
       "\tgroupctrl-pos & -10.84976 &  10.84976 &  21.69952 &  10.84976 &  10.84976 &  10.84976\\\\\n",
       "\tgroupdrg1 & -10.84976 &  10.84976 &  10.84976 &  21.69952 &  10.84976 &  10.84976\\\\\n",
       "\tgroupdrg2 & -10.84976 &  10.84976 &  10.84976 &  10.84976 &  21.69952 &  10.84976\\\\\n",
       "\tgroupdrg3 & -10.84976 &  10.84976 &  10.84976 &  10.84976 &  10.84976 &  21.69952\\\\\n",
       "\\end{tabular}\n"
      ],
      "text/markdown": [
       "**$vcov** = \n",
       "| <!--/--> | (Intercept) | groupctrl-neg | groupctrl-pos | groupdrg1 | groupdrg2 | groupdrg3 | \n",
       "|---|---|---|---|---|---|\n",
       "| (Intercept) |  10.84976 | -10.84976 | -10.84976 | -10.84976 | -10.84976 | -10.84976 | \n",
       "| groupctrl-neg | -10.84976 |  21.69952 |  10.84976 |  10.84976 |  10.84976 |  10.84976 | \n",
       "| groupctrl-pos | -10.84976 |  10.84976 |  21.69952 |  10.84976 |  10.84976 |  10.84976 | \n",
       "| groupdrg1 | -10.84976 |  10.84976 |  10.84976 |  21.69952 |  10.84976 |  10.84976 | \n",
       "| groupdrg2 | -10.84976 |  10.84976 |  10.84976 |  10.84976 |  21.69952 |  10.84976 | \n",
       "| groupdrg3 | -10.84976 |  10.84976 |  10.84976 |  10.84976 |  10.84976 |  21.69952 | \n",
       "\n",
       "\n"
      ],
      "text/plain": [
       "$vcov\n",
       "              (Intercept) groupctrl-neg groupctrl-pos groupdrg1 groupdrg2\n",
       "(Intercept)      10.84976     -10.84976     -10.84976 -10.84976 -10.84976\n",
       "groupctrl-neg   -10.84976      21.69952      10.84976  10.84976  10.84976\n",
       "groupctrl-pos   -10.84976      10.84976      21.69952  10.84976  10.84976\n",
       "groupdrg1       -10.84976      10.84976      10.84976  21.69952  10.84976\n",
       "groupdrg2       -10.84976      10.84976      10.84976  10.84976  21.69952\n",
       "groupdrg3       -10.84976      10.84976      10.84976  10.84976  10.84976\n",
       "              groupdrg3\n",
       "(Intercept)   -10.84976\n",
       "groupctrl-neg  10.84976\n",
       "groupctrl-pos  10.84976\n",
       "groupdrg1      10.84976\n",
       "groupdrg2      10.84976\n",
       "groupdrg3      21.69952\n"
      ]
     },
     "metadata": {},
     "output_type": "display_data"
    }
   ],
   "source": [
    "dunnet[5]"
   ]
  },
  {
   "cell_type": "code",
   "execution_count": 45,
   "metadata": {},
   "outputs": [
    {
     "data": {
      "text/html": [
       "<strong>$df</strong> = 174"
      ],
      "text/latex": [
       "\\textbf{\\$df} = 174"
      ],
      "text/markdown": [
       "**$df** = 174"
      ],
      "text/plain": [
       "$df\n",
       "[1] 174\n"
      ]
     },
     "metadata": {},
     "output_type": "display_data"
    }
   ],
   "source": [
    "dunnet[6]"
   ]
  },
  {
   "cell_type": "code",
   "execution_count": 46,
   "metadata": {},
   "outputs": [
    {
     "data": {
      "text/html": [
       "<strong>$alternative</strong> = 'two.sided'"
      ],
      "text/latex": [
       "\\textbf{\\$alternative} = 'two.sided'"
      ],
      "text/markdown": [
       "**$alternative** = 'two.sided'"
      ],
      "text/plain": [
       "$alternative\n",
       "[1] \"two.sided\"\n"
      ]
     },
     "metadata": {},
     "output_type": "display_data"
    }
   ],
   "source": [
    "dunnet[7]"
   ]
  },
  {
   "cell_type": "code",
   "execution_count": 47,
   "metadata": {},
   "outputs": [
    {
     "data": {
      "text/html": [
       "<strong>$type</strong> = 'Dunnett'"
      ],
      "text/latex": [
       "\\textbf{\\$type} = 'Dunnett'"
      ],
      "text/markdown": [
       "**$type** = 'Dunnett'"
      ],
      "text/plain": [
       "$type\n",
       "[1] \"Dunnett\"\n"
      ]
     },
     "metadata": {},
     "output_type": "display_data"
    }
   ],
   "source": [
    "dunnet[8]"
   ]
  },
  {
   "cell_type": "code",
   "execution_count": 48,
   "metadata": {},
   "outputs": [
    {
     "data": {
      "text/html": [
       "<strong>$focus</strong> = 'group'"
      ],
      "text/latex": [
       "\\textbf{\\$focus} = 'group'"
      ],
      "text/markdown": [
       "**$focus** = 'group'"
      ],
      "text/plain": [
       "$focus\n",
       "[1] \"group\"\n"
      ]
     },
     "metadata": {},
     "output_type": "display_data"
    }
   ],
   "source": [
    "dunnet[9]"
   ]
  }
 ],
 "metadata": {
  "kernelspec": {
   "display_name": "R",
   "language": "R",
   "name": "ir"
  },
  "language_info": {
   "codemirror_mode": "r",
   "file_extension": ".r",
   "mimetype": "text/x-r-source",
   "name": "R",
   "pygments_lexer": "r",
   "version": "3.5.1"
  }
 },
 "nbformat": 4,
 "nbformat_minor": 4
}
